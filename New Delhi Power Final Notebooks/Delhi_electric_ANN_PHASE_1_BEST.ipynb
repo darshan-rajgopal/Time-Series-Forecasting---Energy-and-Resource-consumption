{
 "cells": [
  {
   "cell_type": "code",
   "execution_count": 1,
   "id": "c2ef9b47",
   "metadata": {
    "id": "c2ef9b47"
   },
   "outputs": [],
   "source": [
    "import numpy as np\n",
    "import pandas as pd\n",
    "from tensorflow.keras.models import Sequential\n",
    "from tensorflow.keras.layers import LSTM\n",
    "from tensorflow.keras.layers import Dense\n",
    "from tensorflow.keras.layers import Flatten\n",
    "import matplotlib.pyplot as plt\n",
    "import warnings\n",
    "warnings.filterwarnings('ignore')\n",
    "%matplotlib inline"
   ]
  },
  {
   "cell_type": "code",
   "execution_count": 2,
   "id": "iGQk9lcRmucZ",
   "metadata": {
    "colab": {
     "base_uri": "https://localhost:8080/"
    },
    "id": "iGQk9lcRmucZ",
    "outputId": "019169a3-73f8-4664-81b3-f68a7eeaf3ff"
   },
   "outputs": [
    {
     "name": "stdout",
     "output_type": "stream",
     "text": [
      "Mounted at /content/drive\n"
     ]
    }
   ],
   "source": [
    "from google.colab import drive\n",
    "drive.mount('/content/drive')"
   ]
  },
  {
   "cell_type": "code",
   "execution_count": null,
   "id": "BxDZtfokj6Da",
   "metadata": {
    "id": "BxDZtfokj6Da"
   },
   "outputs": [],
   "source": [
    "import tensorflow as tf\n",
    "tf.test.gpu_device_name()"
   ]
  },
  {
   "cell_type": "code",
   "execution_count": null,
   "id": "UDt4KrAxj6JS",
   "metadata": {
    "id": "UDt4KrAxj6JS"
   },
   "outputs": [],
   "source": [
    "from tensorflow.python.client import device_lib\n",
    "device_lib.list_local_devices()"
   ]
  },
  {
   "cell_type": "code",
   "execution_count": 3,
   "id": "30d066a0",
   "metadata": {
    "colab": {
     "base_uri": "https://localhost:8080/",
     "height": 206
    },
    "id": "30d066a0",
    "outputId": "57f8929a-3c1d-47e2-c48c-0a09e0bbff2b"
   },
   "outputs": [
    {
     "data": {
      "text/html": [
       "\n",
       "  <div id=\"df-74761d33-1508-4d42-b911-fa28df1bd7ea\">\n",
       "    <div class=\"colab-df-container\">\n",
       "      <div>\n",
       "<style scoped>\n",
       "    .dataframe tbody tr th:only-of-type {\n",
       "        vertical-align: middle;\n",
       "    }\n",
       "\n",
       "    .dataframe tbody tr th {\n",
       "        vertical-align: top;\n",
       "    }\n",
       "\n",
       "    .dataframe thead th {\n",
       "        text-align: right;\n",
       "    }\n",
       "</style>\n",
       "<table border=\"1\" class=\"dataframe\">\n",
       "  <thead>\n",
       "    <tr style=\"text-align: right;\">\n",
       "      <th></th>\n",
       "      <th>States</th>\n",
       "      <th>Regions</th>\n",
       "      <th>latitude</th>\n",
       "      <th>longitude</th>\n",
       "      <th>Dates</th>\n",
       "      <th>Usage</th>\n",
       "    </tr>\n",
       "  </thead>\n",
       "  <tbody>\n",
       "    <tr>\n",
       "      <th>0</th>\n",
       "      <td>Punjab</td>\n",
       "      <td>NR</td>\n",
       "      <td>31.519974</td>\n",
       "      <td>75.980003</td>\n",
       "      <td>02/01/2019 00:00:00</td>\n",
       "      <td>119.9</td>\n",
       "    </tr>\n",
       "    <tr>\n",
       "      <th>1</th>\n",
       "      <td>Haryana</td>\n",
       "      <td>NR</td>\n",
       "      <td>28.450006</td>\n",
       "      <td>77.019991</td>\n",
       "      <td>02/01/2019 00:00:00</td>\n",
       "      <td>130.3</td>\n",
       "    </tr>\n",
       "    <tr>\n",
       "      <th>2</th>\n",
       "      <td>Rajasthan</td>\n",
       "      <td>NR</td>\n",
       "      <td>26.449999</td>\n",
       "      <td>74.639981</td>\n",
       "      <td>02/01/2019 00:00:00</td>\n",
       "      <td>234.1</td>\n",
       "    </tr>\n",
       "    <tr>\n",
       "      <th>3</th>\n",
       "      <td>Delhi</td>\n",
       "      <td>NR</td>\n",
       "      <td>28.669993</td>\n",
       "      <td>77.230004</td>\n",
       "      <td>02/01/2019 00:00:00</td>\n",
       "      <td>85.8</td>\n",
       "    </tr>\n",
       "    <tr>\n",
       "      <th>4</th>\n",
       "      <td>UP</td>\n",
       "      <td>NR</td>\n",
       "      <td>27.599981</td>\n",
       "      <td>78.050006</td>\n",
       "      <td>02/01/2019 00:00:00</td>\n",
       "      <td>313.9</td>\n",
       "    </tr>\n",
       "  </tbody>\n",
       "</table>\n",
       "</div>\n",
       "      <button class=\"colab-df-convert\" onclick=\"convertToInteractive('df-74761d33-1508-4d42-b911-fa28df1bd7ea')\"\n",
       "              title=\"Convert this dataframe to an interactive table.\"\n",
       "              style=\"display:none;\">\n",
       "        \n",
       "  <svg xmlns=\"http://www.w3.org/2000/svg\" height=\"24px\"viewBox=\"0 0 24 24\"\n",
       "       width=\"24px\">\n",
       "    <path d=\"M0 0h24v24H0V0z\" fill=\"none\"/>\n",
       "    <path d=\"M18.56 5.44l.94 2.06.94-2.06 2.06-.94-2.06-.94-.94-2.06-.94 2.06-2.06.94zm-11 1L8.5 8.5l.94-2.06 2.06-.94-2.06-.94L8.5 2.5l-.94 2.06-2.06.94zm10 10l.94 2.06.94-2.06 2.06-.94-2.06-.94-.94-2.06-.94 2.06-2.06.94z\"/><path d=\"M17.41 7.96l-1.37-1.37c-.4-.4-.92-.59-1.43-.59-.52 0-1.04.2-1.43.59L10.3 9.45l-7.72 7.72c-.78.78-.78 2.05 0 2.83L4 21.41c.39.39.9.59 1.41.59.51 0 1.02-.2 1.41-.59l7.78-7.78 2.81-2.81c.8-.78.8-2.07 0-2.86zM5.41 20L4 18.59l7.72-7.72 1.47 1.35L5.41 20z\"/>\n",
       "  </svg>\n",
       "      </button>\n",
       "      \n",
       "  <style>\n",
       "    .colab-df-container {\n",
       "      display:flex;\n",
       "      flex-wrap:wrap;\n",
       "      gap: 12px;\n",
       "    }\n",
       "\n",
       "    .colab-df-convert {\n",
       "      background-color: #E8F0FE;\n",
       "      border: none;\n",
       "      border-radius: 50%;\n",
       "      cursor: pointer;\n",
       "      display: none;\n",
       "      fill: #1967D2;\n",
       "      height: 32px;\n",
       "      padding: 0 0 0 0;\n",
       "      width: 32px;\n",
       "    }\n",
       "\n",
       "    .colab-df-convert:hover {\n",
       "      background-color: #E2EBFA;\n",
       "      box-shadow: 0px 1px 2px rgba(60, 64, 67, 0.3), 0px 1px 3px 1px rgba(60, 64, 67, 0.15);\n",
       "      fill: #174EA6;\n",
       "    }\n",
       "\n",
       "    [theme=dark] .colab-df-convert {\n",
       "      background-color: #3B4455;\n",
       "      fill: #D2E3FC;\n",
       "    }\n",
       "\n",
       "    [theme=dark] .colab-df-convert:hover {\n",
       "      background-color: #434B5C;\n",
       "      box-shadow: 0px 1px 3px 1px rgba(0, 0, 0, 0.15);\n",
       "      filter: drop-shadow(0px 1px 2px rgba(0, 0, 0, 0.3));\n",
       "      fill: #FFFFFF;\n",
       "    }\n",
       "  </style>\n",
       "\n",
       "      <script>\n",
       "        const buttonEl =\n",
       "          document.querySelector('#df-74761d33-1508-4d42-b911-fa28df1bd7ea button.colab-df-convert');\n",
       "        buttonEl.style.display =\n",
       "          google.colab.kernel.accessAllowed ? 'block' : 'none';\n",
       "\n",
       "        async function convertToInteractive(key) {\n",
       "          const element = document.querySelector('#df-74761d33-1508-4d42-b911-fa28df1bd7ea');\n",
       "          const dataTable =\n",
       "            await google.colab.kernel.invokeFunction('convertToInteractive',\n",
       "                                                     [key], {});\n",
       "          if (!dataTable) return;\n",
       "\n",
       "          const docLinkHtml = 'Like what you see? Visit the ' +\n",
       "            '<a target=\"_blank\" href=https://colab.research.google.com/notebooks/data_table.ipynb>data table notebook</a>'\n",
       "            + ' to learn more about interactive tables.';\n",
       "          element.innerHTML = '';\n",
       "          dataTable['output_type'] = 'display_data';\n",
       "          await google.colab.output.renderOutput(dataTable, element);\n",
       "          const docLink = document.createElement('div');\n",
       "          docLink.innerHTML = docLinkHtml;\n",
       "          element.appendChild(docLink);\n",
       "        }\n",
       "      </script>\n",
       "    </div>\n",
       "  </div>\n",
       "  "
      ],
      "text/plain": [
       "      States Regions   latitude  longitude                Dates  Usage\n",
       "0     Punjab      NR  31.519974  75.980003  02/01/2019 00:00:00  119.9\n",
       "1    Haryana      NR  28.450006  77.019991  02/01/2019 00:00:00  130.3\n",
       "2  Rajasthan      NR  26.449999  74.639981  02/01/2019 00:00:00  234.1\n",
       "3      Delhi      NR  28.669993  77.230004  02/01/2019 00:00:00   85.8\n",
       "4         UP      NR  27.599981  78.050006  02/01/2019 00:00:00  313.9"
      ]
     },
     "execution_count": 3,
     "metadata": {},
     "output_type": "execute_result"
    }
   ],
   "source": [
    "df = pd.read_csv('/content/drive/MyDrive/Colab Notebooks/Energy/Energy_consumption_India_2.csv')\n",
    "df.head()"
   ]
  },
  {
   "cell_type": "code",
   "execution_count": 4,
   "id": "e2663bb4",
   "metadata": {
    "colab": {
     "base_uri": "https://localhost:8080/",
     "height": 206
    },
    "id": "e2663bb4",
    "outputId": "8e7f07d0-0c52-41a4-e09d-72fe22979b3b"
   },
   "outputs": [
    {
     "data": {
      "text/html": [
       "\n",
       "  <div id=\"df-a6363298-ab6f-402f-8093-359c1e15caee\">\n",
       "    <div class=\"colab-df-container\">\n",
       "      <div>\n",
       "<style scoped>\n",
       "    .dataframe tbody tr th:only-of-type {\n",
       "        vertical-align: middle;\n",
       "    }\n",
       "\n",
       "    .dataframe tbody tr th {\n",
       "        vertical-align: top;\n",
       "    }\n",
       "\n",
       "    .dataframe thead th {\n",
       "        text-align: right;\n",
       "    }\n",
       "</style>\n",
       "<table border=\"1\" class=\"dataframe\">\n",
       "  <thead>\n",
       "    <tr style=\"text-align: right;\">\n",
       "      <th></th>\n",
       "      <th>States</th>\n",
       "      <th>Regions</th>\n",
       "      <th>latitude</th>\n",
       "      <th>longitude</th>\n",
       "      <th>Dates</th>\n",
       "      <th>Usage</th>\n",
       "    </tr>\n",
       "  </thead>\n",
       "  <tbody>\n",
       "    <tr>\n",
       "      <th>16594</th>\n",
       "      <td>Manipur</td>\n",
       "      <td>NER</td>\n",
       "      <td>24.799971</td>\n",
       "      <td>93.950017</td>\n",
       "      <td>05/12/2020 00:00:00</td>\n",
       "      <td>2.5</td>\n",
       "    </tr>\n",
       "    <tr>\n",
       "      <th>16595</th>\n",
       "      <td>Meghalaya</td>\n",
       "      <td>NER</td>\n",
       "      <td>25.570492</td>\n",
       "      <td>91.880014</td>\n",
       "      <td>05/12/2020 00:00:00</td>\n",
       "      <td>5.8</td>\n",
       "    </tr>\n",
       "    <tr>\n",
       "      <th>16596</th>\n",
       "      <td>Mizoram</td>\n",
       "      <td>NER</td>\n",
       "      <td>23.710399</td>\n",
       "      <td>92.720015</td>\n",
       "      <td>05/12/2020 00:00:00</td>\n",
       "      <td>1.6</td>\n",
       "    </tr>\n",
       "    <tr>\n",
       "      <th>16597</th>\n",
       "      <td>Nagaland</td>\n",
       "      <td>NER</td>\n",
       "      <td>25.666998</td>\n",
       "      <td>94.116570</td>\n",
       "      <td>05/12/2020 00:00:00</td>\n",
       "      <td>2.1</td>\n",
       "    </tr>\n",
       "    <tr>\n",
       "      <th>16598</th>\n",
       "      <td>Tripura</td>\n",
       "      <td>NER</td>\n",
       "      <td>23.835404</td>\n",
       "      <td>91.279999</td>\n",
       "      <td>05/12/2020 00:00:00</td>\n",
       "      <td>3.3</td>\n",
       "    </tr>\n",
       "  </tbody>\n",
       "</table>\n",
       "</div>\n",
       "      <button class=\"colab-df-convert\" onclick=\"convertToInteractive('df-a6363298-ab6f-402f-8093-359c1e15caee')\"\n",
       "              title=\"Convert this dataframe to an interactive table.\"\n",
       "              style=\"display:none;\">\n",
       "        \n",
       "  <svg xmlns=\"http://www.w3.org/2000/svg\" height=\"24px\"viewBox=\"0 0 24 24\"\n",
       "       width=\"24px\">\n",
       "    <path d=\"M0 0h24v24H0V0z\" fill=\"none\"/>\n",
       "    <path d=\"M18.56 5.44l.94 2.06.94-2.06 2.06-.94-2.06-.94-.94-2.06-.94 2.06-2.06.94zm-11 1L8.5 8.5l.94-2.06 2.06-.94-2.06-.94L8.5 2.5l-.94 2.06-2.06.94zm10 10l.94 2.06.94-2.06 2.06-.94-2.06-.94-.94-2.06-.94 2.06-2.06.94z\"/><path d=\"M17.41 7.96l-1.37-1.37c-.4-.4-.92-.59-1.43-.59-.52 0-1.04.2-1.43.59L10.3 9.45l-7.72 7.72c-.78.78-.78 2.05 0 2.83L4 21.41c.39.39.9.59 1.41.59.51 0 1.02-.2 1.41-.59l7.78-7.78 2.81-2.81c.8-.78.8-2.07 0-2.86zM5.41 20L4 18.59l7.72-7.72 1.47 1.35L5.41 20z\"/>\n",
       "  </svg>\n",
       "      </button>\n",
       "      \n",
       "  <style>\n",
       "    .colab-df-container {\n",
       "      display:flex;\n",
       "      flex-wrap:wrap;\n",
       "      gap: 12px;\n",
       "    }\n",
       "\n",
       "    .colab-df-convert {\n",
       "      background-color: #E8F0FE;\n",
       "      border: none;\n",
       "      border-radius: 50%;\n",
       "      cursor: pointer;\n",
       "      display: none;\n",
       "      fill: #1967D2;\n",
       "      height: 32px;\n",
       "      padding: 0 0 0 0;\n",
       "      width: 32px;\n",
       "    }\n",
       "\n",
       "    .colab-df-convert:hover {\n",
       "      background-color: #E2EBFA;\n",
       "      box-shadow: 0px 1px 2px rgba(60, 64, 67, 0.3), 0px 1px 3px 1px rgba(60, 64, 67, 0.15);\n",
       "      fill: #174EA6;\n",
       "    }\n",
       "\n",
       "    [theme=dark] .colab-df-convert {\n",
       "      background-color: #3B4455;\n",
       "      fill: #D2E3FC;\n",
       "    }\n",
       "\n",
       "    [theme=dark] .colab-df-convert:hover {\n",
       "      background-color: #434B5C;\n",
       "      box-shadow: 0px 1px 3px 1px rgba(0, 0, 0, 0.15);\n",
       "      filter: drop-shadow(0px 1px 2px rgba(0, 0, 0, 0.3));\n",
       "      fill: #FFFFFF;\n",
       "    }\n",
       "  </style>\n",
       "\n",
       "      <script>\n",
       "        const buttonEl =\n",
       "          document.querySelector('#df-a6363298-ab6f-402f-8093-359c1e15caee button.colab-df-convert');\n",
       "        buttonEl.style.display =\n",
       "          google.colab.kernel.accessAllowed ? 'block' : 'none';\n",
       "\n",
       "        async function convertToInteractive(key) {\n",
       "          const element = document.querySelector('#df-a6363298-ab6f-402f-8093-359c1e15caee');\n",
       "          const dataTable =\n",
       "            await google.colab.kernel.invokeFunction('convertToInteractive',\n",
       "                                                     [key], {});\n",
       "          if (!dataTable) return;\n",
       "\n",
       "          const docLinkHtml = 'Like what you see? Visit the ' +\n",
       "            '<a target=\"_blank\" href=https://colab.research.google.com/notebooks/data_table.ipynb>data table notebook</a>'\n",
       "            + ' to learn more about interactive tables.';\n",
       "          element.innerHTML = '';\n",
       "          dataTable['output_type'] = 'display_data';\n",
       "          await google.colab.output.renderOutput(dataTable, element);\n",
       "          const docLink = document.createElement('div');\n",
       "          docLink.innerHTML = docLinkHtml;\n",
       "          element.appendChild(docLink);\n",
       "        }\n",
       "      </script>\n",
       "    </div>\n",
       "  </div>\n",
       "  "
      ],
      "text/plain": [
       "          States Regions   latitude  longitude                Dates  Usage\n",
       "16594    Manipur     NER  24.799971  93.950017  05/12/2020 00:00:00    2.5\n",
       "16595  Meghalaya     NER  25.570492  91.880014  05/12/2020 00:00:00    5.8\n",
       "16596    Mizoram     NER  23.710399  92.720015  05/12/2020 00:00:00    1.6\n",
       "16597   Nagaland     NER  25.666998  94.116570  05/12/2020 00:00:00    2.1\n",
       "16598    Tripura     NER  23.835404  91.279999  05/12/2020 00:00:00    3.3"
      ]
     },
     "execution_count": 4,
     "metadata": {},
     "output_type": "execute_result"
    }
   ],
   "source": [
    "df.tail()"
   ]
  },
  {
   "cell_type": "code",
   "execution_count": 5,
   "id": "0482272d",
   "metadata": {
    "colab": {
     "base_uri": "https://localhost:8080/"
    },
    "id": "0482272d",
    "outputId": "2c718636-2fb4-4177-bba2-603bcaaf4926"
   },
   "outputs": [
    {
     "data": {
      "text/plain": [
       "(16599, 6)"
      ]
     },
     "execution_count": 5,
     "metadata": {},
     "output_type": "execute_result"
    }
   ],
   "source": [
    "df.shape"
   ]
  },
  {
   "cell_type": "code",
   "execution_count": 6,
   "id": "076f1ad3",
   "metadata": {
    "colab": {
     "base_uri": "https://localhost:8080/"
    },
    "id": "076f1ad3",
    "outputId": "4a79c989-a5ae-4971-9d87-5108b4d5e8fb"
   },
   "outputs": [
    {
     "name": "stdout",
     "output_type": "stream",
     "text": [
      "<class 'pandas.core.frame.DataFrame'>\n",
      "RangeIndex: 16599 entries, 0 to 16598\n",
      "Data columns (total 6 columns):\n",
      " #   Column     Non-Null Count  Dtype  \n",
      "---  ------     --------------  -----  \n",
      " 0   States     16599 non-null  object \n",
      " 1   Regions    16599 non-null  object \n",
      " 2   latitude   16599 non-null  float64\n",
      " 3   longitude  16599 non-null  float64\n",
      " 4   Dates      16599 non-null  object \n",
      " 5   Usage      16599 non-null  float64\n",
      "dtypes: float64(3), object(3)\n",
      "memory usage: 778.2+ KB\n"
     ]
    }
   ],
   "source": [
    "df.info()"
   ]
  },
  {
   "cell_type": "code",
   "execution_count": 7,
   "id": "IKYuy6u9oVZN",
   "metadata": {
    "colab": {
     "base_uri": "https://localhost:8080/"
    },
    "id": "IKYuy6u9oVZN",
    "outputId": "415e401b-7e09-4e1e-e2dd-36ac18357443"
   },
   "outputs": [
    {
     "data": {
      "text/plain": [
       "States       0\n",
       "Regions      0\n",
       "latitude     0\n",
       "longitude    0\n",
       "Dates        0\n",
       "Usage        0\n",
       "dtype: int64"
      ]
     },
     "execution_count": 7,
     "metadata": {},
     "output_type": "execute_result"
    }
   ],
   "source": [
    "df.isnull().sum()"
   ]
  },
  {
   "cell_type": "code",
   "execution_count": 8,
   "id": "93827e39",
   "metadata": {
    "id": "93827e39"
   },
   "outputs": [],
   "source": [
    "df['date'] = pd.to_datetime(df['Dates'])"
   ]
  },
  {
   "cell_type": "code",
   "execution_count": 10,
   "id": "QCNBMPrZLt2e",
   "metadata": {
    "id": "QCNBMPrZLt2e"
   },
   "outputs": [],
   "source": [
    "plt.rcParams['figure.figsize'] = [15,8]"
   ]
  },
  {
   "cell_type": "code",
   "execution_count": 11,
   "id": "S0kNKRMAocKq",
   "metadata": {
    "colab": {
     "base_uri": "https://localhost:8080/",
     "height": 523
    },
    "id": "S0kNKRMAocKq",
    "outputId": "ce807d3a-7936-409a-b71c-bf9ceb0885df"
   },
   "outputs": [
    {
     "data": {
      "image/png": "[encoded data removed]",
      "text/plain": [
       "<Figure size 1080x576 with 1 Axes>"
      ]
     },
     "metadata": {
      "needs_background": "light"
     },
     "output_type": "display_data"
    }
   ],
   "source": [
    "df_del = df[df['States'] == 'Delhi']\n",
    "df_del_grp = df_del.groupby('date').agg({'Usage':'sum'})\n",
    "plt.plot(df_del_grp,color='blue',linewidth=1.5)\n",
    "plt.title('Daily Electricity Consumption In Delhi',fontsize=20)\n",
    "plt.xlabel('Date',fontsize=15)\n",
    "plt.ylabel('Units',fontsize=15)\n",
    "plt.show()"
   ]
  },
  {
   "cell_type": "code",
   "execution_count": 12,
   "id": "92BczYDJMESL",
   "metadata": {
    "colab": {
     "base_uri": "https://localhost:8080/"
    },
    "id": "92BczYDJMESL",
    "outputId": "756dce68-31d6-4ca7-daec-919881d39633"
   },
   "outputs": [
    {
     "data": {
      "text/plain": [
       "498"
      ]
     },
     "execution_count": 12,
     "metadata": {},
     "output_type": "execute_result"
    }
   ],
   "source": [
    "len(df_del_grp)"
   ]
  },
  {
   "cell_type": "code",
   "execution_count": 13,
   "id": "p6We-07vMGd7",
   "metadata": {
    "id": "p6We-07vMGd7"
   },
   "outputs": [],
   "source": [
    "time = pd.date_range(start='1/7/2019',periods=498,freq='D')"
   ]
  },
  {
   "cell_type": "code",
   "execution_count": 14,
   "id": "LgE_YqZPMGhW",
   "metadata": {
    "id": "LgE_YqZPMGhW"
   },
   "outputs": [],
   "source": [
    "df_del_grp.set_index(time,inplace=True)"
   ]
  },
  {
   "cell_type": "code",
   "execution_count": 15,
   "id": "522f2b8e",
   "metadata": {
    "colab": {
     "base_uri": "https://localhost:8080/",
     "height": 423
    },
    "id": "522f2b8e",
    "outputId": "bdab3153-47f0-4d59-919e-1448c44c082d"
   },
   "outputs": [
    {
     "data": {
      "text/html": [
       "\n",
       "  <div id=\"df-00cb1ef2-9c7e-433a-bc5d-5e351665bb72\">\n",
       "    <div class=\"colab-df-container\">\n",
       "      <div>\n",
       "<style scoped>\n",
       "    .dataframe tbody tr th:only-of-type {\n",
       "        vertical-align: middle;\n",
       "    }\n",
       "\n",
       "    .dataframe tbody tr th {\n",
       "        vertical-align: top;\n",
       "    }\n",
       "\n",
       "    .dataframe thead th {\n",
       "        text-align: right;\n",
       "    }\n",
       "</style>\n",
       "<table border=\"1\" class=\"dataframe\">\n",
       "  <thead>\n",
       "    <tr style=\"text-align: right;\">\n",
       "      <th></th>\n",
       "      <th>Usage</th>\n",
       "    </tr>\n",
       "  </thead>\n",
       "  <tbody>\n",
       "    <tr>\n",
       "      <th>2019-01-07</th>\n",
       "      <td>103.8</td>\n",
       "    </tr>\n",
       "    <tr>\n",
       "      <th>2019-01-08</th>\n",
       "      <td>99.3</td>\n",
       "    </tr>\n",
       "    <tr>\n",
       "      <th>2019-01-09</th>\n",
       "      <td>113.9</td>\n",
       "    </tr>\n",
       "    <tr>\n",
       "      <th>2019-01-10</th>\n",
       "      <td>80.7</td>\n",
       "    </tr>\n",
       "    <tr>\n",
       "      <th>2019-01-11</th>\n",
       "      <td>52.4</td>\n",
       "    </tr>\n",
       "    <tr>\n",
       "      <th>...</th>\n",
       "      <td>...</td>\n",
       "    </tr>\n",
       "    <tr>\n",
       "      <th>2020-05-14</th>\n",
       "      <td>71.7</td>\n",
       "    </tr>\n",
       "    <tr>\n",
       "      <th>2020-05-15</th>\n",
       "      <td>70.7</td>\n",
       "    </tr>\n",
       "    <tr>\n",
       "      <th>2020-05-16</th>\n",
       "      <td>73.4</td>\n",
       "    </tr>\n",
       "    <tr>\n",
       "      <th>2020-05-17</th>\n",
       "      <td>62.0</td>\n",
       "    </tr>\n",
       "    <tr>\n",
       "      <th>2020-05-18</th>\n",
       "      <td>72.1</td>\n",
       "    </tr>\n",
       "  </tbody>\n",
       "</table>\n",
       "<p>498 rows × 1 columns</p>\n",
       "</div>\n",
       "      <button class=\"colab-df-convert\" onclick=\"convertToInteractive('df-00cb1ef2-9c7e-433a-bc5d-5e351665bb72')\"\n",
       "              title=\"Convert this dataframe to an interactive table.\"\n",
       "              style=\"display:none;\">\n",
       "        \n",
       "  <svg xmlns=\"http://www.w3.org/2000/svg\" height=\"24px\"viewBox=\"0 0 24 24\"\n",
       "       width=\"24px\">\n",
       "    <path d=\"M0 0h24v24H0V0z\" fill=\"none\"/>\n",
       "    <path d=\"M18.56 5.44l.94 2.06.94-2.06 2.06-.94-2.06-.94-.94-2.06-.94 2.06-2.06.94zm-11 1L8.5 8.5l.94-2.06 2.06-.94-2.06-.94L8.5 2.5l-.94 2.06-2.06.94zm10 10l.94 2.06.94-2.06 2.06-.94-2.06-.94-.94-2.06-.94 2.06-2.06.94z\"/><path d=\"M17.41 7.96l-1.37-1.37c-.4-.4-.92-.59-1.43-.59-.52 0-1.04.2-1.43.59L10.3 9.45l-7.72 7.72c-.78.78-.78 2.05 0 2.83L4 21.41c.39.39.9.59 1.41.59.51 0 1.02-.2 1.41-.59l7.78-7.78 2.81-2.81c.8-.78.8-2.07 0-2.86zM5.41 20L4 18.59l7.72-7.72 1.47 1.35L5.41 20z\"/>\n",
       "  </svg>\n",
       "      </button>\n",
       "      \n",
       "  <style>\n",
       "    .colab-df-container {\n",
       "      display:flex;\n",
       "      flex-wrap:wrap;\n",
       "      gap: 12px;\n",
       "    }\n",
       "\n",
       "    .colab-df-convert {\n",
       "      background-color: #E8F0FE;\n",
       "      border: none;\n",
       "      border-radius: 50%;\n",
       "      cursor: pointer;\n",
       "      display: none;\n",
       "      fill: #1967D2;\n",
       "      height: 32px;\n",
       "      padding: 0 0 0 0;\n",
       "      width: 32px;\n",
       "    }\n",
       "\n",
       "    .colab-df-convert:hover {\n",
       "      background-color: #E2EBFA;\n",
       "      box-shadow: 0px 1px 2px rgba(60, 64, 67, 0.3), 0px 1px 3px 1px rgba(60, 64, 67, 0.15);\n",
       "      fill: #174EA6;\n",
       "    }\n",
       "\n",
       "    [theme=dark] .colab-df-convert {\n",
       "      background-color: #3B4455;\n",
       "      fill: #D2E3FC;\n",
       "    }\n",
       "\n",
       "    [theme=dark] .colab-df-convert:hover {\n",
       "      background-color: #434B5C;\n",
       "      box-shadow: 0px 1px 3px 1px rgba(0, 0, 0, 0.15);\n",
       "      filter: drop-shadow(0px 1px 2px rgba(0, 0, 0, 0.3));\n",
       "      fill: #FFFFFF;\n",
       "    }\n",
       "  </style>\n",
       "\n",
       "      <script>\n",
       "        const buttonEl =\n",
       "          document.querySelector('#df-00cb1ef2-9c7e-433a-bc5d-5e351665bb72 button.colab-df-convert');\n",
       "        buttonEl.style.display =\n",
       "          google.colab.kernel.accessAllowed ? 'block' : 'none';\n",
       "\n",
       "        async function convertToInteractive(key) {\n",
       "          const element = document.querySelector('#df-00cb1ef2-9c7e-433a-bc5d-5e351665bb72');\n",
       "          const dataTable =\n",
       "            await google.colab.kernel.invokeFunction('convertToInteractive',\n",
       "                                                     [key], {});\n",
       "          if (!dataTable) return;\n",
       "\n",
       "          const docLinkHtml = 'Like what you see? Visit the ' +\n",
       "            '<a target=\"_blank\" href=https://colab.research.google.com/notebooks/data_table.ipynb>data table notebook</a>'\n",
       "            + ' to learn more about interactive tables.';\n",
       "          element.innerHTML = '';\n",
       "          dataTable['output_type'] = 'display_data';\n",
       "          await google.colab.output.renderOutput(dataTable, element);\n",
       "          const docLink = document.createElement('div');\n",
       "          docLink.innerHTML = docLinkHtml;\n",
       "          element.appendChild(docLink);\n",
       "        }\n",
       "      </script>\n",
       "    </div>\n",
       "  </div>\n",
       "  "
      ],
      "text/plain": [
       "            Usage\n",
       "2019-01-07  103.8\n",
       "2019-01-08   99.3\n",
       "2019-01-09  113.9\n",
       "2019-01-10   80.7\n",
       "2019-01-11   52.4\n",
       "...           ...\n",
       "2020-05-14   71.7\n",
       "2020-05-15   70.7\n",
       "2020-05-16   73.4\n",
       "2020-05-17   62.0\n",
       "2020-05-18   72.1\n",
       "\n",
       "[498 rows x 1 columns]"
      ]
     },
     "execution_count": 15,
     "metadata": {},
     "output_type": "execute_result"
    }
   ],
   "source": [
    "df_del_grp"
   ]
  },
  {
   "cell_type": "code",
   "execution_count": 16,
   "id": "asG0JO4_MRF7",
   "metadata": {
    "id": "asG0JO4_MRF7"
   },
   "outputs": [],
   "source": [
    "df = df_del_grp.copy()"
   ]
  },
  {
   "cell_type": "code",
   "execution_count": 17,
   "id": "bf59d3e0",
   "metadata": {
    "id": "bf59d3e0"
   },
   "outputs": [],
   "source": [
    "def convert2matrix(data_arr, look_back):\n",
    "    X, Y =[], []\n",
    "    for i in range(len(data_arr)-look_back):\n",
    "        d=i+look_back  \n",
    "        X.append(data_arr[i:d,0])\n",
    "        Y.append(data_arr[d,0])\n",
    "    return np.array(X), np.array(Y)"
   ]
  },
  {
   "cell_type": "code",
   "execution_count": 20,
   "id": "1cea6c5f",
   "metadata": {
    "id": "1cea6c5f"
   },
   "outputs": [],
   "source": [
    "#Split data set into testing dataset and train dataset\n",
    "train_size = 450\n",
    "train, test =df.values[0:train_size,:],df.values[train_size:len(df.values),:]\n",
    "# setup look_back window \n",
    "look_back = 6\n",
    "#convert dataset into right shape in order to input into the DNN\n",
    "trainX, trainY = convert2matrix(train, look_back)\n",
    "testX, testY = convert2matrix(test, look_back)"
   ]
  },
  {
   "cell_type": "code",
   "execution_count": 21,
   "id": "c7d46c39",
   "metadata": {
    "colab": {
     "base_uri": "https://localhost:8080/"
    },
    "id": "c7d46c39",
    "outputId": "36739b8c-5bbc-4438-fb79-a70ea24fb310"
   },
   "outputs": [
    {
     "name": "stdout",
     "output_type": "stream",
     "text": [
      "(444, 6)\n",
      "(444,)\n",
      "(42, 6)\n",
      "(42,)\n"
     ]
    }
   ],
   "source": [
    "print(trainX.shape)\n",
    "print(trainY.shape)\n",
    "print(testX.shape)\n",
    "print(testY.shape)"
   ]
  },
  {
   "cell_type": "code",
   "execution_count": 22,
   "id": "GIc1nRcCuP3G",
   "metadata": {
    "colab": {
     "base_uri": "https://localhost:8080/"
    },
    "id": "GIc1nRcCuP3G",
    "outputId": "e5b00c5f-d1bb-47fa-ba46-fe46b4aa237e"
   },
   "outputs": [
    {
     "name": "stdout",
     "output_type": "stream",
     "text": [
      "\u001b[?25l\r",
      "\u001b[K     |███▍                            | 10 kB 30.5 MB/s eta 0:00:01\r",
      "\u001b[K     |██████▊                         | 20 kB 36.1 MB/s eta 0:00:01\r",
      "\u001b[K     |██████████                      | 30 kB 41.6 MB/s eta 0:00:01\r",
      "\u001b[K     |█████████████▍                  | 40 kB 17.4 MB/s eta 0:00:01\r",
      "\u001b[K     |████████████████▊               | 51 kB 15.5 MB/s eta 0:00:01\r",
      "\u001b[K     |████████████████████            | 61 kB 18.0 MB/s eta 0:00:01\r",
      "\u001b[K     |███████████████████████▍        | 71 kB 13.9 MB/s eta 0:00:01\r",
      "\u001b[K     |██████████████████████████▊     | 81 kB 15.3 MB/s eta 0:00:01\r",
      "\u001b[K     |██████████████████████████████  | 92 kB 16.8 MB/s eta 0:00:01\r",
      "\u001b[K     |████████████████████████████████| 98 kB 4.7 MB/s \n",
      "\u001b[?25h"
     ]
    }
   ],
   "source": [
    "!pip install -q -U keras-tuner"
   ]
  },
  {
   "cell_type": "code",
   "execution_count": 23,
   "id": "M5te5ih0uP6u",
   "metadata": {
    "id": "M5te5ih0uP6u"
   },
   "outputs": [],
   "source": [
    "import pandas as pd\n",
    "from tensorflow import keras\n",
    "from tensorflow.keras import layers\n",
    "from keras_tuner.tuners import RandomSearch\n",
    "from tensorflow.keras.models import Sequential\n",
    "from tensorflow.keras.layers import LSTM\n",
    "from tensorflow.keras.layers import Dense,Dropout\n",
    "from tensorflow.keras.layers import Flatten\n",
    "import matplotlib.pyplot as plt"
   ]
  },
  {
   "cell_type": "code",
   "execution_count": 24,
   "id": "rYiJC5hXuP_e",
   "metadata": {
    "id": "rYiJC5hXuP_e"
   },
   "outputs": [],
   "source": [
    "def build_model(hp):\n",
    "    model = keras.Sequential()\n",
    "    for i in range(hp.Int('num_layers', 1, 10)):\n",
    "        model.add(layers.Dense(units=hp.Int('units_' + str(i),\n",
    "                                            min_value=8,\n",
    "                                            max_value=256,\n",
    "                                            step=8),\n",
    "                                            activation= \"relu\"))\n",
    "        if hp.Boolean(\"dropout\"):\n",
    "          model.add(Dropout(hp.Float('Dropout_rate',min_value=0,max_value=0.5,step=0.1)))\n",
    "    model.add(layers.Dense(1, activation='linear'))\n",
    "    model.compile(\n",
    "        optimizer=keras.optimizers.Adam(\n",
    "             hp.Float('learning_rate', min_value=1e-4, max_value=1e-1, sampling=\"log\")),\n",
    "        loss='mape',\n",
    "        metrics=['mape'])\n",
    "    return model"
   ]
  },
  {
   "cell_type": "code",
   "execution_count": 25,
   "id": "2h_gRerjuQCT",
   "metadata": {
    "id": "2h_gRerjuQCT"
   },
   "outputs": [],
   "source": [
    "tuner = RandomSearch(\n",
    "    build_model,\n",
    "    objective='val_mape',\n",
    "    max_trials=20,\n",
    "    executions_per_trial=2,\n",
    "    directory='project',\n",
    "    project_name='del_consum')"
   ]
  },
  {
   "cell_type": "code",
   "execution_count": null,
   "id": "Dg5AHN3guQFu",
   "metadata": {
    "colab": {
     "base_uri": "https://localhost:8080/"
    },
    "id": "Dg5AHN3guQFu",
    "outputId": "541e553f-9f7f-428c-ca3e-4d02a83917ca"
   },
   "outputs": [
    {
     "name": "stdout",
     "output_type": "stream",
     "text": [
      "Search space summary\n",
      "Default search space size: 4\n",
      "num_layers (Int)\n",
      "{'default': None, 'conditions': [], 'min_value': 1, 'max_value': 10, 'step': 1, 'sampling': None}\n",
      "units_0 (Int)\n",
      "{'default': None, 'conditions': [], 'min_value': 8, 'max_value': 256, 'step': 8, 'sampling': None}\n",
      "dropout (Boolean)\n",
      "{'default': False, 'conditions': []}\n",
      "learning_rate (Float)\n",
      "{'default': 0.0001, 'conditions': [], 'min_value': 0.0001, 'max_value': 0.1, 'step': None, 'sampling': 'log'}\n"
     ]
    }
   ],
   "source": [
    "tuner.search_space_summary()"
   ]
  },
  {
   "cell_type": "code",
   "execution_count": 26,
   "id": "TiBXdF0K8Gpr",
   "metadata": {
    "colab": {
     "base_uri": "https://localhost:8080/"
    },
    "id": "TiBXdF0K8Gpr",
    "outputId": "60918aa5-c165-416d-8592-4d4406d3a698"
   },
   "outputs": [
    {
     "name": "stdout",
     "output_type": "stream",
     "text": [
      "Trial 20 Complete [00h 00m 40s]\n",
      "val_mape: 26.14543914794922\n",
      "\n",
      "Best val_mape So Far: 12.837466716766357\n",
      "Total elapsed time: 00h 11m 12s\n",
      "INFO:tensorflow:Oracle triggered exit\n"
     ]
    }
   ],
   "source": [
    "tuner.search(trainX, trainY,\n",
    "             epochs=200,\n",
    "             batch_size=32,\n",
    "             validation_data=(testX, testY))"
   ]
  },
  {
   "cell_type": "code",
   "execution_count": 27,
   "id": "VXXGH_RK8GsD",
   "metadata": {
    "colab": {
     "base_uri": "https://localhost:8080/"
    },
    "id": "VXXGH_RK8GsD",
    "outputId": "501a8fe1-0c81-4df7-def4-14708e0b42c9"
   },
   "outputs": [
    {
     "name": "stdout",
     "output_type": "stream",
     "text": [
      "Results summary\n",
      "Results in project/del_consum\n",
      "Showing 10 best trials\n",
      "Objective(name='val_mape', direction='min')\n",
      "Trial summary\n",
      "Hyperparameters:\n",
      "num_layers: 8\n",
      "units_0: 200\n",
      "dropout: False\n",
      "learning_rate: 0.013545428081737601\n",
      "units_1: 224\n",
      "units_2: 40\n",
      "Dropout_rate: 0.4\n",
      "units_3: 192\n",
      "units_4: 112\n",
      "units_5: 248\n",
      "units_6: 24\n",
      "units_7: 72\n",
      "units_8: 72\n",
      "units_9: 192\n",
      "Score: 12.837466716766357\n",
      "Trial summary\n",
      "Hyperparameters:\n",
      "num_layers: 6\n",
      "units_0: 248\n",
      "dropout: False\n",
      "learning_rate: 0.008294173681456725\n",
      "units_1: 96\n",
      "units_2: 160\n",
      "Dropout_rate: 0.0\n",
      "units_3: 152\n",
      "units_4: 176\n",
      "units_5: 32\n",
      "units_6: 192\n",
      "units_7: 80\n",
      "units_8: 232\n",
      "units_9: 72\n",
      "Score: 13.272140502929688\n",
      "Trial summary\n",
      "Hyperparameters:\n",
      "num_layers: 5\n",
      "units_0: 64\n",
      "dropout: True\n",
      "learning_rate: 0.009008415865811041\n",
      "units_1: 168\n",
      "units_2: 168\n",
      "Dropout_rate: 0.0\n",
      "units_3: 160\n",
      "units_4: 32\n",
      "units_5: 24\n",
      "units_6: 208\n",
      "units_7: 16\n",
      "units_8: 200\n",
      "units_9: 40\n",
      "Score: 13.335609912872314\n",
      "Trial summary\n",
      "Hyperparameters:\n",
      "num_layers: 8\n",
      "units_0: 112\n",
      "dropout: False\n",
      "learning_rate: 0.008492181715762829\n",
      "units_1: 144\n",
      "units_2: 32\n",
      "Dropout_rate: 0.5\n",
      "units_3: 104\n",
      "units_4: 16\n",
      "units_5: 96\n",
      "units_6: 24\n",
      "units_7: 200\n",
      "units_8: 136\n",
      "units_9: 136\n",
      "Score: 13.581196784973145\n",
      "Trial summary\n",
      "Hyperparameters:\n",
      "num_layers: 5\n",
      "units_0: 104\n",
      "dropout: False\n",
      "learning_rate: 0.002399992175729762\n",
      "units_1: 112\n",
      "units_2: 96\n",
      "Dropout_rate: 0.0\n",
      "units_3: 120\n",
      "units_4: 232\n",
      "units_5: 96\n",
      "units_6: 120\n",
      "units_7: 168\n",
      "units_8: 24\n",
      "units_9: 112\n",
      "Score: 13.959343910217285\n",
      "Trial summary\n",
      "Hyperparameters:\n",
      "num_layers: 7\n",
      "units_0: 184\n",
      "dropout: True\n",
      "learning_rate: 0.0015859786615265428\n",
      "units_1: 152\n",
      "units_2: 64\n",
      "Dropout_rate: 0.4\n",
      "units_3: 64\n",
      "units_4: 184\n",
      "units_5: 112\n",
      "units_6: 88\n",
      "units_7: 88\n",
      "units_8: 128\n",
      "units_9: 32\n",
      "Score: 13.994329452514648\n",
      "Trial summary\n",
      "Hyperparameters:\n",
      "num_layers: 4\n",
      "units_0: 200\n",
      "dropout: False\n",
      "learning_rate: 0.0004214263496100854\n",
      "units_1: 216\n",
      "units_2: 112\n",
      "Dropout_rate: 0.0\n",
      "units_3: 200\n",
      "units_4: 248\n",
      "units_5: 8\n",
      "units_6: 120\n",
      "units_7: 64\n",
      "units_8: 112\n",
      "units_9: 176\n",
      "Score: 14.124707221984863\n",
      "Trial summary\n",
      "Hyperparameters:\n",
      "num_layers: 2\n",
      "units_0: 24\n",
      "dropout: True\n",
      "learning_rate: 0.03661988051968323\n",
      "units_1: 248\n",
      "units_2: 56\n",
      "Dropout_rate: 0.30000000000000004\n",
      "units_3: 184\n",
      "units_4: 144\n",
      "units_5: 192\n",
      "units_6: 192\n",
      "units_7: 40\n",
      "units_8: 176\n",
      "units_9: 232\n",
      "Score: 14.224064350128174\n",
      "Trial summary\n",
      "Hyperparameters:\n",
      "num_layers: 1\n",
      "units_0: 104\n",
      "dropout: False\n",
      "learning_rate: 0.00129774025222921\n",
      "units_1: 216\n",
      "units_2: 192\n",
      "Dropout_rate: 0.5\n",
      "units_3: 168\n",
      "units_4: 184\n",
      "units_5: 16\n",
      "units_6: 128\n",
      "units_7: 144\n",
      "units_8: 40\n",
      "units_9: 48\n",
      "Score: 14.38826847076416\n",
      "Trial summary\n",
      "Hyperparameters:\n",
      "num_layers: 2\n",
      "units_0: 80\n",
      "dropout: True\n",
      "learning_rate: 0.03729173245123336\n",
      "units_1: 216\n",
      "units_2: 16\n",
      "Dropout_rate: 0.4\n",
      "units_3: 216\n",
      "units_4: 176\n",
      "units_5: 152\n",
      "units_6: 120\n",
      "units_7: 192\n",
      "units_8: 56\n",
      "units_9: 48\n",
      "Score: 14.425755500793457\n"
     ]
    }
   ],
   "source": [
    "tuner.results_summary()"
   ]
  },
  {
   "cell_type": "code",
   "execution_count": 28,
   "id": "FBpLenJ_DZMX",
   "metadata": {
    "id": "FBpLenJ_DZMX"
   },
   "outputs": [],
   "source": [
    "from warnings import filterwarnings\n",
    "filterwarnings('ignore')"
   ]
  },
  {
   "cell_type": "code",
   "execution_count": 29,
   "id": "eL-a8rAv8Gvg",
   "metadata": {
    "colab": {
     "base_uri": "https://localhost:8080/"
    },
    "id": "eL-a8rAv8Gvg",
    "outputId": "99bd9f34-5038-42b9-d38b-77b067daacef"
   },
   "outputs": [
    {
     "name": "stdout",
     "output_type": "stream",
     "text": [
      "Model: \"sequential\"\n",
      "_________________________________________________________________\n",
      " Layer (type)                Output Shape              Param #   \n",
      "=================================================================\n",
      " dense (Dense)               (None, 200)               1400      \n",
      "                                                                 \n",
      " dense_1 (Dense)             (None, 224)               45024     \n",
      "                                                                 \n",
      " dense_2 (Dense)             (None, 40)                9000      \n",
      "                                                                 \n",
      " dense_3 (Dense)             (None, 192)               7872      \n",
      "                                                                 \n",
      " dense_4 (Dense)             (None, 112)               21616     \n",
      "                                                                 \n",
      " dense_5 (Dense)             (None, 248)               28024     \n",
      "                                                                 \n",
      " dense_6 (Dense)             (None, 24)                5976      \n",
      "                                                                 \n",
      " dense_7 (Dense)             (None, 72)                1800      \n",
      "                                                                 \n",
      " dense_8 (Dense)             (None, 1)                 73        \n",
      "                                                                 \n",
      "=================================================================\n",
      "Total params: 120,785\n",
      "Trainable params: 120,785\n",
      "Non-trainable params: 0\n",
      "_________________________________________________________________\n"
     ]
    }
   ],
   "source": [
    "models = tuner.get_best_models(num_models=2)\n",
    "best_model = models[0]\n",
    "# Build the model.\n",
    "# Needed for `Sequential` without specified `input_shape`.\n",
    "best_model.build(input_shape=(None, 6))\n",
    "best_model.summary()"
   ]
  },
  {
   "cell_type": "code",
   "execution_count": 32,
   "id": "ovKDjDHZEmLV",
   "metadata": {
    "id": "ovKDjDHZEmLV"
   },
   "outputs": [],
   "source": [
    "from tensorflow.keras import optimizers"
   ]
  },
  {
   "cell_type": "code",
   "execution_count": 34,
   "id": "0e187ddc",
   "metadata": {
    "colab": {
     "base_uri": "https://localhost:8080/"
    },
    "id": "0e187ddc",
    "outputId": "88611871-bf2b-4f78-b915-1cd6914ffa4e"
   },
   "outputs": [
    {
     "name": "stdout",
     "output_type": "stream",
     "text": [
      "Epoch 1/200\n",
      "14/14 [==============================] - 1s 16ms/step - loss: 71.8133 - mape: 71.8133 - val_loss: 45.4063 - val_mape: 45.4063\n",
      "Epoch 2/200\n",
      "14/14 [==============================] - 0s 4ms/step - loss: 34.2280 - mape: 34.2280 - val_loss: 24.6794 - val_mape: 24.6794\n",
      "Epoch 3/200\n",
      "14/14 [==============================] - 0s 4ms/step - loss: 26.1140 - mape: 26.1140 - val_loss: 25.3720 - val_mape: 25.3720\n",
      "Epoch 4/200\n",
      "14/14 [==============================] - 0s 4ms/step - loss: 25.2401 - mape: 25.2401 - val_loss: 23.1057 - val_mape: 23.1057\n",
      "Epoch 5/200\n",
      "14/14 [==============================] - 0s 4ms/step - loss: 23.9923 - mape: 23.9923 - val_loss: 21.7768 - val_mape: 21.7768\n",
      "Epoch 6/200\n",
      "14/14 [==============================] - 0s 5ms/step - loss: 23.2463 - mape: 23.2463 - val_loss: 20.6792 - val_mape: 20.6792\n",
      "Epoch 7/200\n",
      "14/14 [==============================] - 0s 4ms/step - loss: 22.5706 - mape: 22.5706 - val_loss: 19.3345 - val_mape: 19.3345\n",
      "Epoch 8/200\n",
      "14/14 [==============================] - 0s 5ms/step - loss: 21.5939 - mape: 21.5939 - val_loss: 18.1274 - val_mape: 18.1274\n",
      "Epoch 9/200\n",
      "14/14 [==============================] - 0s 4ms/step - loss: 20.7531 - mape: 20.7531 - val_loss: 17.3901 - val_mape: 17.3901\n",
      "Epoch 10/200\n",
      "14/14 [==============================] - 0s 4ms/step - loss: 20.5174 - mape: 20.5174 - val_loss: 16.9279 - val_mape: 16.9279\n",
      "Epoch 11/200\n",
      "14/14 [==============================] - 0s 5ms/step - loss: 20.1506 - mape: 20.1506 - val_loss: 16.6190 - val_mape: 16.6190\n",
      "Epoch 12/200\n",
      "14/14 [==============================] - 0s 4ms/step - loss: 19.7633 - mape: 19.7633 - val_loss: 16.1068 - val_mape: 16.1068\n",
      "Epoch 13/200\n",
      "14/14 [==============================] - 0s 4ms/step - loss: 19.5679 - mape: 19.5679 - val_loss: 15.9912 - val_mape: 15.9912\n",
      "Epoch 14/200\n",
      "14/14 [==============================] - 0s 4ms/step - loss: 19.4386 - mape: 19.4386 - val_loss: 16.3935 - val_mape: 16.3935\n",
      "Epoch 15/200\n",
      "14/14 [==============================] - 0s 4ms/step - loss: 19.4654 - mape: 19.4654 - val_loss: 15.9857 - val_mape: 15.9857\n",
      "Epoch 16/200\n",
      "14/14 [==============================] - 0s 4ms/step - loss: 19.4328 - mape: 19.4328 - val_loss: 16.0271 - val_mape: 16.0271\n",
      "Epoch 17/200\n",
      "14/14 [==============================] - 0s 4ms/step - loss: 19.2147 - mape: 19.2147 - val_loss: 15.9189 - val_mape: 15.9189\n",
      "Epoch 18/200\n",
      "14/14 [==============================] - 0s 4ms/step - loss: 19.1420 - mape: 19.1420 - val_loss: 15.9163 - val_mape: 15.9163\n",
      "Epoch 19/200\n",
      "14/14 [==============================] - 0s 4ms/step - loss: 19.0894 - mape: 19.0894 - val_loss: 15.8684 - val_mape: 15.8684\n",
      "Epoch 20/200\n",
      "14/14 [==============================] - 0s 4ms/step - loss: 19.0809 - mape: 19.0809 - val_loss: 15.8738 - val_mape: 15.8738\n",
      "Epoch 21/200\n",
      "14/14 [==============================] - 0s 4ms/step - loss: 19.0172 - mape: 19.0172 - val_loss: 16.0817 - val_mape: 16.0817\n",
      "Epoch 22/200\n",
      "14/14 [==============================] - 0s 5ms/step - loss: 19.1170 - mape: 19.1170 - val_loss: 15.8384 - val_mape: 15.8384\n",
      "Epoch 23/200\n",
      "14/14 [==============================] - 0s 4ms/step - loss: 19.0270 - mape: 19.0270 - val_loss: 15.8492 - val_mape: 15.8492\n",
      "Epoch 24/200\n",
      "14/14 [==============================] - 0s 4ms/step - loss: 19.1531 - mape: 19.1531 - val_loss: 16.1568 - val_mape: 16.1568\n",
      "Epoch 25/200\n",
      "14/14 [==============================] - 0s 5ms/step - loss: 19.0427 - mape: 19.0427 - val_loss: 15.9452 - val_mape: 15.9452\n",
      "Epoch 26/200\n",
      "14/14 [==============================] - 0s 4ms/step - loss: 19.0450 - mape: 19.0450 - val_loss: 15.8855 - val_mape: 15.8855\n",
      "Epoch 27/200\n",
      "14/14 [==============================] - 0s 4ms/step - loss: 19.2305 - mape: 19.2305 - val_loss: 15.9822 - val_mape: 15.9822\n",
      "Epoch 28/200\n",
      "14/14 [==============================] - 0s 4ms/step - loss: 18.9108 - mape: 18.9108 - val_loss: 16.1129 - val_mape: 16.1129\n",
      "Epoch 29/200\n",
      "14/14 [==============================] - 0s 4ms/step - loss: 18.8419 - mape: 18.8419 - val_loss: 15.9578 - val_mape: 15.9578\n",
      "Epoch 30/200\n",
      "14/14 [==============================] - 0s 4ms/step - loss: 18.8397 - mape: 18.8397 - val_loss: 16.1535 - val_mape: 16.1535\n",
      "Epoch 31/200\n",
      "14/14 [==============================] - 0s 4ms/step - loss: 18.7512 - mape: 18.7512 - val_loss: 15.9716 - val_mape: 15.9716\n",
      "Epoch 32/200\n",
      "14/14 [==============================] - 0s 4ms/step - loss: 18.9103 - mape: 18.9103 - val_loss: 16.0072 - val_mape: 16.0072\n",
      "Epoch 33/200\n",
      "14/14 [==============================] - 0s 4ms/step - loss: 18.8030 - mape: 18.8030 - val_loss: 15.9374 - val_mape: 15.9374\n",
      "Epoch 34/200\n",
      "14/14 [==============================] - 0s 4ms/step - loss: 18.8982 - mape: 18.8982 - val_loss: 15.9096 - val_mape: 15.9096\n",
      "Epoch 35/200\n",
      "14/14 [==============================] - 0s 4ms/step - loss: 19.0013 - mape: 19.0013 - val_loss: 15.9226 - val_mape: 15.9226\n",
      "Epoch 36/200\n",
      "14/14 [==============================] - 0s 3ms/step - loss: 18.8768 - mape: 18.8768 - val_loss: 16.8315 - val_mape: 16.8315\n",
      "Epoch 37/200\n",
      "14/14 [==============================] - 0s 3ms/step - loss: 18.8817 - mape: 18.8817 - val_loss: 16.1277 - val_mape: 16.1277\n",
      "Epoch 38/200\n",
      "14/14 [==============================] - 0s 3ms/step - loss: 18.7499 - mape: 18.7499 - val_loss: 15.8818 - val_mape: 15.8818\n",
      "Epoch 39/200\n",
      "14/14 [==============================] - 0s 3ms/step - loss: 18.7851 - mape: 18.7851 - val_loss: 16.1348 - val_mape: 16.1348\n",
      "Epoch 40/200\n",
      "14/14 [==============================] - 0s 3ms/step - loss: 18.6637 - mape: 18.6637 - val_loss: 15.9844 - val_mape: 15.9844\n",
      "Epoch 41/200\n",
      "14/14 [==============================] - 0s 3ms/step - loss: 18.8521 - mape: 18.8521 - val_loss: 16.5468 - val_mape: 16.5468\n",
      "Epoch 42/200\n",
      "14/14 [==============================] - 0s 3ms/step - loss: 18.7636 - mape: 18.7636 - val_loss: 15.9351 - val_mape: 15.9351\n",
      "Epoch 43/200\n",
      "14/14 [==============================] - 0s 3ms/step - loss: 18.6565 - mape: 18.6565 - val_loss: 15.9433 - val_mape: 15.9433\n",
      "Epoch 44/200\n",
      "14/14 [==============================] - 0s 3ms/step - loss: 18.7368 - mape: 18.7368 - val_loss: 15.8605 - val_mape: 15.8605\n",
      "Epoch 45/200\n",
      "14/14 [==============================] - 0s 3ms/step - loss: 18.7500 - mape: 18.7500 - val_loss: 16.0964 - val_mape: 16.0964\n",
      "Epoch 46/200\n",
      "14/14 [==============================] - 0s 3ms/step - loss: 18.6886 - mape: 18.6886 - val_loss: 16.2108 - val_mape: 16.2108\n",
      "Epoch 47/200\n",
      "14/14 [==============================] - 0s 3ms/step - loss: 18.6152 - mape: 18.6152 - val_loss: 15.8571 - val_mape: 15.8571\n",
      "Epoch 48/200\n",
      "14/14 [==============================] - 0s 3ms/step - loss: 18.6661 - mape: 18.6661 - val_loss: 15.9134 - val_mape: 15.9134\n",
      "Epoch 49/200\n",
      "14/14 [==============================] - 0s 3ms/step - loss: 18.6156 - mape: 18.6156 - val_loss: 15.7981 - val_mape: 15.7981\n",
      "Epoch 50/200\n",
      "14/14 [==============================] - 0s 3ms/step - loss: 18.7250 - mape: 18.7250 - val_loss: 15.7707 - val_mape: 15.7707\n",
      "Epoch 51/200\n",
      "14/14 [==============================] - 0s 3ms/step - loss: 18.9024 - mape: 18.9024 - val_loss: 16.5351 - val_mape: 16.5351\n",
      "Epoch 52/200\n",
      "14/14 [==============================] - 0s 3ms/step - loss: 18.8294 - mape: 18.8294 - val_loss: 16.0166 - val_mape: 16.0166\n",
      "Epoch 53/200\n",
      "14/14 [==============================] - 0s 3ms/step - loss: 18.6344 - mape: 18.6344 - val_loss: 16.4068 - val_mape: 16.4068\n",
      "Epoch 54/200\n",
      "14/14 [==============================] - 0s 3ms/step - loss: 18.7556 - mape: 18.7556 - val_loss: 16.0426 - val_mape: 16.0426\n",
      "Epoch 55/200\n",
      "14/14 [==============================] - 0s 3ms/step - loss: 18.7760 - mape: 18.7760 - val_loss: 15.9444 - val_mape: 15.9444\n",
      "Epoch 56/200\n",
      "14/14 [==============================] - 0s 3ms/step - loss: 18.5424 - mape: 18.5424 - val_loss: 15.7968 - val_mape: 15.7968\n",
      "Epoch 57/200\n",
      "14/14 [==============================] - 0s 3ms/step - loss: 18.5505 - mape: 18.5505 - val_loss: 15.6525 - val_mape: 15.6525\n",
      "Epoch 58/200\n",
      "14/14 [==============================] - 0s 3ms/step - loss: 18.5266 - mape: 18.5266 - val_loss: 15.8576 - val_mape: 15.8576\n",
      "Epoch 59/200\n",
      "14/14 [==============================] - 0s 3ms/step - loss: 18.5990 - mape: 18.5990 - val_loss: 16.1360 - val_mape: 16.1360\n",
      "Epoch 60/200\n",
      "14/14 [==============================] - 0s 3ms/step - loss: 18.6159 - mape: 18.6159 - val_loss: 15.7251 - val_mape: 15.7251\n",
      "Epoch 61/200\n",
      "14/14 [==============================] - 0s 3ms/step - loss: 18.4878 - mape: 18.4878 - val_loss: 15.6085 - val_mape: 15.6085\n",
      "Epoch 62/200\n",
      "14/14 [==============================] - 0s 3ms/step - loss: 18.5299 - mape: 18.5299 - val_loss: 15.6714 - val_mape: 15.6714\n",
      "Epoch 63/200\n",
      "14/14 [==============================] - 0s 3ms/step - loss: 18.4766 - mape: 18.4766 - val_loss: 15.8501 - val_mape: 15.8501\n",
      "Epoch 64/200\n",
      "14/14 [==============================] - 0s 3ms/step - loss: 18.4900 - mape: 18.4900 - val_loss: 15.7021 - val_mape: 15.7021\n",
      "Epoch 65/200\n",
      "14/14 [==============================] - 0s 3ms/step - loss: 18.4426 - mape: 18.4426 - val_loss: 15.6024 - val_mape: 15.6024\n",
      "Epoch 66/200\n",
      "14/14 [==============================] - 0s 3ms/step - loss: 18.5579 - mape: 18.5579 - val_loss: 15.6535 - val_mape: 15.6535\n",
      "Epoch 67/200\n",
      "14/14 [==============================] - 0s 3ms/step - loss: 18.3974 - mape: 18.3974 - val_loss: 15.6662 - val_mape: 15.6662\n",
      "Epoch 68/200\n",
      "14/14 [==============================] - 0s 3ms/step - loss: 18.4082 - mape: 18.4082 - val_loss: 15.8123 - val_mape: 15.8123\n",
      "Epoch 69/200\n",
      "14/14 [==============================] - 0s 3ms/step - loss: 18.5079 - mape: 18.5079 - val_loss: 15.6320 - val_mape: 15.6320\n",
      "Epoch 70/200\n",
      "14/14 [==============================] - 0s 3ms/step - loss: 18.3447 - mape: 18.3447 - val_loss: 16.3194 - val_mape: 16.3194\n",
      "Epoch 71/200\n",
      "14/14 [==============================] - 0s 3ms/step - loss: 18.4694 - mape: 18.4694 - val_loss: 15.5702 - val_mape: 15.5702\n",
      "Epoch 72/200\n",
      "14/14 [==============================] - 0s 3ms/step - loss: 18.3321 - mape: 18.3321 - val_loss: 15.5050 - val_mape: 15.5050\n",
      "Epoch 73/200\n",
      "14/14 [==============================] - 0s 3ms/step - loss: 18.4387 - mape: 18.4387 - val_loss: 15.4784 - val_mape: 15.4784\n",
      "Epoch 74/200\n",
      "14/14 [==============================] - 0s 3ms/step - loss: 18.2684 - mape: 18.2684 - val_loss: 16.2057 - val_mape: 16.2057\n",
      "Epoch 75/200\n",
      "14/14 [==============================] - 0s 3ms/step - loss: 18.4878 - mape: 18.4878 - val_loss: 16.7556 - val_mape: 16.7556\n",
      "Epoch 76/200\n",
      "14/14 [==============================] - 0s 2ms/step - loss: 18.7412 - mape: 18.7412 - val_loss: 15.6136 - val_mape: 15.6136\n",
      "Epoch 77/200\n",
      "14/14 [==============================] - 0s 3ms/step - loss: 18.3814 - mape: 18.3814 - val_loss: 15.5282 - val_mape: 15.5282\n",
      "Epoch 78/200\n",
      "14/14 [==============================] - 0s 3ms/step - loss: 18.2943 - mape: 18.2943 - val_loss: 15.4611 - val_mape: 15.4611\n",
      "Epoch 79/200\n",
      "14/14 [==============================] - 0s 3ms/step - loss: 18.2735 - mape: 18.2735 - val_loss: 15.7555 - val_mape: 15.7555\n",
      "Epoch 80/200\n",
      "14/14 [==============================] - 0s 3ms/step - loss: 18.6098 - mape: 18.6098 - val_loss: 15.5766 - val_mape: 15.5766\n",
      "Epoch 81/200\n",
      "14/14 [==============================] - 0s 3ms/step - loss: 18.2586 - mape: 18.2586 - val_loss: 15.8224 - val_mape: 15.8224\n",
      "Epoch 82/200\n",
      "14/14 [==============================] - 0s 3ms/step - loss: 18.3325 - mape: 18.3325 - val_loss: 15.4307 - val_mape: 15.4307\n",
      "Epoch 83/200\n",
      "14/14 [==============================] - 0s 3ms/step - loss: 18.4665 - mape: 18.4665 - val_loss: 15.6059 - val_mape: 15.6059\n",
      "Epoch 84/200\n",
      "14/14 [==============================] - 0s 3ms/step - loss: 18.2646 - mape: 18.2646 - val_loss: 15.3917 - val_mape: 15.3917\n",
      "Epoch 85/200\n",
      "14/14 [==============================] - 0s 3ms/step - loss: 18.2419 - mape: 18.2419 - val_loss: 15.4856 - val_mape: 15.4856\n",
      "Epoch 86/200\n",
      "14/14 [==============================] - 0s 3ms/step - loss: 18.1917 - mape: 18.1917 - val_loss: 15.3524 - val_mape: 15.3524\n",
      "Epoch 87/200\n",
      "14/14 [==============================] - 0s 3ms/step - loss: 18.2199 - mape: 18.2199 - val_loss: 15.8854 - val_mape: 15.8854\n",
      "Epoch 88/200\n",
      "14/14 [==============================] - 0s 3ms/step - loss: 18.3976 - mape: 18.3976 - val_loss: 15.5347 - val_mape: 15.5347\n",
      "Epoch 89/200\n",
      "14/14 [==============================] - 0s 3ms/step - loss: 18.2223 - mape: 18.2223 - val_loss: 15.3648 - val_mape: 15.3648\n",
      "Epoch 90/200\n",
      "14/14 [==============================] - 0s 3ms/step - loss: 18.2764 - mape: 18.2764 - val_loss: 15.5201 - val_mape: 15.5201\n",
      "Epoch 91/200\n",
      "14/14 [==============================] - 0s 3ms/step - loss: 18.1526 - mape: 18.1526 - val_loss: 15.4125 - val_mape: 15.4125\n",
      "Epoch 92/200\n",
      "14/14 [==============================] - 0s 3ms/step - loss: 18.2415 - mape: 18.2415 - val_loss: 15.3499 - val_mape: 15.3499\n",
      "Epoch 93/200\n",
      "14/14 [==============================] - 0s 3ms/step - loss: 18.2586 - mape: 18.2586 - val_loss: 15.4932 - val_mape: 15.4932\n",
      "Epoch 94/200\n",
      "14/14 [==============================] - 0s 3ms/step - loss: 18.2363 - mape: 18.2363 - val_loss: 15.2345 - val_mape: 15.2345\n",
      "Epoch 95/200\n",
      "14/14 [==============================] - 0s 3ms/step - loss: 18.0686 - mape: 18.0686 - val_loss: 15.1948 - val_mape: 15.1948\n",
      "Epoch 96/200\n",
      "14/14 [==============================] - 0s 3ms/step - loss: 18.0503 - mape: 18.0503 - val_loss: 15.1571 - val_mape: 15.1571\n",
      "Epoch 97/200\n",
      "14/14 [==============================] - 0s 3ms/step - loss: 18.1314 - mape: 18.1314 - val_loss: 15.4938 - val_mape: 15.4938\n",
      "Epoch 98/200\n",
      "14/14 [==============================] - 0s 3ms/step - loss: 18.0828 - mape: 18.0828 - val_loss: 15.8016 - val_mape: 15.8016\n",
      "Epoch 99/200\n",
      "14/14 [==============================] - 0s 3ms/step - loss: 18.4456 - mape: 18.4456 - val_loss: 15.3130 - val_mape: 15.3130\n",
      "Epoch 100/200\n",
      "14/14 [==============================] - 0s 3ms/step - loss: 18.0772 - mape: 18.0772 - val_loss: 15.3772 - val_mape: 15.3772\n",
      "Epoch 101/200\n",
      "14/14 [==============================] - 0s 3ms/step - loss: 18.1777 - mape: 18.1777 - val_loss: 15.4796 - val_mape: 15.4796\n",
      "Epoch 102/200\n",
      "14/14 [==============================] - 0s 2ms/step - loss: 18.3197 - mape: 18.3197 - val_loss: 15.1575 - val_mape: 15.1575\n",
      "Epoch 103/200\n",
      "14/14 [==============================] - 0s 3ms/step - loss: 18.0066 - mape: 18.0066 - val_loss: 15.1552 - val_mape: 15.1552\n",
      "Epoch 104/200\n",
      "14/14 [==============================] - 0s 2ms/step - loss: 18.0468 - mape: 18.0468 - val_loss: 15.1152 - val_mape: 15.1152\n",
      "Epoch 105/200\n",
      "14/14 [==============================] - 0s 3ms/step - loss: 18.0646 - mape: 18.0646 - val_loss: 15.1369 - val_mape: 15.1369\n",
      "Epoch 106/200\n",
      "14/14 [==============================] - 0s 3ms/step - loss: 17.9773 - mape: 17.9773 - val_loss: 15.0936 - val_mape: 15.0936\n",
      "Epoch 107/200\n",
      "14/14 [==============================] - 0s 3ms/step - loss: 17.9896 - mape: 17.9896 - val_loss: 15.1151 - val_mape: 15.1151\n",
      "Epoch 108/200\n",
      "14/14 [==============================] - 0s 3ms/step - loss: 17.9240 - mape: 17.9240 - val_loss: 15.1447 - val_mape: 15.1447\n",
      "Epoch 109/200\n",
      "14/14 [==============================] - 0s 3ms/step - loss: 17.8961 - mape: 17.8961 - val_loss: 15.0940 - val_mape: 15.0940\n",
      "Epoch 110/200\n",
      "14/14 [==============================] - 0s 3ms/step - loss: 17.9331 - mape: 17.9331 - val_loss: 15.1828 - val_mape: 15.1828\n",
      "Epoch 111/200\n",
      "14/14 [==============================] - 0s 2ms/step - loss: 17.9484 - mape: 17.9484 - val_loss: 15.1159 - val_mape: 15.1159\n",
      "Epoch 112/200\n",
      "14/14 [==============================] - 0s 3ms/step - loss: 17.9468 - mape: 17.9468 - val_loss: 14.9814 - val_mape: 14.9814\n",
      "Epoch 113/200\n",
      "14/14 [==============================] - 0s 3ms/step - loss: 17.9579 - mape: 17.9579 - val_loss: 14.9983 - val_mape: 14.9983\n",
      "Epoch 114/200\n",
      "14/14 [==============================] - 0s 3ms/step - loss: 17.8825 - mape: 17.8825 - val_loss: 14.9573 - val_mape: 14.9573\n",
      "Epoch 115/200\n",
      "14/14 [==============================] - 0s 3ms/step - loss: 17.9187 - mape: 17.9187 - val_loss: 15.0382 - val_mape: 15.0382\n",
      "Epoch 116/200\n",
      "14/14 [==============================] - 0s 3ms/step - loss: 17.9237 - mape: 17.9237 - val_loss: 14.9965 - val_mape: 14.9965\n",
      "Epoch 117/200\n",
      "14/14 [==============================] - 0s 3ms/step - loss: 17.8560 - mape: 17.8560 - val_loss: 14.8551 - val_mape: 14.8551\n",
      "Epoch 118/200\n",
      "14/14 [==============================] - 0s 3ms/step - loss: 17.7929 - mape: 17.7929 - val_loss: 15.0193 - val_mape: 15.0193\n",
      "Epoch 119/200\n",
      "14/14 [==============================] - 0s 3ms/step - loss: 17.9816 - mape: 17.9816 - val_loss: 15.8357 - val_mape: 15.8357\n",
      "Epoch 120/200\n",
      "14/14 [==============================] - 0s 3ms/step - loss: 18.1310 - mape: 18.1310 - val_loss: 14.8774 - val_mape: 14.8774\n",
      "Epoch 121/200\n",
      "14/14 [==============================] - 0s 3ms/step - loss: 17.9612 - mape: 17.9612 - val_loss: 14.9250 - val_mape: 14.9250\n",
      "Epoch 122/200\n",
      "14/14 [==============================] - 0s 3ms/step - loss: 17.7639 - mape: 17.7639 - val_loss: 14.9168 - val_mape: 14.9168\n",
      "Epoch 123/200\n",
      "14/14 [==============================] - 0s 3ms/step - loss: 17.7475 - mape: 17.7475 - val_loss: 14.9261 - val_mape: 14.9261\n",
      "Epoch 124/200\n",
      "14/14 [==============================] - 0s 3ms/step - loss: 17.8459 - mape: 17.8459 - val_loss: 14.9029 - val_mape: 14.9029\n",
      "Epoch 125/200\n",
      "14/14 [==============================] - 0s 3ms/step - loss: 17.7789 - mape: 17.7789 - val_loss: 14.8471 - val_mape: 14.8471\n",
      "Epoch 126/200\n",
      "14/14 [==============================] - 0s 3ms/step - loss: 17.7578 - mape: 17.7578 - val_loss: 15.3073 - val_mape: 15.3073\n",
      "Epoch 127/200\n",
      "14/14 [==============================] - 0s 3ms/step - loss: 18.0089 - mape: 18.0089 - val_loss: 14.8032 - val_mape: 14.8032\n",
      "Epoch 128/200\n",
      "14/14 [==============================] - 0s 3ms/step - loss: 17.8957 - mape: 17.8957 - val_loss: 14.9377 - val_mape: 14.9377\n",
      "Epoch 129/200\n",
      "14/14 [==============================] - 0s 3ms/step - loss: 17.8313 - mape: 17.8313 - val_loss: 15.3359 - val_mape: 15.3359\n",
      "Epoch 130/200\n",
      "14/14 [==============================] - 0s 3ms/step - loss: 17.7033 - mape: 17.7033 - val_loss: 14.8707 - val_mape: 14.8707\n",
      "Epoch 131/200\n",
      "14/14 [==============================] - 0s 3ms/step - loss: 17.7156 - mape: 17.7156 - val_loss: 14.8725 - val_mape: 14.8725\n",
      "Epoch 132/200\n",
      "14/14 [==============================] - 0s 3ms/step - loss: 17.6678 - mape: 17.6678 - val_loss: 14.8067 - val_mape: 14.8067\n",
      "Epoch 133/200\n",
      "14/14 [==============================] - 0s 3ms/step - loss: 17.6676 - mape: 17.6676 - val_loss: 15.0319 - val_mape: 15.0319\n",
      "Epoch 134/200\n",
      "14/14 [==============================] - 0s 2ms/step - loss: 17.8441 - mape: 17.8441 - val_loss: 15.5373 - val_mape: 15.5373\n",
      "Epoch 135/200\n",
      "14/14 [==============================] - 0s 2ms/step - loss: 17.7453 - mape: 17.7453 - val_loss: 15.2772 - val_mape: 15.2772\n",
      "Epoch 136/200\n",
      "14/14 [==============================] - 0s 2ms/step - loss: 17.6905 - mape: 17.6905 - val_loss: 14.8691 - val_mape: 14.8691\n",
      "Epoch 137/200\n",
      "14/14 [==============================] - 0s 3ms/step - loss: 17.6934 - mape: 17.6934 - val_loss: 14.7886 - val_mape: 14.7886\n",
      "Epoch 138/200\n",
      "14/14 [==============================] - 0s 3ms/step - loss: 17.7955 - mape: 17.7955 - val_loss: 15.7937 - val_mape: 15.7937\n",
      "Epoch 139/200\n",
      "14/14 [==============================] - 0s 3ms/step - loss: 17.7948 - mape: 17.7948 - val_loss: 14.8164 - val_mape: 14.8164\n",
      "Epoch 140/200\n",
      "14/14 [==============================] - 0s 2ms/step - loss: 17.6588 - mape: 17.6588 - val_loss: 15.0699 - val_mape: 15.0699\n",
      "Epoch 141/200\n",
      "14/14 [==============================] - 0s 3ms/step - loss: 17.8805 - mape: 17.8805 - val_loss: 14.9580 - val_mape: 14.9580\n",
      "Epoch 142/200\n",
      "14/14 [==============================] - 0s 3ms/step - loss: 17.8267 - mape: 17.8267 - val_loss: 15.1565 - val_mape: 15.1565\n",
      "Epoch 143/200\n",
      "14/14 [==============================] - 0s 2ms/step - loss: 17.5004 - mape: 17.5004 - val_loss: 15.3104 - val_mape: 15.3104\n",
      "Epoch 144/200\n",
      "14/14 [==============================] - 0s 3ms/step - loss: 17.6370 - mape: 17.6370 - val_loss: 14.7102 - val_mape: 14.7102\n",
      "Epoch 145/200\n",
      "14/14 [==============================] - 0s 3ms/step - loss: 17.5683 - mape: 17.5683 - val_loss: 14.7640 - val_mape: 14.7640\n",
      "Epoch 146/200\n",
      "14/14 [==============================] - 0s 3ms/step - loss: 17.5910 - mape: 17.5910 - val_loss: 14.7475 - val_mape: 14.7475\n",
      "Epoch 147/200\n",
      "14/14 [==============================] - 0s 2ms/step - loss: 17.7011 - mape: 17.7011 - val_loss: 15.1009 - val_mape: 15.1009\n",
      "Epoch 148/200\n",
      "14/14 [==============================] - 0s 3ms/step - loss: 17.9651 - mape: 17.9651 - val_loss: 15.4359 - val_mape: 15.4359\n",
      "Epoch 149/200\n",
      "14/14 [==============================] - 0s 3ms/step - loss: 17.9701 - mape: 17.9701 - val_loss: 14.8273 - val_mape: 14.8273\n",
      "Epoch 150/200\n",
      "14/14 [==============================] - 0s 3ms/step - loss: 17.5670 - mape: 17.5670 - val_loss: 14.7442 - val_mape: 14.7442\n",
      "Epoch 151/200\n",
      "14/14 [==============================] - 0s 2ms/step - loss: 17.5638 - mape: 17.5638 - val_loss: 14.7315 - val_mape: 14.7315\n",
      "Epoch 152/200\n",
      "14/14 [==============================] - 0s 2ms/step - loss: 17.5875 - mape: 17.5875 - val_loss: 15.6487 - val_mape: 15.6487\n",
      "Epoch 153/200\n",
      "14/14 [==============================] - 0s 3ms/step - loss: 17.7088 - mape: 17.7088 - val_loss: 15.0314 - val_mape: 15.0314\n",
      "Epoch 154/200\n",
      "14/14 [==============================] - 0s 3ms/step - loss: 17.5025 - mape: 17.5025 - val_loss: 14.8306 - val_mape: 14.8306\n",
      "Epoch 155/200\n",
      "14/14 [==============================] - 0s 3ms/step - loss: 17.6091 - mape: 17.6091 - val_loss: 14.8255 - val_mape: 14.8255\n",
      "Epoch 156/200\n",
      "14/14 [==============================] - 0s 3ms/step - loss: 18.0041 - mape: 18.0041 - val_loss: 15.5620 - val_mape: 15.5620\n",
      "Epoch 157/200\n",
      "14/14 [==============================] - 0s 3ms/step - loss: 18.1067 - mape: 18.1067 - val_loss: 14.8358 - val_mape: 14.8358\n",
      "Epoch 158/200\n",
      "14/14 [==============================] - 0s 3ms/step - loss: 17.7973 - mape: 17.7973 - val_loss: 14.5739 - val_mape: 14.5739\n",
      "Epoch 159/200\n",
      "14/14 [==============================] - 0s 3ms/step - loss: 17.4998 - mape: 17.4998 - val_loss: 14.9548 - val_mape: 14.9548\n",
      "Epoch 160/200\n",
      "14/14 [==============================] - 0s 3ms/step - loss: 17.5520 - mape: 17.5520 - val_loss: 14.6699 - val_mape: 14.6699\n",
      "Epoch 161/200\n",
      "14/14 [==============================] - 0s 3ms/step - loss: 17.5308 - mape: 17.5308 - val_loss: 14.6635 - val_mape: 14.6635\n",
      "Epoch 162/200\n",
      "14/14 [==============================] - 0s 3ms/step - loss: 17.4938 - mape: 17.4938 - val_loss: 14.7897 - val_mape: 14.7897\n",
      "Epoch 163/200\n",
      "14/14 [==============================] - 0s 3ms/step - loss: 17.4893 - mape: 17.4893 - val_loss: 14.6381 - val_mape: 14.6381\n",
      "Epoch 164/200\n",
      "14/14 [==============================] - 0s 3ms/step - loss: 17.4478 - mape: 17.4478 - val_loss: 14.6663 - val_mape: 14.6663\n",
      "Epoch 165/200\n",
      "14/14 [==============================] - 0s 3ms/step - loss: 17.4597 - mape: 17.4597 - val_loss: 14.7325 - val_mape: 14.7325\n",
      "Epoch 166/200\n",
      "14/14 [==============================] - 0s 3ms/step - loss: 17.5515 - mape: 17.5515 - val_loss: 14.5662 - val_mape: 14.5662\n",
      "Epoch 167/200\n",
      "14/14 [==============================] - 0s 3ms/step - loss: 17.7161 - mape: 17.7161 - val_loss: 16.9733 - val_mape: 16.9733\n",
      "Epoch 168/200\n",
      "14/14 [==============================] - 0s 3ms/step - loss: 17.9309 - mape: 17.9309 - val_loss: 14.6060 - val_mape: 14.6060\n",
      "Epoch 169/200\n",
      "14/14 [==============================] - 0s 3ms/step - loss: 17.4267 - mape: 17.4267 - val_loss: 14.7877 - val_mape: 14.7877\n",
      "Epoch 170/200\n",
      "14/14 [==============================] - 0s 3ms/step - loss: 17.3738 - mape: 17.3738 - val_loss: 15.6190 - val_mape: 15.6190\n",
      "Epoch 171/200\n",
      "14/14 [==============================] - 0s 2ms/step - loss: 17.6064 - mape: 17.6064 - val_loss: 15.9369 - val_mape: 15.9369\n",
      "Epoch 172/200\n",
      "14/14 [==============================] - 0s 2ms/step - loss: 17.5712 - mape: 17.5712 - val_loss: 14.6519 - val_mape: 14.6519\n",
      "Epoch 173/200\n",
      "14/14 [==============================] - 0s 2ms/step - loss: 17.4202 - mape: 17.4202 - val_loss: 14.7471 - val_mape: 14.7471\n",
      "Epoch 174/200\n",
      "14/14 [==============================] - 0s 2ms/step - loss: 17.7188 - mape: 17.7188 - val_loss: 14.7998 - val_mape: 14.7998\n",
      "Epoch 175/200\n",
      "14/14 [==============================] - 0s 3ms/step - loss: 17.4382 - mape: 17.4382 - val_loss: 14.6003 - val_mape: 14.6003\n",
      "Epoch 176/200\n",
      "14/14 [==============================] - 0s 3ms/step - loss: 17.4744 - mape: 17.4744 - val_loss: 14.7411 - val_mape: 14.7411\n",
      "Epoch 177/200\n",
      "14/14 [==============================] - 0s 3ms/step - loss: 17.3936 - mape: 17.3936 - val_loss: 14.7890 - val_mape: 14.7890\n",
      "Epoch 178/200\n",
      "14/14 [==============================] - 0s 3ms/step - loss: 17.4998 - mape: 17.4998 - val_loss: 14.6119 - val_mape: 14.6119\n",
      "Epoch 179/200\n",
      "14/14 [==============================] - 0s 3ms/step - loss: 17.4244 - mape: 17.4244 - val_loss: 14.7703 - val_mape: 14.7703\n",
      "Epoch 180/200\n",
      "14/14 [==============================] - 0s 3ms/step - loss: 17.8355 - mape: 17.8355 - val_loss: 15.0276 - val_mape: 15.0276\n",
      "Epoch 181/200\n",
      "14/14 [==============================] - 0s 3ms/step - loss: 17.3616 - mape: 17.3616 - val_loss: 14.6457 - val_mape: 14.6457\n",
      "Epoch 182/200\n",
      "14/14 [==============================] - 0s 3ms/step - loss: 17.4212 - mape: 17.4212 - val_loss: 14.7181 - val_mape: 14.7181\n",
      "Epoch 183/200\n",
      "14/14 [==============================] - 0s 3ms/step - loss: 17.3559 - mape: 17.3559 - val_loss: 14.9373 - val_mape: 14.9373\n",
      "Epoch 184/200\n",
      "14/14 [==============================] - 0s 2ms/step - loss: 17.3193 - mape: 17.3193 - val_loss: 15.0318 - val_mape: 15.0318\n",
      "Epoch 185/200\n",
      "14/14 [==============================] - 0s 2ms/step - loss: 17.3675 - mape: 17.3675 - val_loss: 15.3035 - val_mape: 15.3035\n",
      "Epoch 186/200\n",
      "14/14 [==============================] - 0s 3ms/step - loss: 17.7112 - mape: 17.7112 - val_loss: 15.6516 - val_mape: 15.6516\n",
      "Epoch 187/200\n",
      "14/14 [==============================] - 0s 3ms/step - loss: 17.4448 - mape: 17.4448 - val_loss: 14.7119 - val_mape: 14.7119\n",
      "Epoch 188/200\n",
      "14/14 [==============================] - 0s 3ms/step - loss: 17.3213 - mape: 17.3213 - val_loss: 14.8113 - val_mape: 14.8113\n",
      "Epoch 189/200\n",
      "14/14 [==============================] - 0s 3ms/step - loss: 17.4759 - mape: 17.4759 - val_loss: 15.2902 - val_mape: 15.2902\n",
      "Epoch 190/200\n",
      "14/14 [==============================] - 0s 3ms/step - loss: 17.6445 - mape: 17.6445 - val_loss: 15.1458 - val_mape: 15.1458\n",
      "Epoch 191/200\n",
      "14/14 [==============================] - 0s 3ms/step - loss: 17.8026 - mape: 17.8026 - val_loss: 14.8258 - val_mape: 14.8258\n",
      "Epoch 192/200\n",
      "14/14 [==============================] - 0s 3ms/step - loss: 17.6522 - mape: 17.6522 - val_loss: 14.9645 - val_mape: 14.9645\n",
      "Epoch 193/200\n",
      "14/14 [==============================] - 0s 3ms/step - loss: 17.3364 - mape: 17.3364 - val_loss: 14.9771 - val_mape: 14.9771\n",
      "Epoch 194/200\n",
      "14/14 [==============================] - 0s 3ms/step - loss: 17.3539 - mape: 17.3539 - val_loss: 15.0544 - val_mape: 15.0544\n",
      "Epoch 195/200\n",
      "14/14 [==============================] - 0s 3ms/step - loss: 17.3442 - mape: 17.3442 - val_loss: 14.9442 - val_mape: 14.9442\n",
      "Epoch 196/200\n",
      "14/14 [==============================] - 0s 2ms/step - loss: 17.3191 - mape: 17.3191 - val_loss: 14.9647 - val_mape: 14.9647\n",
      "Epoch 197/200\n",
      "14/14 [==============================] - 0s 3ms/step - loss: 17.5158 - mape: 17.5158 - val_loss: 14.9619 - val_mape: 14.9619\n",
      "Epoch 198/200\n",
      "14/14 [==============================] - 0s 2ms/step - loss: 17.3181 - mape: 17.3181 - val_loss: 15.2469 - val_mape: 15.2469\n",
      "Epoch 199/200\n",
      "14/14 [==============================] - 0s 2ms/step - loss: 17.3411 - mape: 17.3411 - val_loss: 14.9017 - val_mape: 14.9017\n",
      "Epoch 200/200\n",
      "14/14 [==============================] - 0s 3ms/step - loss: 17.3992 - mape: 17.3992 - val_loss: 14.8434 - val_mape: 14.8434\n"
     ]
    }
   ],
   "source": [
    "model = Sequential()\n",
    "model.add(Dense(64,activation='relu',input_dim = 6))\n",
    "model.add(Dense(1,activation='linear'))\n",
    "ad=optimizers.Adam(learning_rate=0.001007384672015655)\n",
    "model.compile(optimizer = ad, loss = 'mape', metrics = ['mape'])\n",
    "model_history=model.fit(trainX, trainY,validation_data=(testX,testY), batch_size = 32, epochs = 200)"
   ]
  },
  {
   "cell_type": "code",
   "execution_count": 35,
   "id": "77c05906",
   "metadata": {
    "id": "77c05906"
   },
   "outputs": [],
   "source": [
    "def model_loss(history):\n",
    "    plt.figure(figsize=(8,4))\n",
    "    plt.plot(history.history['loss'], label='Train Loss')\n",
    "    plt.plot(history.history['val_loss'], label='Test Loss')\n",
    "    plt.title('model loss')\n",
    "    plt.ylabel('loss')\n",
    "    plt.xlabel('epochs')\n",
    "    plt.legend(loc='upper right')\n",
    "    plt.show();"
   ]
  },
  {
   "cell_type": "code",
   "execution_count": 36,
   "id": "45a22c27",
   "metadata": {
    "colab": {
     "base_uri": "https://localhost:8080/",
     "height": 330
    },
    "id": "45a22c27",
    "outputId": "37024b06-c626-4e53-f357-6d0f0fab1d0b"
   },
   "outputs": [
    {
     "name": "stdout",
     "output_type": "stream",
     "text": [
      "Train MAPE : 17.29\n",
      "Test MAPE : 14.84\n"
     ]
    },
    {
     "data": {
      "image/png": "[encoded data removed]",
      "text/plain": [
       "<Figure size 576x288 with 1 Axes>"
      ]
     },
     "metadata": {
      "needs_background": "light"
     },
     "output_type": "display_data"
    }
   ],
   "source": [
    "train_score = model.evaluate(trainX, trainY, verbose=0)\n",
    "print('Train MAPE : %.2f'% (train_score[1]))\n",
    "test_score = model.evaluate(testX, testY, verbose=0)\n",
    "print('Test MAPE : %.2f'% (test_score[1]))\n",
    "model_loss(model_history)"
   ]
  },
  {
   "cell_type": "code",
   "execution_count": 37,
   "id": "dc942f74",
   "metadata": {
    "id": "dc942f74"
   },
   "outputs": [],
   "source": [
    "import seaborn as sns"
   ]
  },
  {
   "cell_type": "code",
   "execution_count": 38,
   "id": "dee9bab8",
   "metadata": {
    "id": "dee9bab8"
   },
   "outputs": [],
   "source": [
    "def prediction_plot(testY, test_predict):\n",
    "    len_prediction=[x for x in range(444,486)]\n",
    "    plt.figure(figsize=(15,8))\n",
    "    plt.plot(trainY)\n",
    "    plt.plot(len_prediction, testY, marker='.', label=\"actual\")\n",
    "    plt.plot(len_prediction, test_predict, 'g', label=\"prediction\")\n",
    "    plt.tight_layout()\n",
    "    sns.despine(top=True)\n",
    "    plt.subplots_adjust(left=0.07)\n",
    "    plt.ylabel('Sales', size=15)\n",
    "    plt.xlabel('Time step', size=15)\n",
    "    plt.legend(fontsize=15)\n",
    "    plt.show();"
   ]
  },
  {
   "cell_type": "code",
   "execution_count": 39,
   "id": "363040b5",
   "metadata": {
    "colab": {
     "base_uri": "https://localhost:8080/",
     "height": 604
    },
    "id": "363040b5",
    "outputId": "de2f1ce0-d0cb-4b48-d00b-2d81a2791577"
   },
   "outputs": [
    {
     "data": {
      "image/png": "[encoded data removed]",
      "text/plain": [
       "<Figure size 1080x576 with 1 Axes>"
      ]
     },
     "metadata": {
      "needs_background": "light"
     },
     "output_type": "display_data"
    }
   ],
   "source": [
    "test_predict = model.predict(testX)\n",
    "prediction_plot(testY, test_predict)"
   ]
  },
  {
   "cell_type": "code",
   "execution_count": null,
   "id": "f8a7708c",
   "metadata": {
    "id": "f8a7708c"
   },
   "outputs": [],
   "source": []
  }
 ],
 "metadata": {
  "colab": {
   "collapsed_sections": [],
   "name": "Delhi_electric_HPT_ANN.ipynb",
   "provenance": []
  },
  "kernelspec": {
   "display_name": "Python 3",
   "language": "python",
   "name": "python3"
  },
  "language_info": {
   "codemirror_mode": {
    "name": "ipython",
    "version": 3
   },
   "file_extension": ".py",
   "mimetype": "text/x-python",
   "name": "python",
   "nbconvert_exporter": "python",
   "pygments_lexer": "ipython3",
   "version": "3.8.8"
  }
 },
 "nbformat": 4,
 "nbformat_minor": 5
}
