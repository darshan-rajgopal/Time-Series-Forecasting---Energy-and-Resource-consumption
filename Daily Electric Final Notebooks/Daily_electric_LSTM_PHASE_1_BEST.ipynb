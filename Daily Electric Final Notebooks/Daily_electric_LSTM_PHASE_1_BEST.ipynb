{
 "cells": [
  {
   "cell_type": "code",
   "execution_count": 1,
   "id": "c2ef9b47",
   "metadata": {
    "id": "c2ef9b47"
   },
   "outputs": [],
   "source": [
    "import numpy as np\n",
    "import pandas as pd\n",
    "from tensorflow.keras.models import Sequential\n",
    "from tensorflow.keras.layers import LSTM\n",
    "from tensorflow.keras.layers import Dense\n",
    "from tensorflow.keras.layers import Flatten\n",
    "import matplotlib.pyplot as plt\n",
    "import warnings\n",
    "warnings.filterwarnings('ignore')\n",
    "%matplotlib inline"
   ]
  },
  {
   "cell_type": "code",
   "execution_count": 2,
   "id": "iGQk9lcRmucZ",
   "metadata": {
    "colab": {
     "base_uri": "https://localhost:8080/"
    },
    "id": "iGQk9lcRmucZ",
    "outputId": "c6dba3b5-9f7e-425d-820f-5b50b9e6b55e"
   },
   "outputs": [
    {
     "name": "stdout",
     "output_type": "stream",
     "text": [
      "Mounted at /content/drive\n"
     ]
    }
   ],
   "source": [
    "from google.colab import drive\n",
    "drive.mount('/content/drive')"
   ]
  },
  {
   "cell_type": "code",
   "execution_count": null,
   "id": "BxDZtfokj6Da",
   "metadata": {
    "id": "BxDZtfokj6Da"
   },
   "outputs": [],
   "source": [
    "import tensorflow as tf\n",
    "tf.test.gpu_device_name()"
   ]
  },
  {
   "cell_type": "code",
   "execution_count": null,
   "id": "UDt4KrAxj6JS",
   "metadata": {
    "id": "UDt4KrAxj6JS"
   },
   "outputs": [],
   "source": [
    "from tensorflow.python.client import device_lib\n",
    "device_lib.list_local_devices()"
   ]
  },
  {
   "cell_type": "code",
   "execution_count": 3,
   "id": "30d066a0",
   "metadata": {
    "colab": {
     "base_uri": "https://localhost:8080/",
     "height": 206
    },
    "id": "30d066a0",
    "outputId": "1596e180-08a0-42d4-fe4a-9cfbac8570ad"
   },
   "outputs": [
    {
     "data": {
      "text/html": [
       "\n",
       "  <div id=\"df-a9aa3b0c-18ce-4778-9202-362a2e57babd\">\n",
       "    <div class=\"colab-df-container\">\n",
       "      <div>\n",
       "<style scoped>\n",
       "    .dataframe tbody tr th:only-of-type {\n",
       "        vertical-align: middle;\n",
       "    }\n",
       "\n",
       "    .dataframe tbody tr th {\n",
       "        vertical-align: top;\n",
       "    }\n",
       "\n",
       "    .dataframe thead th {\n",
       "        text-align: right;\n",
       "    }\n",
       "</style>\n",
       "<table border=\"1\" class=\"dataframe\">\n",
       "  <thead>\n",
       "    <tr style=\"text-align: right;\">\n",
       "      <th></th>\n",
       "      <th>date_time</th>\n",
       "      <th>active_power_consumed</th>\n",
       "      <th>meter_reading</th>\n",
       "    </tr>\n",
       "  </thead>\n",
       "  <tbody>\n",
       "    <tr>\n",
       "      <th>0</th>\n",
       "      <td>01-01-2009</td>\n",
       "      <td>0.976869</td>\n",
       "      <td>1.946528</td>\n",
       "    </tr>\n",
       "    <tr>\n",
       "      <th>1</th>\n",
       "      <td>02-01-2009</td>\n",
       "      <td>1.616326</td>\n",
       "      <td>8.222917</td>\n",
       "    </tr>\n",
       "    <tr>\n",
       "      <th>2</th>\n",
       "      <td>03-01-2009</td>\n",
       "      <td>1.328817</td>\n",
       "      <td>7.249306</td>\n",
       "    </tr>\n",
       "    <tr>\n",
       "      <th>3</th>\n",
       "      <td>04-01-2009</td>\n",
       "      <td>1.347218</td>\n",
       "      <td>2.253472</td>\n",
       "    </tr>\n",
       "    <tr>\n",
       "      <th>4</th>\n",
       "      <td>05-01-2009</td>\n",
       "      <td>1.113889</td>\n",
       "      <td>6.006944</td>\n",
       "    </tr>\n",
       "  </tbody>\n",
       "</table>\n",
       "</div>\n",
       "      <button class=\"colab-df-convert\" onclick=\"convertToInteractive('df-a9aa3b0c-18ce-4778-9202-362a2e57babd')\"\n",
       "              title=\"Convert this dataframe to an interactive table.\"\n",
       "              style=\"display:none;\">\n",
       "        \n",
       "  <svg xmlns=\"http://www.w3.org/2000/svg\" height=\"24px\"viewBox=\"0 0 24 24\"\n",
       "       width=\"24px\">\n",
       "    <path d=\"M0 0h24v24H0V0z\" fill=\"none\"/>\n",
       "    <path d=\"M18.56 5.44l.94 2.06.94-2.06 2.06-.94-2.06-.94-.94-2.06-.94 2.06-2.06.94zm-11 1L8.5 8.5l.94-2.06 2.06-.94-2.06-.94L8.5 2.5l-.94 2.06-2.06.94zm10 10l.94 2.06.94-2.06 2.06-.94-2.06-.94-.94-2.06-.94 2.06-2.06.94z\"/><path d=\"M17.41 7.96l-1.37-1.37c-.4-.4-.92-.59-1.43-.59-.52 0-1.04.2-1.43.59L10.3 9.45l-7.72 7.72c-.78.78-.78 2.05 0 2.83L4 21.41c.39.39.9.59 1.41.59.51 0 1.02-.2 1.41-.59l7.78-7.78 2.81-2.81c.8-.78.8-2.07 0-2.86zM5.41 20L4 18.59l7.72-7.72 1.47 1.35L5.41 20z\"/>\n",
       "  </svg>\n",
       "      </button>\n",
       "      \n",
       "  <style>\n",
       "    .colab-df-container {\n",
       "      display:flex;\n",
       "      flex-wrap:wrap;\n",
       "      gap: 12px;\n",
       "    }\n",
       "\n",
       "    .colab-df-convert {\n",
       "      background-color: #E8F0FE;\n",
       "      border: none;\n",
       "      border-radius: 50%;\n",
       "      cursor: pointer;\n",
       "      display: none;\n",
       "      fill: #1967D2;\n",
       "      height: 32px;\n",
       "      padding: 0 0 0 0;\n",
       "      width: 32px;\n",
       "    }\n",
       "\n",
       "    .colab-df-convert:hover {\n",
       "      background-color: #E2EBFA;\n",
       "      box-shadow: 0px 1px 2px rgba(60, 64, 67, 0.3), 0px 1px 3px 1px rgba(60, 64, 67, 0.15);\n",
       "      fill: #174EA6;\n",
       "    }\n",
       "\n",
       "    [theme=dark] .colab-df-convert {\n",
       "      background-color: #3B4455;\n",
       "      fill: #D2E3FC;\n",
       "    }\n",
       "\n",
       "    [theme=dark] .colab-df-convert:hover {\n",
       "      background-color: #434B5C;\n",
       "      box-shadow: 0px 1px 3px 1px rgba(0, 0, 0, 0.15);\n",
       "      filter: drop-shadow(0px 1px 2px rgba(0, 0, 0, 0.3));\n",
       "      fill: #FFFFFF;\n",
       "    }\n",
       "  </style>\n",
       "\n",
       "      <script>\n",
       "        const buttonEl =\n",
       "          document.querySelector('#df-a9aa3b0c-18ce-4778-9202-362a2e57babd button.colab-df-convert');\n",
       "        buttonEl.style.display =\n",
       "          google.colab.kernel.accessAllowed ? 'block' : 'none';\n",
       "\n",
       "        async function convertToInteractive(key) {\n",
       "          const element = document.querySelector('#df-a9aa3b0c-18ce-4778-9202-362a2e57babd');\n",
       "          const dataTable =\n",
       "            await google.colab.kernel.invokeFunction('convertToInteractive',\n",
       "                                                     [key], {});\n",
       "          if (!dataTable) return;\n",
       "\n",
       "          const docLinkHtml = 'Like what you see? Visit the ' +\n",
       "            '<a target=\"_blank\" href=https://colab.research.google.com/notebooks/data_table.ipynb>data table notebook</a>'\n",
       "            + ' to learn more about interactive tables.';\n",
       "          element.innerHTML = '';\n",
       "          dataTable['output_type'] = 'display_data';\n",
       "          await google.colab.output.renderOutput(dataTable, element);\n",
       "          const docLink = document.createElement('div');\n",
       "          docLink.innerHTML = docLinkHtml;\n",
       "          element.appendChild(docLink);\n",
       "        }\n",
       "      </script>\n",
       "    </div>\n",
       "  </div>\n",
       "  "
      ],
      "text/plain": [
       "    date_time  active_power_consumed  meter_reading\n",
       "0  01-01-2009               0.976869       1.946528\n",
       "1  02-01-2009               1.616326       8.222917\n",
       "2  03-01-2009               1.328817       7.249306\n",
       "3  04-01-2009               1.347218       2.253472\n",
       "4  05-01-2009               1.113889       6.006944"
      ]
     },
     "execution_count": 3,
     "metadata": {},
     "output_type": "execute_result"
    }
   ],
   "source": [
    "df = pd.read_csv('/content/drive/MyDrive/Colab Notebooks/Energy/Daily_electricity_consumption.csv')\n",
    "df.head()"
   ]
  },
  {
   "cell_type": "code",
   "execution_count": 6,
   "id": "e2663bb4",
   "metadata": {
    "colab": {
     "base_uri": "https://localhost:8080/",
     "height": 206
    },
    "id": "e2663bb4",
    "outputId": "70748a75-2442-47fc-a52f-2548983f57b8"
   },
   "outputs": [
    {
     "data": {
      "text/html": [
       "\n",
       "  <div id=\"df-cb4f61fa-8efd-44e9-b6a8-c7bbc62a2416\">\n",
       "    <div class=\"colab-df-container\">\n",
       "      <div>\n",
       "<style scoped>\n",
       "    .dataframe tbody tr th:only-of-type {\n",
       "        vertical-align: middle;\n",
       "    }\n",
       "\n",
       "    .dataframe tbody tr th {\n",
       "        vertical-align: top;\n",
       "    }\n",
       "\n",
       "    .dataframe thead th {\n",
       "        text-align: right;\n",
       "    }\n",
       "</style>\n",
       "<table border=\"1\" class=\"dataframe\">\n",
       "  <thead>\n",
       "    <tr style=\"text-align: right;\">\n",
       "      <th></th>\n",
       "      <th>date_time</th>\n",
       "      <th>active_power_consumed</th>\n",
       "      <th>meter_reading</th>\n",
       "    </tr>\n",
       "  </thead>\n",
       "  <tbody>\n",
       "    <tr>\n",
       "      <th>690</th>\n",
       "      <td>22-11-2010</td>\n",
       "      <td>1.417733</td>\n",
       "      <td>7.038889</td>\n",
       "    </tr>\n",
       "    <tr>\n",
       "      <th>691</th>\n",
       "      <td>23-11-2010</td>\n",
       "      <td>1.095511</td>\n",
       "      <td>5.285417</td>\n",
       "    </tr>\n",
       "    <tr>\n",
       "      <th>692</th>\n",
       "      <td>24-11-2010</td>\n",
       "      <td>1.247394</td>\n",
       "      <td>8.488889</td>\n",
       "    </tr>\n",
       "    <tr>\n",
       "      <th>693</th>\n",
       "      <td>25-11-2010</td>\n",
       "      <td>0.993864</td>\n",
       "      <td>3.522222</td>\n",
       "    </tr>\n",
       "    <tr>\n",
       "      <th>694</th>\n",
       "      <td>26-11-2010</td>\n",
       "      <td>1.178230</td>\n",
       "      <td>7.908947</td>\n",
       "    </tr>\n",
       "  </tbody>\n",
       "</table>\n",
       "</div>\n",
       "      <button class=\"colab-df-convert\" onclick=\"convertToInteractive('df-cb4f61fa-8efd-44e9-b6a8-c7bbc62a2416')\"\n",
       "              title=\"Convert this dataframe to an interactive table.\"\n",
       "              style=\"display:none;\">\n",
       "        \n",
       "  <svg xmlns=\"http://www.w3.org/2000/svg\" height=\"24px\"viewBox=\"0 0 24 24\"\n",
       "       width=\"24px\">\n",
       "    <path d=\"M0 0h24v24H0V0z\" fill=\"none\"/>\n",
       "    <path d=\"M18.56 5.44l.94 2.06.94-2.06 2.06-.94-2.06-.94-.94-2.06-.94 2.06-2.06.94zm-11 1L8.5 8.5l.94-2.06 2.06-.94-2.06-.94L8.5 2.5l-.94 2.06-2.06.94zm10 10l.94 2.06.94-2.06 2.06-.94-2.06-.94-.94-2.06-.94 2.06-2.06.94z\"/><path d=\"M17.41 7.96l-1.37-1.37c-.4-.4-.92-.59-1.43-.59-.52 0-1.04.2-1.43.59L10.3 9.45l-7.72 7.72c-.78.78-.78 2.05 0 2.83L4 21.41c.39.39.9.59 1.41.59.51 0 1.02-.2 1.41-.59l7.78-7.78 2.81-2.81c.8-.78.8-2.07 0-2.86zM5.41 20L4 18.59l7.72-7.72 1.47 1.35L5.41 20z\"/>\n",
       "  </svg>\n",
       "      </button>\n",
       "      \n",
       "  <style>\n",
       "    .colab-df-container {\n",
       "      display:flex;\n",
       "      flex-wrap:wrap;\n",
       "      gap: 12px;\n",
       "    }\n",
       "\n",
       "    .colab-df-convert {\n",
       "      background-color: #E8F0FE;\n",
       "      border: none;\n",
       "      border-radius: 50%;\n",
       "      cursor: pointer;\n",
       "      display: none;\n",
       "      fill: #1967D2;\n",
       "      height: 32px;\n",
       "      padding: 0 0 0 0;\n",
       "      width: 32px;\n",
       "    }\n",
       "\n",
       "    .colab-df-convert:hover {\n",
       "      background-color: #E2EBFA;\n",
       "      box-shadow: 0px 1px 2px rgba(60, 64, 67, 0.3), 0px 1px 3px 1px rgba(60, 64, 67, 0.15);\n",
       "      fill: #174EA6;\n",
       "    }\n",
       "\n",
       "    [theme=dark] .colab-df-convert {\n",
       "      background-color: #3B4455;\n",
       "      fill: #D2E3FC;\n",
       "    }\n",
       "\n",
       "    [theme=dark] .colab-df-convert:hover {\n",
       "      background-color: #434B5C;\n",
       "      box-shadow: 0px 1px 3px 1px rgba(0, 0, 0, 0.15);\n",
       "      filter: drop-shadow(0px 1px 2px rgba(0, 0, 0, 0.3));\n",
       "      fill: #FFFFFF;\n",
       "    }\n",
       "  </style>\n",
       "\n",
       "      <script>\n",
       "        const buttonEl =\n",
       "          document.querySelector('#df-cb4f61fa-8efd-44e9-b6a8-c7bbc62a2416 button.colab-df-convert');\n",
       "        buttonEl.style.display =\n",
       "          google.colab.kernel.accessAllowed ? 'block' : 'none';\n",
       "\n",
       "        async function convertToInteractive(key) {\n",
       "          const element = document.querySelector('#df-cb4f61fa-8efd-44e9-b6a8-c7bbc62a2416');\n",
       "          const dataTable =\n",
       "            await google.colab.kernel.invokeFunction('convertToInteractive',\n",
       "                                                     [key], {});\n",
       "          if (!dataTable) return;\n",
       "\n",
       "          const docLinkHtml = 'Like what you see? Visit the ' +\n",
       "            '<a target=\"_blank\" href=https://colab.research.google.com/notebooks/data_table.ipynb>data table notebook</a>'\n",
       "            + ' to learn more about interactive tables.';\n",
       "          element.innerHTML = '';\n",
       "          dataTable['output_type'] = 'display_data';\n",
       "          await google.colab.output.renderOutput(dataTable, element);\n",
       "          const docLink = document.createElement('div');\n",
       "          docLink.innerHTML = docLinkHtml;\n",
       "          element.appendChild(docLink);\n",
       "        }\n",
       "      </script>\n",
       "    </div>\n",
       "  </div>\n",
       "  "
      ],
      "text/plain": [
       "      date_time  active_power_consumed  meter_reading\n",
       "690  22-11-2010               1.417733       7.038889\n",
       "691  23-11-2010               1.095511       5.285417\n",
       "692  24-11-2010               1.247394       8.488889\n",
       "693  25-11-2010               0.993864       3.522222\n",
       "694  26-11-2010               1.178230       7.908947"
      ]
     },
     "execution_count": 6,
     "metadata": {},
     "output_type": "execute_result"
    }
   ],
   "source": [
    "df.tail()"
   ]
  },
  {
   "cell_type": "code",
   "execution_count": 7,
   "id": "0482272d",
   "metadata": {
    "colab": {
     "base_uri": "https://localhost:8080/"
    },
    "id": "0482272d",
    "outputId": "8761124a-9947-4b22-8847-d3fe4d733608"
   },
   "outputs": [
    {
     "data": {
      "text/plain": [
       "(695, 3)"
      ]
     },
     "execution_count": 7,
     "metadata": {},
     "output_type": "execute_result"
    }
   ],
   "source": [
    "df.shape"
   ]
  },
  {
   "cell_type": "code",
   "execution_count": 8,
   "id": "076f1ad3",
   "metadata": {
    "colab": {
     "base_uri": "https://localhost:8080/"
    },
    "id": "076f1ad3",
    "outputId": "4772bf31-11d9-4294-ee58-93b0a1b77116"
   },
   "outputs": [
    {
     "name": "stdout",
     "output_type": "stream",
     "text": [
      "<class 'pandas.core.frame.DataFrame'>\n",
      "RangeIndex: 695 entries, 0 to 694\n",
      "Data columns (total 3 columns):\n",
      " #   Column                 Non-Null Count  Dtype  \n",
      "---  ------                 --------------  -----  \n",
      " 0   date_time              695 non-null    object \n",
      " 1   active_power_consumed  695 non-null    float64\n",
      " 2   meter_reading          695 non-null    float64\n",
      "dtypes: float64(2), object(1)\n",
      "memory usage: 16.4+ KB\n"
     ]
    }
   ],
   "source": [
    "df.info()"
   ]
  },
  {
   "cell_type": "code",
   "execution_count": 9,
   "id": "IKYuy6u9oVZN",
   "metadata": {
    "colab": {
     "base_uri": "https://localhost:8080/"
    },
    "id": "IKYuy6u9oVZN",
    "outputId": "ed522e28-7f70-480b-f769-e6f713dd3102"
   },
   "outputs": [
    {
     "data": {
      "text/plain": [
       "date_time                0\n",
       "active_power_consumed    0\n",
       "meter_reading            0\n",
       "dtype: int64"
      ]
     },
     "execution_count": 9,
     "metadata": {},
     "output_type": "execute_result"
    }
   ],
   "source": [
    "df.isnull().sum()"
   ]
  },
  {
   "cell_type": "code",
   "execution_count": 10,
   "id": "93827e39",
   "metadata": {
    "id": "93827e39"
   },
   "outputs": [],
   "source": [
    "time = pd.date_range(start='1/1/2009',end='11/26/2010',freq='D')\n",
    "df['time_stamp'] = pd.DataFrame(time)\n",
    "df.drop('date_time',axis=1,inplace=True)\n",
    "df = df.set_index('time_stamp')"
   ]
  },
  {
   "cell_type": "code",
   "execution_count": 11,
   "id": "S0kNKRMAocKq",
   "metadata": {
    "colab": {
     "base_uri": "https://localhost:8080/"
    },
    "id": "S0kNKRMAocKq",
    "outputId": "d0d8d1a9-bd7a-45d4-a821-0abe85775c2f"
   },
   "outputs": [
    {
     "data": {
      "text/plain": [
       "695"
      ]
     },
     "execution_count": 11,
     "metadata": {},
     "output_type": "execute_result"
    }
   ],
   "source": [
    "len(time)"
   ]
  },
  {
   "cell_type": "code",
   "execution_count": 12,
   "id": "522f2b8e",
   "metadata": {
    "colab": {
     "base_uri": "https://localhost:8080/",
     "height": 238
    },
    "id": "522f2b8e",
    "outputId": "c4643272-a4da-4282-8c9b-0186c172eb03"
   },
   "outputs": [
    {
     "data": {
      "text/html": [
       "\n",
       "  <div id=\"df-8c6bfea4-7101-4c1f-adda-2d253a92db14\">\n",
       "    <div class=\"colab-df-container\">\n",
       "      <div>\n",
       "<style scoped>\n",
       "    .dataframe tbody tr th:only-of-type {\n",
       "        vertical-align: middle;\n",
       "    }\n",
       "\n",
       "    .dataframe tbody tr th {\n",
       "        vertical-align: top;\n",
       "    }\n",
       "\n",
       "    .dataframe thead th {\n",
       "        text-align: right;\n",
       "    }\n",
       "</style>\n",
       "<table border=\"1\" class=\"dataframe\">\n",
       "  <thead>\n",
       "    <tr style=\"text-align: right;\">\n",
       "      <th></th>\n",
       "      <th>active_power_consumed</th>\n",
       "      <th>meter_reading</th>\n",
       "    </tr>\n",
       "    <tr>\n",
       "      <th>time_stamp</th>\n",
       "      <th></th>\n",
       "      <th></th>\n",
       "    </tr>\n",
       "  </thead>\n",
       "  <tbody>\n",
       "    <tr>\n",
       "      <th>2009-01-01</th>\n",
       "      <td>0.976869</td>\n",
       "      <td>1.946528</td>\n",
       "    </tr>\n",
       "    <tr>\n",
       "      <th>2009-01-02</th>\n",
       "      <td>1.616326</td>\n",
       "      <td>8.222917</td>\n",
       "    </tr>\n",
       "    <tr>\n",
       "      <th>2009-01-03</th>\n",
       "      <td>1.328817</td>\n",
       "      <td>7.249306</td>\n",
       "    </tr>\n",
       "    <tr>\n",
       "      <th>2009-01-04</th>\n",
       "      <td>1.347218</td>\n",
       "      <td>2.253472</td>\n",
       "    </tr>\n",
       "    <tr>\n",
       "      <th>2009-01-05</th>\n",
       "      <td>1.113889</td>\n",
       "      <td>6.006944</td>\n",
       "    </tr>\n",
       "  </tbody>\n",
       "</table>\n",
       "</div>\n",
       "      <button class=\"colab-df-convert\" onclick=\"convertToInteractive('df-8c6bfea4-7101-4c1f-adda-2d253a92db14')\"\n",
       "              title=\"Convert this dataframe to an interactive table.\"\n",
       "              style=\"display:none;\">\n",
       "        \n",
       "  <svg xmlns=\"http://www.w3.org/2000/svg\" height=\"24px\"viewBox=\"0 0 24 24\"\n",
       "       width=\"24px\">\n",
       "    <path d=\"M0 0h24v24H0V0z\" fill=\"none\"/>\n",
       "    <path d=\"M18.56 5.44l.94 2.06.94-2.06 2.06-.94-2.06-.94-.94-2.06-.94 2.06-2.06.94zm-11 1L8.5 8.5l.94-2.06 2.06-.94-2.06-.94L8.5 2.5l-.94 2.06-2.06.94zm10 10l.94 2.06.94-2.06 2.06-.94-2.06-.94-.94-2.06-.94 2.06-2.06.94z\"/><path d=\"M17.41 7.96l-1.37-1.37c-.4-.4-.92-.59-1.43-.59-.52 0-1.04.2-1.43.59L10.3 9.45l-7.72 7.72c-.78.78-.78 2.05 0 2.83L4 21.41c.39.39.9.59 1.41.59.51 0 1.02-.2 1.41-.59l7.78-7.78 2.81-2.81c.8-.78.8-2.07 0-2.86zM5.41 20L4 18.59l7.72-7.72 1.47 1.35L5.41 20z\"/>\n",
       "  </svg>\n",
       "      </button>\n",
       "      \n",
       "  <style>\n",
       "    .colab-df-container {\n",
       "      display:flex;\n",
       "      flex-wrap:wrap;\n",
       "      gap: 12px;\n",
       "    }\n",
       "\n",
       "    .colab-df-convert {\n",
       "      background-color: #E8F0FE;\n",
       "      border: none;\n",
       "      border-radius: 50%;\n",
       "      cursor: pointer;\n",
       "      display: none;\n",
       "      fill: #1967D2;\n",
       "      height: 32px;\n",
       "      padding: 0 0 0 0;\n",
       "      width: 32px;\n",
       "    }\n",
       "\n",
       "    .colab-df-convert:hover {\n",
       "      background-color: #E2EBFA;\n",
       "      box-shadow: 0px 1px 2px rgba(60, 64, 67, 0.3), 0px 1px 3px 1px rgba(60, 64, 67, 0.15);\n",
       "      fill: #174EA6;\n",
       "    }\n",
       "\n",
       "    [theme=dark] .colab-df-convert {\n",
       "      background-color: #3B4455;\n",
       "      fill: #D2E3FC;\n",
       "    }\n",
       "\n",
       "    [theme=dark] .colab-df-convert:hover {\n",
       "      background-color: #434B5C;\n",
       "      box-shadow: 0px 1px 3px 1px rgba(0, 0, 0, 0.15);\n",
       "      filter: drop-shadow(0px 1px 2px rgba(0, 0, 0, 0.3));\n",
       "      fill: #FFFFFF;\n",
       "    }\n",
       "  </style>\n",
       "\n",
       "      <script>\n",
       "        const buttonEl =\n",
       "          document.querySelector('#df-8c6bfea4-7101-4c1f-adda-2d253a92db14 button.colab-df-convert');\n",
       "        buttonEl.style.display =\n",
       "          google.colab.kernel.accessAllowed ? 'block' : 'none';\n",
       "\n",
       "        async function convertToInteractive(key) {\n",
       "          const element = document.querySelector('#df-8c6bfea4-7101-4c1f-adda-2d253a92db14');\n",
       "          const dataTable =\n",
       "            await google.colab.kernel.invokeFunction('convertToInteractive',\n",
       "                                                     [key], {});\n",
       "          if (!dataTable) return;\n",
       "\n",
       "          const docLinkHtml = 'Like what you see? Visit the ' +\n",
       "            '<a target=\"_blank\" href=https://colab.research.google.com/notebooks/data_table.ipynb>data table notebook</a>'\n",
       "            + ' to learn more about interactive tables.';\n",
       "          element.innerHTML = '';\n",
       "          dataTable['output_type'] = 'display_data';\n",
       "          await google.colab.output.renderOutput(dataTable, element);\n",
       "          const docLink = document.createElement('div');\n",
       "          docLink.innerHTML = docLinkHtml;\n",
       "          element.appendChild(docLink);\n",
       "        }\n",
       "      </script>\n",
       "    </div>\n",
       "  </div>\n",
       "  "
      ],
      "text/plain": [
       "            active_power_consumed  meter_reading\n",
       "time_stamp                                      \n",
       "2009-01-01               0.976869       1.946528\n",
       "2009-01-02               1.616326       8.222917\n",
       "2009-01-03               1.328817       7.249306\n",
       "2009-01-04               1.347218       2.253472\n",
       "2009-01-05               1.113889       6.006944"
      ]
     },
     "execution_count": 12,
     "metadata": {},
     "output_type": "execute_result"
    }
   ],
   "source": [
    "df.head()"
   ]
  },
  {
   "cell_type": "code",
   "execution_count": 13,
   "id": "e393d64a",
   "metadata": {
    "colab": {
     "base_uri": "https://localhost:8080/",
     "height": 238
    },
    "id": "e393d64a",
    "outputId": "7ae74758-0e72-44cb-f474-12d2b4060131"
   },
   "outputs": [
    {
     "data": {
      "text/html": [
       "\n",
       "  <div id=\"df-e18cffc5-cbd9-4b50-b155-0d991b62cf90\">\n",
       "    <div class=\"colab-df-container\">\n",
       "      <div>\n",
       "<style scoped>\n",
       "    .dataframe tbody tr th:only-of-type {\n",
       "        vertical-align: middle;\n",
       "    }\n",
       "\n",
       "    .dataframe tbody tr th {\n",
       "        vertical-align: top;\n",
       "    }\n",
       "\n",
       "    .dataframe thead th {\n",
       "        text-align: right;\n",
       "    }\n",
       "</style>\n",
       "<table border=\"1\" class=\"dataframe\">\n",
       "  <thead>\n",
       "    <tr style=\"text-align: right;\">\n",
       "      <th></th>\n",
       "      <th>active_power_consumed</th>\n",
       "      <th>meter_reading</th>\n",
       "    </tr>\n",
       "    <tr>\n",
       "      <th>time_stamp</th>\n",
       "      <th></th>\n",
       "      <th></th>\n",
       "    </tr>\n",
       "  </thead>\n",
       "  <tbody>\n",
       "    <tr>\n",
       "      <th>2010-11-22</th>\n",
       "      <td>1.417733</td>\n",
       "      <td>7.038889</td>\n",
       "    </tr>\n",
       "    <tr>\n",
       "      <th>2010-11-23</th>\n",
       "      <td>1.095511</td>\n",
       "      <td>5.285417</td>\n",
       "    </tr>\n",
       "    <tr>\n",
       "      <th>2010-11-24</th>\n",
       "      <td>1.247394</td>\n",
       "      <td>8.488889</td>\n",
       "    </tr>\n",
       "    <tr>\n",
       "      <th>2010-11-25</th>\n",
       "      <td>0.993864</td>\n",
       "      <td>3.522222</td>\n",
       "    </tr>\n",
       "    <tr>\n",
       "      <th>2010-11-26</th>\n",
       "      <td>1.178230</td>\n",
       "      <td>7.908947</td>\n",
       "    </tr>\n",
       "  </tbody>\n",
       "</table>\n",
       "</div>\n",
       "      <button class=\"colab-df-convert\" onclick=\"convertToInteractive('df-e18cffc5-cbd9-4b50-b155-0d991b62cf90')\"\n",
       "              title=\"Convert this dataframe to an interactive table.\"\n",
       "              style=\"display:none;\">\n",
       "        \n",
       "  <svg xmlns=\"http://www.w3.org/2000/svg\" height=\"24px\"viewBox=\"0 0 24 24\"\n",
       "       width=\"24px\">\n",
       "    <path d=\"M0 0h24v24H0V0z\" fill=\"none\"/>\n",
       "    <path d=\"M18.56 5.44l.94 2.06.94-2.06 2.06-.94-2.06-.94-.94-2.06-.94 2.06-2.06.94zm-11 1L8.5 8.5l.94-2.06 2.06-.94-2.06-.94L8.5 2.5l-.94 2.06-2.06.94zm10 10l.94 2.06.94-2.06 2.06-.94-2.06-.94-.94-2.06-.94 2.06-2.06.94z\"/><path d=\"M17.41 7.96l-1.37-1.37c-.4-.4-.92-.59-1.43-.59-.52 0-1.04.2-1.43.59L10.3 9.45l-7.72 7.72c-.78.78-.78 2.05 0 2.83L4 21.41c.39.39.9.59 1.41.59.51 0 1.02-.2 1.41-.59l7.78-7.78 2.81-2.81c.8-.78.8-2.07 0-2.86zM5.41 20L4 18.59l7.72-7.72 1.47 1.35L5.41 20z\"/>\n",
       "  </svg>\n",
       "      </button>\n",
       "      \n",
       "  <style>\n",
       "    .colab-df-container {\n",
       "      display:flex;\n",
       "      flex-wrap:wrap;\n",
       "      gap: 12px;\n",
       "    }\n",
       "\n",
       "    .colab-df-convert {\n",
       "      background-color: #E8F0FE;\n",
       "      border: none;\n",
       "      border-radius: 50%;\n",
       "      cursor: pointer;\n",
       "      display: none;\n",
       "      fill: #1967D2;\n",
       "      height: 32px;\n",
       "      padding: 0 0 0 0;\n",
       "      width: 32px;\n",
       "    }\n",
       "\n",
       "    .colab-df-convert:hover {\n",
       "      background-color: #E2EBFA;\n",
       "      box-shadow: 0px 1px 2px rgba(60, 64, 67, 0.3), 0px 1px 3px 1px rgba(60, 64, 67, 0.15);\n",
       "      fill: #174EA6;\n",
       "    }\n",
       "\n",
       "    [theme=dark] .colab-df-convert {\n",
       "      background-color: #3B4455;\n",
       "      fill: #D2E3FC;\n",
       "    }\n",
       "\n",
       "    [theme=dark] .colab-df-convert:hover {\n",
       "      background-color: #434B5C;\n",
       "      box-shadow: 0px 1px 3px 1px rgba(0, 0, 0, 0.15);\n",
       "      filter: drop-shadow(0px 1px 2px rgba(0, 0, 0, 0.3));\n",
       "      fill: #FFFFFF;\n",
       "    }\n",
       "  </style>\n",
       "\n",
       "      <script>\n",
       "        const buttonEl =\n",
       "          document.querySelector('#df-e18cffc5-cbd9-4b50-b155-0d991b62cf90 button.colab-df-convert');\n",
       "        buttonEl.style.display =\n",
       "          google.colab.kernel.accessAllowed ? 'block' : 'none';\n",
       "\n",
       "        async function convertToInteractive(key) {\n",
       "          const element = document.querySelector('#df-e18cffc5-cbd9-4b50-b155-0d991b62cf90');\n",
       "          const dataTable =\n",
       "            await google.colab.kernel.invokeFunction('convertToInteractive',\n",
       "                                                     [key], {});\n",
       "          if (!dataTable) return;\n",
       "\n",
       "          const docLinkHtml = 'Like what you see? Visit the ' +\n",
       "            '<a target=\"_blank\" href=https://colab.research.google.com/notebooks/data_table.ipynb>data table notebook</a>'\n",
       "            + ' to learn more about interactive tables.';\n",
       "          element.innerHTML = '';\n",
       "          dataTable['output_type'] = 'display_data';\n",
       "          await google.colab.output.renderOutput(dataTable, element);\n",
       "          const docLink = document.createElement('div');\n",
       "          docLink.innerHTML = docLinkHtml;\n",
       "          element.appendChild(docLink);\n",
       "        }\n",
       "      </script>\n",
       "    </div>\n",
       "  </div>\n",
       "  "
      ],
      "text/plain": [
       "            active_power_consumed  meter_reading\n",
       "time_stamp                                      \n",
       "2010-11-22               1.417733       7.038889\n",
       "2010-11-23               1.095511       5.285417\n",
       "2010-11-24               1.247394       8.488889\n",
       "2010-11-25               0.993864       3.522222\n",
       "2010-11-26               1.178230       7.908947"
      ]
     },
     "execution_count": 13,
     "metadata": {},
     "output_type": "execute_result"
    }
   ],
   "source": [
    "df.tail()"
   ]
  },
  {
   "cell_type": "code",
   "execution_count": 14,
   "id": "ef8212a0",
   "metadata": {
    "id": "ef8212a0"
   },
   "outputs": [],
   "source": [
    "df = df[['active_power_consumed']]"
   ]
  },
  {
   "cell_type": "code",
   "execution_count": 15,
   "id": "bb3a660d",
   "metadata": {
    "colab": {
     "base_uri": "https://localhost:8080/",
     "height": 455
    },
    "id": "bb3a660d",
    "outputId": "7d39b955-a5be-4f09-acd9-55aff2653ff2"
   },
   "outputs": [
    {
     "data": {
      "text/html": [
       "\n",
       "  <div id=\"df-83ced467-451d-45d1-8e11-c53a634f0686\">\n",
       "    <div class=\"colab-df-container\">\n",
       "      <div>\n",
       "<style scoped>\n",
       "    .dataframe tbody tr th:only-of-type {\n",
       "        vertical-align: middle;\n",
       "    }\n",
       "\n",
       "    .dataframe tbody tr th {\n",
       "        vertical-align: top;\n",
       "    }\n",
       "\n",
       "    .dataframe thead th {\n",
       "        text-align: right;\n",
       "    }\n",
       "</style>\n",
       "<table border=\"1\" class=\"dataframe\">\n",
       "  <thead>\n",
       "    <tr style=\"text-align: right;\">\n",
       "      <th></th>\n",
       "      <th>active_power_consumed</th>\n",
       "    </tr>\n",
       "    <tr>\n",
       "      <th>time_stamp</th>\n",
       "      <th></th>\n",
       "    </tr>\n",
       "  </thead>\n",
       "  <tbody>\n",
       "    <tr>\n",
       "      <th>2009-01-01</th>\n",
       "      <td>0.976869</td>\n",
       "    </tr>\n",
       "    <tr>\n",
       "      <th>2009-01-02</th>\n",
       "      <td>1.616326</td>\n",
       "    </tr>\n",
       "    <tr>\n",
       "      <th>2009-01-03</th>\n",
       "      <td>1.328817</td>\n",
       "    </tr>\n",
       "    <tr>\n",
       "      <th>2009-01-04</th>\n",
       "      <td>1.347218</td>\n",
       "    </tr>\n",
       "    <tr>\n",
       "      <th>2009-01-05</th>\n",
       "      <td>1.113889</td>\n",
       "    </tr>\n",
       "    <tr>\n",
       "      <th>...</th>\n",
       "      <td>...</td>\n",
       "    </tr>\n",
       "    <tr>\n",
       "      <th>2010-11-22</th>\n",
       "      <td>1.417733</td>\n",
       "    </tr>\n",
       "    <tr>\n",
       "      <th>2010-11-23</th>\n",
       "      <td>1.095511</td>\n",
       "    </tr>\n",
       "    <tr>\n",
       "      <th>2010-11-24</th>\n",
       "      <td>1.247394</td>\n",
       "    </tr>\n",
       "    <tr>\n",
       "      <th>2010-11-25</th>\n",
       "      <td>0.993864</td>\n",
       "    </tr>\n",
       "    <tr>\n",
       "      <th>2010-11-26</th>\n",
       "      <td>1.178230</td>\n",
       "    </tr>\n",
       "  </tbody>\n",
       "</table>\n",
       "<p>695 rows × 1 columns</p>\n",
       "</div>\n",
       "      <button class=\"colab-df-convert\" onclick=\"convertToInteractive('df-83ced467-451d-45d1-8e11-c53a634f0686')\"\n",
       "              title=\"Convert this dataframe to an interactive table.\"\n",
       "              style=\"display:none;\">\n",
       "        \n",
       "  <svg xmlns=\"http://www.w3.org/2000/svg\" height=\"24px\"viewBox=\"0 0 24 24\"\n",
       "       width=\"24px\">\n",
       "    <path d=\"M0 0h24v24H0V0z\" fill=\"none\"/>\n",
       "    <path d=\"M18.56 5.44l.94 2.06.94-2.06 2.06-.94-2.06-.94-.94-2.06-.94 2.06-2.06.94zm-11 1L8.5 8.5l.94-2.06 2.06-.94-2.06-.94L8.5 2.5l-.94 2.06-2.06.94zm10 10l.94 2.06.94-2.06 2.06-.94-2.06-.94-.94-2.06-.94 2.06-2.06.94z\"/><path d=\"M17.41 7.96l-1.37-1.37c-.4-.4-.92-.59-1.43-.59-.52 0-1.04.2-1.43.59L10.3 9.45l-7.72 7.72c-.78.78-.78 2.05 0 2.83L4 21.41c.39.39.9.59 1.41.59.51 0 1.02-.2 1.41-.59l7.78-7.78 2.81-2.81c.8-.78.8-2.07 0-2.86zM5.41 20L4 18.59l7.72-7.72 1.47 1.35L5.41 20z\"/>\n",
       "  </svg>\n",
       "      </button>\n",
       "      \n",
       "  <style>\n",
       "    .colab-df-container {\n",
       "      display:flex;\n",
       "      flex-wrap:wrap;\n",
       "      gap: 12px;\n",
       "    }\n",
       "\n",
       "    .colab-df-convert {\n",
       "      background-color: #E8F0FE;\n",
       "      border: none;\n",
       "      border-radius: 50%;\n",
       "      cursor: pointer;\n",
       "      display: none;\n",
       "      fill: #1967D2;\n",
       "      height: 32px;\n",
       "      padding: 0 0 0 0;\n",
       "      width: 32px;\n",
       "    }\n",
       "\n",
       "    .colab-df-convert:hover {\n",
       "      background-color: #E2EBFA;\n",
       "      box-shadow: 0px 1px 2px rgba(60, 64, 67, 0.3), 0px 1px 3px 1px rgba(60, 64, 67, 0.15);\n",
       "      fill: #174EA6;\n",
       "    }\n",
       "\n",
       "    [theme=dark] .colab-df-convert {\n",
       "      background-color: #3B4455;\n",
       "      fill: #D2E3FC;\n",
       "    }\n",
       "\n",
       "    [theme=dark] .colab-df-convert:hover {\n",
       "      background-color: #434B5C;\n",
       "      box-shadow: 0px 1px 3px 1px rgba(0, 0, 0, 0.15);\n",
       "      filter: drop-shadow(0px 1px 2px rgba(0, 0, 0, 0.3));\n",
       "      fill: #FFFFFF;\n",
       "    }\n",
       "  </style>\n",
       "\n",
       "      <script>\n",
       "        const buttonEl =\n",
       "          document.querySelector('#df-83ced467-451d-45d1-8e11-c53a634f0686 button.colab-df-convert');\n",
       "        buttonEl.style.display =\n",
       "          google.colab.kernel.accessAllowed ? 'block' : 'none';\n",
       "\n",
       "        async function convertToInteractive(key) {\n",
       "          const element = document.querySelector('#df-83ced467-451d-45d1-8e11-c53a634f0686');\n",
       "          const dataTable =\n",
       "            await google.colab.kernel.invokeFunction('convertToInteractive',\n",
       "                                                     [key], {});\n",
       "          if (!dataTable) return;\n",
       "\n",
       "          const docLinkHtml = 'Like what you see? Visit the ' +\n",
       "            '<a target=\"_blank\" href=https://colab.research.google.com/notebooks/data_table.ipynb>data table notebook</a>'\n",
       "            + ' to learn more about interactive tables.';\n",
       "          element.innerHTML = '';\n",
       "          dataTable['output_type'] = 'display_data';\n",
       "          await google.colab.output.renderOutput(dataTable, element);\n",
       "          const docLink = document.createElement('div');\n",
       "          docLink.innerHTML = docLinkHtml;\n",
       "          element.appendChild(docLink);\n",
       "        }\n",
       "      </script>\n",
       "    </div>\n",
       "  </div>\n",
       "  "
      ],
      "text/plain": [
       "            active_power_consumed\n",
       "time_stamp                       \n",
       "2009-01-01               0.976869\n",
       "2009-01-02               1.616326\n",
       "2009-01-03               1.328817\n",
       "2009-01-04               1.347218\n",
       "2009-01-05               1.113889\n",
       "...                           ...\n",
       "2010-11-22               1.417733\n",
       "2010-11-23               1.095511\n",
       "2010-11-24               1.247394\n",
       "2010-11-25               0.993864\n",
       "2010-11-26               1.178230\n",
       "\n",
       "[695 rows x 1 columns]"
      ]
     },
     "execution_count": 15,
     "metadata": {},
     "output_type": "execute_result"
    }
   ],
   "source": [
    "df"
   ]
  },
  {
   "cell_type": "code",
   "execution_count": 16,
   "id": "bQk15MFgouDq",
   "metadata": {
    "id": "bQk15MFgouDq"
   },
   "outputs": [],
   "source": [
    "plt.rcParams['figure.figsize'] = [15,8]"
   ]
  },
  {
   "cell_type": "code",
   "execution_count": 17,
   "id": "3b098ae2",
   "metadata": {
    "colab": {
     "base_uri": "https://localhost:8080/",
     "height": 523
    },
    "id": "3b098ae2",
    "outputId": "4146e8a6-181c-487a-dcce-4d9a6d829beb"
   },
   "outputs": [
    {
     "data": {
      "image/png": "[encoded data removed]",
      "text/plain": [
       "<Figure size 1080x576 with 1 Axes>"
      ]
     },
     "metadata": {
      "needs_background": "light"
     },
     "output_type": "display_data"
    }
   ],
   "source": [
    "plt.plot(df,color='blue')\n",
    "plt.title('Daily Electricity Consumption',fontsize=20)\n",
    "plt.xlabel('Date',fontsize=15)\n",
    "plt.ylabel('Units',fontsize=15)\n",
    "plt.show()"
   ]
  },
  {
   "cell_type": "code",
   "execution_count": 18,
   "id": "bf59d3e0",
   "metadata": {
    "id": "bf59d3e0"
   },
   "outputs": [],
   "source": [
    "def convert2matrix(data_arr, look_back):\n",
    "    X, Y =[], []\n",
    "    for i in range(len(data_arr)-look_back):\n",
    "        d=i+look_back  \n",
    "        X.append(data_arr[i:d,0])\n",
    "        Y.append(data_arr[d,0])\n",
    "    return np.array(X), np.array(Y)"
   ]
  },
  {
   "cell_type": "code",
   "execution_count": 20,
   "id": "7mSSXeBTsweI",
   "metadata": {
    "id": "7mSSXeBTsweI"
   },
   "outputs": [],
   "source": [
    "from sklearn.preprocessing import MinMaxScaler\n",
    "#create numpy.ndarray \n",
    "df['active_power_consumed'] = df['active_power_consumed'].astype(np.float32)\n",
    "df_arr = df.values\n",
    "df_arr = np.reshape(df_arr, (-1, 1)) #LTSM requires more input features compared to RNN or DNN\n",
    "scaler = MinMaxScaler(feature_range=(0.1, 1))#LTSM is senstive to the scale of features\n",
    "df_arr = scaler.fit_transform(df_arr)"
   ]
  },
  {
   "cell_type": "code",
   "execution_count": 21,
   "id": "1cea6c5f",
   "metadata": {
    "id": "1cea6c5f"
   },
   "outputs": [],
   "source": [
    "train_size = 625\n",
    "train, test = df_arr[0:train_size,:], df_arr[train_size:len(df_arr),:]\n",
    "look_back = 10\n",
    "trainX, trainY = convert2matrix(train, look_back)\n",
    "testX, testY = convert2matrix(test, look_back)\n",
    "# reshape input to be [samples, time steps, features]\n",
    "trainX = np.reshape(trainX, (trainX.shape[0], 1, trainX.shape[1]))\n",
    "testX = np.reshape(testX, (testX.shape[0], 1, testX.shape[1]))"
   ]
  },
  {
   "cell_type": "code",
   "execution_count": 22,
   "id": "c7d46c39",
   "metadata": {
    "colab": {
     "base_uri": "https://localhost:8080/"
    },
    "id": "c7d46c39",
    "outputId": "114bed61-011a-42a7-85e3-df34084235e2"
   },
   "outputs": [
    {
     "name": "stdout",
     "output_type": "stream",
     "text": [
      "(615, 1, 10)\n",
      "(615,)\n",
      "(60, 1, 10)\n",
      "(60,)\n"
     ]
    }
   ],
   "source": [
    "print(trainX.shape)\n",
    "print(trainY.shape)\n",
    "print(testX.shape)\n",
    "print(testY.shape)"
   ]
  },
  {
   "cell_type": "code",
   "execution_count": 23,
   "id": "GIc1nRcCuP3G",
   "metadata": {
    "colab": {
     "base_uri": "https://localhost:8080/"
    },
    "id": "GIc1nRcCuP3G",
    "outputId": "98a314eb-ffcd-4d17-b33a-5d88cbb4da99"
   },
   "outputs": [
    {
     "name": "stdout",
     "output_type": "stream",
     "text": [
      "\u001b[?25l\r",
      "\u001b[K     |███▍                            | 10 kB 26.5 MB/s eta 0:00:01\r",
      "\u001b[K     |██████▊                         | 20 kB 31.4 MB/s eta 0:00:01\r",
      "\u001b[K     |██████████                      | 30 kB 20.3 MB/s eta 0:00:01\r",
      "\u001b[K     |█████████████▍                  | 40 kB 12.2 MB/s eta 0:00:01\r",
      "\u001b[K     |████████████████▊               | 51 kB 4.7 MB/s eta 0:00:01\r",
      "\u001b[K     |████████████████████            | 61 kB 5.0 MB/s eta 0:00:01\r",
      "\u001b[K     |███████████████████████▍        | 71 kB 4.3 MB/s eta 0:00:01\r",
      "\u001b[K     |██████████████████████████▊     | 81 kB 4.8 MB/s eta 0:00:01\r",
      "\u001b[K     |██████████████████████████████  | 92 kB 5.1 MB/s eta 0:00:01\r",
      "\u001b[K     |████████████████████████████████| 98 kB 3.2 MB/s \n",
      "\u001b[?25h"
     ]
    }
   ],
   "source": [
    "!pip install -q -U keras-tuner"
   ]
  },
  {
   "cell_type": "code",
   "execution_count": 24,
   "id": "M5te5ih0uP6u",
   "metadata": {
    "id": "M5te5ih0uP6u"
   },
   "outputs": [],
   "source": [
    "import pandas as pd\n",
    "from tensorflow import keras\n",
    "from tensorflow.keras import layers\n",
    "from keras_tuner.tuners import RandomSearch\n",
    "from tensorflow.keras.models import Sequential\n",
    "from tensorflow.keras.layers import LSTM\n",
    "from tensorflow.keras.layers import Dense,Dropout\n",
    "from tensorflow.keras.layers import Flatten\n",
    "import matplotlib.pyplot as plt"
   ]
  },
  {
   "cell_type": "code",
   "execution_count": 40,
   "id": "rYiJC5hXuP_e",
   "metadata": {
    "id": "rYiJC5hXuP_e"
   },
   "outputs": [],
   "source": [
    "def build_model(hp):\n",
    "    model = keras.Sequential()\n",
    "    model.add(LSTM(hp.Int('first_lstm_layer',min_value=8,max_value=128,step=8), activation=\"relu\",return_sequences=True, input_shape=(1,look_back),recurrent_dropout = hp.Choice(\"first_recurrent_dropout\",[0.2,0.4,0.6],default=0.4)))\n",
    "    model.add(LSTM(hp.Int('final_lstm_layer',min_value=8,max_value=128,step=8),activation=\"relu\",recurrent_dropout = hp.Choice(\"last_recurrent_dropout\",[0.2,0.4,0.6],default=0.4) ))\n",
    "    model.add(Dense(hp.Int('dense_layer_1',min_value=8,max_value=128,step=8),activation=\"relu\"))\n",
    "    model.add(Dropout(hp.Float('Dropout_rate',min_value=0,max_value=0.5,step=0.1)))\n",
    "    model.add(layers.Dense(1, activation='linear'))\n",
    "    model.compile(\n",
    "        optimizer=keras.optimizers.Adam(\n",
    "             hp.Float('learning_rate', min_value=1e-4, max_value=1e-1, sampling=\"log\")),\n",
    "        loss='mape',\n",
    "        metrics=['mape'])\n",
    "    return model"
   ]
  },
  {
   "cell_type": "code",
   "execution_count": 42,
   "id": "2h_gRerjuQCT",
   "metadata": {
    "id": "2h_gRerjuQCT"
   },
   "outputs": [],
   "source": [
    "tuner = RandomSearch(\n",
    "    build_model,\n",
    "    objective='val_mape',\n",
    "    max_trials=20,\n",
    "    executions_per_trial=2,\n",
    "    directory='project',\n",
    "    project_name='elec_consum_2')"
   ]
  },
  {
   "cell_type": "code",
   "execution_count": 43,
   "id": "Dg5AHN3guQFu",
   "metadata": {
    "colab": {
     "base_uri": "https://localhost:8080/"
    },
    "id": "Dg5AHN3guQFu",
    "outputId": "d5aa153a-603e-4ab0-8184-dbf47f42a8ed"
   },
   "outputs": [
    {
     "name": "stdout",
     "output_type": "stream",
     "text": [
      "Search space summary\n",
      "Default search space size: 7\n",
      "first_lstm_layer (Int)\n",
      "{'default': None, 'conditions': [], 'min_value': 8, 'max_value': 128, 'step': 8, 'sampling': None}\n",
      "first_recurrent_dropout (Choice)\n",
      "{'default': 0.4, 'conditions': [], 'values': [0.2, 0.4, 0.6], 'ordered': True}\n",
      "final_lstm_layer (Int)\n",
      "{'default': None, 'conditions': [], 'min_value': 8, 'max_value': 128, 'step': 8, 'sampling': None}\n",
      "last_recurrent_dropout (Choice)\n",
      "{'default': 0.4, 'conditions': [], 'values': [0.2, 0.4, 0.6], 'ordered': True}\n",
      "dense_layer_1 (Int)\n",
      "{'default': None, 'conditions': [], 'min_value': 8, 'max_value': 128, 'step': 8, 'sampling': None}\n",
      "Dropout_rate (Float)\n",
      "{'default': 0.0, 'conditions': [], 'min_value': 0.0, 'max_value': 0.5, 'step': 0.1, 'sampling': None}\n",
      "learning_rate (Float)\n",
      "{'default': 0.0001, 'conditions': [], 'min_value': 0.0001, 'max_value': 0.1, 'step': None, 'sampling': 'log'}\n"
     ]
    }
   ],
   "source": [
    "tuner.search_space_summary()"
   ]
  },
  {
   "cell_type": "code",
   "execution_count": 44,
   "id": "TiBXdF0K8Gpr",
   "metadata": {
    "colab": {
     "base_uri": "https://localhost:8080/"
    },
    "id": "TiBXdF0K8Gpr",
    "outputId": "f80d863e-a516-4f96-85d3-99aeac1cd045"
   },
   "outputs": [
    {
     "name": "stdout",
     "output_type": "stream",
     "text": [
      "Trial 20 Complete [00h 01m 24s]\n",
      "val_mape: 22.294156074523926\n",
      "\n",
      "Best val_mape So Far: 21.323491096496582\n",
      "Total elapsed time: 00h 29m 30s\n",
      "INFO:tensorflow:Oracle triggered exit\n"
     ]
    }
   ],
   "source": [
    "tuner.search(trainX, trainY,\n",
    "             epochs=200,\n",
    "             batch_size=33,\n",
    "             validation_data=(testX, testY))"
   ]
  },
  {
   "cell_type": "code",
   "execution_count": 45,
   "id": "VXXGH_RK8GsD",
   "metadata": {
    "colab": {
     "base_uri": "https://localhost:8080/"
    },
    "id": "VXXGH_RK8GsD",
    "outputId": "621fee93-ea5c-4a8b-91d6-d7493f5f9459"
   },
   "outputs": [
    {
     "name": "stdout",
     "output_type": "stream",
     "text": [
      "Results summary\n",
      "Results in project/elec_consum_2\n",
      "Showing 10 best trials\n",
      "Objective(name='val_mape', direction='min')\n",
      "Trial summary\n",
      "Hyperparameters:\n",
      "first_lstm_layer: 104\n",
      "first_recurrent_dropout: 0.2\n",
      "final_lstm_layer: 64\n",
      "last_recurrent_dropout: 0.6\n",
      "dense_layer_1: 72\n",
      "Dropout_rate: 0.0\n",
      "learning_rate: 0.08638087527161876\n",
      "Score: 21.323491096496582\n",
      "Trial summary\n",
      "Hyperparameters:\n",
      "first_lstm_layer: 56\n",
      "first_recurrent_dropout: 0.6\n",
      "final_lstm_layer: 104\n",
      "last_recurrent_dropout: 0.6\n",
      "dense_layer_1: 64\n",
      "Dropout_rate: 0.0\n",
      "learning_rate: 0.0028949965422272014\n",
      "Score: 21.490805625915527\n",
      "Trial summary\n",
      "Hyperparameters:\n",
      "first_lstm_layer: 72\n",
      "first_recurrent_dropout: 0.4\n",
      "final_lstm_layer: 88\n",
      "last_recurrent_dropout: 0.4\n",
      "dense_layer_1: 32\n",
      "Dropout_rate: 0.5\n",
      "learning_rate: 0.007926026926027377\n",
      "Score: 21.504353523254395\n",
      "Trial summary\n",
      "Hyperparameters:\n",
      "first_lstm_layer: 120\n",
      "first_recurrent_dropout: 0.2\n",
      "final_lstm_layer: 112\n",
      "last_recurrent_dropout: 0.6\n",
      "dense_layer_1: 72\n",
      "Dropout_rate: 0.4\n",
      "learning_rate: 0.05751237333063313\n",
      "Score: 21.66158103942871\n",
      "Trial summary\n",
      "Hyperparameters:\n",
      "first_lstm_layer: 80\n",
      "first_recurrent_dropout: 0.4\n",
      "final_lstm_layer: 40\n",
      "last_recurrent_dropout: 0.2\n",
      "dense_layer_1: 8\n",
      "Dropout_rate: 0.30000000000000004\n",
      "learning_rate: 0.0060807326519234295\n",
      "Score: 21.685349464416504\n",
      "Trial summary\n",
      "Hyperparameters:\n",
      "first_lstm_layer: 48\n",
      "first_recurrent_dropout: 0.2\n",
      "final_lstm_layer: 64\n",
      "last_recurrent_dropout: 0.6\n",
      "dense_layer_1: 40\n",
      "Dropout_rate: 0.5\n",
      "learning_rate: 0.004091219734485813\n",
      "Score: 21.693747520446777\n",
      "Trial summary\n",
      "Hyperparameters:\n",
      "first_lstm_layer: 56\n",
      "first_recurrent_dropout: 0.4\n",
      "final_lstm_layer: 56\n",
      "last_recurrent_dropout: 0.4\n",
      "dense_layer_1: 112\n",
      "Dropout_rate: 0.1\n",
      "learning_rate: 0.0010544366172657324\n",
      "Score: 21.71298885345459\n",
      "Trial summary\n",
      "Hyperparameters:\n",
      "first_lstm_layer: 88\n",
      "first_recurrent_dropout: 0.6\n",
      "final_lstm_layer: 120\n",
      "last_recurrent_dropout: 0.6\n",
      "dense_layer_1: 56\n",
      "Dropout_rate: 0.1\n",
      "learning_rate: 0.00043744235395841636\n",
      "Score: 21.717010498046875\n",
      "Trial summary\n",
      "Hyperparameters:\n",
      "first_lstm_layer: 64\n",
      "first_recurrent_dropout: 0.6\n",
      "final_lstm_layer: 72\n",
      "last_recurrent_dropout: 0.6\n",
      "dense_layer_1: 24\n",
      "Dropout_rate: 0.4\n",
      "learning_rate: 0.0047150153995394895\n",
      "Score: 21.72630023956299\n",
      "Trial summary\n",
      "Hyperparameters:\n",
      "first_lstm_layer: 56\n",
      "first_recurrent_dropout: 0.4\n",
      "final_lstm_layer: 56\n",
      "last_recurrent_dropout: 0.4\n",
      "dense_layer_1: 64\n",
      "Dropout_rate: 0.2\n",
      "learning_rate: 0.09937327304817845\n",
      "Score: 21.748591423034668\n"
     ]
    }
   ],
   "source": [
    "tuner.results_summary()"
   ]
  },
  {
   "cell_type": "code",
   "execution_count": 31,
   "id": "FBpLenJ_DZMX",
   "metadata": {
    "id": "FBpLenJ_DZMX"
   },
   "outputs": [],
   "source": [
    "from warnings import filterwarnings\n",
    "filterwarnings('ignore')"
   ]
  },
  {
   "cell_type": "code",
   "execution_count": 46,
   "id": "eL-a8rAv8Gvg",
   "metadata": {
    "colab": {
     "base_uri": "https://localhost:8080/"
    },
    "id": "eL-a8rAv8Gvg",
    "outputId": "bf79b32b-9450-48bc-80cb-402b23638944"
   },
   "outputs": [
    {
     "name": "stdout",
     "output_type": "stream",
     "text": [
      "Model: \"sequential\"\n",
      "_________________________________________________________________\n",
      " Layer (type)                Output Shape              Param #   \n",
      "=================================================================\n",
      " lstm (LSTM)                 (None, 1, 104)            47840     \n",
      "                                                                 \n",
      " lstm_1 (LSTM)               (None, 64)                43264     \n",
      "                                                                 \n",
      " dense (Dense)               (None, 72)                4680      \n",
      "                                                                 \n",
      " dropout (Dropout)           (None, 72)                0         \n",
      "                                                                 \n",
      " dense_1 (Dense)             (None, 1)                 73        \n",
      "                                                                 \n",
      "=================================================================\n",
      "Total params: 95,857\n",
      "Trainable params: 95,857\n",
      "Non-trainable params: 0\n",
      "_________________________________________________________________\n",
      "WARNING:tensorflow:Unresolved object in checkpoint: (root).optimizer.iter\n",
      "WARNING:tensorflow:Unresolved object in checkpoint: (root).optimizer.beta_1\n",
      "WARNING:tensorflow:Unresolved object in checkpoint: (root).optimizer.beta_2\n",
      "WARNING:tensorflow:Unresolved object in checkpoint: (root).optimizer.decay\n",
      "WARNING:tensorflow:Unresolved object in checkpoint: (root).optimizer.learning_rate\n",
      "WARNING:tensorflow:A checkpoint was restored (e.g. tf.train.Checkpoint.restore or tf.keras.Model.load_weights) but not all checkpointed values were used. See above for specific issues. Use expect_partial() on the load status object, e.g. tf.train.Checkpoint.restore(...).expect_partial(), to silence these warnings, or use assert_consumed() to make the check explicit. See https://www.tensorflow.org/guide/checkpoint#loading_mechanics for details.\n",
      "WARNING:tensorflow:Unresolved object in checkpoint: (root).optimizer.iter\n",
      "WARNING:tensorflow:Unresolved object in checkpoint: (root).optimizer.beta_1\n",
      "WARNING:tensorflow:Unresolved object in checkpoint: (root).optimizer.beta_2\n",
      "WARNING:tensorflow:Unresolved object in checkpoint: (root).optimizer.decay\n",
      "WARNING:tensorflow:Unresolved object in checkpoint: (root).optimizer.learning_rate\n",
      "WARNING:tensorflow:A checkpoint was restored (e.g. tf.train.Checkpoint.restore or tf.keras.Model.load_weights) but not all checkpointed values were used. See above for specific issues. Use expect_partial() on the load status object, e.g. tf.train.Checkpoint.restore(...).expect_partial(), to silence these warnings, or use assert_consumed() to make the check explicit. See https://www.tensorflow.org/guide/checkpoint#loading_mechanics for details.\n"
     ]
    }
   ],
   "source": [
    "models = tuner.get_best_models(num_models=2)\n",
    "best_model = models[0]\n",
    "# Build the model.\n",
    "# Needed for `Sequential` without specified `input_shape`.\n",
    "best_model.build(input_shape=(None, 10))\n",
    "best_model.summary()"
   ]
  },
  {
   "cell_type": "code",
   "execution_count": 33,
   "id": "ovKDjDHZEmLV",
   "metadata": {
    "id": "ovKDjDHZEmLV"
   },
   "outputs": [],
   "source": [
    "from tensorflow.keras import optimizers"
   ]
  },
  {
   "cell_type": "code",
   "execution_count": 68,
   "id": "0e187ddc",
   "metadata": {
    "colab": {
     "base_uri": "https://localhost:8080/"
    },
    "id": "0e187ddc",
    "outputId": "e46021ea-f85c-484c-d35a-565415119f88"
   },
   "outputs": [
    {
     "name": "stdout",
     "output_type": "stream",
     "text": [
      "Epoch 1/200\n",
      "19/19 [==============================] - 7s 34ms/step - loss: 72.4026 - mape: 72.4026 - val_loss: 32.4298 - val_mape: 32.4298\n",
      "Epoch 2/200\n",
      "19/19 [==============================] - 0s 6ms/step - loss: 31.8345 - mape: 31.8345 - val_loss: 28.3531 - val_mape: 28.3531\n",
      "Epoch 3/200\n",
      "19/19 [==============================] - 0s 6ms/step - loss: 29.5803 - mape: 29.5803 - val_loss: 25.8547 - val_mape: 25.8547\n",
      "Epoch 4/200\n",
      "19/19 [==============================] - 0s 6ms/step - loss: 25.4051 - mape: 25.4051 - val_loss: 23.4814 - val_mape: 23.4814\n",
      "Epoch 5/200\n",
      "19/19 [==============================] - 0s 6ms/step - loss: 24.4465 - mape: 24.4465 - val_loss: 26.1482 - val_mape: 26.1482\n",
      "Epoch 6/200\n",
      "19/19 [==============================] - 0s 7ms/step - loss: 24.2539 - mape: 24.2539 - val_loss: 23.4835 - val_mape: 23.4835\n",
      "Epoch 7/200\n",
      "19/19 [==============================] - 0s 8ms/step - loss: 23.5291 - mape: 23.5291 - val_loss: 23.3649 - val_mape: 23.3649\n",
      "Epoch 8/200\n",
      "19/19 [==============================] - 0s 6ms/step - loss: 23.5183 - mape: 23.5183 - val_loss: 23.3124 - val_mape: 23.3124\n",
      "Epoch 9/200\n",
      "19/19 [==============================] - 0s 7ms/step - loss: 22.7126 - mape: 22.7126 - val_loss: 22.8345 - val_mape: 22.8345\n",
      "Epoch 10/200\n",
      "19/19 [==============================] - 0s 6ms/step - loss: 22.1020 - mape: 22.1020 - val_loss: 23.0410 - val_mape: 23.0410\n",
      "Epoch 11/200\n",
      "19/19 [==============================] - 0s 6ms/step - loss: 22.1123 - mape: 22.1123 - val_loss: 22.6164 - val_mape: 22.6164\n",
      "Epoch 12/200\n",
      "19/19 [==============================] - 0s 8ms/step - loss: 22.5491 - mape: 22.5491 - val_loss: 23.2039 - val_mape: 23.2039\n",
      "Epoch 13/200\n",
      "19/19 [==============================] - 0s 7ms/step - loss: 21.5211 - mape: 21.5211 - val_loss: 22.4276 - val_mape: 22.4276\n",
      "Epoch 14/200\n",
      "19/19 [==============================] - 0s 6ms/step - loss: 21.5141 - mape: 21.5141 - val_loss: 23.3584 - val_mape: 23.3584\n",
      "Epoch 15/200\n",
      "19/19 [==============================] - 0s 6ms/step - loss: 21.7166 - mape: 21.7166 - val_loss: 22.8656 - val_mape: 22.8656\n",
      "Epoch 16/200\n",
      "19/19 [==============================] - 0s 8ms/step - loss: 21.3085 - mape: 21.3085 - val_loss: 22.6711 - val_mape: 22.6711\n",
      "Epoch 17/200\n",
      "19/19 [==============================] - 0s 6ms/step - loss: 21.7566 - mape: 21.7566 - val_loss: 23.6329 - val_mape: 23.6329\n",
      "Epoch 18/200\n",
      "19/19 [==============================] - 0s 6ms/step - loss: 21.2982 - mape: 21.2982 - val_loss: 23.1320 - val_mape: 23.1320\n",
      "Epoch 19/200\n",
      "19/19 [==============================] - 0s 8ms/step - loss: 21.2192 - mape: 21.2192 - val_loss: 22.4886 - val_mape: 22.4886\n",
      "Epoch 20/200\n",
      "19/19 [==============================] - 0s 7ms/step - loss: 21.2365 - mape: 21.2365 - val_loss: 22.3193 - val_mape: 22.3193\n",
      "Epoch 21/200\n",
      "19/19 [==============================] - 0s 6ms/step - loss: 21.2835 - mape: 21.2835 - val_loss: 23.6092 - val_mape: 23.6092\n",
      "Epoch 22/200\n",
      "19/19 [==============================] - 0s 7ms/step - loss: 21.5993 - mape: 21.5993 - val_loss: 24.6324 - val_mape: 24.6324\n",
      "Epoch 23/200\n",
      "19/19 [==============================] - 0s 6ms/step - loss: 22.2799 - mape: 22.2799 - val_loss: 22.5006 - val_mape: 22.5006\n",
      "Epoch 24/200\n",
      "19/19 [==============================] - 0s 6ms/step - loss: 21.1429 - mape: 21.1429 - val_loss: 26.8851 - val_mape: 26.8851\n",
      "Epoch 25/200\n",
      "19/19 [==============================] - 0s 6ms/step - loss: 23.4617 - mape: 23.4617 - val_loss: 22.1137 - val_mape: 22.1137\n",
      "Epoch 26/200\n",
      "19/19 [==============================] - 0s 6ms/step - loss: 21.0303 - mape: 21.0303 - val_loss: 22.5660 - val_mape: 22.5660\n",
      "Epoch 27/200\n",
      "19/19 [==============================] - 0s 6ms/step - loss: 21.0640 - mape: 21.0640 - val_loss: 22.1197 - val_mape: 22.1197\n",
      "Epoch 28/200\n",
      "19/19 [==============================] - 0s 6ms/step - loss: 21.0064 - mape: 21.0064 - val_loss: 22.6514 - val_mape: 22.6514\n",
      "Epoch 29/200\n",
      "19/19 [==============================] - 0s 5ms/step - loss: 20.7631 - mape: 20.7631 - val_loss: 22.4604 - val_mape: 22.4604\n",
      "Epoch 30/200\n",
      "19/19 [==============================] - 0s 6ms/step - loss: 21.2816 - mape: 21.2816 - val_loss: 22.9299 - val_mape: 22.9299\n",
      "Epoch 31/200\n",
      "19/19 [==============================] - 0s 6ms/step - loss: 21.0517 - mape: 21.0517 - val_loss: 22.7667 - val_mape: 22.7667\n",
      "Epoch 32/200\n",
      "19/19 [==============================] - 0s 6ms/step - loss: 20.6790 - mape: 20.6790 - val_loss: 22.3410 - val_mape: 22.3410\n",
      "Epoch 33/200\n",
      "19/19 [==============================] - 0s 7ms/step - loss: 20.9628 - mape: 20.9628 - val_loss: 22.5279 - val_mape: 22.5279\n",
      "Epoch 34/200\n",
      "19/19 [==============================] - 0s 6ms/step - loss: 20.9874 - mape: 20.9874 - val_loss: 22.2632 - val_mape: 22.2632\n",
      "Epoch 35/200\n",
      "19/19 [==============================] - 0s 6ms/step - loss: 21.0955 - mape: 21.0955 - val_loss: 23.3977 - val_mape: 23.3977\n",
      "Epoch 36/200\n",
      "19/19 [==============================] - 0s 6ms/step - loss: 20.9287 - mape: 20.9287 - val_loss: 22.0995 - val_mape: 22.0995\n",
      "Epoch 37/200\n",
      "19/19 [==============================] - 0s 7ms/step - loss: 20.7939 - mape: 20.7939 - val_loss: 24.1860 - val_mape: 24.1860\n",
      "Epoch 38/200\n",
      "19/19 [==============================] - 0s 6ms/step - loss: 21.0853 - mape: 21.0853 - val_loss: 22.1166 - val_mape: 22.1166\n",
      "Epoch 39/200\n",
      "19/19 [==============================] - 0s 6ms/step - loss: 20.8328 - mape: 20.8328 - val_loss: 24.1256 - val_mape: 24.1256\n",
      "Epoch 40/200\n",
      "19/19 [==============================] - 0s 6ms/step - loss: 20.9599 - mape: 20.9599 - val_loss: 22.7209 - val_mape: 22.7209\n",
      "Epoch 41/200\n",
      "19/19 [==============================] - 0s 6ms/step - loss: 20.6150 - mape: 20.6150 - val_loss: 22.2476 - val_mape: 22.2476\n",
      "Epoch 42/200\n",
      "19/19 [==============================] - 0s 6ms/step - loss: 20.4843 - mape: 20.4843 - val_loss: 22.8460 - val_mape: 22.8460\n",
      "Epoch 43/200\n",
      "19/19 [==============================] - 0s 6ms/step - loss: 21.3773 - mape: 21.3773 - val_loss: 22.1628 - val_mape: 22.1628\n",
      "Epoch 44/200\n",
      "19/19 [==============================] - 0s 7ms/step - loss: 20.8079 - mape: 20.8079 - val_loss: 22.4338 - val_mape: 22.4338\n",
      "Epoch 45/200\n",
      "19/19 [==============================] - 0s 6ms/step - loss: 20.4736 - mape: 20.4736 - val_loss: 22.1065 - val_mape: 22.1065\n",
      "Epoch 46/200\n",
      "19/19 [==============================] - 0s 6ms/step - loss: 20.7697 - mape: 20.7697 - val_loss: 22.3004 - val_mape: 22.3004\n",
      "Epoch 47/200\n",
      "19/19 [==============================] - 0s 7ms/step - loss: 20.3992 - mape: 20.3992 - val_loss: 22.3007 - val_mape: 22.3007\n",
      "Epoch 48/200\n",
      "19/19 [==============================] - 0s 6ms/step - loss: 21.0037 - mape: 21.0037 - val_loss: 23.6120 - val_mape: 23.6120\n",
      "Epoch 49/200\n",
      "19/19 [==============================] - 0s 7ms/step - loss: 21.0577 - mape: 21.0577 - val_loss: 22.1917 - val_mape: 22.1917\n",
      "Epoch 50/200\n",
      "19/19 [==============================] - 0s 6ms/step - loss: 20.6430 - mape: 20.6430 - val_loss: 22.5409 - val_mape: 22.5409\n",
      "Epoch 51/200\n",
      "19/19 [==============================] - 0s 7ms/step - loss: 20.3920 - mape: 20.3920 - val_loss: 22.5319 - val_mape: 22.5319\n",
      "Epoch 52/200\n",
      "19/19 [==============================] - 0s 6ms/step - loss: 20.4394 - mape: 20.4394 - val_loss: 22.3858 - val_mape: 22.3858\n",
      "Epoch 53/200\n",
      "19/19 [==============================] - 0s 6ms/step - loss: 20.4832 - mape: 20.4832 - val_loss: 22.5816 - val_mape: 22.5816\n",
      "Epoch 54/200\n",
      "19/19 [==============================] - 0s 6ms/step - loss: 20.1284 - mape: 20.1284 - val_loss: 22.2340 - val_mape: 22.2340\n",
      "Epoch 55/200\n",
      "19/19 [==============================] - 0s 7ms/step - loss: 20.2178 - mape: 20.2178 - val_loss: 22.3660 - val_mape: 22.3660\n",
      "Epoch 56/200\n",
      "19/19 [==============================] - 0s 7ms/step - loss: 20.4507 - mape: 20.4507 - val_loss: 22.5859 - val_mape: 22.5859\n",
      "Epoch 57/200\n",
      "19/19 [==============================] - 0s 7ms/step - loss: 20.3506 - mape: 20.3506 - val_loss: 22.3039 - val_mape: 22.3039\n",
      "Epoch 58/200\n",
      "19/19 [==============================] - 0s 6ms/step - loss: 20.4119 - mape: 20.4119 - val_loss: 22.2657 - val_mape: 22.2657\n",
      "Epoch 59/200\n",
      "19/19 [==============================] - 0s 7ms/step - loss: 20.4496 - mape: 20.4496 - val_loss: 22.3972 - val_mape: 22.3972\n",
      "Epoch 60/200\n",
      "19/19 [==============================] - 0s 6ms/step - loss: 20.7495 - mape: 20.7495 - val_loss: 23.4448 - val_mape: 23.4448\n",
      "Epoch 61/200\n",
      "19/19 [==============================] - 0s 6ms/step - loss: 21.0515 - mape: 21.0515 - val_loss: 22.2583 - val_mape: 22.2583\n",
      "Epoch 62/200\n",
      "19/19 [==============================] - 0s 6ms/step - loss: 20.4379 - mape: 20.4379 - val_loss: 22.3832 - val_mape: 22.3832\n",
      "Epoch 63/200\n",
      "19/19 [==============================] - 0s 6ms/step - loss: 20.2740 - mape: 20.2740 - val_loss: 25.6761 - val_mape: 25.6761\n",
      "Epoch 64/200\n",
      "19/19 [==============================] - 0s 6ms/step - loss: 20.8807 - mape: 20.8807 - val_loss: 22.8887 - val_mape: 22.8887\n",
      "Epoch 65/200\n",
      "19/19 [==============================] - 0s 7ms/step - loss: 20.0682 - mape: 20.0682 - val_loss: 22.8206 - val_mape: 22.8206\n",
      "Epoch 66/200\n",
      "19/19 [==============================] - 0s 6ms/step - loss: 20.8295 - mape: 20.8295 - val_loss: 24.0861 - val_mape: 24.0861\n",
      "Epoch 67/200\n",
      "19/19 [==============================] - 0s 6ms/step - loss: 21.0870 - mape: 21.0870 - val_loss: 22.0308 - val_mape: 22.0308\n",
      "Epoch 68/200\n",
      "19/19 [==============================] - 0s 6ms/step - loss: 20.2409 - mape: 20.2409 - val_loss: 22.3510 - val_mape: 22.3510\n",
      "Epoch 69/200\n",
      "19/19 [==============================] - 0s 6ms/step - loss: 20.5024 - mape: 20.5024 - val_loss: 22.8234 - val_mape: 22.8234\n",
      "Epoch 70/200\n",
      "19/19 [==============================] - 0s 6ms/step - loss: 20.7041 - mape: 20.7041 - val_loss: 22.0178 - val_mape: 22.0178\n",
      "Epoch 71/200\n",
      "19/19 [==============================] - 0s 6ms/step - loss: 21.0080 - mape: 21.0080 - val_loss: 22.9429 - val_mape: 22.9429\n",
      "Epoch 72/200\n",
      "19/19 [==============================] - 0s 6ms/step - loss: 21.1256 - mape: 21.1256 - val_loss: 22.2165 - val_mape: 22.2165\n",
      "Epoch 73/200\n",
      "19/19 [==============================] - 0s 7ms/step - loss: 20.1670 - mape: 20.1670 - val_loss: 22.3962 - val_mape: 22.3962\n",
      "Epoch 74/200\n",
      "19/19 [==============================] - 0s 6ms/step - loss: 20.1729 - mape: 20.1729 - val_loss: 22.1886 - val_mape: 22.1886\n",
      "Epoch 75/200\n",
      "19/19 [==============================] - 0s 6ms/step - loss: 20.5774 - mape: 20.5774 - val_loss: 22.5052 - val_mape: 22.5052\n",
      "Epoch 76/200\n",
      "19/19 [==============================] - 0s 6ms/step - loss: 20.0673 - mape: 20.0673 - val_loss: 22.5640 - val_mape: 22.5640\n",
      "Epoch 77/200\n",
      "19/19 [==============================] - 0s 6ms/step - loss: 20.0667 - mape: 20.0667 - val_loss: 22.4148 - val_mape: 22.4148\n",
      "Epoch 78/200\n",
      "19/19 [==============================] - 0s 7ms/step - loss: 20.1028 - mape: 20.1028 - val_loss: 22.7805 - val_mape: 22.7805\n",
      "Epoch 79/200\n",
      "19/19 [==============================] - 0s 6ms/step - loss: 19.9601 - mape: 19.9601 - val_loss: 22.2116 - val_mape: 22.2116\n",
      "Epoch 80/200\n",
      "19/19 [==============================] - 0s 7ms/step - loss: 20.5990 - mape: 20.5990 - val_loss: 23.0681 - val_mape: 23.0681\n",
      "Epoch 81/200\n",
      "19/19 [==============================] - 0s 7ms/step - loss: 20.7039 - mape: 20.7039 - val_loss: 24.1302 - val_mape: 24.1302\n",
      "Epoch 82/200\n",
      "19/19 [==============================] - 0s 6ms/step - loss: 20.5213 - mape: 20.5213 - val_loss: 22.9368 - val_mape: 22.9368\n",
      "Epoch 83/200\n",
      "19/19 [==============================] - 0s 6ms/step - loss: 20.9648 - mape: 20.9648 - val_loss: 22.9051 - val_mape: 22.9051\n",
      "Epoch 84/200\n",
      "19/19 [==============================] - 0s 7ms/step - loss: 20.4359 - mape: 20.4359 - val_loss: 22.1772 - val_mape: 22.1772\n",
      "Epoch 85/200\n",
      "19/19 [==============================] - 0s 7ms/step - loss: 20.1895 - mape: 20.1895 - val_loss: 22.0941 - val_mape: 22.0941\n",
      "Epoch 86/200\n",
      "19/19 [==============================] - 0s 8ms/step - loss: 21.7292 - mape: 21.7292 - val_loss: 22.2659 - val_mape: 22.2659\n",
      "Epoch 87/200\n",
      "19/19 [==============================] - 0s 8ms/step - loss: 21.6739 - mape: 21.6739 - val_loss: 26.5986 - val_mape: 26.5986\n",
      "Epoch 88/200\n",
      "19/19 [==============================] - 0s 7ms/step - loss: 21.6541 - mape: 21.6541 - val_loss: 21.7859 - val_mape: 21.7859\n",
      "Epoch 89/200\n",
      "19/19 [==============================] - 0s 8ms/step - loss: 20.2472 - mape: 20.2472 - val_loss: 21.9397 - val_mape: 21.9397\n",
      "Epoch 90/200\n",
      "19/19 [==============================] - 0s 8ms/step - loss: 19.9803 - mape: 19.9803 - val_loss: 22.0147 - val_mape: 22.0147\n",
      "Epoch 91/200\n",
      "19/19 [==============================] - 0s 8ms/step - loss: 19.9153 - mape: 19.9153 - val_loss: 21.9317 - val_mape: 21.9317\n",
      "Epoch 92/200\n",
      "19/19 [==============================] - 0s 7ms/step - loss: 19.8920 - mape: 19.8920 - val_loss: 22.0546 - val_mape: 22.0546\n",
      "Epoch 93/200\n",
      "19/19 [==============================] - 0s 6ms/step - loss: 19.8662 - mape: 19.8662 - val_loss: 22.3402 - val_mape: 22.3402\n",
      "Epoch 94/200\n",
      "19/19 [==============================] - 0s 8ms/step - loss: 19.8869 - mape: 19.8869 - val_loss: 22.0520 - val_mape: 22.0520\n",
      "Epoch 95/200\n",
      "19/19 [==============================] - 0s 7ms/step - loss: 20.2212 - mape: 20.2212 - val_loss: 22.6509 - val_mape: 22.6509\n",
      "Epoch 96/200\n",
      "19/19 [==============================] - 0s 6ms/step - loss: 19.6390 - mape: 19.6390 - val_loss: 22.1905 - val_mape: 22.1905\n",
      "Epoch 97/200\n",
      "19/19 [==============================] - 0s 6ms/step - loss: 20.0420 - mape: 20.0420 - val_loss: 22.5455 - val_mape: 22.5455\n",
      "Epoch 98/200\n",
      "19/19 [==============================] - 0s 6ms/step - loss: 20.3423 - mape: 20.3423 - val_loss: 22.0188 - val_mape: 22.0188\n",
      "Epoch 99/200\n",
      "19/19 [==============================] - 0s 6ms/step - loss: 20.7823 - mape: 20.7823 - val_loss: 21.9874 - val_mape: 21.9874\n",
      "Epoch 100/200\n",
      "19/19 [==============================] - 0s 6ms/step - loss: 20.0833 - mape: 20.0833 - val_loss: 21.9200 - val_mape: 21.9200\n",
      "Epoch 101/200\n",
      "19/19 [==============================] - 0s 7ms/step - loss: 20.3300 - mape: 20.3300 - val_loss: 24.3927 - val_mape: 24.3927\n",
      "Epoch 102/200\n",
      "19/19 [==============================] - 0s 6ms/step - loss: 20.9373 - mape: 20.9373 - val_loss: 22.7105 - val_mape: 22.7105\n",
      "Epoch 103/200\n",
      "19/19 [==============================] - 0s 6ms/step - loss: 20.1029 - mape: 20.1029 - val_loss: 21.8087 - val_mape: 21.8087\n",
      "Epoch 104/200\n",
      "19/19 [==============================] - 0s 6ms/step - loss: 19.6897 - mape: 19.6897 - val_loss: 21.7670 - val_mape: 21.7670\n",
      "Epoch 105/200\n",
      "19/19 [==============================] - 0s 6ms/step - loss: 19.9874 - mape: 19.9874 - val_loss: 22.0181 - val_mape: 22.0181\n",
      "Epoch 106/200\n",
      "19/19 [==============================] - 0s 6ms/step - loss: 20.4407 - mape: 20.4407 - val_loss: 24.8831 - val_mape: 24.8831\n",
      "Epoch 107/200\n",
      "19/19 [==============================] - 0s 7ms/step - loss: 20.2992 - mape: 20.2992 - val_loss: 21.8120 - val_mape: 21.8120\n",
      "Epoch 108/200\n",
      "19/19 [==============================] - 0s 6ms/step - loss: 21.5161 - mape: 21.5161 - val_loss: 24.1171 - val_mape: 24.1171\n",
      "Epoch 109/200\n",
      "19/19 [==============================] - 0s 7ms/step - loss: 20.1693 - mape: 20.1693 - val_loss: 22.1032 - val_mape: 22.1032\n",
      "Epoch 110/200\n",
      "19/19 [==============================] - 0s 7ms/step - loss: 19.9394 - mape: 19.9394 - val_loss: 22.0177 - val_mape: 22.0177\n",
      "Epoch 111/200\n",
      "19/19 [==============================] - 0s 7ms/step - loss: 19.8889 - mape: 19.8889 - val_loss: 22.0722 - val_mape: 22.0722\n",
      "Epoch 112/200\n",
      "19/19 [==============================] - 0s 6ms/step - loss: 20.0440 - mape: 20.0440 - val_loss: 22.2129 - val_mape: 22.2129\n",
      "Epoch 113/200\n",
      "19/19 [==============================] - 0s 6ms/step - loss: 20.4037 - mape: 20.4037 - val_loss: 21.9374 - val_mape: 21.9374\n",
      "Epoch 114/200\n",
      "19/19 [==============================] - 0s 6ms/step - loss: 19.8179 - mape: 19.8179 - val_loss: 21.8882 - val_mape: 21.8882\n",
      "Epoch 115/200\n",
      "19/19 [==============================] - 0s 7ms/step - loss: 20.1324 - mape: 20.1324 - val_loss: 21.9529 - val_mape: 21.9529\n",
      "Epoch 116/200\n",
      "19/19 [==============================] - 0s 8ms/step - loss: 19.8970 - mape: 19.8970 - val_loss: 22.0699 - val_mape: 22.0699\n",
      "Epoch 117/200\n",
      "19/19 [==============================] - 0s 7ms/step - loss: 19.8201 - mape: 19.8201 - val_loss: 22.2091 - val_mape: 22.2091\n",
      "Epoch 118/200\n",
      "19/19 [==============================] - 0s 6ms/step - loss: 20.2332 - mape: 20.2332 - val_loss: 23.3183 - val_mape: 23.3183\n",
      "Epoch 119/200\n",
      "19/19 [==============================] - 0s 9ms/step - loss: 20.5193 - mape: 20.5193 - val_loss: 22.6808 - val_mape: 22.6808\n",
      "Epoch 120/200\n",
      "19/19 [==============================] - 0s 8ms/step - loss: 19.7940 - mape: 19.7940 - val_loss: 22.7801 - val_mape: 22.7801\n",
      "Epoch 121/200\n",
      "19/19 [==============================] - 0s 7ms/step - loss: 19.9009 - mape: 19.9009 - val_loss: 22.2240 - val_mape: 22.2240\n",
      "Epoch 122/200\n",
      "19/19 [==============================] - 0s 6ms/step - loss: 19.7700 - mape: 19.7700 - val_loss: 21.8427 - val_mape: 21.8427\n",
      "Epoch 123/200\n",
      "19/19 [==============================] - 0s 6ms/step - loss: 20.0480 - mape: 20.0480 - val_loss: 21.9696 - val_mape: 21.9696\n",
      "Epoch 124/200\n",
      "19/19 [==============================] - 0s 6ms/step - loss: 19.9405 - mape: 19.9405 - val_loss: 22.2260 - val_mape: 22.2260\n",
      "Epoch 125/200\n",
      "19/19 [==============================] - 0s 6ms/step - loss: 19.8049 - mape: 19.8049 - val_loss: 21.7421 - val_mape: 21.7421\n",
      "Epoch 126/200\n",
      "19/19 [==============================] - 0s 7ms/step - loss: 20.2818 - mape: 20.2818 - val_loss: 23.1463 - val_mape: 23.1463\n",
      "Epoch 127/200\n",
      "19/19 [==============================] - 0s 6ms/step - loss: 20.6786 - mape: 20.6786 - val_loss: 21.9641 - val_mape: 21.9641\n",
      "Epoch 128/200\n",
      "19/19 [==============================] - 0s 6ms/step - loss: 20.0309 - mape: 20.0309 - val_loss: 21.9479 - val_mape: 21.9479\n",
      "Epoch 129/200\n",
      "19/19 [==============================] - 0s 6ms/step - loss: 19.6685 - mape: 19.6685 - val_loss: 23.0299 - val_mape: 23.0299\n",
      "Epoch 130/200\n",
      "19/19 [==============================] - 0s 6ms/step - loss: 20.9442 - mape: 20.9442 - val_loss: 21.7190 - val_mape: 21.7190\n",
      "Epoch 131/200\n",
      "19/19 [==============================] - 0s 6ms/step - loss: 21.2523 - mape: 21.2523 - val_loss: 23.6925 - val_mape: 23.6925\n",
      "Epoch 132/200\n",
      "19/19 [==============================] - 0s 6ms/step - loss: 20.6177 - mape: 20.6177 - val_loss: 23.8004 - val_mape: 23.8004\n",
      "Epoch 133/200\n",
      "19/19 [==============================] - 0s 6ms/step - loss: 20.2175 - mape: 20.2175 - val_loss: 22.0632 - val_mape: 22.0632\n",
      "Epoch 134/200\n",
      "19/19 [==============================] - 0s 6ms/step - loss: 19.9368 - mape: 19.9368 - val_loss: 22.4173 - val_mape: 22.4173\n",
      "Epoch 135/200\n",
      "19/19 [==============================] - 0s 8ms/step - loss: 19.6603 - mape: 19.6603 - val_loss: 22.1749 - val_mape: 22.1749\n",
      "Epoch 136/200\n",
      "19/19 [==============================] - 0s 7ms/step - loss: 19.7468 - mape: 19.7468 - val_loss: 22.2882 - val_mape: 22.2882\n",
      "Epoch 137/200\n",
      "19/19 [==============================] - 0s 6ms/step - loss: 20.1068 - mape: 20.1068 - val_loss: 22.8158 - val_mape: 22.8158\n",
      "Epoch 138/200\n",
      "19/19 [==============================] - 0s 6ms/step - loss: 19.9716 - mape: 19.9716 - val_loss: 22.1473 - val_mape: 22.1473\n",
      "Epoch 139/200\n",
      "19/19 [==============================] - 0s 6ms/step - loss: 20.0760 - mape: 20.0760 - val_loss: 22.5691 - val_mape: 22.5691\n",
      "Epoch 140/200\n",
      "19/19 [==============================] - 0s 6ms/step - loss: 20.1235 - mape: 20.1235 - val_loss: 22.0946 - val_mape: 22.0946\n",
      "Epoch 141/200\n",
      "19/19 [==============================] - 0s 6ms/step - loss: 20.3552 - mape: 20.3552 - val_loss: 22.2812 - val_mape: 22.2812\n",
      "Epoch 142/200\n",
      "19/19 [==============================] - 0s 6ms/step - loss: 19.8573 - mape: 19.8573 - val_loss: 21.9891 - val_mape: 21.9891\n",
      "Epoch 143/200\n",
      "19/19 [==============================] - 0s 7ms/step - loss: 20.1299 - mape: 20.1299 - val_loss: 21.9567 - val_mape: 21.9567\n",
      "Epoch 144/200\n",
      "19/19 [==============================] - 0s 6ms/step - loss: 19.9164 - mape: 19.9164 - val_loss: 22.0095 - val_mape: 22.0095\n",
      "Epoch 145/200\n",
      "19/19 [==============================] - 0s 6ms/step - loss: 20.3400 - mape: 20.3400 - val_loss: 21.9996 - val_mape: 21.9996\n",
      "Epoch 146/200\n",
      "19/19 [==============================] - 0s 6ms/step - loss: 19.8391 - mape: 19.8391 - val_loss: 22.1686 - val_mape: 22.1686\n",
      "Epoch 147/200\n",
      "19/19 [==============================] - 0s 7ms/step - loss: 19.8288 - mape: 19.8288 - val_loss: 22.0306 - val_mape: 22.0306\n",
      "Epoch 148/200\n",
      "19/19 [==============================] - 0s 7ms/step - loss: 19.6828 - mape: 19.6828 - val_loss: 21.9113 - val_mape: 21.9113\n",
      "Epoch 149/200\n",
      "19/19 [==============================] - 0s 6ms/step - loss: 19.8718 - mape: 19.8718 - val_loss: 21.9747 - val_mape: 21.9747\n",
      "Epoch 150/200\n",
      "19/19 [==============================] - 0s 6ms/step - loss: 19.7544 - mape: 19.7544 - val_loss: 22.1909 - val_mape: 22.1909\n",
      "Epoch 151/200\n",
      "19/19 [==============================] - 0s 7ms/step - loss: 19.7984 - mape: 19.7984 - val_loss: 22.0208 - val_mape: 22.0208\n",
      "Epoch 152/200\n",
      "19/19 [==============================] - 0s 7ms/step - loss: 19.8164 - mape: 19.8164 - val_loss: 22.3884 - val_mape: 22.3884\n",
      "Epoch 153/200\n",
      "19/19 [==============================] - 0s 6ms/step - loss: 19.6680 - mape: 19.6680 - val_loss: 21.8849 - val_mape: 21.8849\n",
      "Epoch 154/200\n",
      "19/19 [==============================] - 0s 6ms/step - loss: 19.7663 - mape: 19.7663 - val_loss: 21.9262 - val_mape: 21.9262\n",
      "Epoch 155/200\n",
      "19/19 [==============================] - 0s 6ms/step - loss: 19.8307 - mape: 19.8307 - val_loss: 21.8655 - val_mape: 21.8655\n",
      "Epoch 156/200\n",
      "19/19 [==============================] - 0s 6ms/step - loss: 20.1076 - mape: 20.1076 - val_loss: 22.2703 - val_mape: 22.2703\n",
      "Epoch 157/200\n",
      "19/19 [==============================] - 0s 6ms/step - loss: 20.2517 - mape: 20.2517 - val_loss: 22.3258 - val_mape: 22.3258\n",
      "Epoch 158/200\n",
      "19/19 [==============================] - 0s 6ms/step - loss: 19.8325 - mape: 19.8325 - val_loss: 21.8892 - val_mape: 21.8892\n",
      "Epoch 159/200\n",
      "19/19 [==============================] - 0s 7ms/step - loss: 19.8812 - mape: 19.8812 - val_loss: 21.8920 - val_mape: 21.8920\n",
      "Epoch 160/200\n",
      "19/19 [==============================] - 0s 6ms/step - loss: 19.6522 - mape: 19.6522 - val_loss: 21.9053 - val_mape: 21.9053\n",
      "Epoch 161/200\n",
      "19/19 [==============================] - 0s 6ms/step - loss: 19.6693 - mape: 19.6693 - val_loss: 22.0141 - val_mape: 22.0141\n",
      "Epoch 162/200\n",
      "19/19 [==============================] - 0s 6ms/step - loss: 19.7309 - mape: 19.7309 - val_loss: 21.8826 - val_mape: 21.8826\n",
      "Epoch 163/200\n",
      "19/19 [==============================] - 0s 6ms/step - loss: 19.8604 - mape: 19.8604 - val_loss: 21.9508 - val_mape: 21.9508\n",
      "Epoch 164/200\n",
      "19/19 [==============================] - 0s 6ms/step - loss: 20.0793 - mape: 20.0793 - val_loss: 21.9102 - val_mape: 21.9102\n",
      "Epoch 165/200\n",
      "19/19 [==============================] - 0s 6ms/step - loss: 19.8785 - mape: 19.8785 - val_loss: 22.0155 - val_mape: 22.0155\n",
      "Epoch 166/200\n",
      "19/19 [==============================] - 0s 6ms/step - loss: 19.8142 - mape: 19.8142 - val_loss: 21.7190 - val_mape: 21.7190\n",
      "Epoch 167/200\n",
      "19/19 [==============================] - 0s 6ms/step - loss: 19.6840 - mape: 19.6840 - val_loss: 22.7859 - val_mape: 22.7859\n",
      "Epoch 168/200\n",
      "19/19 [==============================] - 0s 6ms/step - loss: 19.8352 - mape: 19.8352 - val_loss: 21.7464 - val_mape: 21.7464\n",
      "Epoch 169/200\n",
      "19/19 [==============================] - 0s 6ms/step - loss: 19.9009 - mape: 19.9009 - val_loss: 21.7636 - val_mape: 21.7636\n",
      "Epoch 170/200\n",
      "19/19 [==============================] - 0s 6ms/step - loss: 19.5917 - mape: 19.5917 - val_loss: 22.3459 - val_mape: 22.3459\n",
      "Epoch 171/200\n",
      "19/19 [==============================] - 0s 6ms/step - loss: 20.1363 - mape: 20.1363 - val_loss: 22.1188 - val_mape: 22.1188\n",
      "Epoch 172/200\n",
      "19/19 [==============================] - 0s 6ms/step - loss: 19.7588 - mape: 19.7588 - val_loss: 21.9914 - val_mape: 21.9914\n",
      "Epoch 173/200\n",
      "19/19 [==============================] - 0s 6ms/step - loss: 19.8342 - mape: 19.8342 - val_loss: 21.8339 - val_mape: 21.8339\n",
      "Epoch 174/200\n",
      "19/19 [==============================] - 0s 6ms/step - loss: 19.6916 - mape: 19.6916 - val_loss: 22.0434 - val_mape: 22.0434\n",
      "Epoch 175/200\n",
      "19/19 [==============================] - 0s 6ms/step - loss: 19.6021 - mape: 19.6021 - val_loss: 21.8673 - val_mape: 21.8673\n",
      "Epoch 176/200\n",
      "19/19 [==============================] - 0s 6ms/step - loss: 19.6439 - mape: 19.6439 - val_loss: 22.2573 - val_mape: 22.2573\n",
      "Epoch 177/200\n",
      "19/19 [==============================] - 0s 6ms/step - loss: 19.7088 - mape: 19.7088 - val_loss: 22.8147 - val_mape: 22.8147\n",
      "Epoch 178/200\n",
      "19/19 [==============================] - 0s 6ms/step - loss: 19.9269 - mape: 19.9269 - val_loss: 22.1869 - val_mape: 22.1869\n",
      "Epoch 179/200\n",
      "19/19 [==============================] - 0s 6ms/step - loss: 20.0547 - mape: 20.0547 - val_loss: 22.0729 - val_mape: 22.0729\n",
      "Epoch 180/200\n",
      "19/19 [==============================] - 0s 6ms/step - loss: 19.7881 - mape: 19.7881 - val_loss: 21.7673 - val_mape: 21.7673\n",
      "Epoch 181/200\n",
      "19/19 [==============================] - 0s 6ms/step - loss: 19.6212 - mape: 19.6212 - val_loss: 22.5550 - val_mape: 22.5550\n",
      "Epoch 182/200\n",
      "19/19 [==============================] - 0s 6ms/step - loss: 20.3630 - mape: 20.3630 - val_loss: 22.9431 - val_mape: 22.9431\n",
      "Epoch 183/200\n",
      "19/19 [==============================] - 0s 6ms/step - loss: 21.5904 - mape: 21.5904 - val_loss: 25.1494 - val_mape: 25.1494\n",
      "Epoch 184/200\n",
      "19/19 [==============================] - 0s 7ms/step - loss: 20.7975 - mape: 20.7975 - val_loss: 23.3265 - val_mape: 23.3265\n",
      "Epoch 185/200\n",
      "19/19 [==============================] - 0s 6ms/step - loss: 20.8953 - mape: 20.8953 - val_loss: 21.5869 - val_mape: 21.5869\n",
      "Epoch 186/200\n",
      "19/19 [==============================] - 0s 6ms/step - loss: 19.8088 - mape: 19.8088 - val_loss: 21.8087 - val_mape: 21.8087\n",
      "Epoch 187/200\n",
      "19/19 [==============================] - 0s 7ms/step - loss: 19.5773 - mape: 19.5773 - val_loss: 21.8990 - val_mape: 21.8990\n",
      "Epoch 188/200\n",
      "19/19 [==============================] - 0s 6ms/step - loss: 19.5578 - mape: 19.5578 - val_loss: 21.7326 - val_mape: 21.7326\n",
      "Epoch 189/200\n",
      "19/19 [==============================] - 0s 6ms/step - loss: 19.6419 - mape: 19.6419 - val_loss: 21.8150 - val_mape: 21.8150\n",
      "Epoch 190/200\n",
      "19/19 [==============================] - 0s 6ms/step - loss: 19.9084 - mape: 19.9084 - val_loss: 21.9951 - val_mape: 21.9951\n",
      "Epoch 191/200\n",
      "19/19 [==============================] - 0s 6ms/step - loss: 20.3727 - mape: 20.3727 - val_loss: 22.2026 - val_mape: 22.2026\n",
      "Epoch 192/200\n",
      "19/19 [==============================] - 0s 6ms/step - loss: 19.9403 - mape: 19.9403 - val_loss: 21.6660 - val_mape: 21.6660\n",
      "Epoch 193/200\n",
      "19/19 [==============================] - 0s 7ms/step - loss: 19.6905 - mape: 19.6905 - val_loss: 21.7767 - val_mape: 21.7767\n",
      "Epoch 194/200\n",
      "19/19 [==============================] - 0s 6ms/step - loss: 20.2577 - mape: 20.2577 - val_loss: 21.8001 - val_mape: 21.8001\n",
      "Epoch 195/200\n",
      "19/19 [==============================] - 0s 7ms/step - loss: 19.9306 - mape: 19.9306 - val_loss: 21.7663 - val_mape: 21.7663\n",
      "Epoch 196/200\n",
      "19/19 [==============================] - 0s 6ms/step - loss: 19.6227 - mape: 19.6227 - val_loss: 21.7049 - val_mape: 21.7049\n",
      "Epoch 197/200\n",
      "19/19 [==============================] - 0s 6ms/step - loss: 19.9277 - mape: 19.9277 - val_loss: 21.7111 - val_mape: 21.7111\n",
      "Epoch 198/200\n",
      "19/19 [==============================] - 0s 7ms/step - loss: 19.6370 - mape: 19.6370 - val_loss: 21.8776 - val_mape: 21.8776\n",
      "Epoch 199/200\n",
      "19/19 [==============================] - 0s 6ms/step - loss: 20.3478 - mape: 20.3478 - val_loss: 21.8491 - val_mape: 21.8491\n",
      "Epoch 200/200\n",
      "19/19 [==============================] - 0s 6ms/step - loss: 20.1050 - mape: 20.1050 - val_loss: 21.8716 - val_mape: 21.8716\n"
     ]
    }
   ],
   "source": [
    "model = Sequential()\n",
    "model.add(LSTM(32,activation='relu',input_shape=(1,look_back),return_sequences=True, recurrent_dropout = 0.2))\n",
    "model.add(LSTM(16,activation='relu', recurrent_dropout = 0.6))\n",
    "model.add(Dense(16,activation='relu'))\n",
    "model.add(Dense(1,activation='linear'))\n",
    "ad=optimizers.Adam(learning_rate=0.005638087527161876)\n",
    "model.compile(optimizer = ad, loss = 'mape', metrics = ['mape'])\n",
    "model_history=model.fit(trainX, trainY,validation_data=(testX, testY), batch_size = 33, epochs = 200)"
   ]
  },
  {
   "cell_type": "code",
   "execution_count": 70,
   "id": "77c05906",
   "metadata": {
    "id": "77c05906"
   },
   "outputs": [],
   "source": [
    "def model_loss(history):\n",
    "    plt.figure(figsize=(8,4))\n",
    "    plt.plot(history.history['loss'], label='Train Loss')\n",
    "    plt.plot(history.history['val_loss'], label='Test Loss')\n",
    "    plt.title('model loss')\n",
    "    plt.ylabel('loss')\n",
    "    plt.xlabel('epochs')\n",
    "    plt.legend(loc='upper right')\n",
    "    plt.show();"
   ]
  },
  {
   "cell_type": "code",
   "execution_count": 71,
   "id": "45a22c27",
   "metadata": {
    "colab": {
     "base_uri": "https://localhost:8080/",
     "height": 330
    },
    "id": "45a22c27",
    "outputId": "4cae333f-220d-4028-a248-29afe258d26e"
   },
   "outputs": [
    {
     "name": "stdout",
     "output_type": "stream",
     "text": [
      "Train Root Mean Squared Error(RMSE): 4.43; Train MAPE : 19.61 \n",
      "Test Root Mean Squared Error(RMSE): 4.68; Test MAPE : 21.87 \n"
     ]
    },
    {
     "data": {
      "image/png": "[encoded data removed]",
      "text/plain": [
       "<Figure size 576x288 with 1 Axes>"
      ]
     },
     "metadata": {
      "needs_background": "light"
     },
     "output_type": "display_data"
    }
   ],
   "source": [
    "train_score = model.evaluate(trainX, trainY, verbose=0)\n",
    "print('Train Root Mean Squared Error(RMSE): %.2f; Train MAPE : %.2f ' \n",
    "% (np.sqrt(train_score[1]), train_score[1]))\n",
    "test_score = model.evaluate(testX, testY, verbose=0)\n",
    "print('Test Root Mean Squared Error(RMSE): %.2f; Test MAPE : %.2f ' \n",
    "% (np.sqrt(test_score[1]), test_score[1]))\n",
    "model_loss(model_history)"
   ]
  },
  {
   "cell_type": "code",
   "execution_count": 72,
   "id": "dc942f74",
   "metadata": {
    "id": "dc942f74"
   },
   "outputs": [],
   "source": [
    "import seaborn as sns"
   ]
  },
  {
   "cell_type": "code",
   "execution_count": 73,
   "id": "dee9bab8",
   "metadata": {
    "id": "dee9bab8"
   },
   "outputs": [],
   "source": [
    "def prediction_plot(testY, test_predict):\n",
    "    len_prediction=[x for x in range(615,675)]\n",
    "    plt.figure(figsize=(15,8))\n",
    "    plt.plot(trainY)\n",
    "    plt.plot(len_prediction, testY, marker='.', label=\"actual\")\n",
    "    plt.plot(len_prediction, test_predict, 'g', label=\"prediction\")\n",
    "    plt.tight_layout()\n",
    "    sns.despine(top=True)\n",
    "    plt.subplots_adjust(left=0.07)\n",
    "    plt.ylabel('Sales', size=15)\n",
    "    plt.xlabel('Time step', size=15)\n",
    "    plt.legend(fontsize=15)\n",
    "    plt.show();"
   ]
  },
  {
   "cell_type": "code",
   "execution_count": 75,
   "id": "363040b5",
   "metadata": {
    "colab": {
     "base_uri": "https://localhost:8080/",
     "height": 604
    },
    "id": "363040b5",
    "outputId": "337677a3-509c-4908-9a7b-26f9257bf5e9"
   },
   "outputs": [
    {
     "data": {
      "image/png": "[encoded data removed]",
      "text/plain": [
       "<Figure size 1080x576 with 1 Axes>"
      ]
     },
     "metadata": {
      "needs_background": "light"
     },
     "output_type": "display_data"
    }
   ],
   "source": [
    "test_predict = model.predict(testX)\n",
    "prediction_plot(testY, test_predict)"
   ]
  },
  {
   "cell_type": "code",
   "execution_count": null,
   "id": "f8a7708c",
   "metadata": {
    "id": "f8a7708c"
   },
   "outputs": [],
   "source": []
  }
 ],
 "metadata": {
  "colab": {
   "collapsed_sections": [],
   "name": "Daily_electric_HPT_LSTM_3rd_architecture.ipynb",
   "provenance": []
  },
  "kernelspec": {
   "display_name": "Python 3",
   "language": "python",
   "name": "python3"
  },
  "language_info": {
   "codemirror_mode": {
    "name": "ipython",
    "version": 3
   },
   "file_extension": ".py",
   "mimetype": "text/x-python",
   "name": "python",
   "nbconvert_exporter": "python",
   "pygments_lexer": "ipython3",
   "version": "3.8.8"
  }
 },
 "nbformat": 4,
 "nbformat_minor": 5
}
