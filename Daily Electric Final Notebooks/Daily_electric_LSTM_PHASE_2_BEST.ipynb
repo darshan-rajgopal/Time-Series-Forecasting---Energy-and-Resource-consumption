{
  "cells": [
    {
      "cell_type": "code",
      "execution_count": 1,
      "id": "c2ef9b47",
      "metadata": {
        "id": "c2ef9b47"
      },
      "outputs": [],
      "source": [
        "import numpy as np\n",
        "import pandas as pd\n",
        "from tensorflow.keras.models import Sequential\n",
        "from tensorflow.keras.layers import LSTM\n",
        "from tensorflow.keras.layers import Dense\n",
        "from tensorflow.keras.layers import Flatten\n",
        "import matplotlib.pyplot as plt\n",
        "import warnings\n",
        "warnings.filterwarnings('ignore')\n",
        "%matplotlib inline"
      ]
    },
    {
      "cell_type": "code",
      "execution_count": 2,
      "id": "iGQk9lcRmucZ",
      "metadata": {
        "colab": {
          "base_uri": "https://localhost:8080/"
        },
        "id": "iGQk9lcRmucZ",
        "outputId": "0ee1f4de-b24b-4c1e-9495-a17636dc2298"
      },
      "outputs": [
        {
          "output_type": "stream",
          "name": "stdout",
          "text": [
            "Mounted at /content/drive\n"
          ]
        }
      ],
      "source": [
        "from google.colab import drive\n",
        "drive.mount('/content/drive')"
      ]
    },
    {
      "cell_type": "code",
      "execution_count": null,
      "id": "BxDZtfokj6Da",
      "metadata": {
        "id": "BxDZtfokj6Da"
      },
      "outputs": [],
      "source": [
        "import tensorflow as tf\n",
        "tf.test.gpu_device_name()"
      ]
    },
    {
      "cell_type": "code",
      "execution_count": null,
      "id": "UDt4KrAxj6JS",
      "metadata": {
        "id": "UDt4KrAxj6JS"
      },
      "outputs": [],
      "source": [
        "from tensorflow.python.client import device_lib\n",
        "device_lib.list_local_devices()"
      ]
    },
    {
      "cell_type": "code",
      "execution_count": 3,
      "id": "30d066a0",
      "metadata": {
        "colab": {
          "base_uri": "https://localhost:8080/",
          "height": 206
        },
        "id": "30d066a0",
        "outputId": "115cde50-f234-4f67-c7fd-f4eb6db2ccdc"
      },
      "outputs": [
        {
          "output_type": "execute_result",
          "data": {
            "text/plain": [
              "    date_time  active_power_consumed  meter_reading\n",
              "0  01-01-2009               0.976869       1.946528\n",
              "1  02-01-2009               1.616326       8.222917\n",
              "2  03-01-2009               1.328817       7.249306\n",
              "3  04-01-2009               1.347218       2.253472\n",
              "4  05-01-2009               1.113889       6.006944"
            ],
            "text/html": [
              "\n",
              "  <div id=\"df-eb4de84b-befe-4643-9d59-9f3357513412\">\n",
              "    <div class=\"colab-df-container\">\n",
              "      <div>\n",
              "<style scoped>\n",
              "    .dataframe tbody tr th:only-of-type {\n",
              "        vertical-align: middle;\n",
              "    }\n",
              "\n",
              "    .dataframe tbody tr th {\n",
              "        vertical-align: top;\n",
              "    }\n",
              "\n",
              "    .dataframe thead th {\n",
              "        text-align: right;\n",
              "    }\n",
              "</style>\n",
              "<table border=\"1\" class=\"dataframe\">\n",
              "  <thead>\n",
              "    <tr style=\"text-align: right;\">\n",
              "      <th></th>\n",
              "      <th>date_time</th>\n",
              "      <th>active_power_consumed</th>\n",
              "      <th>meter_reading</th>\n",
              "    </tr>\n",
              "  </thead>\n",
              "  <tbody>\n",
              "    <tr>\n",
              "      <th>0</th>\n",
              "      <td>01-01-2009</td>\n",
              "      <td>0.976869</td>\n",
              "      <td>1.946528</td>\n",
              "    </tr>\n",
              "    <tr>\n",
              "      <th>1</th>\n",
              "      <td>02-01-2009</td>\n",
              "      <td>1.616326</td>\n",
              "      <td>8.222917</td>\n",
              "    </tr>\n",
              "    <tr>\n",
              "      <th>2</th>\n",
              "      <td>03-01-2009</td>\n",
              "      <td>1.328817</td>\n",
              "      <td>7.249306</td>\n",
              "    </tr>\n",
              "    <tr>\n",
              "      <th>3</th>\n",
              "      <td>04-01-2009</td>\n",
              "      <td>1.347218</td>\n",
              "      <td>2.253472</td>\n",
              "    </tr>\n",
              "    <tr>\n",
              "      <th>4</th>\n",
              "      <td>05-01-2009</td>\n",
              "      <td>1.113889</td>\n",
              "      <td>6.006944</td>\n",
              "    </tr>\n",
              "  </tbody>\n",
              "</table>\n",
              "</div>\n",
              "      <button class=\"colab-df-convert\" onclick=\"convertToInteractive('df-eb4de84b-befe-4643-9d59-9f3357513412')\"\n",
              "              title=\"Convert this dataframe to an interactive table.\"\n",
              "              style=\"display:none;\">\n",
              "        \n",
              "  <svg xmlns=\"http://www.w3.org/2000/svg\" height=\"24px\"viewBox=\"0 0 24 24\"\n",
              "       width=\"24px\">\n",
              "    <path d=\"M0 0h24v24H0V0z\" fill=\"none\"/>\n",
              "    <path d=\"M18.56 5.44l.94 2.06.94-2.06 2.06-.94-2.06-.94-.94-2.06-.94 2.06-2.06.94zm-11 1L8.5 8.5l.94-2.06 2.06-.94-2.06-.94L8.5 2.5l-.94 2.06-2.06.94zm10 10l.94 2.06.94-2.06 2.06-.94-2.06-.94-.94-2.06-.94 2.06-2.06.94z\"/><path d=\"M17.41 7.96l-1.37-1.37c-.4-.4-.92-.59-1.43-.59-.52 0-1.04.2-1.43.59L10.3 9.45l-7.72 7.72c-.78.78-.78 2.05 0 2.83L4 21.41c.39.39.9.59 1.41.59.51 0 1.02-.2 1.41-.59l7.78-7.78 2.81-2.81c.8-.78.8-2.07 0-2.86zM5.41 20L4 18.59l7.72-7.72 1.47 1.35L5.41 20z\"/>\n",
              "  </svg>\n",
              "      </button>\n",
              "      \n",
              "  <style>\n",
              "    .colab-df-container {\n",
              "      display:flex;\n",
              "      flex-wrap:wrap;\n",
              "      gap: 12px;\n",
              "    }\n",
              "\n",
              "    .colab-df-convert {\n",
              "      background-color: #E8F0FE;\n",
              "      border: none;\n",
              "      border-radius: 50%;\n",
              "      cursor: pointer;\n",
              "      display: none;\n",
              "      fill: #1967D2;\n",
              "      height: 32px;\n",
              "      padding: 0 0 0 0;\n",
              "      width: 32px;\n",
              "    }\n",
              "\n",
              "    .colab-df-convert:hover {\n",
              "      background-color: #E2EBFA;\n",
              "      box-shadow: 0px 1px 2px rgba(60, 64, 67, 0.3), 0px 1px 3px 1px rgba(60, 64, 67, 0.15);\n",
              "      fill: #174EA6;\n",
              "    }\n",
              "\n",
              "    [theme=dark] .colab-df-convert {\n",
              "      background-color: #3B4455;\n",
              "      fill: #D2E3FC;\n",
              "    }\n",
              "\n",
              "    [theme=dark] .colab-df-convert:hover {\n",
              "      background-color: #434B5C;\n",
              "      box-shadow: 0px 1px 3px 1px rgba(0, 0, 0, 0.15);\n",
              "      filter: drop-shadow(0px 1px 2px rgba(0, 0, 0, 0.3));\n",
              "      fill: #FFFFFF;\n",
              "    }\n",
              "  </style>\n",
              "\n",
              "      <script>\n",
              "        const buttonEl =\n",
              "          document.querySelector('#df-eb4de84b-befe-4643-9d59-9f3357513412 button.colab-df-convert');\n",
              "        buttonEl.style.display =\n",
              "          google.colab.kernel.accessAllowed ? 'block' : 'none';\n",
              "\n",
              "        async function convertToInteractive(key) {\n",
              "          const element = document.querySelector('#df-eb4de84b-befe-4643-9d59-9f3357513412');\n",
              "          const dataTable =\n",
              "            await google.colab.kernel.invokeFunction('convertToInteractive',\n",
              "                                                     [key], {});\n",
              "          if (!dataTable) return;\n",
              "\n",
              "          const docLinkHtml = 'Like what you see? Visit the ' +\n",
              "            '<a target=\"_blank\" href=https://colab.research.google.com/notebooks/data_table.ipynb>data table notebook</a>'\n",
              "            + ' to learn more about interactive tables.';\n",
              "          element.innerHTML = '';\n",
              "          dataTable['output_type'] = 'display_data';\n",
              "          await google.colab.output.renderOutput(dataTable, element);\n",
              "          const docLink = document.createElement('div');\n",
              "          docLink.innerHTML = docLinkHtml;\n",
              "          element.appendChild(docLink);\n",
              "        }\n",
              "      </script>\n",
              "    </div>\n",
              "  </div>\n",
              "  "
            ]
          },
          "metadata": {},
          "execution_count": 3
        }
      ],
      "source": [
        "df = pd.read_csv('/content/drive/MyDrive/Colab Notebooks/Energy/Daily_electricity_consumption.csv')\n",
        "df.head()"
      ]
    },
    {
      "cell_type": "code",
      "execution_count": 4,
      "id": "e2663bb4",
      "metadata": {
        "colab": {
          "base_uri": "https://localhost:8080/",
          "height": 206
        },
        "id": "e2663bb4",
        "outputId": "300454b0-aac8-4df7-8f3b-c813a5cbfa24"
      },
      "outputs": [
        {
          "output_type": "execute_result",
          "data": {
            "text/plain": [
              "      date_time  active_power_consumed  meter_reading\n",
              "690  22-11-2010               1.417733       7.038889\n",
              "691  23-11-2010               1.095511       5.285417\n",
              "692  24-11-2010               1.247394       8.488889\n",
              "693  25-11-2010               0.993864       3.522222\n",
              "694  26-11-2010               1.178230       7.908947"
            ],
            "text/html": [
              "\n",
              "  <div id=\"df-eece3c36-f40a-445a-806d-c2f4ce227336\">\n",
              "    <div class=\"colab-df-container\">\n",
              "      <div>\n",
              "<style scoped>\n",
              "    .dataframe tbody tr th:only-of-type {\n",
              "        vertical-align: middle;\n",
              "    }\n",
              "\n",
              "    .dataframe tbody tr th {\n",
              "        vertical-align: top;\n",
              "    }\n",
              "\n",
              "    .dataframe thead th {\n",
              "        text-align: right;\n",
              "    }\n",
              "</style>\n",
              "<table border=\"1\" class=\"dataframe\">\n",
              "  <thead>\n",
              "    <tr style=\"text-align: right;\">\n",
              "      <th></th>\n",
              "      <th>date_time</th>\n",
              "      <th>active_power_consumed</th>\n",
              "      <th>meter_reading</th>\n",
              "    </tr>\n",
              "  </thead>\n",
              "  <tbody>\n",
              "    <tr>\n",
              "      <th>690</th>\n",
              "      <td>22-11-2010</td>\n",
              "      <td>1.417733</td>\n",
              "      <td>7.038889</td>\n",
              "    </tr>\n",
              "    <tr>\n",
              "      <th>691</th>\n",
              "      <td>23-11-2010</td>\n",
              "      <td>1.095511</td>\n",
              "      <td>5.285417</td>\n",
              "    </tr>\n",
              "    <tr>\n",
              "      <th>692</th>\n",
              "      <td>24-11-2010</td>\n",
              "      <td>1.247394</td>\n",
              "      <td>8.488889</td>\n",
              "    </tr>\n",
              "    <tr>\n",
              "      <th>693</th>\n",
              "      <td>25-11-2010</td>\n",
              "      <td>0.993864</td>\n",
              "      <td>3.522222</td>\n",
              "    </tr>\n",
              "    <tr>\n",
              "      <th>694</th>\n",
              "      <td>26-11-2010</td>\n",
              "      <td>1.178230</td>\n",
              "      <td>7.908947</td>\n",
              "    </tr>\n",
              "  </tbody>\n",
              "</table>\n",
              "</div>\n",
              "      <button class=\"colab-df-convert\" onclick=\"convertToInteractive('df-eece3c36-f40a-445a-806d-c2f4ce227336')\"\n",
              "              title=\"Convert this dataframe to an interactive table.\"\n",
              "              style=\"display:none;\">\n",
              "        \n",
              "  <svg xmlns=\"http://www.w3.org/2000/svg\" height=\"24px\"viewBox=\"0 0 24 24\"\n",
              "       width=\"24px\">\n",
              "    <path d=\"M0 0h24v24H0V0z\" fill=\"none\"/>\n",
              "    <path d=\"M18.56 5.44l.94 2.06.94-2.06 2.06-.94-2.06-.94-.94-2.06-.94 2.06-2.06.94zm-11 1L8.5 8.5l.94-2.06 2.06-.94-2.06-.94L8.5 2.5l-.94 2.06-2.06.94zm10 10l.94 2.06.94-2.06 2.06-.94-2.06-.94-.94-2.06-.94 2.06-2.06.94z\"/><path d=\"M17.41 7.96l-1.37-1.37c-.4-.4-.92-.59-1.43-.59-.52 0-1.04.2-1.43.59L10.3 9.45l-7.72 7.72c-.78.78-.78 2.05 0 2.83L4 21.41c.39.39.9.59 1.41.59.51 0 1.02-.2 1.41-.59l7.78-7.78 2.81-2.81c.8-.78.8-2.07 0-2.86zM5.41 20L4 18.59l7.72-7.72 1.47 1.35L5.41 20z\"/>\n",
              "  </svg>\n",
              "      </button>\n",
              "      \n",
              "  <style>\n",
              "    .colab-df-container {\n",
              "      display:flex;\n",
              "      flex-wrap:wrap;\n",
              "      gap: 12px;\n",
              "    }\n",
              "\n",
              "    .colab-df-convert {\n",
              "      background-color: #E8F0FE;\n",
              "      border: none;\n",
              "      border-radius: 50%;\n",
              "      cursor: pointer;\n",
              "      display: none;\n",
              "      fill: #1967D2;\n",
              "      height: 32px;\n",
              "      padding: 0 0 0 0;\n",
              "      width: 32px;\n",
              "    }\n",
              "\n",
              "    .colab-df-convert:hover {\n",
              "      background-color: #E2EBFA;\n",
              "      box-shadow: 0px 1px 2px rgba(60, 64, 67, 0.3), 0px 1px 3px 1px rgba(60, 64, 67, 0.15);\n",
              "      fill: #174EA6;\n",
              "    }\n",
              "\n",
              "    [theme=dark] .colab-df-convert {\n",
              "      background-color: #3B4455;\n",
              "      fill: #D2E3FC;\n",
              "    }\n",
              "\n",
              "    [theme=dark] .colab-df-convert:hover {\n",
              "      background-color: #434B5C;\n",
              "      box-shadow: 0px 1px 3px 1px rgba(0, 0, 0, 0.15);\n",
              "      filter: drop-shadow(0px 1px 2px rgba(0, 0, 0, 0.3));\n",
              "      fill: #FFFFFF;\n",
              "    }\n",
              "  </style>\n",
              "\n",
              "      <script>\n",
              "        const buttonEl =\n",
              "          document.querySelector('#df-eece3c36-f40a-445a-806d-c2f4ce227336 button.colab-df-convert');\n",
              "        buttonEl.style.display =\n",
              "          google.colab.kernel.accessAllowed ? 'block' : 'none';\n",
              "\n",
              "        async function convertToInteractive(key) {\n",
              "          const element = document.querySelector('#df-eece3c36-f40a-445a-806d-c2f4ce227336');\n",
              "          const dataTable =\n",
              "            await google.colab.kernel.invokeFunction('convertToInteractive',\n",
              "                                                     [key], {});\n",
              "          if (!dataTable) return;\n",
              "\n",
              "          const docLinkHtml = 'Like what you see? Visit the ' +\n",
              "            '<a target=\"_blank\" href=https://colab.research.google.com/notebooks/data_table.ipynb>data table notebook</a>'\n",
              "            + ' to learn more about interactive tables.';\n",
              "          element.innerHTML = '';\n",
              "          dataTable['output_type'] = 'display_data';\n",
              "          await google.colab.output.renderOutput(dataTable, element);\n",
              "          const docLink = document.createElement('div');\n",
              "          docLink.innerHTML = docLinkHtml;\n",
              "          element.appendChild(docLink);\n",
              "        }\n",
              "      </script>\n",
              "    </div>\n",
              "  </div>\n",
              "  "
            ]
          },
          "metadata": {},
          "execution_count": 4
        }
      ],
      "source": [
        "df.tail()"
      ]
    },
    {
      "cell_type": "code",
      "execution_count": null,
      "id": "0482272d",
      "metadata": {
        "colab": {
          "base_uri": "https://localhost:8080/"
        },
        "id": "0482272d",
        "outputId": "8761124a-9947-4b22-8847-d3fe4d733608"
      },
      "outputs": [
        {
          "data": {
            "text/plain": [
              "(695, 3)"
            ]
          },
          "execution_count": 7,
          "metadata": {},
          "output_type": "execute_result"
        }
      ],
      "source": [
        "df.shape"
      ]
    },
    {
      "cell_type": "code",
      "execution_count": null,
      "id": "076f1ad3",
      "metadata": {
        "colab": {
          "base_uri": "https://localhost:8080/"
        },
        "id": "076f1ad3",
        "outputId": "4772bf31-11d9-4294-ee58-93b0a1b77116"
      },
      "outputs": [
        {
          "name": "stdout",
          "output_type": "stream",
          "text": [
            "<class 'pandas.core.frame.DataFrame'>\n",
            "RangeIndex: 695 entries, 0 to 694\n",
            "Data columns (total 3 columns):\n",
            " #   Column                 Non-Null Count  Dtype  \n",
            "---  ------                 --------------  -----  \n",
            " 0   date_time              695 non-null    object \n",
            " 1   active_power_consumed  695 non-null    float64\n",
            " 2   meter_reading          695 non-null    float64\n",
            "dtypes: float64(2), object(1)\n",
            "memory usage: 16.4+ KB\n"
          ]
        }
      ],
      "source": [
        "df.info()"
      ]
    },
    {
      "cell_type": "code",
      "execution_count": null,
      "id": "IKYuy6u9oVZN",
      "metadata": {
        "colab": {
          "base_uri": "https://localhost:8080/"
        },
        "id": "IKYuy6u9oVZN",
        "outputId": "ed522e28-7f70-480b-f769-e6f713dd3102"
      },
      "outputs": [
        {
          "data": {
            "text/plain": [
              "date_time                0\n",
              "active_power_consumed    0\n",
              "meter_reading            0\n",
              "dtype: int64"
            ]
          },
          "execution_count": 9,
          "metadata": {},
          "output_type": "execute_result"
        }
      ],
      "source": [
        "df.isnull().sum()"
      ]
    },
    {
      "cell_type": "code",
      "execution_count": 5,
      "id": "93827e39",
      "metadata": {
        "id": "93827e39"
      },
      "outputs": [],
      "source": [
        "time = pd.date_range(start='1/1/2009',end='11/26/2010',freq='D')\n",
        "df['time_stamp'] = pd.DataFrame(time)\n",
        "df.drop('date_time',axis=1,inplace=True)\n",
        "df = df.set_index('time_stamp')"
      ]
    },
    {
      "cell_type": "code",
      "execution_count": 6,
      "id": "S0kNKRMAocKq",
      "metadata": {
        "colab": {
          "base_uri": "https://localhost:8080/"
        },
        "id": "S0kNKRMAocKq",
        "outputId": "4810fcb5-fdc2-4bd9-e7be-314c1b7c7a7a"
      },
      "outputs": [
        {
          "output_type": "execute_result",
          "data": {
            "text/plain": [
              "695"
            ]
          },
          "metadata": {},
          "execution_count": 6
        }
      ],
      "source": [
        "len(time)"
      ]
    },
    {
      "cell_type": "code",
      "execution_count": 7,
      "id": "522f2b8e",
      "metadata": {
        "colab": {
          "base_uri": "https://localhost:8080/",
          "height": 238
        },
        "id": "522f2b8e",
        "outputId": "cf2d7738-c115-4ac9-9242-3144ff8c5592"
      },
      "outputs": [
        {
          "output_type": "execute_result",
          "data": {
            "text/plain": [
              "            active_power_consumed  meter_reading\n",
              "time_stamp                                      \n",
              "2009-01-01               0.976869       1.946528\n",
              "2009-01-02               1.616326       8.222917\n",
              "2009-01-03               1.328817       7.249306\n",
              "2009-01-04               1.347218       2.253472\n",
              "2009-01-05               1.113889       6.006944"
            ],
            "text/html": [
              "\n",
              "  <div id=\"df-cc9c5d4f-b40e-49e8-8b3e-1cc3de1e4a19\">\n",
              "    <div class=\"colab-df-container\">\n",
              "      <div>\n",
              "<style scoped>\n",
              "    .dataframe tbody tr th:only-of-type {\n",
              "        vertical-align: middle;\n",
              "    }\n",
              "\n",
              "    .dataframe tbody tr th {\n",
              "        vertical-align: top;\n",
              "    }\n",
              "\n",
              "    .dataframe thead th {\n",
              "        text-align: right;\n",
              "    }\n",
              "</style>\n",
              "<table border=\"1\" class=\"dataframe\">\n",
              "  <thead>\n",
              "    <tr style=\"text-align: right;\">\n",
              "      <th></th>\n",
              "      <th>active_power_consumed</th>\n",
              "      <th>meter_reading</th>\n",
              "    </tr>\n",
              "    <tr>\n",
              "      <th>time_stamp</th>\n",
              "      <th></th>\n",
              "      <th></th>\n",
              "    </tr>\n",
              "  </thead>\n",
              "  <tbody>\n",
              "    <tr>\n",
              "      <th>2009-01-01</th>\n",
              "      <td>0.976869</td>\n",
              "      <td>1.946528</td>\n",
              "    </tr>\n",
              "    <tr>\n",
              "      <th>2009-01-02</th>\n",
              "      <td>1.616326</td>\n",
              "      <td>8.222917</td>\n",
              "    </tr>\n",
              "    <tr>\n",
              "      <th>2009-01-03</th>\n",
              "      <td>1.328817</td>\n",
              "      <td>7.249306</td>\n",
              "    </tr>\n",
              "    <tr>\n",
              "      <th>2009-01-04</th>\n",
              "      <td>1.347218</td>\n",
              "      <td>2.253472</td>\n",
              "    </tr>\n",
              "    <tr>\n",
              "      <th>2009-01-05</th>\n",
              "      <td>1.113889</td>\n",
              "      <td>6.006944</td>\n",
              "    </tr>\n",
              "  </tbody>\n",
              "</table>\n",
              "</div>\n",
              "      <button class=\"colab-df-convert\" onclick=\"convertToInteractive('df-cc9c5d4f-b40e-49e8-8b3e-1cc3de1e4a19')\"\n",
              "              title=\"Convert this dataframe to an interactive table.\"\n",
              "              style=\"display:none;\">\n",
              "        \n",
              "  <svg xmlns=\"http://www.w3.org/2000/svg\" height=\"24px\"viewBox=\"0 0 24 24\"\n",
              "       width=\"24px\">\n",
              "    <path d=\"M0 0h24v24H0V0z\" fill=\"none\"/>\n",
              "    <path d=\"M18.56 5.44l.94 2.06.94-2.06 2.06-.94-2.06-.94-.94-2.06-.94 2.06-2.06.94zm-11 1L8.5 8.5l.94-2.06 2.06-.94-2.06-.94L8.5 2.5l-.94 2.06-2.06.94zm10 10l.94 2.06.94-2.06 2.06-.94-2.06-.94-.94-2.06-.94 2.06-2.06.94z\"/><path d=\"M17.41 7.96l-1.37-1.37c-.4-.4-.92-.59-1.43-.59-.52 0-1.04.2-1.43.59L10.3 9.45l-7.72 7.72c-.78.78-.78 2.05 0 2.83L4 21.41c.39.39.9.59 1.41.59.51 0 1.02-.2 1.41-.59l7.78-7.78 2.81-2.81c.8-.78.8-2.07 0-2.86zM5.41 20L4 18.59l7.72-7.72 1.47 1.35L5.41 20z\"/>\n",
              "  </svg>\n",
              "      </button>\n",
              "      \n",
              "  <style>\n",
              "    .colab-df-container {\n",
              "      display:flex;\n",
              "      flex-wrap:wrap;\n",
              "      gap: 12px;\n",
              "    }\n",
              "\n",
              "    .colab-df-convert {\n",
              "      background-color: #E8F0FE;\n",
              "      border: none;\n",
              "      border-radius: 50%;\n",
              "      cursor: pointer;\n",
              "      display: none;\n",
              "      fill: #1967D2;\n",
              "      height: 32px;\n",
              "      padding: 0 0 0 0;\n",
              "      width: 32px;\n",
              "    }\n",
              "\n",
              "    .colab-df-convert:hover {\n",
              "      background-color: #E2EBFA;\n",
              "      box-shadow: 0px 1px 2px rgba(60, 64, 67, 0.3), 0px 1px 3px 1px rgba(60, 64, 67, 0.15);\n",
              "      fill: #174EA6;\n",
              "    }\n",
              "\n",
              "    [theme=dark] .colab-df-convert {\n",
              "      background-color: #3B4455;\n",
              "      fill: #D2E3FC;\n",
              "    }\n",
              "\n",
              "    [theme=dark] .colab-df-convert:hover {\n",
              "      background-color: #434B5C;\n",
              "      box-shadow: 0px 1px 3px 1px rgba(0, 0, 0, 0.15);\n",
              "      filter: drop-shadow(0px 1px 2px rgba(0, 0, 0, 0.3));\n",
              "      fill: #FFFFFF;\n",
              "    }\n",
              "  </style>\n",
              "\n",
              "      <script>\n",
              "        const buttonEl =\n",
              "          document.querySelector('#df-cc9c5d4f-b40e-49e8-8b3e-1cc3de1e4a19 button.colab-df-convert');\n",
              "        buttonEl.style.display =\n",
              "          google.colab.kernel.accessAllowed ? 'block' : 'none';\n",
              "\n",
              "        async function convertToInteractive(key) {\n",
              "          const element = document.querySelector('#df-cc9c5d4f-b40e-49e8-8b3e-1cc3de1e4a19');\n",
              "          const dataTable =\n",
              "            await google.colab.kernel.invokeFunction('convertToInteractive',\n",
              "                                                     [key], {});\n",
              "          if (!dataTable) return;\n",
              "\n",
              "          const docLinkHtml = 'Like what you see? Visit the ' +\n",
              "            '<a target=\"_blank\" href=https://colab.research.google.com/notebooks/data_table.ipynb>data table notebook</a>'\n",
              "            + ' to learn more about interactive tables.';\n",
              "          element.innerHTML = '';\n",
              "          dataTable['output_type'] = 'display_data';\n",
              "          await google.colab.output.renderOutput(dataTable, element);\n",
              "          const docLink = document.createElement('div');\n",
              "          docLink.innerHTML = docLinkHtml;\n",
              "          element.appendChild(docLink);\n",
              "        }\n",
              "      </script>\n",
              "    </div>\n",
              "  </div>\n",
              "  "
            ]
          },
          "metadata": {},
          "execution_count": 7
        }
      ],
      "source": [
        "df.head()"
      ]
    },
    {
      "cell_type": "code",
      "execution_count": 8,
      "id": "e393d64a",
      "metadata": {
        "colab": {
          "base_uri": "https://localhost:8080/",
          "height": 238
        },
        "id": "e393d64a",
        "outputId": "d4d8fb1c-bdc7-4f71-f1a7-dc408cf37215"
      },
      "outputs": [
        {
          "output_type": "execute_result",
          "data": {
            "text/plain": [
              "            active_power_consumed  meter_reading\n",
              "time_stamp                                      \n",
              "2010-11-22               1.417733       7.038889\n",
              "2010-11-23               1.095511       5.285417\n",
              "2010-11-24               1.247394       8.488889\n",
              "2010-11-25               0.993864       3.522222\n",
              "2010-11-26               1.178230       7.908947"
            ],
            "text/html": [
              "\n",
              "  <div id=\"df-6895c113-341a-4150-b509-52bb75448d72\">\n",
              "    <div class=\"colab-df-container\">\n",
              "      <div>\n",
              "<style scoped>\n",
              "    .dataframe tbody tr th:only-of-type {\n",
              "        vertical-align: middle;\n",
              "    }\n",
              "\n",
              "    .dataframe tbody tr th {\n",
              "        vertical-align: top;\n",
              "    }\n",
              "\n",
              "    .dataframe thead th {\n",
              "        text-align: right;\n",
              "    }\n",
              "</style>\n",
              "<table border=\"1\" class=\"dataframe\">\n",
              "  <thead>\n",
              "    <tr style=\"text-align: right;\">\n",
              "      <th></th>\n",
              "      <th>active_power_consumed</th>\n",
              "      <th>meter_reading</th>\n",
              "    </tr>\n",
              "    <tr>\n",
              "      <th>time_stamp</th>\n",
              "      <th></th>\n",
              "      <th></th>\n",
              "    </tr>\n",
              "  </thead>\n",
              "  <tbody>\n",
              "    <tr>\n",
              "      <th>2010-11-22</th>\n",
              "      <td>1.417733</td>\n",
              "      <td>7.038889</td>\n",
              "    </tr>\n",
              "    <tr>\n",
              "      <th>2010-11-23</th>\n",
              "      <td>1.095511</td>\n",
              "      <td>5.285417</td>\n",
              "    </tr>\n",
              "    <tr>\n",
              "      <th>2010-11-24</th>\n",
              "      <td>1.247394</td>\n",
              "      <td>8.488889</td>\n",
              "    </tr>\n",
              "    <tr>\n",
              "      <th>2010-11-25</th>\n",
              "      <td>0.993864</td>\n",
              "      <td>3.522222</td>\n",
              "    </tr>\n",
              "    <tr>\n",
              "      <th>2010-11-26</th>\n",
              "      <td>1.178230</td>\n",
              "      <td>7.908947</td>\n",
              "    </tr>\n",
              "  </tbody>\n",
              "</table>\n",
              "</div>\n",
              "      <button class=\"colab-df-convert\" onclick=\"convertToInteractive('df-6895c113-341a-4150-b509-52bb75448d72')\"\n",
              "              title=\"Convert this dataframe to an interactive table.\"\n",
              "              style=\"display:none;\">\n",
              "        \n",
              "  <svg xmlns=\"http://www.w3.org/2000/svg\" height=\"24px\"viewBox=\"0 0 24 24\"\n",
              "       width=\"24px\">\n",
              "    <path d=\"M0 0h24v24H0V0z\" fill=\"none\"/>\n",
              "    <path d=\"M18.56 5.44l.94 2.06.94-2.06 2.06-.94-2.06-.94-.94-2.06-.94 2.06-2.06.94zm-11 1L8.5 8.5l.94-2.06 2.06-.94-2.06-.94L8.5 2.5l-.94 2.06-2.06.94zm10 10l.94 2.06.94-2.06 2.06-.94-2.06-.94-.94-2.06-.94 2.06-2.06.94z\"/><path d=\"M17.41 7.96l-1.37-1.37c-.4-.4-.92-.59-1.43-.59-.52 0-1.04.2-1.43.59L10.3 9.45l-7.72 7.72c-.78.78-.78 2.05 0 2.83L4 21.41c.39.39.9.59 1.41.59.51 0 1.02-.2 1.41-.59l7.78-7.78 2.81-2.81c.8-.78.8-2.07 0-2.86zM5.41 20L4 18.59l7.72-7.72 1.47 1.35L5.41 20z\"/>\n",
              "  </svg>\n",
              "      </button>\n",
              "      \n",
              "  <style>\n",
              "    .colab-df-container {\n",
              "      display:flex;\n",
              "      flex-wrap:wrap;\n",
              "      gap: 12px;\n",
              "    }\n",
              "\n",
              "    .colab-df-convert {\n",
              "      background-color: #E8F0FE;\n",
              "      border: none;\n",
              "      border-radius: 50%;\n",
              "      cursor: pointer;\n",
              "      display: none;\n",
              "      fill: #1967D2;\n",
              "      height: 32px;\n",
              "      padding: 0 0 0 0;\n",
              "      width: 32px;\n",
              "    }\n",
              "\n",
              "    .colab-df-convert:hover {\n",
              "      background-color: #E2EBFA;\n",
              "      box-shadow: 0px 1px 2px rgba(60, 64, 67, 0.3), 0px 1px 3px 1px rgba(60, 64, 67, 0.15);\n",
              "      fill: #174EA6;\n",
              "    }\n",
              "\n",
              "    [theme=dark] .colab-df-convert {\n",
              "      background-color: #3B4455;\n",
              "      fill: #D2E3FC;\n",
              "    }\n",
              "\n",
              "    [theme=dark] .colab-df-convert:hover {\n",
              "      background-color: #434B5C;\n",
              "      box-shadow: 0px 1px 3px 1px rgba(0, 0, 0, 0.15);\n",
              "      filter: drop-shadow(0px 1px 2px rgba(0, 0, 0, 0.3));\n",
              "      fill: #FFFFFF;\n",
              "    }\n",
              "  </style>\n",
              "\n",
              "      <script>\n",
              "        const buttonEl =\n",
              "          document.querySelector('#df-6895c113-341a-4150-b509-52bb75448d72 button.colab-df-convert');\n",
              "        buttonEl.style.display =\n",
              "          google.colab.kernel.accessAllowed ? 'block' : 'none';\n",
              "\n",
              "        async function convertToInteractive(key) {\n",
              "          const element = document.querySelector('#df-6895c113-341a-4150-b509-52bb75448d72');\n",
              "          const dataTable =\n",
              "            await google.colab.kernel.invokeFunction('convertToInteractive',\n",
              "                                                     [key], {});\n",
              "          if (!dataTable) return;\n",
              "\n",
              "          const docLinkHtml = 'Like what you see? Visit the ' +\n",
              "            '<a target=\"_blank\" href=https://colab.research.google.com/notebooks/data_table.ipynb>data table notebook</a>'\n",
              "            + ' to learn more about interactive tables.';\n",
              "          element.innerHTML = '';\n",
              "          dataTable['output_type'] = 'display_data';\n",
              "          await google.colab.output.renderOutput(dataTable, element);\n",
              "          const docLink = document.createElement('div');\n",
              "          docLink.innerHTML = docLinkHtml;\n",
              "          element.appendChild(docLink);\n",
              "        }\n",
              "      </script>\n",
              "    </div>\n",
              "  </div>\n",
              "  "
            ]
          },
          "metadata": {},
          "execution_count": 8
        }
      ],
      "source": [
        "df.tail()"
      ]
    },
    {
      "cell_type": "code",
      "execution_count": 9,
      "id": "ef8212a0",
      "metadata": {
        "id": "ef8212a0"
      },
      "outputs": [],
      "source": [
        "df = df[['active_power_consumed']]"
      ]
    },
    {
      "cell_type": "code",
      "execution_count": 10,
      "id": "bb3a660d",
      "metadata": {
        "colab": {
          "base_uri": "https://localhost:8080/",
          "height": 455
        },
        "id": "bb3a660d",
        "outputId": "ff597e8a-0eef-441b-f151-be1218a17bf4"
      },
      "outputs": [
        {
          "output_type": "execute_result",
          "data": {
            "text/plain": [
              "            active_power_consumed\n",
              "time_stamp                       \n",
              "2009-01-01               0.976869\n",
              "2009-01-02               1.616326\n",
              "2009-01-03               1.328817\n",
              "2009-01-04               1.347218\n",
              "2009-01-05               1.113889\n",
              "...                           ...\n",
              "2010-11-22               1.417733\n",
              "2010-11-23               1.095511\n",
              "2010-11-24               1.247394\n",
              "2010-11-25               0.993864\n",
              "2010-11-26               1.178230\n",
              "\n",
              "[695 rows x 1 columns]"
            ],
            "text/html": [
              "\n",
              "  <div id=\"df-6d65db9c-f57a-47f2-aca0-6feb126e1046\">\n",
              "    <div class=\"colab-df-container\">\n",
              "      <div>\n",
              "<style scoped>\n",
              "    .dataframe tbody tr th:only-of-type {\n",
              "        vertical-align: middle;\n",
              "    }\n",
              "\n",
              "    .dataframe tbody tr th {\n",
              "        vertical-align: top;\n",
              "    }\n",
              "\n",
              "    .dataframe thead th {\n",
              "        text-align: right;\n",
              "    }\n",
              "</style>\n",
              "<table border=\"1\" class=\"dataframe\">\n",
              "  <thead>\n",
              "    <tr style=\"text-align: right;\">\n",
              "      <th></th>\n",
              "      <th>active_power_consumed</th>\n",
              "    </tr>\n",
              "    <tr>\n",
              "      <th>time_stamp</th>\n",
              "      <th></th>\n",
              "    </tr>\n",
              "  </thead>\n",
              "  <tbody>\n",
              "    <tr>\n",
              "      <th>2009-01-01</th>\n",
              "      <td>0.976869</td>\n",
              "    </tr>\n",
              "    <tr>\n",
              "      <th>2009-01-02</th>\n",
              "      <td>1.616326</td>\n",
              "    </tr>\n",
              "    <tr>\n",
              "      <th>2009-01-03</th>\n",
              "      <td>1.328817</td>\n",
              "    </tr>\n",
              "    <tr>\n",
              "      <th>2009-01-04</th>\n",
              "      <td>1.347218</td>\n",
              "    </tr>\n",
              "    <tr>\n",
              "      <th>2009-01-05</th>\n",
              "      <td>1.113889</td>\n",
              "    </tr>\n",
              "    <tr>\n",
              "      <th>...</th>\n",
              "      <td>...</td>\n",
              "    </tr>\n",
              "    <tr>\n",
              "      <th>2010-11-22</th>\n",
              "      <td>1.417733</td>\n",
              "    </tr>\n",
              "    <tr>\n",
              "      <th>2010-11-23</th>\n",
              "      <td>1.095511</td>\n",
              "    </tr>\n",
              "    <tr>\n",
              "      <th>2010-11-24</th>\n",
              "      <td>1.247394</td>\n",
              "    </tr>\n",
              "    <tr>\n",
              "      <th>2010-11-25</th>\n",
              "      <td>0.993864</td>\n",
              "    </tr>\n",
              "    <tr>\n",
              "      <th>2010-11-26</th>\n",
              "      <td>1.178230</td>\n",
              "    </tr>\n",
              "  </tbody>\n",
              "</table>\n",
              "<p>695 rows × 1 columns</p>\n",
              "</div>\n",
              "      <button class=\"colab-df-convert\" onclick=\"convertToInteractive('df-6d65db9c-f57a-47f2-aca0-6feb126e1046')\"\n",
              "              title=\"Convert this dataframe to an interactive table.\"\n",
              "              style=\"display:none;\">\n",
              "        \n",
              "  <svg xmlns=\"http://www.w3.org/2000/svg\" height=\"24px\"viewBox=\"0 0 24 24\"\n",
              "       width=\"24px\">\n",
              "    <path d=\"M0 0h24v24H0V0z\" fill=\"none\"/>\n",
              "    <path d=\"M18.56 5.44l.94 2.06.94-2.06 2.06-.94-2.06-.94-.94-2.06-.94 2.06-2.06.94zm-11 1L8.5 8.5l.94-2.06 2.06-.94-2.06-.94L8.5 2.5l-.94 2.06-2.06.94zm10 10l.94 2.06.94-2.06 2.06-.94-2.06-.94-.94-2.06-.94 2.06-2.06.94z\"/><path d=\"M17.41 7.96l-1.37-1.37c-.4-.4-.92-.59-1.43-.59-.52 0-1.04.2-1.43.59L10.3 9.45l-7.72 7.72c-.78.78-.78 2.05 0 2.83L4 21.41c.39.39.9.59 1.41.59.51 0 1.02-.2 1.41-.59l7.78-7.78 2.81-2.81c.8-.78.8-2.07 0-2.86zM5.41 20L4 18.59l7.72-7.72 1.47 1.35L5.41 20z\"/>\n",
              "  </svg>\n",
              "      </button>\n",
              "      \n",
              "  <style>\n",
              "    .colab-df-container {\n",
              "      display:flex;\n",
              "      flex-wrap:wrap;\n",
              "      gap: 12px;\n",
              "    }\n",
              "\n",
              "    .colab-df-convert {\n",
              "      background-color: #E8F0FE;\n",
              "      border: none;\n",
              "      border-radius: 50%;\n",
              "      cursor: pointer;\n",
              "      display: none;\n",
              "      fill: #1967D2;\n",
              "      height: 32px;\n",
              "      padding: 0 0 0 0;\n",
              "      width: 32px;\n",
              "    }\n",
              "\n",
              "    .colab-df-convert:hover {\n",
              "      background-color: #E2EBFA;\n",
              "      box-shadow: 0px 1px 2px rgba(60, 64, 67, 0.3), 0px 1px 3px 1px rgba(60, 64, 67, 0.15);\n",
              "      fill: #174EA6;\n",
              "    }\n",
              "\n",
              "    [theme=dark] .colab-df-convert {\n",
              "      background-color: #3B4455;\n",
              "      fill: #D2E3FC;\n",
              "    }\n",
              "\n",
              "    [theme=dark] .colab-df-convert:hover {\n",
              "      background-color: #434B5C;\n",
              "      box-shadow: 0px 1px 3px 1px rgba(0, 0, 0, 0.15);\n",
              "      filter: drop-shadow(0px 1px 2px rgba(0, 0, 0, 0.3));\n",
              "      fill: #FFFFFF;\n",
              "    }\n",
              "  </style>\n",
              "\n",
              "      <script>\n",
              "        const buttonEl =\n",
              "          document.querySelector('#df-6d65db9c-f57a-47f2-aca0-6feb126e1046 button.colab-df-convert');\n",
              "        buttonEl.style.display =\n",
              "          google.colab.kernel.accessAllowed ? 'block' : 'none';\n",
              "\n",
              "        async function convertToInteractive(key) {\n",
              "          const element = document.querySelector('#df-6d65db9c-f57a-47f2-aca0-6feb126e1046');\n",
              "          const dataTable =\n",
              "            await google.colab.kernel.invokeFunction('convertToInteractive',\n",
              "                                                     [key], {});\n",
              "          if (!dataTable) return;\n",
              "\n",
              "          const docLinkHtml = 'Like what you see? Visit the ' +\n",
              "            '<a target=\"_blank\" href=https://colab.research.google.com/notebooks/data_table.ipynb>data table notebook</a>'\n",
              "            + ' to learn more about interactive tables.';\n",
              "          element.innerHTML = '';\n",
              "          dataTable['output_type'] = 'display_data';\n",
              "          await google.colab.output.renderOutput(dataTable, element);\n",
              "          const docLink = document.createElement('div');\n",
              "          docLink.innerHTML = docLinkHtml;\n",
              "          element.appendChild(docLink);\n",
              "        }\n",
              "      </script>\n",
              "    </div>\n",
              "  </div>\n",
              "  "
            ]
          },
          "metadata": {},
          "execution_count": 10
        }
      ],
      "source": [
        "df"
      ]
    },
    {
      "cell_type": "code",
      "execution_count": 11,
      "id": "bQk15MFgouDq",
      "metadata": {
        "id": "bQk15MFgouDq"
      },
      "outputs": [],
      "source": [
        "plt.rcParams['figure.figsize'] = [15,8]"
      ]
    },
    {
      "cell_type": "code",
      "execution_count": 12,
      "id": "3b098ae2",
      "metadata": {
        "colab": {
          "base_uri": "https://localhost:8080/",
          "height": 523
        },
        "id": "3b098ae2",
        "outputId": "eefe5e6e-acf5-481b-ebeb-4c272b3f9111"
      },
      "outputs": [
        {
          "output_type": "display_data",
          "data": {
            "text/plain": [
              "<Figure size 1080x576 with 1 Axes>"
            ],
            "image/png": "[encoded data removed]"
          },
          "metadata": {
            "needs_background": "light"
          }
        }
      ],
      "source": [
        "plt.plot(df,color='blue')\n",
        "plt.title('Daily Electricity Consumption',fontsize=20)\n",
        "plt.xlabel('Date',fontsize=15)\n",
        "plt.ylabel('Units',fontsize=15)\n",
        "plt.show()"
      ]
    },
    {
      "cell_type": "code",
      "execution_count": 13,
      "id": "bf59d3e0",
      "metadata": {
        "id": "bf59d3e0"
      },
      "outputs": [],
      "source": [
        "def convert2matrix(data_arr, look_back):\n",
        "    X, Y =[], []\n",
        "    for i in range(len(data_arr)-look_back):\n",
        "        d=i+look_back  \n",
        "        X.append(data_arr[i:d,0])\n",
        "        Y.append(data_arr[d,0])\n",
        "    return np.array(X), np.array(Y)"
      ]
    },
    {
      "cell_type": "code",
      "execution_count": 14,
      "id": "1cea6c5f",
      "metadata": {
        "id": "1cea6c5f"
      },
      "outputs": [],
      "source": [
        "train_size = 618\n",
        "train, test = df.values[0:train_size,:], df.values[train_size:len(df.values),:]\n",
        "look_back = 7\n",
        "trainX, trainY = convert2matrix(train, look_back)\n",
        "testX, testY = convert2matrix(test, look_back)\n",
        "# reshape input to be [samples, time steps, features]\n",
        "trainX = np.reshape(trainX, (trainX.shape[0], 1, trainX.shape[1]))\n",
        "testX = np.reshape(testX, (testX.shape[0], 1, testX.shape[1]))"
      ]
    },
    {
      "cell_type": "code",
      "execution_count": 15,
      "id": "c7d46c39",
      "metadata": {
        "colab": {
          "base_uri": "https://localhost:8080/"
        },
        "id": "c7d46c39",
        "outputId": "4e76f9b5-e305-4429-df97-4c1b86c24569"
      },
      "outputs": [
        {
          "output_type": "stream",
          "name": "stdout",
          "text": [
            "(611, 1, 7)\n",
            "(611,)\n",
            "(70, 1, 7)\n",
            "(70,)\n"
          ]
        }
      ],
      "source": [
        "print(trainX.shape)\n",
        "print(trainY.shape)\n",
        "print(testX.shape)\n",
        "print(testY.shape)"
      ]
    },
    {
      "cell_type": "code",
      "execution_count": 16,
      "id": "GIc1nRcCuP3G",
      "metadata": {
        "colab": {
          "base_uri": "https://localhost:8080/"
        },
        "id": "GIc1nRcCuP3G",
        "outputId": "b4b1d8b2-55c5-451a-ebb4-bbbd0e30ff76"
      },
      "outputs": [
        {
          "output_type": "stream",
          "name": "stdout",
          "text": [
            "\u001b[?25l\r\u001b[K     |██▌                             | 10 kB 33.2 MB/s eta 0:00:01\r\u001b[K     |█████                           | 20 kB 33.6 MB/s eta 0:00:01\r\u001b[K     |███████▍                        | 30 kB 39.7 MB/s eta 0:00:01\r\u001b[K     |█████████▉                      | 40 kB 28.5 MB/s eta 0:00:01\r\u001b[K     |████████████▎                   | 51 kB 22.0 MB/s eta 0:00:01\r\u001b[K     |██████████████▊                 | 61 kB 25.0 MB/s eta 0:00:01\r\u001b[K     |█████████████████▏              | 71 kB 24.0 MB/s eta 0:00:01\r\u001b[K     |███████████████████▋            | 81 kB 25.7 MB/s eta 0:00:01\r\u001b[K     |██████████████████████          | 92 kB 27.3 MB/s eta 0:00:01\r\u001b[K     |████████████████████████▌       | 102 kB 25.7 MB/s eta 0:00:01\r\u001b[K     |███████████████████████████     | 112 kB 25.7 MB/s eta 0:00:01\r\u001b[K     |█████████████████████████████▍  | 122 kB 25.7 MB/s eta 0:00:01\r\u001b[K     |███████████████████████████████▉| 133 kB 25.7 MB/s eta 0:00:01\r\u001b[K     |████████████████████████████████| 133 kB 25.7 MB/s \n",
            "\u001b[?25h"
          ]
        }
      ],
      "source": [
        "!pip install -q -U keras-tuner"
      ]
    },
    {
      "cell_type": "code",
      "execution_count": 17,
      "id": "M5te5ih0uP6u",
      "metadata": {
        "id": "M5te5ih0uP6u"
      },
      "outputs": [],
      "source": [
        "import pandas as pd\n",
        "from tensorflow import keras\n",
        "from tensorflow.keras import layers\n",
        "from keras_tuner.tuners import RandomSearch\n",
        "from tensorflow.keras.models import Sequential\n",
        "from tensorflow.keras.layers import LSTM\n",
        "from tensorflow.keras.layers import Dense,Dropout\n",
        "from tensorflow.keras.layers import Flatten\n",
        "import matplotlib.pyplot as plt"
      ]
    },
    {
      "cell_type": "code",
      "execution_count": null,
      "id": "rYiJC5hXuP_e",
      "metadata": {
        "id": "rYiJC5hXuP_e"
      },
      "outputs": [],
      "source": [
        "def build_model(hp):\n",
        "    model = keras.Sequential()\n",
        "    model.add(LSTM(hp.Int('first_lstm_layer',min_value=8,max_value=128,step=8), activation=\"relu\",return_sequences=True, input_shape=(1,look_back),recurrent_dropout = hp.Choice(\"first_recurrent_dropout\",[0.2,0.4,0.6],default=0.4)))\n",
        "    model.add(LSTM(hp.Int('final_lstm_layer',min_value=8,max_value=128,step=8),activation=\"relu\",recurrent_dropout = hp.Choice(\"last_recurrent_dropout\",[0.2,0.4,0.6],default=0.4) ))\n",
        "    model.add(Dense(hp.Int('dense_layer_1',min_value=8,max_value=128,step=8),activation=\"relu\"))\n",
        "    model.add(Dropout(hp.Float('Dropout_rate',min_value=0,max_value=0.5,step=0.1)))\n",
        "    model.add(layers.Dense(1, activation='linear'))\n",
        "    model.compile(\n",
        "        optimizer=keras.optimizers.Adam(\n",
        "             hp.Float('learning_rate', min_value=1e-4, max_value=1e-1, sampling=\"log\")),\n",
        "        loss='mape',\n",
        "        metrics=['mape'])\n",
        "    return model"
      ]
    },
    {
      "cell_type": "code",
      "execution_count": null,
      "id": "2h_gRerjuQCT",
      "metadata": {
        "id": "2h_gRerjuQCT"
      },
      "outputs": [],
      "source": [
        "tuner = RandomSearch(\n",
        "    build_model,\n",
        "    objective='val_mape',\n",
        "    max_trials=20,\n",
        "    executions_per_trial=2,\n",
        "    directory='project',\n",
        "    project_name='elec_consum_2')"
      ]
    },
    {
      "cell_type": "code",
      "execution_count": null,
      "id": "Dg5AHN3guQFu",
      "metadata": {
        "colab": {
          "base_uri": "https://localhost:8080/"
        },
        "id": "Dg5AHN3guQFu",
        "outputId": "d5aa153a-603e-4ab0-8184-dbf47f42a8ed"
      },
      "outputs": [
        {
          "name": "stdout",
          "output_type": "stream",
          "text": [
            "Search space summary\n",
            "Default search space size: 7\n",
            "first_lstm_layer (Int)\n",
            "{'default': None, 'conditions': [], 'min_value': 8, 'max_value': 128, 'step': 8, 'sampling': None}\n",
            "first_recurrent_dropout (Choice)\n",
            "{'default': 0.4, 'conditions': [], 'values': [0.2, 0.4, 0.6], 'ordered': True}\n",
            "final_lstm_layer (Int)\n",
            "{'default': None, 'conditions': [], 'min_value': 8, 'max_value': 128, 'step': 8, 'sampling': None}\n",
            "last_recurrent_dropout (Choice)\n",
            "{'default': 0.4, 'conditions': [], 'values': [0.2, 0.4, 0.6], 'ordered': True}\n",
            "dense_layer_1 (Int)\n",
            "{'default': None, 'conditions': [], 'min_value': 8, 'max_value': 128, 'step': 8, 'sampling': None}\n",
            "Dropout_rate (Float)\n",
            "{'default': 0.0, 'conditions': [], 'min_value': 0.0, 'max_value': 0.5, 'step': 0.1, 'sampling': None}\n",
            "learning_rate (Float)\n",
            "{'default': 0.0001, 'conditions': [], 'min_value': 0.0001, 'max_value': 0.1, 'step': None, 'sampling': 'log'}\n"
          ]
        }
      ],
      "source": [
        "tuner.search_space_summary()"
      ]
    },
    {
      "cell_type": "code",
      "execution_count": null,
      "id": "TiBXdF0K8Gpr",
      "metadata": {
        "colab": {
          "base_uri": "https://localhost:8080/"
        },
        "id": "TiBXdF0K8Gpr",
        "outputId": "f80d863e-a516-4f96-85d3-99aeac1cd045"
      },
      "outputs": [
        {
          "name": "stdout",
          "output_type": "stream",
          "text": [
            "Trial 20 Complete [00h 01m 24s]\n",
            "val_mape: 22.294156074523926\n",
            "\n",
            "Best val_mape So Far: 21.323491096496582\n",
            "Total elapsed time: 00h 29m 30s\n",
            "INFO:tensorflow:Oracle triggered exit\n"
          ]
        }
      ],
      "source": [
        "tuner.search(trainX, trainY,\n",
        "             epochs=200,\n",
        "             batch_size=33,\n",
        "             validation_data=(testX, testY))"
      ]
    },
    {
      "cell_type": "code",
      "execution_count": null,
      "id": "VXXGH_RK8GsD",
      "metadata": {
        "colab": {
          "base_uri": "https://localhost:8080/"
        },
        "id": "VXXGH_RK8GsD",
        "outputId": "621fee93-ea5c-4a8b-91d6-d7493f5f9459"
      },
      "outputs": [
        {
          "name": "stdout",
          "output_type": "stream",
          "text": [
            "Results summary\n",
            "Results in project/elec_consum_2\n",
            "Showing 10 best trials\n",
            "Objective(name='val_mape', direction='min')\n",
            "Trial summary\n",
            "Hyperparameters:\n",
            "first_lstm_layer: 104\n",
            "first_recurrent_dropout: 0.2\n",
            "final_lstm_layer: 64\n",
            "last_recurrent_dropout: 0.6\n",
            "dense_layer_1: 72\n",
            "Dropout_rate: 0.0\n",
            "learning_rate: 0.08638087527161876\n",
            "Score: 21.323491096496582\n",
            "Trial summary\n",
            "Hyperparameters:\n",
            "first_lstm_layer: 56\n",
            "first_recurrent_dropout: 0.6\n",
            "final_lstm_layer: 104\n",
            "last_recurrent_dropout: 0.6\n",
            "dense_layer_1: 64\n",
            "Dropout_rate: 0.0\n",
            "learning_rate: 0.0028949965422272014\n",
            "Score: 21.490805625915527\n",
            "Trial summary\n",
            "Hyperparameters:\n",
            "first_lstm_layer: 72\n",
            "first_recurrent_dropout: 0.4\n",
            "final_lstm_layer: 88\n",
            "last_recurrent_dropout: 0.4\n",
            "dense_layer_1: 32\n",
            "Dropout_rate: 0.5\n",
            "learning_rate: 0.007926026926027377\n",
            "Score: 21.504353523254395\n",
            "Trial summary\n",
            "Hyperparameters:\n",
            "first_lstm_layer: 120\n",
            "first_recurrent_dropout: 0.2\n",
            "final_lstm_layer: 112\n",
            "last_recurrent_dropout: 0.6\n",
            "dense_layer_1: 72\n",
            "Dropout_rate: 0.4\n",
            "learning_rate: 0.05751237333063313\n",
            "Score: 21.66158103942871\n",
            "Trial summary\n",
            "Hyperparameters:\n",
            "first_lstm_layer: 80\n",
            "first_recurrent_dropout: 0.4\n",
            "final_lstm_layer: 40\n",
            "last_recurrent_dropout: 0.2\n",
            "dense_layer_1: 8\n",
            "Dropout_rate: 0.30000000000000004\n",
            "learning_rate: 0.0060807326519234295\n",
            "Score: 21.685349464416504\n",
            "Trial summary\n",
            "Hyperparameters:\n",
            "first_lstm_layer: 48\n",
            "first_recurrent_dropout: 0.2\n",
            "final_lstm_layer: 64\n",
            "last_recurrent_dropout: 0.6\n",
            "dense_layer_1: 40\n",
            "Dropout_rate: 0.5\n",
            "learning_rate: 0.004091219734485813\n",
            "Score: 21.693747520446777\n",
            "Trial summary\n",
            "Hyperparameters:\n",
            "first_lstm_layer: 56\n",
            "first_recurrent_dropout: 0.4\n",
            "final_lstm_layer: 56\n",
            "last_recurrent_dropout: 0.4\n",
            "dense_layer_1: 112\n",
            "Dropout_rate: 0.1\n",
            "learning_rate: 0.0010544366172657324\n",
            "Score: 21.71298885345459\n",
            "Trial summary\n",
            "Hyperparameters:\n",
            "first_lstm_layer: 88\n",
            "first_recurrent_dropout: 0.6\n",
            "final_lstm_layer: 120\n",
            "last_recurrent_dropout: 0.6\n",
            "dense_layer_1: 56\n",
            "Dropout_rate: 0.1\n",
            "learning_rate: 0.00043744235395841636\n",
            "Score: 21.717010498046875\n",
            "Trial summary\n",
            "Hyperparameters:\n",
            "first_lstm_layer: 64\n",
            "first_recurrent_dropout: 0.6\n",
            "final_lstm_layer: 72\n",
            "last_recurrent_dropout: 0.6\n",
            "dense_layer_1: 24\n",
            "Dropout_rate: 0.4\n",
            "learning_rate: 0.0047150153995394895\n",
            "Score: 21.72630023956299\n",
            "Trial summary\n",
            "Hyperparameters:\n",
            "first_lstm_layer: 56\n",
            "first_recurrent_dropout: 0.4\n",
            "final_lstm_layer: 56\n",
            "last_recurrent_dropout: 0.4\n",
            "dense_layer_1: 64\n",
            "Dropout_rate: 0.2\n",
            "learning_rate: 0.09937327304817845\n",
            "Score: 21.748591423034668\n"
          ]
        }
      ],
      "source": [
        "tuner.results_summary()"
      ]
    },
    {
      "cell_type": "code",
      "execution_count": null,
      "id": "FBpLenJ_DZMX",
      "metadata": {
        "id": "FBpLenJ_DZMX"
      },
      "outputs": [],
      "source": [
        "from warnings import filterwarnings\n",
        "filterwarnings('ignore')"
      ]
    },
    {
      "cell_type": "code",
      "execution_count": null,
      "id": "eL-a8rAv8Gvg",
      "metadata": {
        "colab": {
          "base_uri": "https://localhost:8080/"
        },
        "id": "eL-a8rAv8Gvg",
        "outputId": "bf79b32b-9450-48bc-80cb-402b23638944"
      },
      "outputs": [
        {
          "name": "stdout",
          "output_type": "stream",
          "text": [
            "Model: \"sequential\"\n",
            "_________________________________________________________________\n",
            " Layer (type)                Output Shape              Param #   \n",
            "=================================================================\n",
            " lstm (LSTM)                 (None, 1, 104)            47840     \n",
            "                                                                 \n",
            " lstm_1 (LSTM)               (None, 64)                43264     \n",
            "                                                                 \n",
            " dense (Dense)               (None, 72)                4680      \n",
            "                                                                 \n",
            " dropout (Dropout)           (None, 72)                0         \n",
            "                                                                 \n",
            " dense_1 (Dense)             (None, 1)                 73        \n",
            "                                                                 \n",
            "=================================================================\n",
            "Total params: 95,857\n",
            "Trainable params: 95,857\n",
            "Non-trainable params: 0\n",
            "_________________________________________________________________\n",
            "WARNING:tensorflow:Unresolved object in checkpoint: (root).optimizer.iter\n",
            "WARNING:tensorflow:Unresolved object in checkpoint: (root).optimizer.beta_1\n",
            "WARNING:tensorflow:Unresolved object in checkpoint: (root).optimizer.beta_2\n",
            "WARNING:tensorflow:Unresolved object in checkpoint: (root).optimizer.decay\n",
            "WARNING:tensorflow:Unresolved object in checkpoint: (root).optimizer.learning_rate\n",
            "WARNING:tensorflow:A checkpoint was restored (e.g. tf.train.Checkpoint.restore or tf.keras.Model.load_weights) but not all checkpointed values were used. See above for specific issues. Use expect_partial() on the load status object, e.g. tf.train.Checkpoint.restore(...).expect_partial(), to silence these warnings, or use assert_consumed() to make the check explicit. See https://www.tensorflow.org/guide/checkpoint#loading_mechanics for details.\n",
            "WARNING:tensorflow:Unresolved object in checkpoint: (root).optimizer.iter\n",
            "WARNING:tensorflow:Unresolved object in checkpoint: (root).optimizer.beta_1\n",
            "WARNING:tensorflow:Unresolved object in checkpoint: (root).optimizer.beta_2\n",
            "WARNING:tensorflow:Unresolved object in checkpoint: (root).optimizer.decay\n",
            "WARNING:tensorflow:Unresolved object in checkpoint: (root).optimizer.learning_rate\n",
            "WARNING:tensorflow:A checkpoint was restored (e.g. tf.train.Checkpoint.restore or tf.keras.Model.load_weights) but not all checkpointed values were used. See above for specific issues. Use expect_partial() on the load status object, e.g. tf.train.Checkpoint.restore(...).expect_partial(), to silence these warnings, or use assert_consumed() to make the check explicit. See https://www.tensorflow.org/guide/checkpoint#loading_mechanics for details.\n"
          ]
        }
      ],
      "source": [
        "models = tuner.get_best_models(num_models=2)\n",
        "best_model = models[0]\n",
        "# Build the model.\n",
        "# Needed for `Sequential` without specified `input_shape`.\n",
        "best_model.build(input_shape=(None, 10))\n",
        "best_model.summary()"
      ]
    },
    {
      "cell_type": "code",
      "execution_count": 19,
      "id": "ovKDjDHZEmLV",
      "metadata": {
        "id": "ovKDjDHZEmLV"
      },
      "outputs": [],
      "source": [
        "from tensorflow.keras import optimizers\n",
        "from tensorflow.keras.layers import Bidirectional, BatchNormalization, LeakyReLU"
      ]
    },
    {
      "cell_type": "code",
      "execution_count": 28,
      "id": "0e187ddc",
      "metadata": {
        "colab": {
          "base_uri": "https://localhost:8080/"
        },
        "id": "0e187ddc",
        "outputId": "5d307092-b648-4c52-d7b1-7e94a33ead42"
      },
      "outputs": [
        {
          "output_type": "stream",
          "name": "stdout",
          "text": [
            "Epoch 1/200\n",
            "19/19 [==============================] - 2s 17ms/step - loss: 76.0633 - mape: 76.0633 - val_loss: 61.8600 - val_mape: 61.8600\n",
            "Epoch 2/200\n",
            "19/19 [==============================] - 0s 3ms/step - loss: 45.5604 - mape: 45.5604 - val_loss: 29.9610 - val_mape: 29.9610\n",
            "Epoch 3/200\n",
            "19/19 [==============================] - 0s 3ms/step - loss: 21.5018 - mape: 21.5018 - val_loss: 22.0629 - val_mape: 22.0629\n",
            "Epoch 4/200\n",
            "19/19 [==============================] - 0s 3ms/step - loss: 20.1773 - mape: 20.1773 - val_loss: 20.5235 - val_mape: 20.5235\n",
            "Epoch 5/200\n",
            "19/19 [==============================] - 0s 3ms/step - loss: 19.6212 - mape: 19.6212 - val_loss: 20.2208 - val_mape: 20.2208\n",
            "Epoch 6/200\n",
            "19/19 [==============================] - 0s 3ms/step - loss: 19.4478 - mape: 19.4478 - val_loss: 20.1916 - val_mape: 20.1916\n",
            "Epoch 7/200\n",
            "19/19 [==============================] - 0s 3ms/step - loss: 19.2382 - mape: 19.2382 - val_loss: 20.1352 - val_mape: 20.1352\n",
            "Epoch 8/200\n",
            "19/19 [==============================] - 0s 3ms/step - loss: 19.2002 - mape: 19.2002 - val_loss: 20.0130 - val_mape: 20.0130\n",
            "Epoch 9/200\n",
            "19/19 [==============================] - 0s 3ms/step - loss: 19.1307 - mape: 19.1307 - val_loss: 19.9932 - val_mape: 19.9932\n",
            "Epoch 10/200\n",
            "19/19 [==============================] - 0s 3ms/step - loss: 19.0768 - mape: 19.0768 - val_loss: 19.9066 - val_mape: 19.9066\n",
            "Epoch 11/200\n",
            "19/19 [==============================] - 0s 3ms/step - loss: 18.9651 - mape: 18.9651 - val_loss: 19.9766 - val_mape: 19.9766\n",
            "Epoch 12/200\n",
            "19/19 [==============================] - 0s 3ms/step - loss: 18.9430 - mape: 18.9430 - val_loss: 19.8170 - val_mape: 19.8170\n",
            "Epoch 13/200\n",
            "19/19 [==============================] - 0s 3ms/step - loss: 18.8571 - mape: 18.8571 - val_loss: 19.8158 - val_mape: 19.8158\n",
            "Epoch 14/200\n",
            "19/19 [==============================] - 0s 3ms/step - loss: 18.8060 - mape: 18.8060 - val_loss: 19.8448 - val_mape: 19.8448\n",
            "Epoch 15/200\n",
            "19/19 [==============================] - 0s 3ms/step - loss: 18.7638 - mape: 18.7638 - val_loss: 19.7660 - val_mape: 19.7660\n",
            "Epoch 16/200\n",
            "19/19 [==============================] - 0s 4ms/step - loss: 18.6874 - mape: 18.6874 - val_loss: 19.7394 - val_mape: 19.7394\n",
            "Epoch 17/200\n",
            "19/19 [==============================] - 0s 3ms/step - loss: 18.6325 - mape: 18.6325 - val_loss: 19.7331 - val_mape: 19.7331\n",
            "Epoch 18/200\n",
            "19/19 [==============================] - 0s 3ms/step - loss: 18.5687 - mape: 18.5687 - val_loss: 19.7980 - val_mape: 19.7980\n",
            "Epoch 19/200\n",
            "19/19 [==============================] - 0s 3ms/step - loss: 18.5598 - mape: 18.5598 - val_loss: 19.6576 - val_mape: 19.6576\n",
            "Epoch 20/200\n",
            "19/19 [==============================] - 0s 3ms/step - loss: 18.6523 - mape: 18.6523 - val_loss: 19.8374 - val_mape: 19.8374\n",
            "Epoch 21/200\n",
            "19/19 [==============================] - 0s 3ms/step - loss: 18.5327 - mape: 18.5327 - val_loss: 19.9818 - val_mape: 19.9818\n",
            "Epoch 22/200\n",
            "19/19 [==============================] - 0s 4ms/step - loss: 18.4808 - mape: 18.4808 - val_loss: 19.7716 - val_mape: 19.7716\n",
            "Epoch 23/200\n",
            "19/19 [==============================] - 0s 3ms/step - loss: 18.4596 - mape: 18.4596 - val_loss: 20.1648 - val_mape: 20.1648\n",
            "Epoch 24/200\n",
            "19/19 [==============================] - 0s 3ms/step - loss: 18.4398 - mape: 18.4398 - val_loss: 19.7127 - val_mape: 19.7127\n",
            "Epoch 25/200\n",
            "19/19 [==============================] - 0s 3ms/step - loss: 18.3319 - mape: 18.3319 - val_loss: 19.7746 - val_mape: 19.7746\n",
            "Epoch 26/200\n",
            "19/19 [==============================] - 0s 3ms/step - loss: 18.2656 - mape: 18.2656 - val_loss: 19.8369 - val_mape: 19.8369\n",
            "Epoch 27/200\n",
            "19/19 [==============================] - 0s 3ms/step - loss: 18.2284 - mape: 18.2284 - val_loss: 19.8331 - val_mape: 19.8331\n",
            "Epoch 28/200\n",
            "19/19 [==============================] - 0s 3ms/step - loss: 18.1797 - mape: 18.1797 - val_loss: 19.9183 - val_mape: 19.9183\n",
            "Epoch 29/200\n",
            "19/19 [==============================] - 0s 3ms/step - loss: 18.1480 - mape: 18.1480 - val_loss: 19.8266 - val_mape: 19.8266\n",
            "Epoch 30/200\n",
            "19/19 [==============================] - 0s 3ms/step - loss: 18.1501 - mape: 18.1501 - val_loss: 19.7971 - val_mape: 19.7971\n",
            "Epoch 31/200\n",
            "19/19 [==============================] - 0s 3ms/step - loss: 18.0961 - mape: 18.0961 - val_loss: 19.8800 - val_mape: 19.8800\n",
            "Epoch 32/200\n",
            "19/19 [==============================] - 0s 3ms/step - loss: 18.1398 - mape: 18.1398 - val_loss: 19.7891 - val_mape: 19.7891\n",
            "Epoch 33/200\n",
            "19/19 [==============================] - 0s 3ms/step - loss: 18.1258 - mape: 18.1258 - val_loss: 19.9384 - val_mape: 19.9384\n",
            "Epoch 34/200\n",
            "19/19 [==============================] - 0s 3ms/step - loss: 18.0395 - mape: 18.0395 - val_loss: 20.0903 - val_mape: 20.0903\n",
            "Epoch 35/200\n",
            "19/19 [==============================] - 0s 3ms/step - loss: 18.2111 - mape: 18.2111 - val_loss: 20.1459 - val_mape: 20.1459\n",
            "Epoch 36/200\n",
            "19/19 [==============================] - 0s 3ms/step - loss: 18.2350 - mape: 18.2350 - val_loss: 19.8784 - val_mape: 19.8784\n",
            "Epoch 37/200\n",
            "19/19 [==============================] - 0s 3ms/step - loss: 17.9655 - mape: 17.9655 - val_loss: 20.0021 - val_mape: 20.0021\n",
            "Epoch 38/200\n",
            "19/19 [==============================] - 0s 3ms/step - loss: 18.0121 - mape: 18.0121 - val_loss: 20.0705 - val_mape: 20.0705\n",
            "Epoch 39/200\n",
            "19/19 [==============================] - 0s 3ms/step - loss: 17.9797 - mape: 17.9797 - val_loss: 19.9086 - val_mape: 19.9086\n",
            "Epoch 40/200\n",
            "19/19 [==============================] - 0s 3ms/step - loss: 17.8938 - mape: 17.8938 - val_loss: 20.4148 - val_mape: 20.4148\n",
            "Epoch 41/200\n",
            "19/19 [==============================] - 0s 3ms/step - loss: 18.0828 - mape: 18.0828 - val_loss: 20.1022 - val_mape: 20.1022\n",
            "Epoch 42/200\n",
            "19/19 [==============================] - 0s 3ms/step - loss: 18.1011 - mape: 18.1011 - val_loss: 20.0932 - val_mape: 20.0932\n",
            "Epoch 43/200\n",
            "19/19 [==============================] - 0s 3ms/step - loss: 17.9348 - mape: 17.9348 - val_loss: 20.5691 - val_mape: 20.5691\n",
            "Epoch 44/200\n",
            "19/19 [==============================] - 0s 3ms/step - loss: 18.0305 - mape: 18.0305 - val_loss: 20.1707 - val_mape: 20.1707\n",
            "Epoch 45/200\n",
            "19/19 [==============================] - 0s 3ms/step - loss: 17.9372 - mape: 17.9372 - val_loss: 20.1323 - val_mape: 20.1323\n",
            "Epoch 46/200\n",
            "19/19 [==============================] - 0s 3ms/step - loss: 17.8571 - mape: 17.8571 - val_loss: 20.2974 - val_mape: 20.2974\n",
            "Epoch 47/200\n",
            "19/19 [==============================] - 0s 3ms/step - loss: 17.8907 - mape: 17.8907 - val_loss: 20.1618 - val_mape: 20.1618\n",
            "Epoch 48/200\n",
            "19/19 [==============================] - 0s 3ms/step - loss: 17.8493 - mape: 17.8493 - val_loss: 20.2088 - val_mape: 20.2088\n",
            "Epoch 49/200\n",
            "19/19 [==============================] - 0s 3ms/step - loss: 17.8228 - mape: 17.8228 - val_loss: 20.2807 - val_mape: 20.2808\n",
            "Epoch 50/200\n",
            "19/19 [==============================] - 0s 3ms/step - loss: 17.8122 - mape: 17.8122 - val_loss: 20.2630 - val_mape: 20.2630\n",
            "Epoch 51/200\n",
            "19/19 [==============================] - 0s 3ms/step - loss: 17.8436 - mape: 17.8436 - val_loss: 20.4255 - val_mape: 20.4255\n",
            "Epoch 52/200\n",
            "19/19 [==============================] - 0s 3ms/step - loss: 17.8488 - mape: 17.8488 - val_loss: 20.5273 - val_mape: 20.5273\n",
            "Epoch 53/200\n",
            "19/19 [==============================] - 0s 3ms/step - loss: 17.8226 - mape: 17.8226 - val_loss: 20.3474 - val_mape: 20.3474\n",
            "Epoch 54/200\n",
            "19/19 [==============================] - 0s 3ms/step - loss: 17.8232 - mape: 17.8232 - val_loss: 20.3663 - val_mape: 20.3663\n",
            "Epoch 55/200\n",
            "19/19 [==============================] - 0s 3ms/step - loss: 17.7571 - mape: 17.7571 - val_loss: 20.4031 - val_mape: 20.4031\n",
            "Epoch 56/200\n",
            "19/19 [==============================] - 0s 3ms/step - loss: 17.8093 - mape: 17.8093 - val_loss: 20.3809 - val_mape: 20.3809\n",
            "Epoch 57/200\n",
            "19/19 [==============================] - 0s 3ms/step - loss: 17.8132 - mape: 17.8132 - val_loss: 20.4004 - val_mape: 20.4004\n",
            "Epoch 58/200\n",
            "19/19 [==============================] - 0s 3ms/step - loss: 17.7323 - mape: 17.7323 - val_loss: 20.4256 - val_mape: 20.4256\n",
            "Epoch 59/200\n",
            "19/19 [==============================] - 0s 3ms/step - loss: 17.7990 - mape: 17.7990 - val_loss: 20.4387 - val_mape: 20.4387\n",
            "Epoch 60/200\n",
            "19/19 [==============================] - 0s 3ms/step - loss: 17.7280 - mape: 17.7280 - val_loss: 20.5214 - val_mape: 20.5214\n",
            "Epoch 61/200\n",
            "19/19 [==============================] - 0s 3ms/step - loss: 17.7742 - mape: 17.7742 - val_loss: 20.4699 - val_mape: 20.4699\n",
            "Epoch 62/200\n",
            "19/19 [==============================] - 0s 3ms/step - loss: 17.7568 - mape: 17.7568 - val_loss: 20.5073 - val_mape: 20.5073\n",
            "Epoch 63/200\n",
            "19/19 [==============================] - 0s 3ms/step - loss: 17.6776 - mape: 17.6776 - val_loss: 20.5113 - val_mape: 20.5113\n",
            "Epoch 64/200\n",
            "19/19 [==============================] - 0s 3ms/step - loss: 17.8036 - mape: 17.8036 - val_loss: 20.7244 - val_mape: 20.7244\n",
            "Epoch 65/200\n",
            "19/19 [==============================] - 0s 3ms/step - loss: 17.7890 - mape: 17.7890 - val_loss: 20.5836 - val_mape: 20.5836\n",
            "Epoch 66/200\n",
            "19/19 [==============================] - 0s 3ms/step - loss: 17.6536 - mape: 17.6536 - val_loss: 20.5366 - val_mape: 20.5366\n",
            "Epoch 67/200\n",
            "19/19 [==============================] - 0s 3ms/step - loss: 17.6599 - mape: 17.6599 - val_loss: 20.5391 - val_mape: 20.5391\n",
            "Epoch 68/200\n",
            "19/19 [==============================] - 0s 3ms/step - loss: 17.6600 - mape: 17.6600 - val_loss: 20.6322 - val_mape: 20.6322\n",
            "Epoch 69/200\n",
            "19/19 [==============================] - 0s 3ms/step - loss: 17.7875 - mape: 17.7875 - val_loss: 20.9498 - val_mape: 20.9498\n",
            "Epoch 70/200\n",
            "19/19 [==============================] - 0s 4ms/step - loss: 17.6978 - mape: 17.6978 - val_loss: 20.6122 - val_mape: 20.6122\n",
            "Epoch 71/200\n",
            "19/19 [==============================] - 0s 3ms/step - loss: 17.6204 - mape: 17.6204 - val_loss: 20.6505 - val_mape: 20.6505\n",
            "Epoch 72/200\n",
            "19/19 [==============================] - 0s 3ms/step - loss: 17.7885 - mape: 17.7885 - val_loss: 20.7299 - val_mape: 20.7299\n",
            "Epoch 73/200\n",
            "19/19 [==============================] - 0s 3ms/step - loss: 17.6326 - mape: 17.6326 - val_loss: 20.6556 - val_mape: 20.6556\n",
            "Epoch 74/200\n",
            "19/19 [==============================] - 0s 3ms/step - loss: 17.6347 - mape: 17.6347 - val_loss: 20.6767 - val_mape: 20.6767\n",
            "Epoch 75/200\n",
            "19/19 [==============================] - 0s 3ms/step - loss: 17.6662 - mape: 17.6662 - val_loss: 20.6938 - val_mape: 20.6938\n",
            "Epoch 76/200\n",
            "19/19 [==============================] - 0s 3ms/step - loss: 17.6529 - mape: 17.6529 - val_loss: 20.6877 - val_mape: 20.6877\n",
            "Epoch 77/200\n",
            "19/19 [==============================] - 0s 3ms/step - loss: 17.6006 - mape: 17.6006 - val_loss: 20.6742 - val_mape: 20.6742\n",
            "Epoch 78/200\n",
            "19/19 [==============================] - 0s 3ms/step - loss: 17.6590 - mape: 17.6590 - val_loss: 20.7028 - val_mape: 20.7028\n",
            "Epoch 79/200\n",
            "19/19 [==============================] - 0s 3ms/step - loss: 17.8025 - mape: 17.8025 - val_loss: 20.7654 - val_mape: 20.7654\n",
            "Epoch 80/200\n",
            "19/19 [==============================] - 0s 3ms/step - loss: 17.5774 - mape: 17.5774 - val_loss: 20.7500 - val_mape: 20.7500\n",
            "Epoch 81/200\n",
            "19/19 [==============================] - 0s 3ms/step - loss: 17.5817 - mape: 17.5817 - val_loss: 20.7130 - val_mape: 20.7130\n",
            "Epoch 82/200\n",
            "19/19 [==============================] - 0s 3ms/step - loss: 17.5929 - mape: 17.5929 - val_loss: 20.7992 - val_mape: 20.7992\n",
            "Epoch 83/200\n",
            "19/19 [==============================] - 0s 3ms/step - loss: 17.5949 - mape: 17.5949 - val_loss: 20.7346 - val_mape: 20.7346\n",
            "Epoch 84/200\n",
            "19/19 [==============================] - 0s 3ms/step - loss: 17.5564 - mape: 17.5564 - val_loss: 20.7312 - val_mape: 20.7312\n",
            "Epoch 85/200\n",
            "19/19 [==============================] - 0s 3ms/step - loss: 17.6076 - mape: 17.6076 - val_loss: 20.7464 - val_mape: 20.7464\n",
            "Epoch 86/200\n",
            "19/19 [==============================] - 0s 3ms/step - loss: 17.6512 - mape: 17.6512 - val_loss: 20.7332 - val_mape: 20.7332\n",
            "Epoch 87/200\n",
            "19/19 [==============================] - 0s 3ms/step - loss: 17.5425 - mape: 17.5425 - val_loss: 20.7647 - val_mape: 20.7647\n",
            "Epoch 88/200\n",
            "19/19 [==============================] - 0s 3ms/step - loss: 17.5505 - mape: 17.5505 - val_loss: 20.7402 - val_mape: 20.7402\n",
            "Epoch 89/200\n",
            "19/19 [==============================] - 0s 3ms/step - loss: 17.5651 - mape: 17.5651 - val_loss: 20.7611 - val_mape: 20.7611\n",
            "Epoch 90/200\n",
            "19/19 [==============================] - 0s 3ms/step - loss: 17.5751 - mape: 17.5751 - val_loss: 20.7482 - val_mape: 20.7482\n",
            "Epoch 91/200\n",
            "19/19 [==============================] - 0s 4ms/step - loss: 17.5767 - mape: 17.5767 - val_loss: 20.8183 - val_mape: 20.8183\n",
            "Epoch 92/200\n",
            "19/19 [==============================] - 0s 3ms/step - loss: 17.5280 - mape: 17.5280 - val_loss: 20.7571 - val_mape: 20.7571\n",
            "Epoch 93/200\n",
            "19/19 [==============================] - 0s 3ms/step - loss: 17.5983 - mape: 17.5983 - val_loss: 20.7326 - val_mape: 20.7326\n",
            "Epoch 94/200\n",
            "19/19 [==============================] - 0s 3ms/step - loss: 17.5788 - mape: 17.5788 - val_loss: 20.7422 - val_mape: 20.7422\n",
            "Epoch 95/200\n",
            "19/19 [==============================] - 0s 3ms/step - loss: 17.5413 - mape: 17.5413 - val_loss: 20.7545 - val_mape: 20.7545\n",
            "Epoch 96/200\n",
            "19/19 [==============================] - 0s 3ms/step - loss: 17.6922 - mape: 17.6922 - val_loss: 20.8864 - val_mape: 20.8864\n",
            "Epoch 97/200\n",
            "19/19 [==============================] - 0s 3ms/step - loss: 17.8545 - mape: 17.8545 - val_loss: 20.8351 - val_mape: 20.8351\n",
            "Epoch 98/200\n",
            "19/19 [==============================] - 0s 3ms/step - loss: 17.7364 - mape: 17.7364 - val_loss: 20.8785 - val_mape: 20.8785\n",
            "Epoch 99/200\n",
            "19/19 [==============================] - 0s 3ms/step - loss: 17.6098 - mape: 17.6098 - val_loss: 20.7400 - val_mape: 20.7400\n",
            "Epoch 100/200\n",
            "19/19 [==============================] - 0s 3ms/step - loss: 17.6072 - mape: 17.6072 - val_loss: 20.7380 - val_mape: 20.7380\n",
            "Epoch 101/200\n",
            "19/19 [==============================] - 0s 3ms/step - loss: 17.5680 - mape: 17.5680 - val_loss: 20.8060 - val_mape: 20.8060\n",
            "Epoch 102/200\n",
            "19/19 [==============================] - 0s 3ms/step - loss: 17.5544 - mape: 17.5544 - val_loss: 20.7531 - val_mape: 20.7531\n",
            "Epoch 103/200\n",
            "19/19 [==============================] - 0s 3ms/step - loss: 17.5344 - mape: 17.5344 - val_loss: 20.7021 - val_mape: 20.7021\n",
            "Epoch 104/200\n",
            "19/19 [==============================] - 0s 3ms/step - loss: 17.5116 - mape: 17.5116 - val_loss: 20.7570 - val_mape: 20.7570\n",
            "Epoch 105/200\n",
            "19/19 [==============================] - 0s 3ms/step - loss: 17.5541 - mape: 17.5541 - val_loss: 20.7150 - val_mape: 20.7150\n",
            "Epoch 106/200\n",
            "19/19 [==============================] - 0s 3ms/step - loss: 17.5186 - mape: 17.5186 - val_loss: 20.7610 - val_mape: 20.7610\n",
            "Epoch 107/200\n",
            "19/19 [==============================] - 0s 3ms/step - loss: 17.5846 - mape: 17.5846 - val_loss: 20.7054 - val_mape: 20.7054\n",
            "Epoch 108/200\n",
            "19/19 [==============================] - 0s 3ms/step - loss: 17.4970 - mape: 17.4970 - val_loss: 20.7711 - val_mape: 20.7711\n",
            "Epoch 109/200\n",
            "19/19 [==============================] - 0s 3ms/step - loss: 17.6205 - mape: 17.6205 - val_loss: 20.8141 - val_mape: 20.8141\n",
            "Epoch 110/200\n",
            "19/19 [==============================] - 0s 3ms/step - loss: 17.5511 - mape: 17.5511 - val_loss: 20.7395 - val_mape: 20.7395\n",
            "Epoch 111/200\n",
            "19/19 [==============================] - 0s 3ms/step - loss: 17.4572 - mape: 17.4572 - val_loss: 20.7678 - val_mape: 20.7678\n",
            "Epoch 112/200\n",
            "19/19 [==============================] - 0s 3ms/step - loss: 17.5220 - mape: 17.5220 - val_loss: 20.7358 - val_mape: 20.7358\n",
            "Epoch 113/200\n",
            "19/19 [==============================] - 0s 3ms/step - loss: 17.4874 - mape: 17.4874 - val_loss: 20.7467 - val_mape: 20.7467\n",
            "Epoch 114/200\n",
            "19/19 [==============================] - 0s 3ms/step - loss: 17.4787 - mape: 17.4787 - val_loss: 20.7571 - val_mape: 20.7571\n",
            "Epoch 115/200\n",
            "19/19 [==============================] - 0s 3ms/step - loss: 17.6265 - mape: 17.6265 - val_loss: 21.0926 - val_mape: 21.0926\n",
            "Epoch 116/200\n",
            "19/19 [==============================] - 0s 3ms/step - loss: 17.5921 - mape: 17.5921 - val_loss: 20.7863 - val_mape: 20.7863\n",
            "Epoch 117/200\n",
            "19/19 [==============================] - 0s 3ms/step - loss: 17.5304 - mape: 17.5304 - val_loss: 20.8059 - val_mape: 20.8059\n",
            "Epoch 118/200\n",
            "19/19 [==============================] - 0s 3ms/step - loss: 17.4872 - mape: 17.4872 - val_loss: 20.7213 - val_mape: 20.7213\n",
            "Epoch 119/200\n",
            "19/19 [==============================] - 0s 3ms/step - loss: 17.4656 - mape: 17.4656 - val_loss: 20.7995 - val_mape: 20.7995\n",
            "Epoch 120/200\n",
            "19/19 [==============================] - 0s 3ms/step - loss: 17.4622 - mape: 17.4622 - val_loss: 20.7370 - val_mape: 20.7370\n",
            "Epoch 121/200\n",
            "19/19 [==============================] - 0s 3ms/step - loss: 17.5026 - mape: 17.5026 - val_loss: 20.6940 - val_mape: 20.6940\n",
            "Epoch 122/200\n",
            "19/19 [==============================] - 0s 3ms/step - loss: 17.4711 - mape: 17.4711 - val_loss: 20.7204 - val_mape: 20.7204\n",
            "Epoch 123/200\n",
            "19/19 [==============================] - 0s 3ms/step - loss: 17.4688 - mape: 17.4688 - val_loss: 20.7235 - val_mape: 20.7235\n",
            "Epoch 124/200\n",
            "19/19 [==============================] - 0s 3ms/step - loss: 17.4244 - mape: 17.4244 - val_loss: 20.7153 - val_mape: 20.7153\n",
            "Epoch 125/200\n",
            "19/19 [==============================] - 0s 3ms/step - loss: 17.4620 - mape: 17.4620 - val_loss: 20.6804 - val_mape: 20.6804\n",
            "Epoch 126/200\n",
            "19/19 [==============================] - 0s 3ms/step - loss: 17.4654 - mape: 17.4654 - val_loss: 20.6616 - val_mape: 20.6616\n",
            "Epoch 127/200\n",
            "19/19 [==============================] - 0s 3ms/step - loss: 17.5149 - mape: 17.5149 - val_loss: 20.6749 - val_mape: 20.6749\n",
            "Epoch 128/200\n",
            "19/19 [==============================] - 0s 3ms/step - loss: 17.6007 - mape: 17.6007 - val_loss: 20.8472 - val_mape: 20.8472\n",
            "Epoch 129/200\n",
            "19/19 [==============================] - 0s 3ms/step - loss: 17.6047 - mape: 17.6047 - val_loss: 20.7048 - val_mape: 20.7048\n",
            "Epoch 130/200\n",
            "19/19 [==============================] - 0s 3ms/step - loss: 17.5018 - mape: 17.5018 - val_loss: 20.8714 - val_mape: 20.8714\n",
            "Epoch 131/200\n",
            "19/19 [==============================] - 0s 3ms/step - loss: 17.4684 - mape: 17.4684 - val_loss: 20.7857 - val_mape: 20.7857\n",
            "Epoch 132/200\n",
            "19/19 [==============================] - 0s 3ms/step - loss: 17.5011 - mape: 17.5011 - val_loss: 20.7360 - val_mape: 20.7360\n",
            "Epoch 133/200\n",
            "19/19 [==============================] - 0s 3ms/step - loss: 17.6318 - mape: 17.6318 - val_loss: 20.8142 - val_mape: 20.8142\n",
            "Epoch 134/200\n",
            "19/19 [==============================] - 0s 3ms/step - loss: 17.4290 - mape: 17.4290 - val_loss: 20.7174 - val_mape: 20.7174\n",
            "Epoch 135/200\n",
            "19/19 [==============================] - 0s 3ms/step - loss: 17.5375 - mape: 17.5375 - val_loss: 20.8886 - val_mape: 20.8886\n",
            "Epoch 136/200\n",
            "19/19 [==============================] - 0s 3ms/step - loss: 17.4533 - mape: 17.4533 - val_loss: 20.7672 - val_mape: 20.7672\n",
            "Epoch 137/200\n",
            "19/19 [==============================] - 0s 3ms/step - loss: 17.4193 - mape: 17.4193 - val_loss: 20.9022 - val_mape: 20.9022\n",
            "Epoch 138/200\n",
            "19/19 [==============================] - 0s 3ms/step - loss: 17.4635 - mape: 17.4635 - val_loss: 20.7404 - val_mape: 20.7404\n",
            "Epoch 139/200\n",
            "19/19 [==============================] - 0s 3ms/step - loss: 17.5278 - mape: 17.5278 - val_loss: 20.7457 - val_mape: 20.7457\n",
            "Epoch 140/200\n",
            "19/19 [==============================] - 0s 3ms/step - loss: 17.6882 - mape: 17.6882 - val_loss: 20.9587 - val_mape: 20.9587\n",
            "Epoch 141/200\n",
            "19/19 [==============================] - 0s 3ms/step - loss: 17.3994 - mape: 17.3994 - val_loss: 20.7805 - val_mape: 20.7805\n",
            "Epoch 142/200\n",
            "19/19 [==============================] - 0s 3ms/step - loss: 17.4681 - mape: 17.4681 - val_loss: 20.7788 - val_mape: 20.7788\n",
            "Epoch 143/200\n",
            "19/19 [==============================] - 0s 3ms/step - loss: 17.4548 - mape: 17.4548 - val_loss: 20.7322 - val_mape: 20.7322\n",
            "Epoch 144/200\n",
            "19/19 [==============================] - 0s 4ms/step - loss: 17.4197 - mape: 17.4197 - val_loss: 20.6944 - val_mape: 20.6944\n",
            "Epoch 145/200\n",
            "19/19 [==============================] - 0s 3ms/step - loss: 17.4262 - mape: 17.4262 - val_loss: 20.7560 - val_mape: 20.7560\n",
            "Epoch 146/200\n",
            "19/19 [==============================] - 0s 3ms/step - loss: 17.4162 - mape: 17.4162 - val_loss: 20.8411 - val_mape: 20.8411\n",
            "Epoch 147/200\n",
            "19/19 [==============================] - 0s 4ms/step - loss: 17.3757 - mape: 17.3757 - val_loss: 20.7134 - val_mape: 20.7134\n",
            "Epoch 148/200\n",
            "19/19 [==============================] - 0s 3ms/step - loss: 17.3826 - mape: 17.3826 - val_loss: 20.6821 - val_mape: 20.6821\n",
            "Epoch 149/200\n",
            "19/19 [==============================] - 0s 3ms/step - loss: 17.4482 - mape: 17.4482 - val_loss: 20.7008 - val_mape: 20.7008\n",
            "Epoch 150/200\n",
            "19/19 [==============================] - 0s 3ms/step - loss: 17.3840 - mape: 17.3840 - val_loss: 20.7893 - val_mape: 20.7893\n",
            "Epoch 151/200\n",
            "19/19 [==============================] - 0s 3ms/step - loss: 17.5385 - mape: 17.5385 - val_loss: 20.6757 - val_mape: 20.6757\n",
            "Epoch 152/200\n",
            "19/19 [==============================] - 0s 3ms/step - loss: 17.3436 - mape: 17.3436 - val_loss: 20.7726 - val_mape: 20.7726\n",
            "Epoch 153/200\n",
            "19/19 [==============================] - 0s 3ms/step - loss: 17.4093 - mape: 17.4093 - val_loss: 20.6604 - val_mape: 20.6604\n",
            "Epoch 154/200\n",
            "19/19 [==============================] - 0s 3ms/step - loss: 17.3969 - mape: 17.3969 - val_loss: 20.7057 - val_mape: 20.7057\n",
            "Epoch 155/200\n",
            "19/19 [==============================] - 0s 3ms/step - loss: 17.3523 - mape: 17.3523 - val_loss: 20.6672 - val_mape: 20.6672\n",
            "Epoch 156/200\n",
            "19/19 [==============================] - 0s 3ms/step - loss: 17.4611 - mape: 17.4611 - val_loss: 20.6242 - val_mape: 20.6242\n",
            "Epoch 157/200\n",
            "19/19 [==============================] - 0s 3ms/step - loss: 17.5364 - mape: 17.5364 - val_loss: 20.8055 - val_mape: 20.8055\n",
            "Epoch 158/200\n",
            "19/19 [==============================] - 0s 3ms/step - loss: 17.5248 - mape: 17.5248 - val_loss: 20.6746 - val_mape: 20.6746\n",
            "Epoch 159/200\n",
            "19/19 [==============================] - 0s 3ms/step - loss: 17.3463 - mape: 17.3463 - val_loss: 20.6658 - val_mape: 20.6658\n",
            "Epoch 160/200\n",
            "19/19 [==============================] - 0s 3ms/step - loss: 17.5008 - mape: 17.5008 - val_loss: 20.7473 - val_mape: 20.7473\n",
            "Epoch 161/200\n",
            "19/19 [==============================] - 0s 3ms/step - loss: 17.4184 - mape: 17.4184 - val_loss: 20.6328 - val_mape: 20.6328\n",
            "Epoch 162/200\n",
            "19/19 [==============================] - 0s 3ms/step - loss: 17.3954 - mape: 17.3954 - val_loss: 20.6099 - val_mape: 20.6099\n",
            "Epoch 163/200\n",
            "19/19 [==============================] - 0s 3ms/step - loss: 17.3308 - mape: 17.3308 - val_loss: 20.6722 - val_mape: 20.6722\n",
            "Epoch 164/200\n",
            "19/19 [==============================] - 0s 3ms/step - loss: 17.3619 - mape: 17.3619 - val_loss: 20.6581 - val_mape: 20.6581\n",
            "Epoch 165/200\n",
            "19/19 [==============================] - 0s 3ms/step - loss: 17.3880 - mape: 17.3880 - val_loss: 20.6543 - val_mape: 20.6543\n",
            "Epoch 166/200\n",
            "19/19 [==============================] - 0s 3ms/step - loss: 17.3891 - mape: 17.3891 - val_loss: 20.7506 - val_mape: 20.7506\n",
            "Epoch 167/200\n",
            "19/19 [==============================] - 0s 3ms/step - loss: 17.4370 - mape: 17.4370 - val_loss: 20.6937 - val_mape: 20.6937\n",
            "Epoch 168/200\n",
            "19/19 [==============================] - 0s 3ms/step - loss: 17.5133 - mape: 17.5133 - val_loss: 20.7283 - val_mape: 20.7283\n",
            "Epoch 169/200\n",
            "19/19 [==============================] - 0s 4ms/step - loss: 17.4938 - mape: 17.4938 - val_loss: 20.6698 - val_mape: 20.6698\n",
            "Epoch 170/200\n",
            "19/19 [==============================] - 0s 3ms/step - loss: 17.3746 - mape: 17.3746 - val_loss: 20.7014 - val_mape: 20.7014\n",
            "Epoch 171/200\n",
            "19/19 [==============================] - 0s 3ms/step - loss: 17.4178 - mape: 17.4178 - val_loss: 21.0190 - val_mape: 21.0190\n",
            "Epoch 172/200\n",
            "19/19 [==============================] - 0s 4ms/step - loss: 17.3455 - mape: 17.3455 - val_loss: 20.6497 - val_mape: 20.6497\n",
            "Epoch 173/200\n",
            "19/19 [==============================] - 0s 3ms/step - loss: 17.4113 - mape: 17.4113 - val_loss: 20.7038 - val_mape: 20.7038\n",
            "Epoch 174/200\n",
            "19/19 [==============================] - 0s 3ms/step - loss: 17.3645 - mape: 17.3645 - val_loss: 20.7025 - val_mape: 20.7025\n",
            "Epoch 175/200\n",
            "19/19 [==============================] - 0s 3ms/step - loss: 17.3476 - mape: 17.3476 - val_loss: 20.6951 - val_mape: 20.6951\n",
            "Epoch 176/200\n",
            "19/19 [==============================] - 0s 3ms/step - loss: 17.6028 - mape: 17.6028 - val_loss: 20.9042 - val_mape: 20.9042\n",
            "Epoch 177/200\n",
            "19/19 [==============================] - 0s 3ms/step - loss: 17.4882 - mape: 17.4882 - val_loss: 20.8135 - val_mape: 20.8135\n",
            "Epoch 178/200\n",
            "19/19 [==============================] - 0s 3ms/step - loss: 17.3706 - mape: 17.3706 - val_loss: 20.8949 - val_mape: 20.8949\n",
            "Epoch 179/200\n",
            "19/19 [==============================] - 0s 3ms/step - loss: 17.3342 - mape: 17.3342 - val_loss: 20.7471 - val_mape: 20.7471\n",
            "Epoch 180/200\n",
            "19/19 [==============================] - 0s 3ms/step - loss: 17.4751 - mape: 17.4751 - val_loss: 20.8253 - val_mape: 20.8253\n",
            "Epoch 181/200\n",
            "19/19 [==============================] - 0s 3ms/step - loss: 17.3500 - mape: 17.3500 - val_loss: 20.7165 - val_mape: 20.7165\n",
            "Epoch 182/200\n",
            "19/19 [==============================] - 0s 3ms/step - loss: 17.3207 - mape: 17.3207 - val_loss: 20.6908 - val_mape: 20.6908\n",
            "Epoch 183/200\n",
            "19/19 [==============================] - 0s 3ms/step - loss: 17.3368 - mape: 17.3368 - val_loss: 20.6880 - val_mape: 20.6880\n",
            "Epoch 184/200\n",
            "19/19 [==============================] - 0s 3ms/step - loss: 17.3205 - mape: 17.3205 - val_loss: 20.7016 - val_mape: 20.7016\n",
            "Epoch 185/200\n",
            "19/19 [==============================] - 0s 3ms/step - loss: 17.2861 - mape: 17.2861 - val_loss: 20.6506 - val_mape: 20.6506\n",
            "Epoch 186/200\n",
            "19/19 [==============================] - 0s 3ms/step - loss: 17.2984 - mape: 17.2984 - val_loss: 20.6500 - val_mape: 20.6500\n",
            "Epoch 187/200\n",
            "19/19 [==============================] - 0s 3ms/step - loss: 17.2987 - mape: 17.2987 - val_loss: 20.6176 - val_mape: 20.6176\n",
            "Epoch 188/200\n",
            "19/19 [==============================] - 0s 3ms/step - loss: 17.3931 - mape: 17.3931 - val_loss: 21.0252 - val_mape: 21.0252\n",
            "Epoch 189/200\n",
            "19/19 [==============================] - 0s 3ms/step - loss: 17.8444 - mape: 17.8444 - val_loss: 21.4131 - val_mape: 21.4131\n",
            "Epoch 190/200\n",
            "19/19 [==============================] - 0s 3ms/step - loss: 17.5361 - mape: 17.5361 - val_loss: 20.7897 - val_mape: 20.7897\n",
            "Epoch 191/200\n",
            "19/19 [==============================] - 0s 3ms/step - loss: 17.2992 - mape: 17.2992 - val_loss: 20.8092 - val_mape: 20.8092\n",
            "Epoch 192/200\n",
            "19/19 [==============================] - 0s 3ms/step - loss: 17.4027 - mape: 17.4027 - val_loss: 20.7424 - val_mape: 20.7424\n",
            "Epoch 193/200\n",
            "19/19 [==============================] - 0s 3ms/step - loss: 17.4987 - mape: 17.4987 - val_loss: 20.8114 - val_mape: 20.8114\n",
            "Epoch 194/200\n",
            "19/19 [==============================] - 0s 3ms/step - loss: 17.4200 - mape: 17.4200 - val_loss: 20.7001 - val_mape: 20.7001\n",
            "Epoch 195/200\n",
            "19/19 [==============================] - 0s 3ms/step - loss: 17.3140 - mape: 17.3140 - val_loss: 20.6366 - val_mape: 20.6366\n",
            "Epoch 196/200\n",
            "19/19 [==============================] - 0s 3ms/step - loss: 17.3200 - mape: 17.3200 - val_loss: 20.7393 - val_mape: 20.7393\n",
            "Epoch 197/200\n",
            "19/19 [==============================] - 0s 3ms/step - loss: 17.5331 - mape: 17.5331 - val_loss: 20.7429 - val_mape: 20.7429\n",
            "Epoch 198/200\n",
            "19/19 [==============================] - 0s 3ms/step - loss: 17.2623 - mape: 17.2623 - val_loss: 20.7507 - val_mape: 20.7507\n",
            "Epoch 199/200\n",
            "19/19 [==============================] - 0s 3ms/step - loss: 17.3652 - mape: 17.3652 - val_loss: 20.7329 - val_mape: 20.7329\n",
            "Epoch 200/200\n",
            "19/19 [==============================] - 0s 4ms/step - loss: 17.2667 - mape: 17.2667 - val_loss: 20.7029 - val_mape: 20.7029\n"
          ]
        }
      ],
      "source": [
        "model = Sequential()\n",
        "model.add(LSTM(8,activation='relu',input_shape=(1,look_back)))\n",
        "model.add(Dense(1,activation='linear'))\n",
        "ad=optimizers.Adam(learning_rate=0.001638087527161876)\n",
        "model.compile(optimizer = ad, loss = 'mape', metrics = ['mape'])\n",
        "model_history=model.fit(trainX, trainY,validation_data=(testX, testY), batch_size = 33, epochs = 200)"
      ]
    },
    {
      "cell_type": "code",
      "execution_count": 29,
      "id": "77c05906",
      "metadata": {
        "id": "77c05906"
      },
      "outputs": [],
      "source": [
        "def model_loss(history):\n",
        "    plt.figure(figsize=(8,4))\n",
        "    plt.plot(history.history['loss'], label='Train Loss')\n",
        "    plt.plot(history.history['val_loss'], label='Test Loss')\n",
        "    plt.title('model loss')\n",
        "    plt.ylabel('loss')\n",
        "    plt.xlabel('epochs')\n",
        "    plt.legend(loc='upper right')\n",
        "    plt.show();"
      ]
    },
    {
      "cell_type": "code",
      "execution_count": 30,
      "id": "45a22c27",
      "metadata": {
        "colab": {
          "base_uri": "https://localhost:8080/",
          "height": 329
        },
        "id": "45a22c27",
        "outputId": "25c6b789-8b37-4d8a-d5ec-d72b56893016"
      },
      "outputs": [
        {
          "output_type": "stream",
          "name": "stdout",
          "text": [
            "Train MAPE: 17.21\n",
            "Test MAPE: 20.70\n"
          ]
        },
        {
          "output_type": "display_data",
          "data": {
            "text/plain": [
              "<Figure size 576x288 with 1 Axes>"
            ],
            "image/png": "[encoded data removed]"
          },
          "metadata": {
            "needs_background": "light"
          }
        }
      ],
      "source": [
        "train_score = model.evaluate(trainX, trainY, verbose=0)\n",
        "print('Train MAPE: %.2f' % ((train_score[1])))\n",
        "test_score = model.evaluate(testX, testY, verbose=0)\n",
        "print('Test MAPE: %.2f' % (test_score[1]))\n",
        "model_loss(model_history)"
      ]
    },
    {
      "cell_type": "code",
      "execution_count": 23,
      "id": "dc942f74",
      "metadata": {
        "id": "dc942f74"
      },
      "outputs": [],
      "source": [
        "import seaborn as sns"
      ]
    },
    {
      "cell_type": "code",
      "execution_count": 24,
      "id": "dee9bab8",
      "metadata": {
        "id": "dee9bab8"
      },
      "outputs": [],
      "source": [
        "def prediction_plot(testY, test_predict):\n",
        "    len_prediction=[x for x in range(611,681)]\n",
        "    plt.figure(figsize=(15,8))\n",
        "    plt.plot(trainY)\n",
        "    plt.plot(len_prediction, testY, marker='.', label=\"actual\")\n",
        "    plt.plot(len_prediction, test_predict, 'g', label=\"prediction\")\n",
        "    plt.tight_layout()\n",
        "    sns.despine(top=True)\n",
        "    plt.subplots_adjust(left=0.07)\n",
        "    plt.ylabel('Units', size=15)\n",
        "    plt.xlabel('Time step', size=15)\n",
        "    plt.legend(fontsize=15)\n",
        "    plt.show();"
      ]
    },
    {
      "cell_type": "code",
      "execution_count": 31,
      "id": "363040b5",
      "metadata": {
        "colab": {
          "base_uri": "https://localhost:8080/",
          "height": 604
        },
        "id": "363040b5",
        "outputId": "c5cbfb4c-207a-4316-ad94-1ddb89a21a64"
      },
      "outputs": [
        {
          "output_type": "display_data",
          "data": {
            "text/plain": [
              "<Figure size 1080x576 with 1 Axes>"
            ],
            "image/png": "[encoded data removed]"
          },
          "metadata": {
            "needs_background": "light"
          }
        }
      ],
      "source": [
        "test_predict = model.predict(testX)\n",
        "prediction_plot(testY, test_predict)"
      ]
    },
    {
      "cell_type": "code",
      "execution_count": null,
      "id": "f8a7708c",
      "metadata": {
        "id": "f8a7708c"
      },
      "outputs": [],
      "source": [
        ""
      ]
    }
  ],
  "metadata": {
    "colab": {
      "collapsed_sections": [],
      "name": "Daily_electric_HPT_LSTM_simplest_model.ipynb",
      "provenance": []
    },
    "kernelspec": {
      "display_name": "Python 3",
      "language": "python",
      "name": "python3"
    },
    "language_info": {
      "codemirror_mode": {
        "name": "ipython",
        "version": 3
      },
      "file_extension": ".py",
      "mimetype": "text/x-python",
      "name": "python",
      "nbconvert_exporter": "python",
      "pygments_lexer": "ipython3",
      "version": "3.8.8"
    }
  },
  "nbformat": 4,
  "nbformat_minor": 5
}