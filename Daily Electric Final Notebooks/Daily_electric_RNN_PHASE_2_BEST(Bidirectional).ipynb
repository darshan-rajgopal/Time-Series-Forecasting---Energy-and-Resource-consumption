{
 "cells": [
  {
   "cell_type": "code",
   "execution_count": 1,
   "id": "c2ef9b47",
   "metadata": {
    "id": "c2ef9b47"
   },
   "outputs": [],
   "source": [
    "import numpy as np\n",
    "import pandas as pd\n",
    "from tensorflow.keras.models import Sequential\n",
    "from tensorflow.keras.layers import LSTM\n",
    "from tensorflow.keras.layers import Dense\n",
    "from tensorflow.keras.layers import Flatten\n",
    "import matplotlib.pyplot as plt\n",
    "import warnings\n",
    "warnings.filterwarnings('ignore')\n",
    "%matplotlib inline"
   ]
  },
  {
   "cell_type": "code",
   "execution_count": 2,
   "id": "iGQk9lcRmucZ",
   "metadata": {
    "colab": {
     "base_uri": "https://localhost:8080/"
    },
    "id": "iGQk9lcRmucZ",
    "outputId": "4ec595d1-ab69-4b73-8e3c-1dff4412dd96"
   },
   "outputs": [
    {
     "name": "stdout",
     "output_type": "stream",
     "text": [
      "Mounted at /content/drive\n"
     ]
    }
   ],
   "source": [
    "from google.colab import drive\n",
    "drive.mount('/content/drive')"
   ]
  },
  {
   "cell_type": "code",
   "execution_count": null,
   "id": "BxDZtfokj6Da",
   "metadata": {
    "id": "BxDZtfokj6Da"
   },
   "outputs": [],
   "source": [
    "import tensorflow as tf\n",
    "tf.test.gpu_device_name()"
   ]
  },
  {
   "cell_type": "code",
   "execution_count": null,
   "id": "UDt4KrAxj6JS",
   "metadata": {
    "id": "UDt4KrAxj6JS"
   },
   "outputs": [],
   "source": [
    "from tensorflow.python.client import device_lib\n",
    "device_lib.list_local_devices()"
   ]
  },
  {
   "cell_type": "code",
   "execution_count": 3,
   "id": "30d066a0",
   "metadata": {
    "colab": {
     "base_uri": "https://localhost:8080/",
     "height": 206
    },
    "id": "30d066a0",
    "outputId": "819c698d-57d2-4116-f8f7-05fd7cb4eeaa"
   },
   "outputs": [
    {
     "data": {
      "text/html": [
       "\n",
       "  <div id=\"df-5187f4cf-4060-4f0b-819e-0f0a8835355c\">\n",
       "    <div class=\"colab-df-container\">\n",
       "      <div>\n",
       "<style scoped>\n",
       "    .dataframe tbody tr th:only-of-type {\n",
       "        vertical-align: middle;\n",
       "    }\n",
       "\n",
       "    .dataframe tbody tr th {\n",
       "        vertical-align: top;\n",
       "    }\n",
       "\n",
       "    .dataframe thead th {\n",
       "        text-align: right;\n",
       "    }\n",
       "</style>\n",
       "<table border=\"1\" class=\"dataframe\">\n",
       "  <thead>\n",
       "    <tr style=\"text-align: right;\">\n",
       "      <th></th>\n",
       "      <th>date_time</th>\n",
       "      <th>active_power_consumed</th>\n",
       "      <th>meter_reading</th>\n",
       "    </tr>\n",
       "  </thead>\n",
       "  <tbody>\n",
       "    <tr>\n",
       "      <th>0</th>\n",
       "      <td>01-01-2009</td>\n",
       "      <td>0.976869</td>\n",
       "      <td>1.946528</td>\n",
       "    </tr>\n",
       "    <tr>\n",
       "      <th>1</th>\n",
       "      <td>02-01-2009</td>\n",
       "      <td>1.616326</td>\n",
       "      <td>8.222917</td>\n",
       "    </tr>\n",
       "    <tr>\n",
       "      <th>2</th>\n",
       "      <td>03-01-2009</td>\n",
       "      <td>1.328817</td>\n",
       "      <td>7.249306</td>\n",
       "    </tr>\n",
       "    <tr>\n",
       "      <th>3</th>\n",
       "      <td>04-01-2009</td>\n",
       "      <td>1.347218</td>\n",
       "      <td>2.253472</td>\n",
       "    </tr>\n",
       "    <tr>\n",
       "      <th>4</th>\n",
       "      <td>05-01-2009</td>\n",
       "      <td>1.113889</td>\n",
       "      <td>6.006944</td>\n",
       "    </tr>\n",
       "  </tbody>\n",
       "</table>\n",
       "</div>\n",
       "      <button class=\"colab-df-convert\" onclick=\"convertToInteractive('df-5187f4cf-4060-4f0b-819e-0f0a8835355c')\"\n",
       "              title=\"Convert this dataframe to an interactive table.\"\n",
       "              style=\"display:none;\">\n",
       "        \n",
       "  <svg xmlns=\"http://www.w3.org/2000/svg\" height=\"24px\"viewBox=\"0 0 24 24\"\n",
       "       width=\"24px\">\n",
       "    <path d=\"M0 0h24v24H0V0z\" fill=\"none\"/>\n",
       "    <path d=\"M18.56 5.44l.94 2.06.94-2.06 2.06-.94-2.06-.94-.94-2.06-.94 2.06-2.06.94zm-11 1L8.5 8.5l.94-2.06 2.06-.94-2.06-.94L8.5 2.5l-.94 2.06-2.06.94zm10 10l.94 2.06.94-2.06 2.06-.94-2.06-.94-.94-2.06-.94 2.06-2.06.94z\"/><path d=\"M17.41 7.96l-1.37-1.37c-.4-.4-.92-.59-1.43-.59-.52 0-1.04.2-1.43.59L10.3 9.45l-7.72 7.72c-.78.78-.78 2.05 0 2.83L4 21.41c.39.39.9.59 1.41.59.51 0 1.02-.2 1.41-.59l7.78-7.78 2.81-2.81c.8-.78.8-2.07 0-2.86zM5.41 20L4 18.59l7.72-7.72 1.47 1.35L5.41 20z\"/>\n",
       "  </svg>\n",
       "      </button>\n",
       "      \n",
       "  <style>\n",
       "    .colab-df-container {\n",
       "      display:flex;\n",
       "      flex-wrap:wrap;\n",
       "      gap: 12px;\n",
       "    }\n",
       "\n",
       "    .colab-df-convert {\n",
       "      background-color: #E8F0FE;\n",
       "      border: none;\n",
       "      border-radius: 50%;\n",
       "      cursor: pointer;\n",
       "      display: none;\n",
       "      fill: #1967D2;\n",
       "      height: 32px;\n",
       "      padding: 0 0 0 0;\n",
       "      width: 32px;\n",
       "    }\n",
       "\n",
       "    .colab-df-convert:hover {\n",
       "      background-color: #E2EBFA;\n",
       "      box-shadow: 0px 1px 2px rgba(60, 64, 67, 0.3), 0px 1px 3px 1px rgba(60, 64, 67, 0.15);\n",
       "      fill: #174EA6;\n",
       "    }\n",
       "\n",
       "    [theme=dark] .colab-df-convert {\n",
       "      background-color: #3B4455;\n",
       "      fill: #D2E3FC;\n",
       "    }\n",
       "\n",
       "    [theme=dark] .colab-df-convert:hover {\n",
       "      background-color: #434B5C;\n",
       "      box-shadow: 0px 1px 3px 1px rgba(0, 0, 0, 0.15);\n",
       "      filter: drop-shadow(0px 1px 2px rgba(0, 0, 0, 0.3));\n",
       "      fill: #FFFFFF;\n",
       "    }\n",
       "  </style>\n",
       "\n",
       "      <script>\n",
       "        const buttonEl =\n",
       "          document.querySelector('#df-5187f4cf-4060-4f0b-819e-0f0a8835355c button.colab-df-convert');\n",
       "        buttonEl.style.display =\n",
       "          google.colab.kernel.accessAllowed ? 'block' : 'none';\n",
       "\n",
       "        async function convertToInteractive(key) {\n",
       "          const element = document.querySelector('#df-5187f4cf-4060-4f0b-819e-0f0a8835355c');\n",
       "          const dataTable =\n",
       "            await google.colab.kernel.invokeFunction('convertToInteractive',\n",
       "                                                     [key], {});\n",
       "          if (!dataTable) return;\n",
       "\n",
       "          const docLinkHtml = 'Like what you see? Visit the ' +\n",
       "            '<a target=\"_blank\" href=https://colab.research.google.com/notebooks/data_table.ipynb>data table notebook</a>'\n",
       "            + ' to learn more about interactive tables.';\n",
       "          element.innerHTML = '';\n",
       "          dataTable['output_type'] = 'display_data';\n",
       "          await google.colab.output.renderOutput(dataTable, element);\n",
       "          const docLink = document.createElement('div');\n",
       "          docLink.innerHTML = docLinkHtml;\n",
       "          element.appendChild(docLink);\n",
       "        }\n",
       "      </script>\n",
       "    </div>\n",
       "  </div>\n",
       "  "
      ],
      "text/plain": [
       "    date_time  active_power_consumed  meter_reading\n",
       "0  01-01-2009               0.976869       1.946528\n",
       "1  02-01-2009               1.616326       8.222917\n",
       "2  03-01-2009               1.328817       7.249306\n",
       "3  04-01-2009               1.347218       2.253472\n",
       "4  05-01-2009               1.113889       6.006944"
      ]
     },
     "execution_count": 3,
     "metadata": {},
     "output_type": "execute_result"
    }
   ],
   "source": [
    "df = pd.read_csv('/content/drive/MyDrive/Colab Notebooks/Energy/Daily_electricity_consumption.csv')\n",
    "df.head()"
   ]
  },
  {
   "cell_type": "code",
   "execution_count": 4,
   "id": "e2663bb4",
   "metadata": {
    "colab": {
     "base_uri": "https://localhost:8080/",
     "height": 206
    },
    "id": "e2663bb4",
    "outputId": "03ba2ee5-db72-4b8b-94f7-16f8a0c2ec71"
   },
   "outputs": [
    {
     "data": {
      "text/html": [
       "\n",
       "  <div id=\"df-0248c803-233f-4c23-84f4-100effd70624\">\n",
       "    <div class=\"colab-df-container\">\n",
       "      <div>\n",
       "<style scoped>\n",
       "    .dataframe tbody tr th:only-of-type {\n",
       "        vertical-align: middle;\n",
       "    }\n",
       "\n",
       "    .dataframe tbody tr th {\n",
       "        vertical-align: top;\n",
       "    }\n",
       "\n",
       "    .dataframe thead th {\n",
       "        text-align: right;\n",
       "    }\n",
       "</style>\n",
       "<table border=\"1\" class=\"dataframe\">\n",
       "  <thead>\n",
       "    <tr style=\"text-align: right;\">\n",
       "      <th></th>\n",
       "      <th>date_time</th>\n",
       "      <th>active_power_consumed</th>\n",
       "      <th>meter_reading</th>\n",
       "    </tr>\n",
       "  </thead>\n",
       "  <tbody>\n",
       "    <tr>\n",
       "      <th>690</th>\n",
       "      <td>22-11-2010</td>\n",
       "      <td>1.417733</td>\n",
       "      <td>7.038889</td>\n",
       "    </tr>\n",
       "    <tr>\n",
       "      <th>691</th>\n",
       "      <td>23-11-2010</td>\n",
       "      <td>1.095511</td>\n",
       "      <td>5.285417</td>\n",
       "    </tr>\n",
       "    <tr>\n",
       "      <th>692</th>\n",
       "      <td>24-11-2010</td>\n",
       "      <td>1.247394</td>\n",
       "      <td>8.488889</td>\n",
       "    </tr>\n",
       "    <tr>\n",
       "      <th>693</th>\n",
       "      <td>25-11-2010</td>\n",
       "      <td>0.993864</td>\n",
       "      <td>3.522222</td>\n",
       "    </tr>\n",
       "    <tr>\n",
       "      <th>694</th>\n",
       "      <td>26-11-2010</td>\n",
       "      <td>1.178230</td>\n",
       "      <td>7.908947</td>\n",
       "    </tr>\n",
       "  </tbody>\n",
       "</table>\n",
       "</div>\n",
       "      <button class=\"colab-df-convert\" onclick=\"convertToInteractive('df-0248c803-233f-4c23-84f4-100effd70624')\"\n",
       "              title=\"Convert this dataframe to an interactive table.\"\n",
       "              style=\"display:none;\">\n",
       "        \n",
       "  <svg xmlns=\"http://www.w3.org/2000/svg\" height=\"24px\"viewBox=\"0 0 24 24\"\n",
       "       width=\"24px\">\n",
       "    <path d=\"M0 0h24v24H0V0z\" fill=\"none\"/>\n",
       "    <path d=\"M18.56 5.44l.94 2.06.94-2.06 2.06-.94-2.06-.94-.94-2.06-.94 2.06-2.06.94zm-11 1L8.5 8.5l.94-2.06 2.06-.94-2.06-.94L8.5 2.5l-.94 2.06-2.06.94zm10 10l.94 2.06.94-2.06 2.06-.94-2.06-.94-.94-2.06-.94 2.06-2.06.94z\"/><path d=\"M17.41 7.96l-1.37-1.37c-.4-.4-.92-.59-1.43-.59-.52 0-1.04.2-1.43.59L10.3 9.45l-7.72 7.72c-.78.78-.78 2.05 0 2.83L4 21.41c.39.39.9.59 1.41.59.51 0 1.02-.2 1.41-.59l7.78-7.78 2.81-2.81c.8-.78.8-2.07 0-2.86zM5.41 20L4 18.59l7.72-7.72 1.47 1.35L5.41 20z\"/>\n",
       "  </svg>\n",
       "      </button>\n",
       "      \n",
       "  <style>\n",
       "    .colab-df-container {\n",
       "      display:flex;\n",
       "      flex-wrap:wrap;\n",
       "      gap: 12px;\n",
       "    }\n",
       "\n",
       "    .colab-df-convert {\n",
       "      background-color: #E8F0FE;\n",
       "      border: none;\n",
       "      border-radius: 50%;\n",
       "      cursor: pointer;\n",
       "      display: none;\n",
       "      fill: #1967D2;\n",
       "      height: 32px;\n",
       "      padding: 0 0 0 0;\n",
       "      width: 32px;\n",
       "    }\n",
       "\n",
       "    .colab-df-convert:hover {\n",
       "      background-color: #E2EBFA;\n",
       "      box-shadow: 0px 1px 2px rgba(60, 64, 67, 0.3), 0px 1px 3px 1px rgba(60, 64, 67, 0.15);\n",
       "      fill: #174EA6;\n",
       "    }\n",
       "\n",
       "    [theme=dark] .colab-df-convert {\n",
       "      background-color: #3B4455;\n",
       "      fill: #D2E3FC;\n",
       "    }\n",
       "\n",
       "    [theme=dark] .colab-df-convert:hover {\n",
       "      background-color: #434B5C;\n",
       "      box-shadow: 0px 1px 3px 1px rgba(0, 0, 0, 0.15);\n",
       "      filter: drop-shadow(0px 1px 2px rgba(0, 0, 0, 0.3));\n",
       "      fill: #FFFFFF;\n",
       "    }\n",
       "  </style>\n",
       "\n",
       "      <script>\n",
       "        const buttonEl =\n",
       "          document.querySelector('#df-0248c803-233f-4c23-84f4-100effd70624 button.colab-df-convert');\n",
       "        buttonEl.style.display =\n",
       "          google.colab.kernel.accessAllowed ? 'block' : 'none';\n",
       "\n",
       "        async function convertToInteractive(key) {\n",
       "          const element = document.querySelector('#df-0248c803-233f-4c23-84f4-100effd70624');\n",
       "          const dataTable =\n",
       "            await google.colab.kernel.invokeFunction('convertToInteractive',\n",
       "                                                     [key], {});\n",
       "          if (!dataTable) return;\n",
       "\n",
       "          const docLinkHtml = 'Like what you see? Visit the ' +\n",
       "            '<a target=\"_blank\" href=https://colab.research.google.com/notebooks/data_table.ipynb>data table notebook</a>'\n",
       "            + ' to learn more about interactive tables.';\n",
       "          element.innerHTML = '';\n",
       "          dataTable['output_type'] = 'display_data';\n",
       "          await google.colab.output.renderOutput(dataTable, element);\n",
       "          const docLink = document.createElement('div');\n",
       "          docLink.innerHTML = docLinkHtml;\n",
       "          element.appendChild(docLink);\n",
       "        }\n",
       "      </script>\n",
       "    </div>\n",
       "  </div>\n",
       "  "
      ],
      "text/plain": [
       "      date_time  active_power_consumed  meter_reading\n",
       "690  22-11-2010               1.417733       7.038889\n",
       "691  23-11-2010               1.095511       5.285417\n",
       "692  24-11-2010               1.247394       8.488889\n",
       "693  25-11-2010               0.993864       3.522222\n",
       "694  26-11-2010               1.178230       7.908947"
      ]
     },
     "execution_count": 4,
     "metadata": {},
     "output_type": "execute_result"
    }
   ],
   "source": [
    "df.tail()"
   ]
  },
  {
   "cell_type": "code",
   "execution_count": 5,
   "id": "0482272d",
   "metadata": {
    "colab": {
     "base_uri": "https://localhost:8080/"
    },
    "id": "0482272d",
    "outputId": "94676fc5-1571-4dca-f862-810606b259f9"
   },
   "outputs": [
    {
     "data": {
      "text/plain": [
       "(695, 3)"
      ]
     },
     "execution_count": 5,
     "metadata": {},
     "output_type": "execute_result"
    }
   ],
   "source": [
    "df.shape"
   ]
  },
  {
   "cell_type": "code",
   "execution_count": null,
   "id": "076f1ad3",
   "metadata": {
    "colab": {
     "base_uri": "https://localhost:8080/"
    },
    "id": "076f1ad3",
    "outputId": "c9e04fc7-fc19-46a8-b8d1-3c19f7864d6a"
   },
   "outputs": [
    {
     "name": "stdout",
     "output_type": "stream",
     "text": [
      "<class 'pandas.core.frame.DataFrame'>\n",
      "RangeIndex: 695 entries, 0 to 694\n",
      "Data columns (total 3 columns):\n",
      " #   Column                 Non-Null Count  Dtype  \n",
      "---  ------                 --------------  -----  \n",
      " 0   date_time              695 non-null    object \n",
      " 1   active_power_consumed  695 non-null    float64\n",
      " 2   meter_reading          695 non-null    float64\n",
      "dtypes: float64(2), object(1)\n",
      "memory usage: 16.4+ KB\n"
     ]
    }
   ],
   "source": [
    "df.info()"
   ]
  },
  {
   "cell_type": "code",
   "execution_count": null,
   "id": "IKYuy6u9oVZN",
   "metadata": {
    "colab": {
     "base_uri": "https://localhost:8080/"
    },
    "id": "IKYuy6u9oVZN",
    "outputId": "d9682af8-ba7a-4049-b9c1-6db7387a7568"
   },
   "outputs": [
    {
     "data": {
      "text/plain": [
       "date_time                0\n",
       "active_power_consumed    0\n",
       "meter_reading            0\n",
       "dtype: int64"
      ]
     },
     "execution_count": 8,
     "metadata": {},
     "output_type": "execute_result"
    }
   ],
   "source": [
    "df.isnull().sum()"
   ]
  },
  {
   "cell_type": "code",
   "execution_count": 6,
   "id": "93827e39",
   "metadata": {
    "id": "93827e39"
   },
   "outputs": [],
   "source": [
    "time = pd.date_range(start='1/1/2009',end='11/26/2010',freq='D')\n",
    "df['time_stamp'] = pd.DataFrame(time)\n",
    "df.drop('date_time',axis=1,inplace=True)\n",
    "df = df.set_index('time_stamp')"
   ]
  },
  {
   "cell_type": "code",
   "execution_count": null,
   "id": "S0kNKRMAocKq",
   "metadata": {
    "colab": {
     "base_uri": "https://localhost:8080/"
    },
    "id": "S0kNKRMAocKq",
    "outputId": "a6de22a9-755f-4ac3-c5b0-c54a373f3f2b"
   },
   "outputs": [
    {
     "data": {
      "text/plain": [
       "695"
      ]
     },
     "execution_count": 10,
     "metadata": {},
     "output_type": "execute_result"
    }
   ],
   "source": [
    "len(time)"
   ]
  },
  {
   "cell_type": "code",
   "execution_count": 7,
   "id": "522f2b8e",
   "metadata": {
    "colab": {
     "base_uri": "https://localhost:8080/",
     "height": 238
    },
    "id": "522f2b8e",
    "outputId": "4e650faa-e5da-4024-970d-979b6cd6239a"
   },
   "outputs": [
    {
     "data": {
      "text/html": [
       "\n",
       "  <div id=\"df-0ebefb3c-3fbf-4608-8880-b16a712572e0\">\n",
       "    <div class=\"colab-df-container\">\n",
       "      <div>\n",
       "<style scoped>\n",
       "    .dataframe tbody tr th:only-of-type {\n",
       "        vertical-align: middle;\n",
       "    }\n",
       "\n",
       "    .dataframe tbody tr th {\n",
       "        vertical-align: top;\n",
       "    }\n",
       "\n",
       "    .dataframe thead th {\n",
       "        text-align: right;\n",
       "    }\n",
       "</style>\n",
       "<table border=\"1\" class=\"dataframe\">\n",
       "  <thead>\n",
       "    <tr style=\"text-align: right;\">\n",
       "      <th></th>\n",
       "      <th>active_power_consumed</th>\n",
       "      <th>meter_reading</th>\n",
       "    </tr>\n",
       "    <tr>\n",
       "      <th>time_stamp</th>\n",
       "      <th></th>\n",
       "      <th></th>\n",
       "    </tr>\n",
       "  </thead>\n",
       "  <tbody>\n",
       "    <tr>\n",
       "      <th>2009-01-01</th>\n",
       "      <td>0.976869</td>\n",
       "      <td>1.946528</td>\n",
       "    </tr>\n",
       "    <tr>\n",
       "      <th>2009-01-02</th>\n",
       "      <td>1.616326</td>\n",
       "      <td>8.222917</td>\n",
       "    </tr>\n",
       "    <tr>\n",
       "      <th>2009-01-03</th>\n",
       "      <td>1.328817</td>\n",
       "      <td>7.249306</td>\n",
       "    </tr>\n",
       "    <tr>\n",
       "      <th>2009-01-04</th>\n",
       "      <td>1.347218</td>\n",
       "      <td>2.253472</td>\n",
       "    </tr>\n",
       "    <tr>\n",
       "      <th>2009-01-05</th>\n",
       "      <td>1.113889</td>\n",
       "      <td>6.006944</td>\n",
       "    </tr>\n",
       "  </tbody>\n",
       "</table>\n",
       "</div>\n",
       "      <button class=\"colab-df-convert\" onclick=\"convertToInteractive('df-0ebefb3c-3fbf-4608-8880-b16a712572e0')\"\n",
       "              title=\"Convert this dataframe to an interactive table.\"\n",
       "              style=\"display:none;\">\n",
       "        \n",
       "  <svg xmlns=\"http://www.w3.org/2000/svg\" height=\"24px\"viewBox=\"0 0 24 24\"\n",
       "       width=\"24px\">\n",
       "    <path d=\"M0 0h24v24H0V0z\" fill=\"none\"/>\n",
       "    <path d=\"M18.56 5.44l.94 2.06.94-2.06 2.06-.94-2.06-.94-.94-2.06-.94 2.06-2.06.94zm-11 1L8.5 8.5l.94-2.06 2.06-.94-2.06-.94L8.5 2.5l-.94 2.06-2.06.94zm10 10l.94 2.06.94-2.06 2.06-.94-2.06-.94-.94-2.06-.94 2.06-2.06.94z\"/><path d=\"M17.41 7.96l-1.37-1.37c-.4-.4-.92-.59-1.43-.59-.52 0-1.04.2-1.43.59L10.3 9.45l-7.72 7.72c-.78.78-.78 2.05 0 2.83L4 21.41c.39.39.9.59 1.41.59.51 0 1.02-.2 1.41-.59l7.78-7.78 2.81-2.81c.8-.78.8-2.07 0-2.86zM5.41 20L4 18.59l7.72-7.72 1.47 1.35L5.41 20z\"/>\n",
       "  </svg>\n",
       "      </button>\n",
       "      \n",
       "  <style>\n",
       "    .colab-df-container {\n",
       "      display:flex;\n",
       "      flex-wrap:wrap;\n",
       "      gap: 12px;\n",
       "    }\n",
       "\n",
       "    .colab-df-convert {\n",
       "      background-color: #E8F0FE;\n",
       "      border: none;\n",
       "      border-radius: 50%;\n",
       "      cursor: pointer;\n",
       "      display: none;\n",
       "      fill: #1967D2;\n",
       "      height: 32px;\n",
       "      padding: 0 0 0 0;\n",
       "      width: 32px;\n",
       "    }\n",
       "\n",
       "    .colab-df-convert:hover {\n",
       "      background-color: #E2EBFA;\n",
       "      box-shadow: 0px 1px 2px rgba(60, 64, 67, 0.3), 0px 1px 3px 1px rgba(60, 64, 67, 0.15);\n",
       "      fill: #174EA6;\n",
       "    }\n",
       "\n",
       "    [theme=dark] .colab-df-convert {\n",
       "      background-color: #3B4455;\n",
       "      fill: #D2E3FC;\n",
       "    }\n",
       "\n",
       "    [theme=dark] .colab-df-convert:hover {\n",
       "      background-color: #434B5C;\n",
       "      box-shadow: 0px 1px 3px 1px rgba(0, 0, 0, 0.15);\n",
       "      filter: drop-shadow(0px 1px 2px rgba(0, 0, 0, 0.3));\n",
       "      fill: #FFFFFF;\n",
       "    }\n",
       "  </style>\n",
       "\n",
       "      <script>\n",
       "        const buttonEl =\n",
       "          document.querySelector('#df-0ebefb3c-3fbf-4608-8880-b16a712572e0 button.colab-df-convert');\n",
       "        buttonEl.style.display =\n",
       "          google.colab.kernel.accessAllowed ? 'block' : 'none';\n",
       "\n",
       "        async function convertToInteractive(key) {\n",
       "          const element = document.querySelector('#df-0ebefb3c-3fbf-4608-8880-b16a712572e0');\n",
       "          const dataTable =\n",
       "            await google.colab.kernel.invokeFunction('convertToInteractive',\n",
       "                                                     [key], {});\n",
       "          if (!dataTable) return;\n",
       "\n",
       "          const docLinkHtml = 'Like what you see? Visit the ' +\n",
       "            '<a target=\"_blank\" href=https://colab.research.google.com/notebooks/data_table.ipynb>data table notebook</a>'\n",
       "            + ' to learn more about interactive tables.';\n",
       "          element.innerHTML = '';\n",
       "          dataTable['output_type'] = 'display_data';\n",
       "          await google.colab.output.renderOutput(dataTable, element);\n",
       "          const docLink = document.createElement('div');\n",
       "          docLink.innerHTML = docLinkHtml;\n",
       "          element.appendChild(docLink);\n",
       "        }\n",
       "      </script>\n",
       "    </div>\n",
       "  </div>\n",
       "  "
      ],
      "text/plain": [
       "            active_power_consumed  meter_reading\n",
       "time_stamp                                      \n",
       "2009-01-01               0.976869       1.946528\n",
       "2009-01-02               1.616326       8.222917\n",
       "2009-01-03               1.328817       7.249306\n",
       "2009-01-04               1.347218       2.253472\n",
       "2009-01-05               1.113889       6.006944"
      ]
     },
     "execution_count": 7,
     "metadata": {},
     "output_type": "execute_result"
    }
   ],
   "source": [
    "df.head()"
   ]
  },
  {
   "cell_type": "code",
   "execution_count": 8,
   "id": "e393d64a",
   "metadata": {
    "colab": {
     "base_uri": "https://localhost:8080/",
     "height": 238
    },
    "id": "e393d64a",
    "outputId": "f6bc9671-75ad-4ad9-9bbd-60cda7f221fe"
   },
   "outputs": [
    {
     "data": {
      "text/html": [
       "\n",
       "  <div id=\"df-fedde403-276d-43ba-a9e0-c3c2a9b8692d\">\n",
       "    <div class=\"colab-df-container\">\n",
       "      <div>\n",
       "<style scoped>\n",
       "    .dataframe tbody tr th:only-of-type {\n",
       "        vertical-align: middle;\n",
       "    }\n",
       "\n",
       "    .dataframe tbody tr th {\n",
       "        vertical-align: top;\n",
       "    }\n",
       "\n",
       "    .dataframe thead th {\n",
       "        text-align: right;\n",
       "    }\n",
       "</style>\n",
       "<table border=\"1\" class=\"dataframe\">\n",
       "  <thead>\n",
       "    <tr style=\"text-align: right;\">\n",
       "      <th></th>\n",
       "      <th>active_power_consumed</th>\n",
       "      <th>meter_reading</th>\n",
       "    </tr>\n",
       "    <tr>\n",
       "      <th>time_stamp</th>\n",
       "      <th></th>\n",
       "      <th></th>\n",
       "    </tr>\n",
       "  </thead>\n",
       "  <tbody>\n",
       "    <tr>\n",
       "      <th>2010-11-22</th>\n",
       "      <td>1.417733</td>\n",
       "      <td>7.038889</td>\n",
       "    </tr>\n",
       "    <tr>\n",
       "      <th>2010-11-23</th>\n",
       "      <td>1.095511</td>\n",
       "      <td>5.285417</td>\n",
       "    </tr>\n",
       "    <tr>\n",
       "      <th>2010-11-24</th>\n",
       "      <td>1.247394</td>\n",
       "      <td>8.488889</td>\n",
       "    </tr>\n",
       "    <tr>\n",
       "      <th>2010-11-25</th>\n",
       "      <td>0.993864</td>\n",
       "      <td>3.522222</td>\n",
       "    </tr>\n",
       "    <tr>\n",
       "      <th>2010-11-26</th>\n",
       "      <td>1.178230</td>\n",
       "      <td>7.908947</td>\n",
       "    </tr>\n",
       "  </tbody>\n",
       "</table>\n",
       "</div>\n",
       "      <button class=\"colab-df-convert\" onclick=\"convertToInteractive('df-fedde403-276d-43ba-a9e0-c3c2a9b8692d')\"\n",
       "              title=\"Convert this dataframe to an interactive table.\"\n",
       "              style=\"display:none;\">\n",
       "        \n",
       "  <svg xmlns=\"http://www.w3.org/2000/svg\" height=\"24px\"viewBox=\"0 0 24 24\"\n",
       "       width=\"24px\">\n",
       "    <path d=\"M0 0h24v24H0V0z\" fill=\"none\"/>\n",
       "    <path d=\"M18.56 5.44l.94 2.06.94-2.06 2.06-.94-2.06-.94-.94-2.06-.94 2.06-2.06.94zm-11 1L8.5 8.5l.94-2.06 2.06-.94-2.06-.94L8.5 2.5l-.94 2.06-2.06.94zm10 10l.94 2.06.94-2.06 2.06-.94-2.06-.94-.94-2.06-.94 2.06-2.06.94z\"/><path d=\"M17.41 7.96l-1.37-1.37c-.4-.4-.92-.59-1.43-.59-.52 0-1.04.2-1.43.59L10.3 9.45l-7.72 7.72c-.78.78-.78 2.05 0 2.83L4 21.41c.39.39.9.59 1.41.59.51 0 1.02-.2 1.41-.59l7.78-7.78 2.81-2.81c.8-.78.8-2.07 0-2.86zM5.41 20L4 18.59l7.72-7.72 1.47 1.35L5.41 20z\"/>\n",
       "  </svg>\n",
       "      </button>\n",
       "      \n",
       "  <style>\n",
       "    .colab-df-container {\n",
       "      display:flex;\n",
       "      flex-wrap:wrap;\n",
       "      gap: 12px;\n",
       "    }\n",
       "\n",
       "    .colab-df-convert {\n",
       "      background-color: #E8F0FE;\n",
       "      border: none;\n",
       "      border-radius: 50%;\n",
       "      cursor: pointer;\n",
       "      display: none;\n",
       "      fill: #1967D2;\n",
       "      height: 32px;\n",
       "      padding: 0 0 0 0;\n",
       "      width: 32px;\n",
       "    }\n",
       "\n",
       "    .colab-df-convert:hover {\n",
       "      background-color: #E2EBFA;\n",
       "      box-shadow: 0px 1px 2px rgba(60, 64, 67, 0.3), 0px 1px 3px 1px rgba(60, 64, 67, 0.15);\n",
       "      fill: #174EA6;\n",
       "    }\n",
       "\n",
       "    [theme=dark] .colab-df-convert {\n",
       "      background-color: #3B4455;\n",
       "      fill: #D2E3FC;\n",
       "    }\n",
       "\n",
       "    [theme=dark] .colab-df-convert:hover {\n",
       "      background-color: #434B5C;\n",
       "      box-shadow: 0px 1px 3px 1px rgba(0, 0, 0, 0.15);\n",
       "      filter: drop-shadow(0px 1px 2px rgba(0, 0, 0, 0.3));\n",
       "      fill: #FFFFFF;\n",
       "    }\n",
       "  </style>\n",
       "\n",
       "      <script>\n",
       "        const buttonEl =\n",
       "          document.querySelector('#df-fedde403-276d-43ba-a9e0-c3c2a9b8692d button.colab-df-convert');\n",
       "        buttonEl.style.display =\n",
       "          google.colab.kernel.accessAllowed ? 'block' : 'none';\n",
       "\n",
       "        async function convertToInteractive(key) {\n",
       "          const element = document.querySelector('#df-fedde403-276d-43ba-a9e0-c3c2a9b8692d');\n",
       "          const dataTable =\n",
       "            await google.colab.kernel.invokeFunction('convertToInteractive',\n",
       "                                                     [key], {});\n",
       "          if (!dataTable) return;\n",
       "\n",
       "          const docLinkHtml = 'Like what you see? Visit the ' +\n",
       "            '<a target=\"_blank\" href=https://colab.research.google.com/notebooks/data_table.ipynb>data table notebook</a>'\n",
       "            + ' to learn more about interactive tables.';\n",
       "          element.innerHTML = '';\n",
       "          dataTable['output_type'] = 'display_data';\n",
       "          await google.colab.output.renderOutput(dataTable, element);\n",
       "          const docLink = document.createElement('div');\n",
       "          docLink.innerHTML = docLinkHtml;\n",
       "          element.appendChild(docLink);\n",
       "        }\n",
       "      </script>\n",
       "    </div>\n",
       "  </div>\n",
       "  "
      ],
      "text/plain": [
       "            active_power_consumed  meter_reading\n",
       "time_stamp                                      \n",
       "2010-11-22               1.417733       7.038889\n",
       "2010-11-23               1.095511       5.285417\n",
       "2010-11-24               1.247394       8.488889\n",
       "2010-11-25               0.993864       3.522222\n",
       "2010-11-26               1.178230       7.908947"
      ]
     },
     "execution_count": 8,
     "metadata": {},
     "output_type": "execute_result"
    }
   ],
   "source": [
    "df.tail()"
   ]
  },
  {
   "cell_type": "code",
   "execution_count": 9,
   "id": "ef8212a0",
   "metadata": {
    "id": "ef8212a0"
   },
   "outputs": [],
   "source": [
    "df = df[['active_power_consumed']]"
   ]
  },
  {
   "cell_type": "code",
   "execution_count": 10,
   "id": "bb3a660d",
   "metadata": {
    "colab": {
     "base_uri": "https://localhost:8080/",
     "height": 455
    },
    "id": "bb3a660d",
    "outputId": "94042c42-4a3a-43d5-87be-00a62bc700aa"
   },
   "outputs": [
    {
     "data": {
      "text/html": [
       "\n",
       "  <div id=\"df-3ed4cd30-d9e2-4705-8d86-f487bf3fa62f\">\n",
       "    <div class=\"colab-df-container\">\n",
       "      <div>\n",
       "<style scoped>\n",
       "    .dataframe tbody tr th:only-of-type {\n",
       "        vertical-align: middle;\n",
       "    }\n",
       "\n",
       "    .dataframe tbody tr th {\n",
       "        vertical-align: top;\n",
       "    }\n",
       "\n",
       "    .dataframe thead th {\n",
       "        text-align: right;\n",
       "    }\n",
       "</style>\n",
       "<table border=\"1\" class=\"dataframe\">\n",
       "  <thead>\n",
       "    <tr style=\"text-align: right;\">\n",
       "      <th></th>\n",
       "      <th>active_power_consumed</th>\n",
       "    </tr>\n",
       "    <tr>\n",
       "      <th>time_stamp</th>\n",
       "      <th></th>\n",
       "    </tr>\n",
       "  </thead>\n",
       "  <tbody>\n",
       "    <tr>\n",
       "      <th>2009-01-01</th>\n",
       "      <td>0.976869</td>\n",
       "    </tr>\n",
       "    <tr>\n",
       "      <th>2009-01-02</th>\n",
       "      <td>1.616326</td>\n",
       "    </tr>\n",
       "    <tr>\n",
       "      <th>2009-01-03</th>\n",
       "      <td>1.328817</td>\n",
       "    </tr>\n",
       "    <tr>\n",
       "      <th>2009-01-04</th>\n",
       "      <td>1.347218</td>\n",
       "    </tr>\n",
       "    <tr>\n",
       "      <th>2009-01-05</th>\n",
       "      <td>1.113889</td>\n",
       "    </tr>\n",
       "    <tr>\n",
       "      <th>...</th>\n",
       "      <td>...</td>\n",
       "    </tr>\n",
       "    <tr>\n",
       "      <th>2010-11-22</th>\n",
       "      <td>1.417733</td>\n",
       "    </tr>\n",
       "    <tr>\n",
       "      <th>2010-11-23</th>\n",
       "      <td>1.095511</td>\n",
       "    </tr>\n",
       "    <tr>\n",
       "      <th>2010-11-24</th>\n",
       "      <td>1.247394</td>\n",
       "    </tr>\n",
       "    <tr>\n",
       "      <th>2010-11-25</th>\n",
       "      <td>0.993864</td>\n",
       "    </tr>\n",
       "    <tr>\n",
       "      <th>2010-11-26</th>\n",
       "      <td>1.178230</td>\n",
       "    </tr>\n",
       "  </tbody>\n",
       "</table>\n",
       "<p>695 rows × 1 columns</p>\n",
       "</div>\n",
       "      <button class=\"colab-df-convert\" onclick=\"convertToInteractive('df-3ed4cd30-d9e2-4705-8d86-f487bf3fa62f')\"\n",
       "              title=\"Convert this dataframe to an interactive table.\"\n",
       "              style=\"display:none;\">\n",
       "        \n",
       "  <svg xmlns=\"http://www.w3.org/2000/svg\" height=\"24px\"viewBox=\"0 0 24 24\"\n",
       "       width=\"24px\">\n",
       "    <path d=\"M0 0h24v24H0V0z\" fill=\"none\"/>\n",
       "    <path d=\"M18.56 5.44l.94 2.06.94-2.06 2.06-.94-2.06-.94-.94-2.06-.94 2.06-2.06.94zm-11 1L8.5 8.5l.94-2.06 2.06-.94-2.06-.94L8.5 2.5l-.94 2.06-2.06.94zm10 10l.94 2.06.94-2.06 2.06-.94-2.06-.94-.94-2.06-.94 2.06-2.06.94z\"/><path d=\"M17.41 7.96l-1.37-1.37c-.4-.4-.92-.59-1.43-.59-.52 0-1.04.2-1.43.59L10.3 9.45l-7.72 7.72c-.78.78-.78 2.05 0 2.83L4 21.41c.39.39.9.59 1.41.59.51 0 1.02-.2 1.41-.59l7.78-7.78 2.81-2.81c.8-.78.8-2.07 0-2.86zM5.41 20L4 18.59l7.72-7.72 1.47 1.35L5.41 20z\"/>\n",
       "  </svg>\n",
       "      </button>\n",
       "      \n",
       "  <style>\n",
       "    .colab-df-container {\n",
       "      display:flex;\n",
       "      flex-wrap:wrap;\n",
       "      gap: 12px;\n",
       "    }\n",
       "\n",
       "    .colab-df-convert {\n",
       "      background-color: #E8F0FE;\n",
       "      border: none;\n",
       "      border-radius: 50%;\n",
       "      cursor: pointer;\n",
       "      display: none;\n",
       "      fill: #1967D2;\n",
       "      height: 32px;\n",
       "      padding: 0 0 0 0;\n",
       "      width: 32px;\n",
       "    }\n",
       "\n",
       "    .colab-df-convert:hover {\n",
       "      background-color: #E2EBFA;\n",
       "      box-shadow: 0px 1px 2px rgba(60, 64, 67, 0.3), 0px 1px 3px 1px rgba(60, 64, 67, 0.15);\n",
       "      fill: #174EA6;\n",
       "    }\n",
       "\n",
       "    [theme=dark] .colab-df-convert {\n",
       "      background-color: #3B4455;\n",
       "      fill: #D2E3FC;\n",
       "    }\n",
       "\n",
       "    [theme=dark] .colab-df-convert:hover {\n",
       "      background-color: #434B5C;\n",
       "      box-shadow: 0px 1px 3px 1px rgba(0, 0, 0, 0.15);\n",
       "      filter: drop-shadow(0px 1px 2px rgba(0, 0, 0, 0.3));\n",
       "      fill: #FFFFFF;\n",
       "    }\n",
       "  </style>\n",
       "\n",
       "      <script>\n",
       "        const buttonEl =\n",
       "          document.querySelector('#df-3ed4cd30-d9e2-4705-8d86-f487bf3fa62f button.colab-df-convert');\n",
       "        buttonEl.style.display =\n",
       "          google.colab.kernel.accessAllowed ? 'block' : 'none';\n",
       "\n",
       "        async function convertToInteractive(key) {\n",
       "          const element = document.querySelector('#df-3ed4cd30-d9e2-4705-8d86-f487bf3fa62f');\n",
       "          const dataTable =\n",
       "            await google.colab.kernel.invokeFunction('convertToInteractive',\n",
       "                                                     [key], {});\n",
       "          if (!dataTable) return;\n",
       "\n",
       "          const docLinkHtml = 'Like what you see? Visit the ' +\n",
       "            '<a target=\"_blank\" href=https://colab.research.google.com/notebooks/data_table.ipynb>data table notebook</a>'\n",
       "            + ' to learn more about interactive tables.';\n",
       "          element.innerHTML = '';\n",
       "          dataTable['output_type'] = 'display_data';\n",
       "          await google.colab.output.renderOutput(dataTable, element);\n",
       "          const docLink = document.createElement('div');\n",
       "          docLink.innerHTML = docLinkHtml;\n",
       "          element.appendChild(docLink);\n",
       "        }\n",
       "      </script>\n",
       "    </div>\n",
       "  </div>\n",
       "  "
      ],
      "text/plain": [
       "            active_power_consumed\n",
       "time_stamp                       \n",
       "2009-01-01               0.976869\n",
       "2009-01-02               1.616326\n",
       "2009-01-03               1.328817\n",
       "2009-01-04               1.347218\n",
       "2009-01-05               1.113889\n",
       "...                           ...\n",
       "2010-11-22               1.417733\n",
       "2010-11-23               1.095511\n",
       "2010-11-24               1.247394\n",
       "2010-11-25               0.993864\n",
       "2010-11-26               1.178230\n",
       "\n",
       "[695 rows x 1 columns]"
      ]
     },
     "execution_count": 10,
     "metadata": {},
     "output_type": "execute_result"
    }
   ],
   "source": [
    "df"
   ]
  },
  {
   "cell_type": "code",
   "execution_count": 11,
   "id": "bQk15MFgouDq",
   "metadata": {
    "id": "bQk15MFgouDq"
   },
   "outputs": [],
   "source": [
    "plt.rcParams['figure.figsize'] = [15,8]"
   ]
  },
  {
   "cell_type": "code",
   "execution_count": 12,
   "id": "3b098ae2",
   "metadata": {
    "colab": {
     "base_uri": "https://localhost:8080/",
     "height": 523
    },
    "id": "3b098ae2",
    "outputId": "4db6fbd9-ccdd-4eb8-fe6c-81cfa78ceccb"
   },
   "outputs": [
    {
     "data": {
      "image/png": "[encoded data removed]",
      "text/plain": [
       "<Figure size 1080x576 with 1 Axes>"
      ]
     },
     "metadata": {
      "needs_background": "light"
     },
     "output_type": "display_data"
    }
   ],
   "source": [
    "plt.plot(df,color='blue')\n",
    "plt.title('Daily Electricity Consumption',fontsize=20)\n",
    "plt.xlabel('Date',fontsize=15)\n",
    "plt.ylabel('Units',fontsize=15)\n",
    "plt.show()"
   ]
  },
  {
   "cell_type": "code",
   "execution_count": 13,
   "id": "bf59d3e0",
   "metadata": {
    "id": "bf59d3e0"
   },
   "outputs": [],
   "source": [
    "def convert2matrix(data_arr, look_back):\n",
    "    X, Y =[], []\n",
    "    for i in range(len(data_arr)-look_back):\n",
    "        d=i+look_back  \n",
    "        X.append(data_arr[i:d,0])\n",
    "        Y.append(data_arr[d,0])\n",
    "    return np.array(X), np.array(Y)"
   ]
  },
  {
   "cell_type": "code",
   "execution_count": 16,
   "id": "1cea6c5f",
   "metadata": {
    "id": "1cea6c5f"
   },
   "outputs": [],
   "source": [
    "#Split data set into testing dataset and train dataset\n",
    "train_size = 618\n",
    "train, test =df.values[0:train_size,:],df.values[train_size:len(df.values),:]\n",
    "# setup look_back window \n",
    "look_back = 7\n",
    "#convert dataset into right shape in order to input into the DNN\n",
    "trainX, trainY = convert2matrix(train, look_back)\n",
    "testX, testY = convert2matrix(test, look_back)\n",
    "trainX = np.reshape(trainX, (trainX.shape[0], 1, trainX.shape[1]))\n",
    "testX = np.reshape(testX, (testX.shape[0], 1, testX.shape[1]))"
   ]
  },
  {
   "cell_type": "code",
   "execution_count": 17,
   "id": "c7d46c39",
   "metadata": {
    "colab": {
     "base_uri": "https://localhost:8080/"
    },
    "id": "c7d46c39",
    "outputId": "73930e44-366b-4166-a239-306e1f0494c3"
   },
   "outputs": [
    {
     "name": "stdout",
     "output_type": "stream",
     "text": [
      "(611, 1, 7)\n",
      "(611,)\n",
      "(70, 1, 7)\n",
      "(70,)\n"
     ]
    }
   ],
   "source": [
    "print(trainX.shape)\n",
    "print(trainY.shape)\n",
    "print(testX.shape)\n",
    "print(testY.shape)"
   ]
  },
  {
   "cell_type": "code",
   "execution_count": 18,
   "id": "GIc1nRcCuP3G",
   "metadata": {
    "colab": {
     "base_uri": "https://localhost:8080/"
    },
    "id": "GIc1nRcCuP3G",
    "outputId": "b05eadd5-109e-443c-f647-2eabac63118a"
   },
   "outputs": [
    {
     "name": "stdout",
     "output_type": "stream",
     "text": [
      "\u001b[?25l\r",
      "\u001b[K     |██▌                             | 10 kB 21.8 MB/s eta 0:00:01\r",
      "\u001b[K     |█████                           | 20 kB 16.5 MB/s eta 0:00:01\r",
      "\u001b[K     |███████▍                        | 30 kB 10.0 MB/s eta 0:00:01\r",
      "\u001b[K     |█████████▉                      | 40 kB 3.9 MB/s eta 0:00:01\r",
      "\u001b[K     |████████████▎                   | 51 kB 3.9 MB/s eta 0:00:01\r",
      "\u001b[K     |██████████████▊                 | 61 kB 4.6 MB/s eta 0:00:01\r",
      "\u001b[K     |█████████████████▏              | 71 kB 4.8 MB/s eta 0:00:01\r",
      "\u001b[K     |███████████████████▋            | 81 kB 5.0 MB/s eta 0:00:01\r",
      "\u001b[K     |██████████████████████          | 92 kB 5.5 MB/s eta 0:00:01\r",
      "\u001b[K     |████████████████████████▌       | 102 kB 4.5 MB/s eta 0:00:01\r",
      "\u001b[K     |███████████████████████████     | 112 kB 4.5 MB/s eta 0:00:01\r",
      "\u001b[K     |█████████████████████████████▍  | 122 kB 4.5 MB/s eta 0:00:01\r",
      "\u001b[K     |███████████████████████████████▉| 133 kB 4.5 MB/s eta 0:00:01\r",
      "\u001b[K     |████████████████████████████████| 133 kB 4.5 MB/s \n",
      "\u001b[?25h"
     ]
    }
   ],
   "source": [
    "!pip install -q -U keras-tuner"
   ]
  },
  {
   "cell_type": "code",
   "execution_count": 19,
   "id": "M5te5ih0uP6u",
   "metadata": {
    "id": "M5te5ih0uP6u"
   },
   "outputs": [],
   "source": [
    "import pandas as pd\n",
    "from tensorflow import keras\n",
    "from tensorflow.keras import layers\n",
    "from keras_tuner.tuners import RandomSearch\n",
    "from tensorflow.keras.models import Sequential\n",
    "from tensorflow.keras.layers import LSTM\n",
    "from tensorflow.keras.layers import Dense,Dropout,SimpleRNN\n",
    "from tensorflow.keras.layers import Flatten\n",
    "import matplotlib.pyplot as plt"
   ]
  },
  {
   "cell_type": "code",
   "execution_count": null,
   "id": "rYiJC5hXuP_e",
   "metadata": {
    "id": "rYiJC5hXuP_e"
   },
   "outputs": [],
   "source": [
    "def build_model(hp):\n",
    "    model = keras.Sequential()\n",
    "    model.add(SimpleRNN(hp.Int('first_rnn_layer',min_value=8,max_value=128,step=8), activation=\"relu\",return_sequences=True, input_shape=(1,look_back),recurrent_dropout = hp.Choice(\"first_recurrent_dropout\",[0.2,0.4,0.6],default=0.4)))\n",
    "    for i in range(hp.Int('n_layers', 1, 4)):\n",
    "        model.add(SimpleRNN(hp.Int(f'rnn_{i}_units',min_value=8,max_value=128,step=8),activation=\"relu\", return_sequences=True,recurrent_dropout = hp.Choice(f\"recurrent_dropout_{i}\",[0.2,0.4,0.6],default=0.4)))\n",
    "    model.add(SimpleRNN(hp.Int('final_rnn_layer',min_value=8,max_value=128,step=8),activation=\"relu\",recurrent_dropout = hp.Choice(\"last_recurrent_dropout\",[0.2,0.4,0.6],default=0.4) ))\n",
    "    model.add(Dense(hp.Int('dense_layer_1',min_value=8,max_value=128,step=8),activation=\"relu\"))\n",
    "    model.add(Dropout(hp.Float('Dropout_rate',min_value=0,max_value=0.5,step=0.1)))\n",
    "    model.add(layers.Dense(1, activation='linear'))\n",
    "    model.compile(\n",
    "        optimizer=keras.optimizers.Adam(\n",
    "             hp.Float('learning_rate', min_value=1e-4, max_value=1e-1, sampling=\"log\")),\n",
    "        loss='mape',\n",
    "        metrics=['mape'])\n",
    "    return model"
   ]
  },
  {
   "cell_type": "code",
   "execution_count": null,
   "id": "2h_gRerjuQCT",
   "metadata": {
    "id": "2h_gRerjuQCT"
   },
   "outputs": [],
   "source": [
    "tuner = RandomSearch(\n",
    "    build_model,\n",
    "    objective='val_mape',\n",
    "    max_trials=20,\n",
    "    executions_per_trial=2,\n",
    "    directory='project',\n",
    "    project_name='elec_consum')"
   ]
  },
  {
   "cell_type": "code",
   "execution_count": null,
   "id": "Dg5AHN3guQFu",
   "metadata": {
    "colab": {
     "base_uri": "https://localhost:8080/"
    },
    "id": "Dg5AHN3guQFu",
    "outputId": "6e39e4dc-8d5c-4f4e-ebd6-bc498a98ea06"
   },
   "outputs": [
    {
     "name": "stdout",
     "output_type": "stream",
     "text": [
      "Search space summary\n",
      "Default search space size: 10\n",
      "first_rnn_layer (Int)\n",
      "{'default': None, 'conditions': [], 'min_value': 8, 'max_value': 128, 'step': 8, 'sampling': None}\n",
      "first_recurrent_dropout (Choice)\n",
      "{'default': 0.4, 'conditions': [], 'values': [0.2, 0.4, 0.6], 'ordered': True}\n",
      "n_layers (Int)\n",
      "{'default': None, 'conditions': [], 'min_value': 1, 'max_value': 4, 'step': 1, 'sampling': None}\n",
      "rnn_0_units (Int)\n",
      "{'default': None, 'conditions': [], 'min_value': 8, 'max_value': 128, 'step': 8, 'sampling': None}\n",
      "recurrent_dropout_0 (Choice)\n",
      "{'default': 0.4, 'conditions': [], 'values': [0.2, 0.4, 0.6], 'ordered': True}\n",
      "final_rnn_layer (Int)\n",
      "{'default': None, 'conditions': [], 'min_value': 8, 'max_value': 128, 'step': 8, 'sampling': None}\n",
      "last_recurrent_dropout (Choice)\n",
      "{'default': 0.4, 'conditions': [], 'values': [0.2, 0.4, 0.6], 'ordered': True}\n",
      "dense_layer_1 (Int)\n",
      "{'default': None, 'conditions': [], 'min_value': 8, 'max_value': 128, 'step': 8, 'sampling': None}\n",
      "Dropout_rate (Float)\n",
      "{'default': 0.0, 'conditions': [], 'min_value': 0.0, 'max_value': 0.5, 'step': 0.1, 'sampling': None}\n",
      "learning_rate (Float)\n",
      "{'default': 0.0001, 'conditions': [], 'min_value': 0.0001, 'max_value': 0.1, 'step': None, 'sampling': 'log'}\n"
     ]
    }
   ],
   "source": [
    "tuner.search_space_summary()"
   ]
  },
  {
   "cell_type": "code",
   "execution_count": null,
   "id": "TiBXdF0K8Gpr",
   "metadata": {
    "colab": {
     "base_uri": "https://localhost:8080/"
    },
    "id": "TiBXdF0K8Gpr",
    "outputId": "ed8299ce-3135-40ab-8fe1-10e876989cdd"
   },
   "outputs": [
    {
     "name": "stdout",
     "output_type": "stream",
     "text": [
      "Trial 20 Complete [00h 01m 01s]\n",
      "val_mape: 19.6481351852417\n",
      "\n",
      "Best val_mape So Far: 17.40298366546631\n",
      "Total elapsed time: 00h 27m 05s\n",
      "INFO:tensorflow:Oracle triggered exit\n"
     ]
    }
   ],
   "source": [
    "tuner.search(trainX, trainY,\n",
    "             epochs=200,\n",
    "             batch_size=33,\n",
    "             validation_data=(testX, testY))"
   ]
  },
  {
   "cell_type": "code",
   "execution_count": null,
   "id": "VXXGH_RK8GsD",
   "metadata": {
    "colab": {
     "base_uri": "https://localhost:8080/"
    },
    "id": "VXXGH_RK8GsD",
    "outputId": "64472c0a-a687-4a51-a388-ccc478fbc269"
   },
   "outputs": [
    {
     "name": "stdout",
     "output_type": "stream",
     "text": [
      "Results summary\n",
      "Results in project/elec_consum\n",
      "Showing 10 best trials\n",
      "Objective(name='val_mape', direction='min')\n",
      "Trial summary\n",
      "Hyperparameters:\n",
      "first_rnn_layer: 48\n",
      "first_recurrent_dropout: 0.6\n",
      "n_layers: 3\n",
      "rnn_0_units: 56\n",
      "recurrent_dropout_0: 0.6\n",
      "final_rnn_layer: 96\n",
      "last_recurrent_dropout: 0.2\n",
      "dense_layer_1: 8\n",
      "Dropout_rate: 0.4\n",
      "learning_rate: 0.00177225433944805\n",
      "rnn_1_units: 40\n",
      "recurrent_dropout_1: 0.2\n",
      "rnn_2_units: 24\n",
      "recurrent_dropout_2: 0.6\n",
      "rnn_3_units: 24\n",
      "recurrent_dropout_3: 0.2\n",
      "Score: 17.40298366546631\n",
      "Trial summary\n",
      "Hyperparameters:\n",
      "first_rnn_layer: 64\n",
      "first_recurrent_dropout: 0.2\n",
      "n_layers: 2\n",
      "rnn_0_units: 16\n",
      "recurrent_dropout_0: 0.2\n",
      "final_rnn_layer: 112\n",
      "last_recurrent_dropout: 0.2\n",
      "dense_layer_1: 80\n",
      "Dropout_rate: 0.2\n",
      "learning_rate: 0.001972612994637945\n",
      "rnn_1_units: 8\n",
      "recurrent_dropout_1: 0.4\n",
      "Score: 18.50641918182373\n",
      "Trial summary\n",
      "Hyperparameters:\n",
      "first_rnn_layer: 24\n",
      "first_recurrent_dropout: 0.6\n",
      "n_layers: 2\n",
      "rnn_0_units: 120\n",
      "recurrent_dropout_0: 0.6\n",
      "final_rnn_layer: 40\n",
      "last_recurrent_dropout: 0.4\n",
      "dense_layer_1: 32\n",
      "Dropout_rate: 0.0\n",
      "learning_rate: 0.0023704919889749477\n",
      "rnn_1_units: 16\n",
      "recurrent_dropout_1: 0.6\n",
      "rnn_2_units: 120\n",
      "recurrent_dropout_2: 0.2\n",
      "rnn_3_units: 56\n",
      "recurrent_dropout_3: 0.2\n",
      "Score: 18.559289932250977\n",
      "Trial summary\n",
      "Hyperparameters:\n",
      "first_rnn_layer: 72\n",
      "first_recurrent_dropout: 0.4\n",
      "n_layers: 3\n",
      "rnn_0_units: 48\n",
      "recurrent_dropout_0: 0.2\n",
      "final_rnn_layer: 56\n",
      "last_recurrent_dropout: 0.2\n",
      "dense_layer_1: 40\n",
      "Dropout_rate: 0.4\n",
      "learning_rate: 0.0014920739790423448\n",
      "rnn_1_units: 64\n",
      "recurrent_dropout_1: 0.2\n",
      "rnn_2_units: 112\n",
      "recurrent_dropout_2: 0.4\n",
      "rnn_3_units: 72\n",
      "recurrent_dropout_3: 0.6\n",
      "Score: 18.670409202575684\n",
      "Trial summary\n",
      "Hyperparameters:\n",
      "first_rnn_layer: 16\n",
      "first_recurrent_dropout: 0.4\n",
      "n_layers: 3\n",
      "rnn_0_units: 80\n",
      "recurrent_dropout_0: 0.4\n",
      "final_rnn_layer: 32\n",
      "last_recurrent_dropout: 0.2\n",
      "dense_layer_1: 32\n",
      "Dropout_rate: 0.0\n",
      "learning_rate: 0.020861225744667783\n",
      "rnn_1_units: 64\n",
      "recurrent_dropout_1: 0.2\n",
      "rnn_2_units: 96\n",
      "recurrent_dropout_2: 0.4\n",
      "rnn_3_units: 32\n",
      "recurrent_dropout_3: 0.4\n",
      "Score: 18.7783842086792\n",
      "Trial summary\n",
      "Hyperparameters:\n",
      "first_rnn_layer: 56\n",
      "first_recurrent_dropout: 0.2\n",
      "n_layers: 1\n",
      "rnn_0_units: 112\n",
      "recurrent_dropout_0: 0.2\n",
      "final_rnn_layer: 48\n",
      "last_recurrent_dropout: 0.6\n",
      "dense_layer_1: 96\n",
      "Dropout_rate: 0.5\n",
      "learning_rate: 0.0024819137307728624\n",
      "rnn_1_units: 104\n",
      "recurrent_dropout_1: 0.2\n",
      "rnn_2_units: 80\n",
      "recurrent_dropout_2: 0.6\n",
      "rnn_3_units: 48\n",
      "recurrent_dropout_3: 0.6\n",
      "Score: 18.817837715148926\n",
      "Trial summary\n",
      "Hyperparameters:\n",
      "first_rnn_layer: 16\n",
      "first_recurrent_dropout: 0.4\n",
      "n_layers: 2\n",
      "rnn_0_units: 48\n",
      "recurrent_dropout_0: 0.6\n",
      "final_rnn_layer: 120\n",
      "last_recurrent_dropout: 0.6\n",
      "dense_layer_1: 72\n",
      "Dropout_rate: 0.1\n",
      "learning_rate: 0.00022481910373391807\n",
      "rnn_1_units: 64\n",
      "recurrent_dropout_1: 0.2\n",
      "Score: 18.90623950958252\n",
      "Trial summary\n",
      "Hyperparameters:\n",
      "first_rnn_layer: 40\n",
      "first_recurrent_dropout: 0.6\n",
      "n_layers: 1\n",
      "rnn_0_units: 16\n",
      "recurrent_dropout_0: 0.6\n",
      "final_rnn_layer: 120\n",
      "last_recurrent_dropout: 0.2\n",
      "dense_layer_1: 128\n",
      "Dropout_rate: 0.4\n",
      "learning_rate: 0.03132534607160715\n",
      "rnn_1_units: 72\n",
      "recurrent_dropout_1: 0.6\n",
      "rnn_2_units: 128\n",
      "recurrent_dropout_2: 0.4\n",
      "rnn_3_units: 88\n",
      "recurrent_dropout_3: 0.4\n",
      "Score: 18.92098331451416\n",
      "Trial summary\n",
      "Hyperparameters:\n",
      "first_rnn_layer: 104\n",
      "first_recurrent_dropout: 0.2\n",
      "n_layers: 4\n",
      "rnn_0_units: 88\n",
      "recurrent_dropout_0: 0.2\n",
      "final_rnn_layer: 104\n",
      "last_recurrent_dropout: 0.6\n",
      "dense_layer_1: 40\n",
      "Dropout_rate: 0.1\n",
      "learning_rate: 0.017909910243922317\n",
      "rnn_1_units: 40\n",
      "recurrent_dropout_1: 0.6\n",
      "rnn_2_units: 112\n",
      "recurrent_dropout_2: 0.4\n",
      "rnn_3_units: 88\n",
      "recurrent_dropout_3: 0.4\n",
      "Score: 19.02340793609619\n",
      "Trial summary\n",
      "Hyperparameters:\n",
      "first_rnn_layer: 120\n",
      "first_recurrent_dropout: 0.6\n",
      "n_layers: 3\n",
      "rnn_0_units: 88\n",
      "recurrent_dropout_0: 0.4\n",
      "final_rnn_layer: 88\n",
      "last_recurrent_dropout: 0.6\n",
      "dense_layer_1: 112\n",
      "Dropout_rate: 0.4\n",
      "learning_rate: 0.014448315026478068\n",
      "rnn_1_units: 88\n",
      "recurrent_dropout_1: 0.6\n",
      "rnn_2_units: 24\n",
      "recurrent_dropout_2: 0.2\n",
      "rnn_3_units: 104\n",
      "recurrent_dropout_3: 0.2\n",
      "Score: 19.048267364501953\n"
     ]
    }
   ],
   "source": [
    "tuner.results_summary()"
   ]
  },
  {
   "cell_type": "code",
   "execution_count": null,
   "id": "FBpLenJ_DZMX",
   "metadata": {
    "id": "FBpLenJ_DZMX"
   },
   "outputs": [],
   "source": [
    "from warnings import filterwarnings\n",
    "filterwarnings('ignore')"
   ]
  },
  {
   "cell_type": "code",
   "execution_count": null,
   "id": "eL-a8rAv8Gvg",
   "metadata": {
    "colab": {
     "base_uri": "https://localhost:8080/"
    },
    "id": "eL-a8rAv8Gvg",
    "outputId": "5c3de324-d8e9-4ab7-f055-47bdc6a9f060"
   },
   "outputs": [
    {
     "name": "stdout",
     "output_type": "stream",
     "text": [
      "Model: \"sequential\"\n",
      "_________________________________________________________________\n",
      " Layer (type)                Output Shape              Param #   \n",
      "=================================================================\n",
      " simple_rnn (SimpleRNN)      (None, 1, 48)             2832      \n",
      "                                                                 \n",
      " simple_rnn_1 (SimpleRNN)    (None, 1, 56)             5880      \n",
      "                                                                 \n",
      " simple_rnn_2 (SimpleRNN)    (None, 1, 40)             3880      \n",
      "                                                                 \n",
      " simple_rnn_3 (SimpleRNN)    (None, 1, 24)             1560      \n",
      "                                                                 \n",
      " simple_rnn_4 (SimpleRNN)    (None, 96)                11616     \n",
      "                                                                 \n",
      " dense (Dense)               (None, 8)                 776       \n",
      "                                                                 \n",
      " dropout (Dropout)           (None, 8)                 0         \n",
      "                                                                 \n",
      " dense_1 (Dense)             (None, 1)                 9         \n",
      "                                                                 \n",
      "=================================================================\n",
      "Total params: 26,553\n",
      "Trainable params: 26,553\n",
      "Non-trainable params: 0\n",
      "_________________________________________________________________\n"
     ]
    }
   ],
   "source": [
    "models = tuner.get_best_models(num_models=2)\n",
    "best_model = models[0]\n",
    "# Build the model.\n",
    "# Needed for `Sequential` without specified `input_shape`.\n",
    "best_model.build(input_shape=(None, 10))\n",
    "best_model.summary()"
   ]
  },
  {
   "cell_type": "code",
   "execution_count": 20,
   "id": "ovKDjDHZEmLV",
   "metadata": {
    "id": "ovKDjDHZEmLV"
   },
   "outputs": [],
   "source": [
    "from tensorflow.keras import optimizers\n",
    "from tensorflow.keras.layers import Bidirectional"
   ]
  },
  {
   "cell_type": "code",
   "execution_count": 37,
   "id": "0e187ddc",
   "metadata": {
    "colab": {
     "base_uri": "https://localhost:8080/"
    },
    "id": "0e187ddc",
    "outputId": "4854c620-8cc4-4209-8a8b-4cc06823d394"
   },
   "outputs": [
    {
     "name": "stdout",
     "output_type": "stream",
     "text": [
      "Epoch 1/100\n",
      "19/19 [==============================] - 5s 41ms/step - loss: 88.5514 - mape: 88.5514 - val_loss: 77.4177 - val_mape: 77.4177\n",
      "Epoch 2/100\n",
      "19/19 [==============================] - 0s 6ms/step - loss: 73.7789 - mape: 73.7789 - val_loss: 62.7297 - val_mape: 62.7297\n",
      "Epoch 3/100\n",
      "19/19 [==============================] - 0s 6ms/step - loss: 59.3244 - mape: 59.3244 - val_loss: 48.8096 - val_mape: 48.8096\n",
      "Epoch 4/100\n",
      "19/19 [==============================] - 0s 6ms/step - loss: 46.0840 - mape: 46.0840 - val_loss: 36.9239 - val_mape: 36.9239\n",
      "Epoch 5/100\n",
      "19/19 [==============================] - 0s 6ms/step - loss: 36.3272 - mape: 36.3272 - val_loss: 28.7362 - val_mape: 28.7362\n",
      "Epoch 6/100\n",
      "19/19 [==============================] - 0s 7ms/step - loss: 30.2354 - mape: 30.2354 - val_loss: 24.2883 - val_mape: 24.2883\n",
      "Epoch 7/100\n",
      "19/19 [==============================] - 0s 6ms/step - loss: 27.3046 - mape: 27.3046 - val_loss: 22.3546 - val_mape: 22.3546\n",
      "Epoch 8/100\n",
      "19/19 [==============================] - 0s 6ms/step - loss: 26.2383 - mape: 26.2383 - val_loss: 21.9771 - val_mape: 21.9771\n",
      "Epoch 9/100\n",
      "19/19 [==============================] - 0s 7ms/step - loss: 25.6763 - mape: 25.6763 - val_loss: 21.9012 - val_mape: 21.9012\n",
      "Epoch 10/100\n",
      "19/19 [==============================] - 0s 6ms/step - loss: 25.3208 - mape: 25.3208 - val_loss: 21.7464 - val_mape: 21.7464\n",
      "Epoch 11/100\n",
      "19/19 [==============================] - 0s 7ms/step - loss: 24.9531 - mape: 24.9531 - val_loss: 21.5194 - val_mape: 21.5194\n",
      "Epoch 12/100\n",
      "19/19 [==============================] - 0s 6ms/step - loss: 24.6044 - mape: 24.6044 - val_loss: 21.2886 - val_mape: 21.2886\n",
      "Epoch 13/100\n",
      "19/19 [==============================] - 0s 6ms/step - loss: 24.2422 - mape: 24.2422 - val_loss: 21.1422 - val_mape: 21.1422\n",
      "Epoch 14/100\n",
      "19/19 [==============================] - 0s 6ms/step - loss: 23.9042 - mape: 23.9042 - val_loss: 20.9808 - val_mape: 20.9808\n",
      "Epoch 15/100\n",
      "19/19 [==============================] - 0s 6ms/step - loss: 23.6144 - mape: 23.6144 - val_loss: 20.8032 - val_mape: 20.8032\n",
      "Epoch 16/100\n",
      "19/19 [==============================] - 0s 6ms/step - loss: 23.2840 - mape: 23.2840 - val_loss: 20.6590 - val_mape: 20.6590\n",
      "Epoch 17/100\n",
      "19/19 [==============================] - 0s 6ms/step - loss: 22.9810 - mape: 22.9810 - val_loss: 20.5142 - val_mape: 20.5142\n",
      "Epoch 18/100\n",
      "19/19 [==============================] - 0s 6ms/step - loss: 22.7003 - mape: 22.7003 - val_loss: 20.3764 - val_mape: 20.3764\n",
      "Epoch 19/100\n",
      "19/19 [==============================] - 0s 6ms/step - loss: 22.3922 - mape: 22.3922 - val_loss: 20.2510 - val_mape: 20.2510\n",
      "Epoch 20/100\n",
      "19/19 [==============================] - 0s 6ms/step - loss: 22.1178 - mape: 22.1178 - val_loss: 20.0985 - val_mape: 20.0985\n",
      "Epoch 21/100\n",
      "19/19 [==============================] - 0s 6ms/step - loss: 21.8724 - mape: 21.8724 - val_loss: 19.9562 - val_mape: 19.9562\n",
      "Epoch 22/100\n",
      "19/19 [==============================] - 0s 6ms/step - loss: 21.6526 - mape: 21.6526 - val_loss: 19.8036 - val_mape: 19.8036\n",
      "Epoch 23/100\n",
      "19/19 [==============================] - 0s 6ms/step - loss: 21.4276 - mape: 21.4276 - val_loss: 19.6699 - val_mape: 19.6699\n",
      "Epoch 24/100\n",
      "19/19 [==============================] - 0s 6ms/step - loss: 21.2342 - mape: 21.2342 - val_loss: 19.5586 - val_mape: 19.5586\n",
      "Epoch 25/100\n",
      "19/19 [==============================] - 0s 6ms/step - loss: 21.0987 - mape: 21.0987 - val_loss: 19.4495 - val_mape: 19.4495\n",
      "Epoch 26/100\n",
      "19/19 [==============================] - 0s 7ms/step - loss: 20.9219 - mape: 20.9219 - val_loss: 19.3620 - val_mape: 19.3620\n",
      "Epoch 27/100\n",
      "19/19 [==============================] - 0s 6ms/step - loss: 20.7684 - mape: 20.7684 - val_loss: 19.2727 - val_mape: 19.2727\n",
      "Epoch 28/100\n",
      "19/19 [==============================] - 0s 7ms/step - loss: 20.6414 - mape: 20.6414 - val_loss: 19.2090 - val_mape: 19.2090\n",
      "Epoch 29/100\n",
      "19/19 [==============================] - 0s 6ms/step - loss: 20.5123 - mape: 20.5123 - val_loss: 19.1598 - val_mape: 19.1598\n",
      "Epoch 30/100\n",
      "19/19 [==============================] - 0s 7ms/step - loss: 20.4008 - mape: 20.4008 - val_loss: 19.0990 - val_mape: 19.0990\n",
      "Epoch 31/100\n",
      "19/19 [==============================] - 0s 6ms/step - loss: 20.3281 - mape: 20.3281 - val_loss: 19.1117 - val_mape: 19.1117\n",
      "Epoch 32/100\n",
      "19/19 [==============================] - 0s 6ms/step - loss: 20.2031 - mape: 20.2031 - val_loss: 19.0587 - val_mape: 19.0587\n",
      "Epoch 33/100\n",
      "19/19 [==============================] - 0s 6ms/step - loss: 20.1027 - mape: 20.1027 - val_loss: 19.1034 - val_mape: 19.1034\n",
      "Epoch 34/100\n",
      "19/19 [==============================] - 0s 7ms/step - loss: 19.9954 - mape: 19.9954 - val_loss: 19.0198 - val_mape: 19.0198\n",
      "Epoch 35/100\n",
      "19/19 [==============================] - 0s 6ms/step - loss: 19.9262 - mape: 19.9262 - val_loss: 19.0076 - val_mape: 19.0076\n",
      "Epoch 36/100\n",
      "19/19 [==============================] - 0s 6ms/step - loss: 19.8423 - mape: 19.8423 - val_loss: 19.0213 - val_mape: 19.0213\n",
      "Epoch 37/100\n",
      "19/19 [==============================] - 0s 6ms/step - loss: 19.7346 - mape: 19.7346 - val_loss: 18.9733 - val_mape: 18.9733\n",
      "Epoch 38/100\n",
      "19/19 [==============================] - 0s 6ms/step - loss: 19.6673 - mape: 19.6673 - val_loss: 18.9742 - val_mape: 18.9742\n",
      "Epoch 39/100\n",
      "19/19 [==============================] - 0s 6ms/step - loss: 19.5982 - mape: 19.5982 - val_loss: 18.9838 - val_mape: 18.9838\n",
      "Epoch 40/100\n",
      "19/19 [==============================] - 0s 7ms/step - loss: 19.5210 - mape: 19.5210 - val_loss: 18.9622 - val_mape: 18.9622\n",
      "Epoch 41/100\n",
      "19/19 [==============================] - 0s 6ms/step - loss: 19.4689 - mape: 19.4689 - val_loss: 18.9561 - val_mape: 18.9561\n",
      "Epoch 42/100\n",
      "19/19 [==============================] - 0s 6ms/step - loss: 19.4029 - mape: 19.4029 - val_loss: 18.9713 - val_mape: 18.9713\n",
      "Epoch 43/100\n",
      "19/19 [==============================] - 0s 6ms/step - loss: 19.3576 - mape: 19.3576 - val_loss: 18.9213 - val_mape: 18.9213\n",
      "Epoch 44/100\n",
      "19/19 [==============================] - 0s 7ms/step - loss: 19.2836 - mape: 19.2836 - val_loss: 18.9336 - val_mape: 18.9336\n",
      "Epoch 45/100\n",
      "19/19 [==============================] - 0s 6ms/step - loss: 19.2290 - mape: 19.2290 - val_loss: 18.9346 - val_mape: 18.9346\n",
      "Epoch 46/100\n",
      "19/19 [==============================] - 0s 7ms/step - loss: 19.1807 - mape: 19.1807 - val_loss: 18.9087 - val_mape: 18.9087\n",
      "Epoch 47/100\n",
      "19/19 [==============================] - 0s 6ms/step - loss: 19.1209 - mape: 19.1209 - val_loss: 18.8982 - val_mape: 18.8982\n",
      "Epoch 48/100\n",
      "19/19 [==============================] - 0s 6ms/step - loss: 19.0813 - mape: 19.0813 - val_loss: 18.8832 - val_mape: 18.8832\n",
      "Epoch 49/100\n",
      "19/19 [==============================] - 0s 6ms/step - loss: 19.0239 - mape: 19.0239 - val_loss: 18.9102 - val_mape: 18.9102\n",
      "Epoch 50/100\n",
      "19/19 [==============================] - 0s 7ms/step - loss: 18.9996 - mape: 18.9996 - val_loss: 18.9061 - val_mape: 18.9061\n",
      "Epoch 51/100\n",
      "19/19 [==============================] - 0s 6ms/step - loss: 18.9473 - mape: 18.9473 - val_loss: 18.9276 - val_mape: 18.9276\n",
      "Epoch 52/100\n",
      "19/19 [==============================] - 0s 6ms/step - loss: 18.9149 - mape: 18.9149 - val_loss: 18.9295 - val_mape: 18.9295\n",
      "Epoch 53/100\n",
      "19/19 [==============================] - 0s 6ms/step - loss: 18.8733 - mape: 18.8733 - val_loss: 18.9373 - val_mape: 18.9373\n",
      "Epoch 54/100\n",
      "19/19 [==============================] - 0s 6ms/step - loss: 18.8459 - mape: 18.8459 - val_loss: 18.9502 - val_mape: 18.9502\n",
      "Epoch 55/100\n",
      "19/19 [==============================] - 0s 6ms/step - loss: 18.8104 - mape: 18.8104 - val_loss: 18.9660 - val_mape: 18.9660\n",
      "Epoch 56/100\n",
      "19/19 [==============================] - 0s 6ms/step - loss: 18.7746 - mape: 18.7746 - val_loss: 18.9730 - val_mape: 18.9730\n",
      "Epoch 57/100\n",
      "19/19 [==============================] - 0s 6ms/step - loss: 18.7557 - mape: 18.7557 - val_loss: 18.9737 - val_mape: 18.9737\n",
      "Epoch 58/100\n",
      "19/19 [==============================] - 0s 7ms/step - loss: 18.7169 - mape: 18.7169 - val_loss: 18.9939 - val_mape: 18.9939\n",
      "Epoch 59/100\n",
      "19/19 [==============================] - 0s 6ms/step - loss: 18.6815 - mape: 18.6815 - val_loss: 19.0072 - val_mape: 19.0072\n",
      "Epoch 60/100\n",
      "19/19 [==============================] - 0s 6ms/step - loss: 18.6872 - mape: 18.6872 - val_loss: 19.0318 - val_mape: 19.0318\n",
      "Epoch 61/100\n",
      "19/19 [==============================] - 0s 7ms/step - loss: 18.6304 - mape: 18.6304 - val_loss: 19.0359 - val_mape: 19.0359\n",
      "Epoch 62/100\n",
      "19/19 [==============================] - 0s 6ms/step - loss: 18.6305 - mape: 18.6305 - val_loss: 19.0845 - val_mape: 19.0845\n",
      "Epoch 63/100\n",
      "19/19 [==============================] - 0s 7ms/step - loss: 18.5945 - mape: 18.5945 - val_loss: 19.0849 - val_mape: 19.0849\n",
      "Epoch 64/100\n",
      "19/19 [==============================] - 0s 6ms/step - loss: 18.6019 - mape: 18.6019 - val_loss: 19.0829 - val_mape: 19.0829\n",
      "Epoch 65/100\n",
      "19/19 [==============================] - 0s 6ms/step - loss: 18.5425 - mape: 18.5425 - val_loss: 19.1162 - val_mape: 19.1162\n",
      "Epoch 66/100\n",
      "19/19 [==============================] - 0s 7ms/step - loss: 18.5274 - mape: 18.5274 - val_loss: 19.1251 - val_mape: 19.1251\n",
      "Epoch 67/100\n",
      "19/19 [==============================] - 0s 6ms/step - loss: 18.5088 - mape: 18.5088 - val_loss: 19.1229 - val_mape: 19.1229\n",
      "Epoch 68/100\n",
      "19/19 [==============================] - 0s 7ms/step - loss: 18.5113 - mape: 18.5113 - val_loss: 19.1583 - val_mape: 19.1583\n",
      "Epoch 69/100\n",
      "19/19 [==============================] - 0s 8ms/step - loss: 18.4958 - mape: 18.4958 - val_loss: 19.1538 - val_mape: 19.1538\n",
      "Epoch 70/100\n",
      "19/19 [==============================] - 0s 6ms/step - loss: 18.4546 - mape: 18.4546 - val_loss: 19.1711 - val_mape: 19.1711\n",
      "Epoch 71/100\n",
      "19/19 [==============================] - 0s 6ms/step - loss: 18.4529 - mape: 18.4529 - val_loss: 19.1702 - val_mape: 19.1702\n",
      "Epoch 72/100\n",
      "19/19 [==============================] - 0s 6ms/step - loss: 18.4290 - mape: 18.4290 - val_loss: 19.1814 - val_mape: 19.1814\n",
      "Epoch 73/100\n",
      "19/19 [==============================] - 0s 6ms/step - loss: 18.4191 - mape: 18.4191 - val_loss: 19.1800 - val_mape: 19.1800\n",
      "Epoch 74/100\n",
      "19/19 [==============================] - 0s 8ms/step - loss: 18.3903 - mape: 18.3903 - val_loss: 19.2049 - val_mape: 19.2049\n",
      "Epoch 75/100\n",
      "19/19 [==============================] - 0s 6ms/step - loss: 18.3643 - mape: 18.3643 - val_loss: 19.2108 - val_mape: 19.2108\n",
      "Epoch 76/100\n",
      "19/19 [==============================] - 0s 6ms/step - loss: 18.3451 - mape: 18.3451 - val_loss: 19.2128 - val_mape: 19.2128\n",
      "Epoch 77/100\n",
      "19/19 [==============================] - 0s 7ms/step - loss: 18.3375 - mape: 18.3375 - val_loss: 19.2308 - val_mape: 19.2308\n",
      "Epoch 78/100\n",
      "19/19 [==============================] - 0s 6ms/step - loss: 18.3578 - mape: 18.3578 - val_loss: 19.2287 - val_mape: 19.2287\n",
      "Epoch 79/100\n",
      "19/19 [==============================] - 0s 6ms/step - loss: 18.3804 - mape: 18.3804 - val_loss: 19.3200 - val_mape: 19.3200\n",
      "Epoch 80/100\n",
      "19/19 [==============================] - 0s 6ms/step - loss: 18.3664 - mape: 18.3664 - val_loss: 19.2447 - val_mape: 19.2447\n",
      "Epoch 81/100\n",
      "19/19 [==============================] - 0s 7ms/step - loss: 18.2590 - mape: 18.2590 - val_loss: 19.2771 - val_mape: 19.2771\n",
      "Epoch 82/100\n",
      "19/19 [==============================] - 0s 7ms/step - loss: 18.2848 - mape: 18.2848 - val_loss: 19.2632 - val_mape: 19.2632\n",
      "Epoch 83/100\n",
      "19/19 [==============================] - 0s 6ms/step - loss: 18.2505 - mape: 18.2505 - val_loss: 19.2721 - val_mape: 19.2721\n",
      "Epoch 84/100\n",
      "19/19 [==============================] - 0s 6ms/step - loss: 18.2247 - mape: 18.2247 - val_loss: 19.2741 - val_mape: 19.2741\n",
      "Epoch 85/100\n",
      "19/19 [==============================] - 0s 6ms/step - loss: 18.2284 - mape: 18.2284 - val_loss: 19.2681 - val_mape: 19.2681\n",
      "Epoch 86/100\n",
      "19/19 [==============================] - 0s 6ms/step - loss: 18.2035 - mape: 18.2035 - val_loss: 19.3023 - val_mape: 19.3023\n",
      "Epoch 87/100\n",
      "19/19 [==============================] - 0s 8ms/step - loss: 18.1869 - mape: 18.1869 - val_loss: 19.3055 - val_mape: 19.3055\n",
      "Epoch 88/100\n",
      "19/19 [==============================] - 0s 6ms/step - loss: 18.2043 - mape: 18.2043 - val_loss: 19.3249 - val_mape: 19.3249\n",
      "Epoch 89/100\n",
      "19/19 [==============================] - 0s 6ms/step - loss: 18.1738 - mape: 18.1738 - val_loss: 19.3256 - val_mape: 19.3256\n",
      "Epoch 90/100\n",
      "19/19 [==============================] - 0s 7ms/step - loss: 18.1622 - mape: 18.1622 - val_loss: 19.3228 - val_mape: 19.3228\n",
      "Epoch 91/100\n",
      "19/19 [==============================] - 0s 6ms/step - loss: 18.1244 - mape: 18.1244 - val_loss: 19.3560 - val_mape: 19.3560\n",
      "Epoch 92/100\n",
      "19/19 [==============================] - 0s 6ms/step - loss: 18.1501 - mape: 18.1501 - val_loss: 19.3326 - val_mape: 19.3326\n",
      "Epoch 93/100\n",
      "19/19 [==============================] - 0s 6ms/step - loss: 18.1245 - mape: 18.1245 - val_loss: 19.3719 - val_mape: 19.3719\n",
      "Epoch 94/100\n",
      "19/19 [==============================] - 0s 6ms/step - loss: 18.0925 - mape: 18.0925 - val_loss: 19.3773 - val_mape: 19.3773\n",
      "Epoch 95/100\n",
      "19/19 [==============================] - 0s 6ms/step - loss: 18.0749 - mape: 18.0749 - val_loss: 19.3837 - val_mape: 19.3837\n",
      "Epoch 96/100\n",
      "19/19 [==============================] - 0s 6ms/step - loss: 18.0818 - mape: 18.0818 - val_loss: 19.4066 - val_mape: 19.4066\n",
      "Epoch 97/100\n",
      "19/19 [==============================] - 0s 7ms/step - loss: 18.0469 - mape: 18.0469 - val_loss: 19.3979 - val_mape: 19.3979\n",
      "Epoch 98/100\n",
      "19/19 [==============================] - 0s 6ms/step - loss: 18.0390 - mape: 18.0390 - val_loss: 19.4122 - val_mape: 19.4122\n",
      "Epoch 99/100\n",
      "19/19 [==============================] - 0s 6ms/step - loss: 18.0327 - mape: 18.0327 - val_loss: 19.4052 - val_mape: 19.4052\n",
      "Epoch 100/100\n",
      "19/19 [==============================] - 0s 6ms/step - loss: 18.0257 - mape: 18.0257 - val_loss: 19.4755 - val_mape: 19.4755\n"
     ]
    }
   ],
   "source": [
    "model = Sequential()\n",
    "model.add(Bidirectional(SimpleRNN(16,activation='relu',input_shape=(1,look_back), return_sequences=True)))\n",
    "model.add(Bidirectional(SimpleRNN(8,activation='relu')))\n",
    "model.add(Dense(1,activation='linear'))\n",
    "ad=optimizers.Adam(learning_rate=0.000100225433944805)\n",
    "model.compile(optimizer = ad, loss = 'mape', metrics = ['mape'])\n",
    "model_history=model.fit(trainX, trainY,validation_data=(testX, testY), batch_size = 33, epochs = 100)"
   ]
  },
  {
   "cell_type": "code",
   "execution_count": 38,
   "id": "77c05906",
   "metadata": {
    "id": "77c05906"
   },
   "outputs": [],
   "source": [
    "def model_loss(history):\n",
    "    plt.figure(figsize=(8,4))\n",
    "    plt.plot(history.history['loss'], label='Train Loss')\n",
    "    plt.plot(history.history['val_loss'], label='Test Loss')\n",
    "    plt.title('model loss')\n",
    "    plt.ylabel('loss')\n",
    "    plt.xlabel('epochs')\n",
    "    plt.legend(loc='upper right')\n",
    "    plt.show();"
   ]
  },
  {
   "cell_type": "code",
   "execution_count": 39,
   "id": "45a22c27",
   "metadata": {
    "colab": {
     "base_uri": "https://localhost:8080/",
     "height": 329
    },
    "id": "45a22c27",
    "outputId": "f7dd4c5e-78b3-4530-8e07-29003d7d37e9"
   },
   "outputs": [
    {
     "name": "stdout",
     "output_type": "stream",
     "text": [
      "Train MAPE: 18.00\n",
      "Test MAPE: 19.48\n"
     ]
    },
    {
     "data": {
      "image/png": "[encoded data removed]",
      "text/plain": [
       "<Figure size 576x288 with 1 Axes>"
      ]
     },
     "metadata": {
      "needs_background": "light"
     },
     "output_type": "display_data"
    }
   ],
   "source": [
    "train_score = model.evaluate(trainX, trainY, verbose=0)\n",
    "print('Train MAPE: %.2f' % ((train_score[1])))\n",
    "test_score = model.evaluate(testX, testY, verbose=0)\n",
    "print('Test MAPE: %.2f' % (test_score[1]))\n",
    "model_loss(model_history)"
   ]
  },
  {
   "cell_type": "code",
   "execution_count": 25,
   "id": "dc942f74",
   "metadata": {
    "id": "dc942f74"
   },
   "outputs": [],
   "source": [
    "import seaborn as sns"
   ]
  },
  {
   "cell_type": "code",
   "execution_count": 40,
   "id": "dee9bab8",
   "metadata": {
    "id": "dee9bab8"
   },
   "outputs": [],
   "source": [
    "def prediction_plot(testY, test_predict):\n",
    "    len_prediction=[x for x in range(611,681)]\n",
    "    plt.figure(figsize=(15,8))\n",
    "    plt.plot(trainY)\n",
    "    plt.plot(len_prediction, testY, marker='.', label=\"actual\")\n",
    "    plt.plot(len_prediction, test_predict, 'g', label=\"prediction\")\n",
    "    plt.tight_layout()\n",
    "    sns.despine(top=True)\n",
    "    plt.subplots_adjust(left=0.07)\n",
    "    plt.ylabel('Units', size=15)\n",
    "    plt.xlabel('Time step', size=15)\n",
    "    plt.legend(fontsize=15)\n",
    "    plt.show();"
   ]
  },
  {
   "cell_type": "code",
   "execution_count": 41,
   "id": "363040b5",
   "metadata": {
    "colab": {
     "base_uri": "https://localhost:8080/",
     "height": 604
    },
    "id": "363040b5",
    "outputId": "e9b38f2b-5923-43cf-91d1-472cb50098d3"
   },
   "outputs": [
    {
     "data": {
      "image/png": "[encoded data removed]",
      "text/plain": [
       "<Figure size 1080x576 with 1 Axes>"
      ]
     },
     "metadata": {
      "needs_background": "light"
     },
     "output_type": "display_data"
    }
   ],
   "source": [
    "test_predict = model.predict(testX)\n",
    "prediction_plot(testY, test_predict)"
   ]
  },
  {
   "cell_type": "code",
   "execution_count": null,
   "id": "f8a7708c",
   "metadata": {
    "id": "f8a7708c"
   },
   "outputs": [],
   "source": []
  }
 ],
 "metadata": {
  "colab": {
   "collapsed_sections": [],
   "name": "Daily_electric_HPT_RNN_Bidirectional_simple_model.ipynb",
   "provenance": []
  },
  "kernelspec": {
   "display_name": "Python 3",
   "language": "python",
   "name": "python3"
  },
  "language_info": {
   "codemirror_mode": {
    "name": "ipython",
    "version": 3
   },
   "file_extension": ".py",
   "mimetype": "text/x-python",
   "name": "python",
   "nbconvert_exporter": "python",
   "pygments_lexer": "ipython3",
   "version": "3.8.8"
  }
 },
 "nbformat": 4,
 "nbformat_minor": 5
}
