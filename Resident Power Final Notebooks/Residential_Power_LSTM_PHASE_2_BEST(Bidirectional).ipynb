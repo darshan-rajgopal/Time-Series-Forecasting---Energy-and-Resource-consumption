{
 "cells": [
  {
   "cell_type": "code",
   "execution_count": 1,
   "id": "c2ef9b47",
   "metadata": {
    "id": "c2ef9b47"
   },
   "outputs": [],
   "source": [
    "import numpy as np\n",
    "import pandas as pd\n",
    "from tensorflow.keras.models import Sequential\n",
    "from tensorflow.keras.layers import LSTM, SimpleRNN\n",
    "from tensorflow.keras.layers import Dense\n",
    "from tensorflow.keras.layers import Flatten\n",
    "import matplotlib.pyplot as plt\n",
    "import warnings\n",
    "warnings.filterwarnings('ignore')\n",
    "%matplotlib inline"
   ]
  },
  {
   "cell_type": "code",
   "execution_count": null,
   "id": "BxDZtfokj6Da",
   "metadata": {
    "colab": {
     "base_uri": "https://localhost:8080/",
     "height": 35
    },
    "id": "BxDZtfokj6Da",
    "outputId": "b81e8154-a7e3-419e-b14c-3b8d59b8063b"
   },
   "outputs": [
    {
     "data": {
      "application/vnd.google.colaboratory.intrinsic+json": {
       "type": "string"
      },
      "text/plain": [
       "'/device:GPU:0'"
      ]
     },
     "execution_count": 3,
     "metadata": {},
     "output_type": "execute_result"
    }
   ],
   "source": [
    "import tensorflow as tf\n",
    "tf.test.gpu_device_name()"
   ]
  },
  {
   "cell_type": "code",
   "execution_count": null,
   "id": "UDt4KrAxj6JS",
   "metadata": {
    "colab": {
     "base_uri": "https://localhost:8080/"
    },
    "id": "UDt4KrAxj6JS",
    "outputId": "ae71a41d-894e-4345-affe-cb4091ea52e4"
   },
   "outputs": [
    {
     "data": {
      "text/plain": [
       "[name: \"/device:CPU:0\"\n",
       " device_type: \"CPU\"\n",
       " memory_limit: 268435456\n",
       " locality {\n",
       " }\n",
       " incarnation: 5994368134398930075\n",
       " xla_global_id: -1, name: \"/device:GPU:0\"\n",
       " device_type: \"GPU\"\n",
       " memory_limit: 14465892352\n",
       " locality {\n",
       "   bus_id: 1\n",
       "   links {\n",
       "   }\n",
       " }\n",
       " incarnation: 4638497188715449484\n",
       " physical_device_desc: \"device: 0, name: Tesla T4, pci bus id: 0000:00:04.0, compute capability: 7.5\"\n",
       " xla_global_id: 416903419]"
      ]
     },
     "execution_count": 4,
     "metadata": {},
     "output_type": "execute_result"
    }
   ],
   "source": [
    "from tensorflow.python.client import device_lib\n",
    "device_lib.list_local_devices()"
   ]
  },
  {
   "cell_type": "code",
   "execution_count": 2,
   "id": "_SDcCDXY-kMb",
   "metadata": {
    "colab": {
     "base_uri": "https://localhost:8080/"
    },
    "id": "_SDcCDXY-kMb",
    "outputId": "53dabc34-c230-4ace-a4f9-165d954a9093"
   },
   "outputs": [
    {
     "name": "stdout",
     "output_type": "stream",
     "text": [
      "Mounted at /content/drive\n"
     ]
    }
   ],
   "source": [
    "from google.colab import drive\n",
    "drive.mount('/content/drive')"
   ]
  },
  {
   "cell_type": "code",
   "execution_count": 3,
   "id": "30d066a0",
   "metadata": {
    "colab": {
     "base_uri": "https://localhost:8080/",
     "height": 206
    },
    "id": "30d066a0",
    "outputId": "8acca6b0-b6cd-4ab6-8bbe-c7fe6ee9eac5"
   },
   "outputs": [
    {
     "data": {
      "text/html": [
       "\n",
       "  <div id=\"df-fc074dc5-e933-4f8b-a019-e04dee1d0019\">\n",
       "    <div class=\"colab-df-container\">\n",
       "      <div>\n",
       "<style scoped>\n",
       "    .dataframe tbody tr th:only-of-type {\n",
       "        vertical-align: middle;\n",
       "    }\n",
       "\n",
       "    .dataframe tbody tr th {\n",
       "        vertical-align: top;\n",
       "    }\n",
       "\n",
       "    .dataframe thead th {\n",
       "        text-align: right;\n",
       "    }\n",
       "</style>\n",
       "<table border=\"1\" class=\"dataframe\">\n",
       "  <thead>\n",
       "    <tr style=\"text-align: right;\">\n",
       "      <th></th>\n",
       "      <th>StartDate</th>\n",
       "      <th>Value (kWh)</th>\n",
       "      <th>day_of_week</th>\n",
       "      <th>notes</th>\n",
       "    </tr>\n",
       "  </thead>\n",
       "  <tbody>\n",
       "    <tr>\n",
       "      <th>0</th>\n",
       "      <td>2016-01-06 00:00:00</td>\n",
       "      <td>1.057</td>\n",
       "      <td>2</td>\n",
       "      <td>weekday</td>\n",
       "    </tr>\n",
       "    <tr>\n",
       "      <th>1</th>\n",
       "      <td>2016-01-06 01:00:00</td>\n",
       "      <td>1.171</td>\n",
       "      <td>2</td>\n",
       "      <td>weekday</td>\n",
       "    </tr>\n",
       "    <tr>\n",
       "      <th>2</th>\n",
       "      <td>2016-01-06 02:00:00</td>\n",
       "      <td>0.560</td>\n",
       "      <td>2</td>\n",
       "      <td>weekday</td>\n",
       "    </tr>\n",
       "    <tr>\n",
       "      <th>3</th>\n",
       "      <td>2016-01-06 03:00:00</td>\n",
       "      <td>0.828</td>\n",
       "      <td>2</td>\n",
       "      <td>weekday</td>\n",
       "    </tr>\n",
       "    <tr>\n",
       "      <th>4</th>\n",
       "      <td>2016-01-06 04:00:00</td>\n",
       "      <td>0.932</td>\n",
       "      <td>2</td>\n",
       "      <td>weekday</td>\n",
       "    </tr>\n",
       "  </tbody>\n",
       "</table>\n",
       "</div>\n",
       "      <button class=\"colab-df-convert\" onclick=\"convertToInteractive('df-fc074dc5-e933-4f8b-a019-e04dee1d0019')\"\n",
       "              title=\"Convert this dataframe to an interactive table.\"\n",
       "              style=\"display:none;\">\n",
       "        \n",
       "  <svg xmlns=\"http://www.w3.org/2000/svg\" height=\"24px\"viewBox=\"0 0 24 24\"\n",
       "       width=\"24px\">\n",
       "    <path d=\"M0 0h24v24H0V0z\" fill=\"none\"/>\n",
       "    <path d=\"M18.56 5.44l.94 2.06.94-2.06 2.06-.94-2.06-.94-.94-2.06-.94 2.06-2.06.94zm-11 1L8.5 8.5l.94-2.06 2.06-.94-2.06-.94L8.5 2.5l-.94 2.06-2.06.94zm10 10l.94 2.06.94-2.06 2.06-.94-2.06-.94-.94-2.06-.94 2.06-2.06.94z\"/><path d=\"M17.41 7.96l-1.37-1.37c-.4-.4-.92-.59-1.43-.59-.52 0-1.04.2-1.43.59L10.3 9.45l-7.72 7.72c-.78.78-.78 2.05 0 2.83L4 21.41c.39.39.9.59 1.41.59.51 0 1.02-.2 1.41-.59l7.78-7.78 2.81-2.81c.8-.78.8-2.07 0-2.86zM5.41 20L4 18.59l7.72-7.72 1.47 1.35L5.41 20z\"/>\n",
       "  </svg>\n",
       "      </button>\n",
       "      \n",
       "  <style>\n",
       "    .colab-df-container {\n",
       "      display:flex;\n",
       "      flex-wrap:wrap;\n",
       "      gap: 12px;\n",
       "    }\n",
       "\n",
       "    .colab-df-convert {\n",
       "      background-color: #E8F0FE;\n",
       "      border: none;\n",
       "      border-radius: 50%;\n",
       "      cursor: pointer;\n",
       "      display: none;\n",
       "      fill: #1967D2;\n",
       "      height: 32px;\n",
       "      padding: 0 0 0 0;\n",
       "      width: 32px;\n",
       "    }\n",
       "\n",
       "    .colab-df-convert:hover {\n",
       "      background-color: #E2EBFA;\n",
       "      box-shadow: 0px 1px 2px rgba(60, 64, 67, 0.3), 0px 1px 3px 1px rgba(60, 64, 67, 0.15);\n",
       "      fill: #174EA6;\n",
       "    }\n",
       "\n",
       "    [theme=dark] .colab-df-convert {\n",
       "      background-color: #3B4455;\n",
       "      fill: #D2E3FC;\n",
       "    }\n",
       "\n",
       "    [theme=dark] .colab-df-convert:hover {\n",
       "      background-color: #434B5C;\n",
       "      box-shadow: 0px 1px 3px 1px rgba(0, 0, 0, 0.15);\n",
       "      filter: drop-shadow(0px 1px 2px rgba(0, 0, 0, 0.3));\n",
       "      fill: #FFFFFF;\n",
       "    }\n",
       "  </style>\n",
       "\n",
       "      <script>\n",
       "        const buttonEl =\n",
       "          document.querySelector('#df-fc074dc5-e933-4f8b-a019-e04dee1d0019 button.colab-df-convert');\n",
       "        buttonEl.style.display =\n",
       "          google.colab.kernel.accessAllowed ? 'block' : 'none';\n",
       "\n",
       "        async function convertToInteractive(key) {\n",
       "          const element = document.querySelector('#df-fc074dc5-e933-4f8b-a019-e04dee1d0019');\n",
       "          const dataTable =\n",
       "            await google.colab.kernel.invokeFunction('convertToInteractive',\n",
       "                                                     [key], {});\n",
       "          if (!dataTable) return;\n",
       "\n",
       "          const docLinkHtml = 'Like what you see? Visit the ' +\n",
       "            '<a target=\"_blank\" href=https://colab.research.google.com/notebooks/data_table.ipynb>data table notebook</a>'\n",
       "            + ' to learn more about interactive tables.';\n",
       "          element.innerHTML = '';\n",
       "          dataTable['output_type'] = 'display_data';\n",
       "          await google.colab.output.renderOutput(dataTable, element);\n",
       "          const docLink = document.createElement('div');\n",
       "          docLink.innerHTML = docLinkHtml;\n",
       "          element.appendChild(docLink);\n",
       "        }\n",
       "      </script>\n",
       "    </div>\n",
       "  </div>\n",
       "  "
      ],
      "text/plain": [
       "             StartDate  Value (kWh)  day_of_week    notes\n",
       "0  2016-01-06 00:00:00        1.057            2  weekday\n",
       "1  2016-01-06 01:00:00        1.171            2  weekday\n",
       "2  2016-01-06 02:00:00        0.560            2  weekday\n",
       "3  2016-01-06 03:00:00        0.828            2  weekday\n",
       "4  2016-01-06 04:00:00        0.932            2  weekday"
      ]
     },
     "execution_count": 3,
     "metadata": {},
     "output_type": "execute_result"
    }
   ],
   "source": [
    "df = pd.read_csv('/content/drive/MyDrive/Colab Notebooks/Energy/residential_power_usage_2016_to_2020.csv')\n",
    "df.head()"
   ]
  },
  {
   "cell_type": "code",
   "execution_count": 4,
   "id": "e2663bb4",
   "metadata": {
    "colab": {
     "base_uri": "https://localhost:8080/",
     "height": 206
    },
    "id": "e2663bb4",
    "outputId": "ccb047cc-1584-42e7-eb16-3acd496b65cb"
   },
   "outputs": [
    {
     "data": {
      "text/html": [
       "\n",
       "  <div id=\"df-8e99dae9-96cd-446d-8121-8fa70a1f364d\">\n",
       "    <div class=\"colab-df-container\">\n",
       "      <div>\n",
       "<style scoped>\n",
       "    .dataframe tbody tr th:only-of-type {\n",
       "        vertical-align: middle;\n",
       "    }\n",
       "\n",
       "    .dataframe tbody tr th {\n",
       "        vertical-align: top;\n",
       "    }\n",
       "\n",
       "    .dataframe thead th {\n",
       "        text-align: right;\n",
       "    }\n",
       "</style>\n",
       "<table border=\"1\" class=\"dataframe\">\n",
       "  <thead>\n",
       "    <tr style=\"text-align: right;\">\n",
       "      <th></th>\n",
       "      <th>StartDate</th>\n",
       "      <th>Value (kWh)</th>\n",
       "      <th>day_of_week</th>\n",
       "      <th>notes</th>\n",
       "    </tr>\n",
       "  </thead>\n",
       "  <tbody>\n",
       "    <tr>\n",
       "      <th>35947</th>\n",
       "      <td>2020-07-07 19:00:00</td>\n",
       "      <td>1.307</td>\n",
       "      <td>1</td>\n",
       "      <td>weekday</td>\n",
       "    </tr>\n",
       "    <tr>\n",
       "      <th>35948</th>\n",
       "      <td>2020-07-07 20:00:00</td>\n",
       "      <td>2.872</td>\n",
       "      <td>1</td>\n",
       "      <td>weekday</td>\n",
       "    </tr>\n",
       "    <tr>\n",
       "      <th>35949</th>\n",
       "      <td>2020-07-07 21:00:00</td>\n",
       "      <td>2.138</td>\n",
       "      <td>1</td>\n",
       "      <td>weekday</td>\n",
       "    </tr>\n",
       "    <tr>\n",
       "      <th>35950</th>\n",
       "      <td>2020-07-07 22:00:00</td>\n",
       "      <td>2.199</td>\n",
       "      <td>1</td>\n",
       "      <td>weekday</td>\n",
       "    </tr>\n",
       "    <tr>\n",
       "      <th>35951</th>\n",
       "      <td>2020-07-07 23:00:00</td>\n",
       "      <td>1.809</td>\n",
       "      <td>1</td>\n",
       "      <td>weekday</td>\n",
       "    </tr>\n",
       "  </tbody>\n",
       "</table>\n",
       "</div>\n",
       "      <button class=\"colab-df-convert\" onclick=\"convertToInteractive('df-8e99dae9-96cd-446d-8121-8fa70a1f364d')\"\n",
       "              title=\"Convert this dataframe to an interactive table.\"\n",
       "              style=\"display:none;\">\n",
       "        \n",
       "  <svg xmlns=\"http://www.w3.org/2000/svg\" height=\"24px\"viewBox=\"0 0 24 24\"\n",
       "       width=\"24px\">\n",
       "    <path d=\"M0 0h24v24H0V0z\" fill=\"none\"/>\n",
       "    <path d=\"M18.56 5.44l.94 2.06.94-2.06 2.06-.94-2.06-.94-.94-2.06-.94 2.06-2.06.94zm-11 1L8.5 8.5l.94-2.06 2.06-.94-2.06-.94L8.5 2.5l-.94 2.06-2.06.94zm10 10l.94 2.06.94-2.06 2.06-.94-2.06-.94-.94-2.06-.94 2.06-2.06.94z\"/><path d=\"M17.41 7.96l-1.37-1.37c-.4-.4-.92-.59-1.43-.59-.52 0-1.04.2-1.43.59L10.3 9.45l-7.72 7.72c-.78.78-.78 2.05 0 2.83L4 21.41c.39.39.9.59 1.41.59.51 0 1.02-.2 1.41-.59l7.78-7.78 2.81-2.81c.8-.78.8-2.07 0-2.86zM5.41 20L4 18.59l7.72-7.72 1.47 1.35L5.41 20z\"/>\n",
       "  </svg>\n",
       "      </button>\n",
       "      \n",
       "  <style>\n",
       "    .colab-df-container {\n",
       "      display:flex;\n",
       "      flex-wrap:wrap;\n",
       "      gap: 12px;\n",
       "    }\n",
       "\n",
       "    .colab-df-convert {\n",
       "      background-color: #E8F0FE;\n",
       "      border: none;\n",
       "      border-radius: 50%;\n",
       "      cursor: pointer;\n",
       "      display: none;\n",
       "      fill: #1967D2;\n",
       "      height: 32px;\n",
       "      padding: 0 0 0 0;\n",
       "      width: 32px;\n",
       "    }\n",
       "\n",
       "    .colab-df-convert:hover {\n",
       "      background-color: #E2EBFA;\n",
       "      box-shadow: 0px 1px 2px rgba(60, 64, 67, 0.3), 0px 1px 3px 1px rgba(60, 64, 67, 0.15);\n",
       "      fill: #174EA6;\n",
       "    }\n",
       "\n",
       "    [theme=dark] .colab-df-convert {\n",
       "      background-color: #3B4455;\n",
       "      fill: #D2E3FC;\n",
       "    }\n",
       "\n",
       "    [theme=dark] .colab-df-convert:hover {\n",
       "      background-color: #434B5C;\n",
       "      box-shadow: 0px 1px 3px 1px rgba(0, 0, 0, 0.15);\n",
       "      filter: drop-shadow(0px 1px 2px rgba(0, 0, 0, 0.3));\n",
       "      fill: #FFFFFF;\n",
       "    }\n",
       "  </style>\n",
       "\n",
       "      <script>\n",
       "        const buttonEl =\n",
       "          document.querySelector('#df-8e99dae9-96cd-446d-8121-8fa70a1f364d button.colab-df-convert');\n",
       "        buttonEl.style.display =\n",
       "          google.colab.kernel.accessAllowed ? 'block' : 'none';\n",
       "\n",
       "        async function convertToInteractive(key) {\n",
       "          const element = document.querySelector('#df-8e99dae9-96cd-446d-8121-8fa70a1f364d');\n",
       "          const dataTable =\n",
       "            await google.colab.kernel.invokeFunction('convertToInteractive',\n",
       "                                                     [key], {});\n",
       "          if (!dataTable) return;\n",
       "\n",
       "          const docLinkHtml = 'Like what you see? Visit the ' +\n",
       "            '<a target=\"_blank\" href=https://colab.research.google.com/notebooks/data_table.ipynb>data table notebook</a>'\n",
       "            + ' to learn more about interactive tables.';\n",
       "          element.innerHTML = '';\n",
       "          dataTable['output_type'] = 'display_data';\n",
       "          await google.colab.output.renderOutput(dataTable, element);\n",
       "          const docLink = document.createElement('div');\n",
       "          docLink.innerHTML = docLinkHtml;\n",
       "          element.appendChild(docLink);\n",
       "        }\n",
       "      </script>\n",
       "    </div>\n",
       "  </div>\n",
       "  "
      ],
      "text/plain": [
       "                 StartDate  Value (kWh)  day_of_week    notes\n",
       "35947  2020-07-07 19:00:00        1.307            1  weekday\n",
       "35948  2020-07-07 20:00:00        2.872            1  weekday\n",
       "35949  2020-07-07 21:00:00        2.138            1  weekday\n",
       "35950  2020-07-07 22:00:00        2.199            1  weekday\n",
       "35951  2020-07-07 23:00:00        1.809            1  weekday"
      ]
     },
     "execution_count": 4,
     "metadata": {},
     "output_type": "execute_result"
    }
   ],
   "source": [
    "df.tail()"
   ]
  },
  {
   "cell_type": "code",
   "execution_count": 5,
   "id": "0482272d",
   "metadata": {
    "colab": {
     "base_uri": "https://localhost:8080/"
    },
    "id": "0482272d",
    "outputId": "4b9df2bb-3de1-4cfd-9c16-b85ec9bd8c17"
   },
   "outputs": [
    {
     "data": {
      "text/plain": [
       "(35952, 4)"
      ]
     },
     "execution_count": 5,
     "metadata": {},
     "output_type": "execute_result"
    }
   ],
   "source": [
    "df.shape"
   ]
  },
  {
   "cell_type": "code",
   "execution_count": 6,
   "id": "076f1ad3",
   "metadata": {
    "colab": {
     "base_uri": "https://localhost:8080/"
    },
    "id": "076f1ad3",
    "outputId": "9f12bf44-da13-4fff-80ce-be177b0986c7"
   },
   "outputs": [
    {
     "name": "stdout",
     "output_type": "stream",
     "text": [
      "<class 'pandas.core.frame.DataFrame'>\n",
      "RangeIndex: 35952 entries, 0 to 35951\n",
      "Data columns (total 4 columns):\n",
      " #   Column       Non-Null Count  Dtype  \n",
      "---  ------       --------------  -----  \n",
      " 0   StartDate    35952 non-null  object \n",
      " 1   Value (kWh)  35952 non-null  float64\n",
      " 2   day_of_week  35952 non-null  int64  \n",
      " 3   notes        35952 non-null  object \n",
      "dtypes: float64(1), int64(1), object(2)\n",
      "memory usage: 1.1+ MB\n"
     ]
    }
   ],
   "source": [
    "df.info()"
   ]
  },
  {
   "cell_type": "code",
   "execution_count": 7,
   "id": "IKYuy6u9oVZN",
   "metadata": {
    "colab": {
     "base_uri": "https://localhost:8080/"
    },
    "id": "IKYuy6u9oVZN",
    "outputId": "e928cb3d-e721-454a-bafc-7d46f01a848e"
   },
   "outputs": [
    {
     "data": {
      "text/plain": [
       "StartDate      0\n",
       "Value (kWh)    0\n",
       "day_of_week    0\n",
       "notes          0\n",
       "dtype: int64"
      ]
     },
     "execution_count": 7,
     "metadata": {},
     "output_type": "execute_result"
    }
   ],
   "source": [
    "df.isnull().sum()"
   ]
  },
  {
   "cell_type": "code",
   "execution_count": 8,
   "id": "93827e39",
   "metadata": {
    "id": "93827e39"
   },
   "outputs": [],
   "source": [
    "time = pd.date_range(start='1/1/2016 00:00:00',periods=35952,freq='H')\n",
    "df['time_stamp'] = pd.DataFrame(time)\n",
    "df.drop(['StartDate','day_of_week','notes'],axis=1,inplace=True)\n",
    "df = df.set_index('time_stamp')"
   ]
  },
  {
   "cell_type": "code",
   "execution_count": 9,
   "id": "S0kNKRMAocKq",
   "metadata": {
    "id": "S0kNKRMAocKq"
   },
   "outputs": [],
   "source": [
    "df.columns=['value']"
   ]
  },
  {
   "cell_type": "code",
   "execution_count": 10,
   "id": "522f2b8e",
   "metadata": {
    "colab": {
     "base_uri": "https://localhost:8080/"
    },
    "id": "522f2b8e",
    "outputId": "347ff85b-bfb5-4b5f-8264-d9a459d32056"
   },
   "outputs": [
    {
     "data": {
      "text/plain": [
       "(35952, 1)"
      ]
     },
     "execution_count": 10,
     "metadata": {},
     "output_type": "execute_result"
    }
   ],
   "source": [
    "df.shape"
   ]
  },
  {
   "cell_type": "code",
   "execution_count": 11,
   "id": "7N0Xc0zT5atx",
   "metadata": {
    "colab": {
     "base_uri": "https://localhost:8080/",
     "height": 238
    },
    "id": "7N0Xc0zT5atx",
    "outputId": "aec58291-6c8f-44a7-80bb-3e572f71bd5c"
   },
   "outputs": [
    {
     "data": {
      "text/html": [
       "\n",
       "  <div id=\"df-fb9de3a7-39d9-43b1-a4e4-9fdc8fce84e2\">\n",
       "    <div class=\"colab-df-container\">\n",
       "      <div>\n",
       "<style scoped>\n",
       "    .dataframe tbody tr th:only-of-type {\n",
       "        vertical-align: middle;\n",
       "    }\n",
       "\n",
       "    .dataframe tbody tr th {\n",
       "        vertical-align: top;\n",
       "    }\n",
       "\n",
       "    .dataframe thead th {\n",
       "        text-align: right;\n",
       "    }\n",
       "</style>\n",
       "<table border=\"1\" class=\"dataframe\">\n",
       "  <thead>\n",
       "    <tr style=\"text-align: right;\">\n",
       "      <th></th>\n",
       "      <th>value</th>\n",
       "    </tr>\n",
       "    <tr>\n",
       "      <th>time_stamp</th>\n",
       "      <th></th>\n",
       "    </tr>\n",
       "  </thead>\n",
       "  <tbody>\n",
       "    <tr>\n",
       "      <th>2016-01-01 00:00:00</th>\n",
       "      <td>1.057</td>\n",
       "    </tr>\n",
       "    <tr>\n",
       "      <th>2016-01-01 01:00:00</th>\n",
       "      <td>1.171</td>\n",
       "    </tr>\n",
       "    <tr>\n",
       "      <th>2016-01-01 02:00:00</th>\n",
       "      <td>0.560</td>\n",
       "    </tr>\n",
       "    <tr>\n",
       "      <th>2016-01-01 03:00:00</th>\n",
       "      <td>0.828</td>\n",
       "    </tr>\n",
       "    <tr>\n",
       "      <th>2016-01-01 04:00:00</th>\n",
       "      <td>0.932</td>\n",
       "    </tr>\n",
       "  </tbody>\n",
       "</table>\n",
       "</div>\n",
       "      <button class=\"colab-df-convert\" onclick=\"convertToInteractive('df-fb9de3a7-39d9-43b1-a4e4-9fdc8fce84e2')\"\n",
       "              title=\"Convert this dataframe to an interactive table.\"\n",
       "              style=\"display:none;\">\n",
       "        \n",
       "  <svg xmlns=\"http://www.w3.org/2000/svg\" height=\"24px\"viewBox=\"0 0 24 24\"\n",
       "       width=\"24px\">\n",
       "    <path d=\"M0 0h24v24H0V0z\" fill=\"none\"/>\n",
       "    <path d=\"M18.56 5.44l.94 2.06.94-2.06 2.06-.94-2.06-.94-.94-2.06-.94 2.06-2.06.94zm-11 1L8.5 8.5l.94-2.06 2.06-.94-2.06-.94L8.5 2.5l-.94 2.06-2.06.94zm10 10l.94 2.06.94-2.06 2.06-.94-2.06-.94-.94-2.06-.94 2.06-2.06.94z\"/><path d=\"M17.41 7.96l-1.37-1.37c-.4-.4-.92-.59-1.43-.59-.52 0-1.04.2-1.43.59L10.3 9.45l-7.72 7.72c-.78.78-.78 2.05 0 2.83L4 21.41c.39.39.9.59 1.41.59.51 0 1.02-.2 1.41-.59l7.78-7.78 2.81-2.81c.8-.78.8-2.07 0-2.86zM5.41 20L4 18.59l7.72-7.72 1.47 1.35L5.41 20z\"/>\n",
       "  </svg>\n",
       "      </button>\n",
       "      \n",
       "  <style>\n",
       "    .colab-df-container {\n",
       "      display:flex;\n",
       "      flex-wrap:wrap;\n",
       "      gap: 12px;\n",
       "    }\n",
       "\n",
       "    .colab-df-convert {\n",
       "      background-color: #E8F0FE;\n",
       "      border: none;\n",
       "      border-radius: 50%;\n",
       "      cursor: pointer;\n",
       "      display: none;\n",
       "      fill: #1967D2;\n",
       "      height: 32px;\n",
       "      padding: 0 0 0 0;\n",
       "      width: 32px;\n",
       "    }\n",
       "\n",
       "    .colab-df-convert:hover {\n",
       "      background-color: #E2EBFA;\n",
       "      box-shadow: 0px 1px 2px rgba(60, 64, 67, 0.3), 0px 1px 3px 1px rgba(60, 64, 67, 0.15);\n",
       "      fill: #174EA6;\n",
       "    }\n",
       "\n",
       "    [theme=dark] .colab-df-convert {\n",
       "      background-color: #3B4455;\n",
       "      fill: #D2E3FC;\n",
       "    }\n",
       "\n",
       "    [theme=dark] .colab-df-convert:hover {\n",
       "      background-color: #434B5C;\n",
       "      box-shadow: 0px 1px 3px 1px rgba(0, 0, 0, 0.15);\n",
       "      filter: drop-shadow(0px 1px 2px rgba(0, 0, 0, 0.3));\n",
       "      fill: #FFFFFF;\n",
       "    }\n",
       "  </style>\n",
       "\n",
       "      <script>\n",
       "        const buttonEl =\n",
       "          document.querySelector('#df-fb9de3a7-39d9-43b1-a4e4-9fdc8fce84e2 button.colab-df-convert');\n",
       "        buttonEl.style.display =\n",
       "          google.colab.kernel.accessAllowed ? 'block' : 'none';\n",
       "\n",
       "        async function convertToInteractive(key) {\n",
       "          const element = document.querySelector('#df-fb9de3a7-39d9-43b1-a4e4-9fdc8fce84e2');\n",
       "          const dataTable =\n",
       "            await google.colab.kernel.invokeFunction('convertToInteractive',\n",
       "                                                     [key], {});\n",
       "          if (!dataTable) return;\n",
       "\n",
       "          const docLinkHtml = 'Like what you see? Visit the ' +\n",
       "            '<a target=\"_blank\" href=https://colab.research.google.com/notebooks/data_table.ipynb>data table notebook</a>'\n",
       "            + ' to learn more about interactive tables.';\n",
       "          element.innerHTML = '';\n",
       "          dataTable['output_type'] = 'display_data';\n",
       "          await google.colab.output.renderOutput(dataTable, element);\n",
       "          const docLink = document.createElement('div');\n",
       "          docLink.innerHTML = docLinkHtml;\n",
       "          element.appendChild(docLink);\n",
       "        }\n",
       "      </script>\n",
       "    </div>\n",
       "  </div>\n",
       "  "
      ],
      "text/plain": [
       "                     value\n",
       "time_stamp                \n",
       "2016-01-01 00:00:00  1.057\n",
       "2016-01-01 01:00:00  1.171\n",
       "2016-01-01 02:00:00  0.560\n",
       "2016-01-01 03:00:00  0.828\n",
       "2016-01-01 04:00:00  0.932"
      ]
     },
     "execution_count": 11,
     "metadata": {},
     "output_type": "execute_result"
    }
   ],
   "source": [
    "df.head()"
   ]
  },
  {
   "cell_type": "code",
   "execution_count": 12,
   "id": "THAXxSe75axW",
   "metadata": {
    "colab": {
     "base_uri": "https://localhost:8080/",
     "height": 238
    },
    "id": "THAXxSe75axW",
    "outputId": "7a69e06b-72ae-4497-fa40-27cf053e1a1d"
   },
   "outputs": [
    {
     "data": {
      "text/html": [
       "\n",
       "  <div id=\"df-02bb702f-caf5-4f3e-b388-086bf7f548fe\">\n",
       "    <div class=\"colab-df-container\">\n",
       "      <div>\n",
       "<style scoped>\n",
       "    .dataframe tbody tr th:only-of-type {\n",
       "        vertical-align: middle;\n",
       "    }\n",
       "\n",
       "    .dataframe tbody tr th {\n",
       "        vertical-align: top;\n",
       "    }\n",
       "\n",
       "    .dataframe thead th {\n",
       "        text-align: right;\n",
       "    }\n",
       "</style>\n",
       "<table border=\"1\" class=\"dataframe\">\n",
       "  <thead>\n",
       "    <tr style=\"text-align: right;\">\n",
       "      <th></th>\n",
       "      <th>value</th>\n",
       "    </tr>\n",
       "    <tr>\n",
       "      <th>time_stamp</th>\n",
       "      <th></th>\n",
       "    </tr>\n",
       "  </thead>\n",
       "  <tbody>\n",
       "    <tr>\n",
       "      <th>2020-02-06 19:00:00</th>\n",
       "      <td>1.307</td>\n",
       "    </tr>\n",
       "    <tr>\n",
       "      <th>2020-02-06 20:00:00</th>\n",
       "      <td>2.872</td>\n",
       "    </tr>\n",
       "    <tr>\n",
       "      <th>2020-02-06 21:00:00</th>\n",
       "      <td>2.138</td>\n",
       "    </tr>\n",
       "    <tr>\n",
       "      <th>2020-02-06 22:00:00</th>\n",
       "      <td>2.199</td>\n",
       "    </tr>\n",
       "    <tr>\n",
       "      <th>2020-02-06 23:00:00</th>\n",
       "      <td>1.809</td>\n",
       "    </tr>\n",
       "  </tbody>\n",
       "</table>\n",
       "</div>\n",
       "      <button class=\"colab-df-convert\" onclick=\"convertToInteractive('df-02bb702f-caf5-4f3e-b388-086bf7f548fe')\"\n",
       "              title=\"Convert this dataframe to an interactive table.\"\n",
       "              style=\"display:none;\">\n",
       "        \n",
       "  <svg xmlns=\"http://www.w3.org/2000/svg\" height=\"24px\"viewBox=\"0 0 24 24\"\n",
       "       width=\"24px\">\n",
       "    <path d=\"M0 0h24v24H0V0z\" fill=\"none\"/>\n",
       "    <path d=\"M18.56 5.44l.94 2.06.94-2.06 2.06-.94-2.06-.94-.94-2.06-.94 2.06-2.06.94zm-11 1L8.5 8.5l.94-2.06 2.06-.94-2.06-.94L8.5 2.5l-.94 2.06-2.06.94zm10 10l.94 2.06.94-2.06 2.06-.94-2.06-.94-.94-2.06-.94 2.06-2.06.94z\"/><path d=\"M17.41 7.96l-1.37-1.37c-.4-.4-.92-.59-1.43-.59-.52 0-1.04.2-1.43.59L10.3 9.45l-7.72 7.72c-.78.78-.78 2.05 0 2.83L4 21.41c.39.39.9.59 1.41.59.51 0 1.02-.2 1.41-.59l7.78-7.78 2.81-2.81c.8-.78.8-2.07 0-2.86zM5.41 20L4 18.59l7.72-7.72 1.47 1.35L5.41 20z\"/>\n",
       "  </svg>\n",
       "      </button>\n",
       "      \n",
       "  <style>\n",
       "    .colab-df-container {\n",
       "      display:flex;\n",
       "      flex-wrap:wrap;\n",
       "      gap: 12px;\n",
       "    }\n",
       "\n",
       "    .colab-df-convert {\n",
       "      background-color: #E8F0FE;\n",
       "      border: none;\n",
       "      border-radius: 50%;\n",
       "      cursor: pointer;\n",
       "      display: none;\n",
       "      fill: #1967D2;\n",
       "      height: 32px;\n",
       "      padding: 0 0 0 0;\n",
       "      width: 32px;\n",
       "    }\n",
       "\n",
       "    .colab-df-convert:hover {\n",
       "      background-color: #E2EBFA;\n",
       "      box-shadow: 0px 1px 2px rgba(60, 64, 67, 0.3), 0px 1px 3px 1px rgba(60, 64, 67, 0.15);\n",
       "      fill: #174EA6;\n",
       "    }\n",
       "\n",
       "    [theme=dark] .colab-df-convert {\n",
       "      background-color: #3B4455;\n",
       "      fill: #D2E3FC;\n",
       "    }\n",
       "\n",
       "    [theme=dark] .colab-df-convert:hover {\n",
       "      background-color: #434B5C;\n",
       "      box-shadow: 0px 1px 3px 1px rgba(0, 0, 0, 0.15);\n",
       "      filter: drop-shadow(0px 1px 2px rgba(0, 0, 0, 0.3));\n",
       "      fill: #FFFFFF;\n",
       "    }\n",
       "  </style>\n",
       "\n",
       "      <script>\n",
       "        const buttonEl =\n",
       "          document.querySelector('#df-02bb702f-caf5-4f3e-b388-086bf7f548fe button.colab-df-convert');\n",
       "        buttonEl.style.display =\n",
       "          google.colab.kernel.accessAllowed ? 'block' : 'none';\n",
       "\n",
       "        async function convertToInteractive(key) {\n",
       "          const element = document.querySelector('#df-02bb702f-caf5-4f3e-b388-086bf7f548fe');\n",
       "          const dataTable =\n",
       "            await google.colab.kernel.invokeFunction('convertToInteractive',\n",
       "                                                     [key], {});\n",
       "          if (!dataTable) return;\n",
       "\n",
       "          const docLinkHtml = 'Like what you see? Visit the ' +\n",
       "            '<a target=\"_blank\" href=https://colab.research.google.com/notebooks/data_table.ipynb>data table notebook</a>'\n",
       "            + ' to learn more about interactive tables.';\n",
       "          element.innerHTML = '';\n",
       "          dataTable['output_type'] = 'display_data';\n",
       "          await google.colab.output.renderOutput(dataTable, element);\n",
       "          const docLink = document.createElement('div');\n",
       "          docLink.innerHTML = docLinkHtml;\n",
       "          element.appendChild(docLink);\n",
       "        }\n",
       "      </script>\n",
       "    </div>\n",
       "  </div>\n",
       "  "
      ],
      "text/plain": [
       "                     value\n",
       "time_stamp                \n",
       "2020-02-06 19:00:00  1.307\n",
       "2020-02-06 20:00:00  2.872\n",
       "2020-02-06 21:00:00  2.138\n",
       "2020-02-06 22:00:00  2.199\n",
       "2020-02-06 23:00:00  1.809"
      ]
     },
     "execution_count": 12,
     "metadata": {},
     "output_type": "execute_result"
    }
   ],
   "source": [
    "df.tail()"
   ]
  },
  {
   "cell_type": "code",
   "execution_count": 13,
   "id": "bQk15MFgouDq",
   "metadata": {
    "id": "bQk15MFgouDq"
   },
   "outputs": [],
   "source": [
    "plt.rcParams['figure.figsize'] = [15,8]"
   ]
  },
  {
   "cell_type": "code",
   "execution_count": 14,
   "id": "3b098ae2",
   "metadata": {
    "colab": {
     "base_uri": "https://localhost:8080/",
     "height": 523
    },
    "id": "3b098ae2",
    "outputId": "4c43fa4a-dcbd-4e74-d6d9-511e0bc94a09"
   },
   "outputs": [
    {
     "data": {
      "image/png": "[encoded data removed]",
      "text/plain": [
       "<Figure size 1080x576 with 1 Axes>"
      ]
     },
     "metadata": {
      "needs_background": "light"
     },
     "output_type": "display_data"
    }
   ],
   "source": [
    "plt.plot(df,color='blue')\n",
    "plt.title('Hourly Residential Power Usage',fontsize=20)\n",
    "plt.xlabel('Date',fontsize=15)\n",
    "plt.ylabel('Units',fontsize=15)\n",
    "plt.show()"
   ]
  },
  {
   "cell_type": "code",
   "execution_count": 15,
   "id": "bf59d3e0",
   "metadata": {
    "id": "bf59d3e0"
   },
   "outputs": [],
   "source": [
    "def convert2matrix(data_arr, look_back):\n",
    "    X, Y =[], []\n",
    "    for i in range(len(data_arr)-look_back):\n",
    "        d=i+look_back  \n",
    "        X.append(data_arr[i:d,0])\n",
    "        Y.append(data_arr[d,0])\n",
    "    return np.array(X), np.array(Y)"
   ]
  },
  {
   "cell_type": "code",
   "execution_count": 16,
   "id": "46b24adc",
   "metadata": {
    "id": "46b24adc"
   },
   "outputs": [],
   "source": [
    "from sklearn.preprocessing import MinMaxScaler\n",
    "#create numpy.ndarray \n",
    "df['value'] = df['value'].astype(np.float32)\n",
    "df_arr = df.values\n",
    "df_arr = np.reshape(df_arr, (-1, 1))\n",
    "scaler = MinMaxScaler(feature_range=(0.1, 1))\n",
    "df_arr = scaler.fit_transform(df_arr)"
   ]
  },
  {
   "cell_type": "code",
   "execution_count": 38,
   "id": "1cea6c5f",
   "metadata": {
    "id": "1cea6c5f"
   },
   "outputs": [],
   "source": [
    "#Split data set into testing dataset and train dataset\n",
    "train_size = 32000\n",
    "train, test =df_arr[0:train_size,:], df_arr[train_size:len(df_arr),:]\n",
    "# setup look_back window \n",
    "look_back = 23\n",
    "#convert dataset into right shape in order to input into the DNN\n",
    "trainX, trainY = convert2matrix(train, look_back)\n",
    "testX, testY = convert2matrix(test, look_back)\n",
    "trainX = np.reshape(trainX, (trainX.shape[0], 1, trainX.shape[1]))\n",
    "testX = np.reshape(testX, (testX.shape[0], 1, testX.shape[1]))"
   ]
  },
  {
   "cell_type": "code",
   "execution_count": 18,
   "id": "c7d46c39",
   "metadata": {
    "colab": {
     "base_uri": "https://localhost:8080/"
    },
    "id": "c7d46c39",
    "outputId": "afb45b4c-a554-4f22-a606-6f36bf1bdedd"
   },
   "outputs": [
    {
     "name": "stdout",
     "output_type": "stream",
     "text": [
      "(31977, 1, 23)\n",
      "(31977,)\n",
      "(3929, 1, 23)\n",
      "(3929,)\n"
     ]
    }
   ],
   "source": [
    "print(trainX.shape)\n",
    "print(trainY.shape)\n",
    "print(testX.shape)\n",
    "print(testY.shape)"
   ]
  },
  {
   "cell_type": "code",
   "execution_count": 19,
   "id": "GIc1nRcCuP3G",
   "metadata": {
    "colab": {
     "base_uri": "https://localhost:8080/"
    },
    "id": "GIc1nRcCuP3G",
    "outputId": "ac900877-406d-4155-f711-85d1242593e8"
   },
   "outputs": [
    {
     "name": "stdout",
     "output_type": "stream",
     "text": [
      "\u001b[?25l\r",
      "\u001b[K     |██▌                             | 10 kB 20.4 MB/s eta 0:00:01\r",
      "\u001b[K     |█████                           | 20 kB 23.7 MB/s eta 0:00:01\r",
      "\u001b[K     |███████▍                        | 30 kB 29.0 MB/s eta 0:00:01\r",
      "\u001b[K     |█████████▉                      | 40 kB 22.9 MB/s eta 0:00:01\r",
      "\u001b[K     |████████████▎                   | 51 kB 7.8 MB/s eta 0:00:01\r",
      "\u001b[K     |██████████████▊                 | 61 kB 9.2 MB/s eta 0:00:01\r",
      "\u001b[K     |█████████████████▏              | 71 kB 9.6 MB/s eta 0:00:01\r",
      "\u001b[K     |███████████████████▋            | 81 kB 10.7 MB/s eta 0:00:01\r",
      "\u001b[K     |██████████████████████          | 92 kB 11.7 MB/s eta 0:00:01\r",
      "\u001b[K     |████████████████████████▌       | 102 kB 10.2 MB/s eta 0:00:01\r",
      "\u001b[K     |███████████████████████████     | 112 kB 10.2 MB/s eta 0:00:01\r",
      "\u001b[K     |█████████████████████████████▍  | 122 kB 10.2 MB/s eta 0:00:01\r",
      "\u001b[K     |███████████████████████████████▉| 133 kB 10.2 MB/s eta 0:00:01\r",
      "\u001b[K     |████████████████████████████████| 133 kB 10.2 MB/s \n",
      "\u001b[?25h"
     ]
    }
   ],
   "source": [
    "!pip install -q -U keras-tuner"
   ]
  },
  {
   "cell_type": "code",
   "execution_count": 20,
   "id": "M5te5ih0uP6u",
   "metadata": {
    "id": "M5te5ih0uP6u"
   },
   "outputs": [],
   "source": [
    "import pandas as pd\n",
    "from tensorflow import keras\n",
    "from tensorflow.keras import layers\n",
    "from keras_tuner.tuners import RandomSearch\n",
    "from tensorflow.keras.models import Sequential\n",
    "from tensorflow.keras.layers import LSTM\n",
    "from tensorflow.keras.layers import Dense,Dropout\n",
    "from tensorflow.keras.layers import Flatten\n",
    "import matplotlib.pyplot as plt"
   ]
  },
  {
   "cell_type": "code",
   "execution_count": null,
   "id": "rYiJC5hXuP_e",
   "metadata": {
    "id": "rYiJC5hXuP_e"
   },
   "outputs": [],
   "source": [
    "def build_model(hp):\n",
    "    model = keras.Sequential()\n",
    "    model.add(LSTM(hp.Int('lstm_layer',min_value=8,max_value=128,step=8), activation=\"relu\", input_shape=(1,look_back),recurrent_dropout = hp.Choice(\"first_recurrent_dropout\",[0.2,0.4,0.6],default=0.2)))\n",
    "    model.add(Dense(hp.Int('dense_layer_1',min_value=8,max_value=128,step=8),activation=\"relu\"))\n",
    "    model.add(Dropout(hp.Float('Dropout_rate',min_value=0,max_value=0.5,step=0.1)))\n",
    "    model.add(layers.Dense(1, activation='linear'))\n",
    "    model.compile(\n",
    "        optimizer=keras.optimizers.Adam(\n",
    "             hp.Float('learning_rate', min_value=1e-4, max_value=1e-1, sampling=\"log\")),\n",
    "        loss='mape',\n",
    "        metrics=['mape'])\n",
    "    return model"
   ]
  },
  {
   "cell_type": "code",
   "execution_count": null,
   "id": "2h_gRerjuQCT",
   "metadata": {
    "id": "2h_gRerjuQCT"
   },
   "outputs": [],
   "source": [
    "tuner = RandomSearch(\n",
    "    build_model,\n",
    "    objective='val_mape',\n",
    "    max_trials=10,\n",
    "    executions_per_trial=1,\n",
    "    directory='project',\n",
    "    project_name='resident_consum_2')"
   ]
  },
  {
   "cell_type": "code",
   "execution_count": null,
   "id": "Dg5AHN3guQFu",
   "metadata": {
    "colab": {
     "base_uri": "https://localhost:8080/"
    },
    "id": "Dg5AHN3guQFu",
    "outputId": "fa70260b-afc5-4fc7-b9b5-7ddb6c6e0913"
   },
   "outputs": [
    {
     "name": "stdout",
     "output_type": "stream",
     "text": [
      "Search space summary\n",
      "Default search space size: 5\n",
      "lstm_layer (Int)\n",
      "{'default': None, 'conditions': [], 'min_value': 8, 'max_value': 128, 'step': 8, 'sampling': None}\n",
      "first_recurrent_dropout (Choice)\n",
      "{'default': 0.2, 'conditions': [], 'values': [0.2, 0.4, 0.6], 'ordered': True}\n",
      "dense_layer_1 (Int)\n",
      "{'default': None, 'conditions': [], 'min_value': 8, 'max_value': 128, 'step': 8, 'sampling': None}\n",
      "Dropout_rate (Float)\n",
      "{'default': 0.0, 'conditions': [], 'min_value': 0.0, 'max_value': 0.5, 'step': 0.1, 'sampling': None}\n",
      "learning_rate (Float)\n",
      "{'default': 0.0001, 'conditions': [], 'min_value': 0.0001, 'max_value': 0.1, 'step': None, 'sampling': 'log'}\n"
     ]
    }
   ],
   "source": [
    "tuner.search_space_summary()"
   ]
  },
  {
   "cell_type": "code",
   "execution_count": null,
   "id": "TiBXdF0K8Gpr",
   "metadata": {
    "colab": {
     "base_uri": "https://localhost:8080/"
    },
    "id": "TiBXdF0K8Gpr",
    "outputId": "49579b24-e3ff-40bc-d4bb-15c460b0d313"
   },
   "outputs": [
    {
     "name": "stdout",
     "output_type": "stream",
     "text": [
      "Trial 10 Complete [00h 04m 24s]\n",
      "val_mape: 18.95372200012207\n",
      "\n",
      "Best val_mape So Far: 18.64246940612793\n",
      "Total elapsed time: 00h 36m 13s\n",
      "INFO:tensorflow:Oracle triggered exit\n"
     ]
    }
   ],
   "source": [
    "tuner.search(trainX, trainY,\n",
    "             epochs=200,\n",
    "             batch_size=36,\n",
    "             validation_data=(testX, testY))"
   ]
  },
  {
   "cell_type": "code",
   "execution_count": null,
   "id": "VXXGH_RK8GsD",
   "metadata": {
    "colab": {
     "base_uri": "https://localhost:8080/"
    },
    "id": "VXXGH_RK8GsD",
    "outputId": "07e7c6e5-2906-4ae7-deb2-5708a22f408c"
   },
   "outputs": [
    {
     "name": "stdout",
     "output_type": "stream",
     "text": [
      "Results summary\n",
      "Results in project/resident_consum_2\n",
      "Showing 10 best trials\n",
      "Objective(name='val_mape', direction='min')\n",
      "Trial summary\n",
      "Hyperparameters:\n",
      "lstm_layer: 72\n",
      "first_recurrent_dropout: 0.4\n",
      "dense_layer_1: 128\n",
      "Dropout_rate: 0.30000000000000004\n",
      "learning_rate: 0.0012525191047985907\n",
      "Score: 18.64246940612793\n",
      "Trial summary\n",
      "Hyperparameters:\n",
      "lstm_layer: 48\n",
      "first_recurrent_dropout: 0.4\n",
      "dense_layer_1: 104\n",
      "Dropout_rate: 0.30000000000000004\n",
      "learning_rate: 0.0010244242859496276\n",
      "Score: 18.715389251708984\n",
      "Trial summary\n",
      "Hyperparameters:\n",
      "lstm_layer: 64\n",
      "first_recurrent_dropout: 0.6\n",
      "dense_layer_1: 48\n",
      "Dropout_rate: 0.4\n",
      "learning_rate: 0.01091885407324276\n",
      "Score: 18.95372200012207\n",
      "Trial summary\n",
      "Hyperparameters:\n",
      "lstm_layer: 64\n",
      "first_recurrent_dropout: 0.4\n",
      "dense_layer_1: 80\n",
      "Dropout_rate: 0.4\n",
      "learning_rate: 0.005894468395199699\n",
      "Score: 18.957490921020508\n",
      "Trial summary\n",
      "Hyperparameters:\n",
      "lstm_layer: 40\n",
      "first_recurrent_dropout: 0.4\n",
      "dense_layer_1: 64\n",
      "Dropout_rate: 0.2\n",
      "learning_rate: 0.0068852328221466015\n",
      "Score: 18.987632751464844\n",
      "Trial summary\n",
      "Hyperparameters:\n",
      "lstm_layer: 24\n",
      "first_recurrent_dropout: 0.4\n",
      "dense_layer_1: 112\n",
      "Dropout_rate: 0.4\n",
      "learning_rate: 0.0006798138705985687\n",
      "Score: 19.030540466308594\n",
      "Trial summary\n",
      "Hyperparameters:\n",
      "lstm_layer: 48\n",
      "first_recurrent_dropout: 0.4\n",
      "dense_layer_1: 32\n",
      "Dropout_rate: 0.4\n",
      "learning_rate: 0.00018196615119335302\n",
      "Score: 19.110193252563477\n",
      "Trial summary\n",
      "Hyperparameters:\n",
      "lstm_layer: 8\n",
      "first_recurrent_dropout: 0.4\n",
      "dense_layer_1: 48\n",
      "Dropout_rate: 0.5\n",
      "learning_rate: 0.00031540036686090664\n",
      "Score: 19.164453506469727\n",
      "Trial summary\n",
      "Hyperparameters:\n",
      "lstm_layer: 32\n",
      "first_recurrent_dropout: 0.6\n",
      "dense_layer_1: 16\n",
      "Dropout_rate: 0.0\n",
      "learning_rate: 0.00012544547330964388\n",
      "Score: 19.267126083374023\n",
      "Trial summary\n",
      "Hyperparameters:\n",
      "lstm_layer: 16\n",
      "first_recurrent_dropout: 0.4\n",
      "dense_layer_1: 104\n",
      "Dropout_rate: 0.4\n",
      "learning_rate: 0.0503534378068103\n",
      "Score: 38.42567825317383\n"
     ]
    }
   ],
   "source": [
    "tuner.results_summary()"
   ]
  },
  {
   "cell_type": "code",
   "execution_count": null,
   "id": "FBpLenJ_DZMX",
   "metadata": {
    "id": "FBpLenJ_DZMX"
   },
   "outputs": [],
   "source": [
    "from warnings import filterwarnings\n",
    "filterwarnings('ignore')"
   ]
  },
  {
   "cell_type": "code",
   "execution_count": null,
   "id": "eL-a8rAv8Gvg",
   "metadata": {
    "colab": {
     "base_uri": "https://localhost:8080/"
    },
    "id": "eL-a8rAv8Gvg",
    "outputId": "647df7ef-9757-457a-ba4b-77c817ebb85b"
   },
   "outputs": [
    {
     "name": "stdout",
     "output_type": "stream",
     "text": [
      "Model: \"sequential\"\n",
      "_________________________________________________________________\n",
      " Layer (type)                Output Shape              Param #   \n",
      "=================================================================\n",
      " lstm (LSTM)                 (None, 72)                27648     \n",
      "                                                                 \n",
      " dense (Dense)               (None, 128)               9344      \n",
      "                                                                 \n",
      " dropout (Dropout)           (None, 128)               0         \n",
      "                                                                 \n",
      " dense_1 (Dense)             (None, 1)                 129       \n",
      "                                                                 \n",
      "=================================================================\n",
      "Total params: 37,121\n",
      "Trainable params: 37,121\n",
      "Non-trainable params: 0\n",
      "_________________________________________________________________\n"
     ]
    }
   ],
   "source": [
    "models = tuner.get_best_models(num_models=2)\n",
    "best_model = models[0]\n",
    "# Build the model.\n",
    "# Needed for `Sequential` without specified `input_shape`.\n",
    "best_model.build(input_shape=(None, 24))\n",
    "best_model.summary()"
   ]
  },
  {
   "cell_type": "code",
   "execution_count": 21,
   "id": "ovKDjDHZEmLV",
   "metadata": {
    "id": "ovKDjDHZEmLV"
   },
   "outputs": [],
   "source": [
    "from tensorflow.keras import optimizers\n",
    "from tensorflow.keras.layers import LeakyReLU, BatchNormalization, Bidirectional"
   ]
  },
  {
   "cell_type": "code",
   "execution_count": 39,
   "id": "0e187ddc",
   "metadata": {
    "colab": {
     "base_uri": "https://localhost:8080/"
    },
    "id": "0e187ddc",
    "outputId": "b4d59226-030f-405d-a9f3-fe620351b894"
   },
   "outputs": [
    {
     "name": "stdout",
     "output_type": "stream",
     "text": [
      "Epoch 1/200\n",
      "889/889 [==============================] - 9s 5ms/step - loss: 94.5955 - mape: 94.5955 - val_loss: 86.7278 - val_mape: 86.7278\n",
      "Epoch 2/200\n",
      "889/889 [==============================] - 3s 4ms/step - loss: 74.3922 - mape: 74.3922 - val_loss: 60.6474 - val_mape: 60.6474\n",
      "Epoch 3/200\n",
      "889/889 [==============================] - 4s 4ms/step - loss: 43.8479 - mape: 43.8479 - val_loss: 28.6632 - val_mape: 28.6632\n",
      "Epoch 4/200\n",
      "889/889 [==============================] - 4s 4ms/step - loss: 24.5937 - mape: 24.5937 - val_loss: 19.2409 - val_mape: 19.2409\n",
      "Epoch 5/200\n",
      "889/889 [==============================] - 3s 4ms/step - loss: 22.3763 - mape: 22.3763 - val_loss: 18.4771 - val_mape: 18.4771\n",
      "Epoch 6/200\n",
      "889/889 [==============================] - 4s 4ms/step - loss: 21.4378 - mape: 21.4378 - val_loss: 17.8800 - val_mape: 17.8800\n",
      "Epoch 7/200\n",
      "889/889 [==============================] - 4s 4ms/step - loss: 20.4739 - mape: 20.4739 - val_loss: 17.4344 - val_mape: 17.4344\n",
      "Epoch 8/200\n",
      "889/889 [==============================] - 4s 4ms/step - loss: 19.5768 - mape: 19.5768 - val_loss: 16.8342 - val_mape: 16.8342\n",
      "Epoch 9/200\n",
      "889/889 [==============================] - 4s 4ms/step - loss: 18.8150 - mape: 18.8150 - val_loss: 16.4353 - val_mape: 16.4353\n",
      "Epoch 10/200\n",
      "889/889 [==============================] - 4s 4ms/step - loss: 18.2496 - mape: 18.2496 - val_loss: 16.1432 - val_mape: 16.1432\n",
      "Epoch 11/200\n",
      "889/889 [==============================] - 3s 4ms/step - loss: 17.8906 - mape: 17.8906 - val_loss: 15.9041 - val_mape: 15.9041\n",
      "Epoch 12/200\n",
      "889/889 [==============================] - 4s 4ms/step - loss: 17.6013 - mape: 17.6013 - val_loss: 15.7170 - val_mape: 15.7170\n",
      "Epoch 13/200\n",
      "889/889 [==============================] - 3s 4ms/step - loss: 17.3437 - mape: 17.3437 - val_loss: 15.5681 - val_mape: 15.5681\n",
      "Epoch 14/200\n",
      "889/889 [==============================] - 4s 4ms/step - loss: 17.1065 - mape: 17.1065 - val_loss: 15.4332 - val_mape: 15.4332\n",
      "Epoch 15/200\n",
      "889/889 [==============================] - 4s 4ms/step - loss: 16.8768 - mape: 16.8768 - val_loss: 15.2016 - val_mape: 15.2016\n",
      "Epoch 16/200\n",
      "889/889 [==============================] - 3s 4ms/step - loss: 16.6326 - mape: 16.6326 - val_loss: 15.0708 - val_mape: 15.0708\n",
      "Epoch 17/200\n",
      "889/889 [==============================] - 3s 4ms/step - loss: 16.4163 - mape: 16.4163 - val_loss: 14.8883 - val_mape: 14.8883\n",
      "Epoch 18/200\n",
      "889/889 [==============================] - 3s 4ms/step - loss: 16.2301 - mape: 16.2301 - val_loss: 14.7849 - val_mape: 14.7849\n",
      "Epoch 19/200\n",
      "889/889 [==============================] - 4s 5ms/step - loss: 16.0649 - mape: 16.0649 - val_loss: 14.6805 - val_mape: 14.6805\n",
      "Epoch 20/200\n",
      "889/889 [==============================] - 4s 5ms/step - loss: 15.9104 - mape: 15.9104 - val_loss: 14.5862 - val_mape: 14.5862\n",
      "Epoch 21/200\n",
      "889/889 [==============================] - 3s 4ms/step - loss: 15.7709 - mape: 15.7709 - val_loss: 14.5084 - val_mape: 14.5084\n",
      "Epoch 22/200\n",
      "889/889 [==============================] - 4s 4ms/step - loss: 15.6428 - mape: 15.6428 - val_loss: 14.3995 - val_mape: 14.3995\n",
      "Epoch 23/200\n",
      "889/889 [==============================] - 4s 4ms/step - loss: 15.5222 - mape: 15.5222 - val_loss: 14.2965 - val_mape: 14.2965\n",
      "Epoch 24/200\n",
      "889/889 [==============================] - 4s 4ms/step - loss: 15.4072 - mape: 15.4072 - val_loss: 14.1830 - val_mape: 14.1830\n",
      "Epoch 25/200\n",
      "889/889 [==============================] - 4s 4ms/step - loss: 15.2943 - mape: 15.2943 - val_loss: 14.2463 - val_mape: 14.2463\n",
      "Epoch 26/200\n",
      "889/889 [==============================] - 4s 4ms/step - loss: 15.1871 - mape: 15.1871 - val_loss: 14.1001 - val_mape: 14.1001\n",
      "Epoch 27/200\n",
      "889/889 [==============================] - 4s 4ms/step - loss: 15.0811 - mape: 15.0811 - val_loss: 13.9575 - val_mape: 13.9575\n",
      "Epoch 28/200\n",
      "889/889 [==============================] - 4s 4ms/step - loss: 14.9874 - mape: 14.9874 - val_loss: 13.8824 - val_mape: 13.8824\n",
      "Epoch 29/200\n",
      "889/889 [==============================] - 3s 4ms/step - loss: 14.9015 - mape: 14.9015 - val_loss: 13.8227 - val_mape: 13.8227\n",
      "Epoch 30/200\n",
      "889/889 [==============================] - 3s 4ms/step - loss: 14.8255 - mape: 14.8255 - val_loss: 13.8002 - val_mape: 13.8002\n",
      "Epoch 31/200\n",
      "889/889 [==============================] - 4s 4ms/step - loss: 14.7550 - mape: 14.7550 - val_loss: 13.6990 - val_mape: 13.6990\n",
      "Epoch 32/200\n",
      "889/889 [==============================] - 4s 4ms/step - loss: 14.6928 - mape: 14.6928 - val_loss: 13.7066 - val_mape: 13.7066\n",
      "Epoch 33/200\n",
      "889/889 [==============================] - 4s 4ms/step - loss: 14.6347 - mape: 14.6347 - val_loss: 13.6710 - val_mape: 13.6710\n",
      "Epoch 34/200\n",
      "889/889 [==============================] - 4s 4ms/step - loss: 14.5804 - mape: 14.5804 - val_loss: 13.5750 - val_mape: 13.5750\n",
      "Epoch 35/200\n",
      "889/889 [==============================] - 4s 4ms/step - loss: 14.5316 - mape: 14.5316 - val_loss: 13.5618 - val_mape: 13.5618\n",
      "Epoch 36/200\n",
      "889/889 [==============================] - 4s 4ms/step - loss: 14.4853 - mape: 14.4853 - val_loss: 13.4967 - val_mape: 13.4967\n",
      "Epoch 37/200\n",
      "889/889 [==============================] - 4s 4ms/step - loss: 14.4444 - mape: 14.4444 - val_loss: 13.4802 - val_mape: 13.4802\n",
      "Epoch 38/200\n",
      "889/889 [==============================] - 4s 4ms/step - loss: 14.4049 - mape: 14.4049 - val_loss: 13.4460 - val_mape: 13.4460\n",
      "Epoch 39/200\n",
      "889/889 [==============================] - 4s 4ms/step - loss: 14.3671 - mape: 14.3671 - val_loss: 13.4239 - val_mape: 13.4239\n",
      "Epoch 40/200\n",
      "889/889 [==============================] - 4s 4ms/step - loss: 14.3291 - mape: 14.3291 - val_loss: 13.3653 - val_mape: 13.3653\n",
      "Epoch 41/200\n",
      "889/889 [==============================] - 4s 4ms/step - loss: 14.2986 - mape: 14.2986 - val_loss: 13.3751 - val_mape: 13.3751\n",
      "Epoch 42/200\n",
      "889/889 [==============================] - 3s 4ms/step - loss: 14.2644 - mape: 14.2644 - val_loss: 13.3595 - val_mape: 13.3595\n",
      "Epoch 43/200\n",
      "889/889 [==============================] - 4s 4ms/step - loss: 14.2349 - mape: 14.2349 - val_loss: 13.3677 - val_mape: 13.3677\n",
      "Epoch 44/200\n",
      "889/889 [==============================] - 4s 4ms/step - loss: 14.2038 - mape: 14.2038 - val_loss: 13.3065 - val_mape: 13.3065\n",
      "Epoch 45/200\n",
      "889/889 [==============================] - 4s 4ms/step - loss: 14.1746 - mape: 14.1746 - val_loss: 13.2137 - val_mape: 13.2137\n",
      "Epoch 46/200\n",
      "889/889 [==============================] - 4s 4ms/step - loss: 14.1505 - mape: 14.1505 - val_loss: 13.2292 - val_mape: 13.2292\n",
      "Epoch 47/200\n",
      "889/889 [==============================] - 4s 4ms/step - loss: 14.1232 - mape: 14.1232 - val_loss: 13.2599 - val_mape: 13.2599\n",
      "Epoch 48/200\n",
      "889/889 [==============================] - 4s 4ms/step - loss: 14.0985 - mape: 14.0985 - val_loss: 13.1610 - val_mape: 13.1610\n",
      "Epoch 49/200\n",
      "889/889 [==============================] - 4s 4ms/step - loss: 14.0772 - mape: 14.0772 - val_loss: 13.2117 - val_mape: 13.2117\n",
      "Epoch 50/200\n",
      "889/889 [==============================] - 4s 4ms/step - loss: 14.0524 - mape: 14.0524 - val_loss: 13.1302 - val_mape: 13.1302\n",
      "Epoch 51/200\n",
      "889/889 [==============================] - 3s 4ms/step - loss: 14.0332 - mape: 14.0332 - val_loss: 13.1696 - val_mape: 13.1696\n",
      "Epoch 52/200\n",
      "889/889 [==============================] - 3s 4ms/step - loss: 14.0118 - mape: 14.0118 - val_loss: 13.1278 - val_mape: 13.1278\n",
      "Epoch 53/200\n",
      "889/889 [==============================] - 4s 4ms/step - loss: 13.9917 - mape: 13.9917 - val_loss: 13.1500 - val_mape: 13.1500\n",
      "Epoch 54/200\n",
      "889/889 [==============================] - 4s 4ms/step - loss: 13.9712 - mape: 13.9712 - val_loss: 13.1585 - val_mape: 13.1585\n",
      "Epoch 55/200\n",
      "889/889 [==============================] - 4s 4ms/step - loss: 13.9519 - mape: 13.9519 - val_loss: 13.0454 - val_mape: 13.0454\n",
      "Epoch 56/200\n",
      "889/889 [==============================] - 3s 4ms/step - loss: 13.9371 - mape: 13.9371 - val_loss: 13.0719 - val_mape: 13.0719\n",
      "Epoch 57/200\n",
      "889/889 [==============================] - 3s 4ms/step - loss: 13.9160 - mape: 13.9160 - val_loss: 13.1080 - val_mape: 13.1080\n",
      "Epoch 58/200\n",
      "889/889 [==============================] - 4s 4ms/step - loss: 13.9011 - mape: 13.9011 - val_loss: 13.0614 - val_mape: 13.0614\n",
      "Epoch 59/200\n",
      "889/889 [==============================] - 4s 4ms/step - loss: 13.8849 - mape: 13.8849 - val_loss: 13.0432 - val_mape: 13.0432\n",
      "Epoch 60/200\n",
      "889/889 [==============================] - 4s 4ms/step - loss: 13.8665 - mape: 13.8665 - val_loss: 13.0679 - val_mape: 13.0679\n",
      "Epoch 61/200\n",
      "889/889 [==============================] - 4s 4ms/step - loss: 13.8530 - mape: 13.8530 - val_loss: 12.9795 - val_mape: 12.9795\n",
      "Epoch 62/200\n",
      "889/889 [==============================] - 4s 4ms/step - loss: 13.8392 - mape: 13.8392 - val_loss: 13.0432 - val_mape: 13.0432\n",
      "Epoch 63/200\n",
      "889/889 [==============================] - 4s 4ms/step - loss: 13.8239 - mape: 13.8239 - val_loss: 13.0036 - val_mape: 13.0036\n",
      "Epoch 64/200\n",
      "889/889 [==============================] - 4s 4ms/step - loss: 13.8114 - mape: 13.8114 - val_loss: 12.9786 - val_mape: 12.9786\n",
      "Epoch 65/200\n",
      "889/889 [==============================] - 3s 4ms/step - loss: 13.7999 - mape: 13.7999 - val_loss: 12.9886 - val_mape: 12.9886\n",
      "Epoch 66/200\n",
      "889/889 [==============================] - 4s 4ms/step - loss: 13.7847 - mape: 13.7847 - val_loss: 12.9639 - val_mape: 12.9639\n",
      "Epoch 67/200\n",
      "889/889 [==============================] - 4s 4ms/step - loss: 13.7725 - mape: 13.7725 - val_loss: 12.9658 - val_mape: 12.9658\n",
      "Epoch 68/200\n",
      "889/889 [==============================] - 3s 4ms/step - loss: 13.7600 - mape: 13.7600 - val_loss: 13.0101 - val_mape: 13.0101\n",
      "Epoch 69/200\n",
      "889/889 [==============================] - 4s 4ms/step - loss: 13.7490 - mape: 13.7490 - val_loss: 12.9351 - val_mape: 12.9351\n",
      "Epoch 70/200\n",
      "889/889 [==============================] - 4s 4ms/step - loss: 13.7352 - mape: 13.7352 - val_loss: 13.0147 - val_mape: 13.0147\n",
      "Epoch 71/200\n",
      "889/889 [==============================] - 4s 4ms/step - loss: 13.7270 - mape: 13.7270 - val_loss: 12.9441 - val_mape: 12.9441\n",
      "Epoch 72/200\n",
      "889/889 [==============================] - 4s 4ms/step - loss: 13.7164 - mape: 13.7164 - val_loss: 12.9280 - val_mape: 12.9280\n",
      "Epoch 73/200\n",
      "889/889 [==============================] - 4s 4ms/step - loss: 13.7055 - mape: 13.7055 - val_loss: 12.9042 - val_mape: 12.9042\n",
      "Epoch 74/200\n",
      "889/889 [==============================] - 4s 4ms/step - loss: 13.6957 - mape: 13.6957 - val_loss: 12.9585 - val_mape: 12.9585\n",
      "Epoch 75/200\n",
      "889/889 [==============================] - 4s 4ms/step - loss: 13.6856 - mape: 13.6856 - val_loss: 12.9107 - val_mape: 12.9107\n",
      "Epoch 76/200\n",
      "889/889 [==============================] - 4s 4ms/step - loss: 13.6767 - mape: 13.6767 - val_loss: 12.9755 - val_mape: 12.9755\n",
      "Epoch 77/200\n",
      "889/889 [==============================] - 4s 4ms/step - loss: 13.6680 - mape: 13.6680 - val_loss: 12.8895 - val_mape: 12.8895\n",
      "Epoch 78/200\n",
      "889/889 [==============================] - 4s 4ms/step - loss: 13.6580 - mape: 13.6580 - val_loss: 12.9218 - val_mape: 12.9218\n",
      "Epoch 79/200\n",
      "889/889 [==============================] - 4s 4ms/step - loss: 13.6495 - mape: 13.6495 - val_loss: 12.8752 - val_mape: 12.8752\n",
      "Epoch 80/200\n",
      "889/889 [==============================] - 4s 4ms/step - loss: 13.6405 - mape: 13.6405 - val_loss: 12.9479 - val_mape: 12.9479\n",
      "Epoch 81/200\n",
      "889/889 [==============================] - 4s 4ms/step - loss: 13.6322 - mape: 13.6322 - val_loss: 12.8841 - val_mape: 12.8841\n",
      "Epoch 82/200\n",
      "889/889 [==============================] - 4s 4ms/step - loss: 13.6253 - mape: 13.6253 - val_loss: 12.9010 - val_mape: 12.9010\n",
      "Epoch 83/200\n",
      "889/889 [==============================] - 4s 4ms/step - loss: 13.6161 - mape: 13.6161 - val_loss: 12.8748 - val_mape: 12.8748\n",
      "Epoch 84/200\n",
      "889/889 [==============================] - 4s 4ms/step - loss: 13.6092 - mape: 13.6092 - val_loss: 12.8933 - val_mape: 12.8933\n",
      "Epoch 85/200\n",
      "889/889 [==============================] - 4s 4ms/step - loss: 13.6013 - mape: 13.6013 - val_loss: 12.8942 - val_mape: 12.8942\n",
      "Epoch 86/200\n",
      "889/889 [==============================] - 4s 4ms/step - loss: 13.5954 - mape: 13.5954 - val_loss: 12.8981 - val_mape: 12.8981\n",
      "Epoch 87/200\n",
      "889/889 [==============================] - 4s 4ms/step - loss: 13.5884 - mape: 13.5884 - val_loss: 12.8790 - val_mape: 12.8790\n",
      "Epoch 88/200\n",
      "889/889 [==============================] - 4s 4ms/step - loss: 13.5789 - mape: 13.5789 - val_loss: 12.8771 - val_mape: 12.8771\n",
      "Epoch 89/200\n",
      "889/889 [==============================] - 4s 4ms/step - loss: 13.5735 - mape: 13.5735 - val_loss: 12.8913 - val_mape: 12.8913\n",
      "Epoch 90/200\n",
      "889/889 [==============================] - 4s 4ms/step - loss: 13.5681 - mape: 13.5681 - val_loss: 12.8639 - val_mape: 12.8639\n",
      "Epoch 91/200\n",
      "889/889 [==============================] - 4s 4ms/step - loss: 13.5611 - mape: 13.5611 - val_loss: 12.8886 - val_mape: 12.8886\n",
      "Epoch 92/200\n",
      "889/889 [==============================] - 4s 4ms/step - loss: 13.5551 - mape: 13.5551 - val_loss: 12.8941 - val_mape: 12.8941\n",
      "Epoch 93/200\n",
      "889/889 [==============================] - 4s 4ms/step - loss: 13.5487 - mape: 13.5487 - val_loss: 12.9129 - val_mape: 12.9129\n",
      "Epoch 94/200\n",
      "889/889 [==============================] - 4s 4ms/step - loss: 13.5418 - mape: 13.5418 - val_loss: 12.8314 - val_mape: 12.8314\n",
      "Epoch 95/200\n",
      "889/889 [==============================] - 4s 4ms/step - loss: 13.5349 - mape: 13.5349 - val_loss: 12.8201 - val_mape: 12.8201\n",
      "Epoch 96/200\n",
      "889/889 [==============================] - 4s 4ms/step - loss: 13.5300 - mape: 13.5300 - val_loss: 12.8998 - val_mape: 12.8998\n",
      "Epoch 97/200\n",
      "889/889 [==============================] - 4s 4ms/step - loss: 13.5246 - mape: 13.5246 - val_loss: 12.8327 - val_mape: 12.8327\n",
      "Epoch 98/200\n",
      "889/889 [==============================] - 4s 4ms/step - loss: 13.5185 - mape: 13.5185 - val_loss: 12.8348 - val_mape: 12.8348\n",
      "Epoch 99/200\n",
      "889/889 [==============================] - 4s 4ms/step - loss: 13.5112 - mape: 13.5112 - val_loss: 12.8381 - val_mape: 12.8381\n",
      "Epoch 100/200\n",
      "889/889 [==============================] - 4s 4ms/step - loss: 13.5067 - mape: 13.5067 - val_loss: 12.8549 - val_mape: 12.8549\n",
      "Epoch 101/200\n",
      "889/889 [==============================] - 4s 4ms/step - loss: 13.5028 - mape: 13.5028 - val_loss: 12.8426 - val_mape: 12.8426\n",
      "Epoch 102/200\n",
      "889/889 [==============================] - 4s 4ms/step - loss: 13.4979 - mape: 13.4979 - val_loss: 12.8486 - val_mape: 12.8486\n",
      "Epoch 103/200\n",
      "889/889 [==============================] - 4s 4ms/step - loss: 13.4909 - mape: 13.4909 - val_loss: 12.8118 - val_mape: 12.8118\n",
      "Epoch 104/200\n",
      "889/889 [==============================] - 4s 4ms/step - loss: 13.4863 - mape: 13.4863 - val_loss: 12.8169 - val_mape: 12.8169\n",
      "Epoch 105/200\n",
      "889/889 [==============================] - 4s 4ms/step - loss: 13.4823 - mape: 13.4823 - val_loss: 12.8167 - val_mape: 12.8167\n",
      "Epoch 106/200\n",
      "889/889 [==============================] - 4s 4ms/step - loss: 13.4760 - mape: 13.4760 - val_loss: 12.8182 - val_mape: 12.8182\n",
      "Epoch 107/200\n",
      "889/889 [==============================] - 4s 4ms/step - loss: 13.4733 - mape: 13.4733 - val_loss: 12.8075 - val_mape: 12.8075\n",
      "Epoch 108/200\n",
      "889/889 [==============================] - 4s 4ms/step - loss: 13.4680 - mape: 13.4680 - val_loss: 12.8038 - val_mape: 12.8038\n",
      "Epoch 109/200\n",
      "889/889 [==============================] - 4s 4ms/step - loss: 13.4621 - mape: 13.4621 - val_loss: 12.8307 - val_mape: 12.8307\n",
      "Epoch 110/200\n",
      "889/889 [==============================] - 4s 4ms/step - loss: 13.4572 - mape: 13.4572 - val_loss: 12.8086 - val_mape: 12.8086\n",
      "Epoch 111/200\n",
      "889/889 [==============================] - 4s 4ms/step - loss: 13.4553 - mape: 13.4553 - val_loss: 12.9045 - val_mape: 12.9045\n",
      "Epoch 112/200\n",
      "889/889 [==============================] - 4s 4ms/step - loss: 13.4509 - mape: 13.4509 - val_loss: 12.8442 - val_mape: 12.8442\n",
      "Epoch 113/200\n",
      "889/889 [==============================] - 4s 4ms/step - loss: 13.4458 - mape: 13.4458 - val_loss: 12.8267 - val_mape: 12.8267\n",
      "Epoch 114/200\n",
      "889/889 [==============================] - 4s 4ms/step - loss: 13.4425 - mape: 13.4425 - val_loss: 12.7896 - val_mape: 12.7896\n",
      "Epoch 115/200\n",
      "889/889 [==============================] - 4s 4ms/step - loss: 13.4375 - mape: 13.4375 - val_loss: 12.8133 - val_mape: 12.8133\n",
      "Epoch 116/200\n",
      "889/889 [==============================] - 4s 4ms/step - loss: 13.4335 - mape: 13.4335 - val_loss: 12.8223 - val_mape: 12.8223\n",
      "Epoch 117/200\n",
      "889/889 [==============================] - 4s 4ms/step - loss: 13.4275 - mape: 13.4275 - val_loss: 12.7987 - val_mape: 12.7987\n",
      "Epoch 118/200\n",
      "889/889 [==============================] - 4s 4ms/step - loss: 13.4264 - mape: 13.4264 - val_loss: 12.7918 - val_mape: 12.7918\n",
      "Epoch 119/200\n",
      "889/889 [==============================] - 4s 4ms/step - loss: 13.4219 - mape: 13.4219 - val_loss: 12.8431 - val_mape: 12.8431\n",
      "Epoch 120/200\n",
      "889/889 [==============================] - 4s 4ms/step - loss: 13.4184 - mape: 13.4184 - val_loss: 12.8093 - val_mape: 12.8093\n",
      "Epoch 121/200\n",
      "889/889 [==============================] - 4s 4ms/step - loss: 13.4158 - mape: 13.4158 - val_loss: 12.7980 - val_mape: 12.7980\n",
      "Epoch 122/200\n",
      "889/889 [==============================] - 4s 4ms/step - loss: 13.4127 - mape: 13.4127 - val_loss: 12.8270 - val_mape: 12.8270\n",
      "Epoch 123/200\n",
      "889/889 [==============================] - 4s 4ms/step - loss: 13.4096 - mape: 13.4096 - val_loss: 12.8099 - val_mape: 12.8099\n",
      "Epoch 124/200\n",
      "889/889 [==============================] - 4s 4ms/step - loss: 13.4052 - mape: 13.4052 - val_loss: 12.8114 - val_mape: 12.8114\n",
      "Epoch 125/200\n",
      "889/889 [==============================] - 4s 4ms/step - loss: 13.4006 - mape: 13.4006 - val_loss: 12.8457 - val_mape: 12.8457\n",
      "Epoch 126/200\n",
      "889/889 [==============================] - 4s 4ms/step - loss: 13.3972 - mape: 13.3972 - val_loss: 12.8306 - val_mape: 12.8306\n",
      "Epoch 127/200\n",
      "889/889 [==============================] - 4s 4ms/step - loss: 13.3935 - mape: 13.3935 - val_loss: 12.8127 - val_mape: 12.8127\n",
      "Epoch 128/200\n",
      "889/889 [==============================] - 4s 4ms/step - loss: 13.3916 - mape: 13.3916 - val_loss: 12.7811 - val_mape: 12.7811\n",
      "Epoch 129/200\n",
      "889/889 [==============================] - 4s 4ms/step - loss: 13.3881 - mape: 13.3881 - val_loss: 12.7999 - val_mape: 12.7999\n",
      "Epoch 130/200\n",
      "889/889 [==============================] - 4s 4ms/step - loss: 13.3852 - mape: 13.3852 - val_loss: 12.7880 - val_mape: 12.7880\n",
      "Epoch 131/200\n",
      "889/889 [==============================] - 4s 4ms/step - loss: 13.3823 - mape: 13.3823 - val_loss: 12.7923 - val_mape: 12.7923\n",
      "Epoch 132/200\n",
      "889/889 [==============================] - 4s 4ms/step - loss: 13.3784 - mape: 13.3784 - val_loss: 12.8343 - val_mape: 12.8343\n",
      "Epoch 133/200\n",
      "889/889 [==============================] - 4s 4ms/step - loss: 13.3772 - mape: 13.3772 - val_loss: 12.8252 - val_mape: 12.8252\n",
      "Epoch 134/200\n",
      "889/889 [==============================] - 4s 4ms/step - loss: 13.3742 - mape: 13.3742 - val_loss: 12.7754 - val_mape: 12.7754\n",
      "Epoch 135/200\n",
      "889/889 [==============================] - 4s 4ms/step - loss: 13.3699 - mape: 13.3699 - val_loss: 12.8331 - val_mape: 12.8331\n",
      "Epoch 136/200\n",
      "889/889 [==============================] - 4s 4ms/step - loss: 13.3667 - mape: 13.3667 - val_loss: 12.7785 - val_mape: 12.7785\n",
      "Epoch 137/200\n",
      "889/889 [==============================] - 4s 4ms/step - loss: 13.3641 - mape: 13.3641 - val_loss: 12.7804 - val_mape: 12.7804\n",
      "Epoch 138/200\n",
      "889/889 [==============================] - 4s 4ms/step - loss: 13.3603 - mape: 13.3603 - val_loss: 12.7898 - val_mape: 12.7898\n",
      "Epoch 139/200\n",
      "889/889 [==============================] - 4s 4ms/step - loss: 13.3578 - mape: 13.3578 - val_loss: 12.8217 - val_mape: 12.8217\n",
      "Epoch 140/200\n",
      "889/889 [==============================] - 4s 4ms/step - loss: 13.3570 - mape: 13.3570 - val_loss: 12.8072 - val_mape: 12.8072\n",
      "Epoch 141/200\n",
      "889/889 [==============================] - 4s 4ms/step - loss: 13.3536 - mape: 13.3536 - val_loss: 12.8069 - val_mape: 12.8069\n",
      "Epoch 142/200\n",
      "889/889 [==============================] - 4s 4ms/step - loss: 13.3513 - mape: 13.3513 - val_loss: 12.8316 - val_mape: 12.8316\n",
      "Epoch 143/200\n",
      "889/889 [==============================] - 4s 4ms/step - loss: 13.3494 - mape: 13.3494 - val_loss: 12.7932 - val_mape: 12.7932\n",
      "Epoch 144/200\n",
      "889/889 [==============================] - 4s 5ms/step - loss: 13.3445 - mape: 13.3445 - val_loss: 12.7902 - val_mape: 12.7902\n",
      "Epoch 145/200\n",
      "889/889 [==============================] - 4s 5ms/step - loss: 13.3437 - mape: 13.3437 - val_loss: 12.8270 - val_mape: 12.8270\n",
      "Epoch 146/200\n",
      "889/889 [==============================] - 4s 4ms/step - loss: 13.3409 - mape: 13.3409 - val_loss: 12.8110 - val_mape: 12.8110\n",
      "Epoch 147/200\n",
      "889/889 [==============================] - 4s 4ms/step - loss: 13.3396 - mape: 13.3396 - val_loss: 12.7855 - val_mape: 12.7855\n",
      "Epoch 148/200\n",
      "889/889 [==============================] - 4s 4ms/step - loss: 13.3366 - mape: 13.3366 - val_loss: 12.7696 - val_mape: 12.7696\n",
      "Epoch 149/200\n",
      "889/889 [==============================] - 4s 4ms/step - loss: 13.3348 - mape: 13.3348 - val_loss: 12.7954 - val_mape: 12.7954\n",
      "Epoch 150/200\n",
      "889/889 [==============================] - 4s 4ms/step - loss: 13.3311 - mape: 13.3311 - val_loss: 12.7772 - val_mape: 12.7772\n",
      "Epoch 151/200\n",
      "889/889 [==============================] - 4s 4ms/step - loss: 13.3298 - mape: 13.3298 - val_loss: 12.7835 - val_mape: 12.7835\n",
      "Epoch 152/200\n",
      "889/889 [==============================] - 4s 4ms/step - loss: 13.3277 - mape: 13.3277 - val_loss: 12.7731 - val_mape: 12.7731\n",
      "Epoch 153/200\n",
      "889/889 [==============================] - 4s 4ms/step - loss: 13.3257 - mape: 13.3257 - val_loss: 12.8108 - val_mape: 12.8108\n",
      "Epoch 154/200\n",
      "889/889 [==============================] - 4s 4ms/step - loss: 13.3229 - mape: 13.3229 - val_loss: 12.7776 - val_mape: 12.7776\n",
      "Epoch 155/200\n",
      "889/889 [==============================] - 4s 4ms/step - loss: 13.3207 - mape: 13.3207 - val_loss: 12.8041 - val_mape: 12.8041\n",
      "Epoch 156/200\n",
      "889/889 [==============================] - 4s 4ms/step - loss: 13.3206 - mape: 13.3206 - val_loss: 12.7702 - val_mape: 12.7702\n",
      "Epoch 157/200\n",
      "889/889 [==============================] - 4s 4ms/step - loss: 13.3176 - mape: 13.3176 - val_loss: 12.8056 - val_mape: 12.8056\n",
      "Epoch 158/200\n",
      "889/889 [==============================] - 4s 4ms/step - loss: 13.3167 - mape: 13.3167 - val_loss: 12.7764 - val_mape: 12.7764\n",
      "Epoch 159/200\n",
      "889/889 [==============================] - 4s 4ms/step - loss: 13.3141 - mape: 13.3140 - val_loss: 12.8150 - val_mape: 12.8150\n",
      "Epoch 160/200\n",
      "889/889 [==============================] - 4s 4ms/step - loss: 13.3117 - mape: 13.3117 - val_loss: 12.7854 - val_mape: 12.7854\n",
      "Epoch 161/200\n",
      "889/889 [==============================] - 4s 4ms/step - loss: 13.3089 - mape: 13.3089 - val_loss: 12.7635 - val_mape: 12.7635\n",
      "Epoch 162/200\n",
      "889/889 [==============================] - 4s 4ms/step - loss: 13.3069 - mape: 13.3069 - val_loss: 12.8198 - val_mape: 12.8198\n",
      "Epoch 163/200\n",
      "889/889 [==============================] - 4s 4ms/step - loss: 13.3059 - mape: 13.3059 - val_loss: 12.7744 - val_mape: 12.7744\n",
      "Epoch 164/200\n",
      "889/889 [==============================] - 4s 4ms/step - loss: 13.3036 - mape: 13.3036 - val_loss: 12.8273 - val_mape: 12.8273\n",
      "Epoch 165/200\n",
      "889/889 [==============================] - 4s 4ms/step - loss: 13.3032 - mape: 13.3032 - val_loss: 12.7834 - val_mape: 12.7834\n",
      "Epoch 166/200\n",
      "889/889 [==============================] - 4s 4ms/step - loss: 13.3016 - mape: 13.3016 - val_loss: 12.7849 - val_mape: 12.7849\n",
      "Epoch 167/200\n",
      "889/889 [==============================] - 4s 4ms/step - loss: 13.2982 - mape: 13.2982 - val_loss: 12.7670 - val_mape: 12.7670\n",
      "Epoch 168/200\n",
      "889/889 [==============================] - 4s 4ms/step - loss: 13.2984 - mape: 13.2984 - val_loss: 12.7932 - val_mape: 12.7932\n",
      "Epoch 169/200\n",
      "889/889 [==============================] - 4s 4ms/step - loss: 13.2957 - mape: 13.2957 - val_loss: 12.7649 - val_mape: 12.7649\n",
      "Epoch 170/200\n",
      "889/889 [==============================] - 4s 4ms/step - loss: 13.2931 - mape: 13.2931 - val_loss: 12.8326 - val_mape: 12.8326\n",
      "Epoch 171/200\n",
      "889/889 [==============================] - 4s 4ms/step - loss: 13.2930 - mape: 13.2930 - val_loss: 12.7771 - val_mape: 12.7771\n",
      "Epoch 172/200\n",
      "889/889 [==============================] - 4s 4ms/step - loss: 13.2896 - mape: 13.2896 - val_loss: 12.8228 - val_mape: 12.8228\n",
      "Epoch 173/200\n",
      "889/889 [==============================] - 4s 4ms/step - loss: 13.2881 - mape: 13.2881 - val_loss: 12.8019 - val_mape: 12.8019\n",
      "Epoch 174/200\n",
      "889/889 [==============================] - 4s 4ms/step - loss: 13.2849 - mape: 13.2849 - val_loss: 12.7686 - val_mape: 12.7686\n",
      "Epoch 175/200\n",
      "889/889 [==============================] - 4s 4ms/step - loss: 13.2861 - mape: 13.2861 - val_loss: 12.7674 - val_mape: 12.7674\n",
      "Epoch 176/200\n",
      "889/889 [==============================] - 4s 4ms/step - loss: 13.2825 - mape: 13.2825 - val_loss: 12.7961 - val_mape: 12.7961\n",
      "Epoch 177/200\n",
      "889/889 [==============================] - 4s 4ms/step - loss: 13.2816 - mape: 13.2816 - val_loss: 12.7904 - val_mape: 12.7904\n",
      "Epoch 178/200\n",
      "889/889 [==============================] - 4s 4ms/step - loss: 13.2804 - mape: 13.2804 - val_loss: 12.8296 - val_mape: 12.8296\n",
      "Epoch 179/200\n",
      "889/889 [==============================] - 4s 4ms/step - loss: 13.2790 - mape: 13.2790 - val_loss: 12.8710 - val_mape: 12.8710\n",
      "Epoch 180/200\n",
      "889/889 [==============================] - 4s 4ms/step - loss: 13.2754 - mape: 13.2754 - val_loss: 12.8131 - val_mape: 12.8131\n",
      "Epoch 181/200\n",
      "889/889 [==============================] - 4s 5ms/step - loss: 13.2767 - mape: 13.2767 - val_loss: 12.7975 - val_mape: 12.7975\n",
      "Epoch 182/200\n",
      "889/889 [==============================] - 4s 4ms/step - loss: 13.2737 - mape: 13.2737 - val_loss: 12.7742 - val_mape: 12.7742\n",
      "Epoch 183/200\n",
      "889/889 [==============================] - 4s 4ms/step - loss: 13.2717 - mape: 13.2717 - val_loss: 12.7883 - val_mape: 12.7883\n",
      "Epoch 184/200\n",
      "889/889 [==============================] - 4s 4ms/step - loss: 13.2710 - mape: 13.2710 - val_loss: 12.7769 - val_mape: 12.7769\n",
      "Epoch 185/200\n",
      "889/889 [==============================] - 4s 4ms/step - loss: 13.2702 - mape: 13.2702 - val_loss: 12.7643 - val_mape: 12.7643\n",
      "Epoch 186/200\n",
      "889/889 [==============================] - 4s 4ms/step - loss: 13.2681 - mape: 13.2681 - val_loss: 12.7833 - val_mape: 12.7833\n",
      "Epoch 187/200\n",
      "889/889 [==============================] - 4s 4ms/step - loss: 13.2652 - mape: 13.2652 - val_loss: 12.7614 - val_mape: 12.7614\n",
      "Epoch 188/200\n",
      "889/889 [==============================] - 4s 4ms/step - loss: 13.2654 - mape: 13.2654 - val_loss: 12.7556 - val_mape: 12.7556\n",
      "Epoch 189/200\n",
      "889/889 [==============================] - 4s 4ms/step - loss: 13.2631 - mape: 13.2631 - val_loss: 12.7576 - val_mape: 12.7576\n",
      "Epoch 190/200\n",
      "889/889 [==============================] - 4s 4ms/step - loss: 13.2625 - mape: 13.2625 - val_loss: 12.7530 - val_mape: 12.7530\n",
      "Epoch 191/200\n",
      "889/889 [==============================] - 4s 4ms/step - loss: 13.2606 - mape: 13.2606 - val_loss: 12.7966 - val_mape: 12.7966\n",
      "Epoch 192/200\n",
      "889/889 [==============================] - 4s 4ms/step - loss: 13.2606 - mape: 13.2606 - val_loss: 12.8296 - val_mape: 12.8296\n",
      "Epoch 193/200\n",
      "889/889 [==============================] - 4s 4ms/step - loss: 13.2571 - mape: 13.2571 - val_loss: 12.7837 - val_mape: 12.7837\n",
      "Epoch 194/200\n",
      "889/889 [==============================] - 4s 4ms/step - loss: 13.2573 - mape: 13.2573 - val_loss: 12.7887 - val_mape: 12.7887\n",
      "Epoch 195/200\n",
      "889/889 [==============================] - 4s 4ms/step - loss: 13.2562 - mape: 13.2562 - val_loss: 12.7611 - val_mape: 12.7611\n",
      "Epoch 196/200\n",
      "889/889 [==============================] - 4s 4ms/step - loss: 13.2545 - mape: 13.2545 - val_loss: 12.7655 - val_mape: 12.7655\n",
      "Epoch 197/200\n",
      "889/889 [==============================] - 4s 4ms/step - loss: 13.2550 - mape: 13.2550 - val_loss: 12.7584 - val_mape: 12.7584\n",
      "Epoch 198/200\n",
      "889/889 [==============================] - 4s 4ms/step - loss: 13.2516 - mape: 13.2516 - val_loss: 12.7817 - val_mape: 12.7817\n",
      "Epoch 199/200\n",
      "889/889 [==============================] - 4s 4ms/step - loss: 13.2514 - mape: 13.2514 - val_loss: 12.8012 - val_mape: 12.8012\n",
      "Epoch 200/200\n",
      "889/889 [==============================] - 4s 4ms/step - loss: 13.2493 - mape: 13.2493 - val_loss: 12.8238 - val_mape: 12.8238\n"
     ]
    }
   ],
   "source": [
    "model = Sequential()\n",
    "model.add(Bidirectional(LSTM(16,activation='relu',input_shape=(1,look_back),return_sequences=True)))\n",
    "model.add(Bidirectional(LSTM(8,activation='relu')))\n",
    "model.add(Dense(1,activation='linear'))\n",
    "ad=optimizers.Adam(learning_rate=0.000012525191047985907)\n",
    "model.compile(optimizer = ad, loss = 'mape', metrics = ['mape'])\n",
    "model_history=model.fit(trainX, trainY,validation_data=(testX,testY), batch_size = 36, epochs = 200)"
   ]
  },
  {
   "cell_type": "code",
   "execution_count": 40,
   "id": "77c05906",
   "metadata": {
    "id": "77c05906"
   },
   "outputs": [],
   "source": [
    "def model_loss(history):\n",
    "    plt.figure(figsize=(8,4))\n",
    "    plt.plot(history.history['loss'], label='Train Loss')\n",
    "    plt.plot(history.history['val_loss'], label='Test Loss')\n",
    "    plt.title('model loss')\n",
    "    plt.ylabel('loss')\n",
    "    plt.xlabel('epochs')\n",
    "    plt.legend(loc='upper right')\n",
    "    plt.show();"
   ]
  },
  {
   "cell_type": "code",
   "execution_count": 41,
   "id": "f8eb5958",
   "metadata": {
    "id": "f8eb5958"
   },
   "outputs": [],
   "source": [
    "train_score = model.evaluate(trainX, trainY,verbose=0)\n",
    "test_score = model.evaluate(testX, testY,verbose=0)"
   ]
  },
  {
   "cell_type": "code",
   "execution_count": 42,
   "id": "45a22c27",
   "metadata": {
    "colab": {
     "base_uri": "https://localhost:8080/",
     "height": 329
    },
    "id": "45a22c27",
    "outputId": "c9f6cdea-dca9-488f-842b-64319cdc5a65"
   },
   "outputs": [
    {
     "name": "stdout",
     "output_type": "stream",
     "text": [
      "Train MAPE : 13.25 \n",
      "Test MAPE : 12.82 \n"
     ]
    },
    {
     "data": {
      "image/png": "[encoded data removed]",
      "text/plain": [
       "<Figure size 576x288 with 1 Axes>"
      ]
     },
     "metadata": {
      "needs_background": "light"
     },
     "output_type": "display_data"
    }
   ],
   "source": [
    "train_predict = model.predict(trainX)\n",
    "test_predict = model.predict(testX)\n",
    "\n",
    "# invert predictions\n",
    "train_predict = scaler.inverse_transform(train_predict)\n",
    "trainY = scaler.inverse_transform([trainY])\n",
    "test_predict = scaler.inverse_transform(test_predict)\n",
    "testY = scaler.inverse_transform([testY])\n",
    "print('Train MAPE : %.2f ' % (train_score[1]))\n",
    "print('Test MAPE : %.2f ' % (test_score[1]))\n",
    "model_loss(model_history)"
   ]
  },
  {
   "cell_type": "code",
   "execution_count": 35,
   "id": "dc942f74",
   "metadata": {
    "id": "dc942f74"
   },
   "outputs": [],
   "source": [
    "import seaborn as sns"
   ]
  },
  {
   "cell_type": "code",
   "execution_count": 36,
   "id": "dee9bab8",
   "metadata": {
    "id": "dee9bab8"
   },
   "outputs": [],
   "source": [
    "def prediction_plot(testY, test_predict,look_back):\n",
    "    len_prediction=[x for x in range(31977,35906)]\n",
    "    plt.plot(trainY.reshape(-1,))\n",
    "    plt.plot(len_prediction, testY.reshape(-1,), marker='.', label='actual')\n",
    "    plt.plot(len_prediction, test_predict, 'g', label=\"prediction\")\n",
    "    plt.tight_layout()\n",
    "    sns.despine(top=True)\n",
    "    plt.subplots_adjust(left=0.07)\n",
    "    plt.ylabel('Units', size=15)\n",
    "    plt.xlabel('Time step', size=15)\n",
    "    plt.legend(fontsize=15)\n",
    "    plt.show()"
   ]
  },
  {
   "cell_type": "code",
   "execution_count": 43,
   "id": "363040b5",
   "metadata": {
    "colab": {
     "base_uri": "https://localhost:8080/",
     "height": 604
    },
    "id": "363040b5",
    "outputId": "5095a866-b935-45e4-fab0-1ab2b0fc06eb"
   },
   "outputs": [
    {
     "data": {
      "image/png": "[encoded data removed]",
      "text/plain": [
       "<Figure size 1080x576 with 1 Axes>"
      ]
     },
     "metadata": {
      "needs_background": "light"
     },
     "output_type": "display_data"
    }
   ],
   "source": [
    "test_predict = model.predict(testX)\n",
    "test_predict = scaler.inverse_transform(test_predict)\n",
    "prediction_plot(testY, test_predict,look_back)"
   ]
  },
  {
   "cell_type": "code",
   "execution_count": null,
   "id": "f8a7708c",
   "metadata": {
    "id": "f8a7708c"
   },
   "outputs": [],
   "source": []
  }
 ],
 "metadata": {
  "colab": {
   "collapsed_sections": [],
   "name": "Residential_Power_HPT_LSTM_simple_bidirectional_model.ipynb",
   "provenance": []
  },
  "kernelspec": {
   "display_name": "Python 3",
   "language": "python",
   "name": "python3"
  },
  "language_info": {
   "codemirror_mode": {
    "name": "ipython",
    "version": 3
   },
   "file_extension": ".py",
   "mimetype": "text/x-python",
   "name": "python",
   "nbconvert_exporter": "python",
   "pygments_lexer": "ipython3",
   "version": "3.8.8"
  }
 },
 "nbformat": 4,
 "nbformat_minor": 5
}
