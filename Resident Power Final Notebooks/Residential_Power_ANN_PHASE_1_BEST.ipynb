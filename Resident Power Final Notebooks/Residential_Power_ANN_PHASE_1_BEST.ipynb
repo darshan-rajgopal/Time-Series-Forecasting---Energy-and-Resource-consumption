{
  "cells": [
    {
      "cell_type": "code",
      "execution_count": 1,
      "id": "c2ef9b47",
      "metadata": {
        "id": "c2ef9b47"
      },
      "outputs": [],
      "source": [
        "import numpy as np\n",
        "import pandas as pd\n",
        "from tensorflow.keras.models import Sequential\n",
        "from tensorflow.keras.layers import LSTM\n",
        "from tensorflow.keras.layers import Dense\n",
        "from tensorflow.keras.layers import Flatten\n",
        "import matplotlib.pyplot as plt\n",
        "import warnings\n",
        "warnings.filterwarnings('ignore')\n",
        "%matplotlib inline"
      ]
    },
    {
      "cell_type": "code",
      "execution_count": 2,
      "id": "iGQk9lcRmucZ",
      "metadata": {
        "colab": {
          "base_uri": "https://localhost:8080/"
        },
        "id": "iGQk9lcRmucZ",
        "outputId": "06381d74-4086-49c9-9697-68f9b8930bad"
      },
      "outputs": [
        {
          "output_type": "stream",
          "name": "stdout",
          "text": [
            "Mounted at /content/drive\n"
          ]
        }
      ],
      "source": [
        "from google.colab import drive\n",
        "drive.mount('/content/drive')"
      ]
    },
    {
      "cell_type": "code",
      "execution_count": null,
      "id": "BxDZtfokj6Da",
      "metadata": {
        "colab": {
          "base_uri": "https://localhost:8080/",
          "height": 35
        },
        "id": "BxDZtfokj6Da",
        "outputId": "b20dcdbd-c02a-48ad-a576-4ba9370acae1"
      },
      "outputs": [
        {
          "data": {
            "application/vnd.google.colaboratory.intrinsic+json": {
              "type": "string"
            },
            "text/plain": [
              "'/device:GPU:0'"
            ]
          },
          "execution_count": 5,
          "metadata": {},
          "output_type": "execute_result"
        }
      ],
      "source": [
        "import tensorflow as tf\n",
        "tf.test.gpu_device_name()"
      ]
    },
    {
      "cell_type": "code",
      "execution_count": null,
      "id": "UDt4KrAxj6JS",
      "metadata": {
        "colab": {
          "base_uri": "https://localhost:8080/"
        },
        "id": "UDt4KrAxj6JS",
        "outputId": "9d528187-3aea-4259-a635-0d1eddbc47d0"
      },
      "outputs": [
        {
          "data": {
            "text/plain": [
              "[name: \"/device:CPU:0\"\n",
              " device_type: \"CPU\"\n",
              " memory_limit: 268435456\n",
              " locality {\n",
              " }\n",
              " incarnation: 14494480343520806349\n",
              " xla_global_id: -1, name: \"/device:GPU:0\"\n",
              " device_type: \"GPU\"\n",
              " memory_limit: 11320098816\n",
              " locality {\n",
              "   bus_id: 1\n",
              "   links {\n",
              "   }\n",
              " }\n",
              " incarnation: 1229225032833911937\n",
              " physical_device_desc: \"device: 0, name: Tesla K80, pci bus id: 0000:00:04.0, compute capability: 3.7\"\n",
              " xla_global_id: 416903419]"
            ]
          },
          "execution_count": 6,
          "metadata": {},
          "output_type": "execute_result"
        }
      ],
      "source": [
        "from tensorflow.python.client import device_lib\n",
        "device_lib.list_local_devices()"
      ]
    },
    {
      "cell_type": "code",
      "execution_count": 4,
      "id": "30d066a0",
      "metadata": {
        "colab": {
          "base_uri": "https://localhost:8080/",
          "height": 206
        },
        "id": "30d066a0",
        "outputId": "c69ad0a8-6ea9-4725-cce0-11e981271c41"
      },
      "outputs": [
        {
          "output_type": "execute_result",
          "data": {
            "text/html": [
              "\n",
              "  <div id=\"df-4fee3a72-e53d-4295-b0dd-984db5541ec2\">\n",
              "    <div class=\"colab-df-container\">\n",
              "      <div>\n",
              "<style scoped>\n",
              "    .dataframe tbody tr th:only-of-type {\n",
              "        vertical-align: middle;\n",
              "    }\n",
              "\n",
              "    .dataframe tbody tr th {\n",
              "        vertical-align: top;\n",
              "    }\n",
              "\n",
              "    .dataframe thead th {\n",
              "        text-align: right;\n",
              "    }\n",
              "</style>\n",
              "<table border=\"1\" class=\"dataframe\">\n",
              "  <thead>\n",
              "    <tr style=\"text-align: right;\">\n",
              "      <th></th>\n",
              "      <th>StartDate</th>\n",
              "      <th>Value (kWh)</th>\n",
              "      <th>day_of_week</th>\n",
              "      <th>notes</th>\n",
              "    </tr>\n",
              "  </thead>\n",
              "  <tbody>\n",
              "    <tr>\n",
              "      <th>0</th>\n",
              "      <td>2016-01-06 00:00:00</td>\n",
              "      <td>1.057</td>\n",
              "      <td>2</td>\n",
              "      <td>weekday</td>\n",
              "    </tr>\n",
              "    <tr>\n",
              "      <th>1</th>\n",
              "      <td>2016-01-06 01:00:00</td>\n",
              "      <td>1.171</td>\n",
              "      <td>2</td>\n",
              "      <td>weekday</td>\n",
              "    </tr>\n",
              "    <tr>\n",
              "      <th>2</th>\n",
              "      <td>2016-01-06 02:00:00</td>\n",
              "      <td>0.560</td>\n",
              "      <td>2</td>\n",
              "      <td>weekday</td>\n",
              "    </tr>\n",
              "    <tr>\n",
              "      <th>3</th>\n",
              "      <td>2016-01-06 03:00:00</td>\n",
              "      <td>0.828</td>\n",
              "      <td>2</td>\n",
              "      <td>weekday</td>\n",
              "    </tr>\n",
              "    <tr>\n",
              "      <th>4</th>\n",
              "      <td>2016-01-06 04:00:00</td>\n",
              "      <td>0.932</td>\n",
              "      <td>2</td>\n",
              "      <td>weekday</td>\n",
              "    </tr>\n",
              "  </tbody>\n",
              "</table>\n",
              "</div>\n",
              "      <button class=\"colab-df-convert\" onclick=\"convertToInteractive('df-4fee3a72-e53d-4295-b0dd-984db5541ec2')\"\n",
              "              title=\"Convert this dataframe to an interactive table.\"\n",
              "              style=\"display:none;\">\n",
              "        \n",
              "  <svg xmlns=\"http://www.w3.org/2000/svg\" height=\"24px\"viewBox=\"0 0 24 24\"\n",
              "       width=\"24px\">\n",
              "    <path d=\"M0 0h24v24H0V0z\" fill=\"none\"/>\n",
              "    <path d=\"M18.56 5.44l.94 2.06.94-2.06 2.06-.94-2.06-.94-.94-2.06-.94 2.06-2.06.94zm-11 1L8.5 8.5l.94-2.06 2.06-.94-2.06-.94L8.5 2.5l-.94 2.06-2.06.94zm10 10l.94 2.06.94-2.06 2.06-.94-2.06-.94-.94-2.06-.94 2.06-2.06.94z\"/><path d=\"M17.41 7.96l-1.37-1.37c-.4-.4-.92-.59-1.43-.59-.52 0-1.04.2-1.43.59L10.3 9.45l-7.72 7.72c-.78.78-.78 2.05 0 2.83L4 21.41c.39.39.9.59 1.41.59.51 0 1.02-.2 1.41-.59l7.78-7.78 2.81-2.81c.8-.78.8-2.07 0-2.86zM5.41 20L4 18.59l7.72-7.72 1.47 1.35L5.41 20z\"/>\n",
              "  </svg>\n",
              "      </button>\n",
              "      \n",
              "  <style>\n",
              "    .colab-df-container {\n",
              "      display:flex;\n",
              "      flex-wrap:wrap;\n",
              "      gap: 12px;\n",
              "    }\n",
              "\n",
              "    .colab-df-convert {\n",
              "      background-color: #E8F0FE;\n",
              "      border: none;\n",
              "      border-radius: 50%;\n",
              "      cursor: pointer;\n",
              "      display: none;\n",
              "      fill: #1967D2;\n",
              "      height: 32px;\n",
              "      padding: 0 0 0 0;\n",
              "      width: 32px;\n",
              "    }\n",
              "\n",
              "    .colab-df-convert:hover {\n",
              "      background-color: #E2EBFA;\n",
              "      box-shadow: 0px 1px 2px rgba(60, 64, 67, 0.3), 0px 1px 3px 1px rgba(60, 64, 67, 0.15);\n",
              "      fill: #174EA6;\n",
              "    }\n",
              "\n",
              "    [theme=dark] .colab-df-convert {\n",
              "      background-color: #3B4455;\n",
              "      fill: #D2E3FC;\n",
              "    }\n",
              "\n",
              "    [theme=dark] .colab-df-convert:hover {\n",
              "      background-color: #434B5C;\n",
              "      box-shadow: 0px 1px 3px 1px rgba(0, 0, 0, 0.15);\n",
              "      filter: drop-shadow(0px 1px 2px rgba(0, 0, 0, 0.3));\n",
              "      fill: #FFFFFF;\n",
              "    }\n",
              "  </style>\n",
              "\n",
              "      <script>\n",
              "        const buttonEl =\n",
              "          document.querySelector('#df-4fee3a72-e53d-4295-b0dd-984db5541ec2 button.colab-df-convert');\n",
              "        buttonEl.style.display =\n",
              "          google.colab.kernel.accessAllowed ? 'block' : 'none';\n",
              "\n",
              "        async function convertToInteractive(key) {\n",
              "          const element = document.querySelector('#df-4fee3a72-e53d-4295-b0dd-984db5541ec2');\n",
              "          const dataTable =\n",
              "            await google.colab.kernel.invokeFunction('convertToInteractive',\n",
              "                                                     [key], {});\n",
              "          if (!dataTable) return;\n",
              "\n",
              "          const docLinkHtml = 'Like what you see? Visit the ' +\n",
              "            '<a target=\"_blank\" href=https://colab.research.google.com/notebooks/data_table.ipynb>data table notebook</a>'\n",
              "            + ' to learn more about interactive tables.';\n",
              "          element.innerHTML = '';\n",
              "          dataTable['output_type'] = 'display_data';\n",
              "          await google.colab.output.renderOutput(dataTable, element);\n",
              "          const docLink = document.createElement('div');\n",
              "          docLink.innerHTML = docLinkHtml;\n",
              "          element.appendChild(docLink);\n",
              "        }\n",
              "      </script>\n",
              "    </div>\n",
              "  </div>\n",
              "  "
            ],
            "text/plain": [
              "             StartDate  Value (kWh)  day_of_week    notes\n",
              "0  2016-01-06 00:00:00        1.057            2  weekday\n",
              "1  2016-01-06 01:00:00        1.171            2  weekday\n",
              "2  2016-01-06 02:00:00        0.560            2  weekday\n",
              "3  2016-01-06 03:00:00        0.828            2  weekday\n",
              "4  2016-01-06 04:00:00        0.932            2  weekday"
            ]
          },
          "metadata": {},
          "execution_count": 4
        }
      ],
      "source": [
        "df = pd.read_csv('/content/drive/MyDrive/Colab Notebooks/Energy/residential_power_usage_2016_to_2020.csv')\n",
        "df.head()"
      ]
    },
    {
      "cell_type": "code",
      "execution_count": 5,
      "id": "e2663bb4",
      "metadata": {
        "colab": {
          "base_uri": "https://localhost:8080/",
          "height": 206
        },
        "id": "e2663bb4",
        "outputId": "17b4740b-eb62-4195-f45d-6764247f212c"
      },
      "outputs": [
        {
          "output_type": "execute_result",
          "data": {
            "text/html": [
              "\n",
              "  <div id=\"df-eae6d9bd-b9de-4858-9668-189b3657651b\">\n",
              "    <div class=\"colab-df-container\">\n",
              "      <div>\n",
              "<style scoped>\n",
              "    .dataframe tbody tr th:only-of-type {\n",
              "        vertical-align: middle;\n",
              "    }\n",
              "\n",
              "    .dataframe tbody tr th {\n",
              "        vertical-align: top;\n",
              "    }\n",
              "\n",
              "    .dataframe thead th {\n",
              "        text-align: right;\n",
              "    }\n",
              "</style>\n",
              "<table border=\"1\" class=\"dataframe\">\n",
              "  <thead>\n",
              "    <tr style=\"text-align: right;\">\n",
              "      <th></th>\n",
              "      <th>StartDate</th>\n",
              "      <th>Value (kWh)</th>\n",
              "      <th>day_of_week</th>\n",
              "      <th>notes</th>\n",
              "    </tr>\n",
              "  </thead>\n",
              "  <tbody>\n",
              "    <tr>\n",
              "      <th>35947</th>\n",
              "      <td>2020-07-07 19:00:00</td>\n",
              "      <td>1.307</td>\n",
              "      <td>1</td>\n",
              "      <td>weekday</td>\n",
              "    </tr>\n",
              "    <tr>\n",
              "      <th>35948</th>\n",
              "      <td>2020-07-07 20:00:00</td>\n",
              "      <td>2.872</td>\n",
              "      <td>1</td>\n",
              "      <td>weekday</td>\n",
              "    </tr>\n",
              "    <tr>\n",
              "      <th>35949</th>\n",
              "      <td>2020-07-07 21:00:00</td>\n",
              "      <td>2.138</td>\n",
              "      <td>1</td>\n",
              "      <td>weekday</td>\n",
              "    </tr>\n",
              "    <tr>\n",
              "      <th>35950</th>\n",
              "      <td>2020-07-07 22:00:00</td>\n",
              "      <td>2.199</td>\n",
              "      <td>1</td>\n",
              "      <td>weekday</td>\n",
              "    </tr>\n",
              "    <tr>\n",
              "      <th>35951</th>\n",
              "      <td>2020-07-07 23:00:00</td>\n",
              "      <td>1.809</td>\n",
              "      <td>1</td>\n",
              "      <td>weekday</td>\n",
              "    </tr>\n",
              "  </tbody>\n",
              "</table>\n",
              "</div>\n",
              "      <button class=\"colab-df-convert\" onclick=\"convertToInteractive('df-eae6d9bd-b9de-4858-9668-189b3657651b')\"\n",
              "              title=\"Convert this dataframe to an interactive table.\"\n",
              "              style=\"display:none;\">\n",
              "        \n",
              "  <svg xmlns=\"http://www.w3.org/2000/svg\" height=\"24px\"viewBox=\"0 0 24 24\"\n",
              "       width=\"24px\">\n",
              "    <path d=\"M0 0h24v24H0V0z\" fill=\"none\"/>\n",
              "    <path d=\"M18.56 5.44l.94 2.06.94-2.06 2.06-.94-2.06-.94-.94-2.06-.94 2.06-2.06.94zm-11 1L8.5 8.5l.94-2.06 2.06-.94-2.06-.94L8.5 2.5l-.94 2.06-2.06.94zm10 10l.94 2.06.94-2.06 2.06-.94-2.06-.94-.94-2.06-.94 2.06-2.06.94z\"/><path d=\"M17.41 7.96l-1.37-1.37c-.4-.4-.92-.59-1.43-.59-.52 0-1.04.2-1.43.59L10.3 9.45l-7.72 7.72c-.78.78-.78 2.05 0 2.83L4 21.41c.39.39.9.59 1.41.59.51 0 1.02-.2 1.41-.59l7.78-7.78 2.81-2.81c.8-.78.8-2.07 0-2.86zM5.41 20L4 18.59l7.72-7.72 1.47 1.35L5.41 20z\"/>\n",
              "  </svg>\n",
              "      </button>\n",
              "      \n",
              "  <style>\n",
              "    .colab-df-container {\n",
              "      display:flex;\n",
              "      flex-wrap:wrap;\n",
              "      gap: 12px;\n",
              "    }\n",
              "\n",
              "    .colab-df-convert {\n",
              "      background-color: #E8F0FE;\n",
              "      border: none;\n",
              "      border-radius: 50%;\n",
              "      cursor: pointer;\n",
              "      display: none;\n",
              "      fill: #1967D2;\n",
              "      height: 32px;\n",
              "      padding: 0 0 0 0;\n",
              "      width: 32px;\n",
              "    }\n",
              "\n",
              "    .colab-df-convert:hover {\n",
              "      background-color: #E2EBFA;\n",
              "      box-shadow: 0px 1px 2px rgba(60, 64, 67, 0.3), 0px 1px 3px 1px rgba(60, 64, 67, 0.15);\n",
              "      fill: #174EA6;\n",
              "    }\n",
              "\n",
              "    [theme=dark] .colab-df-convert {\n",
              "      background-color: #3B4455;\n",
              "      fill: #D2E3FC;\n",
              "    }\n",
              "\n",
              "    [theme=dark] .colab-df-convert:hover {\n",
              "      background-color: #434B5C;\n",
              "      box-shadow: 0px 1px 3px 1px rgba(0, 0, 0, 0.15);\n",
              "      filter: drop-shadow(0px 1px 2px rgba(0, 0, 0, 0.3));\n",
              "      fill: #FFFFFF;\n",
              "    }\n",
              "  </style>\n",
              "\n",
              "      <script>\n",
              "        const buttonEl =\n",
              "          document.querySelector('#df-eae6d9bd-b9de-4858-9668-189b3657651b button.colab-df-convert');\n",
              "        buttonEl.style.display =\n",
              "          google.colab.kernel.accessAllowed ? 'block' : 'none';\n",
              "\n",
              "        async function convertToInteractive(key) {\n",
              "          const element = document.querySelector('#df-eae6d9bd-b9de-4858-9668-189b3657651b');\n",
              "          const dataTable =\n",
              "            await google.colab.kernel.invokeFunction('convertToInteractive',\n",
              "                                                     [key], {});\n",
              "          if (!dataTable) return;\n",
              "\n",
              "          const docLinkHtml = 'Like what you see? Visit the ' +\n",
              "            '<a target=\"_blank\" href=https://colab.research.google.com/notebooks/data_table.ipynb>data table notebook</a>'\n",
              "            + ' to learn more about interactive tables.';\n",
              "          element.innerHTML = '';\n",
              "          dataTable['output_type'] = 'display_data';\n",
              "          await google.colab.output.renderOutput(dataTable, element);\n",
              "          const docLink = document.createElement('div');\n",
              "          docLink.innerHTML = docLinkHtml;\n",
              "          element.appendChild(docLink);\n",
              "        }\n",
              "      </script>\n",
              "    </div>\n",
              "  </div>\n",
              "  "
            ],
            "text/plain": [
              "                 StartDate  Value (kWh)  day_of_week    notes\n",
              "35947  2020-07-07 19:00:00        1.307            1  weekday\n",
              "35948  2020-07-07 20:00:00        2.872            1  weekday\n",
              "35949  2020-07-07 21:00:00        2.138            1  weekday\n",
              "35950  2020-07-07 22:00:00        2.199            1  weekday\n",
              "35951  2020-07-07 23:00:00        1.809            1  weekday"
            ]
          },
          "metadata": {},
          "execution_count": 5
        }
      ],
      "source": [
        "df.tail()"
      ]
    },
    {
      "cell_type": "code",
      "execution_count": 6,
      "id": "0482272d",
      "metadata": {
        "colab": {
          "base_uri": "https://localhost:8080/"
        },
        "id": "0482272d",
        "outputId": "0d5a47f3-1b7f-40f7-de70-10bbcb77af00"
      },
      "outputs": [
        {
          "output_type": "execute_result",
          "data": {
            "text/plain": [
              "(35952, 4)"
            ]
          },
          "metadata": {},
          "execution_count": 6
        }
      ],
      "source": [
        "df.shape"
      ]
    },
    {
      "cell_type": "code",
      "execution_count": 7,
      "id": "076f1ad3",
      "metadata": {
        "colab": {
          "base_uri": "https://localhost:8080/"
        },
        "id": "076f1ad3",
        "outputId": "2ee5da2c-302e-415f-afe4-0b9e2d737759"
      },
      "outputs": [
        {
          "output_type": "stream",
          "name": "stdout",
          "text": [
            "<class 'pandas.core.frame.DataFrame'>\n",
            "RangeIndex: 35952 entries, 0 to 35951\n",
            "Data columns (total 4 columns):\n",
            " #   Column       Non-Null Count  Dtype  \n",
            "---  ------       --------------  -----  \n",
            " 0   StartDate    35952 non-null  object \n",
            " 1   Value (kWh)  35952 non-null  float64\n",
            " 2   day_of_week  35952 non-null  int64  \n",
            " 3   notes        35952 non-null  object \n",
            "dtypes: float64(1), int64(1), object(2)\n",
            "memory usage: 1.1+ MB\n"
          ]
        }
      ],
      "source": [
        "df.info()"
      ]
    },
    {
      "cell_type": "code",
      "execution_count": 8,
      "id": "IKYuy6u9oVZN",
      "metadata": {
        "colab": {
          "base_uri": "https://localhost:8080/"
        },
        "id": "IKYuy6u9oVZN",
        "outputId": "b3cb0579-1219-4128-b408-41e15342b815"
      },
      "outputs": [
        {
          "output_type": "execute_result",
          "data": {
            "text/plain": [
              "StartDate      0\n",
              "Value (kWh)    0\n",
              "day_of_week    0\n",
              "notes          0\n",
              "dtype: int64"
            ]
          },
          "metadata": {},
          "execution_count": 8
        }
      ],
      "source": [
        "df.isnull().sum()"
      ]
    },
    {
      "cell_type": "code",
      "execution_count": 9,
      "id": "93827e39",
      "metadata": {
        "id": "93827e39"
      },
      "outputs": [],
      "source": [
        "time = pd.date_range(start='1/1/2016 00:00:00',periods=35952,freq='H')\n",
        "df['time_stamp'] = pd.DataFrame(time)\n",
        "df.drop(['StartDate','day_of_week','notes'],axis=1,inplace=True)\n",
        "df = df.set_index('time_stamp')"
      ]
    },
    {
      "cell_type": "code",
      "execution_count": 10,
      "id": "S0kNKRMAocKq",
      "metadata": {
        "id": "S0kNKRMAocKq"
      },
      "outputs": [],
      "source": [
        "df.columns=['value']"
      ]
    },
    {
      "cell_type": "code",
      "execution_count": 11,
      "id": "522f2b8e",
      "metadata": {
        "colab": {
          "base_uri": "https://localhost:8080/"
        },
        "id": "522f2b8e",
        "outputId": "595f1eb6-2751-4285-d184-4ccb758e1ef8"
      },
      "outputs": [
        {
          "output_type": "execute_result",
          "data": {
            "text/plain": [
              "(35952, 1)"
            ]
          },
          "metadata": {},
          "execution_count": 11
        }
      ],
      "source": [
        "#df = df.iloc[26304:,]\n",
        "df.shape"
      ]
    },
    {
      "cell_type": "code",
      "execution_count": 12,
      "id": "7N0Xc0zT5atx",
      "metadata": {
        "colab": {
          "base_uri": "https://localhost:8080/",
          "height": 238
        },
        "id": "7N0Xc0zT5atx",
        "outputId": "6ecdd9f3-9c2b-4829-8322-8a7efab1d722"
      },
      "outputs": [
        {
          "output_type": "execute_result",
          "data": {
            "text/html": [
              "\n",
              "  <div id=\"df-36ebf5b8-bb80-476f-ad27-113228282a14\">\n",
              "    <div class=\"colab-df-container\">\n",
              "      <div>\n",
              "<style scoped>\n",
              "    .dataframe tbody tr th:only-of-type {\n",
              "        vertical-align: middle;\n",
              "    }\n",
              "\n",
              "    .dataframe tbody tr th {\n",
              "        vertical-align: top;\n",
              "    }\n",
              "\n",
              "    .dataframe thead th {\n",
              "        text-align: right;\n",
              "    }\n",
              "</style>\n",
              "<table border=\"1\" class=\"dataframe\">\n",
              "  <thead>\n",
              "    <tr style=\"text-align: right;\">\n",
              "      <th></th>\n",
              "      <th>value</th>\n",
              "    </tr>\n",
              "    <tr>\n",
              "      <th>time_stamp</th>\n",
              "      <th></th>\n",
              "    </tr>\n",
              "  </thead>\n",
              "  <tbody>\n",
              "    <tr>\n",
              "      <th>2016-01-01 00:00:00</th>\n",
              "      <td>1.057</td>\n",
              "    </tr>\n",
              "    <tr>\n",
              "      <th>2016-01-01 01:00:00</th>\n",
              "      <td>1.171</td>\n",
              "    </tr>\n",
              "    <tr>\n",
              "      <th>2016-01-01 02:00:00</th>\n",
              "      <td>0.560</td>\n",
              "    </tr>\n",
              "    <tr>\n",
              "      <th>2016-01-01 03:00:00</th>\n",
              "      <td>0.828</td>\n",
              "    </tr>\n",
              "    <tr>\n",
              "      <th>2016-01-01 04:00:00</th>\n",
              "      <td>0.932</td>\n",
              "    </tr>\n",
              "  </tbody>\n",
              "</table>\n",
              "</div>\n",
              "      <button class=\"colab-df-convert\" onclick=\"convertToInteractive('df-36ebf5b8-bb80-476f-ad27-113228282a14')\"\n",
              "              title=\"Convert this dataframe to an interactive table.\"\n",
              "              style=\"display:none;\">\n",
              "        \n",
              "  <svg xmlns=\"http://www.w3.org/2000/svg\" height=\"24px\"viewBox=\"0 0 24 24\"\n",
              "       width=\"24px\">\n",
              "    <path d=\"M0 0h24v24H0V0z\" fill=\"none\"/>\n",
              "    <path d=\"M18.56 5.44l.94 2.06.94-2.06 2.06-.94-2.06-.94-.94-2.06-.94 2.06-2.06.94zm-11 1L8.5 8.5l.94-2.06 2.06-.94-2.06-.94L8.5 2.5l-.94 2.06-2.06.94zm10 10l.94 2.06.94-2.06 2.06-.94-2.06-.94-.94-2.06-.94 2.06-2.06.94z\"/><path d=\"M17.41 7.96l-1.37-1.37c-.4-.4-.92-.59-1.43-.59-.52 0-1.04.2-1.43.59L10.3 9.45l-7.72 7.72c-.78.78-.78 2.05 0 2.83L4 21.41c.39.39.9.59 1.41.59.51 0 1.02-.2 1.41-.59l7.78-7.78 2.81-2.81c.8-.78.8-2.07 0-2.86zM5.41 20L4 18.59l7.72-7.72 1.47 1.35L5.41 20z\"/>\n",
              "  </svg>\n",
              "      </button>\n",
              "      \n",
              "  <style>\n",
              "    .colab-df-container {\n",
              "      display:flex;\n",
              "      flex-wrap:wrap;\n",
              "      gap: 12px;\n",
              "    }\n",
              "\n",
              "    .colab-df-convert {\n",
              "      background-color: #E8F0FE;\n",
              "      border: none;\n",
              "      border-radius: 50%;\n",
              "      cursor: pointer;\n",
              "      display: none;\n",
              "      fill: #1967D2;\n",
              "      height: 32px;\n",
              "      padding: 0 0 0 0;\n",
              "      width: 32px;\n",
              "    }\n",
              "\n",
              "    .colab-df-convert:hover {\n",
              "      background-color: #E2EBFA;\n",
              "      box-shadow: 0px 1px 2px rgba(60, 64, 67, 0.3), 0px 1px 3px 1px rgba(60, 64, 67, 0.15);\n",
              "      fill: #174EA6;\n",
              "    }\n",
              "\n",
              "    [theme=dark] .colab-df-convert {\n",
              "      background-color: #3B4455;\n",
              "      fill: #D2E3FC;\n",
              "    }\n",
              "\n",
              "    [theme=dark] .colab-df-convert:hover {\n",
              "      background-color: #434B5C;\n",
              "      box-shadow: 0px 1px 3px 1px rgba(0, 0, 0, 0.15);\n",
              "      filter: drop-shadow(0px 1px 2px rgba(0, 0, 0, 0.3));\n",
              "      fill: #FFFFFF;\n",
              "    }\n",
              "  </style>\n",
              "\n",
              "      <script>\n",
              "        const buttonEl =\n",
              "          document.querySelector('#df-36ebf5b8-bb80-476f-ad27-113228282a14 button.colab-df-convert');\n",
              "        buttonEl.style.display =\n",
              "          google.colab.kernel.accessAllowed ? 'block' : 'none';\n",
              "\n",
              "        async function convertToInteractive(key) {\n",
              "          const element = document.querySelector('#df-36ebf5b8-bb80-476f-ad27-113228282a14');\n",
              "          const dataTable =\n",
              "            await google.colab.kernel.invokeFunction('convertToInteractive',\n",
              "                                                     [key], {});\n",
              "          if (!dataTable) return;\n",
              "\n",
              "          const docLinkHtml = 'Like what you see? Visit the ' +\n",
              "            '<a target=\"_blank\" href=https://colab.research.google.com/notebooks/data_table.ipynb>data table notebook</a>'\n",
              "            + ' to learn more about interactive tables.';\n",
              "          element.innerHTML = '';\n",
              "          dataTable['output_type'] = 'display_data';\n",
              "          await google.colab.output.renderOutput(dataTable, element);\n",
              "          const docLink = document.createElement('div');\n",
              "          docLink.innerHTML = docLinkHtml;\n",
              "          element.appendChild(docLink);\n",
              "        }\n",
              "      </script>\n",
              "    </div>\n",
              "  </div>\n",
              "  "
            ],
            "text/plain": [
              "                     value\n",
              "time_stamp                \n",
              "2016-01-01 00:00:00  1.057\n",
              "2016-01-01 01:00:00  1.171\n",
              "2016-01-01 02:00:00  0.560\n",
              "2016-01-01 03:00:00  0.828\n",
              "2016-01-01 04:00:00  0.932"
            ]
          },
          "metadata": {},
          "execution_count": 12
        }
      ],
      "source": [
        "df.head()"
      ]
    },
    {
      "cell_type": "code",
      "execution_count": 13,
      "id": "THAXxSe75axW",
      "metadata": {
        "colab": {
          "base_uri": "https://localhost:8080/",
          "height": 238
        },
        "id": "THAXxSe75axW",
        "outputId": "e900029f-c0e0-4831-8a3b-3cf642e4fb4a"
      },
      "outputs": [
        {
          "output_type": "execute_result",
          "data": {
            "text/html": [
              "\n",
              "  <div id=\"df-dff149fe-cc72-4d40-842e-01f7e4b8c166\">\n",
              "    <div class=\"colab-df-container\">\n",
              "      <div>\n",
              "<style scoped>\n",
              "    .dataframe tbody tr th:only-of-type {\n",
              "        vertical-align: middle;\n",
              "    }\n",
              "\n",
              "    .dataframe tbody tr th {\n",
              "        vertical-align: top;\n",
              "    }\n",
              "\n",
              "    .dataframe thead th {\n",
              "        text-align: right;\n",
              "    }\n",
              "</style>\n",
              "<table border=\"1\" class=\"dataframe\">\n",
              "  <thead>\n",
              "    <tr style=\"text-align: right;\">\n",
              "      <th></th>\n",
              "      <th>value</th>\n",
              "    </tr>\n",
              "    <tr>\n",
              "      <th>time_stamp</th>\n",
              "      <th></th>\n",
              "    </tr>\n",
              "  </thead>\n",
              "  <tbody>\n",
              "    <tr>\n",
              "      <th>2020-02-06 19:00:00</th>\n",
              "      <td>1.307</td>\n",
              "    </tr>\n",
              "    <tr>\n",
              "      <th>2020-02-06 20:00:00</th>\n",
              "      <td>2.872</td>\n",
              "    </tr>\n",
              "    <tr>\n",
              "      <th>2020-02-06 21:00:00</th>\n",
              "      <td>2.138</td>\n",
              "    </tr>\n",
              "    <tr>\n",
              "      <th>2020-02-06 22:00:00</th>\n",
              "      <td>2.199</td>\n",
              "    </tr>\n",
              "    <tr>\n",
              "      <th>2020-02-06 23:00:00</th>\n",
              "      <td>1.809</td>\n",
              "    </tr>\n",
              "  </tbody>\n",
              "</table>\n",
              "</div>\n",
              "      <button class=\"colab-df-convert\" onclick=\"convertToInteractive('df-dff149fe-cc72-4d40-842e-01f7e4b8c166')\"\n",
              "              title=\"Convert this dataframe to an interactive table.\"\n",
              "              style=\"display:none;\">\n",
              "        \n",
              "  <svg xmlns=\"http://www.w3.org/2000/svg\" height=\"24px\"viewBox=\"0 0 24 24\"\n",
              "       width=\"24px\">\n",
              "    <path d=\"M0 0h24v24H0V0z\" fill=\"none\"/>\n",
              "    <path d=\"M18.56 5.44l.94 2.06.94-2.06 2.06-.94-2.06-.94-.94-2.06-.94 2.06-2.06.94zm-11 1L8.5 8.5l.94-2.06 2.06-.94-2.06-.94L8.5 2.5l-.94 2.06-2.06.94zm10 10l.94 2.06.94-2.06 2.06-.94-2.06-.94-.94-2.06-.94 2.06-2.06.94z\"/><path d=\"M17.41 7.96l-1.37-1.37c-.4-.4-.92-.59-1.43-.59-.52 0-1.04.2-1.43.59L10.3 9.45l-7.72 7.72c-.78.78-.78 2.05 0 2.83L4 21.41c.39.39.9.59 1.41.59.51 0 1.02-.2 1.41-.59l7.78-7.78 2.81-2.81c.8-.78.8-2.07 0-2.86zM5.41 20L4 18.59l7.72-7.72 1.47 1.35L5.41 20z\"/>\n",
              "  </svg>\n",
              "      </button>\n",
              "      \n",
              "  <style>\n",
              "    .colab-df-container {\n",
              "      display:flex;\n",
              "      flex-wrap:wrap;\n",
              "      gap: 12px;\n",
              "    }\n",
              "\n",
              "    .colab-df-convert {\n",
              "      background-color: #E8F0FE;\n",
              "      border: none;\n",
              "      border-radius: 50%;\n",
              "      cursor: pointer;\n",
              "      display: none;\n",
              "      fill: #1967D2;\n",
              "      height: 32px;\n",
              "      padding: 0 0 0 0;\n",
              "      width: 32px;\n",
              "    }\n",
              "\n",
              "    .colab-df-convert:hover {\n",
              "      background-color: #E2EBFA;\n",
              "      box-shadow: 0px 1px 2px rgba(60, 64, 67, 0.3), 0px 1px 3px 1px rgba(60, 64, 67, 0.15);\n",
              "      fill: #174EA6;\n",
              "    }\n",
              "\n",
              "    [theme=dark] .colab-df-convert {\n",
              "      background-color: #3B4455;\n",
              "      fill: #D2E3FC;\n",
              "    }\n",
              "\n",
              "    [theme=dark] .colab-df-convert:hover {\n",
              "      background-color: #434B5C;\n",
              "      box-shadow: 0px 1px 3px 1px rgba(0, 0, 0, 0.15);\n",
              "      filter: drop-shadow(0px 1px 2px rgba(0, 0, 0, 0.3));\n",
              "      fill: #FFFFFF;\n",
              "    }\n",
              "  </style>\n",
              "\n",
              "      <script>\n",
              "        const buttonEl =\n",
              "          document.querySelector('#df-dff149fe-cc72-4d40-842e-01f7e4b8c166 button.colab-df-convert');\n",
              "        buttonEl.style.display =\n",
              "          google.colab.kernel.accessAllowed ? 'block' : 'none';\n",
              "\n",
              "        async function convertToInteractive(key) {\n",
              "          const element = document.querySelector('#df-dff149fe-cc72-4d40-842e-01f7e4b8c166');\n",
              "          const dataTable =\n",
              "            await google.colab.kernel.invokeFunction('convertToInteractive',\n",
              "                                                     [key], {});\n",
              "          if (!dataTable) return;\n",
              "\n",
              "          const docLinkHtml = 'Like what you see? Visit the ' +\n",
              "            '<a target=\"_blank\" href=https://colab.research.google.com/notebooks/data_table.ipynb>data table notebook</a>'\n",
              "            + ' to learn more about interactive tables.';\n",
              "          element.innerHTML = '';\n",
              "          dataTable['output_type'] = 'display_data';\n",
              "          await google.colab.output.renderOutput(dataTable, element);\n",
              "          const docLink = document.createElement('div');\n",
              "          docLink.innerHTML = docLinkHtml;\n",
              "          element.appendChild(docLink);\n",
              "        }\n",
              "      </script>\n",
              "    </div>\n",
              "  </div>\n",
              "  "
            ],
            "text/plain": [
              "                     value\n",
              "time_stamp                \n",
              "2020-02-06 19:00:00  1.307\n",
              "2020-02-06 20:00:00  2.872\n",
              "2020-02-06 21:00:00  2.138\n",
              "2020-02-06 22:00:00  2.199\n",
              "2020-02-06 23:00:00  1.809"
            ]
          },
          "metadata": {},
          "execution_count": 13
        }
      ],
      "source": [
        "df.tail()"
      ]
    },
    {
      "cell_type": "code",
      "execution_count": 14,
      "id": "bQk15MFgouDq",
      "metadata": {
        "id": "bQk15MFgouDq"
      },
      "outputs": [],
      "source": [
        "plt.rcParams['figure.figsize'] = [15,8]"
      ]
    },
    {
      "cell_type": "code",
      "execution_count": 15,
      "id": "3b098ae2",
      "metadata": {
        "colab": {
          "base_uri": "https://localhost:8080/",
          "height": 523
        },
        "id": "3b098ae2",
        "outputId": "d1afcbe7-e524-44e2-9d06-9f67f13650ef"
      },
      "outputs": [
        {
          "output_type": "display_data",
          "data": {
            "image/png": "[encoded data removed]",
            "text/plain": [
              "<Figure size 1080x576 with 1 Axes>"
            ]
          },
          "metadata": {
            "needs_background": "light"
          }
        }
      ],
      "source": [
        "plt.plot(df,color='blue')\n",
        "plt.title('Hourly Residential Power Usage',fontsize=20)\n",
        "plt.xlabel('Date',fontsize=15)\n",
        "plt.ylabel('Units',fontsize=15)\n",
        "plt.show()"
      ]
    },
    {
      "cell_type": "code",
      "execution_count": 16,
      "id": "bf59d3e0",
      "metadata": {
        "id": "bf59d3e0"
      },
      "outputs": [],
      "source": [
        "def convert2matrix(data_arr, look_back):\n",
        "    X, Y =[], []\n",
        "    for i in range(len(data_arr)-look_back):\n",
        "        d=i+look_back  \n",
        "        X.append(data_arr[i:d,0])\n",
        "        Y.append(data_arr[d,0])\n",
        "    return np.array(X), np.array(Y)"
      ]
    },
    {
      "cell_type": "code",
      "execution_count": 17,
      "id": "323eac45",
      "metadata": {
        "id": "323eac45"
      },
      "outputs": [],
      "source": [
        "from sklearn.preprocessing import MinMaxScaler\n",
        "#create numpy.ndarray \n",
        "df['value'] = df['value'].astype(np.float32)\n",
        "df_arr = df.values\n",
        "df_arr = np.reshape(df_arr, (-1, 1))\n",
        "scaler = MinMaxScaler(feature_range=(0.1, 1))\n",
        "df_arr = scaler.fit_transform(df_arr)"
      ]
    },
    {
      "cell_type": "code",
      "execution_count": 18,
      "id": "1cea6c5f",
      "metadata": {
        "id": "1cea6c5f"
      },
      "outputs": [],
      "source": [
        "#Split data set into testing dataset and train dataset\n",
        "train_size = 32000\n",
        "train, test =df_arr[0:train_size,:], df_arr[train_size:len(df_arr),:]\n",
        "# setup look_back window \n",
        "look_back = 23\n",
        "#convert dataset into right shape in order to input into the DNN\n",
        "trainX, trainY = convert2matrix(train, look_back)\n",
        "testX, testY = convert2matrix(test, look_back)"
      ]
    },
    {
      "cell_type": "code",
      "execution_count": 19,
      "id": "c7d46c39",
      "metadata": {
        "colab": {
          "base_uri": "https://localhost:8080/"
        },
        "id": "c7d46c39",
        "outputId": "56d4067b-5eac-4ae4-8230-031ba73b8b80"
      },
      "outputs": [
        {
          "output_type": "stream",
          "name": "stdout",
          "text": [
            "(31977, 23)\n",
            "(31977,)\n",
            "(3929, 23)\n",
            "(3929,)\n"
          ]
        }
      ],
      "source": [
        "print(trainX.shape)\n",
        "print(trainY.shape)\n",
        "print(testX.shape)\n",
        "print(testY.shape)"
      ]
    },
    {
      "cell_type": "code",
      "execution_count": 20,
      "id": "GIc1nRcCuP3G",
      "metadata": {
        "colab": {
          "base_uri": "https://localhost:8080/"
        },
        "id": "GIc1nRcCuP3G",
        "outputId": "64fcfb7d-c03a-415e-cfd0-4265630137ee"
      },
      "outputs": [
        {
          "output_type": "stream",
          "name": "stdout",
          "text": [
            "\u001b[?25l\r\u001b[K     |███▍                            | 10 kB 13.4 MB/s eta 0:00:01\r\u001b[K     |██████▊                         | 20 kB 17.6 MB/s eta 0:00:01\r\u001b[K     |██████████                      | 30 kB 11.4 MB/s eta 0:00:01\r\u001b[K     |█████████████▍                  | 40 kB 9.8 MB/s eta 0:00:01\r\u001b[K     |████████████████▊               | 51 kB 4.6 MB/s eta 0:00:01\r\u001b[K     |████████████████████            | 61 kB 5.4 MB/s eta 0:00:01\r\u001b[K     |███████████████████████▍        | 71 kB 6.0 MB/s eta 0:00:01\r\u001b[K     |██████████████████████████▊     | 81 kB 6.1 MB/s eta 0:00:01\r\u001b[K     |██████████████████████████████  | 92 kB 6.7 MB/s eta 0:00:01\r\u001b[K     |████████████████████████████████| 98 kB 3.5 MB/s \n",
            "\u001b[?25h"
          ]
        }
      ],
      "source": [
        "!pip install -q -U keras-tuner"
      ]
    },
    {
      "cell_type": "code",
      "execution_count": 21,
      "id": "M5te5ih0uP6u",
      "metadata": {
        "id": "M5te5ih0uP6u"
      },
      "outputs": [],
      "source": [
        "import pandas as pd\n",
        "from tensorflow import keras\n",
        "from tensorflow.keras import layers\n",
        "#from keras_tuner.tuners import RandomSearch\n",
        "from tensorflow.keras.models import Sequential\n",
        "from tensorflow.keras.layers import LSTM\n",
        "from tensorflow.keras.layers import Dense,Dropout\n",
        "from tensorflow.keras.layers import Flatten\n",
        "import matplotlib.pyplot as plt"
      ]
    },
    {
      "cell_type": "code",
      "execution_count": null,
      "id": "rYiJC5hXuP_e",
      "metadata": {
        "id": "rYiJC5hXuP_e"
      },
      "outputs": [],
      "source": [
        "def build_model(hp):\n",
        "    model = keras.Sequential()\n",
        "    for i in range(hp.Int('num_layers', 1, 10)):\n",
        "        model.add(layers.Dense(units=hp.Int('units_' + str(i),\n",
        "                                            min_value=8,\n",
        "                                            max_value = 256,\n",
        "                                            step=8),\n",
        "                                            activation= \"relu\"))\n",
        "        if hp.Boolean(\"dropout\"):\n",
        "          model.add(Dropout(hp.Float('Dropout_rate',min_value=0,max_value=0.5,step=0.1)))\n",
        "    model.add(layers.Dense(1, activation='linear'))\n",
        "    model.compile(\n",
        "        optimizer=keras.optimizers.Adam(\n",
        "             hp.Float('learning_rate', min_value=1e-4, max_value=1e-1, sampling=\"log\")),\n",
        "        loss='mape',\n",
        "        metrics=['mape'])\n",
        "    return model"
      ]
    },
    {
      "cell_type": "code",
      "execution_count": null,
      "id": "2h_gRerjuQCT",
      "metadata": {
        "id": "2h_gRerjuQCT"
      },
      "outputs": [],
      "source": [
        "tuner = RandomSearch(\n",
        "    build_model,\n",
        "    objective='val_mape',\n",
        "    max_trials=20,\n",
        "    executions_per_trial=1,\n",
        "    directory='project',\n",
        "    project_name='resident_consum_1')"
      ]
    },
    {
      "cell_type": "code",
      "execution_count": null,
      "id": "Dg5AHN3guQFu",
      "metadata": {
        "colab": {
          "base_uri": "https://localhost:8080/"
        },
        "id": "Dg5AHN3guQFu",
        "outputId": "cc36dd80-41ac-4b34-e474-499d535380a3"
      },
      "outputs": [
        {
          "name": "stdout",
          "output_type": "stream",
          "text": [
            "Search space summary\n",
            "Default search space size: 4\n",
            "num_layers (Int)\n",
            "{'default': None, 'conditions': [], 'min_value': 1, 'max_value': 10, 'step': 1, 'sampling': None}\n",
            "units_0 (Int)\n",
            "{'default': None, 'conditions': [], 'min_value': 8, 'max_value': 256, 'step': 8, 'sampling': None}\n",
            "dropout (Boolean)\n",
            "{'default': False, 'conditions': []}\n",
            "learning_rate (Float)\n",
            "{'default': 0.0001, 'conditions': [], 'min_value': 0.0001, 'max_value': 0.1, 'step': None, 'sampling': 'log'}\n"
          ]
        }
      ],
      "source": [
        "tuner.search_space_summary()"
      ]
    },
    {
      "cell_type": "code",
      "execution_count": null,
      "id": "TiBXdF0K8Gpr",
      "metadata": {
        "id": "TiBXdF0K8Gpr"
      },
      "outputs": [],
      "source": [
        "tuner.search(trainX, trainY,\n",
        "             epochs=200,\n",
        "             batch_size=36,\n",
        "             validation_data=(testX, testY))"
      ]
    },
    {
      "cell_type": "code",
      "execution_count": null,
      "id": "VXXGH_RK8GsD",
      "metadata": {
        "colab": {
          "base_uri": "https://localhost:8080/"
        },
        "id": "VXXGH_RK8GsD",
        "outputId": "a780afa9-4ca1-45ad-db77-1d777cbf4248"
      },
      "outputs": [
        {
          "name": "stdout",
          "output_type": "stream",
          "text": [
            "Results summary\n",
            "Results in project/resident_consum_1\n",
            "Showing 10 best trials\n",
            "Objective(name='val_mape', direction='min')\n",
            "Trial summary\n",
            "Hyperparameters:\n",
            "num_layers: 6\n",
            "units_0: 56\n",
            "dropout: False\n",
            "learning_rate: 0.005735984373913224\n",
            "Dropout_rate: 0.5\n",
            "units_1: 192\n",
            "units_2: 184\n",
            "units_3: 136\n",
            "units_4: 184\n",
            "units_5: 8\n",
            "Score: 27.22334098815918\n",
            "Trial summary\n",
            "Hyperparameters:\n",
            "num_layers: 3\n",
            "units_0: 96\n",
            "dropout: False\n",
            "learning_rate: 0.010292914465806513\n",
            "Dropout_rate: 0.0\n",
            "units_1: 200\n",
            "units_2: 16\n",
            "units_3: 32\n",
            "units_4: 176\n",
            "units_5: 232\n",
            "units_6: 80\n",
            "units_7: 96\n",
            "units_8: 152\n",
            "Score: 27.268409729003906\n",
            "Trial summary\n",
            "Hyperparameters:\n",
            "num_layers: 4\n",
            "units_0: 24\n",
            "dropout: False\n",
            "learning_rate: 0.002901086622163988\n",
            "Dropout_rate: 0.30000000000000004\n",
            "units_1: 8\n",
            "units_2: 240\n",
            "units_3: 64\n",
            "units_4: 248\n",
            "units_5: 104\n",
            "units_6: 160\n",
            "units_7: 144\n",
            "units_8: 224\n",
            "Score: 27.408287048339844\n",
            "Trial summary\n",
            "Hyperparameters:\n",
            "num_layers: 3\n",
            "units_0: 200\n",
            "dropout: False\n",
            "learning_rate: 0.0015750366262371192\n",
            "Dropout_rate: 0.4\n",
            "units_1: 160\n",
            "units_2: 208\n",
            "units_3: 256\n",
            "units_4: 152\n",
            "units_5: 16\n",
            "units_6: 152\n",
            "units_7: 120\n",
            "units_8: 80\n",
            "Score: 27.438762664794922\n",
            "Trial summary\n",
            "Hyperparameters:\n",
            "num_layers: 4\n",
            "units_0: 64\n",
            "dropout: True\n",
            "learning_rate: 0.013209940474694898\n",
            "Dropout_rate: 0.0\n",
            "units_1: 8\n",
            "units_2: 8\n",
            "units_3: 8\n",
            "Score: 27.587223052978516\n",
            "Trial summary\n",
            "Hyperparameters:\n",
            "num_layers: 8\n",
            "units_0: 64\n",
            "dropout: False\n",
            "learning_rate: 0.0001523749838606142\n",
            "Dropout_rate: 0.5\n",
            "units_1: 216\n",
            "units_2: 64\n",
            "units_3: 248\n",
            "units_4: 32\n",
            "units_5: 96\n",
            "units_6: 8\n",
            "units_7: 8\n",
            "Score: 27.67123794555664\n",
            "Trial summary\n",
            "Hyperparameters:\n",
            "num_layers: 8\n",
            "units_0: 96\n",
            "dropout: False\n",
            "learning_rate: 0.00016282573514922666\n",
            "Dropout_rate: 0.4\n",
            "units_1: 120\n",
            "units_2: 104\n",
            "units_3: 40\n",
            "units_4: 216\n",
            "units_5: 56\n",
            "units_6: 152\n",
            "units_7: 152\n",
            "Score: 27.895286560058594\n",
            "Trial summary\n",
            "Hyperparameters:\n",
            "num_layers: 9\n",
            "units_0: 224\n",
            "dropout: False\n",
            "learning_rate: 0.00016598067936267184\n",
            "Dropout_rate: 0.0\n",
            "units_1: 112\n",
            "units_2: 16\n",
            "units_3: 200\n",
            "units_4: 192\n",
            "units_5: 56\n",
            "units_6: 64\n",
            "units_7: 96\n",
            "units_8: 8\n",
            "Score: 27.916677474975586\n",
            "Trial summary\n",
            "Hyperparameters:\n",
            "num_layers: 8\n",
            "units_0: 96\n",
            "dropout: False\n",
            "learning_rate: 0.0019152928071079563\n",
            "Dropout_rate: 0.2\n",
            "units_1: 160\n",
            "units_2: 232\n",
            "units_3: 24\n",
            "units_4: 128\n",
            "units_5: 56\n",
            "units_6: 120\n",
            "units_7: 160\n",
            "Score: 27.977737426757812\n",
            "Trial summary\n",
            "Hyperparameters:\n",
            "num_layers: 5\n",
            "units_0: 168\n",
            "dropout: True\n",
            "learning_rate: 0.0007905544711302536\n",
            "Dropout_rate: 0.1\n",
            "units_1: 96\n",
            "units_2: 112\n",
            "units_3: 88\n",
            "units_4: 208\n",
            "units_5: 8\n",
            "units_6: 136\n",
            "units_7: 88\n",
            "Score: 28.00272560119629\n"
          ]
        }
      ],
      "source": [
        "tuner.results_summary()"
      ]
    },
    {
      "cell_type": "code",
      "execution_count": null,
      "id": "FBpLenJ_DZMX",
      "metadata": {
        "id": "FBpLenJ_DZMX"
      },
      "outputs": [],
      "source": [
        "from warnings import filterwarnings\n",
        "filterwarnings('ignore')"
      ]
    },
    {
      "cell_type": "code",
      "execution_count": null,
      "id": "eL-a8rAv8Gvg",
      "metadata": {
        "colab": {
          "base_uri": "https://localhost:8080/"
        },
        "id": "eL-a8rAv8Gvg",
        "outputId": "9a4d8aa3-e282-4d3a-dea5-669f3891c737"
      },
      "outputs": [
        {
          "name": "stdout",
          "output_type": "stream",
          "text": [
            "WARNING:tensorflow:Unresolved object in checkpoint: (root).layer_with_weights-0.kernel\n",
            "WARNING:tensorflow:Unresolved object in checkpoint: (root).layer_with_weights-0.bias\n",
            "WARNING:tensorflow:Unresolved object in checkpoint: (root).layer_with_weights-1.kernel\n",
            "WARNING:tensorflow:Unresolved object in checkpoint: (root).layer_with_weights-1.bias\n",
            "WARNING:tensorflow:Unresolved object in checkpoint: (root).layer_with_weights-2.kernel\n",
            "WARNING:tensorflow:Unresolved object in checkpoint: (root).layer_with_weights-2.bias\n",
            "WARNING:tensorflow:Unresolved object in checkpoint: (root).layer_with_weights-3.kernel\n",
            "WARNING:tensorflow:Unresolved object in checkpoint: (root).layer_with_weights-3.bias\n",
            "WARNING:tensorflow:Unresolved object in checkpoint: (root).optimizer.iter\n",
            "WARNING:tensorflow:Unresolved object in checkpoint: (root).optimizer.beta_1\n",
            "WARNING:tensorflow:Unresolved object in checkpoint: (root).optimizer.beta_2\n",
            "WARNING:tensorflow:Unresolved object in checkpoint: (root).optimizer.decay\n",
            "WARNING:tensorflow:Unresolved object in checkpoint: (root).optimizer.learning_rate\n",
            "WARNING:tensorflow:Unresolved object in checkpoint: (root).optimizer's state 'm' for (root).layer_with_weights-0.kernel\n",
            "WARNING:tensorflow:Unresolved object in checkpoint: (root).optimizer's state 'm' for (root).layer_with_weights-0.bias\n",
            "WARNING:tensorflow:Unresolved object in checkpoint: (root).optimizer's state 'm' for (root).layer_with_weights-1.kernel\n",
            "WARNING:tensorflow:Unresolved object in checkpoint: (root).optimizer's state 'm' for (root).layer_with_weights-1.bias\n",
            "WARNING:tensorflow:Unresolved object in checkpoint: (root).optimizer's state 'm' for (root).layer_with_weights-2.kernel\n",
            "WARNING:tensorflow:Unresolved object in checkpoint: (root).optimizer's state 'm' for (root).layer_with_weights-2.bias\n",
            "WARNING:tensorflow:Unresolved object in checkpoint: (root).optimizer's state 'm' for (root).layer_with_weights-3.kernel\n",
            "WARNING:tensorflow:Unresolved object in checkpoint: (root).optimizer's state 'm' for (root).layer_with_weights-3.bias\n",
            "WARNING:tensorflow:Unresolved object in checkpoint: (root).optimizer's state 'v' for (root).layer_with_weights-0.kernel\n",
            "WARNING:tensorflow:Unresolved object in checkpoint: (root).optimizer's state 'v' for (root).layer_with_weights-0.bias\n",
            "WARNING:tensorflow:Unresolved object in checkpoint: (root).optimizer's state 'v' for (root).layer_with_weights-1.kernel\n",
            "WARNING:tensorflow:Unresolved object in checkpoint: (root).optimizer's state 'v' for (root).layer_with_weights-1.bias\n",
            "WARNING:tensorflow:Unresolved object in checkpoint: (root).optimizer's state 'v' for (root).layer_with_weights-2.kernel\n",
            "WARNING:tensorflow:Unresolved object in checkpoint: (root).optimizer's state 'v' for (root).layer_with_weights-2.bias\n",
            "WARNING:tensorflow:Unresolved object in checkpoint: (root).optimizer's state 'v' for (root).layer_with_weights-3.kernel\n",
            "WARNING:tensorflow:Unresolved object in checkpoint: (root).optimizer's state 'v' for (root).layer_with_weights-3.bias\n",
            "WARNING:tensorflow:A checkpoint was restored (e.g. tf.train.Checkpoint.restore or tf.keras.Model.load_weights) but not all checkpointed values were used. See above for specific issues. Use expect_partial() on the load status object, e.g. tf.train.Checkpoint.restore(...).expect_partial(), to silence these warnings, or use assert_consumed() to make the check explicit. See https://www.tensorflow.org/guide/checkpoint#loading_mechanics for details.\n",
            "Model: \"sequential\"\n",
            "_________________________________________________________________\n",
            " Layer (type)                Output Shape              Param #   \n",
            "=================================================================\n",
            " dense (Dense)               (None, 56)                1400      \n",
            "                                                                 \n",
            " dense_1 (Dense)             (None, 192)               10944     \n",
            "                                                                 \n",
            " dense_2 (Dense)             (None, 184)               35512     \n",
            "                                                                 \n",
            " dense_3 (Dense)             (None, 136)               25160     \n",
            "                                                                 \n",
            " dense_4 (Dense)             (None, 184)               25208     \n",
            "                                                                 \n",
            " dense_5 (Dense)             (None, 8)                 1480      \n",
            "                                                                 \n",
            " dense_6 (Dense)             (None, 1)                 9         \n",
            "                                                                 \n",
            "=================================================================\n",
            "Total params: 99,713\n",
            "Trainable params: 99,713\n",
            "Non-trainable params: 0\n",
            "_________________________________________________________________\n"
          ]
        }
      ],
      "source": [
        "models = tuner.get_best_models(num_models=2)\n",
        "best_model = models[0]\n",
        "# Build the model.\n",
        "# Needed for `Sequential` without specified `input_shape`.\n",
        "best_model.build(input_shape=(None, 24))\n",
        "best_model.summary()"
      ]
    },
    {
      "cell_type": "code",
      "execution_count": 23,
      "id": "ovKDjDHZEmLV",
      "metadata": {
        "id": "ovKDjDHZEmLV"
      },
      "outputs": [],
      "source": [
        "from tensorflow.keras import optimizers"
      ]
    },
    {
      "cell_type": "code",
      "execution_count": 26,
      "id": "0e187ddc",
      "metadata": {
        "colab": {
          "base_uri": "https://localhost:8080/"
        },
        "id": "0e187ddc",
        "outputId": "5f63cf19-b4d2-434a-f73e-328741aaf4ba"
      },
      "outputs": [
        {
          "output_type": "stream",
          "name": "stdout",
          "text": [
            "Epoch 1/100\n",
            "889/889 [==============================] - 4s 4ms/step - loss: 76.4363 - mape: 76.4363 - val_loss: 28.9824 - val_mape: 28.9824\n",
            "Epoch 2/100\n",
            "889/889 [==============================] - 4s 4ms/step - loss: 37.7895 - mape: 37.7895 - val_loss: 19.9636 - val_mape: 19.9636\n",
            "Epoch 3/100\n",
            "889/889 [==============================] - 3s 4ms/step - loss: 27.2289 - mape: 27.2289 - val_loss: 17.7957 - val_mape: 17.7957\n",
            "Epoch 4/100\n",
            "889/889 [==============================] - 3s 4ms/step - loss: 23.0494 - mape: 23.0494 - val_loss: 16.6778 - val_mape: 16.6778\n",
            "Epoch 5/100\n",
            "889/889 [==============================] - 4s 4ms/step - loss: 20.6586 - mape: 20.6586 - val_loss: 16.2433 - val_mape: 16.2433\n",
            "Epoch 6/100\n",
            "889/889 [==============================] - 4s 4ms/step - loss: 19.1059 - mape: 19.1059 - val_loss: 15.7257 - val_mape: 15.7257\n",
            "Epoch 7/100\n",
            "889/889 [==============================] - 3s 4ms/step - loss: 18.2498 - mape: 18.2498 - val_loss: 15.3630 - val_mape: 15.3630\n",
            "Epoch 8/100\n",
            "889/889 [==============================] - 4s 4ms/step - loss: 17.6157 - mape: 17.6157 - val_loss: 15.0800 - val_mape: 15.0800\n",
            "Epoch 9/100\n",
            "889/889 [==============================] - 3s 4ms/step - loss: 17.1778 - mape: 17.1778 - val_loss: 14.8052 - val_mape: 14.8052\n",
            "Epoch 10/100\n",
            "889/889 [==============================] - 3s 4ms/step - loss: 16.8417 - mape: 16.8417 - val_loss: 14.6482 - val_mape: 14.6482\n",
            "Epoch 11/100\n",
            "889/889 [==============================] - 3s 4ms/step - loss: 16.6297 - mape: 16.6297 - val_loss: 14.4582 - val_mape: 14.4582\n",
            "Epoch 12/100\n",
            "889/889 [==============================] - 3s 4ms/step - loss: 16.3626 - mape: 16.3626 - val_loss: 14.3168 - val_mape: 14.3168\n",
            "Epoch 13/100\n",
            "889/889 [==============================] - 3s 4ms/step - loss: 16.2443 - mape: 16.2443 - val_loss: 14.1633 - val_mape: 14.1633\n",
            "Epoch 14/100\n",
            "889/889 [==============================] - 3s 4ms/step - loss: 16.0129 - mape: 16.0129 - val_loss: 14.0715 - val_mape: 14.0715\n",
            "Epoch 15/100\n",
            "889/889 [==============================] - 3s 4ms/step - loss: 15.8854 - mape: 15.8854 - val_loss: 13.9153 - val_mape: 13.9153\n",
            "Epoch 16/100\n",
            "889/889 [==============================] - 3s 4ms/step - loss: 15.8040 - mape: 15.8040 - val_loss: 13.8301 - val_mape: 13.8301\n",
            "Epoch 17/100\n",
            "889/889 [==============================] - 3s 4ms/step - loss: 15.6736 - mape: 15.6736 - val_loss: 13.8573 - val_mape: 13.8573\n",
            "Epoch 18/100\n",
            "889/889 [==============================] - 4s 4ms/step - loss: 15.5610 - mape: 15.5610 - val_loss: 13.7973 - val_mape: 13.7973\n",
            "Epoch 19/100\n",
            "889/889 [==============================] - 4s 4ms/step - loss: 15.4676 - mape: 15.4676 - val_loss: 13.6053 - val_mape: 13.6053\n",
            "Epoch 20/100\n",
            "889/889 [==============================] - 3s 4ms/step - loss: 15.4018 - mape: 15.4018 - val_loss: 13.5036 - val_mape: 13.5036\n",
            "Epoch 21/100\n",
            "889/889 [==============================] - 3s 4ms/step - loss: 15.2855 - mape: 15.2855 - val_loss: 13.5054 - val_mape: 13.5054\n",
            "Epoch 22/100\n",
            "889/889 [==============================] - 3s 4ms/step - loss: 15.2766 - mape: 15.2766 - val_loss: 13.4731 - val_mape: 13.4731\n",
            "Epoch 23/100\n",
            "889/889 [==============================] - 4s 4ms/step - loss: 15.2207 - mape: 15.2207 - val_loss: 13.4023 - val_mape: 13.4023\n",
            "Epoch 24/100\n",
            "889/889 [==============================] - 3s 4ms/step - loss: 15.1219 - mape: 15.1219 - val_loss: 13.3359 - val_mape: 13.3359\n",
            "Epoch 25/100\n",
            "889/889 [==============================] - 3s 4ms/step - loss: 15.1233 - mape: 15.1233 - val_loss: 13.2858 - val_mape: 13.2858\n",
            "Epoch 26/100\n",
            "889/889 [==============================] - 3s 4ms/step - loss: 15.0699 - mape: 15.0699 - val_loss: 13.3527 - val_mape: 13.3527\n",
            "Epoch 27/100\n",
            "889/889 [==============================] - 4s 4ms/step - loss: 15.0182 - mape: 15.0182 - val_loss: 13.3514 - val_mape: 13.3514\n",
            "Epoch 28/100\n",
            "889/889 [==============================] - 3s 4ms/step - loss: 14.9457 - mape: 14.9457 - val_loss: 13.2157 - val_mape: 13.2157\n",
            "Epoch 29/100\n",
            "889/889 [==============================] - 3s 4ms/step - loss: 14.9034 - mape: 14.9034 - val_loss: 13.1811 - val_mape: 13.1811\n",
            "Epoch 30/100\n",
            "889/889 [==============================] - 3s 4ms/step - loss: 14.8804 - mape: 14.8804 - val_loss: 13.1976 - val_mape: 13.1976\n",
            "Epoch 31/100\n",
            "889/889 [==============================] - 3s 4ms/step - loss: 14.8693 - mape: 14.8693 - val_loss: 13.1627 - val_mape: 13.1627\n",
            "Epoch 32/100\n",
            "889/889 [==============================] - 4s 4ms/step - loss: 14.8125 - mape: 14.8125 - val_loss: 13.1167 - val_mape: 13.1167\n",
            "Epoch 33/100\n",
            "889/889 [==============================] - 3s 4ms/step - loss: 14.7541 - mape: 14.7541 - val_loss: 13.2366 - val_mape: 13.2366\n",
            "Epoch 34/100\n",
            "889/889 [==============================] - 3s 4ms/step - loss: 14.7547 - mape: 14.7547 - val_loss: 13.1655 - val_mape: 13.1655\n",
            "Epoch 35/100\n",
            "889/889 [==============================] - 3s 4ms/step - loss: 14.7697 - mape: 14.7697 - val_loss: 13.0761 - val_mape: 13.0761\n",
            "Epoch 36/100\n",
            "889/889 [==============================] - 3s 4ms/step - loss: 14.7066 - mape: 14.7066 - val_loss: 13.1193 - val_mape: 13.1193\n",
            "Epoch 37/100\n",
            "889/889 [==============================] - 3s 4ms/step - loss: 14.6630 - mape: 14.6630 - val_loss: 13.0957 - val_mape: 13.0957\n",
            "Epoch 38/100\n",
            "889/889 [==============================] - 3s 4ms/step - loss: 14.6753 - mape: 14.6753 - val_loss: 13.1004 - val_mape: 13.1004\n",
            "Epoch 39/100\n",
            "889/889 [==============================] - 3s 4ms/step - loss: 14.6938 - mape: 14.6938 - val_loss: 13.0969 - val_mape: 13.0969\n",
            "Epoch 40/100\n",
            "889/889 [==============================] - 4s 4ms/step - loss: 14.6389 - mape: 14.6389 - val_loss: 13.1178 - val_mape: 13.1178\n",
            "Epoch 41/100\n",
            "889/889 [==============================] - 4s 4ms/step - loss: 14.6073 - mape: 14.6073 - val_loss: 13.0694 - val_mape: 13.0694\n",
            "Epoch 42/100\n",
            "889/889 [==============================] - 3s 4ms/step - loss: 14.6067 - mape: 14.6067 - val_loss: 13.1046 - val_mape: 13.1046\n",
            "Epoch 43/100\n",
            "889/889 [==============================] - 4s 4ms/step - loss: 14.5916 - mape: 14.5916 - val_loss: 12.9769 - val_mape: 12.9769\n",
            "Epoch 44/100\n",
            "889/889 [==============================] - 4s 4ms/step - loss: 14.5761 - mape: 14.5761 - val_loss: 13.0460 - val_mape: 13.0460\n",
            "Epoch 45/100\n",
            "889/889 [==============================] - 3s 4ms/step - loss: 14.5601 - mape: 14.5601 - val_loss: 13.0201 - val_mape: 13.0201\n",
            "Epoch 46/100\n",
            "889/889 [==============================] - 3s 4ms/step - loss: 14.5082 - mape: 14.5082 - val_loss: 13.0091 - val_mape: 13.0091\n",
            "Epoch 47/100\n",
            "889/889 [==============================] - 3s 4ms/step - loss: 14.5202 - mape: 14.5202 - val_loss: 13.0140 - val_mape: 13.0140\n",
            "Epoch 48/100\n",
            "889/889 [==============================] - 4s 4ms/step - loss: 14.4532 - mape: 14.4532 - val_loss: 12.9931 - val_mape: 12.9931\n",
            "Epoch 49/100\n",
            "889/889 [==============================] - 3s 4ms/step - loss: 14.5229 - mape: 14.5229 - val_loss: 12.9950 - val_mape: 12.9950\n",
            "Epoch 50/100\n",
            "889/889 [==============================] - 4s 4ms/step - loss: 14.4890 - mape: 14.4890 - val_loss: 13.0142 - val_mape: 13.0142\n",
            "Epoch 51/100\n",
            "889/889 [==============================] - 3s 4ms/step - loss: 14.4871 - mape: 14.4871 - val_loss: 12.9858 - val_mape: 12.9858\n",
            "Epoch 52/100\n",
            "889/889 [==============================] - 3s 4ms/step - loss: 14.5142 - mape: 14.5142 - val_loss: 12.9874 - val_mape: 12.9874\n",
            "Epoch 53/100\n",
            "889/889 [==============================] - 3s 4ms/step - loss: 14.4592 - mape: 14.4592 - val_loss: 13.0846 - val_mape: 13.0846\n",
            "Epoch 54/100\n",
            "889/889 [==============================] - 4s 4ms/step - loss: 14.4816 - mape: 14.4816 - val_loss: 13.0298 - val_mape: 13.0298\n",
            "Epoch 55/100\n",
            "889/889 [==============================] - 4s 4ms/step - loss: 14.3869 - mape: 14.3869 - val_loss: 13.0157 - val_mape: 13.0157\n",
            "Epoch 56/100\n",
            "889/889 [==============================] - 3s 4ms/step - loss: 14.4610 - mape: 14.4610 - val_loss: 13.0438 - val_mape: 13.0438\n",
            "Epoch 57/100\n",
            "889/889 [==============================] - 4s 4ms/step - loss: 14.4098 - mape: 14.4098 - val_loss: 13.0149 - val_mape: 13.0149\n",
            "Epoch 58/100\n",
            "889/889 [==============================] - 4s 4ms/step - loss: 14.4161 - mape: 14.4161 - val_loss: 12.9895 - val_mape: 12.9895\n",
            "Epoch 59/100\n",
            "889/889 [==============================] - 3s 4ms/step - loss: 14.4599 - mape: 14.4599 - val_loss: 13.0221 - val_mape: 13.0221\n",
            "Epoch 60/100\n",
            "889/889 [==============================] - 3s 4ms/step - loss: 14.3926 - mape: 14.3926 - val_loss: 12.9862 - val_mape: 12.9862\n",
            "Epoch 61/100\n",
            "889/889 [==============================] - 3s 4ms/step - loss: 14.3602 - mape: 14.3602 - val_loss: 12.9329 - val_mape: 12.9329\n",
            "Epoch 62/100\n",
            "889/889 [==============================] - 3s 4ms/step - loss: 14.3419 - mape: 14.3419 - val_loss: 12.9190 - val_mape: 12.9190\n",
            "Epoch 63/100\n",
            "889/889 [==============================] - 3s 4ms/step - loss: 14.3826 - mape: 14.3826 - val_loss: 13.0300 - val_mape: 13.0300\n",
            "Epoch 64/100\n",
            "889/889 [==============================] - 3s 4ms/step - loss: 14.4113 - mape: 14.4113 - val_loss: 12.9821 - val_mape: 12.9821\n",
            "Epoch 65/100\n",
            "889/889 [==============================] - 4s 4ms/step - loss: 14.3800 - mape: 14.3800 - val_loss: 12.9333 - val_mape: 12.9333\n",
            "Epoch 66/100\n",
            "889/889 [==============================] - 4s 4ms/step - loss: 14.3640 - mape: 14.3640 - val_loss: 12.9358 - val_mape: 12.9358\n",
            "Epoch 67/100\n",
            "889/889 [==============================] - 3s 4ms/step - loss: 14.3288 - mape: 14.3288 - val_loss: 12.9933 - val_mape: 12.9933\n",
            "Epoch 68/100\n",
            "889/889 [==============================] - 3s 4ms/step - loss: 14.3141 - mape: 14.3141 - val_loss: 12.9591 - val_mape: 12.9591\n",
            "Epoch 69/100\n",
            "889/889 [==============================] - 3s 4ms/step - loss: 14.3589 - mape: 14.3589 - val_loss: 13.0206 - val_mape: 13.0206\n",
            "Epoch 70/100\n",
            "889/889 [==============================] - 4s 4ms/step - loss: 14.3454 - mape: 14.3454 - val_loss: 12.9150 - val_mape: 12.9150\n",
            "Epoch 71/100\n",
            "889/889 [==============================] - 3s 4ms/step - loss: 14.3587 - mape: 14.3587 - val_loss: 12.9574 - val_mape: 12.9574\n",
            "Epoch 72/100\n",
            "889/889 [==============================] - 4s 4ms/step - loss: 14.3320 - mape: 14.3320 - val_loss: 12.9469 - val_mape: 12.9469\n",
            "Epoch 73/100\n",
            "889/889 [==============================] - 4s 4ms/step - loss: 14.2836 - mape: 14.2836 - val_loss: 12.9042 - val_mape: 12.9042\n",
            "Epoch 74/100\n",
            "889/889 [==============================] - 4s 4ms/step - loss: 14.2700 - mape: 14.2700 - val_loss: 12.9314 - val_mape: 12.9314\n",
            "Epoch 75/100\n",
            "889/889 [==============================] - 3s 4ms/step - loss: 14.3290 - mape: 14.3290 - val_loss: 12.9503 - val_mape: 12.9503\n",
            "Epoch 76/100\n",
            "889/889 [==============================] - 3s 4ms/step - loss: 14.3566 - mape: 14.3566 - val_loss: 12.8992 - val_mape: 12.8992\n",
            "Epoch 77/100\n",
            "889/889 [==============================] - 3s 4ms/step - loss: 14.2838 - mape: 14.2838 - val_loss: 12.9037 - val_mape: 12.9037\n",
            "Epoch 78/100\n",
            "889/889 [==============================] - 3s 4ms/step - loss: 14.2636 - mape: 14.2636 - val_loss: 12.9254 - val_mape: 12.9254\n",
            "Epoch 79/100\n",
            "889/889 [==============================] - 3s 4ms/step - loss: 14.2443 - mape: 14.2443 - val_loss: 12.9445 - val_mape: 12.9445\n",
            "Epoch 80/100\n",
            "889/889 [==============================] - 4s 4ms/step - loss: 14.3356 - mape: 14.3356 - val_loss: 12.8679 - val_mape: 12.8679\n",
            "Epoch 81/100\n",
            "889/889 [==============================] - 3s 4ms/step - loss: 14.3282 - mape: 14.3282 - val_loss: 12.8800 - val_mape: 12.8800\n",
            "Epoch 82/100\n",
            "889/889 [==============================] - 4s 4ms/step - loss: 14.2071 - mape: 14.2071 - val_loss: 12.9444 - val_mape: 12.9444\n",
            "Epoch 83/100\n",
            "889/889 [==============================] - 4s 4ms/step - loss: 14.3013 - mape: 14.3013 - val_loss: 12.8822 - val_mape: 12.8822\n",
            "Epoch 84/100\n",
            "889/889 [==============================] - 3s 4ms/step - loss: 14.2408 - mape: 14.2408 - val_loss: 12.9579 - val_mape: 12.9579\n",
            "Epoch 85/100\n",
            "889/889 [==============================] - 3s 4ms/step - loss: 14.2644 - mape: 14.2644 - val_loss: 12.9087 - val_mape: 12.9087\n",
            "Epoch 86/100\n",
            "889/889 [==============================] - 3s 4ms/step - loss: 14.2908 - mape: 14.2908 - val_loss: 12.9624 - val_mape: 12.9624\n",
            "Epoch 87/100\n",
            "889/889 [==============================] - 3s 4ms/step - loss: 14.2356 - mape: 14.2356 - val_loss: 12.9185 - val_mape: 12.9185\n",
            "Epoch 88/100\n",
            "889/889 [==============================] - 4s 4ms/step - loss: 14.2495 - mape: 14.2495 - val_loss: 12.9065 - val_mape: 12.9065\n",
            "Epoch 89/100\n",
            "889/889 [==============================] - 3s 4ms/step - loss: 14.2440 - mape: 14.2440 - val_loss: 12.9147 - val_mape: 12.9147\n",
            "Epoch 90/100\n",
            "889/889 [==============================] - 3s 4ms/step - loss: 14.2127 - mape: 14.2127 - val_loss: 12.8723 - val_mape: 12.8723\n",
            "Epoch 91/100\n",
            "889/889 [==============================] - 3s 4ms/step - loss: 14.2550 - mape: 14.2550 - val_loss: 12.8700 - val_mape: 12.8700\n",
            "Epoch 92/100\n",
            "889/889 [==============================] - 4s 4ms/step - loss: 14.2404 - mape: 14.2404 - val_loss: 12.8845 - val_mape: 12.8845\n",
            "Epoch 93/100\n",
            "889/889 [==============================] - 4s 4ms/step - loss: 14.2392 - mape: 14.2392 - val_loss: 12.9188 - val_mape: 12.9188\n",
            "Epoch 94/100\n",
            "889/889 [==============================] - 4s 4ms/step - loss: 14.2421 - mape: 14.2421 - val_loss: 12.8895 - val_mape: 12.8895\n",
            "Epoch 95/100\n",
            "889/889 [==============================] - 4s 4ms/step - loss: 14.2217 - mape: 14.2217 - val_loss: 12.9467 - val_mape: 12.9467\n",
            "Epoch 96/100\n",
            "889/889 [==============================] - 3s 4ms/step - loss: 14.1244 - mape: 14.1244 - val_loss: 12.8748 - val_mape: 12.8748\n",
            "Epoch 97/100\n",
            "889/889 [==============================] - 3s 4ms/step - loss: 14.1819 - mape: 14.1819 - val_loss: 12.9526 - val_mape: 12.9526\n",
            "Epoch 98/100\n",
            "889/889 [==============================] - 4s 4ms/step - loss: 14.1851 - mape: 14.1851 - val_loss: 12.8568 - val_mape: 12.8568\n",
            "Epoch 99/100\n",
            "889/889 [==============================] - 4s 4ms/step - loss: 14.2543 - mape: 14.2543 - val_loss: 12.8943 - val_mape: 12.8943\n",
            "Epoch 100/100\n",
            "889/889 [==============================] - 3s 4ms/step - loss: 14.2232 - mape: 14.2232 - val_loss: 12.8641 - val_mape: 12.8641\n"
          ]
        }
      ],
      "source": [
        "model = Sequential()\n",
        "model.add(Dense(32,activation='relu',input_dim = 23))\n",
        "model.add(Dropout(0.2))\n",
        "model.add(Dense(1,activation='linear'))\n",
        "ad=optimizers.Adam(learning_rate=0.000095984373913224)\n",
        "model.compile(optimizer = ad, loss = 'mape', metrics = ['mape'])\n",
        "model_history=model.fit(trainX, trainY,validation_data=(testX,testY), batch_size = 36, epochs = 100)"
      ]
    },
    {
      "cell_type": "code",
      "execution_count": 27,
      "id": "77c05906",
      "metadata": {
        "id": "77c05906"
      },
      "outputs": [],
      "source": [
        "def model_loss(history):\n",
        "    plt.figure(figsize=(8,4))\n",
        "    plt.plot(history.history['loss'], label='Train Loss')\n",
        "    plt.plot(history.history['val_loss'], label='Test Loss')\n",
        "    plt.title('model loss')\n",
        "    plt.ylabel('loss')\n",
        "    plt.xlabel('epochs')\n",
        "    plt.legend(loc='upper right')\n",
        "    plt.show();"
      ]
    },
    {
      "cell_type": "code",
      "execution_count": 28,
      "id": "8faa6143",
      "metadata": {
        "id": "8faa6143"
      },
      "outputs": [],
      "source": [
        "train_score = model.evaluate(trainX, trainY,verbose=0)\n",
        "test_score = model.evaluate(testX, testY,verbose=0)"
      ]
    },
    {
      "cell_type": "code",
      "execution_count": 29,
      "id": "45a22c27",
      "metadata": {
        "colab": {
          "base_uri": "https://localhost:8080/",
          "height": 329
        },
        "id": "45a22c27",
        "outputId": "a5ab3c0d-9375-467f-cfc4-5daa734be522"
      },
      "outputs": [
        {
          "output_type": "stream",
          "name": "stdout",
          "text": [
            "Train MAPE : 13.39 \n",
            "Test MAPE : 12.86 \n"
          ]
        },
        {
          "output_type": "display_data",
          "data": {
            "image/png": "[encoded data removed]",
            "text/plain": [
              "<Figure size 576x288 with 1 Axes>"
            ]
          },
          "metadata": {
            "needs_background": "light"
          }
        }
      ],
      "source": [
        "train_predict = model.predict(trainX)\n",
        "test_predict = model.predict(testX)\n",
        "\n",
        "# invert predictions\n",
        "train_predict = scaler.inverse_transform(train_predict)\n",
        "trainY = scaler.inverse_transform([trainY])\n",
        "test_predict = scaler.inverse_transform(test_predict)\n",
        "testY = scaler.inverse_transform([testY])\n",
        "print('Train MAPE : %.2f ' % (train_score[1]))\n",
        "print('Test MAPE : %.2f ' % (test_score[1]))\n",
        "model_loss(model_history)"
      ]
    },
    {
      "cell_type": "code",
      "execution_count": 30,
      "id": "dc942f74",
      "metadata": {
        "id": "dc942f74"
      },
      "outputs": [],
      "source": [
        "import seaborn as sns"
      ]
    },
    {
      "cell_type": "code",
      "execution_count": 32,
      "id": "dee9bab8",
      "metadata": {
        "id": "dee9bab8"
      },
      "outputs": [],
      "source": [
        "def prediction_plot(testY, test_predict,look_back):\n",
        "    len_prediction=[x for x in range(31977,35906)]\n",
        "    plt.plot(trainY.reshape(-1,))\n",
        "    plt.plot(len_prediction, testY.reshape(-1,), marker='.', label='actual')\n",
        "    plt.plot(len_prediction, test_predict, 'g', label=\"prediction\")\n",
        "    plt.tight_layout()\n",
        "    sns.despine(top=True)\n",
        "    plt.subplots_adjust(left=0.07)\n",
        "    plt.ylabel('Units', size=15)\n",
        "    plt.xlabel('Time step', size=15)\n",
        "    plt.legend(fontsize=15)\n",
        "    plt.show()"
      ]
    },
    {
      "cell_type": "code",
      "execution_count": 33,
      "id": "363040b5",
      "metadata": {
        "colab": {
          "base_uri": "https://localhost:8080/",
          "height": 604
        },
        "id": "363040b5",
        "outputId": "f247e783-f40d-4e69-f469-5ccc3c6e5732"
      },
      "outputs": [
        {
          "output_type": "display_data",
          "data": {
            "image/png": "[encoded data removed]",
            "text/plain": [
              "<Figure size 1080x576 with 1 Axes>"
            ]
          },
          "metadata": {
            "needs_background": "light"
          }
        }
      ],
      "source": [
        "test_predict = model.predict(testX)\n",
        "test_predict = scaler.inverse_transform(test_predict)\n",
        "prediction_plot(testY, test_predict,look_back)"
      ]
    },
    {
      "cell_type": "code",
      "execution_count": null,
      "id": "f8a7708c",
      "metadata": {
        "id": "f8a7708c"
      },
      "outputs": [],
      "source": [
        ""
      ]
    }
  ],
  "metadata": {
    "accelerator": "GPU",
    "colab": {
      "collapsed_sections": [],
      "name": "Residential_Power_HPT_ANN_FULL.ipynb",
      "provenance": []
    },
    "kernelspec": {
      "display_name": "Python 3",
      "language": "python",
      "name": "python3"
    },
    "language_info": {
      "codemirror_mode": {
        "name": "ipython",
        "version": 3
      },
      "file_extension": ".py",
      "mimetype": "text/x-python",
      "name": "python",
      "nbconvert_exporter": "python",
      "pygments_lexer": "ipython3",
      "version": "3.8.8"
    }
  },
  "nbformat": 4,
  "nbformat_minor": 5
}