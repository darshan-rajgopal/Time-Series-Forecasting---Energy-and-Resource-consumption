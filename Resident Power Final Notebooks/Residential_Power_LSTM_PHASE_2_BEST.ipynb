{
 "cells": [
  {
   "cell_type": "code",
   "execution_count": 1,
   "id": "c2ef9b47",
   "metadata": {
    "id": "c2ef9b47"
   },
   "outputs": [],
   "source": [
    "import numpy as np\n",
    "import pandas as pd\n",
    "from tensorflow.keras.models import Sequential\n",
    "from tensorflow.keras.layers import LSTM, SimpleRNN\n",
    "from tensorflow.keras.layers import Dense\n",
    "from tensorflow.keras.layers import Flatten\n",
    "import matplotlib.pyplot as plt\n",
    "import warnings\n",
    "warnings.filterwarnings('ignore')\n",
    "%matplotlib inline"
   ]
  },
  {
   "cell_type": "code",
   "execution_count": null,
   "id": "BxDZtfokj6Da",
   "metadata": {
    "colab": {
     "base_uri": "https://localhost:8080/",
     "height": 35
    },
    "id": "BxDZtfokj6Da",
    "outputId": "b81e8154-a7e3-419e-b14c-3b8d59b8063b"
   },
   "outputs": [
    {
     "data": {
      "application/vnd.google.colaboratory.intrinsic+json": {
       "type": "string"
      },
      "text/plain": [
       "'/device:GPU:0'"
      ]
     },
     "execution_count": 3,
     "metadata": {},
     "output_type": "execute_result"
    }
   ],
   "source": [
    "import tensorflow as tf\n",
    "tf.test.gpu_device_name()"
   ]
  },
  {
   "cell_type": "code",
   "execution_count": null,
   "id": "UDt4KrAxj6JS",
   "metadata": {
    "colab": {
     "base_uri": "https://localhost:8080/"
    },
    "id": "UDt4KrAxj6JS",
    "outputId": "ae71a41d-894e-4345-affe-cb4091ea52e4"
   },
   "outputs": [
    {
     "data": {
      "text/plain": [
       "[name: \"/device:CPU:0\"\n",
       " device_type: \"CPU\"\n",
       " memory_limit: 268435456\n",
       " locality {\n",
       " }\n",
       " incarnation: 5994368134398930075\n",
       " xla_global_id: -1, name: \"/device:GPU:0\"\n",
       " device_type: \"GPU\"\n",
       " memory_limit: 14465892352\n",
       " locality {\n",
       "   bus_id: 1\n",
       "   links {\n",
       "   }\n",
       " }\n",
       " incarnation: 4638497188715449484\n",
       " physical_device_desc: \"device: 0, name: Tesla T4, pci bus id: 0000:00:04.0, compute capability: 7.5\"\n",
       " xla_global_id: 416903419]"
      ]
     },
     "execution_count": 4,
     "metadata": {},
     "output_type": "execute_result"
    }
   ],
   "source": [
    "from tensorflow.python.client import device_lib\n",
    "device_lib.list_local_devices()"
   ]
  },
  {
   "cell_type": "code",
   "execution_count": 2,
   "id": "_SDcCDXY-kMb",
   "metadata": {
    "colab": {
     "base_uri": "https://localhost:8080/"
    },
    "id": "_SDcCDXY-kMb",
    "outputId": "53dabc34-c230-4ace-a4f9-165d954a9093"
   },
   "outputs": [
    {
     "name": "stdout",
     "output_type": "stream",
     "text": [
      "Mounted at /content/drive\n"
     ]
    }
   ],
   "source": [
    "from google.colab import drive\n",
    "drive.mount('/content/drive')"
   ]
  },
  {
   "cell_type": "code",
   "execution_count": 3,
   "id": "30d066a0",
   "metadata": {
    "colab": {
     "base_uri": "https://localhost:8080/",
     "height": 206
    },
    "id": "30d066a0",
    "outputId": "8acca6b0-b6cd-4ab6-8bbe-c7fe6ee9eac5"
   },
   "outputs": [
    {
     "data": {
      "text/html": [
       "\n",
       "  <div id=\"df-fc074dc5-e933-4f8b-a019-e04dee1d0019\">\n",
       "    <div class=\"colab-df-container\">\n",
       "      <div>\n",
       "<style scoped>\n",
       "    .dataframe tbody tr th:only-of-type {\n",
       "        vertical-align: middle;\n",
       "    }\n",
       "\n",
       "    .dataframe tbody tr th {\n",
       "        vertical-align: top;\n",
       "    }\n",
       "\n",
       "    .dataframe thead th {\n",
       "        text-align: right;\n",
       "    }\n",
       "</style>\n",
       "<table border=\"1\" class=\"dataframe\">\n",
       "  <thead>\n",
       "    <tr style=\"text-align: right;\">\n",
       "      <th></th>\n",
       "      <th>StartDate</th>\n",
       "      <th>Value (kWh)</th>\n",
       "      <th>day_of_week</th>\n",
       "      <th>notes</th>\n",
       "    </tr>\n",
       "  </thead>\n",
       "  <tbody>\n",
       "    <tr>\n",
       "      <th>0</th>\n",
       "      <td>2016-01-06 00:00:00</td>\n",
       "      <td>1.057</td>\n",
       "      <td>2</td>\n",
       "      <td>weekday</td>\n",
       "    </tr>\n",
       "    <tr>\n",
       "      <th>1</th>\n",
       "      <td>2016-01-06 01:00:00</td>\n",
       "      <td>1.171</td>\n",
       "      <td>2</td>\n",
       "      <td>weekday</td>\n",
       "    </tr>\n",
       "    <tr>\n",
       "      <th>2</th>\n",
       "      <td>2016-01-06 02:00:00</td>\n",
       "      <td>0.560</td>\n",
       "      <td>2</td>\n",
       "      <td>weekday</td>\n",
       "    </tr>\n",
       "    <tr>\n",
       "      <th>3</th>\n",
       "      <td>2016-01-06 03:00:00</td>\n",
       "      <td>0.828</td>\n",
       "      <td>2</td>\n",
       "      <td>weekday</td>\n",
       "    </tr>\n",
       "    <tr>\n",
       "      <th>4</th>\n",
       "      <td>2016-01-06 04:00:00</td>\n",
       "      <td>0.932</td>\n",
       "      <td>2</td>\n",
       "      <td>weekday</td>\n",
       "    </tr>\n",
       "  </tbody>\n",
       "</table>\n",
       "</div>\n",
       "      <button class=\"colab-df-convert\" onclick=\"convertToInteractive('df-fc074dc5-e933-4f8b-a019-e04dee1d0019')\"\n",
       "              title=\"Convert this dataframe to an interactive table.\"\n",
       "              style=\"display:none;\">\n",
       "        \n",
       "  <svg xmlns=\"http://www.w3.org/2000/svg\" height=\"24px\"viewBox=\"0 0 24 24\"\n",
       "       width=\"24px\">\n",
       "    <path d=\"M0 0h24v24H0V0z\" fill=\"none\"/>\n",
       "    <path d=\"M18.56 5.44l.94 2.06.94-2.06 2.06-.94-2.06-.94-.94-2.06-.94 2.06-2.06.94zm-11 1L8.5 8.5l.94-2.06 2.06-.94-2.06-.94L8.5 2.5l-.94 2.06-2.06.94zm10 10l.94 2.06.94-2.06 2.06-.94-2.06-.94-.94-2.06-.94 2.06-2.06.94z\"/><path d=\"M17.41 7.96l-1.37-1.37c-.4-.4-.92-.59-1.43-.59-.52 0-1.04.2-1.43.59L10.3 9.45l-7.72 7.72c-.78.78-.78 2.05 0 2.83L4 21.41c.39.39.9.59 1.41.59.51 0 1.02-.2 1.41-.59l7.78-7.78 2.81-2.81c.8-.78.8-2.07 0-2.86zM5.41 20L4 18.59l7.72-7.72 1.47 1.35L5.41 20z\"/>\n",
       "  </svg>\n",
       "      </button>\n",
       "      \n",
       "  <style>\n",
       "    .colab-df-container {\n",
       "      display:flex;\n",
       "      flex-wrap:wrap;\n",
       "      gap: 12px;\n",
       "    }\n",
       "\n",
       "    .colab-df-convert {\n",
       "      background-color: #E8F0FE;\n",
       "      border: none;\n",
       "      border-radius: 50%;\n",
       "      cursor: pointer;\n",
       "      display: none;\n",
       "      fill: #1967D2;\n",
       "      height: 32px;\n",
       "      padding: 0 0 0 0;\n",
       "      width: 32px;\n",
       "    }\n",
       "\n",
       "    .colab-df-convert:hover {\n",
       "      background-color: #E2EBFA;\n",
       "      box-shadow: 0px 1px 2px rgba(60, 64, 67, 0.3), 0px 1px 3px 1px rgba(60, 64, 67, 0.15);\n",
       "      fill: #174EA6;\n",
       "    }\n",
       "\n",
       "    [theme=dark] .colab-df-convert {\n",
       "      background-color: #3B4455;\n",
       "      fill: #D2E3FC;\n",
       "    }\n",
       "\n",
       "    [theme=dark] .colab-df-convert:hover {\n",
       "      background-color: #434B5C;\n",
       "      box-shadow: 0px 1px 3px 1px rgba(0, 0, 0, 0.15);\n",
       "      filter: drop-shadow(0px 1px 2px rgba(0, 0, 0, 0.3));\n",
       "      fill: #FFFFFF;\n",
       "    }\n",
       "  </style>\n",
       "\n",
       "      <script>\n",
       "        const buttonEl =\n",
       "          document.querySelector('#df-fc074dc5-e933-4f8b-a019-e04dee1d0019 button.colab-df-convert');\n",
       "        buttonEl.style.display =\n",
       "          google.colab.kernel.accessAllowed ? 'block' : 'none';\n",
       "\n",
       "        async function convertToInteractive(key) {\n",
       "          const element = document.querySelector('#df-fc074dc5-e933-4f8b-a019-e04dee1d0019');\n",
       "          const dataTable =\n",
       "            await google.colab.kernel.invokeFunction('convertToInteractive',\n",
       "                                                     [key], {});\n",
       "          if (!dataTable) return;\n",
       "\n",
       "          const docLinkHtml = 'Like what you see? Visit the ' +\n",
       "            '<a target=\"_blank\" href=https://colab.research.google.com/notebooks/data_table.ipynb>data table notebook</a>'\n",
       "            + ' to learn more about interactive tables.';\n",
       "          element.innerHTML = '';\n",
       "          dataTable['output_type'] = 'display_data';\n",
       "          await google.colab.output.renderOutput(dataTable, element);\n",
       "          const docLink = document.createElement('div');\n",
       "          docLink.innerHTML = docLinkHtml;\n",
       "          element.appendChild(docLink);\n",
       "        }\n",
       "      </script>\n",
       "    </div>\n",
       "  </div>\n",
       "  "
      ],
      "text/plain": [
       "             StartDate  Value (kWh)  day_of_week    notes\n",
       "0  2016-01-06 00:00:00        1.057            2  weekday\n",
       "1  2016-01-06 01:00:00        1.171            2  weekday\n",
       "2  2016-01-06 02:00:00        0.560            2  weekday\n",
       "3  2016-01-06 03:00:00        0.828            2  weekday\n",
       "4  2016-01-06 04:00:00        0.932            2  weekday"
      ]
     },
     "execution_count": 3,
     "metadata": {},
     "output_type": "execute_result"
    }
   ],
   "source": [
    "df = pd.read_csv('/content/drive/MyDrive/Colab Notebooks/Energy/residential_power_usage_2016_to_2020.csv')\n",
    "df.head()"
   ]
  },
  {
   "cell_type": "code",
   "execution_count": 4,
   "id": "e2663bb4",
   "metadata": {
    "colab": {
     "base_uri": "https://localhost:8080/",
     "height": 206
    },
    "id": "e2663bb4",
    "outputId": "ccb047cc-1584-42e7-eb16-3acd496b65cb"
   },
   "outputs": [
    {
     "data": {
      "text/html": [
       "\n",
       "  <div id=\"df-8e99dae9-96cd-446d-8121-8fa70a1f364d\">\n",
       "    <div class=\"colab-df-container\">\n",
       "      <div>\n",
       "<style scoped>\n",
       "    .dataframe tbody tr th:only-of-type {\n",
       "        vertical-align: middle;\n",
       "    }\n",
       "\n",
       "    .dataframe tbody tr th {\n",
       "        vertical-align: top;\n",
       "    }\n",
       "\n",
       "    .dataframe thead th {\n",
       "        text-align: right;\n",
       "    }\n",
       "</style>\n",
       "<table border=\"1\" class=\"dataframe\">\n",
       "  <thead>\n",
       "    <tr style=\"text-align: right;\">\n",
       "      <th></th>\n",
       "      <th>StartDate</th>\n",
       "      <th>Value (kWh)</th>\n",
       "      <th>day_of_week</th>\n",
       "      <th>notes</th>\n",
       "    </tr>\n",
       "  </thead>\n",
       "  <tbody>\n",
       "    <tr>\n",
       "      <th>35947</th>\n",
       "      <td>2020-07-07 19:00:00</td>\n",
       "      <td>1.307</td>\n",
       "      <td>1</td>\n",
       "      <td>weekday</td>\n",
       "    </tr>\n",
       "    <tr>\n",
       "      <th>35948</th>\n",
       "      <td>2020-07-07 20:00:00</td>\n",
       "      <td>2.872</td>\n",
       "      <td>1</td>\n",
       "      <td>weekday</td>\n",
       "    </tr>\n",
       "    <tr>\n",
       "      <th>35949</th>\n",
       "      <td>2020-07-07 21:00:00</td>\n",
       "      <td>2.138</td>\n",
       "      <td>1</td>\n",
       "      <td>weekday</td>\n",
       "    </tr>\n",
       "    <tr>\n",
       "      <th>35950</th>\n",
       "      <td>2020-07-07 22:00:00</td>\n",
       "      <td>2.199</td>\n",
       "      <td>1</td>\n",
       "      <td>weekday</td>\n",
       "    </tr>\n",
       "    <tr>\n",
       "      <th>35951</th>\n",
       "      <td>2020-07-07 23:00:00</td>\n",
       "      <td>1.809</td>\n",
       "      <td>1</td>\n",
       "      <td>weekday</td>\n",
       "    </tr>\n",
       "  </tbody>\n",
       "</table>\n",
       "</div>\n",
       "      <button class=\"colab-df-convert\" onclick=\"convertToInteractive('df-8e99dae9-96cd-446d-8121-8fa70a1f364d')\"\n",
       "              title=\"Convert this dataframe to an interactive table.\"\n",
       "              style=\"display:none;\">\n",
       "        \n",
       "  <svg xmlns=\"http://www.w3.org/2000/svg\" height=\"24px\"viewBox=\"0 0 24 24\"\n",
       "       width=\"24px\">\n",
       "    <path d=\"M0 0h24v24H0V0z\" fill=\"none\"/>\n",
       "    <path d=\"M18.56 5.44l.94 2.06.94-2.06 2.06-.94-2.06-.94-.94-2.06-.94 2.06-2.06.94zm-11 1L8.5 8.5l.94-2.06 2.06-.94-2.06-.94L8.5 2.5l-.94 2.06-2.06.94zm10 10l.94 2.06.94-2.06 2.06-.94-2.06-.94-.94-2.06-.94 2.06-2.06.94z\"/><path d=\"M17.41 7.96l-1.37-1.37c-.4-.4-.92-.59-1.43-.59-.52 0-1.04.2-1.43.59L10.3 9.45l-7.72 7.72c-.78.78-.78 2.05 0 2.83L4 21.41c.39.39.9.59 1.41.59.51 0 1.02-.2 1.41-.59l7.78-7.78 2.81-2.81c.8-.78.8-2.07 0-2.86zM5.41 20L4 18.59l7.72-7.72 1.47 1.35L5.41 20z\"/>\n",
       "  </svg>\n",
       "      </button>\n",
       "      \n",
       "  <style>\n",
       "    .colab-df-container {\n",
       "      display:flex;\n",
       "      flex-wrap:wrap;\n",
       "      gap: 12px;\n",
       "    }\n",
       "\n",
       "    .colab-df-convert {\n",
       "      background-color: #E8F0FE;\n",
       "      border: none;\n",
       "      border-radius: 50%;\n",
       "      cursor: pointer;\n",
       "      display: none;\n",
       "      fill: #1967D2;\n",
       "      height: 32px;\n",
       "      padding: 0 0 0 0;\n",
       "      width: 32px;\n",
       "    }\n",
       "\n",
       "    .colab-df-convert:hover {\n",
       "      background-color: #E2EBFA;\n",
       "      box-shadow: 0px 1px 2px rgba(60, 64, 67, 0.3), 0px 1px 3px 1px rgba(60, 64, 67, 0.15);\n",
       "      fill: #174EA6;\n",
       "    }\n",
       "\n",
       "    [theme=dark] .colab-df-convert {\n",
       "      background-color: #3B4455;\n",
       "      fill: #D2E3FC;\n",
       "    }\n",
       "\n",
       "    [theme=dark] .colab-df-convert:hover {\n",
       "      background-color: #434B5C;\n",
       "      box-shadow: 0px 1px 3px 1px rgba(0, 0, 0, 0.15);\n",
       "      filter: drop-shadow(0px 1px 2px rgba(0, 0, 0, 0.3));\n",
       "      fill: #FFFFFF;\n",
       "    }\n",
       "  </style>\n",
       "\n",
       "      <script>\n",
       "        const buttonEl =\n",
       "          document.querySelector('#df-8e99dae9-96cd-446d-8121-8fa70a1f364d button.colab-df-convert');\n",
       "        buttonEl.style.display =\n",
       "          google.colab.kernel.accessAllowed ? 'block' : 'none';\n",
       "\n",
       "        async function convertToInteractive(key) {\n",
       "          const element = document.querySelector('#df-8e99dae9-96cd-446d-8121-8fa70a1f364d');\n",
       "          const dataTable =\n",
       "            await google.colab.kernel.invokeFunction('convertToInteractive',\n",
       "                                                     [key], {});\n",
       "          if (!dataTable) return;\n",
       "\n",
       "          const docLinkHtml = 'Like what you see? Visit the ' +\n",
       "            '<a target=\"_blank\" href=https://colab.research.google.com/notebooks/data_table.ipynb>data table notebook</a>'\n",
       "            + ' to learn more about interactive tables.';\n",
       "          element.innerHTML = '';\n",
       "          dataTable['output_type'] = 'display_data';\n",
       "          await google.colab.output.renderOutput(dataTable, element);\n",
       "          const docLink = document.createElement('div');\n",
       "          docLink.innerHTML = docLinkHtml;\n",
       "          element.appendChild(docLink);\n",
       "        }\n",
       "      </script>\n",
       "    </div>\n",
       "  </div>\n",
       "  "
      ],
      "text/plain": [
       "                 StartDate  Value (kWh)  day_of_week    notes\n",
       "35947  2020-07-07 19:00:00        1.307            1  weekday\n",
       "35948  2020-07-07 20:00:00        2.872            1  weekday\n",
       "35949  2020-07-07 21:00:00        2.138            1  weekday\n",
       "35950  2020-07-07 22:00:00        2.199            1  weekday\n",
       "35951  2020-07-07 23:00:00        1.809            1  weekday"
      ]
     },
     "execution_count": 4,
     "metadata": {},
     "output_type": "execute_result"
    }
   ],
   "source": [
    "df.tail()"
   ]
  },
  {
   "cell_type": "code",
   "execution_count": 5,
   "id": "0482272d",
   "metadata": {
    "colab": {
     "base_uri": "https://localhost:8080/"
    },
    "id": "0482272d",
    "outputId": "4b9df2bb-3de1-4cfd-9c16-b85ec9bd8c17"
   },
   "outputs": [
    {
     "data": {
      "text/plain": [
       "(35952, 4)"
      ]
     },
     "execution_count": 5,
     "metadata": {},
     "output_type": "execute_result"
    }
   ],
   "source": [
    "df.shape"
   ]
  },
  {
   "cell_type": "code",
   "execution_count": 6,
   "id": "076f1ad3",
   "metadata": {
    "colab": {
     "base_uri": "https://localhost:8080/"
    },
    "id": "076f1ad3",
    "outputId": "9f12bf44-da13-4fff-80ce-be177b0986c7"
   },
   "outputs": [
    {
     "name": "stdout",
     "output_type": "stream",
     "text": [
      "<class 'pandas.core.frame.DataFrame'>\n",
      "RangeIndex: 35952 entries, 0 to 35951\n",
      "Data columns (total 4 columns):\n",
      " #   Column       Non-Null Count  Dtype  \n",
      "---  ------       --------------  -----  \n",
      " 0   StartDate    35952 non-null  object \n",
      " 1   Value (kWh)  35952 non-null  float64\n",
      " 2   day_of_week  35952 non-null  int64  \n",
      " 3   notes        35952 non-null  object \n",
      "dtypes: float64(1), int64(1), object(2)\n",
      "memory usage: 1.1+ MB\n"
     ]
    }
   ],
   "source": [
    "df.info()"
   ]
  },
  {
   "cell_type": "code",
   "execution_count": 7,
   "id": "IKYuy6u9oVZN",
   "metadata": {
    "colab": {
     "base_uri": "https://localhost:8080/"
    },
    "id": "IKYuy6u9oVZN",
    "outputId": "e928cb3d-e721-454a-bafc-7d46f01a848e"
   },
   "outputs": [
    {
     "data": {
      "text/plain": [
       "StartDate      0\n",
       "Value (kWh)    0\n",
       "day_of_week    0\n",
       "notes          0\n",
       "dtype: int64"
      ]
     },
     "execution_count": 7,
     "metadata": {},
     "output_type": "execute_result"
    }
   ],
   "source": [
    "df.isnull().sum()"
   ]
  },
  {
   "cell_type": "code",
   "execution_count": 8,
   "id": "93827e39",
   "metadata": {
    "id": "93827e39"
   },
   "outputs": [],
   "source": [
    "time = pd.date_range(start='1/1/2016 00:00:00',periods=35952,freq='H')\n",
    "df['time_stamp'] = pd.DataFrame(time)\n",
    "df.drop(['StartDate','day_of_week','notes'],axis=1,inplace=True)\n",
    "df = df.set_index('time_stamp')"
   ]
  },
  {
   "cell_type": "code",
   "execution_count": 9,
   "id": "S0kNKRMAocKq",
   "metadata": {
    "id": "S0kNKRMAocKq"
   },
   "outputs": [],
   "source": [
    "df.columns=['value']"
   ]
  },
  {
   "cell_type": "code",
   "execution_count": 10,
   "id": "522f2b8e",
   "metadata": {
    "colab": {
     "base_uri": "https://localhost:8080/"
    },
    "id": "522f2b8e",
    "outputId": "347ff85b-bfb5-4b5f-8264-d9a459d32056"
   },
   "outputs": [
    {
     "data": {
      "text/plain": [
       "(35952, 1)"
      ]
     },
     "execution_count": 10,
     "metadata": {},
     "output_type": "execute_result"
    }
   ],
   "source": [
    "df.shape"
   ]
  },
  {
   "cell_type": "code",
   "execution_count": 11,
   "id": "7N0Xc0zT5atx",
   "metadata": {
    "colab": {
     "base_uri": "https://localhost:8080/",
     "height": 238
    },
    "id": "7N0Xc0zT5atx",
    "outputId": "aec58291-6c8f-44a7-80bb-3e572f71bd5c"
   },
   "outputs": [
    {
     "data": {
      "text/html": [
       "\n",
       "  <div id=\"df-fb9de3a7-39d9-43b1-a4e4-9fdc8fce84e2\">\n",
       "    <div class=\"colab-df-container\">\n",
       "      <div>\n",
       "<style scoped>\n",
       "    .dataframe tbody tr th:only-of-type {\n",
       "        vertical-align: middle;\n",
       "    }\n",
       "\n",
       "    .dataframe tbody tr th {\n",
       "        vertical-align: top;\n",
       "    }\n",
       "\n",
       "    .dataframe thead th {\n",
       "        text-align: right;\n",
       "    }\n",
       "</style>\n",
       "<table border=\"1\" class=\"dataframe\">\n",
       "  <thead>\n",
       "    <tr style=\"text-align: right;\">\n",
       "      <th></th>\n",
       "      <th>value</th>\n",
       "    </tr>\n",
       "    <tr>\n",
       "      <th>time_stamp</th>\n",
       "      <th></th>\n",
       "    </tr>\n",
       "  </thead>\n",
       "  <tbody>\n",
       "    <tr>\n",
       "      <th>2016-01-01 00:00:00</th>\n",
       "      <td>1.057</td>\n",
       "    </tr>\n",
       "    <tr>\n",
       "      <th>2016-01-01 01:00:00</th>\n",
       "      <td>1.171</td>\n",
       "    </tr>\n",
       "    <tr>\n",
       "      <th>2016-01-01 02:00:00</th>\n",
       "      <td>0.560</td>\n",
       "    </tr>\n",
       "    <tr>\n",
       "      <th>2016-01-01 03:00:00</th>\n",
       "      <td>0.828</td>\n",
       "    </tr>\n",
       "    <tr>\n",
       "      <th>2016-01-01 04:00:00</th>\n",
       "      <td>0.932</td>\n",
       "    </tr>\n",
       "  </tbody>\n",
       "</table>\n",
       "</div>\n",
       "      <button class=\"colab-df-convert\" onclick=\"convertToInteractive('df-fb9de3a7-39d9-43b1-a4e4-9fdc8fce84e2')\"\n",
       "              title=\"Convert this dataframe to an interactive table.\"\n",
       "              style=\"display:none;\">\n",
       "        \n",
       "  <svg xmlns=\"http://www.w3.org/2000/svg\" height=\"24px\"viewBox=\"0 0 24 24\"\n",
       "       width=\"24px\">\n",
       "    <path d=\"M0 0h24v24H0V0z\" fill=\"none\"/>\n",
       "    <path d=\"M18.56 5.44l.94 2.06.94-2.06 2.06-.94-2.06-.94-.94-2.06-.94 2.06-2.06.94zm-11 1L8.5 8.5l.94-2.06 2.06-.94-2.06-.94L8.5 2.5l-.94 2.06-2.06.94zm10 10l.94 2.06.94-2.06 2.06-.94-2.06-.94-.94-2.06-.94 2.06-2.06.94z\"/><path d=\"M17.41 7.96l-1.37-1.37c-.4-.4-.92-.59-1.43-.59-.52 0-1.04.2-1.43.59L10.3 9.45l-7.72 7.72c-.78.78-.78 2.05 0 2.83L4 21.41c.39.39.9.59 1.41.59.51 0 1.02-.2 1.41-.59l7.78-7.78 2.81-2.81c.8-.78.8-2.07 0-2.86zM5.41 20L4 18.59l7.72-7.72 1.47 1.35L5.41 20z\"/>\n",
       "  </svg>\n",
       "      </button>\n",
       "      \n",
       "  <style>\n",
       "    .colab-df-container {\n",
       "      display:flex;\n",
       "      flex-wrap:wrap;\n",
       "      gap: 12px;\n",
       "    }\n",
       "\n",
       "    .colab-df-convert {\n",
       "      background-color: #E8F0FE;\n",
       "      border: none;\n",
       "      border-radius: 50%;\n",
       "      cursor: pointer;\n",
       "      display: none;\n",
       "      fill: #1967D2;\n",
       "      height: 32px;\n",
       "      padding: 0 0 0 0;\n",
       "      width: 32px;\n",
       "    }\n",
       "\n",
       "    .colab-df-convert:hover {\n",
       "      background-color: #E2EBFA;\n",
       "      box-shadow: 0px 1px 2px rgba(60, 64, 67, 0.3), 0px 1px 3px 1px rgba(60, 64, 67, 0.15);\n",
       "      fill: #174EA6;\n",
       "    }\n",
       "\n",
       "    [theme=dark] .colab-df-convert {\n",
       "      background-color: #3B4455;\n",
       "      fill: #D2E3FC;\n",
       "    }\n",
       "\n",
       "    [theme=dark] .colab-df-convert:hover {\n",
       "      background-color: #434B5C;\n",
       "      box-shadow: 0px 1px 3px 1px rgba(0, 0, 0, 0.15);\n",
       "      filter: drop-shadow(0px 1px 2px rgba(0, 0, 0, 0.3));\n",
       "      fill: #FFFFFF;\n",
       "    }\n",
       "  </style>\n",
       "\n",
       "      <script>\n",
       "        const buttonEl =\n",
       "          document.querySelector('#df-fb9de3a7-39d9-43b1-a4e4-9fdc8fce84e2 button.colab-df-convert');\n",
       "        buttonEl.style.display =\n",
       "          google.colab.kernel.accessAllowed ? 'block' : 'none';\n",
       "\n",
       "        async function convertToInteractive(key) {\n",
       "          const element = document.querySelector('#df-fb9de3a7-39d9-43b1-a4e4-9fdc8fce84e2');\n",
       "          const dataTable =\n",
       "            await google.colab.kernel.invokeFunction('convertToInteractive',\n",
       "                                                     [key], {});\n",
       "          if (!dataTable) return;\n",
       "\n",
       "          const docLinkHtml = 'Like what you see? Visit the ' +\n",
       "            '<a target=\"_blank\" href=https://colab.research.google.com/notebooks/data_table.ipynb>data table notebook</a>'\n",
       "            + ' to learn more about interactive tables.';\n",
       "          element.innerHTML = '';\n",
       "          dataTable['output_type'] = 'display_data';\n",
       "          await google.colab.output.renderOutput(dataTable, element);\n",
       "          const docLink = document.createElement('div');\n",
       "          docLink.innerHTML = docLinkHtml;\n",
       "          element.appendChild(docLink);\n",
       "        }\n",
       "      </script>\n",
       "    </div>\n",
       "  </div>\n",
       "  "
      ],
      "text/plain": [
       "                     value\n",
       "time_stamp                \n",
       "2016-01-01 00:00:00  1.057\n",
       "2016-01-01 01:00:00  1.171\n",
       "2016-01-01 02:00:00  0.560\n",
       "2016-01-01 03:00:00  0.828\n",
       "2016-01-01 04:00:00  0.932"
      ]
     },
     "execution_count": 11,
     "metadata": {},
     "output_type": "execute_result"
    }
   ],
   "source": [
    "df.head()"
   ]
  },
  {
   "cell_type": "code",
   "execution_count": 12,
   "id": "THAXxSe75axW",
   "metadata": {
    "colab": {
     "base_uri": "https://localhost:8080/",
     "height": 238
    },
    "id": "THAXxSe75axW",
    "outputId": "7a69e06b-72ae-4497-fa40-27cf053e1a1d"
   },
   "outputs": [
    {
     "data": {
      "text/html": [
       "\n",
       "  <div id=\"df-02bb702f-caf5-4f3e-b388-086bf7f548fe\">\n",
       "    <div class=\"colab-df-container\">\n",
       "      <div>\n",
       "<style scoped>\n",
       "    .dataframe tbody tr th:only-of-type {\n",
       "        vertical-align: middle;\n",
       "    }\n",
       "\n",
       "    .dataframe tbody tr th {\n",
       "        vertical-align: top;\n",
       "    }\n",
       "\n",
       "    .dataframe thead th {\n",
       "        text-align: right;\n",
       "    }\n",
       "</style>\n",
       "<table border=\"1\" class=\"dataframe\">\n",
       "  <thead>\n",
       "    <tr style=\"text-align: right;\">\n",
       "      <th></th>\n",
       "      <th>value</th>\n",
       "    </tr>\n",
       "    <tr>\n",
       "      <th>time_stamp</th>\n",
       "      <th></th>\n",
       "    </tr>\n",
       "  </thead>\n",
       "  <tbody>\n",
       "    <tr>\n",
       "      <th>2020-02-06 19:00:00</th>\n",
       "      <td>1.307</td>\n",
       "    </tr>\n",
       "    <tr>\n",
       "      <th>2020-02-06 20:00:00</th>\n",
       "      <td>2.872</td>\n",
       "    </tr>\n",
       "    <tr>\n",
       "      <th>2020-02-06 21:00:00</th>\n",
       "      <td>2.138</td>\n",
       "    </tr>\n",
       "    <tr>\n",
       "      <th>2020-02-06 22:00:00</th>\n",
       "      <td>2.199</td>\n",
       "    </tr>\n",
       "    <tr>\n",
       "      <th>2020-02-06 23:00:00</th>\n",
       "      <td>1.809</td>\n",
       "    </tr>\n",
       "  </tbody>\n",
       "</table>\n",
       "</div>\n",
       "      <button class=\"colab-df-convert\" onclick=\"convertToInteractive('df-02bb702f-caf5-4f3e-b388-086bf7f548fe')\"\n",
       "              title=\"Convert this dataframe to an interactive table.\"\n",
       "              style=\"display:none;\">\n",
       "        \n",
       "  <svg xmlns=\"http://www.w3.org/2000/svg\" height=\"24px\"viewBox=\"0 0 24 24\"\n",
       "       width=\"24px\">\n",
       "    <path d=\"M0 0h24v24H0V0z\" fill=\"none\"/>\n",
       "    <path d=\"M18.56 5.44l.94 2.06.94-2.06 2.06-.94-2.06-.94-.94-2.06-.94 2.06-2.06.94zm-11 1L8.5 8.5l.94-2.06 2.06-.94-2.06-.94L8.5 2.5l-.94 2.06-2.06.94zm10 10l.94 2.06.94-2.06 2.06-.94-2.06-.94-.94-2.06-.94 2.06-2.06.94z\"/><path d=\"M17.41 7.96l-1.37-1.37c-.4-.4-.92-.59-1.43-.59-.52 0-1.04.2-1.43.59L10.3 9.45l-7.72 7.72c-.78.78-.78 2.05 0 2.83L4 21.41c.39.39.9.59 1.41.59.51 0 1.02-.2 1.41-.59l7.78-7.78 2.81-2.81c.8-.78.8-2.07 0-2.86zM5.41 20L4 18.59l7.72-7.72 1.47 1.35L5.41 20z\"/>\n",
       "  </svg>\n",
       "      </button>\n",
       "      \n",
       "  <style>\n",
       "    .colab-df-container {\n",
       "      display:flex;\n",
       "      flex-wrap:wrap;\n",
       "      gap: 12px;\n",
       "    }\n",
       "\n",
       "    .colab-df-convert {\n",
       "      background-color: #E8F0FE;\n",
       "      border: none;\n",
       "      border-radius: 50%;\n",
       "      cursor: pointer;\n",
       "      display: none;\n",
       "      fill: #1967D2;\n",
       "      height: 32px;\n",
       "      padding: 0 0 0 0;\n",
       "      width: 32px;\n",
       "    }\n",
       "\n",
       "    .colab-df-convert:hover {\n",
       "      background-color: #E2EBFA;\n",
       "      box-shadow: 0px 1px 2px rgba(60, 64, 67, 0.3), 0px 1px 3px 1px rgba(60, 64, 67, 0.15);\n",
       "      fill: #174EA6;\n",
       "    }\n",
       "\n",
       "    [theme=dark] .colab-df-convert {\n",
       "      background-color: #3B4455;\n",
       "      fill: #D2E3FC;\n",
       "    }\n",
       "\n",
       "    [theme=dark] .colab-df-convert:hover {\n",
       "      background-color: #434B5C;\n",
       "      box-shadow: 0px 1px 3px 1px rgba(0, 0, 0, 0.15);\n",
       "      filter: drop-shadow(0px 1px 2px rgba(0, 0, 0, 0.3));\n",
       "      fill: #FFFFFF;\n",
       "    }\n",
       "  </style>\n",
       "\n",
       "      <script>\n",
       "        const buttonEl =\n",
       "          document.querySelector('#df-02bb702f-caf5-4f3e-b388-086bf7f548fe button.colab-df-convert');\n",
       "        buttonEl.style.display =\n",
       "          google.colab.kernel.accessAllowed ? 'block' : 'none';\n",
       "\n",
       "        async function convertToInteractive(key) {\n",
       "          const element = document.querySelector('#df-02bb702f-caf5-4f3e-b388-086bf7f548fe');\n",
       "          const dataTable =\n",
       "            await google.colab.kernel.invokeFunction('convertToInteractive',\n",
       "                                                     [key], {});\n",
       "          if (!dataTable) return;\n",
       "\n",
       "          const docLinkHtml = 'Like what you see? Visit the ' +\n",
       "            '<a target=\"_blank\" href=https://colab.research.google.com/notebooks/data_table.ipynb>data table notebook</a>'\n",
       "            + ' to learn more about interactive tables.';\n",
       "          element.innerHTML = '';\n",
       "          dataTable['output_type'] = 'display_data';\n",
       "          await google.colab.output.renderOutput(dataTable, element);\n",
       "          const docLink = document.createElement('div');\n",
       "          docLink.innerHTML = docLinkHtml;\n",
       "          element.appendChild(docLink);\n",
       "        }\n",
       "      </script>\n",
       "    </div>\n",
       "  </div>\n",
       "  "
      ],
      "text/plain": [
       "                     value\n",
       "time_stamp                \n",
       "2020-02-06 19:00:00  1.307\n",
       "2020-02-06 20:00:00  2.872\n",
       "2020-02-06 21:00:00  2.138\n",
       "2020-02-06 22:00:00  2.199\n",
       "2020-02-06 23:00:00  1.809"
      ]
     },
     "execution_count": 12,
     "metadata": {},
     "output_type": "execute_result"
    }
   ],
   "source": [
    "df.tail()"
   ]
  },
  {
   "cell_type": "code",
   "execution_count": 13,
   "id": "bQk15MFgouDq",
   "metadata": {
    "id": "bQk15MFgouDq"
   },
   "outputs": [],
   "source": [
    "plt.rcParams['figure.figsize'] = [15,8]"
   ]
  },
  {
   "cell_type": "code",
   "execution_count": 14,
   "id": "3b098ae2",
   "metadata": {
    "colab": {
     "base_uri": "https://localhost:8080/",
     "height": 523
    },
    "id": "3b098ae2",
    "outputId": "4c43fa4a-dcbd-4e74-d6d9-511e0bc94a09"
   },
   "outputs": [
    {
     "data": {
      "image/png": "[encoded data removed]",
      "text/plain": [
       "<Figure size 1080x576 with 1 Axes>"
      ]
     },
     "metadata": {
      "needs_background": "light"
     },
     "output_type": "display_data"
    }
   ],
   "source": [
    "plt.plot(df,color='blue')\n",
    "plt.title('Hourly Residential Power Usage',fontsize=20)\n",
    "plt.xlabel('Date',fontsize=15)\n",
    "plt.ylabel('Units',fontsize=15)\n",
    "plt.show()"
   ]
  },
  {
   "cell_type": "code",
   "execution_count": 15,
   "id": "bf59d3e0",
   "metadata": {
    "id": "bf59d3e0"
   },
   "outputs": [],
   "source": [
    "def convert2matrix(data_arr, look_back):\n",
    "    X, Y =[], []\n",
    "    for i in range(len(data_arr)-look_back):\n",
    "        d=i+look_back  \n",
    "        X.append(data_arr[i:d,0])\n",
    "        Y.append(data_arr[d,0])\n",
    "    return np.array(X), np.array(Y)"
   ]
  },
  {
   "cell_type": "code",
   "execution_count": 16,
   "id": "46b24adc",
   "metadata": {
    "id": "46b24adc"
   },
   "outputs": [],
   "source": [
    "from sklearn.preprocessing import MinMaxScaler\n",
    "#create numpy.ndarray \n",
    "df['value'] = df['value'].astype(np.float32)\n",
    "df_arr = df.values\n",
    "df_arr = np.reshape(df_arr, (-1, 1))\n",
    "scaler = MinMaxScaler(feature_range=(0.1, 1))\n",
    "df_arr = scaler.fit_transform(df_arr)"
   ]
  },
  {
   "cell_type": "code",
   "execution_count": 29,
   "id": "1cea6c5f",
   "metadata": {
    "id": "1cea6c5f"
   },
   "outputs": [],
   "source": [
    "#Split data set into testing dataset and train dataset\n",
    "train_size = 32000\n",
    "train, test =df_arr[0:train_size,:], df_arr[train_size:len(df_arr),:]\n",
    "# setup look_back window \n",
    "look_back = 23\n",
    "#convert dataset into right shape in order to input into the DNN\n",
    "trainX, trainY = convert2matrix(train, look_back)\n",
    "testX, testY = convert2matrix(test, look_back)\n",
    "trainX = np.reshape(trainX, (trainX.shape[0], 1, trainX.shape[1]))\n",
    "testX = np.reshape(testX, (testX.shape[0], 1, testX.shape[1]))"
   ]
  },
  {
   "cell_type": "code",
   "execution_count": 18,
   "id": "c7d46c39",
   "metadata": {
    "colab": {
     "base_uri": "https://localhost:8080/"
    },
    "id": "c7d46c39",
    "outputId": "afb45b4c-a554-4f22-a606-6f36bf1bdedd"
   },
   "outputs": [
    {
     "name": "stdout",
     "output_type": "stream",
     "text": [
      "(31977, 1, 23)\n",
      "(31977,)\n",
      "(3929, 1, 23)\n",
      "(3929,)\n"
     ]
    }
   ],
   "source": [
    "print(trainX.shape)\n",
    "print(trainY.shape)\n",
    "print(testX.shape)\n",
    "print(testY.shape)"
   ]
  },
  {
   "cell_type": "code",
   "execution_count": 19,
   "id": "GIc1nRcCuP3G",
   "metadata": {
    "colab": {
     "base_uri": "https://localhost:8080/"
    },
    "id": "GIc1nRcCuP3G",
    "outputId": "ac900877-406d-4155-f711-85d1242593e8"
   },
   "outputs": [
    {
     "name": "stdout",
     "output_type": "stream",
     "text": [
      "\u001b[?25l\r",
      "\u001b[K     |██▌                             | 10 kB 20.4 MB/s eta 0:00:01\r",
      "\u001b[K     |█████                           | 20 kB 23.7 MB/s eta 0:00:01\r",
      "\u001b[K     |███████▍                        | 30 kB 29.0 MB/s eta 0:00:01\r",
      "\u001b[K     |█████████▉                      | 40 kB 22.9 MB/s eta 0:00:01\r",
      "\u001b[K     |████████████▎                   | 51 kB 7.8 MB/s eta 0:00:01\r",
      "\u001b[K     |██████████████▊                 | 61 kB 9.2 MB/s eta 0:00:01\r",
      "\u001b[K     |█████████████████▏              | 71 kB 9.6 MB/s eta 0:00:01\r",
      "\u001b[K     |███████████████████▋            | 81 kB 10.7 MB/s eta 0:00:01\r",
      "\u001b[K     |██████████████████████          | 92 kB 11.7 MB/s eta 0:00:01\r",
      "\u001b[K     |████████████████████████▌       | 102 kB 10.2 MB/s eta 0:00:01\r",
      "\u001b[K     |███████████████████████████     | 112 kB 10.2 MB/s eta 0:00:01\r",
      "\u001b[K     |█████████████████████████████▍  | 122 kB 10.2 MB/s eta 0:00:01\r",
      "\u001b[K     |███████████████████████████████▉| 133 kB 10.2 MB/s eta 0:00:01\r",
      "\u001b[K     |████████████████████████████████| 133 kB 10.2 MB/s \n",
      "\u001b[?25h"
     ]
    }
   ],
   "source": [
    "!pip install -q -U keras-tuner"
   ]
  },
  {
   "cell_type": "code",
   "execution_count": 20,
   "id": "M5te5ih0uP6u",
   "metadata": {
    "id": "M5te5ih0uP6u"
   },
   "outputs": [],
   "source": [
    "import pandas as pd\n",
    "from tensorflow import keras\n",
    "from tensorflow.keras import layers\n",
    "from keras_tuner.tuners import RandomSearch\n",
    "from tensorflow.keras.models import Sequential\n",
    "from tensorflow.keras.layers import LSTM\n",
    "from tensorflow.keras.layers import Dense,Dropout\n",
    "from tensorflow.keras.layers import Flatten\n",
    "import matplotlib.pyplot as plt"
   ]
  },
  {
   "cell_type": "code",
   "execution_count": null,
   "id": "rYiJC5hXuP_e",
   "metadata": {
    "id": "rYiJC5hXuP_e"
   },
   "outputs": [],
   "source": [
    "def build_model(hp):\n",
    "    model = keras.Sequential()\n",
    "    model.add(LSTM(hp.Int('lstm_layer',min_value=8,max_value=128,step=8), activation=\"relu\", input_shape=(1,look_back),recurrent_dropout = hp.Choice(\"first_recurrent_dropout\",[0.2,0.4,0.6],default=0.2)))\n",
    "    model.add(Dense(hp.Int('dense_layer_1',min_value=8,max_value=128,step=8),activation=\"relu\"))\n",
    "    model.add(Dropout(hp.Float('Dropout_rate',min_value=0,max_value=0.5,step=0.1)))\n",
    "    model.add(layers.Dense(1, activation='linear'))\n",
    "    model.compile(\n",
    "        optimizer=keras.optimizers.Adam(\n",
    "             hp.Float('learning_rate', min_value=1e-4, max_value=1e-1, sampling=\"log\")),\n",
    "        loss='mape',\n",
    "        metrics=['mape'])\n",
    "    return model"
   ]
  },
  {
   "cell_type": "code",
   "execution_count": null,
   "id": "2h_gRerjuQCT",
   "metadata": {
    "id": "2h_gRerjuQCT"
   },
   "outputs": [],
   "source": [
    "tuner = RandomSearch(\n",
    "    build_model,\n",
    "    objective='val_mape',\n",
    "    max_trials=10,\n",
    "    executions_per_trial=1,\n",
    "    directory='project',\n",
    "    project_name='resident_consum_2')"
   ]
  },
  {
   "cell_type": "code",
   "execution_count": null,
   "id": "Dg5AHN3guQFu",
   "metadata": {
    "colab": {
     "base_uri": "https://localhost:8080/"
    },
    "id": "Dg5AHN3guQFu",
    "outputId": "fa70260b-afc5-4fc7-b9b5-7ddb6c6e0913"
   },
   "outputs": [
    {
     "name": "stdout",
     "output_type": "stream",
     "text": [
      "Search space summary\n",
      "Default search space size: 5\n",
      "lstm_layer (Int)\n",
      "{'default': None, 'conditions': [], 'min_value': 8, 'max_value': 128, 'step': 8, 'sampling': None}\n",
      "first_recurrent_dropout (Choice)\n",
      "{'default': 0.2, 'conditions': [], 'values': [0.2, 0.4, 0.6], 'ordered': True}\n",
      "dense_layer_1 (Int)\n",
      "{'default': None, 'conditions': [], 'min_value': 8, 'max_value': 128, 'step': 8, 'sampling': None}\n",
      "Dropout_rate (Float)\n",
      "{'default': 0.0, 'conditions': [], 'min_value': 0.0, 'max_value': 0.5, 'step': 0.1, 'sampling': None}\n",
      "learning_rate (Float)\n",
      "{'default': 0.0001, 'conditions': [], 'min_value': 0.0001, 'max_value': 0.1, 'step': None, 'sampling': 'log'}\n"
     ]
    }
   ],
   "source": [
    "tuner.search_space_summary()"
   ]
  },
  {
   "cell_type": "code",
   "execution_count": null,
   "id": "TiBXdF0K8Gpr",
   "metadata": {
    "colab": {
     "base_uri": "https://localhost:8080/"
    },
    "id": "TiBXdF0K8Gpr",
    "outputId": "49579b24-e3ff-40bc-d4bb-15c460b0d313"
   },
   "outputs": [
    {
     "name": "stdout",
     "output_type": "stream",
     "text": [
      "Trial 10 Complete [00h 04m 24s]\n",
      "val_mape: 18.95372200012207\n",
      "\n",
      "Best val_mape So Far: 18.64246940612793\n",
      "Total elapsed time: 00h 36m 13s\n",
      "INFO:tensorflow:Oracle triggered exit\n"
     ]
    }
   ],
   "source": [
    "tuner.search(trainX, trainY,\n",
    "             epochs=200,\n",
    "             batch_size=36,\n",
    "             validation_data=(testX, testY))"
   ]
  },
  {
   "cell_type": "code",
   "execution_count": null,
   "id": "VXXGH_RK8GsD",
   "metadata": {
    "colab": {
     "base_uri": "https://localhost:8080/"
    },
    "id": "VXXGH_RK8GsD",
    "outputId": "07e7c6e5-2906-4ae7-deb2-5708a22f408c"
   },
   "outputs": [
    {
     "name": "stdout",
     "output_type": "stream",
     "text": [
      "Results summary\n",
      "Results in project/resident_consum_2\n",
      "Showing 10 best trials\n",
      "Objective(name='val_mape', direction='min')\n",
      "Trial summary\n",
      "Hyperparameters:\n",
      "lstm_layer: 72\n",
      "first_recurrent_dropout: 0.4\n",
      "dense_layer_1: 128\n",
      "Dropout_rate: 0.30000000000000004\n",
      "learning_rate: 0.0012525191047985907\n",
      "Score: 18.64246940612793\n",
      "Trial summary\n",
      "Hyperparameters:\n",
      "lstm_layer: 48\n",
      "first_recurrent_dropout: 0.4\n",
      "dense_layer_1: 104\n",
      "Dropout_rate: 0.30000000000000004\n",
      "learning_rate: 0.0010244242859496276\n",
      "Score: 18.715389251708984\n",
      "Trial summary\n",
      "Hyperparameters:\n",
      "lstm_layer: 64\n",
      "first_recurrent_dropout: 0.6\n",
      "dense_layer_1: 48\n",
      "Dropout_rate: 0.4\n",
      "learning_rate: 0.01091885407324276\n",
      "Score: 18.95372200012207\n",
      "Trial summary\n",
      "Hyperparameters:\n",
      "lstm_layer: 64\n",
      "first_recurrent_dropout: 0.4\n",
      "dense_layer_1: 80\n",
      "Dropout_rate: 0.4\n",
      "learning_rate: 0.005894468395199699\n",
      "Score: 18.957490921020508\n",
      "Trial summary\n",
      "Hyperparameters:\n",
      "lstm_layer: 40\n",
      "first_recurrent_dropout: 0.4\n",
      "dense_layer_1: 64\n",
      "Dropout_rate: 0.2\n",
      "learning_rate: 0.0068852328221466015\n",
      "Score: 18.987632751464844\n",
      "Trial summary\n",
      "Hyperparameters:\n",
      "lstm_layer: 24\n",
      "first_recurrent_dropout: 0.4\n",
      "dense_layer_1: 112\n",
      "Dropout_rate: 0.4\n",
      "learning_rate: 0.0006798138705985687\n",
      "Score: 19.030540466308594\n",
      "Trial summary\n",
      "Hyperparameters:\n",
      "lstm_layer: 48\n",
      "first_recurrent_dropout: 0.4\n",
      "dense_layer_1: 32\n",
      "Dropout_rate: 0.4\n",
      "learning_rate: 0.00018196615119335302\n",
      "Score: 19.110193252563477\n",
      "Trial summary\n",
      "Hyperparameters:\n",
      "lstm_layer: 8\n",
      "first_recurrent_dropout: 0.4\n",
      "dense_layer_1: 48\n",
      "Dropout_rate: 0.5\n",
      "learning_rate: 0.00031540036686090664\n",
      "Score: 19.164453506469727\n",
      "Trial summary\n",
      "Hyperparameters:\n",
      "lstm_layer: 32\n",
      "first_recurrent_dropout: 0.6\n",
      "dense_layer_1: 16\n",
      "Dropout_rate: 0.0\n",
      "learning_rate: 0.00012544547330964388\n",
      "Score: 19.267126083374023\n",
      "Trial summary\n",
      "Hyperparameters:\n",
      "lstm_layer: 16\n",
      "first_recurrent_dropout: 0.4\n",
      "dense_layer_1: 104\n",
      "Dropout_rate: 0.4\n",
      "learning_rate: 0.0503534378068103\n",
      "Score: 38.42567825317383\n"
     ]
    }
   ],
   "source": [
    "tuner.results_summary()"
   ]
  },
  {
   "cell_type": "code",
   "execution_count": null,
   "id": "FBpLenJ_DZMX",
   "metadata": {
    "id": "FBpLenJ_DZMX"
   },
   "outputs": [],
   "source": [
    "from warnings import filterwarnings\n",
    "filterwarnings('ignore')"
   ]
  },
  {
   "cell_type": "code",
   "execution_count": null,
   "id": "eL-a8rAv8Gvg",
   "metadata": {
    "colab": {
     "base_uri": "https://localhost:8080/"
    },
    "id": "eL-a8rAv8Gvg",
    "outputId": "647df7ef-9757-457a-ba4b-77c817ebb85b"
   },
   "outputs": [
    {
     "name": "stdout",
     "output_type": "stream",
     "text": [
      "Model: \"sequential\"\n",
      "_________________________________________________________________\n",
      " Layer (type)                Output Shape              Param #   \n",
      "=================================================================\n",
      " lstm (LSTM)                 (None, 72)                27648     \n",
      "                                                                 \n",
      " dense (Dense)               (None, 128)               9344      \n",
      "                                                                 \n",
      " dropout (Dropout)           (None, 128)               0         \n",
      "                                                                 \n",
      " dense_1 (Dense)             (None, 1)                 129       \n",
      "                                                                 \n",
      "=================================================================\n",
      "Total params: 37,121\n",
      "Trainable params: 37,121\n",
      "Non-trainable params: 0\n",
      "_________________________________________________________________\n"
     ]
    }
   ],
   "source": [
    "models = tuner.get_best_models(num_models=2)\n",
    "best_model = models[0]\n",
    "# Build the model.\n",
    "# Needed for `Sequential` without specified `input_shape`.\n",
    "best_model.build(input_shape=(None, 24))\n",
    "best_model.summary()"
   ]
  },
  {
   "cell_type": "code",
   "execution_count": 21,
   "id": "ovKDjDHZEmLV",
   "metadata": {
    "id": "ovKDjDHZEmLV"
   },
   "outputs": [],
   "source": [
    "from tensorflow.keras import optimizers\n",
    "from tensorflow.keras.layers import LeakyReLU, BatchNormalization, Bidirectional"
   ]
  },
  {
   "cell_type": "code",
   "execution_count": 31,
   "id": "0e187ddc",
   "metadata": {
    "colab": {
     "base_uri": "https://localhost:8080/"
    },
    "id": "0e187ddc",
    "outputId": "710f42da-3251-4aa9-910b-b73b7fd3b301"
   },
   "outputs": [
    {
     "name": "stdout",
     "output_type": "stream",
     "text": [
      "Epoch 1/200\n",
      "889/889 [==============================] - 7s 4ms/step - loss: 95.6199 - mape: 95.6199 - val_loss: 89.9873 - val_mape: 89.9873\n",
      "Epoch 2/200\n",
      "889/889 [==============================] - 3s 3ms/step - loss: 84.4845 - mape: 84.4845 - val_loss: 78.5767 - val_mape: 78.5767\n",
      "Epoch 3/200\n",
      "889/889 [==============================] - 3s 3ms/step - loss: 71.7350 - mape: 71.7350 - val_loss: 64.6723 - val_mape: 64.6723\n",
      "Epoch 4/200\n",
      "889/889 [==============================] - 2s 3ms/step - loss: 55.6265 - mape: 55.6265 - val_loss: 47.0124 - val_mape: 47.0124\n",
      "Epoch 5/200\n",
      "889/889 [==============================] - 2s 3ms/step - loss: 37.8524 - mape: 37.8524 - val_loss: 29.7917 - val_mape: 29.7917\n",
      "Epoch 6/200\n",
      "889/889 [==============================] - 2s 3ms/step - loss: 27.4888 - mape: 27.4888 - val_loss: 21.3139 - val_mape: 21.3139\n",
      "Epoch 7/200\n",
      "889/889 [==============================] - 2s 3ms/step - loss: 24.7148 - mape: 24.7148 - val_loss: 19.8925 - val_mape: 19.8925\n",
      "Epoch 8/200\n",
      "889/889 [==============================] - 3s 3ms/step - loss: 23.7895 - mape: 23.7895 - val_loss: 19.2810 - val_mape: 19.2810\n",
      "Epoch 9/200\n",
      "889/889 [==============================] - 2s 3ms/step - loss: 22.7587 - mape: 22.7587 - val_loss: 18.5447 - val_mape: 18.5447\n",
      "Epoch 10/200\n",
      "889/889 [==============================] - 3s 3ms/step - loss: 21.6568 - mape: 21.6568 - val_loss: 17.8860 - val_mape: 17.8860\n",
      "Epoch 11/200\n",
      "889/889 [==============================] - 2s 3ms/step - loss: 20.5442 - mape: 20.5442 - val_loss: 17.1774 - val_mape: 17.1774\n",
      "Epoch 12/200\n",
      "889/889 [==============================] - 2s 3ms/step - loss: 19.4994 - mape: 19.4994 - val_loss: 16.5774 - val_mape: 16.5774\n",
      "Epoch 13/200\n",
      "889/889 [==============================] - 2s 3ms/step - loss: 18.6741 - mape: 18.6741 - val_loss: 16.1586 - val_mape: 16.1586\n",
      "Epoch 14/200\n",
      "889/889 [==============================] - 3s 3ms/step - loss: 18.0661 - mape: 18.0661 - val_loss: 15.7875 - val_mape: 15.7875\n",
      "Epoch 15/200\n",
      "889/889 [==============================] - 3s 3ms/step - loss: 17.6388 - mape: 17.6388 - val_loss: 15.5465 - val_mape: 15.5465\n",
      "Epoch 16/200\n",
      "889/889 [==============================] - 3s 3ms/step - loss: 17.3301 - mape: 17.3301 - val_loss: 15.4444 - val_mape: 15.4444\n",
      "Epoch 17/200\n",
      "889/889 [==============================] - 2s 3ms/step - loss: 17.0954 - mape: 17.0954 - val_loss: 15.2717 - val_mape: 15.2717\n",
      "Epoch 18/200\n",
      "889/889 [==============================] - 3s 3ms/step - loss: 16.9139 - mape: 16.9139 - val_loss: 15.1470 - val_mape: 15.1470\n",
      "Epoch 19/200\n",
      "889/889 [==============================] - 2s 3ms/step - loss: 16.7636 - mape: 16.7636 - val_loss: 15.0899 - val_mape: 15.0899\n",
      "Epoch 20/200\n",
      "889/889 [==============================] - 2s 3ms/step - loss: 16.6309 - mape: 16.6309 - val_loss: 14.9698 - val_mape: 14.9698\n",
      "Epoch 21/200\n",
      "889/889 [==============================] - 2s 3ms/step - loss: 16.5119 - mape: 16.5119 - val_loss: 14.9235 - val_mape: 14.9235\n",
      "Epoch 22/200\n",
      "889/889 [==============================] - 3s 3ms/step - loss: 16.4015 - mape: 16.4015 - val_loss: 14.9147 - val_mape: 14.9147\n",
      "Epoch 23/200\n",
      "889/889 [==============================] - 3s 3ms/step - loss: 16.3016 - mape: 16.3016 - val_loss: 14.7675 - val_mape: 14.7675\n",
      "Epoch 24/200\n",
      "889/889 [==============================] - 3s 3ms/step - loss: 16.2096 - mape: 16.2096 - val_loss: 14.7402 - val_mape: 14.7402\n",
      "Epoch 25/200\n",
      "889/889 [==============================] - 2s 3ms/step - loss: 16.1245 - mape: 16.1245 - val_loss: 14.6384 - val_mape: 14.6384\n",
      "Epoch 26/200\n",
      "889/889 [==============================] - 3s 3ms/step - loss: 16.0463 - mape: 16.0463 - val_loss: 14.6283 - val_mape: 14.6283\n",
      "Epoch 27/200\n",
      "889/889 [==============================] - 3s 3ms/step - loss: 15.9699 - mape: 15.9699 - val_loss: 14.5862 - val_mape: 14.5862\n",
      "Epoch 28/200\n",
      "889/889 [==============================] - 2s 3ms/step - loss: 15.8966 - mape: 15.8966 - val_loss: 14.4947 - val_mape: 14.4947\n",
      "Epoch 29/200\n",
      "889/889 [==============================] - 2s 3ms/step - loss: 15.8273 - mape: 15.8273 - val_loss: 14.5010 - val_mape: 14.5010\n",
      "Epoch 30/200\n",
      "889/889 [==============================] - 3s 3ms/step - loss: 15.7603 - mape: 15.7603 - val_loss: 14.4140 - val_mape: 14.4140\n",
      "Epoch 31/200\n",
      "889/889 [==============================] - 3s 3ms/step - loss: 15.6940 - mape: 15.6940 - val_loss: 14.4070 - val_mape: 14.4070\n",
      "Epoch 32/200\n",
      "889/889 [==============================] - 3s 3ms/step - loss: 15.6287 - mape: 15.6287 - val_loss: 14.3302 - val_mape: 14.3302\n",
      "Epoch 33/200\n",
      "889/889 [==============================] - 3s 3ms/step - loss: 15.5685 - mape: 15.5685 - val_loss: 14.2456 - val_mape: 14.2456\n",
      "Epoch 34/200\n",
      "889/889 [==============================] - 3s 3ms/step - loss: 15.5105 - mape: 15.5105 - val_loss: 14.2289 - val_mape: 14.2289\n",
      "Epoch 35/200\n",
      "889/889 [==============================] - 2s 3ms/step - loss: 15.4544 - mape: 15.4544 - val_loss: 14.1650 - val_mape: 14.1650\n",
      "Epoch 36/200\n",
      "889/889 [==============================] - 3s 3ms/step - loss: 15.3984 - mape: 15.3984 - val_loss: 14.1353 - val_mape: 14.1353\n",
      "Epoch 37/200\n",
      "889/889 [==============================] - 3s 3ms/step - loss: 15.3474 - mape: 15.3474 - val_loss: 14.1199 - val_mape: 14.1199\n",
      "Epoch 38/200\n",
      "889/889 [==============================] - 2s 3ms/step - loss: 15.2956 - mape: 15.2956 - val_loss: 14.0494 - val_mape: 14.0494\n",
      "Epoch 39/200\n",
      "889/889 [==============================] - 3s 3ms/step - loss: 15.2495 - mape: 15.2495 - val_loss: 14.1108 - val_mape: 14.1108\n",
      "Epoch 40/200\n",
      "889/889 [==============================] - 3s 3ms/step - loss: 15.2034 - mape: 15.2034 - val_loss: 14.0233 - val_mape: 14.0233\n",
      "Epoch 41/200\n",
      "889/889 [==============================] - 3s 3ms/step - loss: 15.1582 - mape: 15.1582 - val_loss: 13.9722 - val_mape: 13.9722\n",
      "Epoch 42/200\n",
      "889/889 [==============================] - 2s 3ms/step - loss: 15.1154 - mape: 15.1154 - val_loss: 13.9939 - val_mape: 13.9939\n",
      "Epoch 43/200\n",
      "889/889 [==============================] - 3s 3ms/step - loss: 15.0741 - mape: 15.0741 - val_loss: 13.9331 - val_mape: 13.9331\n",
      "Epoch 44/200\n",
      "889/889 [==============================] - 2s 3ms/step - loss: 15.0346 - mape: 15.0346 - val_loss: 13.8375 - val_mape: 13.8375\n",
      "Epoch 45/200\n",
      "889/889 [==============================] - 3s 3ms/step - loss: 14.9986 - mape: 14.9986 - val_loss: 13.8407 - val_mape: 13.8407\n",
      "Epoch 46/200\n",
      "889/889 [==============================] - 3s 3ms/step - loss: 14.9621 - mape: 14.9621 - val_loss: 13.8271 - val_mape: 13.8271\n",
      "Epoch 47/200\n",
      "889/889 [==============================] - 3s 3ms/step - loss: 14.9258 - mape: 14.9258 - val_loss: 13.7938 - val_mape: 13.7938\n",
      "Epoch 48/200\n",
      "889/889 [==============================] - 2s 3ms/step - loss: 14.8922 - mape: 14.8922 - val_loss: 13.7267 - val_mape: 13.7267\n",
      "Epoch 49/200\n",
      "889/889 [==============================] - 3s 3ms/step - loss: 14.8621 - mape: 14.8621 - val_loss: 13.7549 - val_mape: 13.7549\n",
      "Epoch 50/200\n",
      "889/889 [==============================] - 3s 3ms/step - loss: 14.8291 - mape: 14.8291 - val_loss: 13.7139 - val_mape: 13.7139\n",
      "Epoch 51/200\n",
      "889/889 [==============================] - 3s 3ms/step - loss: 14.7992 - mape: 14.7992 - val_loss: 13.7193 - val_mape: 13.7193\n",
      "Epoch 52/200\n",
      "889/889 [==============================] - 2s 3ms/step - loss: 14.7677 - mape: 14.7677 - val_loss: 13.6594 - val_mape: 13.6594\n",
      "Epoch 53/200\n",
      "889/889 [==============================] - 3s 3ms/step - loss: 14.7378 - mape: 14.7378 - val_loss: 13.6012 - val_mape: 13.6012\n",
      "Epoch 54/200\n",
      "889/889 [==============================] - 3s 3ms/step - loss: 14.7095 - mape: 14.7095 - val_loss: 13.6493 - val_mape: 13.6493\n",
      "Epoch 55/200\n",
      "889/889 [==============================] - 3s 3ms/step - loss: 14.6821 - mape: 14.6821 - val_loss: 13.5904 - val_mape: 13.5904\n",
      "Epoch 56/200\n",
      "889/889 [==============================] - 3s 3ms/step - loss: 14.6550 - mape: 14.6550 - val_loss: 13.6135 - val_mape: 13.6135\n",
      "Epoch 57/200\n",
      "889/889 [==============================] - 3s 3ms/step - loss: 14.6313 - mape: 14.6313 - val_loss: 13.5555 - val_mape: 13.5555\n",
      "Epoch 58/200\n",
      "889/889 [==============================] - 2s 3ms/step - loss: 14.6065 - mape: 14.6065 - val_loss: 13.5523 - val_mape: 13.5523\n",
      "Epoch 59/200\n",
      "889/889 [==============================] - 3s 3ms/step - loss: 14.5821 - mape: 14.5821 - val_loss: 13.5046 - val_mape: 13.5046\n",
      "Epoch 60/200\n",
      "889/889 [==============================] - 3s 3ms/step - loss: 14.5594 - mape: 14.5594 - val_loss: 13.5238 - val_mape: 13.5238\n",
      "Epoch 61/200\n",
      "889/889 [==============================] - 3s 3ms/step - loss: 14.5362 - mape: 14.5362 - val_loss: 13.5753 - val_mape: 13.5753\n",
      "Epoch 62/200\n",
      "889/889 [==============================] - 2s 3ms/step - loss: 14.5154 - mape: 14.5154 - val_loss: 13.4610 - val_mape: 13.4610\n",
      "Epoch 63/200\n",
      "889/889 [==============================] - 3s 3ms/step - loss: 14.4953 - mape: 14.4953 - val_loss: 13.4697 - val_mape: 13.4697\n",
      "Epoch 64/200\n",
      "889/889 [==============================] - 3s 3ms/step - loss: 14.4753 - mape: 14.4753 - val_loss: 13.4356 - val_mape: 13.4356\n",
      "Epoch 65/200\n",
      "889/889 [==============================] - 3s 3ms/step - loss: 14.4556 - mape: 14.4556 - val_loss: 13.4102 - val_mape: 13.4102\n",
      "Epoch 66/200\n",
      "889/889 [==============================] - 3s 3ms/step - loss: 14.4346 - mape: 14.4346 - val_loss: 13.4368 - val_mape: 13.4368\n",
      "Epoch 67/200\n",
      "889/889 [==============================] - 3s 3ms/step - loss: 14.4158 - mape: 14.4158 - val_loss: 13.4164 - val_mape: 13.4164\n",
      "Epoch 68/200\n",
      "889/889 [==============================] - 3s 3ms/step - loss: 14.3960 - mape: 14.3960 - val_loss: 13.4616 - val_mape: 13.4616\n",
      "Epoch 69/200\n",
      "889/889 [==============================] - 3s 3ms/step - loss: 14.3809 - mape: 14.3809 - val_loss: 13.3316 - val_mape: 13.3316\n",
      "Epoch 70/200\n",
      "889/889 [==============================] - 3s 3ms/step - loss: 14.3616 - mape: 14.3616 - val_loss: 13.3327 - val_mape: 13.3327\n",
      "Epoch 71/200\n",
      "889/889 [==============================] - 3s 3ms/step - loss: 14.3459 - mape: 14.3459 - val_loss: 13.3438 - val_mape: 13.3438\n",
      "Epoch 72/200\n",
      "889/889 [==============================] - 3s 3ms/step - loss: 14.3273 - mape: 14.3273 - val_loss: 13.3572 - val_mape: 13.3572\n",
      "Epoch 73/200\n",
      "889/889 [==============================] - 3s 3ms/step - loss: 14.3106 - mape: 14.3106 - val_loss: 13.3521 - val_mape: 13.3521\n",
      "Epoch 74/200\n",
      "889/889 [==============================] - 3s 3ms/step - loss: 14.2954 - mape: 14.2954 - val_loss: 13.3432 - val_mape: 13.3432\n",
      "Epoch 75/200\n",
      "889/889 [==============================] - 3s 3ms/step - loss: 14.2803 - mape: 14.2803 - val_loss: 13.3068 - val_mape: 13.3068\n",
      "Epoch 76/200\n",
      "889/889 [==============================] - 2s 3ms/step - loss: 14.2665 - mape: 14.2665 - val_loss: 13.2541 - val_mape: 13.2541\n",
      "Epoch 77/200\n",
      "889/889 [==============================] - 3s 3ms/step - loss: 14.2521 - mape: 14.2521 - val_loss: 13.2740 - val_mape: 13.2740\n",
      "Epoch 78/200\n",
      "889/889 [==============================] - 2s 3ms/step - loss: 14.2343 - mape: 14.2343 - val_loss: 13.2752 - val_mape: 13.2752\n",
      "Epoch 79/200\n",
      "889/889 [==============================] - 3s 3ms/step - loss: 14.2218 - mape: 14.2218 - val_loss: 13.2204 - val_mape: 13.2204\n",
      "Epoch 80/200\n",
      "889/889 [==============================] - 3s 3ms/step - loss: 14.2070 - mape: 14.2070 - val_loss: 13.2504 - val_mape: 13.2504\n",
      "Epoch 81/200\n",
      "889/889 [==============================] - 3s 3ms/step - loss: 14.1944 - mape: 14.1944 - val_loss: 13.2587 - val_mape: 13.2587\n",
      "Epoch 82/200\n",
      "889/889 [==============================] - 3s 3ms/step - loss: 14.1806 - mape: 14.1806 - val_loss: 13.1903 - val_mape: 13.1903\n",
      "Epoch 83/200\n",
      "889/889 [==============================] - 3s 3ms/step - loss: 14.1674 - mape: 14.1674 - val_loss: 13.2071 - val_mape: 13.2071\n",
      "Epoch 84/200\n",
      "889/889 [==============================] - 3s 3ms/step - loss: 14.1539 - mape: 14.1539 - val_loss: 13.2686 - val_mape: 13.2686\n",
      "Epoch 85/200\n",
      "889/889 [==============================] - 3s 3ms/step - loss: 14.1416 - mape: 14.1416 - val_loss: 13.1675 - val_mape: 13.1675\n",
      "Epoch 86/200\n",
      "889/889 [==============================] - 2s 3ms/step - loss: 14.1279 - mape: 14.1279 - val_loss: 13.1502 - val_mape: 13.1502\n",
      "Epoch 87/200\n",
      "889/889 [==============================] - 3s 3ms/step - loss: 14.1167 - mape: 14.1167 - val_loss: 13.1584 - val_mape: 13.1584\n",
      "Epoch 88/200\n",
      "889/889 [==============================] - 3s 3ms/step - loss: 14.1037 - mape: 14.1037 - val_loss: 13.1531 - val_mape: 13.1531\n",
      "Epoch 89/200\n",
      "889/889 [==============================] - 3s 3ms/step - loss: 14.0930 - mape: 14.0930 - val_loss: 13.1732 - val_mape: 13.1732\n",
      "Epoch 90/200\n",
      "889/889 [==============================] - 2s 3ms/step - loss: 14.0813 - mape: 14.0813 - val_loss: 13.1346 - val_mape: 13.1346\n",
      "Epoch 91/200\n",
      "889/889 [==============================] - 3s 3ms/step - loss: 14.0695 - mape: 14.0695 - val_loss: 13.1377 - val_mape: 13.1377\n",
      "Epoch 92/200\n",
      "889/889 [==============================] - 3s 3ms/step - loss: 14.0589 - mape: 14.0589 - val_loss: 13.1203 - val_mape: 13.1203\n",
      "Epoch 93/200\n",
      "889/889 [==============================] - 3s 3ms/step - loss: 14.0469 - mape: 14.0469 - val_loss: 13.0924 - val_mape: 13.0924\n",
      "Epoch 94/200\n",
      "889/889 [==============================] - 3s 3ms/step - loss: 14.0343 - mape: 14.0343 - val_loss: 13.1570 - val_mape: 13.1570\n",
      "Epoch 95/200\n",
      "889/889 [==============================] - 3s 3ms/step - loss: 14.0244 - mape: 14.0244 - val_loss: 13.0737 - val_mape: 13.0737\n",
      "Epoch 96/200\n",
      "889/889 [==============================] - 3s 3ms/step - loss: 14.0143 - mape: 14.0143 - val_loss: 13.1024 - val_mape: 13.1024\n",
      "Epoch 97/200\n",
      "889/889 [==============================] - 3s 3ms/step - loss: 14.0031 - mape: 14.0031 - val_loss: 13.0632 - val_mape: 13.0632\n",
      "Epoch 98/200\n",
      "889/889 [==============================] - 3s 3ms/step - loss: 13.9944 - mape: 13.9944 - val_loss: 13.0808 - val_mape: 13.0808\n",
      "Epoch 99/200\n",
      "889/889 [==============================] - 3s 3ms/step - loss: 13.9840 - mape: 13.9840 - val_loss: 13.0497 - val_mape: 13.0497\n",
      "Epoch 100/200\n",
      "889/889 [==============================] - 3s 3ms/step - loss: 13.9730 - mape: 13.9730 - val_loss: 13.1568 - val_mape: 13.1568\n",
      "Epoch 101/200\n",
      "889/889 [==============================] - 3s 3ms/step - loss: 13.9644 - mape: 13.9644 - val_loss: 13.0490 - val_mape: 13.0490\n",
      "Epoch 102/200\n",
      "889/889 [==============================] - 3s 3ms/step - loss: 13.9542 - mape: 13.9542 - val_loss: 13.0616 - val_mape: 13.0616\n",
      "Epoch 103/200\n",
      "889/889 [==============================] - 3s 3ms/step - loss: 13.9461 - mape: 13.9461 - val_loss: 13.0303 - val_mape: 13.0303\n",
      "Epoch 104/200\n",
      "889/889 [==============================] - 3s 3ms/step - loss: 13.9365 - mape: 13.9365 - val_loss: 13.0357 - val_mape: 13.0357\n",
      "Epoch 105/200\n",
      "889/889 [==============================] - 3s 3ms/step - loss: 13.9277 - mape: 13.9277 - val_loss: 13.0626 - val_mape: 13.0626\n",
      "Epoch 106/200\n",
      "889/889 [==============================] - 3s 3ms/step - loss: 13.9187 - mape: 13.9187 - val_loss: 13.0264 - val_mape: 13.0264\n",
      "Epoch 107/200\n",
      "889/889 [==============================] - 3s 3ms/step - loss: 13.9116 - mape: 13.9116 - val_loss: 13.0674 - val_mape: 13.0674\n",
      "Epoch 108/200\n",
      "889/889 [==============================] - 3s 3ms/step - loss: 13.9013 - mape: 13.9013 - val_loss: 12.9946 - val_mape: 12.9946\n",
      "Epoch 109/200\n",
      "889/889 [==============================] - 3s 3ms/step - loss: 13.8955 - mape: 13.8955 - val_loss: 13.0010 - val_mape: 13.0010\n",
      "Epoch 110/200\n",
      "889/889 [==============================] - 3s 3ms/step - loss: 13.8855 - mape: 13.8855 - val_loss: 12.9998 - val_mape: 12.9998\n",
      "Epoch 111/200\n",
      "889/889 [==============================] - 3s 3ms/step - loss: 13.8760 - mape: 13.8760 - val_loss: 13.0320 - val_mape: 13.0320\n",
      "Epoch 112/200\n",
      "889/889 [==============================] - 3s 3ms/step - loss: 13.8697 - mape: 13.8697 - val_loss: 13.0051 - val_mape: 13.0051\n",
      "Epoch 113/200\n",
      "889/889 [==============================] - 3s 3ms/step - loss: 13.8622 - mape: 13.8622 - val_loss: 13.0051 - val_mape: 13.0051\n",
      "Epoch 114/200\n",
      "889/889 [==============================] - 3s 3ms/step - loss: 13.8522 - mape: 13.8522 - val_loss: 12.9557 - val_mape: 12.9557\n",
      "Epoch 115/200\n",
      "889/889 [==============================] - 3s 3ms/step - loss: 13.8469 - mape: 13.8469 - val_loss: 13.0144 - val_mape: 13.0144\n",
      "Epoch 116/200\n",
      "889/889 [==============================] - 3s 3ms/step - loss: 13.8387 - mape: 13.8387 - val_loss: 13.0258 - val_mape: 13.0258\n",
      "Epoch 117/200\n",
      "889/889 [==============================] - 3s 3ms/step - loss: 13.8299 - mape: 13.8299 - val_loss: 12.9396 - val_mape: 12.9396\n",
      "Epoch 118/200\n",
      "889/889 [==============================] - 3s 3ms/step - loss: 13.8256 - mape: 13.8256 - val_loss: 12.9887 - val_mape: 12.9887\n",
      "Epoch 119/200\n",
      "889/889 [==============================] - 3s 3ms/step - loss: 13.8185 - mape: 13.8185 - val_loss: 13.0210 - val_mape: 13.0210\n",
      "Epoch 120/200\n",
      "889/889 [==============================] - 3s 3ms/step - loss: 13.8128 - mape: 13.8128 - val_loss: 13.0070 - val_mape: 13.0070\n",
      "Epoch 121/200\n",
      "889/889 [==============================] - 3s 3ms/step - loss: 13.8041 - mape: 13.8041 - val_loss: 12.9752 - val_mape: 12.9752\n",
      "Epoch 122/200\n",
      "889/889 [==============================] - 3s 3ms/step - loss: 13.7992 - mape: 13.7992 - val_loss: 13.0032 - val_mape: 13.0032\n",
      "Epoch 123/200\n",
      "889/889 [==============================] - 3s 3ms/step - loss: 13.7920 - mape: 13.7920 - val_loss: 13.0176 - val_mape: 13.0176\n",
      "Epoch 124/200\n",
      "889/889 [==============================] - 3s 3ms/step - loss: 13.7853 - mape: 13.7853 - val_loss: 12.9554 - val_mape: 12.9554\n",
      "Epoch 125/200\n",
      "889/889 [==============================] - 3s 3ms/step - loss: 13.7806 - mape: 13.7806 - val_loss: 12.9770 - val_mape: 12.9770\n",
      "Epoch 126/200\n",
      "889/889 [==============================] - 3s 3ms/step - loss: 13.7727 - mape: 13.7727 - val_loss: 13.0045 - val_mape: 13.0045\n",
      "Epoch 127/200\n",
      "889/889 [==============================] - 3s 3ms/step - loss: 13.7658 - mape: 13.7658 - val_loss: 12.9280 - val_mape: 12.9280\n",
      "Epoch 128/200\n",
      "889/889 [==============================] - 3s 3ms/step - loss: 13.7591 - mape: 13.7591 - val_loss: 12.9204 - val_mape: 12.9204\n",
      "Epoch 129/200\n",
      "889/889 [==============================] - 3s 3ms/step - loss: 13.7544 - mape: 13.7544 - val_loss: 12.9284 - val_mape: 12.9284\n",
      "Epoch 130/200\n",
      "889/889 [==============================] - 3s 3ms/step - loss: 13.7478 - mape: 13.7478 - val_loss: 12.9369 - val_mape: 12.9369\n",
      "Epoch 131/200\n",
      "889/889 [==============================] - 3s 3ms/step - loss: 13.7420 - mape: 13.7420 - val_loss: 12.9419 - val_mape: 12.9419\n",
      "Epoch 132/200\n",
      "889/889 [==============================] - 3s 3ms/step - loss: 13.7345 - mape: 13.7345 - val_loss: 13.0019 - val_mape: 13.0019\n",
      "Epoch 133/200\n",
      "889/889 [==============================] - 3s 3ms/step - loss: 13.7297 - mape: 13.7297 - val_loss: 12.9776 - val_mape: 12.9776\n",
      "Epoch 134/200\n",
      "889/889 [==============================] - 3s 3ms/step - loss: 13.7239 - mape: 13.7239 - val_loss: 12.9443 - val_mape: 12.9443\n",
      "Epoch 135/200\n",
      "889/889 [==============================] - 3s 3ms/step - loss: 13.7191 - mape: 13.7191 - val_loss: 12.9283 - val_mape: 12.9283\n",
      "Epoch 136/200\n",
      "889/889 [==============================] - 3s 3ms/step - loss: 13.7107 - mape: 13.7107 - val_loss: 12.9677 - val_mape: 12.9677\n",
      "Epoch 137/200\n",
      "889/889 [==============================] - 3s 3ms/step - loss: 13.7067 - mape: 13.7067 - val_loss: 12.9557 - val_mape: 12.9557\n",
      "Epoch 138/200\n",
      "889/889 [==============================] - 3s 3ms/step - loss: 13.6999 - mape: 13.6999 - val_loss: 12.9393 - val_mape: 12.9393\n",
      "Epoch 139/200\n",
      "889/889 [==============================] - 3s 3ms/step - loss: 13.6940 - mape: 13.6940 - val_loss: 12.9283 - val_mape: 12.9283\n",
      "Epoch 140/200\n",
      "889/889 [==============================] - 3s 3ms/step - loss: 13.6891 - mape: 13.6891 - val_loss: 12.9485 - val_mape: 12.9485\n",
      "Epoch 141/200\n",
      "889/889 [==============================] - 3s 3ms/step - loss: 13.6833 - mape: 13.6833 - val_loss: 12.9424 - val_mape: 12.9424\n",
      "Epoch 142/200\n",
      "889/889 [==============================] - 3s 3ms/step - loss: 13.6784 - mape: 13.6784 - val_loss: 12.9157 - val_mape: 12.9157\n",
      "Epoch 143/200\n",
      "889/889 [==============================] - 3s 3ms/step - loss: 13.6723 - mape: 13.6723 - val_loss: 12.9878 - val_mape: 12.9878\n",
      "Epoch 144/200\n",
      "889/889 [==============================] - 3s 3ms/step - loss: 13.6679 - mape: 13.6679 - val_loss: 12.9359 - val_mape: 12.9359\n",
      "Epoch 145/200\n",
      "889/889 [==============================] - 3s 3ms/step - loss: 13.6630 - mape: 13.6630 - val_loss: 12.9335 - val_mape: 12.9335\n",
      "Epoch 146/200\n",
      "889/889 [==============================] - 3s 3ms/step - loss: 13.6563 - mape: 13.6563 - val_loss: 12.9585 - val_mape: 12.9585\n",
      "Epoch 147/200\n",
      "889/889 [==============================] - 3s 3ms/step - loss: 13.6520 - mape: 13.6520 - val_loss: 12.9303 - val_mape: 12.9303\n",
      "Epoch 148/200\n",
      "889/889 [==============================] - 3s 3ms/step - loss: 13.6447 - mape: 13.6447 - val_loss: 12.9014 - val_mape: 12.9014\n",
      "Epoch 149/200\n",
      "889/889 [==============================] - 3s 3ms/step - loss: 13.6393 - mape: 13.6393 - val_loss: 12.9317 - val_mape: 12.9317\n",
      "Epoch 150/200\n",
      "889/889 [==============================] - 3s 3ms/step - loss: 13.6340 - mape: 13.6340 - val_loss: 12.8979 - val_mape: 12.8979\n",
      "Epoch 151/200\n",
      "889/889 [==============================] - 3s 3ms/step - loss: 13.6283 - mape: 13.6283 - val_loss: 12.9036 - val_mape: 12.9036\n",
      "Epoch 152/200\n",
      "889/889 [==============================] - 3s 3ms/step - loss: 13.6215 - mape: 13.6215 - val_loss: 12.9028 - val_mape: 12.9028\n",
      "Epoch 153/200\n",
      "889/889 [==============================] - 3s 3ms/step - loss: 13.6177 - mape: 13.6177 - val_loss: 12.8913 - val_mape: 12.8913\n",
      "Epoch 154/200\n",
      "889/889 [==============================] - 3s 3ms/step - loss: 13.6103 - mape: 13.6103 - val_loss: 12.8921 - val_mape: 12.8921\n",
      "Epoch 155/200\n",
      "889/889 [==============================] - 3s 3ms/step - loss: 13.6051 - mape: 13.6051 - val_loss: 12.9127 - val_mape: 12.9127\n",
      "Epoch 156/200\n",
      "889/889 [==============================] - 3s 3ms/step - loss: 13.6002 - mape: 13.6002 - val_loss: 12.8999 - val_mape: 12.8999\n",
      "Epoch 157/200\n",
      "889/889 [==============================] - 3s 3ms/step - loss: 13.5956 - mape: 13.5956 - val_loss: 12.9552 - val_mape: 12.9552\n",
      "Epoch 158/200\n",
      "889/889 [==============================] - 3s 3ms/step - loss: 13.5899 - mape: 13.5899 - val_loss: 12.8859 - val_mape: 12.8859\n",
      "Epoch 159/200\n",
      "889/889 [==============================] - 3s 3ms/step - loss: 13.5868 - mape: 13.5868 - val_loss: 12.9272 - val_mape: 12.9272\n",
      "Epoch 160/200\n",
      "889/889 [==============================] - 3s 3ms/step - loss: 13.5799 - mape: 13.5799 - val_loss: 12.9101 - val_mape: 12.9101\n",
      "Epoch 161/200\n",
      "889/889 [==============================] - 3s 3ms/step - loss: 13.5768 - mape: 13.5768 - val_loss: 12.8915 - val_mape: 12.8915\n",
      "Epoch 162/200\n",
      "889/889 [==============================] - 3s 3ms/step - loss: 13.5707 - mape: 13.5707 - val_loss: 12.9396 - val_mape: 12.9396\n",
      "Epoch 163/200\n",
      "889/889 [==============================] - 3s 3ms/step - loss: 13.5683 - mape: 13.5683 - val_loss: 12.8912 - val_mape: 12.8912\n",
      "Epoch 164/200\n",
      "889/889 [==============================] - 3s 3ms/step - loss: 13.5623 - mape: 13.5623 - val_loss: 12.8834 - val_mape: 12.8834\n",
      "Epoch 165/200\n",
      "889/889 [==============================] - 3s 3ms/step - loss: 13.5561 - mape: 13.5561 - val_loss: 12.9262 - val_mape: 12.9262\n",
      "Epoch 166/200\n",
      "889/889 [==============================] - 3s 3ms/step - loss: 13.5540 - mape: 13.5540 - val_loss: 12.8934 - val_mape: 12.8934\n",
      "Epoch 167/200\n",
      "889/889 [==============================] - 3s 3ms/step - loss: 13.5485 - mape: 13.5485 - val_loss: 12.9235 - val_mape: 12.9235\n",
      "Epoch 168/200\n",
      "889/889 [==============================] - 3s 3ms/step - loss: 13.5451 - mape: 13.5451 - val_loss: 12.8855 - val_mape: 12.8855\n",
      "Epoch 169/200\n",
      "889/889 [==============================] - 3s 3ms/step - loss: 13.5412 - mape: 13.5412 - val_loss: 12.8649 - val_mape: 12.8649\n",
      "Epoch 170/200\n",
      "889/889 [==============================] - 3s 3ms/step - loss: 13.5365 - mape: 13.5365 - val_loss: 12.9265 - val_mape: 12.9265\n",
      "Epoch 171/200\n",
      "889/889 [==============================] - 3s 3ms/step - loss: 13.5331 - mape: 13.5331 - val_loss: 12.8798 - val_mape: 12.8798\n",
      "Epoch 172/200\n",
      "889/889 [==============================] - 3s 3ms/step - loss: 13.5273 - mape: 13.5273 - val_loss: 12.8878 - val_mape: 12.8878\n",
      "Epoch 173/200\n",
      "889/889 [==============================] - 3s 3ms/step - loss: 13.5254 - mape: 13.5254 - val_loss: 12.9132 - val_mape: 12.9132\n",
      "Epoch 174/200\n",
      "889/889 [==============================] - 3s 3ms/step - loss: 13.5211 - mape: 13.5211 - val_loss: 12.8730 - val_mape: 12.8730\n",
      "Epoch 175/200\n",
      "889/889 [==============================] - 3s 3ms/step - loss: 13.5189 - mape: 13.5189 - val_loss: 12.8999 - val_mape: 12.8999\n",
      "Epoch 176/200\n",
      "889/889 [==============================] - 3s 3ms/step - loss: 13.5140 - mape: 13.5140 - val_loss: 12.8941 - val_mape: 12.8941\n",
      "Epoch 177/200\n",
      "889/889 [==============================] - 3s 3ms/step - loss: 13.5123 - mape: 13.5123 - val_loss: 12.8958 - val_mape: 12.8958\n",
      "Epoch 178/200\n",
      "889/889 [==============================] - 3s 3ms/step - loss: 13.5088 - mape: 13.5088 - val_loss: 12.8712 - val_mape: 12.8712\n",
      "Epoch 179/200\n",
      "889/889 [==============================] - 3s 3ms/step - loss: 13.5066 - mape: 13.5066 - val_loss: 12.8916 - val_mape: 12.8916\n",
      "Epoch 180/200\n",
      "889/889 [==============================] - 3s 3ms/step - loss: 13.5030 - mape: 13.5030 - val_loss: 12.8741 - val_mape: 12.8741\n",
      "Epoch 181/200\n",
      "889/889 [==============================] - 3s 3ms/step - loss: 13.5000 - mape: 13.5000 - val_loss: 12.8693 - val_mape: 12.8693\n",
      "Epoch 182/200\n",
      "889/889 [==============================] - 3s 3ms/step - loss: 13.4951 - mape: 13.4951 - val_loss: 12.8836 - val_mape: 12.8836\n",
      "Epoch 183/200\n",
      "889/889 [==============================] - 3s 3ms/step - loss: 13.4938 - mape: 13.4938 - val_loss: 12.8674 - val_mape: 12.8674\n",
      "Epoch 184/200\n",
      "889/889 [==============================] - 3s 3ms/step - loss: 13.4903 - mape: 13.4903 - val_loss: 12.8823 - val_mape: 12.8823\n",
      "Epoch 185/200\n",
      "889/889 [==============================] - 3s 3ms/step - loss: 13.4901 - mape: 13.4901 - val_loss: 12.8963 - val_mape: 12.8963\n",
      "Epoch 186/200\n",
      "889/889 [==============================] - 3s 3ms/step - loss: 13.4829 - mape: 13.4829 - val_loss: 12.8487 - val_mape: 12.8487\n",
      "Epoch 187/200\n",
      "889/889 [==============================] - 3s 3ms/step - loss: 13.4818 - mape: 13.4818 - val_loss: 12.8881 - val_mape: 12.8881\n",
      "Epoch 188/200\n",
      "889/889 [==============================] - 3s 3ms/step - loss: 13.4809 - mape: 13.4809 - val_loss: 12.8564 - val_mape: 12.8564\n",
      "Epoch 189/200\n",
      "889/889 [==============================] - 3s 3ms/step - loss: 13.4759 - mape: 13.4759 - val_loss: 12.9111 - val_mape: 12.9111\n",
      "Epoch 190/200\n",
      "889/889 [==============================] - 3s 3ms/step - loss: 13.4734 - mape: 13.4734 - val_loss: 12.8839 - val_mape: 12.8839\n",
      "Epoch 191/200\n",
      "889/889 [==============================] - 3s 3ms/step - loss: 13.4710 - mape: 13.4710 - val_loss: 12.8562 - val_mape: 12.8562\n",
      "Epoch 192/200\n",
      "889/889 [==============================] - 3s 3ms/step - loss: 13.4690 - mape: 13.4690 - val_loss: 12.8654 - val_mape: 12.8654\n",
      "Epoch 193/200\n",
      "889/889 [==============================] - 3s 3ms/step - loss: 13.4665 - mape: 13.4665 - val_loss: 12.8659 - val_mape: 12.8659\n",
      "Epoch 194/200\n",
      "889/889 [==============================] - 3s 3ms/step - loss: 13.4631 - mape: 13.4631 - val_loss: 12.8869 - val_mape: 12.8869\n",
      "Epoch 195/200\n",
      "889/889 [==============================] - 3s 3ms/step - loss: 13.4604 - mape: 13.4604 - val_loss: 12.8612 - val_mape: 12.8612\n",
      "Epoch 196/200\n",
      "889/889 [==============================] - 3s 3ms/step - loss: 13.4591 - mape: 13.4591 - val_loss: 12.8535 - val_mape: 12.8535\n",
      "Epoch 197/200\n",
      "889/889 [==============================] - 3s 3ms/step - loss: 13.4547 - mape: 13.4547 - val_loss: 12.8553 - val_mape: 12.8553\n",
      "Epoch 198/200\n",
      "889/889 [==============================] - 3s 3ms/step - loss: 13.4538 - mape: 13.4538 - val_loss: 12.8605 - val_mape: 12.8605\n",
      "Epoch 199/200\n",
      "889/889 [==============================] - 3s 3ms/step - loss: 13.4532 - mape: 13.4532 - val_loss: 12.8719 - val_mape: 12.8719\n",
      "Epoch 200/200\n",
      "889/889 [==============================] - 3s 3ms/step - loss: 13.4482 - mape: 13.4482 - val_loss: 12.8697 - val_mape: 12.8697\n"
     ]
    }
   ],
   "source": [
    "model = Sequential()\n",
    "model.add(LSTM(16,activation='relu',input_shape=(1,look_back),return_sequences=True))\n",
    "model.add(LSTM(8,activation='relu'))\n",
    "model.add(Dense(1,activation='linear'))\n",
    "ad=optimizers.Adam(learning_rate=0.000012525191047985907)\n",
    "model.compile(optimizer = ad, loss = 'mape', metrics = ['mape'])\n",
    "model_history=model.fit(trainX, trainY,validation_data=(testX,testY), batch_size = 36, epochs = 200)"
   ]
  },
  {
   "cell_type": "code",
   "execution_count": 32,
   "id": "77c05906",
   "metadata": {
    "id": "77c05906"
   },
   "outputs": [],
   "source": [
    "def model_loss(history):\n",
    "    plt.figure(figsize=(8,4))\n",
    "    plt.plot(history.history['loss'], label='Train Loss')\n",
    "    plt.plot(history.history['val_loss'], label='Test Loss')\n",
    "    plt.title('model loss')\n",
    "    plt.ylabel('loss')\n",
    "    plt.xlabel('epochs')\n",
    "    plt.legend(loc='upper right')\n",
    "    plt.show();"
   ]
  },
  {
   "cell_type": "code",
   "execution_count": 33,
   "id": "f8eb5958",
   "metadata": {
    "id": "f8eb5958"
   },
   "outputs": [],
   "source": [
    "train_score = model.evaluate(trainX, trainY,verbose=0)\n",
    "test_score = model.evaluate(testX, testY,verbose=0)"
   ]
  },
  {
   "cell_type": "code",
   "execution_count": 34,
   "id": "45a22c27",
   "metadata": {
    "colab": {
     "base_uri": "https://localhost:8080/",
     "height": 329
    },
    "id": "45a22c27",
    "outputId": "7d62d6aa-ed91-4889-b709-f4f876aa13cd"
   },
   "outputs": [
    {
     "name": "stdout",
     "output_type": "stream",
     "text": [
      "Train MAPE : 13.44 \n",
      "Test MAPE : 12.87 \n"
     ]
    },
    {
     "data": {
      "image/png": "[encoded data removed]",
      "text/plain": [
       "<Figure size 576x288 with 1 Axes>"
      ]
     },
     "metadata": {
      "needs_background": "light"
     },
     "output_type": "display_data"
    }
   ],
   "source": [
    "train_predict = model.predict(trainX)\n",
    "test_predict = model.predict(testX)\n",
    "\n",
    "# invert predictions\n",
    "train_predict = scaler.inverse_transform(train_predict)\n",
    "trainY = scaler.inverse_transform([trainY])\n",
    "test_predict = scaler.inverse_transform(test_predict)\n",
    "testY = scaler.inverse_transform([testY])\n",
    "print('Train MAPE : %.2f ' % (train_score[1]))\n",
    "print('Test MAPE : %.2f ' % (test_score[1]))\n",
    "model_loss(model_history)"
   ]
  },
  {
   "cell_type": "code",
   "execution_count": 35,
   "id": "dc942f74",
   "metadata": {
    "id": "dc942f74"
   },
   "outputs": [],
   "source": [
    "import seaborn as sns"
   ]
  },
  {
   "cell_type": "code",
   "execution_count": 36,
   "id": "dee9bab8",
   "metadata": {
    "id": "dee9bab8"
   },
   "outputs": [],
   "source": [
    "def prediction_plot(testY, test_predict,look_back):\n",
    "    len_prediction=[x for x in range(31977,35906)]\n",
    "    plt.plot(trainY.reshape(-1,))\n",
    "    plt.plot(len_prediction, testY.reshape(-1,), marker='.', label='actual')\n",
    "    plt.plot(len_prediction, test_predict, 'g', label=\"prediction\")\n",
    "    plt.tight_layout()\n",
    "    sns.despine(top=True)\n",
    "    plt.subplots_adjust(left=0.07)\n",
    "    plt.ylabel('Units', size=15)\n",
    "    plt.xlabel('Time step', size=15)\n",
    "    plt.legend(fontsize=15)\n",
    "    plt.show()"
   ]
  },
  {
   "cell_type": "code",
   "execution_count": 37,
   "id": "363040b5",
   "metadata": {
    "colab": {
     "base_uri": "https://localhost:8080/",
     "height": 604
    },
    "id": "363040b5",
    "outputId": "781646e1-1fff-426a-82f0-6a068c9afc46"
   },
   "outputs": [
    {
     "data": {
      "image/png": "[encoded data removed]",
      "text/plain": [
       "<Figure size 1080x576 with 1 Axes>"
      ]
     },
     "metadata": {
      "needs_background": "light"
     },
     "output_type": "display_data"
    }
   ],
   "source": [
    "test_predict = model.predict(testX)\n",
    "test_predict = scaler.inverse_transform(test_predict)\n",
    "prediction_plot(testY, test_predict,look_back)"
   ]
  },
  {
   "cell_type": "code",
   "execution_count": null,
   "id": "f8a7708c",
   "metadata": {
    "id": "f8a7708c"
   },
   "outputs": [],
   "source": []
  }
 ],
 "metadata": {
  "colab": {
   "collapsed_sections": [],
   "name": "Residential_Power_HPT_LSTM_simple_model.ipynb",
   "provenance": []
  },
  "kernelspec": {
   "display_name": "Python 3",
   "language": "python",
   "name": "python3"
  },
  "language_info": {
   "codemirror_mode": {
    "name": "ipython",
    "version": 3
   },
   "file_extension": ".py",
   "mimetype": "text/x-python",
   "name": "python",
   "nbconvert_exporter": "python",
   "pygments_lexer": "ipython3",
   "version": "3.8.8"
  }
 },
 "nbformat": 4,
 "nbformat_minor": 5
}
