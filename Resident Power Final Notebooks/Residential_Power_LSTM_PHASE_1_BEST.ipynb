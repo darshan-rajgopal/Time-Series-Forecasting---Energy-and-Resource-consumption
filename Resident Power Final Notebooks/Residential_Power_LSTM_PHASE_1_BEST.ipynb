{
 "cells": [
  {
   "cell_type": "code",
   "execution_count": 1,
   "id": "c2ef9b47",
   "metadata": {
    "id": "c2ef9b47"
   },
   "outputs": [],
   "source": [
    "import numpy as np\n",
    "import pandas as pd\n",
    "from tensorflow.keras.models import Sequential\n",
    "from tensorflow.keras.layers import LSTM, SimpleRNN\n",
    "from tensorflow.keras.layers import Dense\n",
    "from tensorflow.keras.layers import Flatten\n",
    "import matplotlib.pyplot as plt\n",
    "import warnings\n",
    "warnings.filterwarnings('ignore')\n",
    "%matplotlib inline"
   ]
  },
  {
   "cell_type": "code",
   "execution_count": null,
   "id": "BxDZtfokj6Da",
   "metadata": {
    "colab": {
     "base_uri": "https://localhost:8080/",
     "height": 35
    },
    "id": "BxDZtfokj6Da",
    "outputId": "b81e8154-a7e3-419e-b14c-3b8d59b8063b"
   },
   "outputs": [
    {
     "data": {
      "application/vnd.google.colaboratory.intrinsic+json": {
       "type": "string"
      },
      "text/plain": [
       "'/device:GPU:0'"
      ]
     },
     "execution_count": 3,
     "metadata": {},
     "output_type": "execute_result"
    }
   ],
   "source": [
    "import tensorflow as tf\n",
    "tf.test.gpu_device_name()"
   ]
  },
  {
   "cell_type": "code",
   "execution_count": null,
   "id": "UDt4KrAxj6JS",
   "metadata": {
    "colab": {
     "base_uri": "https://localhost:8080/"
    },
    "id": "UDt4KrAxj6JS",
    "outputId": "ae71a41d-894e-4345-affe-cb4091ea52e4"
   },
   "outputs": [
    {
     "data": {
      "text/plain": [
       "[name: \"/device:CPU:0\"\n",
       " device_type: \"CPU\"\n",
       " memory_limit: 268435456\n",
       " locality {\n",
       " }\n",
       " incarnation: 5994368134398930075\n",
       " xla_global_id: -1, name: \"/device:GPU:0\"\n",
       " device_type: \"GPU\"\n",
       " memory_limit: 14465892352\n",
       " locality {\n",
       "   bus_id: 1\n",
       "   links {\n",
       "   }\n",
       " }\n",
       " incarnation: 4638497188715449484\n",
       " physical_device_desc: \"device: 0, name: Tesla T4, pci bus id: 0000:00:04.0, compute capability: 7.5\"\n",
       " xla_global_id: 416903419]"
      ]
     },
     "execution_count": 4,
     "metadata": {},
     "output_type": "execute_result"
    }
   ],
   "source": [
    "from tensorflow.python.client import device_lib\n",
    "device_lib.list_local_devices()"
   ]
  },
  {
   "cell_type": "code",
   "execution_count": 2,
   "id": "_SDcCDXY-kMb",
   "metadata": {
    "colab": {
     "base_uri": "https://localhost:8080/"
    },
    "id": "_SDcCDXY-kMb",
    "outputId": "34df7a0b-4664-47df-887b-3830bfbfd756"
   },
   "outputs": [
    {
     "name": "stdout",
     "output_type": "stream",
     "text": [
      "Mounted at /content/drive\n"
     ]
    }
   ],
   "source": [
    "from google.colab import drive\n",
    "drive.mount('/content/drive')"
   ]
  },
  {
   "cell_type": "code",
   "execution_count": 4,
   "id": "30d066a0",
   "metadata": {
    "colab": {
     "base_uri": "https://localhost:8080/",
     "height": 206
    },
    "id": "30d066a0",
    "outputId": "8c7eda55-f79c-4f3d-d9cf-55da9b8aa28d"
   },
   "outputs": [
    {
     "data": {
      "text/html": [
       "\n",
       "  <div id=\"df-648a3fe1-1b4c-4917-9c52-25befa568091\">\n",
       "    <div class=\"colab-df-container\">\n",
       "      <div>\n",
       "<style scoped>\n",
       "    .dataframe tbody tr th:only-of-type {\n",
       "        vertical-align: middle;\n",
       "    }\n",
       "\n",
       "    .dataframe tbody tr th {\n",
       "        vertical-align: top;\n",
       "    }\n",
       "\n",
       "    .dataframe thead th {\n",
       "        text-align: right;\n",
       "    }\n",
       "</style>\n",
       "<table border=\"1\" class=\"dataframe\">\n",
       "  <thead>\n",
       "    <tr style=\"text-align: right;\">\n",
       "      <th></th>\n",
       "      <th>StartDate</th>\n",
       "      <th>Value (kWh)</th>\n",
       "      <th>day_of_week</th>\n",
       "      <th>notes</th>\n",
       "    </tr>\n",
       "  </thead>\n",
       "  <tbody>\n",
       "    <tr>\n",
       "      <th>0</th>\n",
       "      <td>2016-01-06 00:00:00</td>\n",
       "      <td>1.057</td>\n",
       "      <td>2</td>\n",
       "      <td>weekday</td>\n",
       "    </tr>\n",
       "    <tr>\n",
       "      <th>1</th>\n",
       "      <td>2016-01-06 01:00:00</td>\n",
       "      <td>1.171</td>\n",
       "      <td>2</td>\n",
       "      <td>weekday</td>\n",
       "    </tr>\n",
       "    <tr>\n",
       "      <th>2</th>\n",
       "      <td>2016-01-06 02:00:00</td>\n",
       "      <td>0.560</td>\n",
       "      <td>2</td>\n",
       "      <td>weekday</td>\n",
       "    </tr>\n",
       "    <tr>\n",
       "      <th>3</th>\n",
       "      <td>2016-01-06 03:00:00</td>\n",
       "      <td>0.828</td>\n",
       "      <td>2</td>\n",
       "      <td>weekday</td>\n",
       "    </tr>\n",
       "    <tr>\n",
       "      <th>4</th>\n",
       "      <td>2016-01-06 04:00:00</td>\n",
       "      <td>0.932</td>\n",
       "      <td>2</td>\n",
       "      <td>weekday</td>\n",
       "    </tr>\n",
       "  </tbody>\n",
       "</table>\n",
       "</div>\n",
       "      <button class=\"colab-df-convert\" onclick=\"convertToInteractive('df-648a3fe1-1b4c-4917-9c52-25befa568091')\"\n",
       "              title=\"Convert this dataframe to an interactive table.\"\n",
       "              style=\"display:none;\">\n",
       "        \n",
       "  <svg xmlns=\"http://www.w3.org/2000/svg\" height=\"24px\"viewBox=\"0 0 24 24\"\n",
       "       width=\"24px\">\n",
       "    <path d=\"M0 0h24v24H0V0z\" fill=\"none\"/>\n",
       "    <path d=\"M18.56 5.44l.94 2.06.94-2.06 2.06-.94-2.06-.94-.94-2.06-.94 2.06-2.06.94zm-11 1L8.5 8.5l.94-2.06 2.06-.94-2.06-.94L8.5 2.5l-.94 2.06-2.06.94zm10 10l.94 2.06.94-2.06 2.06-.94-2.06-.94-.94-2.06-.94 2.06-2.06.94z\"/><path d=\"M17.41 7.96l-1.37-1.37c-.4-.4-.92-.59-1.43-.59-.52 0-1.04.2-1.43.59L10.3 9.45l-7.72 7.72c-.78.78-.78 2.05 0 2.83L4 21.41c.39.39.9.59 1.41.59.51 0 1.02-.2 1.41-.59l7.78-7.78 2.81-2.81c.8-.78.8-2.07 0-2.86zM5.41 20L4 18.59l7.72-7.72 1.47 1.35L5.41 20z\"/>\n",
       "  </svg>\n",
       "      </button>\n",
       "      \n",
       "  <style>\n",
       "    .colab-df-container {\n",
       "      display:flex;\n",
       "      flex-wrap:wrap;\n",
       "      gap: 12px;\n",
       "    }\n",
       "\n",
       "    .colab-df-convert {\n",
       "      background-color: #E8F0FE;\n",
       "      border: none;\n",
       "      border-radius: 50%;\n",
       "      cursor: pointer;\n",
       "      display: none;\n",
       "      fill: #1967D2;\n",
       "      height: 32px;\n",
       "      padding: 0 0 0 0;\n",
       "      width: 32px;\n",
       "    }\n",
       "\n",
       "    .colab-df-convert:hover {\n",
       "      background-color: #E2EBFA;\n",
       "      box-shadow: 0px 1px 2px rgba(60, 64, 67, 0.3), 0px 1px 3px 1px rgba(60, 64, 67, 0.15);\n",
       "      fill: #174EA6;\n",
       "    }\n",
       "\n",
       "    [theme=dark] .colab-df-convert {\n",
       "      background-color: #3B4455;\n",
       "      fill: #D2E3FC;\n",
       "    }\n",
       "\n",
       "    [theme=dark] .colab-df-convert:hover {\n",
       "      background-color: #434B5C;\n",
       "      box-shadow: 0px 1px 3px 1px rgba(0, 0, 0, 0.15);\n",
       "      filter: drop-shadow(0px 1px 2px rgba(0, 0, 0, 0.3));\n",
       "      fill: #FFFFFF;\n",
       "    }\n",
       "  </style>\n",
       "\n",
       "      <script>\n",
       "        const buttonEl =\n",
       "          document.querySelector('#df-648a3fe1-1b4c-4917-9c52-25befa568091 button.colab-df-convert');\n",
       "        buttonEl.style.display =\n",
       "          google.colab.kernel.accessAllowed ? 'block' : 'none';\n",
       "\n",
       "        async function convertToInteractive(key) {\n",
       "          const element = document.querySelector('#df-648a3fe1-1b4c-4917-9c52-25befa568091');\n",
       "          const dataTable =\n",
       "            await google.colab.kernel.invokeFunction('convertToInteractive',\n",
       "                                                     [key], {});\n",
       "          if (!dataTable) return;\n",
       "\n",
       "          const docLinkHtml = 'Like what you see? Visit the ' +\n",
       "            '<a target=\"_blank\" href=https://colab.research.google.com/notebooks/data_table.ipynb>data table notebook</a>'\n",
       "            + ' to learn more about interactive tables.';\n",
       "          element.innerHTML = '';\n",
       "          dataTable['output_type'] = 'display_data';\n",
       "          await google.colab.output.renderOutput(dataTable, element);\n",
       "          const docLink = document.createElement('div');\n",
       "          docLink.innerHTML = docLinkHtml;\n",
       "          element.appendChild(docLink);\n",
       "        }\n",
       "      </script>\n",
       "    </div>\n",
       "  </div>\n",
       "  "
      ],
      "text/plain": [
       "             StartDate  Value (kWh)  day_of_week    notes\n",
       "0  2016-01-06 00:00:00        1.057            2  weekday\n",
       "1  2016-01-06 01:00:00        1.171            2  weekday\n",
       "2  2016-01-06 02:00:00        0.560            2  weekday\n",
       "3  2016-01-06 03:00:00        0.828            2  weekday\n",
       "4  2016-01-06 04:00:00        0.932            2  weekday"
      ]
     },
     "execution_count": 4,
     "metadata": {},
     "output_type": "execute_result"
    }
   ],
   "source": [
    "df = pd.read_csv('/content/drive/MyDrive/Colab Notebooks/Energy/residential_power_usage_2016_to_2020.csv')\n",
    "df.head()"
   ]
  },
  {
   "cell_type": "code",
   "execution_count": 5,
   "id": "e2663bb4",
   "metadata": {
    "colab": {
     "base_uri": "https://localhost:8080/",
     "height": 206
    },
    "id": "e2663bb4",
    "outputId": "5faa7358-97d0-4fbd-f6c0-83ab4e0cccf1"
   },
   "outputs": [
    {
     "data": {
      "text/html": [
       "\n",
       "  <div id=\"df-abd10960-a8ec-4ca4-bd2c-5d99c6a4b1d9\">\n",
       "    <div class=\"colab-df-container\">\n",
       "      <div>\n",
       "<style scoped>\n",
       "    .dataframe tbody tr th:only-of-type {\n",
       "        vertical-align: middle;\n",
       "    }\n",
       "\n",
       "    .dataframe tbody tr th {\n",
       "        vertical-align: top;\n",
       "    }\n",
       "\n",
       "    .dataframe thead th {\n",
       "        text-align: right;\n",
       "    }\n",
       "</style>\n",
       "<table border=\"1\" class=\"dataframe\">\n",
       "  <thead>\n",
       "    <tr style=\"text-align: right;\">\n",
       "      <th></th>\n",
       "      <th>StartDate</th>\n",
       "      <th>Value (kWh)</th>\n",
       "      <th>day_of_week</th>\n",
       "      <th>notes</th>\n",
       "    </tr>\n",
       "  </thead>\n",
       "  <tbody>\n",
       "    <tr>\n",
       "      <th>35947</th>\n",
       "      <td>2020-07-07 19:00:00</td>\n",
       "      <td>1.307</td>\n",
       "      <td>1</td>\n",
       "      <td>weekday</td>\n",
       "    </tr>\n",
       "    <tr>\n",
       "      <th>35948</th>\n",
       "      <td>2020-07-07 20:00:00</td>\n",
       "      <td>2.872</td>\n",
       "      <td>1</td>\n",
       "      <td>weekday</td>\n",
       "    </tr>\n",
       "    <tr>\n",
       "      <th>35949</th>\n",
       "      <td>2020-07-07 21:00:00</td>\n",
       "      <td>2.138</td>\n",
       "      <td>1</td>\n",
       "      <td>weekday</td>\n",
       "    </tr>\n",
       "    <tr>\n",
       "      <th>35950</th>\n",
       "      <td>2020-07-07 22:00:00</td>\n",
       "      <td>2.199</td>\n",
       "      <td>1</td>\n",
       "      <td>weekday</td>\n",
       "    </tr>\n",
       "    <tr>\n",
       "      <th>35951</th>\n",
       "      <td>2020-07-07 23:00:00</td>\n",
       "      <td>1.809</td>\n",
       "      <td>1</td>\n",
       "      <td>weekday</td>\n",
       "    </tr>\n",
       "  </tbody>\n",
       "</table>\n",
       "</div>\n",
       "      <button class=\"colab-df-convert\" onclick=\"convertToInteractive('df-abd10960-a8ec-4ca4-bd2c-5d99c6a4b1d9')\"\n",
       "              title=\"Convert this dataframe to an interactive table.\"\n",
       "              style=\"display:none;\">\n",
       "        \n",
       "  <svg xmlns=\"http://www.w3.org/2000/svg\" height=\"24px\"viewBox=\"0 0 24 24\"\n",
       "       width=\"24px\">\n",
       "    <path d=\"M0 0h24v24H0V0z\" fill=\"none\"/>\n",
       "    <path d=\"M18.56 5.44l.94 2.06.94-2.06 2.06-.94-2.06-.94-.94-2.06-.94 2.06-2.06.94zm-11 1L8.5 8.5l.94-2.06 2.06-.94-2.06-.94L8.5 2.5l-.94 2.06-2.06.94zm10 10l.94 2.06.94-2.06 2.06-.94-2.06-.94-.94-2.06-.94 2.06-2.06.94z\"/><path d=\"M17.41 7.96l-1.37-1.37c-.4-.4-.92-.59-1.43-.59-.52 0-1.04.2-1.43.59L10.3 9.45l-7.72 7.72c-.78.78-.78 2.05 0 2.83L4 21.41c.39.39.9.59 1.41.59.51 0 1.02-.2 1.41-.59l7.78-7.78 2.81-2.81c.8-.78.8-2.07 0-2.86zM5.41 20L4 18.59l7.72-7.72 1.47 1.35L5.41 20z\"/>\n",
       "  </svg>\n",
       "      </button>\n",
       "      \n",
       "  <style>\n",
       "    .colab-df-container {\n",
       "      display:flex;\n",
       "      flex-wrap:wrap;\n",
       "      gap: 12px;\n",
       "    }\n",
       "\n",
       "    .colab-df-convert {\n",
       "      background-color: #E8F0FE;\n",
       "      border: none;\n",
       "      border-radius: 50%;\n",
       "      cursor: pointer;\n",
       "      display: none;\n",
       "      fill: #1967D2;\n",
       "      height: 32px;\n",
       "      padding: 0 0 0 0;\n",
       "      width: 32px;\n",
       "    }\n",
       "\n",
       "    .colab-df-convert:hover {\n",
       "      background-color: #E2EBFA;\n",
       "      box-shadow: 0px 1px 2px rgba(60, 64, 67, 0.3), 0px 1px 3px 1px rgba(60, 64, 67, 0.15);\n",
       "      fill: #174EA6;\n",
       "    }\n",
       "\n",
       "    [theme=dark] .colab-df-convert {\n",
       "      background-color: #3B4455;\n",
       "      fill: #D2E3FC;\n",
       "    }\n",
       "\n",
       "    [theme=dark] .colab-df-convert:hover {\n",
       "      background-color: #434B5C;\n",
       "      box-shadow: 0px 1px 3px 1px rgba(0, 0, 0, 0.15);\n",
       "      filter: drop-shadow(0px 1px 2px rgba(0, 0, 0, 0.3));\n",
       "      fill: #FFFFFF;\n",
       "    }\n",
       "  </style>\n",
       "\n",
       "      <script>\n",
       "        const buttonEl =\n",
       "          document.querySelector('#df-abd10960-a8ec-4ca4-bd2c-5d99c6a4b1d9 button.colab-df-convert');\n",
       "        buttonEl.style.display =\n",
       "          google.colab.kernel.accessAllowed ? 'block' : 'none';\n",
       "\n",
       "        async function convertToInteractive(key) {\n",
       "          const element = document.querySelector('#df-abd10960-a8ec-4ca4-bd2c-5d99c6a4b1d9');\n",
       "          const dataTable =\n",
       "            await google.colab.kernel.invokeFunction('convertToInteractive',\n",
       "                                                     [key], {});\n",
       "          if (!dataTable) return;\n",
       "\n",
       "          const docLinkHtml = 'Like what you see? Visit the ' +\n",
       "            '<a target=\"_blank\" href=https://colab.research.google.com/notebooks/data_table.ipynb>data table notebook</a>'\n",
       "            + ' to learn more about interactive tables.';\n",
       "          element.innerHTML = '';\n",
       "          dataTable['output_type'] = 'display_data';\n",
       "          await google.colab.output.renderOutput(dataTable, element);\n",
       "          const docLink = document.createElement('div');\n",
       "          docLink.innerHTML = docLinkHtml;\n",
       "          element.appendChild(docLink);\n",
       "        }\n",
       "      </script>\n",
       "    </div>\n",
       "  </div>\n",
       "  "
      ],
      "text/plain": [
       "                 StartDate  Value (kWh)  day_of_week    notes\n",
       "35947  2020-07-07 19:00:00        1.307            1  weekday\n",
       "35948  2020-07-07 20:00:00        2.872            1  weekday\n",
       "35949  2020-07-07 21:00:00        2.138            1  weekday\n",
       "35950  2020-07-07 22:00:00        2.199            1  weekday\n",
       "35951  2020-07-07 23:00:00        1.809            1  weekday"
      ]
     },
     "execution_count": 5,
     "metadata": {},
     "output_type": "execute_result"
    }
   ],
   "source": [
    "df.tail()"
   ]
  },
  {
   "cell_type": "code",
   "execution_count": 6,
   "id": "0482272d",
   "metadata": {
    "colab": {
     "base_uri": "https://localhost:8080/"
    },
    "id": "0482272d",
    "outputId": "dea1fe51-75f8-46a6-ae72-0e7a255edccf"
   },
   "outputs": [
    {
     "data": {
      "text/plain": [
       "(35952, 4)"
      ]
     },
     "execution_count": 6,
     "metadata": {},
     "output_type": "execute_result"
    }
   ],
   "source": [
    "df.shape"
   ]
  },
  {
   "cell_type": "code",
   "execution_count": 7,
   "id": "076f1ad3",
   "metadata": {
    "colab": {
     "base_uri": "https://localhost:8080/"
    },
    "id": "076f1ad3",
    "outputId": "15c1030d-2448-4019-e0c6-c95df32e5d66"
   },
   "outputs": [
    {
     "name": "stdout",
     "output_type": "stream",
     "text": [
      "<class 'pandas.core.frame.DataFrame'>\n",
      "RangeIndex: 35952 entries, 0 to 35951\n",
      "Data columns (total 4 columns):\n",
      " #   Column       Non-Null Count  Dtype  \n",
      "---  ------       --------------  -----  \n",
      " 0   StartDate    35952 non-null  object \n",
      " 1   Value (kWh)  35952 non-null  float64\n",
      " 2   day_of_week  35952 non-null  int64  \n",
      " 3   notes        35952 non-null  object \n",
      "dtypes: float64(1), int64(1), object(2)\n",
      "memory usage: 1.1+ MB\n"
     ]
    }
   ],
   "source": [
    "df.info()"
   ]
  },
  {
   "cell_type": "code",
   "execution_count": 8,
   "id": "IKYuy6u9oVZN",
   "metadata": {
    "colab": {
     "base_uri": "https://localhost:8080/"
    },
    "id": "IKYuy6u9oVZN",
    "outputId": "cdf9163f-9cf6-461b-e23e-809bb4174846"
   },
   "outputs": [
    {
     "data": {
      "text/plain": [
       "StartDate      0\n",
       "Value (kWh)    0\n",
       "day_of_week    0\n",
       "notes          0\n",
       "dtype: int64"
      ]
     },
     "execution_count": 8,
     "metadata": {},
     "output_type": "execute_result"
    }
   ],
   "source": [
    "df.isnull().sum()"
   ]
  },
  {
   "cell_type": "code",
   "execution_count": 9,
   "id": "93827e39",
   "metadata": {
    "id": "93827e39"
   },
   "outputs": [],
   "source": [
    "time = pd.date_range(start='1/1/2016 00:00:00',periods=35952,freq='H')\n",
    "df['time_stamp'] = pd.DataFrame(time)\n",
    "df.drop(['StartDate','day_of_week','notes'],axis=1,inplace=True)\n",
    "df = df.set_index('time_stamp')"
   ]
  },
  {
   "cell_type": "code",
   "execution_count": 10,
   "id": "S0kNKRMAocKq",
   "metadata": {
    "id": "S0kNKRMAocKq"
   },
   "outputs": [],
   "source": [
    "df.columns=['value']"
   ]
  },
  {
   "cell_type": "code",
   "execution_count": 11,
   "id": "522f2b8e",
   "metadata": {
    "colab": {
     "base_uri": "https://localhost:8080/"
    },
    "id": "522f2b8e",
    "outputId": "69bd2a6c-4bae-4698-c169-1e3d1a171c41"
   },
   "outputs": [
    {
     "data": {
      "text/plain": [
       "(35952, 1)"
      ]
     },
     "execution_count": 11,
     "metadata": {},
     "output_type": "execute_result"
    }
   ],
   "source": [
    "#df = df.iloc[26304:,]\n",
    "df.shape"
   ]
  },
  {
   "cell_type": "code",
   "execution_count": 12,
   "id": "7N0Xc0zT5atx",
   "metadata": {
    "colab": {
     "base_uri": "https://localhost:8080/",
     "height": 238
    },
    "id": "7N0Xc0zT5atx",
    "outputId": "79b547c7-a3b1-4d9c-ab41-1480f17d38b3"
   },
   "outputs": [
    {
     "data": {
      "text/html": [
       "\n",
       "  <div id=\"df-38457906-4f6a-4bb7-9b97-72dfc1174941\">\n",
       "    <div class=\"colab-df-container\">\n",
       "      <div>\n",
       "<style scoped>\n",
       "    .dataframe tbody tr th:only-of-type {\n",
       "        vertical-align: middle;\n",
       "    }\n",
       "\n",
       "    .dataframe tbody tr th {\n",
       "        vertical-align: top;\n",
       "    }\n",
       "\n",
       "    .dataframe thead th {\n",
       "        text-align: right;\n",
       "    }\n",
       "</style>\n",
       "<table border=\"1\" class=\"dataframe\">\n",
       "  <thead>\n",
       "    <tr style=\"text-align: right;\">\n",
       "      <th></th>\n",
       "      <th>value</th>\n",
       "    </tr>\n",
       "    <tr>\n",
       "      <th>time_stamp</th>\n",
       "      <th></th>\n",
       "    </tr>\n",
       "  </thead>\n",
       "  <tbody>\n",
       "    <tr>\n",
       "      <th>2016-01-01 00:00:00</th>\n",
       "      <td>1.057</td>\n",
       "    </tr>\n",
       "    <tr>\n",
       "      <th>2016-01-01 01:00:00</th>\n",
       "      <td>1.171</td>\n",
       "    </tr>\n",
       "    <tr>\n",
       "      <th>2016-01-01 02:00:00</th>\n",
       "      <td>0.560</td>\n",
       "    </tr>\n",
       "    <tr>\n",
       "      <th>2016-01-01 03:00:00</th>\n",
       "      <td>0.828</td>\n",
       "    </tr>\n",
       "    <tr>\n",
       "      <th>2016-01-01 04:00:00</th>\n",
       "      <td>0.932</td>\n",
       "    </tr>\n",
       "  </tbody>\n",
       "</table>\n",
       "</div>\n",
       "      <button class=\"colab-df-convert\" onclick=\"convertToInteractive('df-38457906-4f6a-4bb7-9b97-72dfc1174941')\"\n",
       "              title=\"Convert this dataframe to an interactive table.\"\n",
       "              style=\"display:none;\">\n",
       "        \n",
       "  <svg xmlns=\"http://www.w3.org/2000/svg\" height=\"24px\"viewBox=\"0 0 24 24\"\n",
       "       width=\"24px\">\n",
       "    <path d=\"M0 0h24v24H0V0z\" fill=\"none\"/>\n",
       "    <path d=\"M18.56 5.44l.94 2.06.94-2.06 2.06-.94-2.06-.94-.94-2.06-.94 2.06-2.06.94zm-11 1L8.5 8.5l.94-2.06 2.06-.94-2.06-.94L8.5 2.5l-.94 2.06-2.06.94zm10 10l.94 2.06.94-2.06 2.06-.94-2.06-.94-.94-2.06-.94 2.06-2.06.94z\"/><path d=\"M17.41 7.96l-1.37-1.37c-.4-.4-.92-.59-1.43-.59-.52 0-1.04.2-1.43.59L10.3 9.45l-7.72 7.72c-.78.78-.78 2.05 0 2.83L4 21.41c.39.39.9.59 1.41.59.51 0 1.02-.2 1.41-.59l7.78-7.78 2.81-2.81c.8-.78.8-2.07 0-2.86zM5.41 20L4 18.59l7.72-7.72 1.47 1.35L5.41 20z\"/>\n",
       "  </svg>\n",
       "      </button>\n",
       "      \n",
       "  <style>\n",
       "    .colab-df-container {\n",
       "      display:flex;\n",
       "      flex-wrap:wrap;\n",
       "      gap: 12px;\n",
       "    }\n",
       "\n",
       "    .colab-df-convert {\n",
       "      background-color: #E8F0FE;\n",
       "      border: none;\n",
       "      border-radius: 50%;\n",
       "      cursor: pointer;\n",
       "      display: none;\n",
       "      fill: #1967D2;\n",
       "      height: 32px;\n",
       "      padding: 0 0 0 0;\n",
       "      width: 32px;\n",
       "    }\n",
       "\n",
       "    .colab-df-convert:hover {\n",
       "      background-color: #E2EBFA;\n",
       "      box-shadow: 0px 1px 2px rgba(60, 64, 67, 0.3), 0px 1px 3px 1px rgba(60, 64, 67, 0.15);\n",
       "      fill: #174EA6;\n",
       "    }\n",
       "\n",
       "    [theme=dark] .colab-df-convert {\n",
       "      background-color: #3B4455;\n",
       "      fill: #D2E3FC;\n",
       "    }\n",
       "\n",
       "    [theme=dark] .colab-df-convert:hover {\n",
       "      background-color: #434B5C;\n",
       "      box-shadow: 0px 1px 3px 1px rgba(0, 0, 0, 0.15);\n",
       "      filter: drop-shadow(0px 1px 2px rgba(0, 0, 0, 0.3));\n",
       "      fill: #FFFFFF;\n",
       "    }\n",
       "  </style>\n",
       "\n",
       "      <script>\n",
       "        const buttonEl =\n",
       "          document.querySelector('#df-38457906-4f6a-4bb7-9b97-72dfc1174941 button.colab-df-convert');\n",
       "        buttonEl.style.display =\n",
       "          google.colab.kernel.accessAllowed ? 'block' : 'none';\n",
       "\n",
       "        async function convertToInteractive(key) {\n",
       "          const element = document.querySelector('#df-38457906-4f6a-4bb7-9b97-72dfc1174941');\n",
       "          const dataTable =\n",
       "            await google.colab.kernel.invokeFunction('convertToInteractive',\n",
       "                                                     [key], {});\n",
       "          if (!dataTable) return;\n",
       "\n",
       "          const docLinkHtml = 'Like what you see? Visit the ' +\n",
       "            '<a target=\"_blank\" href=https://colab.research.google.com/notebooks/data_table.ipynb>data table notebook</a>'\n",
       "            + ' to learn more about interactive tables.';\n",
       "          element.innerHTML = '';\n",
       "          dataTable['output_type'] = 'display_data';\n",
       "          await google.colab.output.renderOutput(dataTable, element);\n",
       "          const docLink = document.createElement('div');\n",
       "          docLink.innerHTML = docLinkHtml;\n",
       "          element.appendChild(docLink);\n",
       "        }\n",
       "      </script>\n",
       "    </div>\n",
       "  </div>\n",
       "  "
      ],
      "text/plain": [
       "                     value\n",
       "time_stamp                \n",
       "2016-01-01 00:00:00  1.057\n",
       "2016-01-01 01:00:00  1.171\n",
       "2016-01-01 02:00:00  0.560\n",
       "2016-01-01 03:00:00  0.828\n",
       "2016-01-01 04:00:00  0.932"
      ]
     },
     "execution_count": 12,
     "metadata": {},
     "output_type": "execute_result"
    }
   ],
   "source": [
    "df.head()"
   ]
  },
  {
   "cell_type": "code",
   "execution_count": 13,
   "id": "THAXxSe75axW",
   "metadata": {
    "colab": {
     "base_uri": "https://localhost:8080/",
     "height": 238
    },
    "id": "THAXxSe75axW",
    "outputId": "3c2c3e10-8d35-4762-ebdc-371b2ae136a5"
   },
   "outputs": [
    {
     "data": {
      "text/html": [
       "\n",
       "  <div id=\"df-a5edf48a-f01d-4276-b86c-0496b6ee2550\">\n",
       "    <div class=\"colab-df-container\">\n",
       "      <div>\n",
       "<style scoped>\n",
       "    .dataframe tbody tr th:only-of-type {\n",
       "        vertical-align: middle;\n",
       "    }\n",
       "\n",
       "    .dataframe tbody tr th {\n",
       "        vertical-align: top;\n",
       "    }\n",
       "\n",
       "    .dataframe thead th {\n",
       "        text-align: right;\n",
       "    }\n",
       "</style>\n",
       "<table border=\"1\" class=\"dataframe\">\n",
       "  <thead>\n",
       "    <tr style=\"text-align: right;\">\n",
       "      <th></th>\n",
       "      <th>value</th>\n",
       "    </tr>\n",
       "    <tr>\n",
       "      <th>time_stamp</th>\n",
       "      <th></th>\n",
       "    </tr>\n",
       "  </thead>\n",
       "  <tbody>\n",
       "    <tr>\n",
       "      <th>2020-02-06 19:00:00</th>\n",
       "      <td>1.307</td>\n",
       "    </tr>\n",
       "    <tr>\n",
       "      <th>2020-02-06 20:00:00</th>\n",
       "      <td>2.872</td>\n",
       "    </tr>\n",
       "    <tr>\n",
       "      <th>2020-02-06 21:00:00</th>\n",
       "      <td>2.138</td>\n",
       "    </tr>\n",
       "    <tr>\n",
       "      <th>2020-02-06 22:00:00</th>\n",
       "      <td>2.199</td>\n",
       "    </tr>\n",
       "    <tr>\n",
       "      <th>2020-02-06 23:00:00</th>\n",
       "      <td>1.809</td>\n",
       "    </tr>\n",
       "  </tbody>\n",
       "</table>\n",
       "</div>\n",
       "      <button class=\"colab-df-convert\" onclick=\"convertToInteractive('df-a5edf48a-f01d-4276-b86c-0496b6ee2550')\"\n",
       "              title=\"Convert this dataframe to an interactive table.\"\n",
       "              style=\"display:none;\">\n",
       "        \n",
       "  <svg xmlns=\"http://www.w3.org/2000/svg\" height=\"24px\"viewBox=\"0 0 24 24\"\n",
       "       width=\"24px\">\n",
       "    <path d=\"M0 0h24v24H0V0z\" fill=\"none\"/>\n",
       "    <path d=\"M18.56 5.44l.94 2.06.94-2.06 2.06-.94-2.06-.94-.94-2.06-.94 2.06-2.06.94zm-11 1L8.5 8.5l.94-2.06 2.06-.94-2.06-.94L8.5 2.5l-.94 2.06-2.06.94zm10 10l.94 2.06.94-2.06 2.06-.94-2.06-.94-.94-2.06-.94 2.06-2.06.94z\"/><path d=\"M17.41 7.96l-1.37-1.37c-.4-.4-.92-.59-1.43-.59-.52 0-1.04.2-1.43.59L10.3 9.45l-7.72 7.72c-.78.78-.78 2.05 0 2.83L4 21.41c.39.39.9.59 1.41.59.51 0 1.02-.2 1.41-.59l7.78-7.78 2.81-2.81c.8-.78.8-2.07 0-2.86zM5.41 20L4 18.59l7.72-7.72 1.47 1.35L5.41 20z\"/>\n",
       "  </svg>\n",
       "      </button>\n",
       "      \n",
       "  <style>\n",
       "    .colab-df-container {\n",
       "      display:flex;\n",
       "      flex-wrap:wrap;\n",
       "      gap: 12px;\n",
       "    }\n",
       "\n",
       "    .colab-df-convert {\n",
       "      background-color: #E8F0FE;\n",
       "      border: none;\n",
       "      border-radius: 50%;\n",
       "      cursor: pointer;\n",
       "      display: none;\n",
       "      fill: #1967D2;\n",
       "      height: 32px;\n",
       "      padding: 0 0 0 0;\n",
       "      width: 32px;\n",
       "    }\n",
       "\n",
       "    .colab-df-convert:hover {\n",
       "      background-color: #E2EBFA;\n",
       "      box-shadow: 0px 1px 2px rgba(60, 64, 67, 0.3), 0px 1px 3px 1px rgba(60, 64, 67, 0.15);\n",
       "      fill: #174EA6;\n",
       "    }\n",
       "\n",
       "    [theme=dark] .colab-df-convert {\n",
       "      background-color: #3B4455;\n",
       "      fill: #D2E3FC;\n",
       "    }\n",
       "\n",
       "    [theme=dark] .colab-df-convert:hover {\n",
       "      background-color: #434B5C;\n",
       "      box-shadow: 0px 1px 3px 1px rgba(0, 0, 0, 0.15);\n",
       "      filter: drop-shadow(0px 1px 2px rgba(0, 0, 0, 0.3));\n",
       "      fill: #FFFFFF;\n",
       "    }\n",
       "  </style>\n",
       "\n",
       "      <script>\n",
       "        const buttonEl =\n",
       "          document.querySelector('#df-a5edf48a-f01d-4276-b86c-0496b6ee2550 button.colab-df-convert');\n",
       "        buttonEl.style.display =\n",
       "          google.colab.kernel.accessAllowed ? 'block' : 'none';\n",
       "\n",
       "        async function convertToInteractive(key) {\n",
       "          const element = document.querySelector('#df-a5edf48a-f01d-4276-b86c-0496b6ee2550');\n",
       "          const dataTable =\n",
       "            await google.colab.kernel.invokeFunction('convertToInteractive',\n",
       "                                                     [key], {});\n",
       "          if (!dataTable) return;\n",
       "\n",
       "          const docLinkHtml = 'Like what you see? Visit the ' +\n",
       "            '<a target=\"_blank\" href=https://colab.research.google.com/notebooks/data_table.ipynb>data table notebook</a>'\n",
       "            + ' to learn more about interactive tables.';\n",
       "          element.innerHTML = '';\n",
       "          dataTable['output_type'] = 'display_data';\n",
       "          await google.colab.output.renderOutput(dataTable, element);\n",
       "          const docLink = document.createElement('div');\n",
       "          docLink.innerHTML = docLinkHtml;\n",
       "          element.appendChild(docLink);\n",
       "        }\n",
       "      </script>\n",
       "    </div>\n",
       "  </div>\n",
       "  "
      ],
      "text/plain": [
       "                     value\n",
       "time_stamp                \n",
       "2020-02-06 19:00:00  1.307\n",
       "2020-02-06 20:00:00  2.872\n",
       "2020-02-06 21:00:00  2.138\n",
       "2020-02-06 22:00:00  2.199\n",
       "2020-02-06 23:00:00  1.809"
      ]
     },
     "execution_count": 13,
     "metadata": {},
     "output_type": "execute_result"
    }
   ],
   "source": [
    "df.tail()"
   ]
  },
  {
   "cell_type": "code",
   "execution_count": 14,
   "id": "bQk15MFgouDq",
   "metadata": {
    "id": "bQk15MFgouDq"
   },
   "outputs": [],
   "source": [
    "plt.rcParams['figure.figsize'] = [15,8]"
   ]
  },
  {
   "cell_type": "code",
   "execution_count": 15,
   "id": "3b098ae2",
   "metadata": {
    "colab": {
     "base_uri": "https://localhost:8080/",
     "height": 523
    },
    "id": "3b098ae2",
    "outputId": "dbb8d284-4310-494c-dfac-252af3f4f7bb"
   },
   "outputs": [
    {
     "data": {
      "image/png": "[encoded data removed]",
      "text/plain": [
       "<Figure size 1080x576 with 1 Axes>"
      ]
     },
     "metadata": {
      "needs_background": "light"
     },
     "output_type": "display_data"
    }
   ],
   "source": [
    "plt.plot(df,color='blue')\n",
    "plt.title('Hourly Residential Power Usage',fontsize=20)\n",
    "plt.xlabel('Date',fontsize=15)\n",
    "plt.ylabel('Units',fontsize=15)\n",
    "plt.show()"
   ]
  },
  {
   "cell_type": "code",
   "execution_count": 16,
   "id": "bf59d3e0",
   "metadata": {
    "id": "bf59d3e0"
   },
   "outputs": [],
   "source": [
    "def convert2matrix(data_arr, look_back):\n",
    "    X, Y =[], []\n",
    "    for i in range(len(data_arr)-look_back):\n",
    "        d=i+look_back  \n",
    "        X.append(data_arr[i:d,0])\n",
    "        Y.append(data_arr[d,0])\n",
    "    return np.array(X), np.array(Y)"
   ]
  },
  {
   "cell_type": "code",
   "execution_count": 17,
   "id": "46b24adc",
   "metadata": {
    "id": "46b24adc"
   },
   "outputs": [],
   "source": [
    "from sklearn.preprocessing import MinMaxScaler\n",
    "#create numpy.ndarray \n",
    "df['value'] = df['value'].astype(np.float32)\n",
    "df_arr = df.values\n",
    "df_arr = np.reshape(df_arr, (-1, 1))\n",
    "scaler = MinMaxScaler(feature_range=(0.1, 1))\n",
    "df_arr = scaler.fit_transform(df_arr)"
   ]
  },
  {
   "cell_type": "code",
   "execution_count": 18,
   "id": "1cea6c5f",
   "metadata": {
    "id": "1cea6c5f"
   },
   "outputs": [],
   "source": [
    "#Split data set into testing dataset and train dataset\n",
    "train_size = 32000\n",
    "train, test =df_arr[0:train_size,:], df_arr[train_size:len(df_arr),:]\n",
    "# setup look_back window \n",
    "look_back = 23\n",
    "#convert dataset into right shape in order to input into the DNN\n",
    "trainX, trainY = convert2matrix(train, look_back)\n",
    "testX, testY = convert2matrix(test, look_back)\n",
    "trainX = np.reshape(trainX, (trainX.shape[0], 1, trainX.shape[1]))\n",
    "testX = np.reshape(testX, (testX.shape[0], 1, testX.shape[1]))"
   ]
  },
  {
   "cell_type": "code",
   "execution_count": 19,
   "id": "c7d46c39",
   "metadata": {
    "colab": {
     "base_uri": "https://localhost:8080/"
    },
    "id": "c7d46c39",
    "outputId": "393b57a0-189e-4e32-be50-c6c960ff0651"
   },
   "outputs": [
    {
     "name": "stdout",
     "output_type": "stream",
     "text": [
      "(31977, 1, 23)\n",
      "(31977,)\n",
      "(3929, 1, 23)\n",
      "(3929,)\n"
     ]
    }
   ],
   "source": [
    "print(trainX.shape)\n",
    "print(trainY.shape)\n",
    "print(testX.shape)\n",
    "print(testY.shape)"
   ]
  },
  {
   "cell_type": "code",
   "execution_count": 20,
   "id": "b0b5b8e7",
   "metadata": {
    "colab": {
     "base_uri": "https://localhost:8080/"
    },
    "id": "b0b5b8e7",
    "outputId": "762e2d23-90e9-47fb-d288-4852fd2de34b"
   },
   "outputs": [
    {
     "data": {
      "text/plain": [
       "array([[[0.24003448, 0.25611094, 0.16994673, ..., 0.3976966 ,\n",
       "         0.5102319 , 0.51319337]],\n",
       "\n",
       "       [[0.25611094, 0.16994673, 0.20774052, ..., 0.5102319 ,\n",
       "         0.51319337, 0.34396744]],\n",
       "\n",
       "       [[0.16994673, 0.20774052, 0.22240676, ..., 0.51319337,\n",
       "         0.34396744, 0.2716233 ]],\n",
       "\n",
       "       ...,\n",
       "\n",
       "       [[0.21676591, 0.18249765, 0.1743184 , ..., 0.13370417,\n",
       "         0.13440928, 0.14822939]],\n",
       "\n",
       "       [[0.18249765, 0.1743184 , 0.1593701 , ..., 0.13440928,\n",
       "         0.14822939, 0.15697274]],\n",
       "\n",
       "       [[0.1743184 , 0.1593701 , 0.14907552, ..., 0.14822939,\n",
       "         0.15697274, 0.1775619 ]]], dtype=float32)"
      ]
     },
     "execution_count": 20,
     "metadata": {},
     "output_type": "execute_result"
    }
   ],
   "source": [
    "trainX"
   ]
  },
  {
   "cell_type": "code",
   "execution_count": 21,
   "id": "7c05ea55",
   "metadata": {
    "colab": {
     "base_uri": "https://localhost:8080/"
    },
    "id": "7c05ea55",
    "outputId": "ba459c37-d20a-47c5-af34-7e8a778e0bda"
   },
   "outputs": [
    {
     "data": {
      "text/plain": [
       "array([[[0.12623002, 0.17319022, 0.13497336, ..., 0.13017863,\n",
       "         0.13299906, 0.13158885]],\n",
       "\n",
       "       [[0.17319022, 0.13497336, 0.1514729 , ..., 0.13299906,\n",
       "         0.13158885, 0.14385772]],\n",
       "\n",
       "       [[0.13497336, 0.1514729 , 0.14879349, ..., 0.13158885,\n",
       "         0.14385772, 0.13412723]],\n",
       "\n",
       "       ...,\n",
       "\n",
       "       [[0.3950172 , 0.30137888, 0.31675023, ..., 0.27373862,\n",
       "         0.2752899 , 0.49598873]],\n",
       "\n",
       "       [[0.30137888, 0.31675023, 0.2527264 , ..., 0.2752899 ,\n",
       "         0.49598873, 0.39247882]],\n",
       "\n",
       "       [[0.31675023, 0.2527264 , 0.3718897 , ..., 0.49598873,\n",
       "         0.39247882, 0.40108114]]], dtype=float32)"
      ]
     },
     "execution_count": 21,
     "metadata": {},
     "output_type": "execute_result"
    }
   ],
   "source": [
    "testX"
   ]
  },
  {
   "cell_type": "code",
   "execution_count": 22,
   "id": "GIc1nRcCuP3G",
   "metadata": {
    "colab": {
     "base_uri": "https://localhost:8080/"
    },
    "id": "GIc1nRcCuP3G",
    "outputId": "ad9c11d9-4dd9-4cdd-f0be-80cc102d8829"
   },
   "outputs": [
    {
     "name": "stdout",
     "output_type": "stream",
     "text": [
      "\u001b[?25l\r",
      "\u001b[K     |███▍                            | 10 kB 20.8 MB/s eta 0:00:01\r",
      "\u001b[K     |██████▊                         | 20 kB 16.6 MB/s eta 0:00:01\r",
      "\u001b[K     |██████████                      | 30 kB 12.4 MB/s eta 0:00:01\r",
      "\u001b[K     |█████████████▍                  | 40 kB 10.0 MB/s eta 0:00:01\r",
      "\u001b[K     |████████████████▊               | 51 kB 5.0 MB/s eta 0:00:01\r",
      "\u001b[K     |████████████████████            | 61 kB 5.9 MB/s eta 0:00:01\r",
      "\u001b[K     |███████████████████████▍        | 71 kB 6.0 MB/s eta 0:00:01\r",
      "\u001b[K     |██████████████████████████▊     | 81 kB 5.8 MB/s eta 0:00:01\r",
      "\u001b[K     |██████████████████████████████  | 92 kB 6.5 MB/s eta 0:00:01\r",
      "\u001b[K     |████████████████████████████████| 98 kB 3.6 MB/s \n",
      "\u001b[?25h"
     ]
    }
   ],
   "source": [
    "!pip install -q -U keras-tuner"
   ]
  },
  {
   "cell_type": "code",
   "execution_count": 23,
   "id": "M5te5ih0uP6u",
   "metadata": {
    "id": "M5te5ih0uP6u"
   },
   "outputs": [],
   "source": [
    "import pandas as pd\n",
    "from tensorflow import keras\n",
    "from tensorflow.keras import layers\n",
    "#from keras_tuner.tuners import RandomSearch\n",
    "from tensorflow.keras.models import Sequential\n",
    "from tensorflow.keras.layers import LSTM\n",
    "from tensorflow.keras.layers import Dense,Dropout\n",
    "from tensorflow.keras.layers import Flatten\n",
    "import matplotlib.pyplot as plt"
   ]
  },
  {
   "cell_type": "code",
   "execution_count": null,
   "id": "rYiJC5hXuP_e",
   "metadata": {
    "id": "rYiJC5hXuP_e"
   },
   "outputs": [],
   "source": [
    "def build_model(hp):\n",
    "    model = keras.Sequential()\n",
    "    model.add(LSTM(hp.Int('lstm_layer',min_value=8,max_value=128,step=8), activation=\"relu\", input_shape=(1,look_back),recurrent_dropout = hp.Choice(\"first_recurrent_dropout\",[0.2,0.4,0.6],default=0.2)))\n",
    "    model.add(Dense(hp.Int('dense_layer_1',min_value=8,max_value=128,step=8),activation=\"relu\"))\n",
    "    model.add(Dropout(hp.Float('Dropout_rate',min_value=0,max_value=0.5,step=0.1)))\n",
    "    model.add(layers.Dense(1, activation='linear'))\n",
    "    model.compile(\n",
    "        optimizer=keras.optimizers.Adam(\n",
    "             hp.Float('learning_rate', min_value=1e-4, max_value=1e-1, sampling=\"log\")),\n",
    "        loss='mape',\n",
    "        metrics=['mape'])\n",
    "    return model"
   ]
  },
  {
   "cell_type": "code",
   "execution_count": null,
   "id": "2h_gRerjuQCT",
   "metadata": {
    "id": "2h_gRerjuQCT"
   },
   "outputs": [],
   "source": [
    "tuner = RandomSearch(\n",
    "    build_model,\n",
    "    objective='val_mape',\n",
    "    max_trials=10,\n",
    "    executions_per_trial=1,\n",
    "    directory='project',\n",
    "    project_name='resident_consum_2')"
   ]
  },
  {
   "cell_type": "code",
   "execution_count": null,
   "id": "Dg5AHN3guQFu",
   "metadata": {
    "colab": {
     "base_uri": "https://localhost:8080/"
    },
    "id": "Dg5AHN3guQFu",
    "outputId": "fa70260b-afc5-4fc7-b9b5-7ddb6c6e0913"
   },
   "outputs": [
    {
     "name": "stdout",
     "output_type": "stream",
     "text": [
      "Search space summary\n",
      "Default search space size: 5\n",
      "lstm_layer (Int)\n",
      "{'default': None, 'conditions': [], 'min_value': 8, 'max_value': 128, 'step': 8, 'sampling': None}\n",
      "first_recurrent_dropout (Choice)\n",
      "{'default': 0.2, 'conditions': [], 'values': [0.2, 0.4, 0.6], 'ordered': True}\n",
      "dense_layer_1 (Int)\n",
      "{'default': None, 'conditions': [], 'min_value': 8, 'max_value': 128, 'step': 8, 'sampling': None}\n",
      "Dropout_rate (Float)\n",
      "{'default': 0.0, 'conditions': [], 'min_value': 0.0, 'max_value': 0.5, 'step': 0.1, 'sampling': None}\n",
      "learning_rate (Float)\n",
      "{'default': 0.0001, 'conditions': [], 'min_value': 0.0001, 'max_value': 0.1, 'step': None, 'sampling': 'log'}\n"
     ]
    }
   ],
   "source": [
    "tuner.search_space_summary()"
   ]
  },
  {
   "cell_type": "code",
   "execution_count": null,
   "id": "TiBXdF0K8Gpr",
   "metadata": {
    "colab": {
     "base_uri": "https://localhost:8080/"
    },
    "id": "TiBXdF0K8Gpr",
    "outputId": "49579b24-e3ff-40bc-d4bb-15c460b0d313"
   },
   "outputs": [
    {
     "name": "stdout",
     "output_type": "stream",
     "text": [
      "Trial 10 Complete [00h 04m 24s]\n",
      "val_mape: 18.95372200012207\n",
      "\n",
      "Best val_mape So Far: 18.64246940612793\n",
      "Total elapsed time: 00h 36m 13s\n",
      "INFO:tensorflow:Oracle triggered exit\n"
     ]
    }
   ],
   "source": [
    "tuner.search(trainX, trainY,\n",
    "             epochs=200,\n",
    "             batch_size=36,\n",
    "             validation_data=(testX, testY))"
   ]
  },
  {
   "cell_type": "code",
   "execution_count": null,
   "id": "VXXGH_RK8GsD",
   "metadata": {
    "colab": {
     "base_uri": "https://localhost:8080/"
    },
    "id": "VXXGH_RK8GsD",
    "outputId": "07e7c6e5-2906-4ae7-deb2-5708a22f408c"
   },
   "outputs": [
    {
     "name": "stdout",
     "output_type": "stream",
     "text": [
      "Results summary\n",
      "Results in project/resident_consum_2\n",
      "Showing 10 best trials\n",
      "Objective(name='val_mape', direction='min')\n",
      "Trial summary\n",
      "Hyperparameters:\n",
      "lstm_layer: 72\n",
      "first_recurrent_dropout: 0.4\n",
      "dense_layer_1: 128\n",
      "Dropout_rate: 0.30000000000000004\n",
      "learning_rate: 0.0012525191047985907\n",
      "Score: 18.64246940612793\n",
      "Trial summary\n",
      "Hyperparameters:\n",
      "lstm_layer: 48\n",
      "first_recurrent_dropout: 0.4\n",
      "dense_layer_1: 104\n",
      "Dropout_rate: 0.30000000000000004\n",
      "learning_rate: 0.0010244242859496276\n",
      "Score: 18.715389251708984\n",
      "Trial summary\n",
      "Hyperparameters:\n",
      "lstm_layer: 64\n",
      "first_recurrent_dropout: 0.6\n",
      "dense_layer_1: 48\n",
      "Dropout_rate: 0.4\n",
      "learning_rate: 0.01091885407324276\n",
      "Score: 18.95372200012207\n",
      "Trial summary\n",
      "Hyperparameters:\n",
      "lstm_layer: 64\n",
      "first_recurrent_dropout: 0.4\n",
      "dense_layer_1: 80\n",
      "Dropout_rate: 0.4\n",
      "learning_rate: 0.005894468395199699\n",
      "Score: 18.957490921020508\n",
      "Trial summary\n",
      "Hyperparameters:\n",
      "lstm_layer: 40\n",
      "first_recurrent_dropout: 0.4\n",
      "dense_layer_1: 64\n",
      "Dropout_rate: 0.2\n",
      "learning_rate: 0.0068852328221466015\n",
      "Score: 18.987632751464844\n",
      "Trial summary\n",
      "Hyperparameters:\n",
      "lstm_layer: 24\n",
      "first_recurrent_dropout: 0.4\n",
      "dense_layer_1: 112\n",
      "Dropout_rate: 0.4\n",
      "learning_rate: 0.0006798138705985687\n",
      "Score: 19.030540466308594\n",
      "Trial summary\n",
      "Hyperparameters:\n",
      "lstm_layer: 48\n",
      "first_recurrent_dropout: 0.4\n",
      "dense_layer_1: 32\n",
      "Dropout_rate: 0.4\n",
      "learning_rate: 0.00018196615119335302\n",
      "Score: 19.110193252563477\n",
      "Trial summary\n",
      "Hyperparameters:\n",
      "lstm_layer: 8\n",
      "first_recurrent_dropout: 0.4\n",
      "dense_layer_1: 48\n",
      "Dropout_rate: 0.5\n",
      "learning_rate: 0.00031540036686090664\n",
      "Score: 19.164453506469727\n",
      "Trial summary\n",
      "Hyperparameters:\n",
      "lstm_layer: 32\n",
      "first_recurrent_dropout: 0.6\n",
      "dense_layer_1: 16\n",
      "Dropout_rate: 0.0\n",
      "learning_rate: 0.00012544547330964388\n",
      "Score: 19.267126083374023\n",
      "Trial summary\n",
      "Hyperparameters:\n",
      "lstm_layer: 16\n",
      "first_recurrent_dropout: 0.4\n",
      "dense_layer_1: 104\n",
      "Dropout_rate: 0.4\n",
      "learning_rate: 0.0503534378068103\n",
      "Score: 38.42567825317383\n"
     ]
    }
   ],
   "source": [
    "tuner.results_summary()"
   ]
  },
  {
   "cell_type": "code",
   "execution_count": null,
   "id": "FBpLenJ_DZMX",
   "metadata": {
    "id": "FBpLenJ_DZMX"
   },
   "outputs": [],
   "source": [
    "from warnings import filterwarnings\n",
    "filterwarnings('ignore')"
   ]
  },
  {
   "cell_type": "code",
   "execution_count": null,
   "id": "eL-a8rAv8Gvg",
   "metadata": {
    "colab": {
     "base_uri": "https://localhost:8080/"
    },
    "id": "eL-a8rAv8Gvg",
    "outputId": "647df7ef-9757-457a-ba4b-77c817ebb85b"
   },
   "outputs": [
    {
     "name": "stdout",
     "output_type": "stream",
     "text": [
      "Model: \"sequential\"\n",
      "_________________________________________________________________\n",
      " Layer (type)                Output Shape              Param #   \n",
      "=================================================================\n",
      " lstm (LSTM)                 (None, 72)                27648     \n",
      "                                                                 \n",
      " dense (Dense)               (None, 128)               9344      \n",
      "                                                                 \n",
      " dropout (Dropout)           (None, 128)               0         \n",
      "                                                                 \n",
      " dense_1 (Dense)             (None, 1)                 129       \n",
      "                                                                 \n",
      "=================================================================\n",
      "Total params: 37,121\n",
      "Trainable params: 37,121\n",
      "Non-trainable params: 0\n",
      "_________________________________________________________________\n"
     ]
    }
   ],
   "source": [
    "models = tuner.get_best_models(num_models=2)\n",
    "best_model = models[0]\n",
    "# Build the model.\n",
    "# Needed for `Sequential` without specified `input_shape`.\n",
    "best_model.build(input_shape=(None, 24))\n",
    "best_model.summary()"
   ]
  },
  {
   "cell_type": "code",
   "execution_count": 24,
   "id": "ovKDjDHZEmLV",
   "metadata": {
    "id": "ovKDjDHZEmLV"
   },
   "outputs": [],
   "source": [
    "from tensorflow.keras import optimizers\n",
    "from tensorflow.keras.layers import LeakyReLU, BatchNormalization"
   ]
  },
  {
   "cell_type": "code",
   "execution_count": 25,
   "id": "0e187ddc",
   "metadata": {
    "colab": {
     "base_uri": "https://localhost:8080/"
    },
    "id": "0e187ddc",
    "outputId": "4bd4b273-f129-4346-a2b9-ef584f20ee76"
   },
   "outputs": [
    {
     "name": "stdout",
     "output_type": "stream",
     "text": [
      "Epoch 1/100\n",
      "889/889 [==============================] - 14s 8ms/step - loss: 76.8757 - mape: 76.8757 - val_loss: 44.4770 - val_mape: 44.4770\n",
      "Epoch 2/100\n",
      "889/889 [==============================] - 6s 7ms/step - loss: 27.5870 - mape: 27.5870 - val_loss: 19.4671 - val_mape: 19.4671\n",
      "Epoch 3/100\n",
      "889/889 [==============================] - 6s 7ms/step - loss: 21.9837 - mape: 21.9837 - val_loss: 17.3824 - val_mape: 17.3824\n",
      "Epoch 4/100\n",
      "889/889 [==============================] - 6s 7ms/step - loss: 18.8782 - mape: 18.8782 - val_loss: 15.9288 - val_mape: 15.9288\n",
      "Epoch 5/100\n",
      "889/889 [==============================] - 6s 7ms/step - loss: 17.4597 - mape: 17.4597 - val_loss: 15.4599 - val_mape: 15.4599\n",
      "Epoch 6/100\n",
      "889/889 [==============================] - 6s 7ms/step - loss: 16.8979 - mape: 16.8979 - val_loss: 15.2730 - val_mape: 15.2730\n",
      "Epoch 7/100\n",
      "889/889 [==============================] - 6s 7ms/step - loss: 16.4707 - mape: 16.4707 - val_loss: 14.8804 - val_mape: 14.8804\n",
      "Epoch 8/100\n",
      "889/889 [==============================] - 6s 7ms/step - loss: 16.0916 - mape: 16.0916 - val_loss: 14.6546 - val_mape: 14.6546\n",
      "Epoch 9/100\n",
      "889/889 [==============================] - 6s 7ms/step - loss: 15.7740 - mape: 15.7740 - val_loss: 14.4373 - val_mape: 14.4373\n",
      "Epoch 10/100\n",
      "889/889 [==============================] - 6s 7ms/step - loss: 15.5051 - mape: 15.5051 - val_loss: 14.2259 - val_mape: 14.2259\n",
      "Epoch 11/100\n",
      "889/889 [==============================] - 6s 7ms/step - loss: 15.2781 - mape: 15.2781 - val_loss: 14.1048 - val_mape: 14.1048\n",
      "Epoch 12/100\n",
      "889/889 [==============================] - 8s 9ms/step - loss: 15.0783 - mape: 15.0783 - val_loss: 14.0258 - val_mape: 14.0258\n",
      "Epoch 13/100\n",
      "889/889 [==============================] - 6s 7ms/step - loss: 14.9121 - mape: 14.9121 - val_loss: 13.8240 - val_mape: 13.8240\n",
      "Epoch 14/100\n",
      "889/889 [==============================] - 6s 7ms/step - loss: 14.7612 - mape: 14.7612 - val_loss: 13.7170 - val_mape: 13.7170\n",
      "Epoch 15/100\n",
      "889/889 [==============================] - 6s 7ms/step - loss: 14.6324 - mape: 14.6324 - val_loss: 13.6372 - val_mape: 13.6372\n",
      "Epoch 16/100\n",
      "889/889 [==============================] - 6s 7ms/step - loss: 14.5172 - mape: 14.5172 - val_loss: 13.6115 - val_mape: 13.6115\n",
      "Epoch 17/100\n",
      "889/889 [==============================] - 6s 7ms/step - loss: 14.4179 - mape: 14.4179 - val_loss: 13.4372 - val_mape: 13.4372\n",
      "Epoch 18/100\n",
      "889/889 [==============================] - 6s 7ms/step - loss: 14.3259 - mape: 14.3259 - val_loss: 13.4433 - val_mape: 13.4433\n",
      "Epoch 19/100\n",
      "889/889 [==============================] - 6s 7ms/step - loss: 14.2491 - mape: 14.2491 - val_loss: 13.3623 - val_mape: 13.3623\n",
      "Epoch 20/100\n",
      "889/889 [==============================] - 6s 7ms/step - loss: 14.1819 - mape: 14.1819 - val_loss: 13.3116 - val_mape: 13.3116\n",
      "Epoch 21/100\n",
      "889/889 [==============================] - 6s 7ms/step - loss: 14.1182 - mape: 14.1182 - val_loss: 13.2263 - val_mape: 13.2263\n",
      "Epoch 22/100\n",
      "889/889 [==============================] - 6s 7ms/step - loss: 14.0596 - mape: 14.0596 - val_loss: 13.2644 - val_mape: 13.2644\n",
      "Epoch 23/100\n",
      "889/889 [==============================] - 6s 7ms/step - loss: 14.0041 - mape: 14.0041 - val_loss: 13.1514 - val_mape: 13.1514\n",
      "Epoch 24/100\n",
      "889/889 [==============================] - 6s 7ms/step - loss: 13.9585 - mape: 13.9585 - val_loss: 13.1621 - val_mape: 13.1621\n",
      "Epoch 25/100\n",
      "889/889 [==============================] - 6s 7ms/step - loss: 13.9137 - mape: 13.9137 - val_loss: 13.2094 - val_mape: 13.2094\n",
      "Epoch 26/100\n",
      "889/889 [==============================] - 6s 7ms/step - loss: 13.8759 - mape: 13.8759 - val_loss: 13.0896 - val_mape: 13.0896\n",
      "Epoch 27/100\n",
      "889/889 [==============================] - 6s 7ms/step - loss: 13.8419 - mape: 13.8419 - val_loss: 13.1209 - val_mape: 13.1209\n",
      "Epoch 28/100\n",
      "889/889 [==============================] - 6s 7ms/step - loss: 13.8042 - mape: 13.8042 - val_loss: 13.0723 - val_mape: 13.0723\n",
      "Epoch 29/100\n",
      "889/889 [==============================] - 6s 7ms/step - loss: 13.7744 - mape: 13.7744 - val_loss: 12.9742 - val_mape: 12.9742\n",
      "Epoch 30/100\n",
      "889/889 [==============================] - 6s 7ms/step - loss: 13.7461 - mape: 13.7461 - val_loss: 13.1543 - val_mape: 13.1543\n",
      "Epoch 31/100\n",
      "889/889 [==============================] - 6s 7ms/step - loss: 13.7247 - mape: 13.7247 - val_loss: 12.9611 - val_mape: 12.9611\n",
      "Epoch 32/100\n",
      "889/889 [==============================] - 6s 7ms/step - loss: 13.6999 - mape: 13.6999 - val_loss: 12.9501 - val_mape: 12.9501\n",
      "Epoch 33/100\n",
      "889/889 [==============================] - 6s 7ms/step - loss: 13.6757 - mape: 13.6757 - val_loss: 12.9320 - val_mape: 12.9320\n",
      "Epoch 34/100\n",
      "889/889 [==============================] - 6s 7ms/step - loss: 13.6537 - mape: 13.6537 - val_loss: 12.8973 - val_mape: 12.8973\n",
      "Epoch 35/100\n",
      "889/889 [==============================] - 6s 7ms/step - loss: 13.6307 - mape: 13.6307 - val_loss: 12.9144 - val_mape: 12.9144\n",
      "Epoch 36/100\n",
      "889/889 [==============================] - 6s 7ms/step - loss: 13.6152 - mape: 13.6152 - val_loss: 12.9227 - val_mape: 12.9227\n",
      "Epoch 37/100\n",
      "889/889 [==============================] - 6s 7ms/step - loss: 13.5967 - mape: 13.5967 - val_loss: 12.9296 - val_mape: 12.9296\n",
      "Epoch 38/100\n",
      "889/889 [==============================] - 6s 7ms/step - loss: 13.5823 - mape: 13.5823 - val_loss: 12.8432 - val_mape: 12.8432\n",
      "Epoch 39/100\n",
      "889/889 [==============================] - 6s 7ms/step - loss: 13.5672 - mape: 13.5672 - val_loss: 12.8714 - val_mape: 12.8714\n",
      "Epoch 40/100\n",
      "889/889 [==============================] - 6s 7ms/step - loss: 13.5555 - mape: 13.5555 - val_loss: 12.8778 - val_mape: 12.8778\n",
      "Epoch 41/100\n",
      "889/889 [==============================] - 6s 7ms/step - loss: 13.5399 - mape: 13.5399 - val_loss: 12.8745 - val_mape: 12.8745\n",
      "Epoch 42/100\n",
      "889/889 [==============================] - 6s 7ms/step - loss: 13.5310 - mape: 13.5310 - val_loss: 12.8969 - val_mape: 12.8969\n",
      "Epoch 43/100\n",
      "889/889 [==============================] - 6s 7ms/step - loss: 13.5181 - mape: 13.5181 - val_loss: 12.8938 - val_mape: 12.8938\n",
      "Epoch 44/100\n",
      "889/889 [==============================] - 6s 7ms/step - loss: 13.5084 - mape: 13.5084 - val_loss: 12.9554 - val_mape: 12.9554\n",
      "Epoch 45/100\n",
      "889/889 [==============================] - 6s 7ms/step - loss: 13.4994 - mape: 13.4994 - val_loss: 12.9639 - val_mape: 12.9639\n",
      "Epoch 46/100\n",
      "889/889 [==============================] - 6s 7ms/step - loss: 13.4840 - mape: 13.4840 - val_loss: 12.8283 - val_mape: 12.8283\n",
      "Epoch 47/100\n",
      "889/889 [==============================] - 6s 7ms/step - loss: 13.4790 - mape: 13.4790 - val_loss: 12.8057 - val_mape: 12.8057\n",
      "Epoch 48/100\n",
      "889/889 [==============================] - 6s 7ms/step - loss: 13.4684 - mape: 13.4684 - val_loss: 12.8424 - val_mape: 12.8424\n",
      "Epoch 49/100\n",
      "889/889 [==============================] - 6s 7ms/step - loss: 13.4621 - mape: 13.4621 - val_loss: 12.7985 - val_mape: 12.7985\n",
      "Epoch 50/100\n",
      "889/889 [==============================] - 6s 7ms/step - loss: 13.4524 - mape: 13.4524 - val_loss: 12.8047 - val_mape: 12.8047\n",
      "Epoch 51/100\n",
      "889/889 [==============================] - 6s 7ms/step - loss: 13.4410 - mape: 13.4410 - val_loss: 12.8769 - val_mape: 12.8769\n",
      "Epoch 52/100\n",
      "889/889 [==============================] - 6s 7ms/step - loss: 13.4346 - mape: 13.4346 - val_loss: 12.7864 - val_mape: 12.7864\n",
      "Epoch 53/100\n",
      "889/889 [==============================] - 6s 7ms/step - loss: 13.4282 - mape: 13.4282 - val_loss: 12.8258 - val_mape: 12.8258\n",
      "Epoch 54/100\n",
      "889/889 [==============================] - 6s 7ms/step - loss: 13.4262 - mape: 13.4262 - val_loss: 12.8055 - val_mape: 12.8055\n",
      "Epoch 55/100\n",
      "889/889 [==============================] - 7s 7ms/step - loss: 13.4181 - mape: 13.4181 - val_loss: 12.7874 - val_mape: 12.7874\n",
      "Epoch 56/100\n",
      "889/889 [==============================] - 6s 7ms/step - loss: 13.4112 - mape: 13.4112 - val_loss: 12.7754 - val_mape: 12.7754\n",
      "Epoch 57/100\n",
      "889/889 [==============================] - 6s 7ms/step - loss: 13.4029 - mape: 13.4029 - val_loss: 12.7601 - val_mape: 12.7601\n",
      "Epoch 58/100\n",
      "889/889 [==============================] - 6s 7ms/step - loss: 13.4014 - mape: 13.4014 - val_loss: 12.8743 - val_mape: 12.8743\n",
      "Epoch 59/100\n",
      "889/889 [==============================] - 6s 7ms/step - loss: 13.3974 - mape: 13.3974 - val_loss: 12.8545 - val_mape: 12.8545\n",
      "Epoch 60/100\n",
      "889/889 [==============================] - 7s 7ms/step - loss: 13.3907 - mape: 13.3907 - val_loss: 12.7668 - val_mape: 12.7668\n",
      "Epoch 61/100\n",
      "889/889 [==============================] - 6s 7ms/step - loss: 13.3866 - mape: 13.3866 - val_loss: 12.7832 - val_mape: 12.7832\n",
      "Epoch 62/100\n",
      "889/889 [==============================] - 6s 7ms/step - loss: 13.3801 - mape: 13.3801 - val_loss: 12.7488 - val_mape: 12.7488\n",
      "Epoch 63/100\n",
      "889/889 [==============================] - 6s 7ms/step - loss: 13.3762 - mape: 13.3762 - val_loss: 12.7585 - val_mape: 12.7585\n",
      "Epoch 64/100\n",
      "889/889 [==============================] - 6s 7ms/step - loss: 13.3679 - mape: 13.3679 - val_loss: 12.8050 - val_mape: 12.8050\n",
      "Epoch 65/100\n",
      "889/889 [==============================] - 6s 7ms/step - loss: 13.3668 - mape: 13.3668 - val_loss: 12.7572 - val_mape: 12.7572\n",
      "Epoch 66/100\n",
      "889/889 [==============================] - 6s 7ms/step - loss: 13.3583 - mape: 13.3583 - val_loss: 12.7489 - val_mape: 12.7489\n",
      "Epoch 67/100\n",
      "889/889 [==============================] - 6s 7ms/step - loss: 13.3558 - mape: 13.3558 - val_loss: 12.7403 - val_mape: 12.7403\n",
      "Epoch 68/100\n",
      "889/889 [==============================] - 6s 7ms/step - loss: 13.3548 - mape: 13.3548 - val_loss: 12.7415 - val_mape: 12.7415\n",
      "Epoch 69/100\n",
      "889/889 [==============================] - 6s 7ms/step - loss: 13.3444 - mape: 13.3444 - val_loss: 12.7602 - val_mape: 12.7602\n",
      "Epoch 70/100\n",
      "889/889 [==============================] - 6s 7ms/step - loss: 13.3457 - mape: 13.3457 - val_loss: 12.8199 - val_mape: 12.8199\n",
      "Epoch 71/100\n",
      "889/889 [==============================] - 6s 7ms/step - loss: 13.3445 - mape: 13.3445 - val_loss: 12.7660 - val_mape: 12.7660\n",
      "Epoch 72/100\n",
      "889/889 [==============================] - 6s 7ms/step - loss: 13.3368 - mape: 13.3368 - val_loss: 12.7369 - val_mape: 12.7369\n",
      "Epoch 73/100\n",
      "889/889 [==============================] - 7s 7ms/step - loss: 13.3327 - mape: 13.3327 - val_loss: 12.7654 - val_mape: 12.7654\n",
      "Epoch 74/100\n",
      "889/889 [==============================] - 7s 7ms/step - loss: 13.3311 - mape: 13.3311 - val_loss: 12.7391 - val_mape: 12.7391\n",
      "Epoch 75/100\n",
      "889/889 [==============================] - 6s 7ms/step - loss: 13.3235 - mape: 13.3235 - val_loss: 12.8160 - val_mape: 12.8160\n",
      "Epoch 76/100\n",
      "889/889 [==============================] - 6s 7ms/step - loss: 13.3226 - mape: 13.3226 - val_loss: 12.7329 - val_mape: 12.7329\n",
      "Epoch 77/100\n",
      "889/889 [==============================] - 6s 7ms/step - loss: 13.3202 - mape: 13.3202 - val_loss: 12.7422 - val_mape: 12.7422\n",
      "Epoch 78/100\n",
      "889/889 [==============================] - 6s 7ms/step - loss: 13.3156 - mape: 13.3156 - val_loss: 12.7912 - val_mape: 12.7912\n",
      "Epoch 79/100\n",
      "889/889 [==============================] - 6s 7ms/step - loss: 13.3095 - mape: 13.3095 - val_loss: 12.8176 - val_mape: 12.8176\n",
      "Epoch 80/100\n",
      "889/889 [==============================] - 6s 7ms/step - loss: 13.3126 - mape: 13.3126 - val_loss: 12.7406 - val_mape: 12.7406\n",
      "Epoch 81/100\n",
      "889/889 [==============================] - 7s 7ms/step - loss: 13.3076 - mape: 13.3076 - val_loss: 12.7766 - val_mape: 12.7766\n",
      "Epoch 82/100\n",
      "889/889 [==============================] - 7s 8ms/step - loss: 13.3015 - mape: 13.3015 - val_loss: 12.8144 - val_mape: 12.8144\n",
      "Epoch 83/100\n",
      "889/889 [==============================] - 7s 7ms/step - loss: 13.2972 - mape: 13.2972 - val_loss: 12.8061 - val_mape: 12.8061\n",
      "Epoch 84/100\n",
      "889/889 [==============================] - 7s 7ms/step - loss: 13.2944 - mape: 13.2944 - val_loss: 12.7880 - val_mape: 12.7880\n",
      "Epoch 85/100\n",
      "889/889 [==============================] - 6s 7ms/step - loss: 13.2950 - mape: 13.2950 - val_loss: 12.7276 - val_mape: 12.7276\n",
      "Epoch 86/100\n",
      "889/889 [==============================] - 6s 7ms/step - loss: 13.2899 - mape: 13.2899 - val_loss: 12.8014 - val_mape: 12.8014\n",
      "Epoch 87/100\n",
      "889/889 [==============================] - 6s 7ms/step - loss: 13.2871 - mape: 13.2871 - val_loss: 12.7320 - val_mape: 12.7320\n",
      "Epoch 88/100\n",
      "889/889 [==============================] - 6s 7ms/step - loss: 13.2890 - mape: 13.2890 - val_loss: 12.7565 - val_mape: 12.7565\n",
      "Epoch 89/100\n",
      "889/889 [==============================] - 6s 7ms/step - loss: 13.2815 - mape: 13.2815 - val_loss: 12.7295 - val_mape: 12.7295\n",
      "Epoch 90/100\n",
      "889/889 [==============================] - 6s 7ms/step - loss: 13.2795 - mape: 13.2795 - val_loss: 12.7301 - val_mape: 12.7301\n",
      "Epoch 91/100\n",
      "889/889 [==============================] - 7s 7ms/step - loss: 13.2796 - mape: 13.2796 - val_loss: 12.7598 - val_mape: 12.7598\n",
      "Epoch 92/100\n",
      "889/889 [==============================] - 6s 7ms/step - loss: 13.2759 - mape: 13.2759 - val_loss: 12.7488 - val_mape: 12.7488\n",
      "Epoch 93/100\n",
      "889/889 [==============================] - 6s 7ms/step - loss: 13.2762 - mape: 13.2762 - val_loss: 12.7640 - val_mape: 12.7640\n",
      "Epoch 94/100\n",
      "889/889 [==============================] - 6s 7ms/step - loss: 13.2676 - mape: 13.2676 - val_loss: 12.7406 - val_mape: 12.7406\n",
      "Epoch 95/100\n",
      "889/889 [==============================] - 6s 7ms/step - loss: 13.2673 - mape: 13.2673 - val_loss: 12.7349 - val_mape: 12.7349\n",
      "Epoch 96/100\n",
      "889/889 [==============================] - 6s 7ms/step - loss: 13.2613 - mape: 13.2613 - val_loss: 12.8144 - val_mape: 12.8144\n",
      "Epoch 97/100\n",
      "889/889 [==============================] - 6s 7ms/step - loss: 13.2632 - mape: 13.2632 - val_loss: 12.7315 - val_mape: 12.7315\n",
      "Epoch 98/100\n",
      "889/889 [==============================] - 6s 7ms/step - loss: 13.2619 - mape: 13.2619 - val_loss: 12.7006 - val_mape: 12.7006\n",
      "Epoch 99/100\n",
      "889/889 [==============================] - 6s 7ms/step - loss: 13.2577 - mape: 13.2577 - val_loss: 12.7711 - val_mape: 12.7711\n",
      "Epoch 100/100\n",
      "889/889 [==============================] - 6s 7ms/step - loss: 13.2576 - mape: 13.2576 - val_loss: 12.7327 - val_mape: 12.7327\n"
     ]
    }
   ],
   "source": [
    "model = Sequential()\n",
    "model.add(LSTM(128,activation='relu',input_shape=(1,look_back),recurrent_dropout=0.5,return_sequences=True))\n",
    "model.add(LSTM(64,activation='relu',recurrent_dropout=0.3))\n",
    "model.add(Dense(1,activation='linear'))\n",
    "ad=optimizers.Adam(learning_rate=0.000012525191047985907)\n",
    "model.compile(optimizer = ad, loss = 'mape', metrics = ['mape'])\n",
    "model_history=model.fit(trainX, trainY,validation_data=(testX,testY), batch_size = 36, epochs = 100)"
   ]
  },
  {
   "cell_type": "code",
   "execution_count": 26,
   "id": "77c05906",
   "metadata": {
    "id": "77c05906"
   },
   "outputs": [],
   "source": [
    "def model_loss(history):\n",
    "    plt.figure(figsize=(8,4))\n",
    "    plt.plot(history.history['loss'], label='Train Loss')\n",
    "    plt.plot(history.history['val_loss'], label='Test Loss')\n",
    "    plt.title('model loss')\n",
    "    plt.ylabel('loss')\n",
    "    plt.xlabel('epochs')\n",
    "    plt.legend(loc='upper right')\n",
    "    plt.show();"
   ]
  },
  {
   "cell_type": "code",
   "execution_count": 27,
   "id": "f8eb5958",
   "metadata": {
    "id": "f8eb5958"
   },
   "outputs": [],
   "source": [
    "train_score = model.evaluate(trainX, trainY,verbose=0)\n",
    "test_score = model.evaluate(testX, testY,verbose=0)"
   ]
  },
  {
   "cell_type": "code",
   "execution_count": 28,
   "id": "45a22c27",
   "metadata": {
    "colab": {
     "base_uri": "https://localhost:8080/",
     "height": 329
    },
    "id": "45a22c27",
    "outputId": "7344b7f6-922c-42ed-d21f-ab8d91d3569a"
   },
   "outputs": [
    {
     "name": "stdout",
     "output_type": "stream",
     "text": [
      "Train MAPE : 13.24 \n",
      "Test MAPE : 12.73 \n"
     ]
    },
    {
     "data": {
      "image/png": "[encoded data removed]",
      "text/plain": [
       "<Figure size 576x288 with 1 Axes>"
      ]
     },
     "metadata": {
      "needs_background": "light"
     },
     "output_type": "display_data"
    }
   ],
   "source": [
    "train_predict = model.predict(trainX)\n",
    "test_predict = model.predict(testX)\n",
    "\n",
    "# invert predictions\n",
    "train_predict = scaler.inverse_transform(train_predict)\n",
    "trainY = scaler.inverse_transform([trainY])\n",
    "test_predict = scaler.inverse_transform(test_predict)\n",
    "testY = scaler.inverse_transform([testY])\n",
    "print('Train MAPE : %.2f ' % (train_score[1]))\n",
    "print('Test MAPE : %.2f ' % (test_score[1]))\n",
    "model_loss(model_history)"
   ]
  },
  {
   "cell_type": "code",
   "execution_count": 29,
   "id": "dc942f74",
   "metadata": {
    "id": "dc942f74"
   },
   "outputs": [],
   "source": [
    "import seaborn as sns"
   ]
  },
  {
   "cell_type": "code",
   "execution_count": 32,
   "id": "dee9bab8",
   "metadata": {
    "id": "dee9bab8"
   },
   "outputs": [],
   "source": [
    "def prediction_plot(testY, test_predict,look_back):\n",
    "    len_prediction=[x for x in range(31977,35906)]\n",
    "    plt.plot(trainY.reshape(-1,))\n",
    "    plt.plot(len_prediction, testY.reshape(-1,), marker='.', label='actual')\n",
    "    plt.plot(len_prediction, test_predict, 'g', label=\"prediction\")\n",
    "    plt.tight_layout()\n",
    "    sns.despine(top=True)\n",
    "    plt.subplots_adjust(left=0.07)\n",
    "    plt.ylabel('Units', size=15)\n",
    "    plt.xlabel('Time step', size=15)\n",
    "    plt.legend(fontsize=15)\n",
    "    plt.show()"
   ]
  },
  {
   "cell_type": "code",
   "execution_count": 33,
   "id": "363040b5",
   "metadata": {
    "colab": {
     "base_uri": "https://localhost:8080/",
     "height": 604
    },
    "id": "363040b5",
    "outputId": "de73311b-82ab-41a3-f7a0-f2039205d7ce"
   },
   "outputs": [
    {
     "data": {
      "image/png": "[encoded data removed]",
      "text/plain": [
       "<Figure size 1080x576 with 1 Axes>"
      ]
     },
     "metadata": {
      "needs_background": "light"
     },
     "output_type": "display_data"
    }
   ],
   "source": [
    "test_predict = model.predict(testX)\n",
    "test_predict = scaler.inverse_transform(test_predict)\n",
    "prediction_plot(testY, test_predict,look_back)"
   ]
  },
  {
   "cell_type": "code",
   "execution_count": null,
   "id": "f8a7708c",
   "metadata": {
    "id": "f8a7708c"
   },
   "outputs": [],
   "source": []
  }
 ],
 "metadata": {
  "colab": {
   "collapsed_sections": [],
   "name": "Residential_Power_HPT_LSTM_FULL.ipynb",
   "provenance": []
  },
  "kernelspec": {
   "display_name": "Python 3",
   "language": "python",
   "name": "python3"
  },
  "language_info": {
   "codemirror_mode": {
    "name": "ipython",
    "version": 3
   },
   "file_extension": ".py",
   "mimetype": "text/x-python",
   "name": "python",
   "nbconvert_exporter": "python",
   "pygments_lexer": "ipython3",
   "version": "3.8.8"
  }
 },
 "nbformat": 4,
 "nbformat_minor": 5
}
