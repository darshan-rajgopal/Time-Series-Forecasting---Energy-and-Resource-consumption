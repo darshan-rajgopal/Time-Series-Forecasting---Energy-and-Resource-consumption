{
  "cells": [
    {
      "cell_type": "code",
      "execution_count": 1,
      "id": "c2ef9b47",
      "metadata": {
        "id": "c2ef9b47"
      },
      "outputs": [],
      "source": [
        "import numpy as np\n",
        "import pandas as pd\n",
        "from tensorflow.keras.models import Sequential\n",
        "from tensorflow.keras.layers import LSTM, SimpleRNN\n",
        "from tensorflow.keras.layers import Dense\n",
        "from tensorflow.keras.layers import Flatten\n",
        "import matplotlib.pyplot as plt\n",
        "import warnings\n",
        "warnings.filterwarnings('ignore')\n",
        "%matplotlib inline"
      ]
    },
    {
      "cell_type": "code",
      "source": [
        "from google.colab import drive\n",
        "drive.mount('/content/drive')"
      ],
      "metadata": {
        "colab": {
          "base_uri": "https://localhost:8080/"
        },
        "id": "Dc8R-kAwtPer",
        "outputId": "fae29958-aebe-413f-9818-4fe35f77b9ab"
      },
      "id": "Dc8R-kAwtPer",
      "execution_count": 2,
      "outputs": [
        {
          "output_type": "stream",
          "name": "stdout",
          "text": [
            "Mounted at /content/drive\n"
          ]
        }
      ]
    },
    {
      "cell_type": "code",
      "execution_count": null,
      "id": "BxDZtfokj6Da",
      "metadata": {
        "colab": {
          "base_uri": "https://localhost:8080/",
          "height": 35
        },
        "id": "BxDZtfokj6Da",
        "outputId": "b81e8154-a7e3-419e-b14c-3b8d59b8063b"
      },
      "outputs": [
        {
          "data": {
            "application/vnd.google.colaboratory.intrinsic+json": {
              "type": "string"
            },
            "text/plain": [
              "'/device:GPU:0'"
            ]
          },
          "execution_count": 3,
          "metadata": {},
          "output_type": "execute_result"
        }
      ],
      "source": [
        "import tensorflow as tf\n",
        "tf.test.gpu_device_name()"
      ]
    },
    {
      "cell_type": "code",
      "execution_count": null,
      "id": "UDt4KrAxj6JS",
      "metadata": {
        "colab": {
          "base_uri": "https://localhost:8080/"
        },
        "id": "UDt4KrAxj6JS",
        "outputId": "ae71a41d-894e-4345-affe-cb4091ea52e4"
      },
      "outputs": [
        {
          "data": {
            "text/plain": [
              "[name: \"/device:CPU:0\"\n",
              " device_type: \"CPU\"\n",
              " memory_limit: 268435456\n",
              " locality {\n",
              " }\n",
              " incarnation: 5994368134398930075\n",
              " xla_global_id: -1, name: \"/device:GPU:0\"\n",
              " device_type: \"GPU\"\n",
              " memory_limit: 14465892352\n",
              " locality {\n",
              "   bus_id: 1\n",
              "   links {\n",
              "   }\n",
              " }\n",
              " incarnation: 4638497188715449484\n",
              " physical_device_desc: \"device: 0, name: Tesla T4, pci bus id: 0000:00:04.0, compute capability: 7.5\"\n",
              " xla_global_id: 416903419]"
            ]
          },
          "execution_count": 4,
          "metadata": {},
          "output_type": "execute_result"
        }
      ],
      "source": [
        "from tensorflow.python.client import device_lib\n",
        "device_lib.list_local_devices()"
      ]
    },
    {
      "cell_type": "code",
      "execution_count": 3,
      "id": "30d066a0",
      "metadata": {
        "colab": {
          "base_uri": "https://localhost:8080/",
          "height": 206
        },
        "id": "30d066a0",
        "outputId": "7b7589b6-41b2-45fd-8340-1a337f7a7756"
      },
      "outputs": [
        {
          "output_type": "execute_result",
          "data": {
            "text/plain": [
              "             StartDate  Value (kWh)  day_of_week    notes\n",
              "0  2016-01-06 00:00:00        1.057            2  weekday\n",
              "1  2016-01-06 01:00:00        1.171            2  weekday\n",
              "2  2016-01-06 02:00:00        0.560            2  weekday\n",
              "3  2016-01-06 03:00:00        0.828            2  weekday\n",
              "4  2016-01-06 04:00:00        0.932            2  weekday"
            ],
            "text/html": [
              "\n",
              "  <div id=\"df-35e749df-a056-4699-bb04-687886bb1cb6\">\n",
              "    <div class=\"colab-df-container\">\n",
              "      <div>\n",
              "<style scoped>\n",
              "    .dataframe tbody tr th:only-of-type {\n",
              "        vertical-align: middle;\n",
              "    }\n",
              "\n",
              "    .dataframe tbody tr th {\n",
              "        vertical-align: top;\n",
              "    }\n",
              "\n",
              "    .dataframe thead th {\n",
              "        text-align: right;\n",
              "    }\n",
              "</style>\n",
              "<table border=\"1\" class=\"dataframe\">\n",
              "  <thead>\n",
              "    <tr style=\"text-align: right;\">\n",
              "      <th></th>\n",
              "      <th>StartDate</th>\n",
              "      <th>Value (kWh)</th>\n",
              "      <th>day_of_week</th>\n",
              "      <th>notes</th>\n",
              "    </tr>\n",
              "  </thead>\n",
              "  <tbody>\n",
              "    <tr>\n",
              "      <th>0</th>\n",
              "      <td>2016-01-06 00:00:00</td>\n",
              "      <td>1.057</td>\n",
              "      <td>2</td>\n",
              "      <td>weekday</td>\n",
              "    </tr>\n",
              "    <tr>\n",
              "      <th>1</th>\n",
              "      <td>2016-01-06 01:00:00</td>\n",
              "      <td>1.171</td>\n",
              "      <td>2</td>\n",
              "      <td>weekday</td>\n",
              "    </tr>\n",
              "    <tr>\n",
              "      <th>2</th>\n",
              "      <td>2016-01-06 02:00:00</td>\n",
              "      <td>0.560</td>\n",
              "      <td>2</td>\n",
              "      <td>weekday</td>\n",
              "    </tr>\n",
              "    <tr>\n",
              "      <th>3</th>\n",
              "      <td>2016-01-06 03:00:00</td>\n",
              "      <td>0.828</td>\n",
              "      <td>2</td>\n",
              "      <td>weekday</td>\n",
              "    </tr>\n",
              "    <tr>\n",
              "      <th>4</th>\n",
              "      <td>2016-01-06 04:00:00</td>\n",
              "      <td>0.932</td>\n",
              "      <td>2</td>\n",
              "      <td>weekday</td>\n",
              "    </tr>\n",
              "  </tbody>\n",
              "</table>\n",
              "</div>\n",
              "      <button class=\"colab-df-convert\" onclick=\"convertToInteractive('df-35e749df-a056-4699-bb04-687886bb1cb6')\"\n",
              "              title=\"Convert this dataframe to an interactive table.\"\n",
              "              style=\"display:none;\">\n",
              "        \n",
              "  <svg xmlns=\"http://www.w3.org/2000/svg\" height=\"24px\"viewBox=\"0 0 24 24\"\n",
              "       width=\"24px\">\n",
              "    <path d=\"M0 0h24v24H0V0z\" fill=\"none\"/>\n",
              "    <path d=\"M18.56 5.44l.94 2.06.94-2.06 2.06-.94-2.06-.94-.94-2.06-.94 2.06-2.06.94zm-11 1L8.5 8.5l.94-2.06 2.06-.94-2.06-.94L8.5 2.5l-.94 2.06-2.06.94zm10 10l.94 2.06.94-2.06 2.06-.94-2.06-.94-.94-2.06-.94 2.06-2.06.94z\"/><path d=\"M17.41 7.96l-1.37-1.37c-.4-.4-.92-.59-1.43-.59-.52 0-1.04.2-1.43.59L10.3 9.45l-7.72 7.72c-.78.78-.78 2.05 0 2.83L4 21.41c.39.39.9.59 1.41.59.51 0 1.02-.2 1.41-.59l7.78-7.78 2.81-2.81c.8-.78.8-2.07 0-2.86zM5.41 20L4 18.59l7.72-7.72 1.47 1.35L5.41 20z\"/>\n",
              "  </svg>\n",
              "      </button>\n",
              "      \n",
              "  <style>\n",
              "    .colab-df-container {\n",
              "      display:flex;\n",
              "      flex-wrap:wrap;\n",
              "      gap: 12px;\n",
              "    }\n",
              "\n",
              "    .colab-df-convert {\n",
              "      background-color: #E8F0FE;\n",
              "      border: none;\n",
              "      border-radius: 50%;\n",
              "      cursor: pointer;\n",
              "      display: none;\n",
              "      fill: #1967D2;\n",
              "      height: 32px;\n",
              "      padding: 0 0 0 0;\n",
              "      width: 32px;\n",
              "    }\n",
              "\n",
              "    .colab-df-convert:hover {\n",
              "      background-color: #E2EBFA;\n",
              "      box-shadow: 0px 1px 2px rgba(60, 64, 67, 0.3), 0px 1px 3px 1px rgba(60, 64, 67, 0.15);\n",
              "      fill: #174EA6;\n",
              "    }\n",
              "\n",
              "    [theme=dark] .colab-df-convert {\n",
              "      background-color: #3B4455;\n",
              "      fill: #D2E3FC;\n",
              "    }\n",
              "\n",
              "    [theme=dark] .colab-df-convert:hover {\n",
              "      background-color: #434B5C;\n",
              "      box-shadow: 0px 1px 3px 1px rgba(0, 0, 0, 0.15);\n",
              "      filter: drop-shadow(0px 1px 2px rgba(0, 0, 0, 0.3));\n",
              "      fill: #FFFFFF;\n",
              "    }\n",
              "  </style>\n",
              "\n",
              "      <script>\n",
              "        const buttonEl =\n",
              "          document.querySelector('#df-35e749df-a056-4699-bb04-687886bb1cb6 button.colab-df-convert');\n",
              "        buttonEl.style.display =\n",
              "          google.colab.kernel.accessAllowed ? 'block' : 'none';\n",
              "\n",
              "        async function convertToInteractive(key) {\n",
              "          const element = document.querySelector('#df-35e749df-a056-4699-bb04-687886bb1cb6');\n",
              "          const dataTable =\n",
              "            await google.colab.kernel.invokeFunction('convertToInteractive',\n",
              "                                                     [key], {});\n",
              "          if (!dataTable) return;\n",
              "\n",
              "          const docLinkHtml = 'Like what you see? Visit the ' +\n",
              "            '<a target=\"_blank\" href=https://colab.research.google.com/notebooks/data_table.ipynb>data table notebook</a>'\n",
              "            + ' to learn more about interactive tables.';\n",
              "          element.innerHTML = '';\n",
              "          dataTable['output_type'] = 'display_data';\n",
              "          await google.colab.output.renderOutput(dataTable, element);\n",
              "          const docLink = document.createElement('div');\n",
              "          docLink.innerHTML = docLinkHtml;\n",
              "          element.appendChild(docLink);\n",
              "        }\n",
              "      </script>\n",
              "    </div>\n",
              "  </div>\n",
              "  "
            ]
          },
          "metadata": {},
          "execution_count": 3
        }
      ],
      "source": [
        "df = pd.read_csv('/content/drive/MyDrive/Colab Notebooks/Energy/residential_power_usage_2016_to_2020.csv')\n",
        "df.head()"
      ]
    },
    {
      "cell_type": "code",
      "execution_count": 4,
      "id": "e2663bb4",
      "metadata": {
        "colab": {
          "base_uri": "https://localhost:8080/",
          "height": 206
        },
        "id": "e2663bb4",
        "outputId": "ebd6f9bb-c3bd-4440-d7f6-d80add0d3719"
      },
      "outputs": [
        {
          "output_type": "execute_result",
          "data": {
            "text/plain": [
              "                 StartDate  Value (kWh)  day_of_week    notes\n",
              "35947  2020-07-07 19:00:00        1.307            1  weekday\n",
              "35948  2020-07-07 20:00:00        2.872            1  weekday\n",
              "35949  2020-07-07 21:00:00        2.138            1  weekday\n",
              "35950  2020-07-07 22:00:00        2.199            1  weekday\n",
              "35951  2020-07-07 23:00:00        1.809            1  weekday"
            ],
            "text/html": [
              "\n",
              "  <div id=\"df-22d3a675-9bd8-40af-9d1e-ea261e514a86\">\n",
              "    <div class=\"colab-df-container\">\n",
              "      <div>\n",
              "<style scoped>\n",
              "    .dataframe tbody tr th:only-of-type {\n",
              "        vertical-align: middle;\n",
              "    }\n",
              "\n",
              "    .dataframe tbody tr th {\n",
              "        vertical-align: top;\n",
              "    }\n",
              "\n",
              "    .dataframe thead th {\n",
              "        text-align: right;\n",
              "    }\n",
              "</style>\n",
              "<table border=\"1\" class=\"dataframe\">\n",
              "  <thead>\n",
              "    <tr style=\"text-align: right;\">\n",
              "      <th></th>\n",
              "      <th>StartDate</th>\n",
              "      <th>Value (kWh)</th>\n",
              "      <th>day_of_week</th>\n",
              "      <th>notes</th>\n",
              "    </tr>\n",
              "  </thead>\n",
              "  <tbody>\n",
              "    <tr>\n",
              "      <th>35947</th>\n",
              "      <td>2020-07-07 19:00:00</td>\n",
              "      <td>1.307</td>\n",
              "      <td>1</td>\n",
              "      <td>weekday</td>\n",
              "    </tr>\n",
              "    <tr>\n",
              "      <th>35948</th>\n",
              "      <td>2020-07-07 20:00:00</td>\n",
              "      <td>2.872</td>\n",
              "      <td>1</td>\n",
              "      <td>weekday</td>\n",
              "    </tr>\n",
              "    <tr>\n",
              "      <th>35949</th>\n",
              "      <td>2020-07-07 21:00:00</td>\n",
              "      <td>2.138</td>\n",
              "      <td>1</td>\n",
              "      <td>weekday</td>\n",
              "    </tr>\n",
              "    <tr>\n",
              "      <th>35950</th>\n",
              "      <td>2020-07-07 22:00:00</td>\n",
              "      <td>2.199</td>\n",
              "      <td>1</td>\n",
              "      <td>weekday</td>\n",
              "    </tr>\n",
              "    <tr>\n",
              "      <th>35951</th>\n",
              "      <td>2020-07-07 23:00:00</td>\n",
              "      <td>1.809</td>\n",
              "      <td>1</td>\n",
              "      <td>weekday</td>\n",
              "    </tr>\n",
              "  </tbody>\n",
              "</table>\n",
              "</div>\n",
              "      <button class=\"colab-df-convert\" onclick=\"convertToInteractive('df-22d3a675-9bd8-40af-9d1e-ea261e514a86')\"\n",
              "              title=\"Convert this dataframe to an interactive table.\"\n",
              "              style=\"display:none;\">\n",
              "        \n",
              "  <svg xmlns=\"http://www.w3.org/2000/svg\" height=\"24px\"viewBox=\"0 0 24 24\"\n",
              "       width=\"24px\">\n",
              "    <path d=\"M0 0h24v24H0V0z\" fill=\"none\"/>\n",
              "    <path d=\"M18.56 5.44l.94 2.06.94-2.06 2.06-.94-2.06-.94-.94-2.06-.94 2.06-2.06.94zm-11 1L8.5 8.5l.94-2.06 2.06-.94-2.06-.94L8.5 2.5l-.94 2.06-2.06.94zm10 10l.94 2.06.94-2.06 2.06-.94-2.06-.94-.94-2.06-.94 2.06-2.06.94z\"/><path d=\"M17.41 7.96l-1.37-1.37c-.4-.4-.92-.59-1.43-.59-.52 0-1.04.2-1.43.59L10.3 9.45l-7.72 7.72c-.78.78-.78 2.05 0 2.83L4 21.41c.39.39.9.59 1.41.59.51 0 1.02-.2 1.41-.59l7.78-7.78 2.81-2.81c.8-.78.8-2.07 0-2.86zM5.41 20L4 18.59l7.72-7.72 1.47 1.35L5.41 20z\"/>\n",
              "  </svg>\n",
              "      </button>\n",
              "      \n",
              "  <style>\n",
              "    .colab-df-container {\n",
              "      display:flex;\n",
              "      flex-wrap:wrap;\n",
              "      gap: 12px;\n",
              "    }\n",
              "\n",
              "    .colab-df-convert {\n",
              "      background-color: #E8F0FE;\n",
              "      border: none;\n",
              "      border-radius: 50%;\n",
              "      cursor: pointer;\n",
              "      display: none;\n",
              "      fill: #1967D2;\n",
              "      height: 32px;\n",
              "      padding: 0 0 0 0;\n",
              "      width: 32px;\n",
              "    }\n",
              "\n",
              "    .colab-df-convert:hover {\n",
              "      background-color: #E2EBFA;\n",
              "      box-shadow: 0px 1px 2px rgba(60, 64, 67, 0.3), 0px 1px 3px 1px rgba(60, 64, 67, 0.15);\n",
              "      fill: #174EA6;\n",
              "    }\n",
              "\n",
              "    [theme=dark] .colab-df-convert {\n",
              "      background-color: #3B4455;\n",
              "      fill: #D2E3FC;\n",
              "    }\n",
              "\n",
              "    [theme=dark] .colab-df-convert:hover {\n",
              "      background-color: #434B5C;\n",
              "      box-shadow: 0px 1px 3px 1px rgba(0, 0, 0, 0.15);\n",
              "      filter: drop-shadow(0px 1px 2px rgba(0, 0, 0, 0.3));\n",
              "      fill: #FFFFFF;\n",
              "    }\n",
              "  </style>\n",
              "\n",
              "      <script>\n",
              "        const buttonEl =\n",
              "          document.querySelector('#df-22d3a675-9bd8-40af-9d1e-ea261e514a86 button.colab-df-convert');\n",
              "        buttonEl.style.display =\n",
              "          google.colab.kernel.accessAllowed ? 'block' : 'none';\n",
              "\n",
              "        async function convertToInteractive(key) {\n",
              "          const element = document.querySelector('#df-22d3a675-9bd8-40af-9d1e-ea261e514a86');\n",
              "          const dataTable =\n",
              "            await google.colab.kernel.invokeFunction('convertToInteractive',\n",
              "                                                     [key], {});\n",
              "          if (!dataTable) return;\n",
              "\n",
              "          const docLinkHtml = 'Like what you see? Visit the ' +\n",
              "            '<a target=\"_blank\" href=https://colab.research.google.com/notebooks/data_table.ipynb>data table notebook</a>'\n",
              "            + ' to learn more about interactive tables.';\n",
              "          element.innerHTML = '';\n",
              "          dataTable['output_type'] = 'display_data';\n",
              "          await google.colab.output.renderOutput(dataTable, element);\n",
              "          const docLink = document.createElement('div');\n",
              "          docLink.innerHTML = docLinkHtml;\n",
              "          element.appendChild(docLink);\n",
              "        }\n",
              "      </script>\n",
              "    </div>\n",
              "  </div>\n",
              "  "
            ]
          },
          "metadata": {},
          "execution_count": 4
        }
      ],
      "source": [
        "df.tail()"
      ]
    },
    {
      "cell_type": "code",
      "execution_count": null,
      "id": "0482272d",
      "metadata": {
        "colab": {
          "base_uri": "https://localhost:8080/"
        },
        "id": "0482272d",
        "outputId": "78221a4a-8ece-45f2-e417-93b1e39aeb44"
      },
      "outputs": [
        {
          "output_type": "execute_result",
          "data": {
            "text/plain": [
              "(35952, 4)"
            ]
          },
          "metadata": {},
          "execution_count": 6
        }
      ],
      "source": [
        "df.shape"
      ]
    },
    {
      "cell_type": "code",
      "execution_count": null,
      "id": "076f1ad3",
      "metadata": {
        "colab": {
          "base_uri": "https://localhost:8080/"
        },
        "id": "076f1ad3",
        "outputId": "618c57c9-787a-47b9-9b67-f0daa5bfb806"
      },
      "outputs": [
        {
          "output_type": "stream",
          "name": "stdout",
          "text": [
            "<class 'pandas.core.frame.DataFrame'>\n",
            "RangeIndex: 35952 entries, 0 to 35951\n",
            "Data columns (total 4 columns):\n",
            " #   Column       Non-Null Count  Dtype  \n",
            "---  ------       --------------  -----  \n",
            " 0   StartDate    35952 non-null  object \n",
            " 1   Value (kWh)  35952 non-null  float64\n",
            " 2   day_of_week  35952 non-null  int64  \n",
            " 3   notes        35952 non-null  object \n",
            "dtypes: float64(1), int64(1), object(2)\n",
            "memory usage: 1.1+ MB\n"
          ]
        }
      ],
      "source": [
        "df.info()"
      ]
    },
    {
      "cell_type": "code",
      "execution_count": null,
      "id": "IKYuy6u9oVZN",
      "metadata": {
        "colab": {
          "base_uri": "https://localhost:8080/"
        },
        "id": "IKYuy6u9oVZN",
        "outputId": "fb500a96-a29d-42d8-d1fa-7bf9dd6858d2"
      },
      "outputs": [
        {
          "output_type": "execute_result",
          "data": {
            "text/plain": [
              "StartDate      0\n",
              "Value (kWh)    0\n",
              "day_of_week    0\n",
              "notes          0\n",
              "dtype: int64"
            ]
          },
          "metadata": {},
          "execution_count": 8
        }
      ],
      "source": [
        "df.isnull().sum()"
      ]
    },
    {
      "cell_type": "code",
      "execution_count": 5,
      "id": "93827e39",
      "metadata": {
        "id": "93827e39"
      },
      "outputs": [],
      "source": [
        "time = pd.date_range(start='1/1/2016 00:00:00',periods=35952,freq='H')\n",
        "df['time_stamp'] = pd.DataFrame(time)\n",
        "df.drop(['StartDate','day_of_week','notes'],axis=1,inplace=True)\n",
        "df = df.set_index('time_stamp')"
      ]
    },
    {
      "cell_type": "code",
      "execution_count": 6,
      "id": "S0kNKRMAocKq",
      "metadata": {
        "id": "S0kNKRMAocKq"
      },
      "outputs": [],
      "source": [
        "df.columns=['value']"
      ]
    },
    {
      "cell_type": "code",
      "execution_count": 7,
      "id": "522f2b8e",
      "metadata": {
        "colab": {
          "base_uri": "https://localhost:8080/"
        },
        "id": "522f2b8e",
        "outputId": "010a321a-794d-477d-85a3-e13ee59ba7ff"
      },
      "outputs": [
        {
          "output_type": "execute_result",
          "data": {
            "text/plain": [
              "(35952, 1)"
            ]
          },
          "metadata": {},
          "execution_count": 7
        }
      ],
      "source": [
        "df.shape"
      ]
    },
    {
      "cell_type": "code",
      "execution_count": null,
      "id": "7N0Xc0zT5atx",
      "metadata": {
        "colab": {
          "base_uri": "https://localhost:8080/",
          "height": 238
        },
        "id": "7N0Xc0zT5atx",
        "outputId": "3530fe41-e409-430f-db20-b88fd5a9cc1b"
      },
      "outputs": [
        {
          "output_type": "execute_result",
          "data": {
            "text/html": [
              "\n",
              "  <div id=\"df-114c74b3-4155-46f6-9976-32fba01df13a\">\n",
              "    <div class=\"colab-df-container\">\n",
              "      <div>\n",
              "<style scoped>\n",
              "    .dataframe tbody tr th:only-of-type {\n",
              "        vertical-align: middle;\n",
              "    }\n",
              "\n",
              "    .dataframe tbody tr th {\n",
              "        vertical-align: top;\n",
              "    }\n",
              "\n",
              "    .dataframe thead th {\n",
              "        text-align: right;\n",
              "    }\n",
              "</style>\n",
              "<table border=\"1\" class=\"dataframe\">\n",
              "  <thead>\n",
              "    <tr style=\"text-align: right;\">\n",
              "      <th></th>\n",
              "      <th>value</th>\n",
              "    </tr>\n",
              "    <tr>\n",
              "      <th>time_stamp</th>\n",
              "      <th></th>\n",
              "    </tr>\n",
              "  </thead>\n",
              "  <tbody>\n",
              "    <tr>\n",
              "      <th>2016-01-01 00:00:00</th>\n",
              "      <td>1.057</td>\n",
              "    </tr>\n",
              "    <tr>\n",
              "      <th>2016-01-01 01:00:00</th>\n",
              "      <td>1.171</td>\n",
              "    </tr>\n",
              "    <tr>\n",
              "      <th>2016-01-01 02:00:00</th>\n",
              "      <td>0.560</td>\n",
              "    </tr>\n",
              "    <tr>\n",
              "      <th>2016-01-01 03:00:00</th>\n",
              "      <td>0.828</td>\n",
              "    </tr>\n",
              "    <tr>\n",
              "      <th>2016-01-01 04:00:00</th>\n",
              "      <td>0.932</td>\n",
              "    </tr>\n",
              "  </tbody>\n",
              "</table>\n",
              "</div>\n",
              "      <button class=\"colab-df-convert\" onclick=\"convertToInteractive('df-114c74b3-4155-46f6-9976-32fba01df13a')\"\n",
              "              title=\"Convert this dataframe to an interactive table.\"\n",
              "              style=\"display:none;\">\n",
              "        \n",
              "  <svg xmlns=\"http://www.w3.org/2000/svg\" height=\"24px\"viewBox=\"0 0 24 24\"\n",
              "       width=\"24px\">\n",
              "    <path d=\"M0 0h24v24H0V0z\" fill=\"none\"/>\n",
              "    <path d=\"M18.56 5.44l.94 2.06.94-2.06 2.06-.94-2.06-.94-.94-2.06-.94 2.06-2.06.94zm-11 1L8.5 8.5l.94-2.06 2.06-.94-2.06-.94L8.5 2.5l-.94 2.06-2.06.94zm10 10l.94 2.06.94-2.06 2.06-.94-2.06-.94-.94-2.06-.94 2.06-2.06.94z\"/><path d=\"M17.41 7.96l-1.37-1.37c-.4-.4-.92-.59-1.43-.59-.52 0-1.04.2-1.43.59L10.3 9.45l-7.72 7.72c-.78.78-.78 2.05 0 2.83L4 21.41c.39.39.9.59 1.41.59.51 0 1.02-.2 1.41-.59l7.78-7.78 2.81-2.81c.8-.78.8-2.07 0-2.86zM5.41 20L4 18.59l7.72-7.72 1.47 1.35L5.41 20z\"/>\n",
              "  </svg>\n",
              "      </button>\n",
              "      \n",
              "  <style>\n",
              "    .colab-df-container {\n",
              "      display:flex;\n",
              "      flex-wrap:wrap;\n",
              "      gap: 12px;\n",
              "    }\n",
              "\n",
              "    .colab-df-convert {\n",
              "      background-color: #E8F0FE;\n",
              "      border: none;\n",
              "      border-radius: 50%;\n",
              "      cursor: pointer;\n",
              "      display: none;\n",
              "      fill: #1967D2;\n",
              "      height: 32px;\n",
              "      padding: 0 0 0 0;\n",
              "      width: 32px;\n",
              "    }\n",
              "\n",
              "    .colab-df-convert:hover {\n",
              "      background-color: #E2EBFA;\n",
              "      box-shadow: 0px 1px 2px rgba(60, 64, 67, 0.3), 0px 1px 3px 1px rgba(60, 64, 67, 0.15);\n",
              "      fill: #174EA6;\n",
              "    }\n",
              "\n",
              "    [theme=dark] .colab-df-convert {\n",
              "      background-color: #3B4455;\n",
              "      fill: #D2E3FC;\n",
              "    }\n",
              "\n",
              "    [theme=dark] .colab-df-convert:hover {\n",
              "      background-color: #434B5C;\n",
              "      box-shadow: 0px 1px 3px 1px rgba(0, 0, 0, 0.15);\n",
              "      filter: drop-shadow(0px 1px 2px rgba(0, 0, 0, 0.3));\n",
              "      fill: #FFFFFF;\n",
              "    }\n",
              "  </style>\n",
              "\n",
              "      <script>\n",
              "        const buttonEl =\n",
              "          document.querySelector('#df-114c74b3-4155-46f6-9976-32fba01df13a button.colab-df-convert');\n",
              "        buttonEl.style.display =\n",
              "          google.colab.kernel.accessAllowed ? 'block' : 'none';\n",
              "\n",
              "        async function convertToInteractive(key) {\n",
              "          const element = document.querySelector('#df-114c74b3-4155-46f6-9976-32fba01df13a');\n",
              "          const dataTable =\n",
              "            await google.colab.kernel.invokeFunction('convertToInteractive',\n",
              "                                                     [key], {});\n",
              "          if (!dataTable) return;\n",
              "\n",
              "          const docLinkHtml = 'Like what you see? Visit the ' +\n",
              "            '<a target=\"_blank\" href=https://colab.research.google.com/notebooks/data_table.ipynb>data table notebook</a>'\n",
              "            + ' to learn more about interactive tables.';\n",
              "          element.innerHTML = '';\n",
              "          dataTable['output_type'] = 'display_data';\n",
              "          await google.colab.output.renderOutput(dataTable, element);\n",
              "          const docLink = document.createElement('div');\n",
              "          docLink.innerHTML = docLinkHtml;\n",
              "          element.appendChild(docLink);\n",
              "        }\n",
              "      </script>\n",
              "    </div>\n",
              "  </div>\n",
              "  "
            ],
            "text/plain": [
              "                     value\n",
              "time_stamp                \n",
              "2016-01-01 00:00:00  1.057\n",
              "2016-01-01 01:00:00  1.171\n",
              "2016-01-01 02:00:00  0.560\n",
              "2016-01-01 03:00:00  0.828\n",
              "2016-01-01 04:00:00  0.932"
            ]
          },
          "metadata": {},
          "execution_count": 12
        }
      ],
      "source": [
        "df.head()"
      ]
    },
    {
      "cell_type": "code",
      "execution_count": null,
      "id": "THAXxSe75axW",
      "metadata": {
        "colab": {
          "base_uri": "https://localhost:8080/",
          "height": 238
        },
        "id": "THAXxSe75axW",
        "outputId": "a6367b54-d033-45fa-8ade-ae23554b4bad"
      },
      "outputs": [
        {
          "output_type": "execute_result",
          "data": {
            "text/html": [
              "\n",
              "  <div id=\"df-8d9f666e-c7cc-4a7e-8c26-020ce12960f3\">\n",
              "    <div class=\"colab-df-container\">\n",
              "      <div>\n",
              "<style scoped>\n",
              "    .dataframe tbody tr th:only-of-type {\n",
              "        vertical-align: middle;\n",
              "    }\n",
              "\n",
              "    .dataframe tbody tr th {\n",
              "        vertical-align: top;\n",
              "    }\n",
              "\n",
              "    .dataframe thead th {\n",
              "        text-align: right;\n",
              "    }\n",
              "</style>\n",
              "<table border=\"1\" class=\"dataframe\">\n",
              "  <thead>\n",
              "    <tr style=\"text-align: right;\">\n",
              "      <th></th>\n",
              "      <th>value</th>\n",
              "    </tr>\n",
              "    <tr>\n",
              "      <th>time_stamp</th>\n",
              "      <th></th>\n",
              "    </tr>\n",
              "  </thead>\n",
              "  <tbody>\n",
              "    <tr>\n",
              "      <th>2020-02-06 19:00:00</th>\n",
              "      <td>1.307</td>\n",
              "    </tr>\n",
              "    <tr>\n",
              "      <th>2020-02-06 20:00:00</th>\n",
              "      <td>2.872</td>\n",
              "    </tr>\n",
              "    <tr>\n",
              "      <th>2020-02-06 21:00:00</th>\n",
              "      <td>2.138</td>\n",
              "    </tr>\n",
              "    <tr>\n",
              "      <th>2020-02-06 22:00:00</th>\n",
              "      <td>2.199</td>\n",
              "    </tr>\n",
              "    <tr>\n",
              "      <th>2020-02-06 23:00:00</th>\n",
              "      <td>1.809</td>\n",
              "    </tr>\n",
              "  </tbody>\n",
              "</table>\n",
              "</div>\n",
              "      <button class=\"colab-df-convert\" onclick=\"convertToInteractive('df-8d9f666e-c7cc-4a7e-8c26-020ce12960f3')\"\n",
              "              title=\"Convert this dataframe to an interactive table.\"\n",
              "              style=\"display:none;\">\n",
              "        \n",
              "  <svg xmlns=\"http://www.w3.org/2000/svg\" height=\"24px\"viewBox=\"0 0 24 24\"\n",
              "       width=\"24px\">\n",
              "    <path d=\"M0 0h24v24H0V0z\" fill=\"none\"/>\n",
              "    <path d=\"M18.56 5.44l.94 2.06.94-2.06 2.06-.94-2.06-.94-.94-2.06-.94 2.06-2.06.94zm-11 1L8.5 8.5l.94-2.06 2.06-.94-2.06-.94L8.5 2.5l-.94 2.06-2.06.94zm10 10l.94 2.06.94-2.06 2.06-.94-2.06-.94-.94-2.06-.94 2.06-2.06.94z\"/><path d=\"M17.41 7.96l-1.37-1.37c-.4-.4-.92-.59-1.43-.59-.52 0-1.04.2-1.43.59L10.3 9.45l-7.72 7.72c-.78.78-.78 2.05 0 2.83L4 21.41c.39.39.9.59 1.41.59.51 0 1.02-.2 1.41-.59l7.78-7.78 2.81-2.81c.8-.78.8-2.07 0-2.86zM5.41 20L4 18.59l7.72-7.72 1.47 1.35L5.41 20z\"/>\n",
              "  </svg>\n",
              "      </button>\n",
              "      \n",
              "  <style>\n",
              "    .colab-df-container {\n",
              "      display:flex;\n",
              "      flex-wrap:wrap;\n",
              "      gap: 12px;\n",
              "    }\n",
              "\n",
              "    .colab-df-convert {\n",
              "      background-color: #E8F0FE;\n",
              "      border: none;\n",
              "      border-radius: 50%;\n",
              "      cursor: pointer;\n",
              "      display: none;\n",
              "      fill: #1967D2;\n",
              "      height: 32px;\n",
              "      padding: 0 0 0 0;\n",
              "      width: 32px;\n",
              "    }\n",
              "\n",
              "    .colab-df-convert:hover {\n",
              "      background-color: #E2EBFA;\n",
              "      box-shadow: 0px 1px 2px rgba(60, 64, 67, 0.3), 0px 1px 3px 1px rgba(60, 64, 67, 0.15);\n",
              "      fill: #174EA6;\n",
              "    }\n",
              "\n",
              "    [theme=dark] .colab-df-convert {\n",
              "      background-color: #3B4455;\n",
              "      fill: #D2E3FC;\n",
              "    }\n",
              "\n",
              "    [theme=dark] .colab-df-convert:hover {\n",
              "      background-color: #434B5C;\n",
              "      box-shadow: 0px 1px 3px 1px rgba(0, 0, 0, 0.15);\n",
              "      filter: drop-shadow(0px 1px 2px rgba(0, 0, 0, 0.3));\n",
              "      fill: #FFFFFF;\n",
              "    }\n",
              "  </style>\n",
              "\n",
              "      <script>\n",
              "        const buttonEl =\n",
              "          document.querySelector('#df-8d9f666e-c7cc-4a7e-8c26-020ce12960f3 button.colab-df-convert');\n",
              "        buttonEl.style.display =\n",
              "          google.colab.kernel.accessAllowed ? 'block' : 'none';\n",
              "\n",
              "        async function convertToInteractive(key) {\n",
              "          const element = document.querySelector('#df-8d9f666e-c7cc-4a7e-8c26-020ce12960f3');\n",
              "          const dataTable =\n",
              "            await google.colab.kernel.invokeFunction('convertToInteractive',\n",
              "                                                     [key], {});\n",
              "          if (!dataTable) return;\n",
              "\n",
              "          const docLinkHtml = 'Like what you see? Visit the ' +\n",
              "            '<a target=\"_blank\" href=https://colab.research.google.com/notebooks/data_table.ipynb>data table notebook</a>'\n",
              "            + ' to learn more about interactive tables.';\n",
              "          element.innerHTML = '';\n",
              "          dataTable['output_type'] = 'display_data';\n",
              "          await google.colab.output.renderOutput(dataTable, element);\n",
              "          const docLink = document.createElement('div');\n",
              "          docLink.innerHTML = docLinkHtml;\n",
              "          element.appendChild(docLink);\n",
              "        }\n",
              "      </script>\n",
              "    </div>\n",
              "  </div>\n",
              "  "
            ],
            "text/plain": [
              "                     value\n",
              "time_stamp                \n",
              "2020-02-06 19:00:00  1.307\n",
              "2020-02-06 20:00:00  2.872\n",
              "2020-02-06 21:00:00  2.138\n",
              "2020-02-06 22:00:00  2.199\n",
              "2020-02-06 23:00:00  1.809"
            ]
          },
          "metadata": {},
          "execution_count": 13
        }
      ],
      "source": [
        "df.tail()"
      ]
    },
    {
      "cell_type": "code",
      "execution_count": 8,
      "id": "bQk15MFgouDq",
      "metadata": {
        "id": "bQk15MFgouDq"
      },
      "outputs": [],
      "source": [
        "plt.rcParams['figure.figsize'] = [15,8]"
      ]
    },
    {
      "cell_type": "code",
      "execution_count": null,
      "id": "3b098ae2",
      "metadata": {
        "colab": {
          "base_uri": "https://localhost:8080/",
          "height": 523
        },
        "id": "3b098ae2",
        "outputId": "1a316e21-4101-4eaa-8105-9baa564da3d5"
      },
      "outputs": [
        {
          "output_type": "display_data",
          "data": {
            "image/png": "[encoded data removed]",
            "text/plain": [
              "<Figure size 1080x576 with 1 Axes>"
            ]
          },
          "metadata": {
            "needs_background": "light"
          }
        }
      ],
      "source": [
        "plt.plot(df,color='blue')\n",
        "plt.title('Hourly Residential Power Usage',fontsize=20)\n",
        "plt.xlabel('Date',fontsize=15)\n",
        "plt.ylabel('Units',fontsize=15)\n",
        "plt.show()"
      ]
    },
    {
      "cell_type": "code",
      "execution_count": 9,
      "id": "bf59d3e0",
      "metadata": {
        "id": "bf59d3e0"
      },
      "outputs": [],
      "source": [
        "def convert2matrix(data_arr, look_back):\n",
        "    X, Y =[], []\n",
        "    for i in range(len(data_arr)-look_back):\n",
        "        d=i+look_back  \n",
        "        X.append(data_arr[i:d,0])\n",
        "        Y.append(data_arr[d,0])\n",
        "    return np.array(X), np.array(Y)"
      ]
    },
    {
      "cell_type": "code",
      "execution_count": 10,
      "id": "46b24adc",
      "metadata": {
        "id": "46b24adc"
      },
      "outputs": [],
      "source": [
        "from sklearn.preprocessing import MinMaxScaler\n",
        "#create numpy.ndarray \n",
        "df['value'] = df['value'].astype(np.float32)\n",
        "df_arr = df.values\n",
        "df_arr = np.reshape(df_arr, (-1, 1))\n",
        "scaler = MinMaxScaler(feature_range=(0.1, 1))\n",
        "df_arr = scaler.fit_transform(df_arr)"
      ]
    },
    {
      "cell_type": "code",
      "execution_count": 23,
      "id": "1cea6c5f",
      "metadata": {
        "id": "1cea6c5f"
      },
      "outputs": [],
      "source": [
        "#Split data set into testing dataset and train dataset\n",
        "train_size = 32000\n",
        "train, test =df_arr[0:train_size,:], df_arr[train_size:len(df_arr),:]\n",
        "# setup look_back window \n",
        "look_back = 23\n",
        "#convert dataset into right shape in order to input into the DNN\n",
        "trainX, trainY = convert2matrix(train, look_back)\n",
        "testX, testY = convert2matrix(test, look_back)\n",
        "trainX = np.reshape(trainX, (trainX.shape[0], 1, trainX.shape[1]))\n",
        "testX = np.reshape(testX, (testX.shape[0], 1, testX.shape[1]))"
      ]
    },
    {
      "cell_type": "code",
      "execution_count": 12,
      "id": "c7d46c39",
      "metadata": {
        "colab": {
          "base_uri": "https://localhost:8080/"
        },
        "id": "c7d46c39",
        "outputId": "a76a101d-4656-48b2-8bc1-0b85766caa47"
      },
      "outputs": [
        {
          "output_type": "stream",
          "name": "stdout",
          "text": [
            "(31977, 1, 23)\n",
            "(31977,)\n",
            "(3929, 1, 23)\n",
            "(3929,)\n"
          ]
        }
      ],
      "source": [
        "print(trainX.shape)\n",
        "print(trainY.shape)\n",
        "print(testX.shape)\n",
        "print(testY.shape)"
      ]
    },
    {
      "cell_type": "code",
      "execution_count": null,
      "id": "b0b5b8e7",
      "metadata": {
        "colab": {
          "base_uri": "https://localhost:8080/"
        },
        "id": "b0b5b8e7",
        "outputId": "c80ccbc0-15e2-49a5-f23c-2411cafecc25"
      },
      "outputs": [
        {
          "output_type": "execute_result",
          "data": {
            "text/plain": [
              "array([[[0.24003448, 0.25611094, 0.16994673, ..., 0.3976966 ,\n",
              "         0.5102319 , 0.51319337]],\n",
              "\n",
              "       [[0.25611094, 0.16994673, 0.20774052, ..., 0.5102319 ,\n",
              "         0.51319337, 0.34396744]],\n",
              "\n",
              "       [[0.16994673, 0.20774052, 0.22240676, ..., 0.51319337,\n",
              "         0.34396744, 0.2716233 ]],\n",
              "\n",
              "       ...,\n",
              "\n",
              "       [[0.21676591, 0.18249765, 0.1743184 , ..., 0.13370417,\n",
              "         0.13440928, 0.14822939]],\n",
              "\n",
              "       [[0.18249765, 0.1743184 , 0.1593701 , ..., 0.13440928,\n",
              "         0.14822939, 0.15697274]],\n",
              "\n",
              "       [[0.1743184 , 0.1593701 , 0.14907552, ..., 0.14822939,\n",
              "         0.15697274, 0.1775619 ]]], dtype=float32)"
            ]
          },
          "metadata": {},
          "execution_count": 20
        }
      ],
      "source": [
        "trainX"
      ]
    },
    {
      "cell_type": "code",
      "execution_count": null,
      "id": "7c05ea55",
      "metadata": {
        "colab": {
          "base_uri": "https://localhost:8080/"
        },
        "id": "7c05ea55",
        "outputId": "b62d5e4f-a0f4-4a13-fa60-f8c14231d3bc"
      },
      "outputs": [
        {
          "output_type": "execute_result",
          "data": {
            "text/plain": [
              "array([[[0.12623002, 0.17319022, 0.13497336, ..., 0.13017863,\n",
              "         0.13299906, 0.13158885]],\n",
              "\n",
              "       [[0.17319022, 0.13497336, 0.1514729 , ..., 0.13299906,\n",
              "         0.13158885, 0.14385772]],\n",
              "\n",
              "       [[0.13497336, 0.1514729 , 0.14879349, ..., 0.13158885,\n",
              "         0.14385772, 0.13412723]],\n",
              "\n",
              "       ...,\n",
              "\n",
              "       [[0.3950172 , 0.30137888, 0.31675023, ..., 0.27373862,\n",
              "         0.2752899 , 0.49598873]],\n",
              "\n",
              "       [[0.30137888, 0.31675023, 0.2527264 , ..., 0.2752899 ,\n",
              "         0.49598873, 0.39247882]],\n",
              "\n",
              "       [[0.31675023, 0.2527264 , 0.3718897 , ..., 0.49598873,\n",
              "         0.39247882, 0.40108114]]], dtype=float32)"
            ]
          },
          "metadata": {},
          "execution_count": 21
        }
      ],
      "source": [
        "testX"
      ]
    },
    {
      "cell_type": "code",
      "execution_count": 13,
      "id": "GIc1nRcCuP3G",
      "metadata": {
        "colab": {
          "base_uri": "https://localhost:8080/"
        },
        "id": "GIc1nRcCuP3G",
        "outputId": "f672889c-56e7-4bbd-909f-64a570fbeb95"
      },
      "outputs": [
        {
          "output_type": "stream",
          "name": "stdout",
          "text": [
            "\u001b[?25l\r\u001b[K     |██▌                             | 10 kB 19.6 MB/s eta 0:00:01\r\u001b[K     |█████                           | 20 kB 9.4 MB/s eta 0:00:01\r\u001b[K     |███████▍                        | 30 kB 5.6 MB/s eta 0:00:01\r\u001b[K     |█████████▉                      | 40 kB 5.1 MB/s eta 0:00:01\r\u001b[K     |████████████▎                   | 51 kB 3.5 MB/s eta 0:00:01\r\u001b[K     |██████████████▊                 | 61 kB 4.1 MB/s eta 0:00:01\r\u001b[K     |█████████████████▏              | 71 kB 4.3 MB/s eta 0:00:01\r\u001b[K     |███████████████████▋            | 81 kB 4.1 MB/s eta 0:00:01\r\u001b[K     |██████████████████████          | 92 kB 4.5 MB/s eta 0:00:01\r\u001b[K     |████████████████████████▌       | 102 kB 4.4 MB/s eta 0:00:01\r\u001b[K     |███████████████████████████     | 112 kB 4.4 MB/s eta 0:00:01\r\u001b[K     |█████████████████████████████▍  | 122 kB 4.4 MB/s eta 0:00:01\r\u001b[K     |███████████████████████████████▉| 133 kB 4.4 MB/s eta 0:00:01\r\u001b[K     |████████████████████████████████| 133 kB 4.4 MB/s \n",
            "\u001b[?25h"
          ]
        }
      ],
      "source": [
        "!pip install -q -U keras-tuner"
      ]
    },
    {
      "cell_type": "code",
      "execution_count": 14,
      "id": "M5te5ih0uP6u",
      "metadata": {
        "id": "M5te5ih0uP6u"
      },
      "outputs": [],
      "source": [
        "import pandas as pd\n",
        "from tensorflow import keras\n",
        "from tensorflow.keras import layers\n",
        "from keras_tuner.tuners import RandomSearch\n",
        "from tensorflow.keras.models import Sequential\n",
        "from tensorflow.keras.layers import LSTM\n",
        "from tensorflow.keras.layers import Dense,Dropout\n",
        "from tensorflow.keras.layers import Flatten\n",
        "import matplotlib.pyplot as plt"
      ]
    },
    {
      "cell_type": "code",
      "execution_count": null,
      "id": "rYiJC5hXuP_e",
      "metadata": {
        "id": "rYiJC5hXuP_e"
      },
      "outputs": [],
      "source": [
        "def build_model(hp):\n",
        "    model = keras.Sequential()\n",
        "    model.add(SimpleRNN(hp.Int('first_rnn_layer',min_value=8,max_value=128,step=8), activation=\"relu\",return_sequences=True, input_shape=(1,look_back),recurrent_dropout = hp.Choice(\"first_recurrent_dropout\",[0.2,0.4,0.6],default=0.4)))\n",
        "    model.add(SimpleRNN(hp.Int('second_rnn_layer',min_value=8,max_value=64,step=8), activation=\"relu\",recurrent_dropout = hp.Choice(\"second_recurrent_dropout\",[0.2,0.4],default=0.4)))\n",
        "    model.add(Dense(hp.Int('dense_layer_1',min_value=8,max_value=128,step=8),activation=\"relu\"))\n",
        "    model.add(Dropout(hp.Float('Dropout_rate',min_value=0,max_value=0.5,step=0.1)))\n",
        "    model.add(layers.Dense(1, activation='linear'))\n",
        "    model.compile(\n",
        "        optimizer=keras.optimizers.Adam(\n",
        "             hp.Float('learning_rate', min_value=1e-4, max_value=1e-1, sampling=\"log\")),\n",
        "        loss='mape',\n",
        "        metrics=['mape'])\n",
        "    return model"
      ]
    },
    {
      "cell_type": "code",
      "execution_count": null,
      "id": "2h_gRerjuQCT",
      "metadata": {
        "id": "2h_gRerjuQCT"
      },
      "outputs": [],
      "source": [
        "tuner = RandomSearch(\n",
        "    build_model,\n",
        "    objective='val_mape',\n",
        "    max_trials=10,\n",
        "    executions_per_trial=1,\n",
        "    directory='project',\n",
        "    project_name='resident_consum_2')"
      ]
    },
    {
      "cell_type": "code",
      "execution_count": null,
      "id": "Dg5AHN3guQFu",
      "metadata": {
        "colab": {
          "base_uri": "https://localhost:8080/"
        },
        "id": "Dg5AHN3guQFu",
        "outputId": "bcb709c3-270b-4429-d795-5f1c4abec6d7"
      },
      "outputs": [
        {
          "name": "stdout",
          "output_type": "stream",
          "text": [
            "Search space summary\n",
            "Default search space size: 7\n",
            "first_rnn_layer (Int)\n",
            "{'default': None, 'conditions': [], 'min_value': 8, 'max_value': 128, 'step': 8, 'sampling': None}\n",
            "first_recurrent_dropout (Choice)\n",
            "{'default': 0.4, 'conditions': [], 'values': [0.2, 0.4, 0.6], 'ordered': True}\n",
            "second_rnn_layer (Int)\n",
            "{'default': None, 'conditions': [], 'min_value': 8, 'max_value': 64, 'step': 8, 'sampling': None}\n",
            "second_recurrent_dropout (Choice)\n",
            "{'default': 0.4, 'conditions': [], 'values': [0.2, 0.4], 'ordered': True}\n",
            "dense_layer_1 (Int)\n",
            "{'default': None, 'conditions': [], 'min_value': 8, 'max_value': 128, 'step': 8, 'sampling': None}\n",
            "Dropout_rate (Float)\n",
            "{'default': 0.0, 'conditions': [], 'min_value': 0.0, 'max_value': 0.5, 'step': 0.1, 'sampling': None}\n",
            "learning_rate (Float)\n",
            "{'default': 0.0001, 'conditions': [], 'min_value': 0.0001, 'max_value': 0.1, 'step': None, 'sampling': 'log'}\n"
          ]
        }
      ],
      "source": [
        "tuner.search_space_summary()"
      ]
    },
    {
      "cell_type": "code",
      "execution_count": null,
      "id": "TiBXdF0K8Gpr",
      "metadata": {
        "colab": {
          "base_uri": "https://localhost:8080/"
        },
        "id": "TiBXdF0K8Gpr",
        "outputId": "fb28eb46-2115-4205-93e0-f709e23d1496"
      },
      "outputs": [
        {
          "name": "stdout",
          "output_type": "stream",
          "text": [
            "Trial 9 Complete [00h 07m 24s]\n",
            "val_mape: 27.395803451538086\n",
            "\n",
            "Best val_mape So Far: 27.395803451538086\n",
            "Total elapsed time: 01h 05m 32s\n",
            "\n",
            "Search: Running Trial #10\n",
            "\n",
            "Hyperparameter    |Value             |Best Value So Far \n",
            "first_rnn_layer   |80                |72                \n",
            "first_recurrent...|0.4               |0.6               \n",
            "second_rnn_layer  |40                |56                \n",
            "second_recurren...|0.4               |0.4               \n",
            "dense_layer_1     |128               |64                \n",
            "Dropout_rate      |0.2               |0.4               \n",
            "learning_rate     |0.00014172        |0.010154          \n",
            "\n",
            "Epoch 1/200\n",
            "241/241 [==============================] - 4s 11ms/step - loss: 41.1916 - mape: 41.1916 - val_loss: 33.5749 - val_mape: 33.5749\n",
            "Epoch 2/200\n",
            "241/241 [==============================] - 2s 9ms/step - loss: 31.1126 - mape: 31.1126 - val_loss: 31.7470 - val_mape: 31.7470\n",
            "Epoch 3/200\n",
            "241/241 [==============================] - 2s 8ms/step - loss: 29.1599 - mape: 29.1599 - val_loss: 31.0866 - val_mape: 31.0866\n",
            "Epoch 4/200\n",
            "241/241 [==============================] - 2s 9ms/step - loss: 27.8839 - mape: 27.8839 - val_loss: 30.0526 - val_mape: 30.0526\n",
            "Epoch 5/200\n",
            "241/241 [==============================] - 2s 9ms/step - loss: 26.9706 - mape: 26.9706 - val_loss: 29.5661 - val_mape: 29.5661\n",
            "Epoch 6/200\n",
            "241/241 [==============================] - 2s 9ms/step - loss: 26.5871 - mape: 26.5871 - val_loss: 29.4173 - val_mape: 29.4173\n",
            "Epoch 7/200\n",
            "241/241 [==============================] - 2s 8ms/step - loss: 26.4454 - mape: 26.4454 - val_loss: 29.2786 - val_mape: 29.2786\n",
            "Epoch 8/200\n",
            "241/241 [==============================] - 2s 9ms/step - loss: 25.9706 - mape: 25.9706 - val_loss: 29.4089 - val_mape: 29.4089\n",
            "Epoch 9/200\n",
            "241/241 [==============================] - 2s 9ms/step - loss: 25.8478 - mape: 25.8478 - val_loss: 29.0253 - val_mape: 29.0253\n",
            "Epoch 10/200\n",
            "241/241 [==============================] - 2s 9ms/step - loss: 25.6681 - mape: 25.6681 - val_loss: 31.0895 - val_mape: 31.0895\n",
            "Epoch 11/200\n",
            "241/241 [==============================] - 2s 9ms/step - loss: 25.4639 - mape: 25.4639 - val_loss: 29.4073 - val_mape: 29.4073\n",
            "Epoch 12/200\n",
            "241/241 [==============================] - 2s 9ms/step - loss: 25.2928 - mape: 25.2928 - val_loss: 29.1168 - val_mape: 29.1168\n",
            "Epoch 13/200\n",
            "241/241 [==============================] - 2s 9ms/step - loss: 25.1509 - mape: 25.1509 - val_loss: 29.4845 - val_mape: 29.4845\n",
            "Epoch 14/200\n",
            "241/241 [==============================] - 2s 8ms/step - loss: 25.1450 - mape: 25.1450 - val_loss: 30.8946 - val_mape: 30.8946\n",
            "Epoch 15/200\n",
            "241/241 [==============================] - 2s 9ms/step - loss: 24.8736 - mape: 24.8736 - val_loss: 28.9653 - val_mape: 28.9653\n",
            "Epoch 16/200\n",
            "241/241 [==============================] - 2s 9ms/step - loss: 24.9981 - mape: 24.9981 - val_loss: 29.2480 - val_mape: 29.2480\n",
            "Epoch 17/200\n",
            "241/241 [==============================] - 2s 9ms/step - loss: 24.8951 - mape: 24.8951 - val_loss: 28.8234 - val_mape: 28.8234\n",
            "Epoch 18/200\n",
            "241/241 [==============================] - 2s 9ms/step - loss: 24.6344 - mape: 24.6344 - val_loss: 28.7837 - val_mape: 28.7837\n",
            "Epoch 19/200\n",
            "241/241 [==============================] - 2s 9ms/step - loss: 24.7834 - mape: 24.7834 - val_loss: 28.8314 - val_mape: 28.8314\n",
            "Epoch 20/200\n",
            "241/241 [==============================] - 2s 8ms/step - loss: 24.6250 - mape: 24.6250 - val_loss: 29.3242 - val_mape: 29.3242\n",
            "Epoch 21/200\n",
            "241/241 [==============================] - 2s 8ms/step - loss: 24.6148 - mape: 24.6148 - val_loss: 29.0952 - val_mape: 29.0952\n",
            "Epoch 22/200\n",
            "241/241 [==============================] - 2s 9ms/step - loss: 24.4664 - mape: 24.4664 - val_loss: 28.6990 - val_mape: 28.6990\n",
            "Epoch 23/200\n",
            "241/241 [==============================] - 2s 8ms/step - loss: 24.2936 - mape: 24.2936 - val_loss: 29.2110 - val_mape: 29.2110\n",
            "Epoch 24/200\n",
            "241/241 [==============================] - 2s 9ms/step - loss: 24.4473 - mape: 24.4473 - val_loss: 29.0254 - val_mape: 29.0254\n",
            "Epoch 25/200\n",
            "241/241 [==============================] - 2s 8ms/step - loss: 24.2166 - mape: 24.2166 - val_loss: 28.8995 - val_mape: 28.8995\n",
            "Epoch 26/200\n",
            "241/241 [==============================] - 2s 9ms/step - loss: 24.2869 - mape: 24.2869 - val_loss: 28.9639 - val_mape: 28.9639\n",
            "Epoch 27/200\n",
            "241/241 [==============================] - 2s 8ms/step - loss: 24.2059 - mape: 24.2059 - val_loss: 28.7028 - val_mape: 28.7028\n",
            "Epoch 28/200\n",
            "241/241 [==============================] - 2s 9ms/step - loss: 24.2409 - mape: 24.2409 - val_loss: 28.5430 - val_mape: 28.5430\n",
            "Epoch 29/200\n",
            "241/241 [==============================] - 2s 9ms/step - loss: 24.0034 - mape: 24.0034 - val_loss: 28.7682 - val_mape: 28.7682\n",
            "Epoch 30/200\n",
            "241/241 [==============================] - 2s 8ms/step - loss: 24.0522 - mape: 24.0522 - val_loss: 29.4574 - val_mape: 29.4574\n",
            "Epoch 31/200\n",
            "241/241 [==============================] - 2s 9ms/step - loss: 23.8279 - mape: 23.8279 - val_loss: 28.6485 - val_mape: 28.6485\n",
            "Epoch 32/200\n",
            "241/241 [==============================] - 2s 9ms/step - loss: 23.8679 - mape: 23.8679 - val_loss: 29.2092 - val_mape: 29.2092\n",
            "Epoch 33/200\n",
            "241/241 [==============================] - 2s 9ms/step - loss: 23.9368 - mape: 23.9368 - val_loss: 28.8363 - val_mape: 28.8363\n",
            "Epoch 34/200\n",
            "241/241 [==============================] - 2s 9ms/step - loss: 23.7681 - mape: 23.7681 - val_loss: 29.0075 - val_mape: 29.0075\n",
            "Epoch 35/200\n",
            "241/241 [==============================] - 2s 9ms/step - loss: 23.8046 - mape: 23.8046 - val_loss: 28.8113 - val_mape: 28.8113\n",
            "Epoch 36/200\n",
            "241/241 [==============================] - 2s 8ms/step - loss: 23.7595 - mape: 23.7595 - val_loss: 28.6412 - val_mape: 28.6412\n",
            "Epoch 37/200\n",
            "241/241 [==============================] - 2s 8ms/step - loss: 23.7445 - mape: 23.7445 - val_loss: 29.1065 - val_mape: 29.1065\n",
            "Epoch 38/200\n",
            "241/241 [==============================] - 2s 8ms/step - loss: 23.6252 - mape: 23.6252 - val_loss: 29.7841 - val_mape: 29.7841\n",
            "Epoch 39/200\n",
            "241/241 [==============================] - 2s 8ms/step - loss: 23.5300 - mape: 23.5300 - val_loss: 28.7780 - val_mape: 28.7780\n",
            "Epoch 40/200\n",
            "241/241 [==============================] - 2s 8ms/step - loss: 23.5404 - mape: 23.5404 - val_loss: 28.8650 - val_mape: 28.8650\n",
            "Epoch 41/200\n",
            "241/241 [==============================] - 2s 8ms/step - loss: 23.4065 - mape: 23.4065 - val_loss: 29.0325 - val_mape: 29.0325\n",
            "Epoch 42/200\n",
            "241/241 [==============================] - 2s 9ms/step - loss: 23.3759 - mape: 23.3759 - val_loss: 28.8137 - val_mape: 28.8137\n",
            "Epoch 43/200\n",
            "241/241 [==============================] - 2s 8ms/step - loss: 23.2859 - mape: 23.2859 - val_loss: 28.8324 - val_mape: 28.8324\n",
            "Epoch 44/200\n",
            "241/241 [==============================] - 2s 8ms/step - loss: 23.3865 - mape: 23.3865 - val_loss: 29.1764 - val_mape: 29.1764\n",
            "Epoch 45/200\n",
            "241/241 [==============================] - 2s 8ms/step - loss: 23.3247 - mape: 23.3247 - val_loss: 28.8931 - val_mape: 28.8931\n",
            "Epoch 46/200\n",
            "241/241 [==============================] - 2s 9ms/step - loss: 23.2831 - mape: 23.2831 - val_loss: 28.8915 - val_mape: 28.8915\n",
            "Epoch 47/200\n",
            "241/241 [==============================] - 2s 8ms/step - loss: 23.2675 - mape: 23.2675 - val_loss: 28.8339 - val_mape: 28.8339\n",
            "Epoch 48/200\n",
            "154/241 [==================>...........] - ETA: 0s - loss: 23.2187 - mape: 23.2187"
          ]
        }
      ],
      "source": [
        "tuner.search(trainX, trainY,\n",
        "             epochs=200,\n",
        "             batch_size=36,\n",
        "             validation_data=(testX, testY))"
      ]
    },
    {
      "cell_type": "code",
      "execution_count": null,
      "id": "VXXGH_RK8GsD",
      "metadata": {
        "colab": {
          "base_uri": "https://localhost:8080/"
        },
        "id": "VXXGH_RK8GsD",
        "outputId": "a780afa9-4ca1-45ad-db77-1d777cbf4248"
      },
      "outputs": [
        {
          "name": "stdout",
          "output_type": "stream",
          "text": [
            "Results summary\n",
            "Results in project/resident_consum_1\n",
            "Showing 10 best trials\n",
            "Objective(name='val_mape', direction='min')\n",
            "Trial summary\n",
            "Hyperparameters:\n",
            "num_layers: 6\n",
            "units_0: 56\n",
            "dropout: False\n",
            "learning_rate: 0.005735984373913224\n",
            "Dropout_rate: 0.5\n",
            "units_1: 192\n",
            "units_2: 184\n",
            "units_3: 136\n",
            "units_4: 184\n",
            "units_5: 8\n",
            "Score: 27.22334098815918\n",
            "Trial summary\n",
            "Hyperparameters:\n",
            "num_layers: 3\n",
            "units_0: 96\n",
            "dropout: False\n",
            "learning_rate: 0.010292914465806513\n",
            "Dropout_rate: 0.0\n",
            "units_1: 200\n",
            "units_2: 16\n",
            "units_3: 32\n",
            "units_4: 176\n",
            "units_5: 232\n",
            "units_6: 80\n",
            "units_7: 96\n",
            "units_8: 152\n",
            "Score: 27.268409729003906\n",
            "Trial summary\n",
            "Hyperparameters:\n",
            "num_layers: 4\n",
            "units_0: 24\n",
            "dropout: False\n",
            "learning_rate: 0.002901086622163988\n",
            "Dropout_rate: 0.30000000000000004\n",
            "units_1: 8\n",
            "units_2: 240\n",
            "units_3: 64\n",
            "units_4: 248\n",
            "units_5: 104\n",
            "units_6: 160\n",
            "units_7: 144\n",
            "units_8: 224\n",
            "Score: 27.408287048339844\n",
            "Trial summary\n",
            "Hyperparameters:\n",
            "num_layers: 3\n",
            "units_0: 200\n",
            "dropout: False\n",
            "learning_rate: 0.0015750366262371192\n",
            "Dropout_rate: 0.4\n",
            "units_1: 160\n",
            "units_2: 208\n",
            "units_3: 256\n",
            "units_4: 152\n",
            "units_5: 16\n",
            "units_6: 152\n",
            "units_7: 120\n",
            "units_8: 80\n",
            "Score: 27.438762664794922\n",
            "Trial summary\n",
            "Hyperparameters:\n",
            "num_layers: 4\n",
            "units_0: 64\n",
            "dropout: True\n",
            "learning_rate: 0.013209940474694898\n",
            "Dropout_rate: 0.0\n",
            "units_1: 8\n",
            "units_2: 8\n",
            "units_3: 8\n",
            "Score: 27.587223052978516\n",
            "Trial summary\n",
            "Hyperparameters:\n",
            "num_layers: 8\n",
            "units_0: 64\n",
            "dropout: False\n",
            "learning_rate: 0.0001523749838606142\n",
            "Dropout_rate: 0.5\n",
            "units_1: 216\n",
            "units_2: 64\n",
            "units_3: 248\n",
            "units_4: 32\n",
            "units_5: 96\n",
            "units_6: 8\n",
            "units_7: 8\n",
            "Score: 27.67123794555664\n",
            "Trial summary\n",
            "Hyperparameters:\n",
            "num_layers: 8\n",
            "units_0: 96\n",
            "dropout: False\n",
            "learning_rate: 0.00016282573514922666\n",
            "Dropout_rate: 0.4\n",
            "units_1: 120\n",
            "units_2: 104\n",
            "units_3: 40\n",
            "units_4: 216\n",
            "units_5: 56\n",
            "units_6: 152\n",
            "units_7: 152\n",
            "Score: 27.895286560058594\n",
            "Trial summary\n",
            "Hyperparameters:\n",
            "num_layers: 9\n",
            "units_0: 224\n",
            "dropout: False\n",
            "learning_rate: 0.00016598067936267184\n",
            "Dropout_rate: 0.0\n",
            "units_1: 112\n",
            "units_2: 16\n",
            "units_3: 200\n",
            "units_4: 192\n",
            "units_5: 56\n",
            "units_6: 64\n",
            "units_7: 96\n",
            "units_8: 8\n",
            "Score: 27.916677474975586\n",
            "Trial summary\n",
            "Hyperparameters:\n",
            "num_layers: 8\n",
            "units_0: 96\n",
            "dropout: False\n",
            "learning_rate: 0.0019152928071079563\n",
            "Dropout_rate: 0.2\n",
            "units_1: 160\n",
            "units_2: 232\n",
            "units_3: 24\n",
            "units_4: 128\n",
            "units_5: 56\n",
            "units_6: 120\n",
            "units_7: 160\n",
            "Score: 27.977737426757812\n",
            "Trial summary\n",
            "Hyperparameters:\n",
            "num_layers: 5\n",
            "units_0: 168\n",
            "dropout: True\n",
            "learning_rate: 0.0007905544711302536\n",
            "Dropout_rate: 0.1\n",
            "units_1: 96\n",
            "units_2: 112\n",
            "units_3: 88\n",
            "units_4: 208\n",
            "units_5: 8\n",
            "units_6: 136\n",
            "units_7: 88\n",
            "Score: 28.00272560119629\n"
          ]
        }
      ],
      "source": [
        "tuner.results_summary()"
      ]
    },
    {
      "cell_type": "code",
      "execution_count": null,
      "id": "FBpLenJ_DZMX",
      "metadata": {
        "id": "FBpLenJ_DZMX"
      },
      "outputs": [],
      "source": [
        "from warnings import filterwarnings\n",
        "filterwarnings('ignore')"
      ]
    },
    {
      "cell_type": "code",
      "execution_count": null,
      "id": "eL-a8rAv8Gvg",
      "metadata": {
        "colab": {
          "base_uri": "https://localhost:8080/"
        },
        "id": "eL-a8rAv8Gvg",
        "outputId": "9a4d8aa3-e282-4d3a-dea5-669f3891c737"
      },
      "outputs": [
        {
          "name": "stdout",
          "output_type": "stream",
          "text": [
            "WARNING:tensorflow:Unresolved object in checkpoint: (root).layer_with_weights-0.kernel\n",
            "WARNING:tensorflow:Unresolved object in checkpoint: (root).layer_with_weights-0.bias\n",
            "WARNING:tensorflow:Unresolved object in checkpoint: (root).layer_with_weights-1.kernel\n",
            "WARNING:tensorflow:Unresolved object in checkpoint: (root).layer_with_weights-1.bias\n",
            "WARNING:tensorflow:Unresolved object in checkpoint: (root).layer_with_weights-2.kernel\n",
            "WARNING:tensorflow:Unresolved object in checkpoint: (root).layer_with_weights-2.bias\n",
            "WARNING:tensorflow:Unresolved object in checkpoint: (root).layer_with_weights-3.kernel\n",
            "WARNING:tensorflow:Unresolved object in checkpoint: (root).layer_with_weights-3.bias\n",
            "WARNING:tensorflow:Unresolved object in checkpoint: (root).optimizer.iter\n",
            "WARNING:tensorflow:Unresolved object in checkpoint: (root).optimizer.beta_1\n",
            "WARNING:tensorflow:Unresolved object in checkpoint: (root).optimizer.beta_2\n",
            "WARNING:tensorflow:Unresolved object in checkpoint: (root).optimizer.decay\n",
            "WARNING:tensorflow:Unresolved object in checkpoint: (root).optimizer.learning_rate\n",
            "WARNING:tensorflow:Unresolved object in checkpoint: (root).optimizer's state 'm' for (root).layer_with_weights-0.kernel\n",
            "WARNING:tensorflow:Unresolved object in checkpoint: (root).optimizer's state 'm' for (root).layer_with_weights-0.bias\n",
            "WARNING:tensorflow:Unresolved object in checkpoint: (root).optimizer's state 'm' for (root).layer_with_weights-1.kernel\n",
            "WARNING:tensorflow:Unresolved object in checkpoint: (root).optimizer's state 'm' for (root).layer_with_weights-1.bias\n",
            "WARNING:tensorflow:Unresolved object in checkpoint: (root).optimizer's state 'm' for (root).layer_with_weights-2.kernel\n",
            "WARNING:tensorflow:Unresolved object in checkpoint: (root).optimizer's state 'm' for (root).layer_with_weights-2.bias\n",
            "WARNING:tensorflow:Unresolved object in checkpoint: (root).optimizer's state 'm' for (root).layer_with_weights-3.kernel\n",
            "WARNING:tensorflow:Unresolved object in checkpoint: (root).optimizer's state 'm' for (root).layer_with_weights-3.bias\n",
            "WARNING:tensorflow:Unresolved object in checkpoint: (root).optimizer's state 'v' for (root).layer_with_weights-0.kernel\n",
            "WARNING:tensorflow:Unresolved object in checkpoint: (root).optimizer's state 'v' for (root).layer_with_weights-0.bias\n",
            "WARNING:tensorflow:Unresolved object in checkpoint: (root).optimizer's state 'v' for (root).layer_with_weights-1.kernel\n",
            "WARNING:tensorflow:Unresolved object in checkpoint: (root).optimizer's state 'v' for (root).layer_with_weights-1.bias\n",
            "WARNING:tensorflow:Unresolved object in checkpoint: (root).optimizer's state 'v' for (root).layer_with_weights-2.kernel\n",
            "WARNING:tensorflow:Unresolved object in checkpoint: (root).optimizer's state 'v' for (root).layer_with_weights-2.bias\n",
            "WARNING:tensorflow:Unresolved object in checkpoint: (root).optimizer's state 'v' for (root).layer_with_weights-3.kernel\n",
            "WARNING:tensorflow:Unresolved object in checkpoint: (root).optimizer's state 'v' for (root).layer_with_weights-3.bias\n",
            "WARNING:tensorflow:A checkpoint was restored (e.g. tf.train.Checkpoint.restore or tf.keras.Model.load_weights) but not all checkpointed values were used. See above for specific issues. Use expect_partial() on the load status object, e.g. tf.train.Checkpoint.restore(...).expect_partial(), to silence these warnings, or use assert_consumed() to make the check explicit. See https://www.tensorflow.org/guide/checkpoint#loading_mechanics for details.\n",
            "Model: \"sequential\"\n",
            "_________________________________________________________________\n",
            " Layer (type)                Output Shape              Param #   \n",
            "=================================================================\n",
            " dense (Dense)               (None, 56)                1400      \n",
            "                                                                 \n",
            " dense_1 (Dense)             (None, 192)               10944     \n",
            "                                                                 \n",
            " dense_2 (Dense)             (None, 184)               35512     \n",
            "                                                                 \n",
            " dense_3 (Dense)             (None, 136)               25160     \n",
            "                                                                 \n",
            " dense_4 (Dense)             (None, 184)               25208     \n",
            "                                                                 \n",
            " dense_5 (Dense)             (None, 8)                 1480      \n",
            "                                                                 \n",
            " dense_6 (Dense)             (None, 1)                 9         \n",
            "                                                                 \n",
            "=================================================================\n",
            "Total params: 99,713\n",
            "Trainable params: 99,713\n",
            "Non-trainable params: 0\n",
            "_________________________________________________________________\n"
          ]
        }
      ],
      "source": [
        "models = tuner.get_best_models(num_models=2)\n",
        "best_model = models[0]\n",
        "# Build the model.\n",
        "# Needed for `Sequential` without specified `input_shape`.\n",
        "best_model.build(input_shape=(None, 24))\n",
        "best_model.summary()"
      ]
    },
    {
      "cell_type": "code",
      "execution_count": 15,
      "id": "ovKDjDHZEmLV",
      "metadata": {
        "id": "ovKDjDHZEmLV"
      },
      "outputs": [],
      "source": [
        "from tensorflow.keras import optimizers\n",
        "from tensorflow.keras.layers import LeakyReLU, BatchNormalization"
      ]
    },
    {
      "cell_type": "code",
      "execution_count": 24,
      "id": "0e187ddc",
      "metadata": {
        "colab": {
          "base_uri": "https://localhost:8080/"
        },
        "id": "0e187ddc",
        "outputId": "8b89d0f1-ab02-4b13-ecbf-112bc8d05029"
      },
      "outputs": [
        {
          "output_type": "stream",
          "name": "stdout",
          "text": [
            "Epoch 1/100\n",
            "889/889 [==============================] - 8s 8ms/step - loss: 32.1124 - mape: 32.1124 - val_loss: 18.8846 - val_mape: 18.8846\n",
            "Epoch 2/100\n",
            "889/889 [==============================] - 6s 7ms/step - loss: 18.8800 - mape: 18.8800 - val_loss: 16.3026 - val_mape: 16.3026\n",
            "Epoch 3/100\n",
            "889/889 [==============================] - 6s 7ms/step - loss: 16.8428 - mape: 16.8428 - val_loss: 15.2429 - val_mape: 15.2429\n",
            "Epoch 4/100\n",
            "889/889 [==============================] - 6s 7ms/step - loss: 15.7882 - mape: 15.7882 - val_loss: 14.5407 - val_mape: 14.5407\n",
            "Epoch 5/100\n",
            "889/889 [==============================] - 6s 7ms/step - loss: 15.0995 - mape: 15.0995 - val_loss: 14.0586 - val_mape: 14.0586\n",
            "Epoch 6/100\n",
            "889/889 [==============================] - 6s 7ms/step - loss: 14.6149 - mape: 14.6149 - val_loss: 13.7065 - val_mape: 13.7065\n",
            "Epoch 7/100\n",
            "889/889 [==============================] - 6s 7ms/step - loss: 14.2998 - mape: 14.2998 - val_loss: 13.5454 - val_mape: 13.5454\n",
            "Epoch 8/100\n",
            "889/889 [==============================] - 6s 7ms/step - loss: 14.1016 - mape: 14.1016 - val_loss: 13.5151 - val_mape: 13.5151\n",
            "Epoch 9/100\n",
            "889/889 [==============================] - 6s 7ms/step - loss: 13.9345 - mape: 13.9345 - val_loss: 13.4277 - val_mape: 13.4277\n",
            "Epoch 10/100\n",
            "889/889 [==============================] - 6s 7ms/step - loss: 13.8209 - mape: 13.8209 - val_loss: 13.2270 - val_mape: 13.2270\n",
            "Epoch 11/100\n",
            "889/889 [==============================] - 6s 7ms/step - loss: 13.7475 - mape: 13.7475 - val_loss: 13.1932 - val_mape: 13.1932\n",
            "Epoch 12/100\n",
            "889/889 [==============================] - 6s 7ms/step - loss: 13.6941 - mape: 13.6941 - val_loss: 13.1957 - val_mape: 13.1957\n",
            "Epoch 13/100\n",
            "889/889 [==============================] - 6s 7ms/step - loss: 13.6441 - mape: 13.6441 - val_loss: 13.2151 - val_mape: 13.2151\n",
            "Epoch 14/100\n",
            "889/889 [==============================] - 6s 7ms/step - loss: 13.6078 - mape: 13.6078 - val_loss: 13.1619 - val_mape: 13.1619\n",
            "Epoch 15/100\n",
            "889/889 [==============================] - 6s 7ms/step - loss: 13.5828 - mape: 13.5828 - val_loss: 13.2513 - val_mape: 13.2513\n",
            "Epoch 16/100\n",
            "889/889 [==============================] - 6s 7ms/step - loss: 13.5544 - mape: 13.5544 - val_loss: 13.0654 - val_mape: 13.0654\n",
            "Epoch 17/100\n",
            "889/889 [==============================] - 6s 7ms/step - loss: 13.5496 - mape: 13.5496 - val_loss: 13.1831 - val_mape: 13.1831\n",
            "Epoch 18/100\n",
            "889/889 [==============================] - 6s 7ms/step - loss: 13.5258 - mape: 13.5258 - val_loss: 13.0149 - val_mape: 13.0149\n",
            "Epoch 19/100\n",
            "889/889 [==============================] - 6s 7ms/step - loss: 13.5126 - mape: 13.5126 - val_loss: 12.9996 - val_mape: 12.9996\n",
            "Epoch 20/100\n",
            "889/889 [==============================] - 6s 7ms/step - loss: 13.5022 - mape: 13.5022 - val_loss: 13.0346 - val_mape: 13.0346\n",
            "Epoch 21/100\n",
            "889/889 [==============================] - 6s 7ms/step - loss: 13.4841 - mape: 13.4841 - val_loss: 13.2254 - val_mape: 13.2254\n",
            "Epoch 22/100\n",
            "889/889 [==============================] - 7s 7ms/step - loss: 13.4722 - mape: 13.4722 - val_loss: 13.2243 - val_mape: 13.2243\n",
            "Epoch 23/100\n",
            "889/889 [==============================] - 7s 7ms/step - loss: 13.4550 - mape: 13.4550 - val_loss: 13.1285 - val_mape: 13.1285\n",
            "Epoch 24/100\n",
            "889/889 [==============================] - 6s 7ms/step - loss: 13.4559 - mape: 13.4559 - val_loss: 12.9931 - val_mape: 12.9931\n",
            "Epoch 25/100\n",
            "889/889 [==============================] - 6s 7ms/step - loss: 13.4387 - mape: 13.4387 - val_loss: 13.1085 - val_mape: 13.1085\n",
            "Epoch 26/100\n",
            "889/889 [==============================] - 7s 7ms/step - loss: 13.4434 - mape: 13.4434 - val_loss: 13.0069 - val_mape: 13.0069\n",
            "Epoch 27/100\n",
            "889/889 [==============================] - 6s 7ms/step - loss: 13.4313 - mape: 13.4313 - val_loss: 13.0976 - val_mape: 13.0976\n",
            "Epoch 28/100\n",
            "889/889 [==============================] - 6s 7ms/step - loss: 13.4053 - mape: 13.4053 - val_loss: 13.0611 - val_mape: 13.0611\n",
            "Epoch 29/100\n",
            "889/889 [==============================] - 6s 7ms/step - loss: 13.4112 - mape: 13.4112 - val_loss: 12.9226 - val_mape: 12.9226\n",
            "Epoch 30/100\n",
            "889/889 [==============================] - 7s 7ms/step - loss: 13.4016 - mape: 13.4016 - val_loss: 13.0920 - val_mape: 13.0920\n",
            "Epoch 31/100\n",
            "889/889 [==============================] - 6s 7ms/step - loss: 13.3952 - mape: 13.3952 - val_loss: 12.9293 - val_mape: 12.9293\n",
            "Epoch 32/100\n",
            "889/889 [==============================] - 6s 7ms/step - loss: 13.3861 - mape: 13.3861 - val_loss: 12.9650 - val_mape: 12.9650\n",
            "Epoch 33/100\n",
            "889/889 [==============================] - 6s 7ms/step - loss: 13.3752 - mape: 13.3752 - val_loss: 13.0374 - val_mape: 13.0374\n",
            "Epoch 34/100\n",
            "889/889 [==============================] - 6s 7ms/step - loss: 13.3756 - mape: 13.3756 - val_loss: 12.9716 - val_mape: 12.9716\n",
            "Epoch 35/100\n",
            "889/889 [==============================] - 7s 7ms/step - loss: 13.3635 - mape: 13.3635 - val_loss: 13.2157 - val_mape: 13.2157\n",
            "Epoch 36/100\n",
            "889/889 [==============================] - 6s 7ms/step - loss: 13.3519 - mape: 13.3519 - val_loss: 12.9783 - val_mape: 12.9783\n",
            "Epoch 37/100\n",
            "889/889 [==============================] - 6s 7ms/step - loss: 13.3499 - mape: 13.3499 - val_loss: 12.9631 - val_mape: 12.9631\n",
            "Epoch 38/100\n",
            "889/889 [==============================] - 6s 7ms/step - loss: 13.3426 - mape: 13.3426 - val_loss: 12.9771 - val_mape: 12.9771\n",
            "Epoch 39/100\n",
            "889/889 [==============================] - 7s 7ms/step - loss: 13.3263 - mape: 13.3263 - val_loss: 13.1473 - val_mape: 13.1473\n",
            "Epoch 40/100\n",
            "889/889 [==============================] - 7s 7ms/step - loss: 13.3269 - mape: 13.3269 - val_loss: 12.9226 - val_mape: 12.9226\n",
            "Epoch 41/100\n",
            "889/889 [==============================] - 6s 7ms/step - loss: 13.3127 - mape: 13.3127 - val_loss: 13.2673 - val_mape: 13.2673\n",
            "Epoch 42/100\n",
            "889/889 [==============================] - 6s 7ms/step - loss: 13.3210 - mape: 13.3210 - val_loss: 12.8884 - val_mape: 12.8884\n",
            "Epoch 43/100\n",
            "889/889 [==============================] - 7s 7ms/step - loss: 13.3186 - mape: 13.3186 - val_loss: 12.9471 - val_mape: 12.9471\n",
            "Epoch 44/100\n",
            "889/889 [==============================] - 7s 7ms/step - loss: 13.3091 - mape: 13.3091 - val_loss: 12.8839 - val_mape: 12.8839\n",
            "Epoch 45/100\n",
            "889/889 [==============================] - 7s 7ms/step - loss: 13.2916 - mape: 13.2916 - val_loss: 12.8840 - val_mape: 12.8840\n",
            "Epoch 46/100\n",
            "889/889 [==============================] - 7s 7ms/step - loss: 13.3010 - mape: 13.3010 - val_loss: 12.8855 - val_mape: 12.8855\n",
            "Epoch 47/100\n",
            "889/889 [==============================] - 7s 7ms/step - loss: 13.3107 - mape: 13.3107 - val_loss: 12.8625 - val_mape: 12.8625\n",
            "Epoch 48/100\n",
            "889/889 [==============================] - 6s 7ms/step - loss: 13.3007 - mape: 13.3007 - val_loss: 13.3166 - val_mape: 13.3166\n",
            "Epoch 49/100\n",
            "889/889 [==============================] - 7s 7ms/step - loss: 13.2975 - mape: 13.2975 - val_loss: 12.9083 - val_mape: 12.9083\n",
            "Epoch 50/100\n",
            "889/889 [==============================] - 6s 7ms/step - loss: 13.3074 - mape: 13.3074 - val_loss: 12.9429 - val_mape: 12.9429\n",
            "Epoch 51/100\n",
            "889/889 [==============================] - 6s 7ms/step - loss: 13.2826 - mape: 13.2826 - val_loss: 12.9277 - val_mape: 12.9277\n",
            "Epoch 52/100\n",
            "889/889 [==============================] - 6s 7ms/step - loss: 13.2728 - mape: 13.2728 - val_loss: 13.0009 - val_mape: 13.0009\n",
            "Epoch 53/100\n",
            "889/889 [==============================] - 6s 7ms/step - loss: 13.2737 - mape: 13.2737 - val_loss: 12.8956 - val_mape: 12.8956\n",
            "Epoch 54/100\n",
            "889/889 [==============================] - 6s 7ms/step - loss: 13.2782 - mape: 13.2782 - val_loss: 12.9062 - val_mape: 12.9062\n",
            "Epoch 55/100\n",
            "889/889 [==============================] - 6s 7ms/step - loss: 13.2648 - mape: 13.2648 - val_loss: 12.9391 - val_mape: 12.9391\n",
            "Epoch 56/100\n",
            "889/889 [==============================] - 6s 7ms/step - loss: 13.2580 - mape: 13.2580 - val_loss: 13.0455 - val_mape: 13.0455\n",
            "Epoch 57/100\n",
            "889/889 [==============================] - 6s 7ms/step - loss: 13.2684 - mape: 13.2684 - val_loss: 12.9641 - val_mape: 12.9641\n",
            "Epoch 58/100\n",
            "889/889 [==============================] - 6s 7ms/step - loss: 13.2583 - mape: 13.2583 - val_loss: 13.0113 - val_mape: 13.0113\n",
            "Epoch 59/100\n",
            "889/889 [==============================] - 7s 7ms/step - loss: 13.2629 - mape: 13.2629 - val_loss: 12.8899 - val_mape: 12.8899\n",
            "Epoch 60/100\n",
            "889/889 [==============================] - 7s 7ms/step - loss: 13.2530 - mape: 13.2530 - val_loss: 12.9945 - val_mape: 12.9945\n",
            "Epoch 61/100\n",
            "889/889 [==============================] - 6s 7ms/step - loss: 13.2377 - mape: 13.2377 - val_loss: 12.9699 - val_mape: 12.9699\n",
            "Epoch 62/100\n",
            "889/889 [==============================] - 7s 7ms/step - loss: 13.2395 - mape: 13.2395 - val_loss: 12.9709 - val_mape: 12.9709\n",
            "Epoch 63/100\n",
            "889/889 [==============================] - 7s 7ms/step - loss: 13.2367 - mape: 13.2367 - val_loss: 12.9051 - val_mape: 12.9051\n",
            "Epoch 64/100\n",
            "889/889 [==============================] - 6s 7ms/step - loss: 13.2474 - mape: 13.2474 - val_loss: 12.9565 - val_mape: 12.9565\n",
            "Epoch 65/100\n",
            "889/889 [==============================] - 6s 7ms/step - loss: 13.2377 - mape: 13.2377 - val_loss: 12.9242 - val_mape: 12.9242\n",
            "Epoch 66/100\n",
            "889/889 [==============================] - 7s 7ms/step - loss: 13.2442 - mape: 13.2442 - val_loss: 12.8894 - val_mape: 12.8894\n",
            "Epoch 67/100\n",
            "889/889 [==============================] - 6s 7ms/step - loss: 13.2309 - mape: 13.2309 - val_loss: 13.0358 - val_mape: 13.0358\n",
            "Epoch 68/100\n",
            "889/889 [==============================] - 7s 7ms/step - loss: 13.2171 - mape: 13.2171 - val_loss: 12.9123 - val_mape: 12.9123\n",
            "Epoch 69/100\n",
            "889/889 [==============================] - 7s 7ms/step - loss: 13.2357 - mape: 13.2357 - val_loss: 12.8867 - val_mape: 12.8867\n",
            "Epoch 70/100\n",
            "889/889 [==============================] - 7s 7ms/step - loss: 13.2259 - mape: 13.2259 - val_loss: 12.8806 - val_mape: 12.8806\n",
            "Epoch 71/100\n",
            "889/889 [==============================] - 7s 7ms/step - loss: 13.2256 - mape: 13.2256 - val_loss: 12.9317 - val_mape: 12.9317\n",
            "Epoch 72/100\n",
            "889/889 [==============================] - 7s 7ms/step - loss: 13.2119 - mape: 13.2119 - val_loss: 12.8926 - val_mape: 12.8926\n",
            "Epoch 73/100\n",
            "889/889 [==============================] - 7s 7ms/step - loss: 13.2133 - mape: 13.2133 - val_loss: 12.9541 - val_mape: 12.9541\n",
            "Epoch 74/100\n",
            "889/889 [==============================] - 6s 7ms/step - loss: 13.2251 - mape: 13.2251 - val_loss: 12.9725 - val_mape: 12.9725\n",
            "Epoch 75/100\n",
            "889/889 [==============================] - 6s 7ms/step - loss: 13.2138 - mape: 13.2138 - val_loss: 13.0091 - val_mape: 13.0091\n",
            "Epoch 76/100\n",
            "889/889 [==============================] - 6s 7ms/step - loss: 13.2217 - mape: 13.2217 - val_loss: 13.1004 - val_mape: 13.1004\n",
            "Epoch 77/100\n",
            "889/889 [==============================] - 7s 7ms/step - loss: 13.2089 - mape: 13.2089 - val_loss: 13.0080 - val_mape: 13.0080\n",
            "Epoch 78/100\n",
            "889/889 [==============================] - 7s 7ms/step - loss: 13.2002 - mape: 13.2002 - val_loss: 12.9166 - val_mape: 12.9166\n",
            "Epoch 79/100\n",
            "889/889 [==============================] - 7s 7ms/step - loss: 13.2097 - mape: 13.2097 - val_loss: 12.8614 - val_mape: 12.8614\n",
            "Epoch 80/100\n",
            "889/889 [==============================] - 7s 7ms/step - loss: 13.2111 - mape: 13.2111 - val_loss: 12.9781 - val_mape: 12.9781\n",
            "Epoch 81/100\n",
            "889/889 [==============================] - 7s 7ms/step - loss: 13.2002 - mape: 13.2002 - val_loss: 12.8789 - val_mape: 12.8789\n",
            "Epoch 82/100\n",
            "889/889 [==============================] - 7s 7ms/step - loss: 13.1934 - mape: 13.1934 - val_loss: 12.9621 - val_mape: 12.9621\n",
            "Epoch 83/100\n",
            "889/889 [==============================] - 7s 7ms/step - loss: 13.2059 - mape: 13.2059 - val_loss: 12.8243 - val_mape: 12.8243\n",
            "Epoch 84/100\n",
            "889/889 [==============================] - 7s 7ms/step - loss: 13.1849 - mape: 13.1849 - val_loss: 12.9300 - val_mape: 12.9300\n",
            "Epoch 85/100\n",
            "889/889 [==============================] - 7s 7ms/step - loss: 13.1813 - mape: 13.1813 - val_loss: 13.0342 - val_mape: 13.0342\n",
            "Epoch 86/100\n",
            "889/889 [==============================] - 7s 7ms/step - loss: 13.1873 - mape: 13.1873 - val_loss: 12.9074 - val_mape: 12.9074\n",
            "Epoch 87/100\n",
            "889/889 [==============================] - 6s 7ms/step - loss: 13.1952 - mape: 13.1952 - val_loss: 12.8663 - val_mape: 12.8663\n",
            "Epoch 88/100\n",
            "889/889 [==============================] - 7s 7ms/step - loss: 13.1809 - mape: 13.1809 - val_loss: 12.9362 - val_mape: 12.9362\n",
            "Epoch 89/100\n",
            "889/889 [==============================] - 7s 7ms/step - loss: 13.1929 - mape: 13.1929 - val_loss: 13.0618 - val_mape: 13.0618\n",
            "Epoch 90/100\n",
            "889/889 [==============================] - 6s 7ms/step - loss: 13.1777 - mape: 13.1777 - val_loss: 12.9039 - val_mape: 12.9039\n",
            "Epoch 91/100\n",
            "889/889 [==============================] - 6s 7ms/step - loss: 13.1798 - mape: 13.1798 - val_loss: 13.0042 - val_mape: 13.0042\n",
            "Epoch 92/100\n",
            "889/889 [==============================] - 6s 7ms/step - loss: 13.1857 - mape: 13.1857 - val_loss: 12.8444 - val_mape: 12.8444\n",
            "Epoch 93/100\n",
            "889/889 [==============================] - 6s 7ms/step - loss: 13.1813 - mape: 13.1813 - val_loss: 12.8779 - val_mape: 12.8779\n",
            "Epoch 94/100\n",
            "889/889 [==============================] - 6s 7ms/step - loss: 13.1728 - mape: 13.1728 - val_loss: 12.9080 - val_mape: 12.9080\n",
            "Epoch 95/100\n",
            "889/889 [==============================] - 6s 7ms/step - loss: 13.1714 - mape: 13.1714 - val_loss: 12.8653 - val_mape: 12.8653\n",
            "Epoch 96/100\n",
            "889/889 [==============================] - 7s 7ms/step - loss: 13.1787 - mape: 13.1787 - val_loss: 12.9318 - val_mape: 12.9318\n",
            "Epoch 97/100\n",
            "889/889 [==============================] - 7s 7ms/step - loss: 13.1805 - mape: 13.1805 - val_loss: 12.8674 - val_mape: 12.8674\n",
            "Epoch 98/100\n",
            "889/889 [==============================] - 7s 7ms/step - loss: 13.1658 - mape: 13.1658 - val_loss: 12.8760 - val_mape: 12.8760\n",
            "Epoch 99/100\n",
            "889/889 [==============================] - 6s 7ms/step - loss: 13.1658 - mape: 13.1658 - val_loss: 13.0497 - val_mape: 13.0497\n",
            "Epoch 100/100\n",
            "889/889 [==============================] - 7s 7ms/step - loss: 13.1617 - mape: 13.1617 - val_loss: 12.9553 - val_mape: 12.9553\n"
          ]
        }
      ],
      "source": [
        "model = Sequential()\n",
        "model.add(SimpleRNN(16,activation='relu',input_shape=(1,look_back),return_sequences=True))\n",
        "model.add(SimpleRNN(8,activation='relu'))\n",
        "model.add(Dense(1,activation='linear'))\n",
        "ad=optimizers.Adam(learning_rate=0.00015984373913224)\n",
        "model.compile(optimizer = ad, loss = 'mape', metrics = ['mape'])\n",
        "model_history=model.fit(trainX, trainY,validation_data=(testX,testY), batch_size = 36, epochs = 100)"
      ]
    },
    {
      "cell_type": "code",
      "execution_count": 17,
      "id": "77c05906",
      "metadata": {
        "id": "77c05906"
      },
      "outputs": [],
      "source": [
        "def model_loss(history):\n",
        "    plt.figure(figsize=(8,4))\n",
        "    plt.plot(history.history['loss'], label='Train Loss')\n",
        "    plt.plot(history.history['val_loss'], label='Test Loss')\n",
        "    plt.title('model loss')\n",
        "    plt.ylabel('loss')\n",
        "    plt.xlabel('epochs')\n",
        "    plt.legend(loc='upper right')\n",
        "    plt.show();"
      ]
    },
    {
      "cell_type": "code",
      "execution_count": 25,
      "id": "f8eb5958",
      "metadata": {
        "id": "f8eb5958"
      },
      "outputs": [],
      "source": [
        "train_score = model.evaluate(trainX, trainY,verbose=0)\n",
        "test_score = model.evaluate(testX, testY,verbose=0)"
      ]
    },
    {
      "cell_type": "code",
      "execution_count": 26,
      "id": "45a22c27",
      "metadata": {
        "colab": {
          "base_uri": "https://localhost:8080/",
          "height": 329
        },
        "id": "45a22c27",
        "outputId": "0e7cb8a7-abc7-4f18-a54d-14544d006a43"
      },
      "outputs": [
        {
          "output_type": "stream",
          "name": "stdout",
          "text": [
            "Train MAPE : 13.25 \n",
            "Test MAPE : 12.96 \n"
          ]
        },
        {
          "output_type": "display_data",
          "data": {
            "text/plain": [
              "<Figure size 576x288 with 1 Axes>"
            ],
            "image/png": "[encoded data removed]"
          },
          "metadata": {
            "needs_background": "light"
          }
        }
      ],
      "source": [
        "train_predict = model.predict(trainX)\n",
        "test_predict = model.predict(testX)\n",
        "\n",
        "# invert predictions\n",
        "train_predict = scaler.inverse_transform(train_predict)\n",
        "trainY = scaler.inverse_transform([trainY])\n",
        "test_predict = scaler.inverse_transform(test_predict)\n",
        "testY = scaler.inverse_transform([testY])\n",
        "print('Train MAPE : %.2f ' % (train_score[1]))\n",
        "print('Test MAPE : %.2f ' % (test_score[1]))\n",
        "model_loss(model_history)"
      ]
    },
    {
      "cell_type": "code",
      "execution_count": 20,
      "id": "dc942f74",
      "metadata": {
        "id": "dc942f74"
      },
      "outputs": [],
      "source": [
        "import seaborn as sns"
      ]
    },
    {
      "cell_type": "code",
      "execution_count": 21,
      "id": "dee9bab8",
      "metadata": {
        "id": "dee9bab8"
      },
      "outputs": [],
      "source": [
        "def prediction_plot(testY, test_predict,look_back):\n",
        "    len_prediction=[x for x in range(31977,35906)]\n",
        "    plt.plot(trainY.reshape(-1,))\n",
        "    plt.plot(len_prediction, testY.reshape(-1,), marker='.', label='actual')\n",
        "    plt.plot(len_prediction, test_predict, 'g', label=\"prediction\")\n",
        "    plt.tight_layout()\n",
        "    sns.despine(top=True)\n",
        "    plt.subplots_adjust(left=0.07)\n",
        "    plt.ylabel('Units', size=15)\n",
        "    plt.xlabel('Time step', size=15)\n",
        "    plt.legend(fontsize=15)\n",
        "    plt.show()"
      ]
    },
    {
      "cell_type": "code",
      "execution_count": 27,
      "id": "363040b5",
      "metadata": {
        "colab": {
          "base_uri": "https://localhost:8080/",
          "height": 604
        },
        "id": "363040b5",
        "outputId": "b5beac74-3c00-40b1-f33b-de61767f7d26"
      },
      "outputs": [
        {
          "output_type": "display_data",
          "data": {
            "text/plain": [
              "<Figure size 1080x576 with 1 Axes>"
            ],
            "image/png": "[encoded data removed]"
          },
          "metadata": {
            "needs_background": "light"
          }
        }
      ],
      "source": [
        "test_predict = model.predict(testX)\n",
        "test_predict = scaler.inverse_transform(test_predict)\n",
        "prediction_plot(testY, test_predict,look_back)"
      ]
    },
    {
      "cell_type": "code",
      "execution_count": null,
      "id": "f8a7708c",
      "metadata": {
        "id": "f8a7708c"
      },
      "outputs": [],
      "source": [
        ""
      ]
    }
  ],
  "metadata": {
    "accelerator": "GPU",
    "colab": {
      "collapsed_sections": [],
      "name": "Residential_Power_HPT_RNN_base_model_version_2.ipynb",
      "provenance": []
    },
    "kernelspec": {
      "display_name": "Python 3",
      "language": "python",
      "name": "python3"
    },
    "language_info": {
      "codemirror_mode": {
        "name": "ipython",
        "version": 3
      },
      "file_extension": ".py",
      "mimetype": "text/x-python",
      "name": "python",
      "nbconvert_exporter": "python",
      "pygments_lexer": "ipython3",
      "version": "3.8.8"
    }
  },
  "nbformat": 4,
  "nbformat_minor": 5
}