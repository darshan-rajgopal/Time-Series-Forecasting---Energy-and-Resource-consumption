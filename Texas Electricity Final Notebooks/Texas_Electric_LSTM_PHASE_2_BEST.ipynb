{
  "cells": [
    {
      "cell_type": "code",
      "execution_count": 34,
      "id": "c2ef9b47",
      "metadata": {
        "id": "c2ef9b47"
      },
      "outputs": [],
      "source": [
        "import numpy as np\n",
        "import pandas as pd\n",
        "from tensorflow.keras.models import Sequential\n",
        "from tensorflow.keras.layers import LSTM\n",
        "from tensorflow.keras.layers import Dense\n",
        "from tensorflow.keras.layers import Flatten\n",
        "import matplotlib.pyplot as plt\n",
        "import warnings\n",
        "warnings.filterwarnings('ignore')\n",
        "%matplotlib inline"
      ]
    },
    {
      "cell_type": "code",
      "execution_count": 35,
      "id": "iGQk9lcRmucZ",
      "metadata": {
        "colab": {
          "base_uri": "https://localhost:8080/"
        },
        "id": "iGQk9lcRmucZ",
        "outputId": "26294729-c30d-4681-da63-14228cb151b6"
      },
      "outputs": [
        {
          "output_type": "stream",
          "name": "stdout",
          "text": [
            "Drive already mounted at /content/drive; to attempt to forcibly remount, call drive.mount(\"/content/drive\", force_remount=True).\n"
          ]
        }
      ],
      "source": [
        "from google.colab import drive\n",
        "drive.mount('/content/drive')"
      ]
    },
    {
      "cell_type": "code",
      "execution_count": null,
      "id": "BxDZtfokj6Da",
      "metadata": {
        "id": "BxDZtfokj6Da"
      },
      "outputs": [],
      "source": [
        "import tensorflow as tf\n",
        "tf.test.gpu_device_name()"
      ]
    },
    {
      "cell_type": "code",
      "execution_count": null,
      "id": "UDt4KrAxj6JS",
      "metadata": {
        "id": "UDt4KrAxj6JS"
      },
      "outputs": [],
      "source": [
        "from tensorflow.python.client import device_lib\n",
        "device_lib.list_local_devices()"
      ]
    },
    {
      "cell_type": "code",
      "execution_count": 36,
      "id": "30d066a0",
      "metadata": {
        "colab": {
          "base_uri": "https://localhost:8080/",
          "height": 206
        },
        "id": "30d066a0",
        "outputId": "ff52e4b3-9129-49ee-80ca-11535c3a93af"
      },
      "outputs": [
        {
          "output_type": "execute_result",
          "data": {
            "text/plain": [
              "  Texas - electric power (total coal consumption) - quarterly    short tons\n",
              "0                                           2001 Q1                22164839\n",
              "1                                           2001 Q2                22952510\n",
              "2                                           2001 Q3                25962808\n",
              "3                                           2001 Q4                21357650\n",
              "4                                           2002 Q1                21917084"
            ],
            "text/html": [
              "\n",
              "  <div id=\"df-9ea531c8-497d-4c41-8e10-963984b707f8\">\n",
              "    <div class=\"colab-df-container\">\n",
              "      <div>\n",
              "<style scoped>\n",
              "    .dataframe tbody tr th:only-of-type {\n",
              "        vertical-align: middle;\n",
              "    }\n",
              "\n",
              "    .dataframe tbody tr th {\n",
              "        vertical-align: top;\n",
              "    }\n",
              "\n",
              "    .dataframe thead th {\n",
              "        text-align: right;\n",
              "    }\n",
              "</style>\n",
              "<table border=\"1\" class=\"dataframe\">\n",
              "  <thead>\n",
              "    <tr style=\"text-align: right;\">\n",
              "      <th></th>\n",
              "      <th>Texas - electric power (total coal consumption) - quarterly</th>\n",
              "      <th>short tons</th>\n",
              "    </tr>\n",
              "  </thead>\n",
              "  <tbody>\n",
              "    <tr>\n",
              "      <th>0</th>\n",
              "      <td>2001 Q1</td>\n",
              "      <td>22164839</td>\n",
              "    </tr>\n",
              "    <tr>\n",
              "      <th>1</th>\n",
              "      <td>2001 Q2</td>\n",
              "      <td>22952510</td>\n",
              "    </tr>\n",
              "    <tr>\n",
              "      <th>2</th>\n",
              "      <td>2001 Q3</td>\n",
              "      <td>25962808</td>\n",
              "    </tr>\n",
              "    <tr>\n",
              "      <th>3</th>\n",
              "      <td>2001 Q4</td>\n",
              "      <td>21357650</td>\n",
              "    </tr>\n",
              "    <tr>\n",
              "      <th>4</th>\n",
              "      <td>2002 Q1</td>\n",
              "      <td>21917084</td>\n",
              "    </tr>\n",
              "  </tbody>\n",
              "</table>\n",
              "</div>\n",
              "      <button class=\"colab-df-convert\" onclick=\"convertToInteractive('df-9ea531c8-497d-4c41-8e10-963984b707f8')\"\n",
              "              title=\"Convert this dataframe to an interactive table.\"\n",
              "              style=\"display:none;\">\n",
              "        \n",
              "  <svg xmlns=\"http://www.w3.org/2000/svg\" height=\"24px\"viewBox=\"0 0 24 24\"\n",
              "       width=\"24px\">\n",
              "    <path d=\"M0 0h24v24H0V0z\" fill=\"none\"/>\n",
              "    <path d=\"M18.56 5.44l.94 2.06.94-2.06 2.06-.94-2.06-.94-.94-2.06-.94 2.06-2.06.94zm-11 1L8.5 8.5l.94-2.06 2.06-.94-2.06-.94L8.5 2.5l-.94 2.06-2.06.94zm10 10l.94 2.06.94-2.06 2.06-.94-2.06-.94-.94-2.06-.94 2.06-2.06.94z\"/><path d=\"M17.41 7.96l-1.37-1.37c-.4-.4-.92-.59-1.43-.59-.52 0-1.04.2-1.43.59L10.3 9.45l-7.72 7.72c-.78.78-.78 2.05 0 2.83L4 21.41c.39.39.9.59 1.41.59.51 0 1.02-.2 1.41-.59l7.78-7.78 2.81-2.81c.8-.78.8-2.07 0-2.86zM5.41 20L4 18.59l7.72-7.72 1.47 1.35L5.41 20z\"/>\n",
              "  </svg>\n",
              "      </button>\n",
              "      \n",
              "  <style>\n",
              "    .colab-df-container {\n",
              "      display:flex;\n",
              "      flex-wrap:wrap;\n",
              "      gap: 12px;\n",
              "    }\n",
              "\n",
              "    .colab-df-convert {\n",
              "      background-color: #E8F0FE;\n",
              "      border: none;\n",
              "      border-radius: 50%;\n",
              "      cursor: pointer;\n",
              "      display: none;\n",
              "      fill: #1967D2;\n",
              "      height: 32px;\n",
              "      padding: 0 0 0 0;\n",
              "      width: 32px;\n",
              "    }\n",
              "\n",
              "    .colab-df-convert:hover {\n",
              "      background-color: #E2EBFA;\n",
              "      box-shadow: 0px 1px 2px rgba(60, 64, 67, 0.3), 0px 1px 3px 1px rgba(60, 64, 67, 0.15);\n",
              "      fill: #174EA6;\n",
              "    }\n",
              "\n",
              "    [theme=dark] .colab-df-convert {\n",
              "      background-color: #3B4455;\n",
              "      fill: #D2E3FC;\n",
              "    }\n",
              "\n",
              "    [theme=dark] .colab-df-convert:hover {\n",
              "      background-color: #434B5C;\n",
              "      box-shadow: 0px 1px 3px 1px rgba(0, 0, 0, 0.15);\n",
              "      filter: drop-shadow(0px 1px 2px rgba(0, 0, 0, 0.3));\n",
              "      fill: #FFFFFF;\n",
              "    }\n",
              "  </style>\n",
              "\n",
              "      <script>\n",
              "        const buttonEl =\n",
              "          document.querySelector('#df-9ea531c8-497d-4c41-8e10-963984b707f8 button.colab-df-convert');\n",
              "        buttonEl.style.display =\n",
              "          google.colab.kernel.accessAllowed ? 'block' : 'none';\n",
              "\n",
              "        async function convertToInteractive(key) {\n",
              "          const element = document.querySelector('#df-9ea531c8-497d-4c41-8e10-963984b707f8');\n",
              "          const dataTable =\n",
              "            await google.colab.kernel.invokeFunction('convertToInteractive',\n",
              "                                                     [key], {});\n",
              "          if (!dataTable) return;\n",
              "\n",
              "          const docLinkHtml = 'Like what you see? Visit the ' +\n",
              "            '<a target=\"_blank\" href=https://colab.research.google.com/notebooks/data_table.ipynb>data table notebook</a>'\n",
              "            + ' to learn more about interactive tables.';\n",
              "          element.innerHTML = '';\n",
              "          dataTable['output_type'] = 'display_data';\n",
              "          await google.colab.output.renderOutput(dataTable, element);\n",
              "          const docLink = document.createElement('div');\n",
              "          docLink.innerHTML = docLinkHtml;\n",
              "          element.appendChild(docLink);\n",
              "        }\n",
              "      </script>\n",
              "    </div>\n",
              "  </div>\n",
              "  "
            ]
          },
          "metadata": {},
          "execution_count": 36
        }
      ],
      "source": [
        "df = pd.read_csv('/content/drive/MyDrive/Colab Notebooks/Energy/Texas - total electricity consumption - quarterly (short tons).csv')\n",
        "df.head()"
      ]
    },
    {
      "cell_type": "code",
      "execution_count": null,
      "id": "e2663bb4",
      "metadata": {
        "colab": {
          "base_uri": "https://localhost:8080/",
          "height": 206
        },
        "id": "e2663bb4",
        "outputId": "d97e9fd3-1fe6-45d8-cff6-0d4cf90ecfd0"
      },
      "outputs": [
        {
          "output_type": "execute_result",
          "data": {
            "text/plain": [
              "   Texas - electric power (total coal consumption) - quarterly    short tons\n",
              "75                                           2019 Q4                13866538\n",
              "76                                           2020 Q1                11029285\n",
              "77                                           2020 Q2                12950538\n",
              "78                                           2020 Q3                17219614\n",
              "79                                           2020 Q4                14869537"
            ],
            "text/html": [
              "\n",
              "  <div id=\"df-a5a9157b-6093-4b3c-94c3-9d5431d8af94\">\n",
              "    <div class=\"colab-df-container\">\n",
              "      <div>\n",
              "<style scoped>\n",
              "    .dataframe tbody tr th:only-of-type {\n",
              "        vertical-align: middle;\n",
              "    }\n",
              "\n",
              "    .dataframe tbody tr th {\n",
              "        vertical-align: top;\n",
              "    }\n",
              "\n",
              "    .dataframe thead th {\n",
              "        text-align: right;\n",
              "    }\n",
              "</style>\n",
              "<table border=\"1\" class=\"dataframe\">\n",
              "  <thead>\n",
              "    <tr style=\"text-align: right;\">\n",
              "      <th></th>\n",
              "      <th>Texas - electric power (total coal consumption) - quarterly</th>\n",
              "      <th>short tons</th>\n",
              "    </tr>\n",
              "  </thead>\n",
              "  <tbody>\n",
              "    <tr>\n",
              "      <th>75</th>\n",
              "      <td>2019 Q4</td>\n",
              "      <td>13866538</td>\n",
              "    </tr>\n",
              "    <tr>\n",
              "      <th>76</th>\n",
              "      <td>2020 Q1</td>\n",
              "      <td>11029285</td>\n",
              "    </tr>\n",
              "    <tr>\n",
              "      <th>77</th>\n",
              "      <td>2020 Q2</td>\n",
              "      <td>12950538</td>\n",
              "    </tr>\n",
              "    <tr>\n",
              "      <th>78</th>\n",
              "      <td>2020 Q3</td>\n",
              "      <td>17219614</td>\n",
              "    </tr>\n",
              "    <tr>\n",
              "      <th>79</th>\n",
              "      <td>2020 Q4</td>\n",
              "      <td>14869537</td>\n",
              "    </tr>\n",
              "  </tbody>\n",
              "</table>\n",
              "</div>\n",
              "      <button class=\"colab-df-convert\" onclick=\"convertToInteractive('df-a5a9157b-6093-4b3c-94c3-9d5431d8af94')\"\n",
              "              title=\"Convert this dataframe to an interactive table.\"\n",
              "              style=\"display:none;\">\n",
              "        \n",
              "  <svg xmlns=\"http://www.w3.org/2000/svg\" height=\"24px\"viewBox=\"0 0 24 24\"\n",
              "       width=\"24px\">\n",
              "    <path d=\"M0 0h24v24H0V0z\" fill=\"none\"/>\n",
              "    <path d=\"M18.56 5.44l.94 2.06.94-2.06 2.06-.94-2.06-.94-.94-2.06-.94 2.06-2.06.94zm-11 1L8.5 8.5l.94-2.06 2.06-.94-2.06-.94L8.5 2.5l-.94 2.06-2.06.94zm10 10l.94 2.06.94-2.06 2.06-.94-2.06-.94-.94-2.06-.94 2.06-2.06.94z\"/><path d=\"M17.41 7.96l-1.37-1.37c-.4-.4-.92-.59-1.43-.59-.52 0-1.04.2-1.43.59L10.3 9.45l-7.72 7.72c-.78.78-.78 2.05 0 2.83L4 21.41c.39.39.9.59 1.41.59.51 0 1.02-.2 1.41-.59l7.78-7.78 2.81-2.81c.8-.78.8-2.07 0-2.86zM5.41 20L4 18.59l7.72-7.72 1.47 1.35L5.41 20z\"/>\n",
              "  </svg>\n",
              "      </button>\n",
              "      \n",
              "  <style>\n",
              "    .colab-df-container {\n",
              "      display:flex;\n",
              "      flex-wrap:wrap;\n",
              "      gap: 12px;\n",
              "    }\n",
              "\n",
              "    .colab-df-convert {\n",
              "      background-color: #E8F0FE;\n",
              "      border: none;\n",
              "      border-radius: 50%;\n",
              "      cursor: pointer;\n",
              "      display: none;\n",
              "      fill: #1967D2;\n",
              "      height: 32px;\n",
              "      padding: 0 0 0 0;\n",
              "      width: 32px;\n",
              "    }\n",
              "\n",
              "    .colab-df-convert:hover {\n",
              "      background-color: #E2EBFA;\n",
              "      box-shadow: 0px 1px 2px rgba(60, 64, 67, 0.3), 0px 1px 3px 1px rgba(60, 64, 67, 0.15);\n",
              "      fill: #174EA6;\n",
              "    }\n",
              "\n",
              "    [theme=dark] .colab-df-convert {\n",
              "      background-color: #3B4455;\n",
              "      fill: #D2E3FC;\n",
              "    }\n",
              "\n",
              "    [theme=dark] .colab-df-convert:hover {\n",
              "      background-color: #434B5C;\n",
              "      box-shadow: 0px 1px 3px 1px rgba(0, 0, 0, 0.15);\n",
              "      filter: drop-shadow(0px 1px 2px rgba(0, 0, 0, 0.3));\n",
              "      fill: #FFFFFF;\n",
              "    }\n",
              "  </style>\n",
              "\n",
              "      <script>\n",
              "        const buttonEl =\n",
              "          document.querySelector('#df-a5a9157b-6093-4b3c-94c3-9d5431d8af94 button.colab-df-convert');\n",
              "        buttonEl.style.display =\n",
              "          google.colab.kernel.accessAllowed ? 'block' : 'none';\n",
              "\n",
              "        async function convertToInteractive(key) {\n",
              "          const element = document.querySelector('#df-a5a9157b-6093-4b3c-94c3-9d5431d8af94');\n",
              "          const dataTable =\n",
              "            await google.colab.kernel.invokeFunction('convertToInteractive',\n",
              "                                                     [key], {});\n",
              "          if (!dataTable) return;\n",
              "\n",
              "          const docLinkHtml = 'Like what you see? Visit the ' +\n",
              "            '<a target=\"_blank\" href=https://colab.research.google.com/notebooks/data_table.ipynb>data table notebook</a>'\n",
              "            + ' to learn more about interactive tables.';\n",
              "          element.innerHTML = '';\n",
              "          dataTable['output_type'] = 'display_data';\n",
              "          await google.colab.output.renderOutput(dataTable, element);\n",
              "          const docLink = document.createElement('div');\n",
              "          docLink.innerHTML = docLinkHtml;\n",
              "          element.appendChild(docLink);\n",
              "        }\n",
              "      </script>\n",
              "    </div>\n",
              "  </div>\n",
              "  "
            ]
          },
          "metadata": {},
          "execution_count": 4
        }
      ],
      "source": [
        "df.tail()"
      ]
    },
    {
      "cell_type": "code",
      "execution_count": null,
      "id": "0482272d",
      "metadata": {
        "colab": {
          "base_uri": "https://localhost:8080/"
        },
        "id": "0482272d",
        "outputId": "e0a2aec2-d8f4-4113-f8ff-804812b63735"
      },
      "outputs": [
        {
          "data": {
            "text/plain": [
              "(80, 2)"
            ]
          },
          "execution_count": 89,
          "metadata": {},
          "output_type": "execute_result"
        }
      ],
      "source": [
        "df.shape"
      ]
    },
    {
      "cell_type": "code",
      "execution_count": null,
      "id": "076f1ad3",
      "metadata": {
        "colab": {
          "base_uri": "https://localhost:8080/"
        },
        "id": "076f1ad3",
        "outputId": "af6a9bc8-731f-42a3-8ea0-97528c13f6b1"
      },
      "outputs": [
        {
          "name": "stdout",
          "output_type": "stream",
          "text": [
            "<class 'pandas.core.frame.DataFrame'>\n",
            "RangeIndex: 80 entries, 0 to 79\n",
            "Data columns (total 2 columns):\n",
            " #   Column                                                        Non-Null Count  Dtype \n",
            "---  ------                                                        --------------  ----- \n",
            " 0   Texas - electric power (total coal consumption) - quarterly   80 non-null     object\n",
            " 1    short tons                                                   80 non-null     int64 \n",
            "dtypes: int64(1), object(1)\n",
            "memory usage: 1.4+ KB\n"
          ]
        }
      ],
      "source": [
        "df.info()"
      ]
    },
    {
      "cell_type": "code",
      "execution_count": null,
      "id": "IKYuy6u9oVZN",
      "metadata": {
        "colab": {
          "base_uri": "https://localhost:8080/"
        },
        "id": "IKYuy6u9oVZN",
        "outputId": "d8daba8c-219d-4b6c-f4da-b0502ec7e895"
      },
      "outputs": [
        {
          "data": {
            "text/plain": [
              "Texas - electric power (total coal consumption) - quarterly     0\n",
              " short tons                                                     0\n",
              "dtype: int64"
            ]
          },
          "execution_count": 7,
          "metadata": {},
          "output_type": "execute_result"
        }
      ],
      "source": [
        "df.isnull().sum()"
      ]
    },
    {
      "cell_type": "code",
      "execution_count": 37,
      "id": "93827e39",
      "metadata": {
        "id": "93827e39"
      },
      "outputs": [],
      "source": [
        "time = pd.date_range(start='1/1/2001',periods=80,freq='Q')\n",
        "df['time_stamp'] = pd.DataFrame(time)\n",
        "df.drop(['Texas - electric power (total coal consumption) - quarterly '],axis=1,inplace=True)\n",
        "df = df.set_index('time_stamp')"
      ]
    },
    {
      "cell_type": "code",
      "execution_count": null,
      "id": "S0kNKRMAocKq",
      "metadata": {
        "colab": {
          "base_uri": "https://localhost:8080/"
        },
        "id": "S0kNKRMAocKq",
        "outputId": "6590d992-9a95-40e8-9888-c7a2702cd9c9"
      },
      "outputs": [
        {
          "data": {
            "text/plain": [
              "80"
            ]
          },
          "execution_count": 91,
          "metadata": {},
          "output_type": "execute_result"
        }
      ],
      "source": [
        "len(time)"
      ]
    },
    {
      "cell_type": "code",
      "execution_count": 38,
      "id": "l2lJFzqS9KGB",
      "metadata": {
        "id": "l2lJFzqS9KGB"
      },
      "outputs": [],
      "source": [
        "df.columns = ['short_tons']"
      ]
    },
    {
      "cell_type": "code",
      "execution_count": null,
      "id": "522f2b8e",
      "metadata": {
        "colab": {
          "base_uri": "https://localhost:8080/",
          "height": 238
        },
        "id": "522f2b8e",
        "outputId": "dcf35bc7-177b-4fa3-d198-a9e8f2daee5b"
      },
      "outputs": [
        {
          "data": {
            "text/html": [
              "\n",
              "  <div id=\"df-46f1cc7a-78c7-4337-924f-69b0041bd892\">\n",
              "    <div class=\"colab-df-container\">\n",
              "      <div>\n",
              "<style scoped>\n",
              "    .dataframe tbody tr th:only-of-type {\n",
              "        vertical-align: middle;\n",
              "    }\n",
              "\n",
              "    .dataframe tbody tr th {\n",
              "        vertical-align: top;\n",
              "    }\n",
              "\n",
              "    .dataframe thead th {\n",
              "        text-align: right;\n",
              "    }\n",
              "</style>\n",
              "<table border=\"1\" class=\"dataframe\">\n",
              "  <thead>\n",
              "    <tr style=\"text-align: right;\">\n",
              "      <th></th>\n",
              "      <th>short_tons</th>\n",
              "    </tr>\n",
              "    <tr>\n",
              "      <th>time_stamp</th>\n",
              "      <th></th>\n",
              "    </tr>\n",
              "  </thead>\n",
              "  <tbody>\n",
              "    <tr>\n",
              "      <th>2001-03-31</th>\n",
              "      <td>22164839</td>\n",
              "    </tr>\n",
              "    <tr>\n",
              "      <th>2001-06-30</th>\n",
              "      <td>22952510</td>\n",
              "    </tr>\n",
              "    <tr>\n",
              "      <th>2001-09-30</th>\n",
              "      <td>25962808</td>\n",
              "    </tr>\n",
              "    <tr>\n",
              "      <th>2001-12-31</th>\n",
              "      <td>21357650</td>\n",
              "    </tr>\n",
              "    <tr>\n",
              "      <th>2002-03-31</th>\n",
              "      <td>21917084</td>\n",
              "    </tr>\n",
              "  </tbody>\n",
              "</table>\n",
              "</div>\n",
              "      <button class=\"colab-df-convert\" onclick=\"convertToInteractive('df-46f1cc7a-78c7-4337-924f-69b0041bd892')\"\n",
              "              title=\"Convert this dataframe to an interactive table.\"\n",
              "              style=\"display:none;\">\n",
              "        \n",
              "  <svg xmlns=\"http://www.w3.org/2000/svg\" height=\"24px\"viewBox=\"0 0 24 24\"\n",
              "       width=\"24px\">\n",
              "    <path d=\"M0 0h24v24H0V0z\" fill=\"none\"/>\n",
              "    <path d=\"M18.56 5.44l.94 2.06.94-2.06 2.06-.94-2.06-.94-.94-2.06-.94 2.06-2.06.94zm-11 1L8.5 8.5l.94-2.06 2.06-.94-2.06-.94L8.5 2.5l-.94 2.06-2.06.94zm10 10l.94 2.06.94-2.06 2.06-.94-2.06-.94-.94-2.06-.94 2.06-2.06.94z\"/><path d=\"M17.41 7.96l-1.37-1.37c-.4-.4-.92-.59-1.43-.59-.52 0-1.04.2-1.43.59L10.3 9.45l-7.72 7.72c-.78.78-.78 2.05 0 2.83L4 21.41c.39.39.9.59 1.41.59.51 0 1.02-.2 1.41-.59l7.78-7.78 2.81-2.81c.8-.78.8-2.07 0-2.86zM5.41 20L4 18.59l7.72-7.72 1.47 1.35L5.41 20z\"/>\n",
              "  </svg>\n",
              "      </button>\n",
              "      \n",
              "  <style>\n",
              "    .colab-df-container {\n",
              "      display:flex;\n",
              "      flex-wrap:wrap;\n",
              "      gap: 12px;\n",
              "    }\n",
              "\n",
              "    .colab-df-convert {\n",
              "      background-color: #E8F0FE;\n",
              "      border: none;\n",
              "      border-radius: 50%;\n",
              "      cursor: pointer;\n",
              "      display: none;\n",
              "      fill: #1967D2;\n",
              "      height: 32px;\n",
              "      padding: 0 0 0 0;\n",
              "      width: 32px;\n",
              "    }\n",
              "\n",
              "    .colab-df-convert:hover {\n",
              "      background-color: #E2EBFA;\n",
              "      box-shadow: 0px 1px 2px rgba(60, 64, 67, 0.3), 0px 1px 3px 1px rgba(60, 64, 67, 0.15);\n",
              "      fill: #174EA6;\n",
              "    }\n",
              "\n",
              "    [theme=dark] .colab-df-convert {\n",
              "      background-color: #3B4455;\n",
              "      fill: #D2E3FC;\n",
              "    }\n",
              "\n",
              "    [theme=dark] .colab-df-convert:hover {\n",
              "      background-color: #434B5C;\n",
              "      box-shadow: 0px 1px 3px 1px rgba(0, 0, 0, 0.15);\n",
              "      filter: drop-shadow(0px 1px 2px rgba(0, 0, 0, 0.3));\n",
              "      fill: #FFFFFF;\n",
              "    }\n",
              "  </style>\n",
              "\n",
              "      <script>\n",
              "        const buttonEl =\n",
              "          document.querySelector('#df-46f1cc7a-78c7-4337-924f-69b0041bd892 button.colab-df-convert');\n",
              "        buttonEl.style.display =\n",
              "          google.colab.kernel.accessAllowed ? 'block' : 'none';\n",
              "\n",
              "        async function convertToInteractive(key) {\n",
              "          const element = document.querySelector('#df-46f1cc7a-78c7-4337-924f-69b0041bd892');\n",
              "          const dataTable =\n",
              "            await google.colab.kernel.invokeFunction('convertToInteractive',\n",
              "                                                     [key], {});\n",
              "          if (!dataTable) return;\n",
              "\n",
              "          const docLinkHtml = 'Like what you see? Visit the ' +\n",
              "            '<a target=\"_blank\" href=https://colab.research.google.com/notebooks/data_table.ipynb>data table notebook</a>'\n",
              "            + ' to learn more about interactive tables.';\n",
              "          element.innerHTML = '';\n",
              "          dataTable['output_type'] = 'display_data';\n",
              "          await google.colab.output.renderOutput(dataTable, element);\n",
              "          const docLink = document.createElement('div');\n",
              "          docLink.innerHTML = docLinkHtml;\n",
              "          element.appendChild(docLink);\n",
              "        }\n",
              "      </script>\n",
              "    </div>\n",
              "  </div>\n",
              "  "
            ],
            "text/plain": [
              "            short_tons\n",
              "time_stamp            \n",
              "2001-03-31    22164839\n",
              "2001-06-30    22952510\n",
              "2001-09-30    25962808\n",
              "2001-12-31    21357650\n",
              "2002-03-31    21917084"
            ]
          },
          "execution_count": 93,
          "metadata": {},
          "output_type": "execute_result"
        }
      ],
      "source": [
        "df.head()"
      ]
    },
    {
      "cell_type": "code",
      "execution_count": null,
      "id": "e393d64a",
      "metadata": {
        "colab": {
          "base_uri": "https://localhost:8080/",
          "height": 238
        },
        "id": "e393d64a",
        "outputId": "04615a2f-93a4-475a-99bf-8cba1962ebc5"
      },
      "outputs": [
        {
          "data": {
            "text/html": [
              "\n",
              "  <div id=\"df-7ada8193-f2ac-49dc-97c1-1cc0f510b486\">\n",
              "    <div class=\"colab-df-container\">\n",
              "      <div>\n",
              "<style scoped>\n",
              "    .dataframe tbody tr th:only-of-type {\n",
              "        vertical-align: middle;\n",
              "    }\n",
              "\n",
              "    .dataframe tbody tr th {\n",
              "        vertical-align: top;\n",
              "    }\n",
              "\n",
              "    .dataframe thead th {\n",
              "        text-align: right;\n",
              "    }\n",
              "</style>\n",
              "<table border=\"1\" class=\"dataframe\">\n",
              "  <thead>\n",
              "    <tr style=\"text-align: right;\">\n",
              "      <th></th>\n",
              "      <th>short_tons</th>\n",
              "    </tr>\n",
              "    <tr>\n",
              "      <th>time_stamp</th>\n",
              "      <th></th>\n",
              "    </tr>\n",
              "  </thead>\n",
              "  <tbody>\n",
              "    <tr>\n",
              "      <th>2019-12-31</th>\n",
              "      <td>13866538</td>\n",
              "    </tr>\n",
              "    <tr>\n",
              "      <th>2020-03-31</th>\n",
              "      <td>11029285</td>\n",
              "    </tr>\n",
              "    <tr>\n",
              "      <th>2020-06-30</th>\n",
              "      <td>12950538</td>\n",
              "    </tr>\n",
              "    <tr>\n",
              "      <th>2020-09-30</th>\n",
              "      <td>17219614</td>\n",
              "    </tr>\n",
              "    <tr>\n",
              "      <th>2020-12-31</th>\n",
              "      <td>14869537</td>\n",
              "    </tr>\n",
              "  </tbody>\n",
              "</table>\n",
              "</div>\n",
              "      <button class=\"colab-df-convert\" onclick=\"convertToInteractive('df-7ada8193-f2ac-49dc-97c1-1cc0f510b486')\"\n",
              "              title=\"Convert this dataframe to an interactive table.\"\n",
              "              style=\"display:none;\">\n",
              "        \n",
              "  <svg xmlns=\"http://www.w3.org/2000/svg\" height=\"24px\"viewBox=\"0 0 24 24\"\n",
              "       width=\"24px\">\n",
              "    <path d=\"M0 0h24v24H0V0z\" fill=\"none\"/>\n",
              "    <path d=\"M18.56 5.44l.94 2.06.94-2.06 2.06-.94-2.06-.94-.94-2.06-.94 2.06-2.06.94zm-11 1L8.5 8.5l.94-2.06 2.06-.94-2.06-.94L8.5 2.5l-.94 2.06-2.06.94zm10 10l.94 2.06.94-2.06 2.06-.94-2.06-.94-.94-2.06-.94 2.06-2.06.94z\"/><path d=\"M17.41 7.96l-1.37-1.37c-.4-.4-.92-.59-1.43-.59-.52 0-1.04.2-1.43.59L10.3 9.45l-7.72 7.72c-.78.78-.78 2.05 0 2.83L4 21.41c.39.39.9.59 1.41.59.51 0 1.02-.2 1.41-.59l7.78-7.78 2.81-2.81c.8-.78.8-2.07 0-2.86zM5.41 20L4 18.59l7.72-7.72 1.47 1.35L5.41 20z\"/>\n",
              "  </svg>\n",
              "      </button>\n",
              "      \n",
              "  <style>\n",
              "    .colab-df-container {\n",
              "      display:flex;\n",
              "      flex-wrap:wrap;\n",
              "      gap: 12px;\n",
              "    }\n",
              "\n",
              "    .colab-df-convert {\n",
              "      background-color: #E8F0FE;\n",
              "      border: none;\n",
              "      border-radius: 50%;\n",
              "      cursor: pointer;\n",
              "      display: none;\n",
              "      fill: #1967D2;\n",
              "      height: 32px;\n",
              "      padding: 0 0 0 0;\n",
              "      width: 32px;\n",
              "    }\n",
              "\n",
              "    .colab-df-convert:hover {\n",
              "      background-color: #E2EBFA;\n",
              "      box-shadow: 0px 1px 2px rgba(60, 64, 67, 0.3), 0px 1px 3px 1px rgba(60, 64, 67, 0.15);\n",
              "      fill: #174EA6;\n",
              "    }\n",
              "\n",
              "    [theme=dark] .colab-df-convert {\n",
              "      background-color: #3B4455;\n",
              "      fill: #D2E3FC;\n",
              "    }\n",
              "\n",
              "    [theme=dark] .colab-df-convert:hover {\n",
              "      background-color: #434B5C;\n",
              "      box-shadow: 0px 1px 3px 1px rgba(0, 0, 0, 0.15);\n",
              "      filter: drop-shadow(0px 1px 2px rgba(0, 0, 0, 0.3));\n",
              "      fill: #FFFFFF;\n",
              "    }\n",
              "  </style>\n",
              "\n",
              "      <script>\n",
              "        const buttonEl =\n",
              "          document.querySelector('#df-7ada8193-f2ac-49dc-97c1-1cc0f510b486 button.colab-df-convert');\n",
              "        buttonEl.style.display =\n",
              "          google.colab.kernel.accessAllowed ? 'block' : 'none';\n",
              "\n",
              "        async function convertToInteractive(key) {\n",
              "          const element = document.querySelector('#df-7ada8193-f2ac-49dc-97c1-1cc0f510b486');\n",
              "          const dataTable =\n",
              "            await google.colab.kernel.invokeFunction('convertToInteractive',\n",
              "                                                     [key], {});\n",
              "          if (!dataTable) return;\n",
              "\n",
              "          const docLinkHtml = 'Like what you see? Visit the ' +\n",
              "            '<a target=\"_blank\" href=https://colab.research.google.com/notebooks/data_table.ipynb>data table notebook</a>'\n",
              "            + ' to learn more about interactive tables.';\n",
              "          element.innerHTML = '';\n",
              "          dataTable['output_type'] = 'display_data';\n",
              "          await google.colab.output.renderOutput(dataTable, element);\n",
              "          const docLink = document.createElement('div');\n",
              "          docLink.innerHTML = docLinkHtml;\n",
              "          element.appendChild(docLink);\n",
              "        }\n",
              "      </script>\n",
              "    </div>\n",
              "  </div>\n",
              "  "
            ],
            "text/plain": [
              "            short_tons\n",
              "time_stamp            \n",
              "2019-12-31    13866538\n",
              "2020-03-31    11029285\n",
              "2020-06-30    12950538\n",
              "2020-09-30    17219614\n",
              "2020-12-31    14869537"
            ]
          },
          "execution_count": 94,
          "metadata": {},
          "output_type": "execute_result"
        }
      ],
      "source": [
        "df.tail()"
      ]
    },
    {
      "cell_type": "code",
      "execution_count": null,
      "id": "bb3a660d",
      "metadata": {
        "colab": {
          "base_uri": "https://localhost:8080/",
          "height": 455
        },
        "id": "bb3a660d",
        "outputId": "0ba1a772-9ec2-464b-89c8-ff332bee961d"
      },
      "outputs": [
        {
          "data": {
            "text/html": [
              "\n",
              "  <div id=\"df-b973dc07-6365-4cdc-8ba1-1c1b6a313fbb\">\n",
              "    <div class=\"colab-df-container\">\n",
              "      <div>\n",
              "<style scoped>\n",
              "    .dataframe tbody tr th:only-of-type {\n",
              "        vertical-align: middle;\n",
              "    }\n",
              "\n",
              "    .dataframe tbody tr th {\n",
              "        vertical-align: top;\n",
              "    }\n",
              "\n",
              "    .dataframe thead th {\n",
              "        text-align: right;\n",
              "    }\n",
              "</style>\n",
              "<table border=\"1\" class=\"dataframe\">\n",
              "  <thead>\n",
              "    <tr style=\"text-align: right;\">\n",
              "      <th></th>\n",
              "      <th>short_tons</th>\n",
              "    </tr>\n",
              "    <tr>\n",
              "      <th>time_stamp</th>\n",
              "      <th></th>\n",
              "    </tr>\n",
              "  </thead>\n",
              "  <tbody>\n",
              "    <tr>\n",
              "      <th>2001-03-31</th>\n",
              "      <td>22164839</td>\n",
              "    </tr>\n",
              "    <tr>\n",
              "      <th>2001-06-30</th>\n",
              "      <td>22952510</td>\n",
              "    </tr>\n",
              "    <tr>\n",
              "      <th>2001-09-30</th>\n",
              "      <td>25962808</td>\n",
              "    </tr>\n",
              "    <tr>\n",
              "      <th>2001-12-31</th>\n",
              "      <td>21357650</td>\n",
              "    </tr>\n",
              "    <tr>\n",
              "      <th>2002-03-31</th>\n",
              "      <td>21917084</td>\n",
              "    </tr>\n",
              "    <tr>\n",
              "      <th>...</th>\n",
              "      <td>...</td>\n",
              "    </tr>\n",
              "    <tr>\n",
              "      <th>2019-12-31</th>\n",
              "      <td>13866538</td>\n",
              "    </tr>\n",
              "    <tr>\n",
              "      <th>2020-03-31</th>\n",
              "      <td>11029285</td>\n",
              "    </tr>\n",
              "    <tr>\n",
              "      <th>2020-06-30</th>\n",
              "      <td>12950538</td>\n",
              "    </tr>\n",
              "    <tr>\n",
              "      <th>2020-09-30</th>\n",
              "      <td>17219614</td>\n",
              "    </tr>\n",
              "    <tr>\n",
              "      <th>2020-12-31</th>\n",
              "      <td>14869537</td>\n",
              "    </tr>\n",
              "  </tbody>\n",
              "</table>\n",
              "<p>80 rows × 1 columns</p>\n",
              "</div>\n",
              "      <button class=\"colab-df-convert\" onclick=\"convertToInteractive('df-b973dc07-6365-4cdc-8ba1-1c1b6a313fbb')\"\n",
              "              title=\"Convert this dataframe to an interactive table.\"\n",
              "              style=\"display:none;\">\n",
              "        \n",
              "  <svg xmlns=\"http://www.w3.org/2000/svg\" height=\"24px\"viewBox=\"0 0 24 24\"\n",
              "       width=\"24px\">\n",
              "    <path d=\"M0 0h24v24H0V0z\" fill=\"none\"/>\n",
              "    <path d=\"M18.56 5.44l.94 2.06.94-2.06 2.06-.94-2.06-.94-.94-2.06-.94 2.06-2.06.94zm-11 1L8.5 8.5l.94-2.06 2.06-.94-2.06-.94L8.5 2.5l-.94 2.06-2.06.94zm10 10l.94 2.06.94-2.06 2.06-.94-2.06-.94-.94-2.06-.94 2.06-2.06.94z\"/><path d=\"M17.41 7.96l-1.37-1.37c-.4-.4-.92-.59-1.43-.59-.52 0-1.04.2-1.43.59L10.3 9.45l-7.72 7.72c-.78.78-.78 2.05 0 2.83L4 21.41c.39.39.9.59 1.41.59.51 0 1.02-.2 1.41-.59l7.78-7.78 2.81-2.81c.8-.78.8-2.07 0-2.86zM5.41 20L4 18.59l7.72-7.72 1.47 1.35L5.41 20z\"/>\n",
              "  </svg>\n",
              "      </button>\n",
              "      \n",
              "  <style>\n",
              "    .colab-df-container {\n",
              "      display:flex;\n",
              "      flex-wrap:wrap;\n",
              "      gap: 12px;\n",
              "    }\n",
              "\n",
              "    .colab-df-convert {\n",
              "      background-color: #E8F0FE;\n",
              "      border: none;\n",
              "      border-radius: 50%;\n",
              "      cursor: pointer;\n",
              "      display: none;\n",
              "      fill: #1967D2;\n",
              "      height: 32px;\n",
              "      padding: 0 0 0 0;\n",
              "      width: 32px;\n",
              "    }\n",
              "\n",
              "    .colab-df-convert:hover {\n",
              "      background-color: #E2EBFA;\n",
              "      box-shadow: 0px 1px 2px rgba(60, 64, 67, 0.3), 0px 1px 3px 1px rgba(60, 64, 67, 0.15);\n",
              "      fill: #174EA6;\n",
              "    }\n",
              "\n",
              "    [theme=dark] .colab-df-convert {\n",
              "      background-color: #3B4455;\n",
              "      fill: #D2E3FC;\n",
              "    }\n",
              "\n",
              "    [theme=dark] .colab-df-convert:hover {\n",
              "      background-color: #434B5C;\n",
              "      box-shadow: 0px 1px 3px 1px rgba(0, 0, 0, 0.15);\n",
              "      filter: drop-shadow(0px 1px 2px rgba(0, 0, 0, 0.3));\n",
              "      fill: #FFFFFF;\n",
              "    }\n",
              "  </style>\n",
              "\n",
              "      <script>\n",
              "        const buttonEl =\n",
              "          document.querySelector('#df-b973dc07-6365-4cdc-8ba1-1c1b6a313fbb button.colab-df-convert');\n",
              "        buttonEl.style.display =\n",
              "          google.colab.kernel.accessAllowed ? 'block' : 'none';\n",
              "\n",
              "        async function convertToInteractive(key) {\n",
              "          const element = document.querySelector('#df-b973dc07-6365-4cdc-8ba1-1c1b6a313fbb');\n",
              "          const dataTable =\n",
              "            await google.colab.kernel.invokeFunction('convertToInteractive',\n",
              "                                                     [key], {});\n",
              "          if (!dataTable) return;\n",
              "\n",
              "          const docLinkHtml = 'Like what you see? Visit the ' +\n",
              "            '<a target=\"_blank\" href=https://colab.research.google.com/notebooks/data_table.ipynb>data table notebook</a>'\n",
              "            + ' to learn more about interactive tables.';\n",
              "          element.innerHTML = '';\n",
              "          dataTable['output_type'] = 'display_data';\n",
              "          await google.colab.output.renderOutput(dataTable, element);\n",
              "          const docLink = document.createElement('div');\n",
              "          docLink.innerHTML = docLinkHtml;\n",
              "          element.appendChild(docLink);\n",
              "        }\n",
              "      </script>\n",
              "    </div>\n",
              "  </div>\n",
              "  "
            ],
            "text/plain": [
              "            short_tons\n",
              "time_stamp            \n",
              "2001-03-31    22164839\n",
              "2001-06-30    22952510\n",
              "2001-09-30    25962808\n",
              "2001-12-31    21357650\n",
              "2002-03-31    21917084\n",
              "...                ...\n",
              "2019-12-31    13866538\n",
              "2020-03-31    11029285\n",
              "2020-06-30    12950538\n",
              "2020-09-30    17219614\n",
              "2020-12-31    14869537\n",
              "\n",
              "[80 rows x 1 columns]"
            ]
          },
          "execution_count": 95,
          "metadata": {},
          "output_type": "execute_result"
        }
      ],
      "source": [
        "df"
      ]
    },
    {
      "cell_type": "code",
      "execution_count": 39,
      "id": "bQk15MFgouDq",
      "metadata": {
        "id": "bQk15MFgouDq"
      },
      "outputs": [],
      "source": [
        "plt.rcParams['figure.figsize'] = [15,8]"
      ]
    },
    {
      "cell_type": "code",
      "execution_count": null,
      "id": "3b098ae2",
      "metadata": {
        "colab": {
          "base_uri": "https://localhost:8080/",
          "height": 523
        },
        "id": "3b098ae2",
        "outputId": "3fd67059-c39d-4cbe-a070-721b6eff1b42"
      },
      "outputs": [
        {
          "output_type": "display_data",
          "data": {
            "text/plain": [
              "<Figure size 1080x576 with 1 Axes>"
            ],
            "image/png": "[encoded data removed]"
          },
          "metadata": {
            "needs_background": "light"
          }
        }
      ],
      "source": [
        "plt.plot(df,color='blue')\n",
        "plt.title('Texas Electricity Consumption',fontsize=20)\n",
        "plt.xlabel('Date',fontsize=15)\n",
        "plt.ylabel('Units',fontsize=15)\n",
        "plt.show()"
      ]
    },
    {
      "cell_type": "code",
      "execution_count": 40,
      "id": "bf59d3e0",
      "metadata": {
        "id": "bf59d3e0"
      },
      "outputs": [],
      "source": [
        "def convert2matrix(data_arr, look_back):\n",
        "    X, Y =[], []\n",
        "    for i in range(len(data_arr)-look_back):\n",
        "        d=i+look_back  \n",
        "        X.append(data_arr[i:d,])\n",
        "        Y.append(data_arr[d,])\n",
        "    return np.array(X), np.array(Y)"
      ]
    },
    {
      "cell_type": "code",
      "execution_count": 41,
      "id": "UnHh7bSF86Sy",
      "metadata": {
        "id": "UnHh7bSF86Sy"
      },
      "outputs": [],
      "source": [
        "from sklearn.preprocessing import MinMaxScaler\n",
        "#create numpy.ndarray \n",
        "df['short_tons'] = df['short_tons'].astype(np.float32)\n",
        "df_arr = df.values\n",
        "df_arr = np.reshape(df_arr, (-1, 1)) #LTSM requires more input features compared to RNN or DNN\n",
        "scaler = MinMaxScaler(feature_range=(0.1, 1))#LTSM is senstive to the scale of features\n",
        "df_arr = scaler.fit_transform(df_arr)"
      ]
    },
    {
      "cell_type": "code",
      "execution_count": 42,
      "id": "1cea6c5f",
      "metadata": {
        "id": "1cea6c5f"
      },
      "outputs": [],
      "source": [
        "train_size = 67\n",
        "train, test = df.values[0:train_size,:], df.values[train_size:len(df.values),:]\n",
        "look_back = 5\n",
        "trainX, trainY = convert2matrix(train, look_back)\n",
        "testX, testY = convert2matrix(test, look_back)\n",
        "# reshape input to be [samples, time steps, features]\n",
        "trainX = np.reshape(trainX, (trainX.shape[0], 1, trainX.shape[1]))\n",
        "testX = np.reshape(testX, (testX.shape[0], 1, testX.shape[1]))"
      ]
    },
    {
      "cell_type": "code",
      "execution_count": null,
      "id": "c7d46c39",
      "metadata": {
        "colab": {
          "base_uri": "https://localhost:8080/"
        },
        "id": "c7d46c39",
        "outputId": "197ca32c-5ea0-401a-cb73-a5680e76e0aa"
      },
      "outputs": [
        {
          "output_type": "stream",
          "name": "stdout",
          "text": [
            "(62, 1, 5)\n",
            "(62, 1)\n",
            "(8, 1, 5)\n",
            "(8, 1)\n"
          ]
        }
      ],
      "source": [
        "print(trainX.shape)\n",
        "print(trainY.shape)\n",
        "print(testX.shape)\n",
        "print(testY.shape)"
      ]
    },
    {
      "cell_type": "code",
      "execution_count": 43,
      "id": "GIc1nRcCuP3G",
      "metadata": {
        "id": "GIc1nRcCuP3G"
      },
      "outputs": [],
      "source": [
        "!pip install -q -U keras-tuner"
      ]
    },
    {
      "cell_type": "code",
      "execution_count": 44,
      "id": "M5te5ih0uP6u",
      "metadata": {
        "id": "M5te5ih0uP6u"
      },
      "outputs": [],
      "source": [
        "import pandas as pd\n",
        "from tensorflow import keras\n",
        "from tensorflow.keras import layers\n",
        "from keras_tuner.tuners import RandomSearch\n",
        "from tensorflow.keras.models import Sequential\n",
        "from tensorflow.keras.layers import LSTM\n",
        "from tensorflow.keras.layers import Dense,Dropout\n",
        "from tensorflow.keras.layers import Flatten\n",
        "import matplotlib.pyplot as plt"
      ]
    },
    {
      "cell_type": "code",
      "execution_count": null,
      "id": "rYiJC5hXuP_e",
      "metadata": {
        "id": "rYiJC5hXuP_e"
      },
      "outputs": [],
      "source": [
        "def build_model(hp):\n",
        "    model = keras.Sequential()\n",
        "    model.add(LSTM(hp.Int('first_lstm_layer',min_value=8,max_value=128,step=8), activation=\"relu\",return_sequences=True, input_shape=(1,look_back),recurrent_dropout = hp.Choice(\"first_recurrent_dropout\",[0.2,0.4,0.6],default=0.4)))\n",
        "    model.add(LSTM(hp.Int('final_lstm_layer',min_value=8,max_value=128,step=8),activation=\"relu\",recurrent_dropout = hp.Choice(\"last_recurrent_dropout\",[0.2,0.4,0.6],default=0.4) ))\n",
        "    model.add(Dense(hp.Int('dense_layer_1',min_value=8,max_value=128,step=8),activation=\"relu\"))\n",
        "    model.add(Dropout(hp.Float('Dropout_rate',min_value=0,max_value=0.5,step=0.1)))\n",
        "    model.add(layers.Dense(1, activation='linear'))\n",
        "    model.compile(\n",
        "        optimizer=keras.optimizers.Adam(\n",
        "             hp.Float('learning_rate', min_value=1e-4, max_value=1e-1, sampling=\"log\")),\n",
        "        loss='mape',\n",
        "        metrics=['mape'])\n",
        "    return model"
      ]
    },
    {
      "cell_type": "code",
      "execution_count": null,
      "id": "2h_gRerjuQCT",
      "metadata": {
        "id": "2h_gRerjuQCT"
      },
      "outputs": [],
      "source": [
        "tuner = RandomSearch(\n",
        "    build_model,\n",
        "    objective='val_mape',\n",
        "    max_trials=20,\n",
        "    executions_per_trial=2,\n",
        "    directory='project',\n",
        "    project_name='texas_consum_2')"
      ]
    },
    {
      "cell_type": "code",
      "execution_count": null,
      "id": "Dg5AHN3guQFu",
      "metadata": {
        "colab": {
          "base_uri": "https://localhost:8080/"
        },
        "id": "Dg5AHN3guQFu",
        "outputId": "604680cd-68cb-4e19-f0f1-24cd23bdddfa"
      },
      "outputs": [
        {
          "name": "stdout",
          "output_type": "stream",
          "text": [
            "Search space summary\n",
            "Default search space size: 7\n",
            "first_lstm_layer (Int)\n",
            "{'default': None, 'conditions': [], 'min_value': 8, 'max_value': 128, 'step': 8, 'sampling': None}\n",
            "first_recurrent_dropout (Choice)\n",
            "{'default': 0.4, 'conditions': [], 'values': [0.2, 0.4, 0.6], 'ordered': True}\n",
            "final_lstm_layer (Int)\n",
            "{'default': None, 'conditions': [], 'min_value': 8, 'max_value': 128, 'step': 8, 'sampling': None}\n",
            "last_recurrent_dropout (Choice)\n",
            "{'default': 0.4, 'conditions': [], 'values': [0.2, 0.4, 0.6], 'ordered': True}\n",
            "dense_layer_1 (Int)\n",
            "{'default': None, 'conditions': [], 'min_value': 8, 'max_value': 128, 'step': 8, 'sampling': None}\n",
            "Dropout_rate (Float)\n",
            "{'default': 0.0, 'conditions': [], 'min_value': 0.0, 'max_value': 0.5, 'step': 0.1, 'sampling': None}\n",
            "learning_rate (Float)\n",
            "{'default': 0.0001, 'conditions': [], 'min_value': 0.0001, 'max_value': 0.1, 'step': None, 'sampling': 'log'}\n"
          ]
        }
      ],
      "source": [
        "tuner.search_space_summary()"
      ]
    },
    {
      "cell_type": "code",
      "execution_count": null,
      "id": "TiBXdF0K8Gpr",
      "metadata": {
        "colab": {
          "base_uri": "https://localhost:8080/"
        },
        "id": "TiBXdF0K8Gpr",
        "outputId": "8f55b175-f9ae-455f-b93a-1d89a6826786"
      },
      "outputs": [
        {
          "name": "stdout",
          "output_type": "stream",
          "text": [
            "Trial 20 Complete [00h 00m 47s]\n",
            "val_mape: 160.58621215820312\n",
            "\n",
            "Best val_mape So Far: 35.21929740905762\n",
            "Total elapsed time: 00h 13m 17s\n",
            "INFO:tensorflow:Oracle triggered exit\n"
          ]
        }
      ],
      "source": [
        "tuner.search(trainX, trainY,\n",
        "             epochs=200,\n",
        "             batch_size=8,\n",
        "             validation_data=(testX, testY))"
      ]
    },
    {
      "cell_type": "code",
      "execution_count": null,
      "id": "VXXGH_RK8GsD",
      "metadata": {
        "colab": {
          "base_uri": "https://localhost:8080/"
        },
        "id": "VXXGH_RK8GsD",
        "outputId": "2537e711-a1e4-41dd-8974-d9f878a5ebf4"
      },
      "outputs": [
        {
          "name": "stdout",
          "output_type": "stream",
          "text": [
            "Results summary\n",
            "Results in project/texas_consum_2\n",
            "Showing 10 best trials\n",
            "Objective(name='val_mape', direction='min')\n",
            "Trial summary\n",
            "Hyperparameters:\n",
            "first_lstm_layer: 64\n",
            "first_recurrent_dropout: 0.2\n",
            "final_lstm_layer: 48\n",
            "last_recurrent_dropout: 0.2\n",
            "dense_layer_1: 8\n",
            "Dropout_rate: 0.1\n",
            "learning_rate: 0.00047899997254004164\n",
            "Score: 35.21929740905762\n",
            "Trial summary\n",
            "Hyperparameters:\n",
            "first_lstm_layer: 64\n",
            "first_recurrent_dropout: 0.2\n",
            "final_lstm_layer: 56\n",
            "last_recurrent_dropout: 0.2\n",
            "dense_layer_1: 32\n",
            "Dropout_rate: 0.4\n",
            "learning_rate: 0.00018858096258871453\n",
            "Score: 35.86772155761719\n",
            "Trial summary\n",
            "Hyperparameters:\n",
            "first_lstm_layer: 24\n",
            "first_recurrent_dropout: 0.4\n",
            "final_lstm_layer: 104\n",
            "last_recurrent_dropout: 0.6\n",
            "dense_layer_1: 16\n",
            "Dropout_rate: 0.2\n",
            "learning_rate: 0.00024346586824137506\n",
            "Score: 36.214134216308594\n",
            "Trial summary\n",
            "Hyperparameters:\n",
            "first_lstm_layer: 80\n",
            "first_recurrent_dropout: 0.2\n",
            "final_lstm_layer: 48\n",
            "last_recurrent_dropout: 0.4\n",
            "dense_layer_1: 80\n",
            "Dropout_rate: 0.30000000000000004\n",
            "learning_rate: 0.0002502205375736849\n",
            "Score: 36.40943145751953\n",
            "Trial summary\n",
            "Hyperparameters:\n",
            "first_lstm_layer: 48\n",
            "first_recurrent_dropout: 0.6\n",
            "final_lstm_layer: 96\n",
            "last_recurrent_dropout: 0.4\n",
            "dense_layer_1: 128\n",
            "Dropout_rate: 0.1\n",
            "learning_rate: 0.00032858073562003453\n",
            "Score: 36.70516395568848\n",
            "Trial summary\n",
            "Hyperparameters:\n",
            "first_lstm_layer: 80\n",
            "first_recurrent_dropout: 0.4\n",
            "final_lstm_layer: 64\n",
            "last_recurrent_dropout: 0.6\n",
            "dense_layer_1: 56\n",
            "Dropout_rate: 0.0\n",
            "learning_rate: 0.0005606709762894581\n",
            "Score: 36.76445770263672\n",
            "Trial summary\n",
            "Hyperparameters:\n",
            "first_lstm_layer: 40\n",
            "first_recurrent_dropout: 0.6\n",
            "final_lstm_layer: 96\n",
            "last_recurrent_dropout: 0.2\n",
            "dense_layer_1: 64\n",
            "Dropout_rate: 0.5\n",
            "learning_rate: 0.000584508105361037\n",
            "Score: 36.782724380493164\n",
            "Trial summary\n",
            "Hyperparameters:\n",
            "first_lstm_layer: 80\n",
            "first_recurrent_dropout: 0.4\n",
            "final_lstm_layer: 56\n",
            "last_recurrent_dropout: 0.2\n",
            "dense_layer_1: 48\n",
            "Dropout_rate: 0.1\n",
            "learning_rate: 0.0008740588547073688\n",
            "Score: 37.13352012634277\n",
            "Trial summary\n",
            "Hyperparameters:\n",
            "first_lstm_layer: 24\n",
            "first_recurrent_dropout: 0.2\n",
            "final_lstm_layer: 40\n",
            "last_recurrent_dropout: 0.2\n",
            "dense_layer_1: 112\n",
            "Dropout_rate: 0.5\n",
            "learning_rate: 0.0006314363630459197\n",
            "Score: 37.40732002258301\n",
            "Trial summary\n",
            "Hyperparameters:\n",
            "first_lstm_layer: 64\n",
            "first_recurrent_dropout: 0.4\n",
            "final_lstm_layer: 56\n",
            "last_recurrent_dropout: 0.4\n",
            "dense_layer_1: 88\n",
            "Dropout_rate: 0.4\n",
            "learning_rate: 0.002046364380351525\n",
            "Score: 38.619619369506836\n"
          ]
        }
      ],
      "source": [
        "tuner.results_summary()"
      ]
    },
    {
      "cell_type": "code",
      "execution_count": null,
      "id": "FBpLenJ_DZMX",
      "metadata": {
        "id": "FBpLenJ_DZMX"
      },
      "outputs": [],
      "source": [
        "from warnings import filterwarnings\n",
        "filterwarnings('ignore')"
      ]
    },
    {
      "cell_type": "code",
      "execution_count": null,
      "id": "eL-a8rAv8Gvg",
      "metadata": {
        "colab": {
          "base_uri": "https://localhost:8080/"
        },
        "id": "eL-a8rAv8Gvg",
        "outputId": "da96913f-d8dc-485b-f7e7-cee0474aa8f0"
      },
      "outputs": [
        {
          "name": "stdout",
          "output_type": "stream",
          "text": [
            "Model: \"sequential\"\n",
            "_________________________________________________________________\n",
            " Layer (type)                Output Shape              Param #   \n",
            "=================================================================\n",
            " lstm (LSTM)                 (None, 1, 64)             17664     \n",
            "                                                                 \n",
            " lstm_1 (LSTM)               (None, 48)                21696     \n",
            "                                                                 \n",
            " dense (Dense)               (None, 8)                 392       \n",
            "                                                                 \n",
            " dropout (Dropout)           (None, 8)                 0         \n",
            "                                                                 \n",
            " dense_1 (Dense)             (None, 1)                 9         \n",
            "                                                                 \n",
            "=================================================================\n",
            "Total params: 39,761\n",
            "Trainable params: 39,761\n",
            "Non-trainable params: 0\n",
            "_________________________________________________________________\n"
          ]
        }
      ],
      "source": [
        "models = tuner.get_best_models(num_models=2)\n",
        "best_model = models[0]\n",
        "# Build the model.\n",
        "# Needed for `Sequential` without specified `input_shape`.\n",
        "best_model.build(input_shape=(None, 4))\n",
        "best_model.summary()"
      ]
    },
    {
      "cell_type": "code",
      "execution_count": null,
      "id": "ovKDjDHZEmLV",
      "metadata": {
        "id": "ovKDjDHZEmLV"
      },
      "outputs": [],
      "source": [
        "from tensorflow.keras import optimizers\n",
        "from tensorflow.keras.layers import Bidirectional"
      ]
    },
    {
      "cell_type": "code",
      "execution_count": 81,
      "id": "0e187ddc",
      "metadata": {
        "colab": {
          "base_uri": "https://localhost:8080/"
        },
        "id": "0e187ddc",
        "outputId": "627a5d6c-ec7d-40e7-cb06-de08d96f6da3"
      },
      "outputs": [
        {
          "output_type": "stream",
          "name": "stdout",
          "text": [
            "Epoch 1/90\n",
            "8/8 [==============================] - 6s 214ms/step - loss: 100.8687 - mape: 100.8687 - val_loss: 101.6728 - val_mape: 101.6728\n",
            "Epoch 2/90\n",
            "8/8 [==============================] - 0s 9ms/step - loss: 100.6003 - mape: 100.6003 - val_loss: 101.3323 - val_mape: 101.3323\n",
            "Epoch 3/90\n",
            "8/8 [==============================] - 0s 9ms/step - loss: 100.3563 - mape: 100.3563 - val_loss: 101.0921 - val_mape: 101.0921\n",
            "Epoch 4/90\n",
            "8/8 [==============================] - 0s 9ms/step - loss: 100.1337 - mape: 100.1337 - val_loss: 100.8707 - val_mape: 100.8707\n",
            "Epoch 5/90\n",
            "8/8 [==============================] - 0s 9ms/step - loss: 99.9398 - mape: 99.9398 - val_loss: 100.6520 - val_mape: 100.6520\n",
            "Epoch 6/90\n",
            "8/8 [==============================] - 0s 9ms/step - loss: 99.7236 - mape: 99.7236 - val_loss: 100.4392 - val_mape: 100.4392\n",
            "Epoch 7/90\n",
            "8/8 [==============================] - 0s 9ms/step - loss: 99.5486 - mape: 99.5486 - val_loss: 100.2271 - val_mape: 100.2271\n",
            "Epoch 8/90\n",
            "8/8 [==============================] - 0s 9ms/step - loss: 99.3593 - mape: 99.3593 - val_loss: 100.0116 - val_mape: 100.0116\n",
            "Epoch 9/90\n",
            "8/8 [==============================] - 0s 9ms/step - loss: 99.1348 - mape: 99.1348 - val_loss: 99.7936 - val_mape: 99.7936\n",
            "Epoch 10/90\n",
            "8/8 [==============================] - 0s 9ms/step - loss: 98.8721 - mape: 98.8721 - val_loss: 99.4704 - val_mape: 99.4704\n",
            "Epoch 11/90\n",
            "8/8 [==============================] - 0s 9ms/step - loss: 98.6108 - mape: 98.6108 - val_loss: 99.5104 - val_mape: 99.5104\n",
            "Epoch 12/90\n",
            "8/8 [==============================] - 0s 13ms/step - loss: 98.3626 - mape: 98.3626 - val_loss: 99.2863 - val_mape: 99.2863\n",
            "Epoch 13/90\n",
            "8/8 [==============================] - 0s 14ms/step - loss: 98.0766 - mape: 98.0766 - val_loss: 99.0426 - val_mape: 99.0426\n",
            "Epoch 14/90\n",
            "8/8 [==============================] - 0s 10ms/step - loss: 97.7761 - mape: 97.7761 - val_loss: 98.6959 - val_mape: 98.6959\n",
            "Epoch 15/90\n",
            "8/8 [==============================] - 0s 13ms/step - loss: 97.3906 - mape: 97.3906 - val_loss: 98.4407 - val_mape: 98.4407\n",
            "Epoch 16/90\n",
            "8/8 [==============================] - 0s 11ms/step - loss: 97.0016 - mape: 97.0016 - val_loss: 98.1028 - val_mape: 98.1028\n",
            "Epoch 17/90\n",
            "8/8 [==============================] - 0s 12ms/step - loss: 96.6422 - mape: 96.6422 - val_loss: 97.7406 - val_mape: 97.7406\n",
            "Epoch 18/90\n",
            "8/8 [==============================] - 0s 11ms/step - loss: 96.0877 - mape: 96.0877 - val_loss: 97.2839 - val_mape: 97.2839\n",
            "Epoch 19/90\n",
            "8/8 [==============================] - 0s 11ms/step - loss: 95.7941 - mape: 95.7941 - val_loss: 96.8729 - val_mape: 96.8729\n",
            "Epoch 20/90\n",
            "8/8 [==============================] - 0s 10ms/step - loss: 95.6047 - mape: 95.6047 - val_loss: 96.4315 - val_mape: 96.4315\n",
            "Epoch 21/90\n",
            "8/8 [==============================] - 0s 12ms/step - loss: 95.1223 - mape: 95.1223 - val_loss: 96.0581 - val_mape: 96.0581\n",
            "Epoch 22/90\n",
            "8/8 [==============================] - 0s 14ms/step - loss: 94.6127 - mape: 94.6127 - val_loss: 95.6647 - val_mape: 95.6647\n",
            "Epoch 23/90\n",
            "8/8 [==============================] - 0s 11ms/step - loss: 94.1262 - mape: 94.1262 - val_loss: 95.2624 - val_mape: 95.2624\n",
            "Epoch 24/90\n",
            "8/8 [==============================] - 0s 11ms/step - loss: 93.5640 - mape: 93.5640 - val_loss: 94.4938 - val_mape: 94.4938\n",
            "Epoch 25/90\n",
            "8/8 [==============================] - 0s 12ms/step - loss: 93.0149 - mape: 93.0149 - val_loss: 93.8626 - val_mape: 93.8626\n",
            "Epoch 26/90\n",
            "8/8 [==============================] - 0s 13ms/step - loss: 92.4291 - mape: 92.4291 - val_loss: 93.3452 - val_mape: 93.3452\n",
            "Epoch 27/90\n",
            "8/8 [==============================] - 0s 12ms/step - loss: 91.8062 - mape: 91.8062 - val_loss: 92.7966 - val_mape: 92.7966\n",
            "Epoch 28/90\n",
            "8/8 [==============================] - 0s 12ms/step - loss: 91.2691 - mape: 91.2691 - val_loss: 92.2310 - val_mape: 92.2310\n",
            "Epoch 29/90\n",
            "8/8 [==============================] - 0s 11ms/step - loss: 90.6685 - mape: 90.6685 - val_loss: 91.6294 - val_mape: 91.6294\n",
            "Epoch 30/90\n",
            "8/8 [==============================] - 0s 11ms/step - loss: 90.0989 - mape: 90.0989 - val_loss: 91.0068 - val_mape: 91.0068\n",
            "Epoch 31/90\n",
            "8/8 [==============================] - 0s 11ms/step - loss: 89.4232 - mape: 89.4232 - val_loss: 90.3796 - val_mape: 90.3796\n",
            "Epoch 32/90\n",
            "8/8 [==============================] - 0s 10ms/step - loss: 88.6876 - mape: 88.6876 - val_loss: 89.6999 - val_mape: 89.6999\n",
            "Epoch 33/90\n",
            "8/8 [==============================] - 0s 9ms/step - loss: 87.9292 - mape: 87.9292 - val_loss: 89.0029 - val_mape: 89.0029\n",
            "Epoch 34/90\n",
            "8/8 [==============================] - 0s 10ms/step - loss: 86.8984 - mape: 86.8984 - val_loss: 88.1985 - val_mape: 88.1985\n",
            "Epoch 35/90\n",
            "8/8 [==============================] - 0s 9ms/step - loss: 85.8654 - mape: 85.8654 - val_loss: 87.4105 - val_mape: 87.4105\n",
            "Epoch 36/90\n",
            "8/8 [==============================] - 0s 10ms/step - loss: 84.9874 - mape: 84.9874 - val_loss: 86.5841 - val_mape: 86.5841\n",
            "Epoch 37/90\n",
            "8/8 [==============================] - 0s 9ms/step - loss: 83.9028 - mape: 83.9028 - val_loss: 85.7227 - val_mape: 85.7227\n",
            "Epoch 38/90\n",
            "8/8 [==============================] - 0s 11ms/step - loss: 82.7902 - mape: 82.7902 - val_loss: 84.7942 - val_mape: 84.7942\n",
            "Epoch 39/90\n",
            "8/8 [==============================] - 0s 9ms/step - loss: 81.8577 - mape: 81.8577 - val_loss: 83.2027 - val_mape: 83.2027\n",
            "Epoch 40/90\n",
            "8/8 [==============================] - 0s 11ms/step - loss: 80.5288 - mape: 80.5288 - val_loss: 82.0469 - val_mape: 82.0469\n",
            "Epoch 41/90\n",
            "8/8 [==============================] - 0s 10ms/step - loss: 78.9658 - mape: 78.9658 - val_loss: 79.7922 - val_mape: 79.7922\n",
            "Epoch 42/90\n",
            "8/8 [==============================] - 0s 9ms/step - loss: 77.2505 - mape: 77.2505 - val_loss: 78.4176 - val_mape: 78.4176\n",
            "Epoch 43/90\n",
            "8/8 [==============================] - 0s 10ms/step - loss: 75.4212 - mape: 75.4212 - val_loss: 76.8323 - val_mape: 76.8323\n",
            "Epoch 44/90\n",
            "8/8 [==============================] - 0s 13ms/step - loss: 73.6387 - mape: 73.6387 - val_loss: 74.0228 - val_mape: 74.0228\n",
            "Epoch 45/90\n",
            "8/8 [==============================] - 0s 11ms/step - loss: 71.7399 - mape: 71.7399 - val_loss: 72.0759 - val_mape: 72.0759\n",
            "Epoch 46/90\n",
            "8/8 [==============================] - 0s 12ms/step - loss: 69.7012 - mape: 69.7012 - val_loss: 69.3693 - val_mape: 69.3693\n",
            "Epoch 47/90\n",
            "8/8 [==============================] - 0s 10ms/step - loss: 67.4721 - mape: 67.4721 - val_loss: 67.0989 - val_mape: 67.0989\n",
            "Epoch 48/90\n",
            "8/8 [==============================] - 0s 10ms/step - loss: 65.1234 - mape: 65.1234 - val_loss: 64.7027 - val_mape: 64.7027\n",
            "Epoch 49/90\n",
            "8/8 [==============================] - 0s 11ms/step - loss: 62.4346 - mape: 62.4346 - val_loss: 62.1657 - val_mape: 62.1657\n",
            "Epoch 50/90\n",
            "8/8 [==============================] - 0s 11ms/step - loss: 60.0555 - mape: 60.0555 - val_loss: 59.5720 - val_mape: 59.5720\n",
            "Epoch 51/90\n",
            "8/8 [==============================] - 0s 12ms/step - loss: 57.4903 - mape: 57.4903 - val_loss: 56.7251 - val_mape: 56.7251\n",
            "Epoch 52/90\n",
            "8/8 [==============================] - 0s 10ms/step - loss: 54.5863 - mape: 54.5863 - val_loss: 53.7179 - val_mape: 53.7179\n",
            "Epoch 53/90\n",
            "8/8 [==============================] - 0s 10ms/step - loss: 51.5442 - mape: 51.5442 - val_loss: 50.5719 - val_mape: 50.5719\n",
            "Epoch 54/90\n",
            "8/8 [==============================] - 0s 12ms/step - loss: 48.4111 - mape: 48.4111 - val_loss: 46.2945 - val_mape: 46.2945\n",
            "Epoch 55/90\n",
            "8/8 [==============================] - 0s 13ms/step - loss: 45.2862 - mape: 45.2862 - val_loss: 43.0311 - val_mape: 43.0311\n",
            "Epoch 56/90\n",
            "8/8 [==============================] - 0s 12ms/step - loss: 41.6859 - mape: 41.6859 - val_loss: 37.5713 - val_mape: 37.5713\n",
            "Epoch 57/90\n",
            "8/8 [==============================] - 0s 13ms/step - loss: 40.0651 - mape: 40.0651 - val_loss: 34.5757 - val_mape: 34.5757\n",
            "Epoch 58/90\n",
            "8/8 [==============================] - 0s 13ms/step - loss: 37.3067 - mape: 37.3067 - val_loss: 30.5233 - val_mape: 30.5233\n",
            "Epoch 59/90\n",
            "8/8 [==============================] - 0s 13ms/step - loss: 34.8232 - mape: 34.8232 - val_loss: 28.8894 - val_mape: 28.8894\n",
            "Epoch 60/90\n",
            "8/8 [==============================] - 0s 12ms/step - loss: 31.8206 - mape: 31.8206 - val_loss: 25.0093 - val_mape: 25.0093\n",
            "Epoch 61/90\n",
            "8/8 [==============================] - 0s 13ms/step - loss: 28.6062 - mape: 28.6062 - val_loss: 22.8334 - val_mape: 22.8334\n",
            "Epoch 62/90\n",
            "8/8 [==============================] - 0s 12ms/step - loss: 26.0488 - mape: 26.0488 - val_loss: 19.5267 - val_mape: 19.5267\n",
            "Epoch 63/90\n",
            "8/8 [==============================] - 0s 12ms/step - loss: 24.2095 - mape: 24.2095 - val_loss: 16.6272 - val_mape: 16.6272\n",
            "Epoch 64/90\n",
            "8/8 [==============================] - 0s 15ms/step - loss: 22.3866 - mape: 22.3866 - val_loss: 14.0455 - val_mape: 14.0455\n",
            "Epoch 65/90\n",
            "8/8 [==============================] - 0s 12ms/step - loss: 18.2927 - mape: 18.2927 - val_loss: 12.1300 - val_mape: 12.1300\n",
            "Epoch 66/90\n",
            "8/8 [==============================] - 0s 12ms/step - loss: 17.4079 - mape: 17.4079 - val_loss: 11.0196 - val_mape: 11.0196\n",
            "Epoch 67/90\n",
            "8/8 [==============================] - 0s 12ms/step - loss: 16.8915 - mape: 16.8915 - val_loss: 12.7702 - val_mape: 12.7702\n",
            "Epoch 68/90\n",
            "8/8 [==============================] - 0s 13ms/step - loss: 15.8701 - mape: 15.8701 - val_loss: 15.1626 - val_mape: 15.1626\n",
            "Epoch 69/90\n",
            "8/8 [==============================] - 0s 12ms/step - loss: 15.3089 - mape: 15.3089 - val_loss: 14.8506 - val_mape: 14.8506\n",
            "Epoch 70/90\n",
            "8/8 [==============================] - 0s 12ms/step - loss: 14.7075 - mape: 14.7075 - val_loss: 14.4374 - val_mape: 14.4374\n",
            "Epoch 71/90\n",
            "8/8 [==============================] - 0s 12ms/step - loss: 13.9237 - mape: 13.9237 - val_loss: 14.1245 - val_mape: 14.1245\n",
            "Epoch 72/90\n",
            "8/8 [==============================] - 0s 12ms/step - loss: 13.2143 - mape: 13.2143 - val_loss: 13.8649 - val_mape: 13.8649\n",
            "Epoch 73/90\n",
            "8/8 [==============================] - 0s 14ms/step - loss: 13.1934 - mape: 13.1934 - val_loss: 15.6516 - val_mape: 15.6516\n",
            "Epoch 74/90\n",
            "8/8 [==============================] - 0s 14ms/step - loss: 13.5945 - mape: 13.5945 - val_loss: 15.5084 - val_mape: 15.5084\n",
            "Epoch 75/90\n",
            "8/8 [==============================] - 0s 12ms/step - loss: 14.6422 - mape: 14.6422 - val_loss: 15.6050 - val_mape: 15.6050\n",
            "Epoch 76/90\n",
            "8/8 [==============================] - 0s 12ms/step - loss: 13.9007 - mape: 13.9007 - val_loss: 16.3210 - val_mape: 16.3210\n",
            "Epoch 77/90\n",
            "8/8 [==============================] - 0s 11ms/step - loss: 13.2068 - mape: 13.2068 - val_loss: 16.1107 - val_mape: 16.1107\n",
            "Epoch 78/90\n",
            "8/8 [==============================] - 0s 12ms/step - loss: 12.8910 - mape: 12.8910 - val_loss: 15.9083 - val_mape: 15.9083\n",
            "Epoch 79/90\n",
            "8/8 [==============================] - 0s 13ms/step - loss: 12.6333 - mape: 12.6333 - val_loss: 14.5648 - val_mape: 14.5648\n",
            "Epoch 80/90\n",
            "8/8 [==============================] - 0s 11ms/step - loss: 12.3779 - mape: 12.3779 - val_loss: 14.3728 - val_mape: 14.3728\n",
            "Epoch 81/90\n",
            "8/8 [==============================] - 0s 13ms/step - loss: 12.0416 - mape: 12.0416 - val_loss: 11.3156 - val_mape: 11.3156\n",
            "Epoch 82/90\n",
            "8/8 [==============================] - 0s 13ms/step - loss: 11.6675 - mape: 11.6675 - val_loss: 11.4930 - val_mape: 11.4930\n",
            "Epoch 83/90\n",
            "8/8 [==============================] - 0s 12ms/step - loss: 11.4819 - mape: 11.4819 - val_loss: 11.6168 - val_mape: 11.6168\n",
            "Epoch 84/90\n",
            "8/8 [==============================] - 0s 13ms/step - loss: 11.1123 - mape: 11.1123 - val_loss: 11.7056 - val_mape: 11.7056\n",
            "Epoch 85/90\n",
            "8/8 [==============================] - 0s 12ms/step - loss: 10.8552 - mape: 10.8552 - val_loss: 11.8368 - val_mape: 11.8368\n",
            "Epoch 86/90\n",
            "8/8 [==============================] - 0s 12ms/step - loss: 10.5596 - mape: 10.5596 - val_loss: 12.0483 - val_mape: 12.0483\n",
            "Epoch 87/90\n",
            "8/8 [==============================] - 0s 12ms/step - loss: 10.2910 - mape: 10.2910 - val_loss: 12.3084 - val_mape: 12.3084\n",
            "Epoch 88/90\n",
            "8/8 [==============================] - 0s 12ms/step - loss: 9.6645 - mape: 9.6645 - val_loss: 12.4856 - val_mape: 12.4856\n",
            "Epoch 89/90\n",
            "8/8 [==============================] - 0s 10ms/step - loss: 9.4830 - mape: 9.4830 - val_loss: 12.8233 - val_mape: 12.8233\n",
            "Epoch 90/90\n",
            "8/8 [==============================] - 0s 12ms/step - loss: 9.2962 - mape: 9.2962 - val_loss: 13.0610 - val_mape: 13.0610\n"
          ]
        }
      ],
      "source": [
        "model = Sequential()\n",
        "model.add(LSTM(100,activation='relu',input_shape=(1,look_back), return_sequences=True,recurrent_dropout=0.1))\n",
        "model.add(LSTM(64,activation='relu',recurrent_dropout=0.1))\n",
        "model.add(Dense(1,activation='linear'))\n",
        "ad=optimizers.Adam(learning_rate=0.0001762967221693925)\n",
        "model.compile(optimizer = ad, loss = 'mape', metrics = ['mape'])\n",
        "model_history=model.fit(trainX, trainY,validation_data=(testX, testY), batch_size = 8, epochs = 90)"
      ]
    },
    {
      "cell_type": "code",
      "execution_count": 82,
      "id": "77c05906",
      "metadata": {
        "id": "77c05906"
      },
      "outputs": [],
      "source": [
        "def model_loss(history):\n",
        "    plt.figure(figsize=(8,4))\n",
        "    plt.plot(history.history['loss'], label='Train Loss')\n",
        "    plt.plot(history.history['val_loss'], label='Test Loss')\n",
        "    plt.title('model loss')\n",
        "    plt.ylabel('loss')\n",
        "    plt.xlabel('epochs')\n",
        "    plt.legend(loc='upper right')\n",
        "    plt.show();"
      ]
    },
    {
      "cell_type": "code",
      "execution_count": 83,
      "id": "45a22c27",
      "metadata": {
        "colab": {
          "base_uri": "https://localhost:8080/",
          "height": 329
        },
        "id": "45a22c27",
        "outputId": "43f27408-1e32-490c-aae7-8fa7c0c4ac3f"
      },
      "outputs": [
        {
          "output_type": "stream",
          "name": "stdout",
          "text": [
            "Train MAPE: 9.172313690185547\n",
            "Test MAPE: 13.060956954956055\n"
          ]
        },
        {
          "output_type": "display_data",
          "data": {
            "text/plain": [
              "<Figure size 576x288 with 1 Axes>"
            ],
            "image/png": "[encoded data removed]"
          },
          "metadata": {
            "needs_background": "light"
          }
        }
      ],
      "source": [
        "train_score = model.evaluate(trainX, trainY, verbose=0)\n",
        "print('Train MAPE:',train_score[1])\n",
        "test_score = model.evaluate(testX, testY, verbose=0)\n",
        "print('Test MAPE:',test_score[1])\n",
        "model_loss(model_history)"
      ]
    },
    {
      "cell_type": "code",
      "execution_count": null,
      "id": "dc942f74",
      "metadata": {
        "id": "dc942f74"
      },
      "outputs": [],
      "source": [
        "import seaborn as sns"
      ]
    },
    {
      "cell_type": "code",
      "execution_count": 58,
      "id": "dee9bab8",
      "metadata": {
        "id": "dee9bab8"
      },
      "outputs": [],
      "source": [
        "def prediction_plot(testY, test_predict):\n",
        "    len_prediction=[x for x in range(62,70)]\n",
        "    plt.figure(figsize=(15,8))\n",
        "    plt.plot(trainY)\n",
        "    plt.plot(len_prediction, testY, marker='.', label=\"actual\")\n",
        "    plt.plot(len_prediction, test_predict, 'g', label=\"prediction\")\n",
        "    plt.tight_layout()\n",
        "    sns.despine(top=True)\n",
        "    plt.subplots_adjust(left=0.07)\n",
        "    plt.ylabel('Sales', size=15)\n",
        "    plt.xlabel('Time step', size=15)\n",
        "    plt.legend(fontsize=15)\n",
        "    plt.show();"
      ]
    },
    {
      "cell_type": "code",
      "execution_count": 84,
      "id": "363040b5",
      "metadata": {
        "colab": {
          "base_uri": "https://localhost:8080/",
          "height": 641
        },
        "id": "363040b5",
        "outputId": "e2d5db04-ca2f-4fbc-f2ac-430e406e545f"
      },
      "outputs": [
        {
          "output_type": "stream",
          "name": "stdout",
          "text": [
            "WARNING:tensorflow:5 out of the last 5 calls to <function Model.make_predict_function.<locals>.predict_function at 0x7fb15394fb00> triggered tf.function retracing. Tracing is expensive and the excessive number of tracings could be due to (1) creating @tf.function repeatedly in a loop, (2) passing tensors with different shapes, (3) passing Python objects instead of tensors. For (1), please define your @tf.function outside of the loop. For (2), @tf.function has experimental_relax_shapes=True option that relaxes argument shapes that can avoid unnecessary retracing. For (3), please refer to https://www.tensorflow.org/guide/function#controlling_retracing and https://www.tensorflow.org/api_docs/python/tf/function for  more details.\n"
          ]
        },
        {
          "output_type": "display_data",
          "data": {
            "text/plain": [
              "<Figure size 1080x576 with 1 Axes>"
            ],
            "image/png": "[encoded data removed]"
          },
          "metadata": {
            "needs_background": "light"
          }
        }
      ],
      "source": [
        "test_predict = model.predict(testX)\n",
        "prediction_plot(testY, test_predict)"
      ]
    },
    {
      "cell_type": "code",
      "execution_count": null,
      "id": "f8a7708c",
      "metadata": {
        "id": "f8a7708c"
      },
      "outputs": [],
      "source": [
        ""
      ]
    }
  ],
  "metadata": {
    "colab": {
      "collapsed_sections": [],
      "name": "Texas_Electric_HPT_LSTM_base_model_version_2.ipynb",
      "provenance": []
    },
    "kernelspec": {
      "display_name": "Python 3",
      "language": "python",
      "name": "python3"
    },
    "language_info": {
      "codemirror_mode": {
        "name": "ipython",
        "version": 3
      },
      "file_extension": ".py",
      "mimetype": "text/x-python",
      "name": "python",
      "nbconvert_exporter": "python",
      "pygments_lexer": "ipython3",
      "version": "3.8.8"
    }
  },
  "nbformat": 4,
  "nbformat_minor": 5
}